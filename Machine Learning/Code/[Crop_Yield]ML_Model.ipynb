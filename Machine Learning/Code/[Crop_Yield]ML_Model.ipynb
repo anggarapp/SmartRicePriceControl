{
  "nbformat": 4,
  "nbformat_minor": 0,
  "metadata": {
    "colab": {
      "name": "[Crop Yield]ML-Model.ipynb",
      "provenance": [],
      "collapsed_sections": [],
      "include_colab_link": true
    },
    "kernelspec": {
      "name": "python3",
      "display_name": "Python 3"
    },
    "language_info": {
      "name": "python"
    }
  },
  "cells": [
    {
      "cell_type": "markdown",
      "metadata": {
        "id": "view-in-github",
        "colab_type": "text"
      },
      "source": [
        "<a href=\"https://colab.research.google.com/github/u1-byte/SmartCropYieldsPrediction/blob/main/Machine%20Learning/Code/%5BCrop_Yield%5DML_Model.ipynb\" target=\"_parent\"><img src=\"https://colab.research.google.com/assets/colab-badge.svg\" alt=\"Open In Colab\"/></a>"
      ]
    },
    {
      "cell_type": "markdown",
      "metadata": {
        "id": "E08FCNdBI07P"
      },
      "source": [
        "MODEL UNTUK MEMPREDIKSI TOTAL PRODUKSI BERAS PADA WILAYAH TERTENTU\n",
        "\n",
        "1.   Input : Suhu, kelembaban, curah hujan, lama penyinaran, luas lahan\n",
        "2.   Output : Total produksi beras\n",
        "3.   Scope Input dan Output :  Data diambail rata rata dalam tiap bulan pada Provinsi Jawa Timur \n",
        "4.   Sumber : https://dataonline.bmkg.go.id/data_iklim,  https://jatim.bps.go.id/publication/2020/12/28/53ad74b4263660ce4adf0ed3/analisis-data-beras-provinsi-jawa-timur-2018-2020.html"
      ]
    },
    {
      "cell_type": "markdown",
      "metadata": {
        "id": "2y1Z_6bfAQ8Q"
      },
      "source": [
        "# New Section"
      ]
    },
    {
      "cell_type": "code",
      "metadata": {
        "id": "HN9u944mIpAP"
      },
      "source": [
        "# Import library yang dibutuhkan\n",
        "import tensorflow as tf\n",
        "from tensorflow import keras\n",
        "import numpy as np\n",
        "import matplotlib.pyplot as plt\n",
        "from google.colab import files\n",
        "import csv\n",
        "from sklearn.preprocessing import MinMaxScaler\n",
        "from sklearn.model_selection import train_test_split"
      ],
      "execution_count": 388,
      "outputs": []
    },
    {
      "cell_type": "code",
      "metadata": {
        "colab": {
          "resources": {
            "http://localhost:8080/nbextensions/google.colab/files.js": {
              "data": "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",
              "ok": true,
              "headers": [
                [
                  "content-type",
                  "application/javascript"
                ]
              ],
              "status": 200,
              "status_text": ""
            }
          },
          "base_uri": "https://localhost:8080/",
          "height": 73
        },
        "id": "dVUkROMVMIsP",
        "outputId": "ef979aa6-5b58-43c9-aabe-6f2148e48567"
      },
      "source": [
        "# Upload file dataset dari lokal\n",
        "uploaded = files.upload()"
      ],
      "execution_count": 357,
      "outputs": [
        {
          "output_type": "display_data",
          "data": {
            "text/html": [
              "\n",
              "     <input type=\"file\" id=\"files-ebc7e272-aabe-4746-9293-63765b2821bd\" name=\"files[]\" multiple disabled\n",
              "        style=\"border:none\" />\n",
              "     <output id=\"result-ebc7e272-aabe-4746-9293-63765b2821bd\">\n",
              "      Upload widget is only available when the cell has been executed in the\n",
              "      current browser session. Please rerun this cell to enable.\n",
              "      </output>\n",
              "      <script src=\"/nbextensions/google.colab/files.js\"></script> "
            ],
            "text/plain": [
              "<IPython.core.display.HTML object>"
            ]
          },
          "metadata": {
            "tags": []
          }
        },
        {
          "output_type": "stream",
          "text": [
            "Saving Database.csv to Database.csv\n"
          ],
          "name": "stdout"
        }
      ]
    },
    {
      "cell_type": "markdown",
      "metadata": {
        "id": "rjFhtFNZMvMA"
      },
      "source": [
        "# **Exploratory Data Analysis**"
      ]
    },
    {
      "cell_type": "code",
      "metadata": {
        "id": "4tz2_31_SI2J"
      },
      "source": [
        "# Input data\n",
        "input_suhu_ratarata = []\n",
        "input_kelembaban_ratarata = []\n",
        "input_curah_hujan = []\n",
        "input_lama_penyinaran = []\n",
        "input_luas_lahan = []\n",
        "number_of_input = []\n",
        "number=1\n",
        "\n",
        "# Baca file.csv\n",
        "with open('/content/Database - Jawa Timur.csv') as csv_file:\n",
        "  csv_reader = csv.reader(csv_file, delimiter=',')\n",
        "  next(csv_reader)\n",
        "  for row in csv_reader:\n",
        "    number_of_input.append(number)\n",
        "    input_suhu_ratarata.append(float(row[3]))\n",
        "    input_kelembaban_ratarata.append(float(row[6]))\n",
        "    input_curah_hujan.append(float(row[7]))\n",
        "    input_lama_penyinaran.append(float(row[8]))\n",
        "    input_luas_lahan.append(float(row[9]))\n",
        "    number+=1"
      ],
      "execution_count": 358,
      "outputs": []
    },
    {
      "cell_type": "code",
      "metadata": {
        "colab": {
          "base_uri": "https://localhost:8080/",
          "height": 1000
        },
        "id": "6N4IM3JzU0UY",
        "outputId": "1fc6b24d-68a5-4d0a-d991-91e44b0c72b6"
      },
      "source": [
        "# Grafik dataset\n",
        "\n",
        "# Grafik garis dari Suhu\n",
        "plt.plot(number_of_input,input_suhu_ratarata,marker='o')\n",
        "plt.title('Suhu (2018 - 2020)')\n",
        "plt.ylabel('C')\n",
        "plt.xlabel('Bulan')\n",
        "plt.show()\n",
        "\n",
        "# Grafik garis dari Kelembaban\n",
        "plt.plot(number_of_input,input_kelembaban_ratarata,marker='o')\n",
        "plt.title('Kelembaban (2018 - 2020)')\n",
        "plt.ylabel('RH')\n",
        "plt.xlabel('Bulan')\n",
        "plt.show()\n",
        "\n",
        "# Grafik garis dari Curah Hujan\n",
        "plt.plot(number_of_input,input_curah_hujan,marker='o')\n",
        "plt.title('Curah Hujan (2018 - 2020)')\n",
        "plt.ylabel('mm')\n",
        "plt.xlabel('Bulan')\n",
        "plt.show()\n",
        "\n",
        "# Grafik garis dari Lama Penyinaran\n",
        "plt.plot(number_of_input,input_lama_penyinaran,marker='o')\n",
        "plt.title('Lama Penyinaran (Cerah) (2018 - 2020)')\n",
        "plt.ylabel('Jam')\n",
        "plt.xlabel('Bulan')\n",
        "plt.show()\n",
        "\n",
        "# Grafik garis dari Luas Lahan\n",
        "plt.plot(number_of_input,input_luas_lahan,marker='o')\n",
        "plt.title('Luas Lahan (2018 - 2020)')\n",
        "plt.ylabel('Ha')\n",
        "plt.xlabel('Bulan')\n",
        "plt.show()"
      ],
      "execution_count": 359,
      "outputs": [
        {
          "output_type": "display_data",
          "data": {
            "image/png": "[encoded data removed]",
            "text/plain": [
              "<Figure size 432x288 with 1 Axes>"
            ]
          },
          "metadata": {
            "tags": [],
            "needs_background": "light"
          }
        },
        {
          "output_type": "display_data",
          "data": {
            "image/png": "[encoded data removed]",
            "text/plain": [
              "<Figure size 432x288 with 1 Axes>"
            ]
          },
          "metadata": {
            "tags": [],
            "needs_background": "light"
          }
        },
        {
          "output_type": "display_data",
          "data": {
            "image/png": "[encoded data removed]",
            "text/plain": [
              "<Figure size 432x288 with 1 Axes>"
            ]
          },
          "metadata": {
            "tags": [],
            "needs_background": "light"
          }
        },
        {
          "output_type": "display_data",
          "data": {
            "image/png": "[encoded data removed]",
            "text/plain": [
              "<Figure size 432x288 with 1 Axes>"
            ]
          },
          "metadata": {
            "tags": [],
            "needs_background": "light"
          }
        },
        {
          "output_type": "display_data",
          "data": {
            "image/png": "[encoded data removed]",
            "text/plain": [
              "<Figure size 432x288 with 1 Axes>"
            ]
          },
          "metadata": {
            "tags": [],
            "needs_background": "light"
          }
        }
      ]
    },
    {
      "cell_type": "code",
      "metadata": {
        "id": "uo8mf0vkXKtR"
      },
      "source": [
        "# Output data\n",
        "output_total_produksi_panen = []\n",
        "number_of_output = []\n",
        "number=1\n",
        "\n",
        "# Baca file.csv\n",
        "with open('/content/Database - Jawa Timur.csv') as csv_file:\n",
        "  csv_reader = csv.reader(csv_file, delimiter=',')\n",
        "  next(csv_reader)\n",
        "  for row in csv_reader:\n",
        "    number_of_output.append(number)\n",
        "    output_total_produksi_panen.append(float(row[10]))\n",
        "    number+=1"
      ],
      "execution_count": 360,
      "outputs": []
    },
    {
      "cell_type": "code",
      "metadata": {
        "colab": {
          "base_uri": "https://localhost:8080/",
          "height": 295
        },
        "id": "SbIcE0Jqbdk5",
        "outputId": "39d931de-9fc9-4d49-b02f-cd94a18dbc5e"
      },
      "source": [
        "# Grafik data\n",
        "\n",
        "# Grafik garis dari total produksi beras\n",
        "plt.plot(number_of_output,output_total_produksi_panen,marker='o')\n",
        "plt.title('Total Produksi Panen (2018 - 2020)')\n",
        "plt.ylabel('Ton')\n",
        "plt.xlabel('Bulan')\n",
        "plt.show()"
      ],
      "execution_count": 8,
      "outputs": [
        {
          "output_type": "display_data",
          "data": {
            "image/png": "[encoded data removed]",
            "text/plain": [
              "<Figure size 432x288 with 1 Axes>"
            ]
          },
          "metadata": {
            "tags": [],
            "needs_background": "light"
          }
        }
      ]
    },
    {
      "cell_type": "markdown",
      "metadata": {
        "id": "0LC3V9IDcKhl"
      },
      "source": [
        "# **Data Prepocessing**"
      ]
    },
    {
      "cell_type": "code",
      "metadata": {
        "colab": {
          "base_uri": "https://localhost:8080/"
        },
        "id": "FbVDuu-EcHvs",
        "outputId": "1811925e-eeca-40e2-d63e-ea3cd73ebe54"
      },
      "source": [
        "# Input dari data pada database\n",
        "input = []\n",
        "counter=0\n",
        "\n",
        "# Baca file.csv\n",
        "with open('/content/Database.csv') as csv_file:\n",
        "  csv_reader = csv.reader(csv_file, delimiter=',')\n",
        "  next(csv_reader)\n",
        "  for row in csv_reader:\n",
        "    input.append([])\n",
        "    input[counter].append(float(row[1]))\n",
        "    input[counter].append(float(row[2]))\n",
        "    input[counter].append(float(row[3]))\n",
        "    input[counter].append(float(row[4]))\n",
        "    input[counter].append(float(row[5]))\n",
        "    input[counter].append(float(row[6]))\n",
        "    input[counter].append(float(row[7]))\n",
        "    input[counter].append(float(row[8]))\n",
        "    input[counter].append(float(row[9]))\n",
        "    input[counter].append(float(row[10]))\n",
        "    input[counter].append(float(row[11]))\n",
        "    input[counter].append(float(row[12]))\n",
        "    input[counter].append(float(row[13]))\n",
        "    input[counter].append(float(row[14]))\n",
        "    input[counter].append(float(row[15]))\n",
        "    input[counter].append(float(row[16]))\n",
        "    input[counter].append(float(row[17]))\n",
        "    counter+=1\n",
        "\n",
        "input = np.array(input)\n",
        "\n",
        "print(input)\n",
        "print(len(input))"
      ],
      "execution_count": 560,
      "outputs": [
        {
          "output_type": "stream",
          "text": [
            "[[2.97700e+01 2.82600e+01 2.80500e+01 2.76900e+01 7.00000e+01 8.00000e+01\n",
            "  8.10000e+01 8.16100e+01 2.86000e+00 1.10300e+01 1.46900e+01 1.08800e+01\n",
            "  7.92000e+00 4.51000e+00 4.36000e+00 3.44000e+00 3.61200e+04]\n",
            " [2.82600e+01 2.80500e+01 2.76900e+01 2.72100e+01 8.00000e+01 8.10000e+01\n",
            "  8.16100e+01 8.30700e+01 1.10300e+01 1.46900e+01 1.08800e+01 1.74500e+01\n",
            "  4.51000e+00 4.36000e+00 3.44000e+00 5.41000e+00 1.61569e+05]\n",
            " [2.80500e+01 2.76900e+01 2.72100e+01 2.76400e+01 8.10000e+01 8.16100e+01\n",
            "  8.30700e+01 8.32900e+01 1.46900e+01 1.08800e+01 1.74500e+01 1.60300e+01\n",
            "  4.36000e+00 3.44000e+00 5.41000e+00 5.20000e+00 3.91629e+05]\n",
            " [2.76900e+01 2.72100e+01 2.76400e+01 2.89600e+01 8.16100e+01 8.30700e+01\n",
            "  8.32900e+01 7.70000e+01 1.08800e+01 1.74500e+01 1.60300e+01 1.03700e+01\n",
            "  3.44000e+00 5.41000e+00 5.20000e+00 8.14000e+00 2.29253e+05]\n",
            " [2.72100e+01 2.76400e+01 2.89600e+01 2.87500e+01 8.30700e+01 8.32900e+01\n",
            "  7.70000e+01 7.44800e+01 1.74500e+01 1.60300e+01 1.03700e+01 0.00000e+00\n",
            "  5.41000e+00 5.20000e+00 8.14000e+00 8.11000e+00 1.14149e+05]\n",
            " [2.76400e+01 2.89600e+01 2.87500e+01 2.79100e+01 8.32900e+01 7.70000e+01\n",
            "  7.44800e+01 7.59700e+01 1.60300e+01 1.03700e+01 0.00000e+00 4.61000e+00\n",
            "  5.20000e+00 8.14000e+00 8.11000e+00 8.19000e+00 1.64821e+05]\n",
            " [2.89600e+01 2.87500e+01 2.79100e+01 2.66600e+01 7.70000e+01 7.44800e+01\n",
            "  7.59700e+01 7.42600e+01 1.03700e+01 0.00000e+00 4.61000e+00 0.00000e+00\n",
            "  8.14000e+00 8.11000e+00 8.19000e+00 9.04000e+00 2.11502e+05]\n",
            " [2.87500e+01 2.79100e+01 2.66600e+01 2.66700e+01 7.44800e+01 7.59700e+01\n",
            "  7.42600e+01 7.19000e+01 0.00000e+00 4.61000e+00 0.00000e+00 0.00000e+00\n",
            "  8.11000e+00 8.19000e+00 9.04000e+00 8.95000e+00 1.26227e+05]\n",
            " [2.79100e+01 2.66600e+01 2.66700e+01 2.80500e+01 7.59700e+01 7.42600e+01\n",
            "  7.19000e+01 6.83000e+01 4.61000e+00 0.00000e+00 0.00000e+00 7.20000e-01\n",
            "  8.19000e+00 9.04000e+00 8.95000e+00 8.00000e+00 1.00691e+05]\n",
            " [2.66600e+01 2.66700e+01 2.80500e+01 2.93500e+01 7.42600e+01 7.19000e+01\n",
            "  6.83000e+01 6.70000e+01 0.00000e+00 0.00000e+00 7.20000e-01 0.00000e+00\n",
            "  9.04000e+00 8.95000e+00 8.00000e+00 8.73000e+00 7.95250e+04]\n",
            " [2.66700e+01 2.80500e+01 2.93500e+01 2.95100e+01 7.19000e+01 6.83000e+01\n",
            "  6.70000e+01 7.35000e+01 0.00000e+00 7.20000e-01 0.00000e+00 6.97000e+00\n",
            "  8.95000e+00 8.00000e+00 8.73000e+00 6.35000e+00 7.79070e+04]\n",
            " [2.80500e+01 2.93500e+01 2.95100e+01 2.90300e+01 6.83000e+01 6.70000e+01\n",
            "  7.35000e+01 7.72900e+01 7.20000e-01 0.00000e+00 6.97000e+00 1.61000e+01\n",
            "  8.00000e+00 8.73000e+00 6.35000e+00 3.76000e+00 5.73980e+04]\n",
            " [2.93500e+01 2.95100e+01 2.90300e+01 2.78400e+01 6.70000e+01 7.35000e+01\n",
            "  7.72900e+01 8.21300e+01 0.00000e+00 6.97000e+00 1.61000e+01 1.62600e+01\n",
            "  8.73000e+00 6.35000e+00 3.76000e+00 4.52000e+00 5.67360e+04]\n",
            " [2.95100e+01 2.90300e+01 2.78400e+01 2.80000e+01 7.35000e+01 7.72900e+01\n",
            "  8.21300e+01 8.19300e+01 6.97000e+00 1.61000e+01 1.62600e+01 1.73500e+01\n",
            "  6.35000e+00 3.76000e+00 4.52000e+00 5.77000e+00 7.83500e+04]\n",
            " [2.90300e+01 2.78400e+01 2.80000e+01 2.76800e+01 7.72900e+01 8.21300e+01\n",
            "  8.19300e+01 8.37000e+01 1.61000e+01 1.62600e+01 1.73500e+01 1.14500e+01\n",
            "  3.76000e+00 4.52000e+00 5.77000e+00 4.87000e+00 3.41663e+05]\n",
            " [2.78400e+01 2.80000e+01 2.76800e+01 2.83700e+01 8.21300e+01 8.19300e+01\n",
            "  8.37000e+01 8.36000e+01 1.62600e+01 1.73500e+01 1.14500e+01 1.27900e+01\n",
            "  4.52000e+00 5.77000e+00 4.87000e+00 6.09000e+00 3.31680e+05]\n",
            " [2.80000e+01 2.76800e+01 2.83700e+01 2.84600e+01 8.19300e+01 8.37000e+01\n",
            "  8.36000e+01 7.73100e+01 1.73500e+01 1.14500e+01 1.27900e+01 1.80000e+00\n",
            "  5.77000e+00 4.87000e+00 6.09000e+00 8.59000e+00 1.16104e+05]\n",
            " [2.76800e+01 2.83700e+01 2.84600e+01 2.71300e+01 8.37000e+01 8.36000e+01\n",
            "  7.73100e+01 7.63300e+01 1.14500e+01 1.27900e+01 1.80000e+00 0.00000e+00\n",
            "  4.87000e+00 6.09000e+00 8.59000e+00 8.25000e+00 1.51269e+05]\n",
            " [2.83700e+01 2.84600e+01 2.71300e+01 2.64900e+01 8.36000e+01 7.73100e+01\n",
            "  7.63300e+01 7.50000e+01 1.27900e+01 1.80000e+00 0.00000e+00 3.00000e-02\n",
            "  6.09000e+00 8.59000e+00 8.25000e+00 8.60000e+00 2.01161e+05]\n",
            " [2.84600e+01 2.71300e+01 2.64900e+01 2.66600e+01 7.73100e+01 7.63300e+01\n",
            "  7.50000e+01 7.22900e+01 1.80000e+00 0.00000e+00 3.00000e-02 0.00000e+00\n",
            "  8.59000e+00 8.25000e+00 8.60000e+00 9.40000e+00 1.41740e+05]\n",
            " [2.71300e+01 2.64900e+01 2.66600e+01 2.73000e+01 7.63300e+01 7.50000e+01\n",
            "  7.22900e+01 7.09000e+01 0.00000e+00 3.00000e-02 0.00000e+00 0.00000e+00\n",
            "  8.25000e+00 8.60000e+00 9.40000e+00 9.27000e+00 8.26100e+04]\n",
            " [2.64900e+01 2.66600e+01 2.73000e+01 2.88900e+01 7.50000e+01 7.22900e+01\n",
            "  7.09000e+01 6.80000e+01 3.00000e-02 0.00000e+00 0.00000e+00 0.00000e+00\n",
            "  8.60000e+00 9.40000e+00 9.27000e+00 9.47000e+00 7.77840e+04]\n",
            " [2.66600e+01 2.73000e+01 2.88900e+01 3.02500e+01 7.22900e+01 7.09000e+01\n",
            "  6.80000e+01 6.77300e+01 0.00000e+00 0.00000e+00 0.00000e+00 8.80000e-01\n",
            "  9.40000e+00 9.27000e+00 9.47000e+00 8.88000e+00 7.83790e+04]\n",
            " [2.73000e+01 2.88900e+01 3.02500e+01 2.98600e+01 7.09000e+01 6.80000e+01\n",
            "  6.77300e+01 7.48900e+01 0.00000e+00 0.00000e+00 8.80000e-01 7.08000e+00\n",
            "  9.27000e+00 9.47000e+00 8.88000e+00 6.62000e+00 4.49490e+04]\n",
            " [2.88900e+01 3.02500e+01 2.98600e+01 2.83800e+01 6.80000e+01 6.77300e+01\n",
            "  7.48900e+01 8.18400e+01 0.00000e+00 8.80000e-01 7.08000e+00 1.14500e+01\n",
            "  9.47000e+00 8.88000e+00 6.62000e+00 5.04000e+00 5.10550e+04]\n",
            " [3.02500e+01 2.98600e+01 2.83800e+01 2.76800e+01 6.77300e+01 7.48900e+01\n",
            "  8.18400e+01 8.54500e+01 8.80000e-01 7.08000e+00 1.14500e+01 1.88400e+01\n",
            "  8.88000e+00 6.62000e+00 5.04000e+00 4.72000e+00 5.98730e+04]\n",
            " [2.98600e+01 2.83800e+01 2.76800e+01 2.81900e+01 7.48900e+01 8.18400e+01\n",
            "  8.54500e+01 8.37700e+01 7.08000e+00 1.14500e+01 1.88400e+01 1.05300e+01\n",
            "  6.62000e+00 5.04000e+00 4.72000e+00 5.54000e+00 2.18193e+05]\n",
            " [2.83800e+01 2.76800e+01 2.81900e+01 2.85400e+01 8.18400e+01 8.54500e+01\n",
            "  8.37700e+01 8.26000e+01 1.14500e+01 1.88400e+01 1.05300e+01 1.34200e+01\n",
            "  5.04000e+00 4.72000e+00 5.54000e+00 6.28000e+00 3.94917e+05]\n",
            " [2.76800e+01 2.81900e+01 2.85400e+01 2.83900e+01 8.54500e+01 8.37700e+01\n",
            "  8.26000e+01 8.25800e+01 1.88400e+01 1.05300e+01 1.34200e+01 1.81300e+01\n",
            "  4.72000e+00 5.54000e+00 6.28000e+00 7.04000e+00 1.91365e+05]\n",
            " [2.81900e+01 2.85400e+01 2.83900e+01 2.76800e+01 8.37700e+01 8.26000e+01\n",
            "  8.25800e+01 7.96600e+01 1.05300e+01 1.34200e+01 1.81300e+01 1.81000e+00\n",
            "  5.54000e+00 6.28000e+00 7.04000e+00 7.42000e+00 1.13835e+05]\n",
            " [2.85400e+01 2.83900e+01 2.76800e+01 2.72800e+01 8.26000e+01 8.25800e+01\n",
            "  7.96600e+01 7.61700e+01 1.34200e+01 1.81300e+01 1.81000e+00 1.00000e-01\n",
            "  6.28000e+00 7.04000e+00 7.42000e+00 8.25000e+00 2.08803e+05]\n",
            " [2.83900e+01 2.76800e+01 2.72800e+01 2.75400e+01 8.25800e+01 7.96600e+01\n",
            "  7.61700e+01 7.57700e+01 1.81300e+01 1.81000e+00 1.00000e-01 8.80000e-01\n",
            "  7.04000e+00 7.42000e+00 8.25000e+00 8.65000e+00 1.78561e+05]\n",
            " [2.76800e+01 2.72800e+01 2.75400e+01 2.87200e+01 7.96600e+01 7.61700e+01\n",
            "  7.57700e+01 7.08800e+01 1.81000e+00 1.00000e-01 8.80000e-01 0.00000e+00\n",
            "  7.42000e+00 8.25000e+00 8.65000e+00 9.01000e+00 9.94310e+04]\n",
            " [2.72800e+01 2.75400e+01 2.87200e+01 2.91800e+01 7.61700e+01 7.57700e+01\n",
            "  7.08800e+01 7.29700e+01 1.00000e-01 8.80000e-01 0.00000e+00 1.99000e+00\n",
            "  8.25000e+00 8.65000e+00 9.01000e+00 7.03000e+00 1.06681e+05]\n",
            " [2.75400e+01 2.87200e+01 2.91800e+01 2.91700e+01 7.57700e+01 7.08800e+01\n",
            "  7.29700e+01 7.67300e+01 8.80000e-01 0.00000e+00 1.99000e+00 6.70000e+00\n",
            "  8.65000e+00 9.01000e+00 7.03000e+00 6.29000e+00 7.99360e+04]\n",
            " [2.87200e+01 2.91800e+01 2.91700e+01 2.72600e+01 7.08800e+01 7.29700e+01\n",
            "  7.67300e+01 8.50600e+01 0.00000e+00 1.99000e+00 6.70000e+00 2.18400e+01\n",
            "  9.01000e+00 7.03000e+00 6.29000e+00 3.27000e+00 5.92320e+04]]\n",
            "36\n"
          ],
          "name": "stdout"
        }
      ]
    },
    {
      "cell_type": "code",
      "metadata": {
        "colab": {
          "base_uri": "https://localhost:8080/"
        },
        "id": "5iPDOsJkcoW4",
        "outputId": "972f2087-686a-4317-ec6e-216f4b18dfd0"
      },
      "source": [
        "# Output dari data pada database\n",
        "output = []\n",
        "counter=0\n",
        "\n",
        "# Baca file.csv\n",
        "with open('/content/Database.csv') as csv_file:\n",
        "  csv_reader = csv.reader(csv_file, delimiter=',')\n",
        "  next(csv_reader)\n",
        "  for row in csv_reader:\n",
        "    output.append([])\n",
        "    output[counter].append(float(row[19]))\n",
        "    counter+=1\n",
        "\n",
        "output = np.array(output)\n",
        "\n",
        "print(output)\n",
        "print(len(output))"
      ],
      "execution_count": 561,
      "outputs": [
        {
          "output_type": "stream",
          "text": [
            "[[ 2.1133691]\n",
            " [ 9.6055539]\n",
            " [22.932964 ]\n",
            " [13.4546255]\n",
            " [ 6.3529704]\n",
            " [ 9.2359984]\n",
            " [11.9008694]\n",
            " [ 7.1460688]\n",
            " [ 6.2466323]\n",
            " [ 4.8972149]\n",
            " [ 4.7015111]\n",
            " [ 3.42637  ]\n",
            " [ 3.1422876]\n",
            " [ 4.4255879]\n",
            " [19.337996 ]\n",
            " [18.5712826]\n",
            " [ 6.1613488]\n",
            " [ 8.0630587]\n",
            " [10.7132017]\n",
            " [ 7.502774 ]\n",
            " [ 5.1656494]\n",
            " [ 5.01296  ]\n",
            " [ 4.9905944]\n",
            " [ 2.7225977]\n",
            " [ 2.8872113]\n",
            " [ 3.4524114]\n",
            " [13.2402059]\n",
            " [22.4396732]\n",
            " [ 9.9209194]\n",
            " [ 6.0341993]\n",
            " [11.3587236]\n",
            " [ 9.241076 ]\n",
            " [ 6.1872834]\n",
            " [ 6.7832407]\n",
            " [ 5.0785959]\n",
            " [ 3.6003271]]\n",
            "36\n"
          ],
          "name": "stdout"
        }
      ]
    },
    {
      "cell_type": "code",
      "metadata": {
        "colab": {
          "base_uri": "https://localhost:8080/"
        },
        "id": "aEzI19Ho0hXi",
        "outputId": "d9586981-656b-4469-a263-5acd14bc9c69"
      },
      "source": [
        "# Bagi data untuk training dan testing\n",
        "input_train, input_test, output_train, output_test = train_test_split(input, output, test_size=0.15, shuffle=True)\n",
        "\n",
        "print(len(input_train))\n",
        "print(len(input_test))"
      ],
      "execution_count": 562,
      "outputs": [
        {
          "output_type": "stream",
          "text": [
            "30\n",
            "6\n"
          ],
          "name": "stdout"
        }
      ]
    },
    {
      "cell_type": "code",
      "metadata": {
        "colab": {
          "base_uri": "https://localhost:8080/"
        },
        "id": "mabHqdJE2soE",
        "outputId": "cc872425-d6a1-432d-c764-4d56c60fc2d5"
      },
      "source": [
        "# Normalisasi data\n",
        "scaler_input = MinMaxScaler()\n",
        "scaler_input.fit(input_train)\n",
        "input_train_scaled = scaler_input.transform(input_train)\n",
        "input_test_scaled = scaler_input.transform(input_test)\n",
        "\n",
        "print(input_train_scaled)\n",
        "print(input_test_scaled)"
      ],
      "execution_count": 563,
      "outputs": [
        {
          "output_type": "stream",
          "text": [
            "[[0.67062315 0.37765957 0.04521277 0.00278552 0.40542005 0.53488372\n",
            "  0.39349593 0.25997506 0.         0.25427468 0.         0.\n",
            "  0.77446103 0.78772803 0.92868988 0.91376451 0.25345912]\n",
            " [0.89614243 0.67553191 0.35904255 0.37325905 0.35230352 0.61359571\n",
            "  0.8200542  0.88528678 0.36995754 0.88803089 0.86305732 0.95697739\n",
            "  0.48258706 0.05306799 0.17910448 0.38640133 0.11878743]\n",
            " [0.35311573 0.21010638 0.27925532 0.57381616 0.68617886 0.54680978\n",
            "  0.47533875 0.19638404 0.09607219 0.00551572 0.04670913 0.\n",
            "  0.66003317 0.79767828 0.86401327 0.92371476 0.17808551]\n",
            " [0.42136499 0.04521277 0.04787234 0.38718663 0.48617886 0.43291592\n",
            "  0.26558266 0.03553616 0.24469214 0.         0.         0.03971318\n",
            "  0.78772803 0.92868988 0.91376451 0.75621891 0.18162972]\n",
            " [0.46290801 0.7606383  0.80319149 0.66016713 0.0704607  0.\n",
            "  0.35230352 0.59600998 0.03821656 0.         0.36995754 0.88803089\n",
            "  0.75621891 0.87728027 0.48258706 0.05306799 0.05985221]\n",
            " [0.0504451  0.21542553 0.63829787 1.         0.28672087 0.23255814\n",
            "  0.05420054 0.         0.         0.         0.         0.04853833\n",
            "  0.98839138 0.9668325  1.         0.90215589 0.118869  ]\n",
            " [1.         0.50265957 0.31648936 0.42618384 0.42764228 0.88491354\n",
            "  1.         1.         0.37579618 0.63154992 1.         0.5808053\n",
            "  0.52736318 0.26533997 0.21227197 0.34825871 0.51214737]\n",
            " [0.34124629 0.65691489 0.60106383 0.34818942 0.88292683 0.59630292\n",
            "  0.40542005 0.51371571 0.85084926 0.57198014 0.         0.25427468\n",
            "  0.29187396 0.77943615 0.77446103 0.78772803 0.36201896]\n",
            " [0.44807122 0.31648936 0.5        0.50139276 0.80921409 0.99582588\n",
            "  0.899729   0.59725686 0.92091295 0.63154992 0.67887473 0.09928296\n",
            "  0.38640133 0.2371476  0.43946932 0.85406302 0.22498446]\n",
            " [0.58456973 0.17021277 0.         0.         0.55880759 0.55635063\n",
            "  0.43360434 0.28428928 0.0955414  0.         0.00159236 0.\n",
            "  0.85406302 0.79767828 0.85572139 0.98839138 0.29709515]\n",
            " [0.60830861 0.50531915 0.31648936 0.17270195 0.84552846 0.92903995\n",
            "  0.68617886 0.52618454 0.71231423 1.         0.09607219 0.00551572\n",
            "  0.47097844 0.59701493 0.66003317 0.79767828 0.48573454]\n",
            " [0.52522255 0.41489362 0.31914894 0.15320334 0.70460705 0.83482409\n",
            "  0.79186992 0.9563591  0.58545648 0.81025924 0.57749469 0.96249311\n",
            "  0.1774461  0.15257048 0.         0.32669983 0.35287152]\n",
            " [0.35311573 0.5        0.52393617 0.13091922 0.90514905 0.98986285\n",
            "  0.55880759 0.5361596  0.60774947 0.70546056 0.0955414  0.\n",
            "  0.2371476  0.43946932 0.85406302 0.79767828 0.32389897]\n",
            " [0.73293769 0.60106383 0.37765957 0.         0.54200542 0.44603459\n",
            "  0.48617886 0.40710723 0.55042463 0.         0.24469214 0.\n",
            "  0.77943615 0.77446103 0.78772803 0.92868988 0.49332647]\n",
            " [0.40059347 0.40159574 0.31648936 0.47632312 0.8200542  0.89028026\n",
            "  0.90514905 0.9894015  0.86305732 0.95697739 0.60774947 0.70546056\n",
            "  0.17910448 0.38640133 0.2371476  0.43946932 0.83137136]\n",
            " [0.71216617 1.         0.8962766  0.47910864 0.05420054 0.04353011\n",
            "  0.42764228 0.87967581 0.         0.04853833 0.37579618 0.63154992\n",
            "  1.         0.90215589 0.52736318 0.26533997 0.04201019]\n",
            " [0.84866469 0.80319149 0.67553191 0.32869081 0.         0.3875969\n",
            "  0.55772358 0.89775561 0.         0.38444567 0.85456476 0.89685604\n",
            "  0.87728027 0.48258706 0.05306799 0.17910448 0.05799009]\n",
            " [0.50445104 0.54521277 0.50531915 0.28412256 0.90894309 0.93023256\n",
            "  0.84444444 0.74376559 0.5589172  0.7402096  0.96231423 0.09983453\n",
            "  0.34825871 0.47097844 0.59701493 0.66003317 0.21860206]\n",
            " [0.05341246 0.41489362 0.7606383  0.79387187 0.26558266 0.07751938\n",
            "  0.         0.35972569 0.         0.03971318 0.         0.38444567\n",
            "  0.91376451 0.75621891 0.87728027 0.48258706 0.11754133]\n",
            " [0.3115727  0.59308511 0.71542553 0.69916435 0.47533875 0.23136553\n",
            "  0.32357724 0.56109726 0.04670913 0.         0.10562633 0.36955323\n",
            "  0.86401327 0.92371476 0.59535655 0.47263682 0.12324864]\n",
            " [0.97329377 0.47074468 0.41489362 0.28690808 0.16260163 0.7751938\n",
            "  0.75880759 0.86533666 0.15180467 0.60838389 0.77972399 0.60011031\n",
            "  0.74295191 0.1774461  0.15257048 0.         0.        ]\n",
            " [0.24035608 0.63829787 1.         0.8913649  0.21138211 0.05963029\n",
            "  0.0395664  0.44638404 0.         0.         0.04670913 0.39051296\n",
            "  0.9668325  1.         0.90215589 0.52736318 0.02483481]\n",
            " [0.35608309 0.19148936 0.30585106 0.64066852 0.79186992 0.9582588\n",
            "  0.88292683 0.57793017 0.57749469 0.96249311 0.85084926 0.57198014\n",
            "  0.         0.32669983 0.29187396 0.77943615 0.5432577 ]\n",
            " [0.         0.04521277 0.21542553 0.62116992 0.43360434 0.31544425\n",
            "  0.21138211 0.01683292 0.00159236 0.         0.         0.\n",
            "  0.85572139 0.98839138 0.9668325  1.         0.11719535]\n",
            " [0.21364985 0.30585106 0.65691489 0.5821727  0.87100271 0.97137746\n",
            "  0.54200542 0.42082294 0.92622081 0.88416988 0.55042463 0.\n",
            "  0.32669983 0.29187396 0.77943615 0.77446103 0.2194853 ]\n",
            " [0.18991098 0.         0.04521277 0.17827298 0.50569106 0.47704234\n",
            "  0.28672087 0.19763092 0.         0.00165472 0.         0.\n",
            "  0.79767828 0.85572139 0.98839138 0.9668325  0.13077025]\n",
            " [0.46290801 0.31914894 0.19148936 0.2729805  0.75880759 0.87119857\n",
            "  0.87100271 0.97007481 0.77972399 0.60011031 0.92622081 0.88416988\n",
            "  0.15257048 0.         0.32669983 0.29187396 1.        ]\n",
            " [0.35311573 0.45212766 0.54521277 0.48189415 1.         1.\n",
            "  0.84552846 0.92581047 1.         0.5808053  0.71231423 1.\n",
            "  0.21227197 0.34825871 0.47097844 0.59701493 0.43668374]\n",
            " [0.7537092  0.35904255 0.40159574 0.28412256 0.55772358 0.90220632\n",
            "  0.80921409 0.99563591 0.85456476 0.89685604 0.92091295 0.63154992\n",
            "  0.05306799 0.17910448 0.38640133 0.2371476  0.85945222]\n",
            " [0.56379822 0.31648936 0.21010638 0.24512535 0.84444444 0.7549195\n",
            "  0.49701897 0.50124688 0.96231423 0.09983453 0.00530786 0.04853833\n",
            "  0.59701493 0.66003317 0.79767828 0.86401327 0.40066777]]\n",
            "[[ 0.23442136  0.27925532  0.59308511  0.70194986  0.49701897  0.52295766\n",
            "   0.2102981   0.32668329  0.00530786  0.04853833  0.          0.10976282\n",
            "   0.79767828  0.86401327  0.92371476  0.59535655  0.1984788 ]\n",
            " [ 0.0504451   0.04787234  0.41489362  0.74930362  0.39349593  0.29218843\n",
            "   0.0704607  -0.04551122  0.          0.          0.03821656  0.\n",
            "   0.92868988  0.91376451  0.75621891  0.87728027  0.12209255]\n",
            " [ 1.115727    0.8962766   0.50265957  0.28412256  0.0395664   0.47048301\n",
            "   0.80433604  1.10473815  0.04670913  0.39051296  0.60774947  1.03916161\n",
            "   0.90215589  0.52736318  0.26533997  0.21227197  0.06681406]\n",
            " [ 0.66172107  0.71542553  0.71276596  0.16713092  0.2102981   0.35599284\n",
            "   0.52737127  1.08042394  0.          0.10976282  0.35562633  1.2046332\n",
            "   0.92371476  0.59535655  0.47263682 -0.02819237  0.06501101]\n",
            " [ 0.5578635   0.52393617  0.17021277 -0.04735376  0.899729    0.61478831\n",
            "   0.50569106  0.4532419   0.67887473  0.09928296  0.          0.00165472\n",
            "   0.43946932  0.85406302  0.79767828  0.85572139  0.4642386 ]\n",
            " [ 0.56083086  0.31648936  0.45212766  0.52367688  0.80433604  1.10017889\n",
            "   0.90894309  0.92705736  0.60774947  1.03916161  0.5589172   0.7402096\n",
            "   0.26533997  0.21227197  0.34825871  0.47097844  1.00924871]]\n"
          ],
          "name": "stdout"
        }
      ]
    },
    {
      "cell_type": "code",
      "metadata": {
        "id": "-NfcCESwc8U0"
      },
      "source": [
        "# Callbacks\n",
        "class myCallback(tf.keras.callbacks.Callback):\n",
        "  def on_epoch_end(self, epoch, logs={}):\n",
        "    if(logs.get('mae')<0.0001):\n",
        "      print(\"The MAE score has reached 0.005\")\n",
        "      self.model.stop_training = True\n",
        "\n",
        "callbacks = myCallback()"
      ],
      "execution_count": 564,
      "outputs": []
    },
    {
      "cell_type": "code",
      "metadata": {
        "colab": {
          "base_uri": "https://localhost:8080/"
        },
        "id": "gblBrC68c-cE",
        "outputId": "95cc0d3b-e281-4f42-afc1-8b85e5efc255"
      },
      "source": [
        "# Model machine learning\n",
        "model = tf.keras.Sequential([\n",
        "          tf.keras.layers.Dense(units = 4096, activation=\"relu\", input_dim=17),\n",
        "          tf.keras.layers.Dense(units = 128, activation=\"relu\"),\n",
        "          tf.keras.layers.Dense(units = 16,activation=\"relu\"),\n",
        "          tf.keras.layers.Dense(units = 1, activation=\"relu\")\n",
        "        ])\n",
        "\n",
        "opt = keras.optimizers.Adam(learning_rate=0.01)\n",
        "model.compile(optimizer=opt,\n",
        "              loss=\"mean_squared_error\",\n",
        "              metrics=['mae'])\n",
        "\n",
        "model.summary()\n",
        "\n",
        "fitting_history = model.fit(input_train_scaled, output_train, epochs = 300, validation_split=0.15, callbacks=[callbacks])"
      ],
      "execution_count": 565,
      "outputs": [
        {
          "output_type": "stream",
          "text": [
            "Model: \"sequential_59\"\n",
            "_________________________________________________________________\n",
            "Layer (type)                 Output Shape              Param #   \n",
            "=================================================================\n",
            "dense_215 (Dense)            (None, 4096)              73728     \n",
            "_________________________________________________________________\n",
            "dense_216 (Dense)            (None, 128)               524416    \n",
            "_________________________________________________________________\n",
            "dense_217 (Dense)            (None, 16)                2064      \n",
            "_________________________________________________________________\n",
            "dense_218 (Dense)            (None, 1)                 17        \n",
            "=================================================================\n",
            "Total params: 600,225\n",
            "Trainable params: 600,225\n",
            "Non-trainable params: 0\n",
            "_________________________________________________________________\n",
            "Epoch 1/300\n",
            "1/1 [==============================] - 1s 543ms/step - loss: 66.8962 - mae: 7.1793 - val_loss: 48.9873 - val_mae: 5.3395\n",
            "Epoch 2/300\n",
            "1/1 [==============================] - 0s 32ms/step - loss: 18.6595 - mae: 3.7413 - val_loss: 183.9113 - val_mae: 11.9066\n",
            "Epoch 3/300\n",
            "1/1 [==============================] - 0s 30ms/step - loss: 50.1617 - mae: 6.0259 - val_loss: 125.9091 - val_mae: 9.4659\n",
            "Epoch 4/300\n",
            "1/1 [==============================] - 0s 32ms/step - loss: 28.3801 - mae: 4.1978 - val_loss: 40.5976 - val_mae: 4.3296\n",
            "Epoch 5/300\n",
            "1/1 [==============================] - 0s 29ms/step - loss: 7.7690 - mae: 2.1416 - val_loss: 27.4384 - val_mae: 4.5715\n",
            "Epoch 6/300\n",
            "1/1 [==============================] - 0s 30ms/step - loss: 34.9451 - mae: 5.2570 - val_loss: 29.1972 - val_mae: 4.1154\n",
            "Epoch 7/300\n",
            "1/1 [==============================] - 0s 30ms/step - loss: 7.6382 - mae: 2.0938 - val_loss: 66.3502 - val_mae: 6.1993\n",
            "Epoch 8/300\n",
            "1/1 [==============================] - 0s 35ms/step - loss: 11.5193 - mae: 2.5331 - val_loss: 89.7702 - val_mae: 7.7116\n",
            "Epoch 9/300\n",
            "1/1 [==============================] - 0s 32ms/step - loss: 18.7141 - mae: 3.3389 - val_loss: 86.9984 - val_mae: 7.5560\n",
            "Epoch 10/300\n",
            "1/1 [==============================] - 0s 29ms/step - loss: 17.9923 - mae: 3.2681 - val_loss: 67.1500 - val_mae: 6.2748\n",
            "Epoch 11/300\n",
            "1/1 [==============================] - 0s 32ms/step - loss: 11.9852 - mae: 2.5694 - val_loss: 39.8986 - val_mae: 4.1346\n",
            "Epoch 12/300\n",
            "1/1 [==============================] - 0s 32ms/step - loss: 5.9858 - mae: 1.8635 - val_loss: 22.3133 - val_mae: 4.1511\n",
            "Epoch 13/300\n",
            "1/1 [==============================] - 0s 33ms/step - loss: 7.8950 - mae: 2.2199 - val_loss: 19.9351 - val_mae: 4.2415\n",
            "Epoch 14/300\n",
            "1/1 [==============================] - 0s 29ms/step - loss: 12.9765 - mae: 2.9687 - val_loss: 19.9335 - val_mae: 4.1405\n",
            "Epoch 15/300\n",
            "1/1 [==============================] - 0s 35ms/step - loss: 8.8785 - mae: 2.4216 - val_loss: 26.8099 - val_mae: 3.9594\n",
            "Epoch 16/300\n",
            "1/1 [==============================] - 0s 34ms/step - loss: 4.7146 - mae: 1.5770 - val_loss: 39.8141 - val_mae: 4.0839\n",
            "Epoch 17/300\n",
            "1/1 [==============================] - 0s 32ms/step - loss: 5.8176 - mae: 1.7694 - val_loss: 48.9580 - val_mae: 4.9947\n",
            "Epoch 18/300\n",
            "1/1 [==============================] - 0s 36ms/step - loss: 8.0680 - mae: 2.1093 - val_loss: 47.8960 - val_mae: 4.9351\n",
            "Epoch 19/300\n",
            "1/1 [==============================] - 0s 31ms/step - loss: 7.9653 - mae: 2.0910 - val_loss: 37.5713 - val_mae: 3.9935\n",
            "Epoch 20/300\n",
            "1/1 [==============================] - 0s 38ms/step - loss: 5.6139 - mae: 1.7392 - val_loss: 24.1265 - val_mae: 3.7059\n",
            "Epoch 21/300\n",
            "1/1 [==============================] - 0s 38ms/step - loss: 3.5459 - mae: 1.3226 - val_loss: 16.1558 - val_mae: 3.7259\n",
            "Epoch 22/300\n",
            "1/1 [==============================] - 0s 36ms/step - loss: 4.6197 - mae: 1.7190 - val_loss: 14.6725 - val_mae: 3.6783\n",
            "Epoch 23/300\n",
            "1/1 [==============================] - 0s 36ms/step - loss: 5.7693 - mae: 1.9610 - val_loss: 14.5095 - val_mae: 3.5583\n",
            "Epoch 24/300\n",
            "1/1 [==============================] - 0s 35ms/step - loss: 3.8977 - mae: 1.6027 - val_loss: 17.6315 - val_mae: 3.4164\n",
            "Epoch 25/300\n",
            "1/1 [==============================] - 0s 39ms/step - loss: 2.6070 - mae: 1.1943 - val_loss: 22.5622 - val_mae: 3.2895\n",
            "Epoch 26/300\n",
            "1/1 [==============================] - 0s 36ms/step - loss: 3.2208 - mae: 1.2704 - val_loss: 23.7692 - val_mae: 3.1768\n",
            "Epoch 27/300\n",
            "1/1 [==============================] - 0s 31ms/step - loss: 3.6943 - mae: 1.3739 - val_loss: 19.7696 - val_mae: 3.0768\n",
            "Epoch 28/300\n",
            "1/1 [==============================] - 0s 36ms/step - loss: 2.9678 - mae: 1.2067 - val_loss: 13.2036 - val_mae: 2.9736\n",
            "Epoch 29/300\n",
            "1/1 [==============================] - 0s 38ms/step - loss: 1.8459 - mae: 0.9795 - val_loss: 9.1055 - val_mae: 2.8605\n",
            "Epoch 30/300\n",
            "1/1 [==============================] - 0s 35ms/step - loss: 1.9152 - mae: 1.1571 - val_loss: 8.3962 - val_mae: 2.7426\n",
            "Epoch 31/300\n",
            "1/1 [==============================] - 0s 31ms/step - loss: 2.5000 - mae: 1.3232 - val_loss: 7.5780 - val_mae: 2.6342\n",
            "Epoch 32/300\n",
            "1/1 [==============================] - 0s 40ms/step - loss: 1.7721 - mae: 1.1146 - val_loss: 7.7141 - val_mae: 2.5428\n",
            "Epoch 33/300\n",
            "1/1 [==============================] - 0s 35ms/step - loss: 1.1446 - mae: 0.8004 - val_loss: 9.1304 - val_mae: 2.4596\n",
            "Epoch 34/300\n",
            "1/1 [==============================] - 0s 38ms/step - loss: 1.4622 - mae: 0.8339 - val_loss: 9.1816 - val_mae: 2.3720\n",
            "Epoch 35/300\n",
            "1/1 [==============================] - 0s 36ms/step - loss: 1.6555 - mae: 0.8860 - val_loss: 7.0544 - val_mae: 2.2707\n",
            "Epoch 36/300\n",
            "1/1 [==============================] - 0s 34ms/step - loss: 1.2060 - mae: 0.7805 - val_loss: 5.0191 - val_mae: 2.1575\n",
            "Epoch 37/300\n",
            "1/1 [==============================] - 0s 34ms/step - loss: 0.8302 - mae: 0.6650 - val_loss: 4.9709 - val_mae: 2.0427\n",
            "Epoch 38/300\n",
            "1/1 [==============================] - 0s 35ms/step - loss: 1.1244 - mae: 0.8800 - val_loss: 5.0102 - val_mae: 1.9459\n",
            "Epoch 39/300\n",
            "1/1 [==============================] - 0s 31ms/step - loss: 1.2216 - mae: 0.9287 - val_loss: 3.9462 - val_mae: 1.8762\n",
            "Epoch 40/300\n",
            "1/1 [==============================] - 0s 35ms/step - loss: 0.7988 - mae: 0.6883 - val_loss: 3.5705 - val_mae: 1.8228\n",
            "Epoch 41/300\n",
            "1/1 [==============================] - 0s 33ms/step - loss: 0.7657 - mae: 0.6601 - val_loss: 3.7398 - val_mae: 1.7664\n",
            "Epoch 42/300\n",
            "1/1 [==============================] - 0s 42ms/step - loss: 0.9999 - mae: 0.7480 - val_loss: 3.2678 - val_mae: 1.6954\n",
            "Epoch 43/300\n",
            "1/1 [==============================] - 0s 39ms/step - loss: 0.8939 - mae: 0.7095 - val_loss: 2.7498 - val_mae: 1.6111\n",
            "Epoch 44/300\n",
            "1/1 [==============================] - 0s 35ms/step - loss: 0.6331 - mae: 0.6163 - val_loss: 3.2473 - val_mae: 1.5283\n",
            "Epoch 45/300\n",
            "1/1 [==============================] - 0s 45ms/step - loss: 0.7132 - mae: 0.6579 - val_loss: 3.6240 - val_mae: 1.4679\n",
            "Epoch 46/300\n",
            "1/1 [==============================] - 0s 39ms/step - loss: 0.8197 - mae: 0.7223 - val_loss: 2.8373 - val_mae: 1.4381\n",
            "Epoch 47/300\n",
            "1/1 [==============================] - 0s 44ms/step - loss: 0.6053 - mae: 0.6022 - val_loss: 2.2043 - val_mae: 1.4261\n",
            "Epoch 48/300\n",
            "1/1 [==============================] - 0s 33ms/step - loss: 0.5336 - mae: 0.5687 - val_loss: 2.1816 - val_mae: 1.4103\n",
            "Epoch 49/300\n",
            "1/1 [==============================] - 0s 33ms/step - loss: 0.6413 - mae: 0.6124 - val_loss: 2.0793 - val_mae: 1.3784\n",
            "Epoch 50/300\n",
            "1/1 [==============================] - 0s 42ms/step - loss: 0.5711 - mae: 0.5748 - val_loss: 2.0545 - val_mae: 1.3327\n",
            "Epoch 51/300\n",
            "1/1 [==============================] - 0s 34ms/step - loss: 0.4245 - mae: 0.5120 - val_loss: 2.4773 - val_mae: 1.2868\n",
            "Epoch 52/300\n",
            "1/1 [==============================] - 0s 36ms/step - loss: 0.4668 - mae: 0.5469 - val_loss: 2.6059 - val_mae: 1.2576\n",
            "Epoch 53/300\n",
            "1/1 [==============================] - 0s 34ms/step - loss: 0.4926 - mae: 0.5728 - val_loss: 2.1151 - val_mae: 1.2482\n",
            "Epoch 54/300\n",
            "1/1 [==============================] - 0s 34ms/step - loss: 0.3703 - mae: 0.4915 - val_loss: 1.8075 - val_mae: 1.2467\n",
            "Epoch 55/300\n",
            "1/1 [==============================] - 0s 42ms/step - loss: 0.3532 - mae: 0.4618 - val_loss: 1.7922 - val_mae: 1.2356\n",
            "Epoch 56/300\n",
            "1/1 [==============================] - 0s 34ms/step - loss: 0.4007 - mae: 0.4903 - val_loss: 1.7189 - val_mae: 1.2057\n",
            "Epoch 57/300\n",
            "1/1 [==============================] - 0s 48ms/step - loss: 0.3407 - mae: 0.4541 - val_loss: 1.7684 - val_mae: 1.1635\n",
            "Epoch 58/300\n",
            "1/1 [==============================] - 0s 36ms/step - loss: 0.2834 - mae: 0.4280 - val_loss: 1.9986 - val_mae: 1.1245\n",
            "Epoch 59/300\n",
            "1/1 [==============================] - 0s 36ms/step - loss: 0.3206 - mae: 0.4605 - val_loss: 1.9378 - val_mae: 1.1006\n",
            "Epoch 60/300\n",
            "1/1 [==============================] - 0s 43ms/step - loss: 0.3040 - mae: 0.4468 - val_loss: 1.6298 - val_mae: 1.0910\n",
            "Epoch 61/300\n",
            "1/1 [==============================] - 0s 38ms/step - loss: 0.2440 - mae: 0.3985 - val_loss: 1.4849 - val_mae: 1.0831\n",
            "Epoch 62/300\n",
            "1/1 [==============================] - 0s 30ms/step - loss: 0.2574 - mae: 0.4114 - val_loss: 1.4411 - val_mae: 1.0637\n",
            "Epoch 63/300\n",
            "1/1 [==============================] - 0s 35ms/step - loss: 0.2631 - mae: 0.4157 - val_loss: 1.4210 - val_mae: 1.0308\n",
            "Epoch 64/300\n",
            "1/1 [==============================] - 0s 29ms/step - loss: 0.2170 - mae: 0.3850 - val_loss: 1.5505 - val_mae: 0.9938\n",
            "Epoch 65/300\n",
            "1/1 [==============================] - 0s 36ms/step - loss: 0.2111 - mae: 0.3667 - val_loss: 1.6435 - val_mae: 0.9806\n",
            "Epoch 66/300\n",
            "1/1 [==============================] - 0s 37ms/step - loss: 0.2257 - mae: 0.3762 - val_loss: 1.4806 - val_mae: 0.9532\n",
            "Epoch 67/300\n",
            "1/1 [==============================] - 0s 38ms/step - loss: 0.1935 - mae: 0.3488 - val_loss: 1.2906 - val_mae: 0.9475\n",
            "Epoch 68/300\n",
            "1/1 [==============================] - 0s 39ms/step - loss: 0.1810 - mae: 0.3550 - val_loss: 1.2205 - val_mae: 0.9357\n",
            "Epoch 69/300\n",
            "1/1 [==============================] - 0s 58ms/step - loss: 0.1939 - mae: 0.3666 - val_loss: 1.2075 - val_mae: 0.9114\n",
            "Epoch 70/300\n",
            "1/1 [==============================] - 0s 33ms/step - loss: 0.1749 - mae: 0.3507 - val_loss: 1.2912 - val_mae: 0.8794\n",
            "Epoch 71/300\n",
            "1/1 [==============================] - 0s 35ms/step - loss: 0.1601 - mae: 0.3201 - val_loss: 1.3968 - val_mae: 0.9144\n",
            "Epoch 72/300\n",
            "1/1 [==============================] - 0s 33ms/step - loss: 0.1708 - mae: 0.3168 - val_loss: 1.3225 - val_mae: 0.8871\n",
            "Epoch 73/300\n",
            "1/1 [==============================] - 0s 35ms/step - loss: 0.1587 - mae: 0.3059 - val_loss: 1.1565 - val_mae: 0.8275\n",
            "Epoch 74/300\n",
            "1/1 [==============================] - 0s 36ms/step - loss: 0.1459 - mae: 0.3132 - val_loss: 1.0701 - val_mae: 0.8179\n",
            "Epoch 75/300\n",
            "1/1 [==============================] - 0s 33ms/step - loss: 0.1536 - mae: 0.3307 - val_loss: 1.0633 - val_mae: 0.7996\n",
            "Epoch 76/300\n",
            "1/1 [==============================] - 0s 39ms/step - loss: 0.1457 - mae: 0.3208 - val_loss: 1.1371 - val_mae: 0.8136\n",
            "Epoch 77/300\n",
            "1/1 [==============================] - 0s 48ms/step - loss: 0.1354 - mae: 0.2928 - val_loss: 1.2249 - val_mae: 0.8599\n",
            "Epoch 78/300\n",
            "1/1 [==============================] - 0s 31ms/step - loss: 0.1410 - mae: 0.2821 - val_loss: 1.1811 - val_mae: 0.8420\n",
            "Epoch 79/300\n",
            "1/1 [==============================] - 0s 31ms/step - loss: 0.1347 - mae: 0.2782 - val_loss: 1.0619 - val_mae: 0.7792\n",
            "Epoch 80/300\n",
            "1/1 [==============================] - 0s 42ms/step - loss: 0.1269 - mae: 0.2885 - val_loss: 0.9989 - val_mae: 0.7439\n",
            "Epoch 81/300\n",
            "1/1 [==============================] - 0s 37ms/step - loss: 0.1306 - mae: 0.3046 - val_loss: 1.0057 - val_mae: 0.7436\n",
            "Epoch 82/300\n",
            "1/1 [==============================] - 0s 38ms/step - loss: 0.1250 - mae: 0.2943 - val_loss: 1.0708 - val_mae: 0.7913\n",
            "Epoch 83/300\n",
            "1/1 [==============================] - 0s 37ms/step - loss: 0.1194 - mae: 0.2716 - val_loss: 1.1264 - val_mae: 0.8220\n",
            "Epoch 84/300\n",
            "1/1 [==============================] - 0s 41ms/step - loss: 0.1219 - mae: 0.2615 - val_loss: 1.0850 - val_mae: 0.8019\n",
            "Epoch 85/300\n",
            "1/1 [==============================] - 0s 38ms/step - loss: 0.1166 - mae: 0.2622 - val_loss: 1.0037 - val_mae: 0.7531\n",
            "Epoch 86/300\n",
            "1/1 [==============================] - 0s 46ms/step - loss: 0.1131 - mae: 0.2714 - val_loss: 0.9655 - val_mae: 0.7251\n",
            "Epoch 87/300\n",
            "1/1 [==============================] - 0s 35ms/step - loss: 0.1143 - mae: 0.2801 - val_loss: 0.9805 - val_mae: 0.7410\n",
            "Epoch 88/300\n",
            "1/1 [==============================] - 0s 34ms/step - loss: 0.1096 - mae: 0.2679 - val_loss: 1.0326 - val_mae: 0.7776\n",
            "Epoch 89/300\n",
            "1/1 [==============================] - 0s 36ms/step - loss: 0.1075 - mae: 0.2545 - val_loss: 1.0557 - val_mae: 0.7914\n",
            "Epoch 90/300\n",
            "1/1 [==============================] - 0s 42ms/step - loss: 0.1078 - mae: 0.2489 - val_loss: 1.0102 - val_mae: 0.7667\n",
            "Epoch 91/300\n",
            "1/1 [==============================] - 0s 41ms/step - loss: 0.1034 - mae: 0.2502 - val_loss: 0.9549 - val_mae: 0.7364\n",
            "Epoch 92/300\n",
            "1/1 [==============================] - 0s 38ms/step - loss: 0.1023 - mae: 0.2571 - val_loss: 0.9384 - val_mae: 0.7298\n",
            "Epoch 93/300\n",
            "1/1 [==============================] - 0s 37ms/step - loss: 0.1016 - mae: 0.2570 - val_loss: 0.9624 - val_mae: 0.7439\n",
            "Epoch 94/300\n",
            "1/1 [==============================] - 0s 36ms/step - loss: 0.0981 - mae: 0.2479 - val_loss: 0.9981 - val_mae: 0.7654\n",
            "Epoch 95/300\n",
            "1/1 [==============================] - 0s 38ms/step - loss: 0.0977 - mae: 0.2386 - val_loss: 0.9915 - val_mae: 0.7632\n",
            "Epoch 96/300\n",
            "1/1 [==============================] - 0s 32ms/step - loss: 0.0962 - mae: 0.2364 - val_loss: 0.9452 - val_mae: 0.7413\n",
            "Epoch 97/300\n",
            "1/1 [==============================] - 0s 37ms/step - loss: 0.0936 - mae: 0.2401 - val_loss: 0.9113 - val_mae: 0.7270\n",
            "Epoch 98/300\n",
            "1/1 [==============================] - 0s 33ms/step - loss: 0.0933 - mae: 0.2436 - val_loss: 0.9123 - val_mae: 0.7296\n",
            "Epoch 99/300\n",
            "1/1 [==============================] - 0s 36ms/step - loss: 0.0915 - mae: 0.2397 - val_loss: 0.9382 - val_mae: 0.7427\n",
            "Epoch 100/300\n",
            "1/1 [==============================] - 0s 38ms/step - loss: 0.0898 - mae: 0.2311 - val_loss: 0.9505 - val_mae: 0.7486\n",
            "Epoch 101/300\n",
            "1/1 [==============================] - 0s 58ms/step - loss: 0.0894 - mae: 0.2270 - val_loss: 0.9233 - val_mae: 0.7385\n",
            "Epoch 102/300\n",
            "1/1 [==============================] - 0s 34ms/step - loss: 0.0874 - mae: 0.2272 - val_loss: 0.8873 - val_mae: 0.7236\n",
            "Epoch 103/300\n",
            "1/1 [==============================] - 0s 51ms/step - loss: 0.0865 - mae: 0.2308 - val_loss: 0.8766 - val_mae: 0.7193\n",
            "Epoch 104/300\n",
            "1/1 [==============================] - 0s 34ms/step - loss: 0.0856 - mae: 0.2298 - val_loss: 0.8927 - val_mae: 0.7271\n",
            "Epoch 105/300\n",
            "1/1 [==============================] - 0s 38ms/step - loss: 0.0839 - mae: 0.2233 - val_loss: 0.9100 - val_mae: 0.7340\n",
            "Epoch 106/300\n",
            "1/1 [==============================] - 0s 42ms/step - loss: 0.0833 - mae: 0.2182 - val_loss: 0.8989 - val_mae: 0.7293\n",
            "Epoch 107/300\n",
            "1/1 [==============================] - 0s 36ms/step - loss: 0.0820 - mae: 0.2168 - val_loss: 0.8700 - val_mae: 0.7167\n",
            "Epoch 108/300\n",
            "1/1 [==============================] - 0s 34ms/step - loss: 0.0808 - mae: 0.2186 - val_loss: 0.8545 - val_mae: 0.7097\n",
            "Epoch 109/300\n",
            "1/1 [==============================] - 0s 44ms/step - loss: 0.0801 - mae: 0.2190 - val_loss: 0.8612 - val_mae: 0.7132\n",
            "Epoch 110/300\n",
            "1/1 [==============================] - 0s 35ms/step - loss: 0.0788 - mae: 0.2147 - val_loss: 0.8755 - val_mae: 0.7204\n",
            "Epoch 111/300\n",
            "1/1 [==============================] - 0s 37ms/step - loss: 0.0780 - mae: 0.2097 - val_loss: 0.8721 - val_mae: 0.7199\n",
            "Epoch 112/300\n",
            "1/1 [==============================] - 0s 38ms/step - loss: 0.0771 - mae: 0.2080 - val_loss: 0.8499 - val_mae: 0.7098\n",
            "Epoch 113/300\n",
            "1/1 [==============================] - 0s 33ms/step - loss: 0.0760 - mae: 0.2091 - val_loss: 0.8319 - val_mae: 0.7020\n",
            "Epoch 114/300\n",
            "1/1 [==============================] - 0s 37ms/step - loss: 0.0754 - mae: 0.2102 - val_loss: 0.8320 - val_mae: 0.7023\n",
            "Epoch 115/300\n",
            "1/1 [==============================] - 0s 36ms/step - loss: 0.0744 - mae: 0.2075 - val_loss: 0.8418 - val_mae: 0.7076\n",
            "Epoch 116/300\n",
            "1/1 [==============================] - 0s 38ms/step - loss: 0.0736 - mae: 0.2029 - val_loss: 0.8410 - val_mae: 0.7089\n",
            "Epoch 117/300\n",
            "1/1 [==============================] - 0s 55ms/step - loss: 0.0729 - mae: 0.2003 - val_loss: 0.8243 - val_mae: 0.6998\n",
            "Epoch 118/300\n",
            "1/1 [==============================] - 0s 39ms/step - loss: 0.0719 - mae: 0.2007 - val_loss: 0.8081 - val_mae: 0.6915\n",
            "Epoch 119/300\n",
            "1/1 [==============================] - 0s 36ms/step - loss: 0.0712 - mae: 0.2013 - val_loss: 0.8066 - val_mae: 0.6915\n",
            "Epoch 120/300\n",
            "1/1 [==============================] - 0s 61ms/step - loss: 0.0704 - mae: 0.1989 - val_loss: 0.8142 - val_mae: 0.6981\n",
            "Epoch 121/300\n",
            "1/1 [==============================] - 0s 40ms/step - loss: 0.0696 - mae: 0.1948 - val_loss: 0.8142 - val_mae: 0.6995\n",
            "Epoch 122/300\n",
            "1/1 [==============================] - 0s 37ms/step - loss: 0.0690 - mae: 0.1923 - val_loss: 0.8010 - val_mae: 0.6925\n",
            "Epoch 123/300\n",
            "1/1 [==============================] - 0s 37ms/step - loss: 0.0682 - mae: 0.1924 - val_loss: 0.7875 - val_mae: 0.6851\n",
            "Epoch 124/300\n",
            "1/1 [==============================] - 0s 32ms/step - loss: 0.0675 - mae: 0.1926 - val_loss: 0.7848 - val_mae: 0.6852\n",
            "Epoch 125/300\n",
            "1/1 [==============================] - 0s 31ms/step - loss: 0.0668 - mae: 0.1906 - val_loss: 0.7891 - val_mae: 0.6897\n",
            "Epoch 126/300\n",
            "1/1 [==============================] - 0s 35ms/step - loss: 0.0661 - mae: 0.1873 - val_loss: 0.7874 - val_mae: 0.6902\n",
            "Epoch 127/300\n",
            "1/1 [==============================] - 0s 47ms/step - loss: 0.0655 - mae: 0.1851 - val_loss: 0.7756 - val_mae: 0.6842\n",
            "Epoch 128/300\n",
            "1/1 [==============================] - 0s 36ms/step - loss: 0.0648 - mae: 0.1848 - val_loss: 0.7642 - val_mae: 0.6782\n",
            "Epoch 129/300\n",
            "1/1 [==============================] - 0s 38ms/step - loss: 0.0641 - mae: 0.1844 - val_loss: 0.7622 - val_mae: 0.6782\n",
            "Epoch 130/300\n",
            "1/1 [==============================] - 0s 32ms/step - loss: 0.0635 - mae: 0.1824 - val_loss: 0.7645 - val_mae: 0.6808\n",
            "Epoch 131/300\n",
            "1/1 [==============================] - 0s 36ms/step - loss: 0.0629 - mae: 0.1796 - val_loss: 0.7613 - val_mae: 0.6798\n",
            "Epoch 132/300\n",
            "1/1 [==============================] - 0s 38ms/step - loss: 0.0622 - mae: 0.1778 - val_loss: 0.7517 - val_mae: 0.6746\n",
            "Epoch 133/300\n",
            "1/1 [==============================] - 0s 47ms/step - loss: 0.0616 - mae: 0.1774 - val_loss: 0.7437 - val_mae: 0.6705\n",
            "Epoch 134/300\n",
            "1/1 [==============================] - 0s 44ms/step - loss: 0.0610 - mae: 0.1769 - val_loss: 0.7427 - val_mae: 0.6707\n",
            "Epoch 135/300\n",
            "1/1 [==============================] - 0s 33ms/step - loss: 0.0604 - mae: 0.1749 - val_loss: 0.7434 - val_mae: 0.6719\n",
            "Epoch 136/300\n",
            "1/1 [==============================] - 0s 34ms/step - loss: 0.0598 - mae: 0.1726 - val_loss: 0.7390 - val_mae: 0.6698\n",
            "Epoch 137/300\n",
            "1/1 [==============================] - 0s 34ms/step - loss: 0.0592 - mae: 0.1713 - val_loss: 0.7302 - val_mae: 0.6650\n",
            "Epoch 138/300\n",
            "1/1 [==============================] - 0s 41ms/step - loss: 0.0586 - mae: 0.1709 - val_loss: 0.7244 - val_mae: 0.6620\n",
            "Epoch 139/300\n",
            "1/1 [==============================] - 0s 42ms/step - loss: 0.0581 - mae: 0.1700 - val_loss: 0.7239 - val_mae: 0.6623\n",
            "Epoch 140/300\n",
            "1/1 [==============================] - 0s 42ms/step - loss: 0.0575 - mae: 0.1680 - val_loss: 0.7236 - val_mae: 0.6627\n",
            "Epoch 141/300\n",
            "1/1 [==============================] - 0s 37ms/step - loss: 0.0570 - mae: 0.1661 - val_loss: 0.7188 - val_mae: 0.6603\n",
            "Epoch 142/300\n",
            "1/1 [==============================] - 0s 34ms/step - loss: 0.0564 - mae: 0.1650 - val_loss: 0.7118 - val_mae: 0.6566\n",
            "Epoch 143/300\n",
            "1/1 [==============================] - 0s 39ms/step - loss: 0.0559 - mae: 0.1644 - val_loss: 0.7077 - val_mae: 0.6546\n",
            "Epoch 144/300\n",
            "1/1 [==============================] - 0s 32ms/step - loss: 0.0554 - mae: 0.1632 - val_loss: 0.7070 - val_mae: 0.6547\n",
            "Epoch 145/300\n",
            "1/1 [==============================] - 0s 47ms/step - loss: 0.0549 - mae: 0.1613 - val_loss: 0.7056 - val_mae: 0.6542\n",
            "Epoch 146/300\n",
            "1/1 [==============================] - 0s 32ms/step - loss: 0.0544 - mae: 0.1595 - val_loss: 0.6995 - val_mae: 0.6509\n",
            "Epoch 147/300\n",
            "1/1 [==============================] - 0s 43ms/step - loss: 0.0539 - mae: 0.1586 - val_loss: 0.6929 - val_mae: 0.6474\n",
            "Epoch 148/300\n",
            "1/1 [==============================] - 0s 34ms/step - loss: 0.0534 - mae: 0.1579 - val_loss: 0.6899 - val_mae: 0.6460\n",
            "Epoch 149/300\n",
            "1/1 [==============================] - 0s 41ms/step - loss: 0.0529 - mae: 0.1565 - val_loss: 0.6885 - val_mae: 0.6457\n",
            "Epoch 150/300\n",
            "1/1 [==============================] - 0s 33ms/step - loss: 0.0524 - mae: 0.1548 - val_loss: 0.6849 - val_mae: 0.6441\n",
            "Epoch 151/300\n",
            "1/1 [==============================] - 0s 40ms/step - loss: 0.0520 - mae: 0.1535 - val_loss: 0.6786 - val_mae: 0.6409\n",
            "Epoch 152/300\n",
            "1/1 [==============================] - 0s 38ms/step - loss: 0.0515 - mae: 0.1527 - val_loss: 0.6733 - val_mae: 0.6383\n",
            "Epoch 153/300\n",
            "1/1 [==============================] - 0s 36ms/step - loss: 0.0510 - mae: 0.1518 - val_loss: 0.6709 - val_mae: 0.6373\n",
            "Epoch 154/300\n",
            "1/1 [==============================] - 0s 37ms/step - loss: 0.0506 - mae: 0.1503 - val_loss: 0.6690 - val_mae: 0.6365\n",
            "Epoch 155/300\n",
            "1/1 [==============================] - 0s 46ms/step - loss: 0.0501 - mae: 0.1487 - val_loss: 0.6649 - val_mae: 0.6345\n",
            "Epoch 156/300\n",
            "1/1 [==============================] - 0s 35ms/step - loss: 0.0497 - mae: 0.1474 - val_loss: 0.6602 - val_mae: 0.6320\n",
            "Epoch 157/300\n",
            "1/1 [==============================] - 0s 36ms/step - loss: 0.0492 - mae: 0.1464 - val_loss: 0.6568 - val_mae: 0.6304\n",
            "Epoch 158/300\n",
            "1/1 [==============================] - 0s 41ms/step - loss: 0.0488 - mae: 0.1453 - val_loss: 0.6538 - val_mae: 0.6290\n",
            "Epoch 159/300\n",
            "1/1 [==============================] - 0s 39ms/step - loss: 0.0484 - mae: 0.1441 - val_loss: 0.6496 - val_mae: 0.6268\n",
            "Epoch 160/300\n",
            "1/1 [==============================] - 0s 39ms/step - loss: 0.0480 - mae: 0.1431 - val_loss: 0.6460 - val_mae: 0.6250\n",
            "Epoch 161/300\n",
            "1/1 [==============================] - 0s 40ms/step - loss: 0.0475 - mae: 0.1421 - val_loss: 0.6426 - val_mae: 0.6234\n",
            "Epoch 162/300\n",
            "1/1 [==============================] - 0s 36ms/step - loss: 0.0471 - mae: 0.1410 - val_loss: 0.6395 - val_mae: 0.6219\n",
            "Epoch 163/300\n",
            "1/1 [==============================] - 0s 38ms/step - loss: 0.0467 - mae: 0.1399 - val_loss: 0.6362 - val_mae: 0.6203\n",
            "Epoch 164/300\n",
            "1/1 [==============================] - 0s 33ms/step - loss: 0.0463 - mae: 0.1388 - val_loss: 0.6320 - val_mae: 0.6182\n",
            "Epoch 165/300\n",
            "1/1 [==============================] - 0s 39ms/step - loss: 0.0459 - mae: 0.1378 - val_loss: 0.6286 - val_mae: 0.6165\n",
            "Epoch 166/300\n",
            "1/1 [==============================] - 0s 34ms/step - loss: 0.0455 - mae: 0.1368 - val_loss: 0.6265 - val_mae: 0.6155\n",
            "Epoch 167/300\n",
            "1/1 [==============================] - 0s 39ms/step - loss: 0.0451 - mae: 0.1355 - val_loss: 0.6234 - val_mae: 0.6140\n",
            "Epoch 168/300\n",
            "1/1 [==============================] - 0s 35ms/step - loss: 0.0447 - mae: 0.1343 - val_loss: 0.6184 - val_mae: 0.6113\n",
            "Epoch 169/300\n",
            "1/1 [==============================] - 0s 46ms/step - loss: 0.0443 - mae: 0.1336 - val_loss: 0.6144 - val_mae: 0.6090\n",
            "Epoch 170/300\n",
            "1/1 [==============================] - 0s 40ms/step - loss: 0.0439 - mae: 0.1327 - val_loss: 0.6133 - val_mae: 0.6085\n",
            "Epoch 171/300\n",
            "1/1 [==============================] - 0s 39ms/step - loss: 0.0436 - mae: 0.1315 - val_loss: 0.6117 - val_mae: 0.6076\n",
            "Epoch 172/300\n",
            "1/1 [==============================] - 0s 33ms/step - loss: 0.0432 - mae: 0.1304 - val_loss: 0.6070 - val_mae: 0.6049\n",
            "Epoch 173/300\n",
            "1/1 [==============================] - 0s 35ms/step - loss: 0.0428 - mae: 0.1297 - val_loss: 0.6020 - val_mae: 0.6020\n",
            "Epoch 174/300\n",
            "1/1 [==============================] - 0s 42ms/step - loss: 0.0424 - mae: 0.1290 - val_loss: 0.5996 - val_mae: 0.6008\n",
            "Epoch 175/300\n",
            "1/1 [==============================] - 0s 40ms/step - loss: 0.0421 - mae: 0.1280 - val_loss: 0.5981 - val_mae: 0.5999\n",
            "Epoch 176/300\n",
            "1/1 [==============================] - 0s 37ms/step - loss: 0.0417 - mae: 0.1269 - val_loss: 0.5949 - val_mae: 0.5981\n",
            "Epoch 177/300\n",
            "1/1 [==============================] - 0s 40ms/step - loss: 0.0413 - mae: 0.1261 - val_loss: 0.5900 - val_mae: 0.5953\n",
            "Epoch 178/300\n",
            "1/1 [==============================] - 0s 37ms/step - loss: 0.0410 - mae: 0.1254 - val_loss: 0.5858 - val_mae: 0.5929\n",
            "Epoch 179/300\n",
            "1/1 [==============================] - 0s 33ms/step - loss: 0.0406 - mae: 0.1246 - val_loss: 0.5835 - val_mae: 0.5917\n",
            "Epoch 180/300\n",
            "1/1 [==============================] - 0s 37ms/step - loss: 0.0403 - mae: 0.1236 - val_loss: 0.5816 - val_mae: 0.5905\n",
            "Epoch 181/300\n",
            "1/1 [==============================] - 0s 37ms/step - loss: 0.0399 - mae: 0.1226 - val_loss: 0.5775 - val_mae: 0.5882\n",
            "Epoch 182/300\n",
            "1/1 [==============================] - 0s 60ms/step - loss: 0.0396 - mae: 0.1218 - val_loss: 0.5734 - val_mae: 0.5858\n",
            "Epoch 183/300\n",
            "1/1 [==============================] - 0s 36ms/step - loss: 0.0392 - mae: 0.1209 - val_loss: 0.5717 - val_mae: 0.5846\n",
            "Epoch 184/300\n",
            "1/1 [==============================] - 0s 37ms/step - loss: 0.0389 - mae: 0.1199 - val_loss: 0.5696 - val_mae: 0.5832\n",
            "Epoch 185/300\n",
            "1/1 [==============================] - 0s 40ms/step - loss: 0.0385 - mae: 0.1190 - val_loss: 0.5654 - val_mae: 0.5807\n",
            "Epoch 186/300\n",
            "1/1 [==============================] - 0s 42ms/step - loss: 0.0382 - mae: 0.1182 - val_loss: 0.5616 - val_mae: 0.5783\n",
            "Epoch 187/300\n",
            "1/1 [==============================] - 0s 50ms/step - loss: 0.0378 - mae: 0.1176 - val_loss: 0.5602 - val_mae: 0.5773\n",
            "Epoch 188/300\n",
            "1/1 [==============================] - 0s 37ms/step - loss: 0.0375 - mae: 0.1166 - val_loss: 0.5586 - val_mae: 0.5762\n",
            "Epoch 189/300\n",
            "1/1 [==============================] - 0s 39ms/step - loss: 0.0372 - mae: 0.1157 - val_loss: 0.5544 - val_mae: 0.5738\n",
            "Epoch 190/300\n",
            "1/1 [==============================] - 0s 47ms/step - loss: 0.0369 - mae: 0.1150 - val_loss: 0.5493 - val_mae: 0.5708\n",
            "Epoch 191/300\n",
            "1/1 [==============================] - 0s 44ms/step - loss: 0.0365 - mae: 0.1144 - val_loss: 0.5465 - val_mae: 0.5690\n",
            "Epoch 192/300\n",
            "1/1 [==============================] - 0s 41ms/step - loss: 0.0362 - mae: 0.1136 - val_loss: 0.5454 - val_mae: 0.5680\n",
            "Epoch 193/300\n",
            "1/1 [==============================] - 0s 41ms/step - loss: 0.0359 - mae: 0.1127 - val_loss: 0.5422 - val_mae: 0.5660\n",
            "Epoch 194/300\n",
            "1/1 [==============================] - 0s 36ms/step - loss: 0.0356 - mae: 0.1119 - val_loss: 0.5373 - val_mae: 0.5631\n",
            "Epoch 195/300\n",
            "1/1 [==============================] - 0s 34ms/step - loss: 0.0353 - mae: 0.1115 - val_loss: 0.5355 - val_mae: 0.5618\n",
            "Epoch 196/300\n",
            "1/1 [==============================] - 0s 33ms/step - loss: 0.0349 - mae: 0.1108 - val_loss: 0.5340 - val_mae: 0.5608\n",
            "Epoch 197/300\n",
            "1/1 [==============================] - 0s 45ms/step - loss: 0.0346 - mae: 0.1101 - val_loss: 0.5308 - val_mae: 0.5588\n",
            "Epoch 198/300\n",
            "1/1 [==============================] - 0s 38ms/step - loss: 0.0343 - mae: 0.1097 - val_loss: 0.5265 - val_mae: 0.5562\n",
            "Epoch 199/300\n",
            "1/1 [==============================] - 0s 39ms/step - loss: 0.0340 - mae: 0.1094 - val_loss: 0.5240 - val_mae: 0.5544\n",
            "Epoch 200/300\n",
            "1/1 [==============================] - 0s 39ms/step - loss: 0.0337 - mae: 0.1088 - val_loss: 0.5222 - val_mae: 0.5531\n",
            "Epoch 201/300\n",
            "1/1 [==============================] - 0s 34ms/step - loss: 0.0334 - mae: 0.1081 - val_loss: 0.5190 - val_mae: 0.5509\n",
            "Epoch 202/300\n",
            "1/1 [==============================] - 0s 39ms/step - loss: 0.0331 - mae: 0.1075 - val_loss: 0.5146 - val_mae: 0.5481\n",
            "Epoch 203/300\n",
            "1/1 [==============================] - 0s 39ms/step - loss: 0.0328 - mae: 0.1071 - val_loss: 0.5128 - val_mae: 0.5467\n",
            "Epoch 204/300\n",
            "1/1 [==============================] - 0s 34ms/step - loss: 0.0325 - mae: 0.1064 - val_loss: 0.5107 - val_mae: 0.5452\n",
            "Epoch 205/300\n",
            "1/1 [==============================] - 0s 36ms/step - loss: 0.0322 - mae: 0.1059 - val_loss: 0.5081 - val_mae: 0.5434\n",
            "Epoch 206/300\n",
            "1/1 [==============================] - 0s 33ms/step - loss: 0.0319 - mae: 0.1055 - val_loss: 0.5048 - val_mae: 0.5412\n",
            "Epoch 207/300\n",
            "1/1 [==============================] - 0s 38ms/step - loss: 0.0316 - mae: 0.1052 - val_loss: 0.5025 - val_mae: 0.5396\n",
            "Epoch 208/300\n",
            "1/1 [==============================] - 0s 44ms/step - loss: 0.0313 - mae: 0.1045 - val_loss: 0.5003 - val_mae: 0.5380\n",
            "Epoch 209/300\n",
            "1/1 [==============================] - 0s 41ms/step - loss: 0.0310 - mae: 0.1038 - val_loss: 0.4965 - val_mae: 0.5358\n",
            "Epoch 210/300\n",
            "1/1 [==============================] - 0s 50ms/step - loss: 0.0307 - mae: 0.1033 - val_loss: 0.4931 - val_mae: 0.5339\n",
            "Epoch 211/300\n",
            "1/1 [==============================] - 0s 44ms/step - loss: 0.0304 - mae: 0.1026 - val_loss: 0.4910 - val_mae: 0.5324\n",
            "Epoch 212/300\n",
            "1/1 [==============================] - 0s 32ms/step - loss: 0.0302 - mae: 0.1019 - val_loss: 0.4888 - val_mae: 0.5308\n",
            "Epoch 213/300\n",
            "1/1 [==============================] - 0s 40ms/step - loss: 0.0299 - mae: 0.1013 - val_loss: 0.4857 - val_mae: 0.5289\n",
            "Epoch 214/300\n",
            "1/1 [==============================] - 0s 45ms/step - loss: 0.0296 - mae: 0.1009 - val_loss: 0.4835 - val_mae: 0.5271\n",
            "Epoch 215/300\n",
            "1/1 [==============================] - 0s 37ms/step - loss: 0.0293 - mae: 0.1004 - val_loss: 0.4809 - val_mae: 0.5253\n",
            "Epoch 216/300\n",
            "1/1 [==============================] - 0s 39ms/step - loss: 0.0290 - mae: 0.1000 - val_loss: 0.4783 - val_mae: 0.5235\n",
            "Epoch 217/300\n",
            "1/1 [==============================] - 0s 34ms/step - loss: 0.0287 - mae: 0.0994 - val_loss: 0.4760 - val_mae: 0.5219\n",
            "Epoch 218/300\n",
            "1/1 [==============================] - 0s 44ms/step - loss: 0.0284 - mae: 0.0988 - val_loss: 0.4740 - val_mae: 0.5204\n",
            "Epoch 219/300\n",
            "1/1 [==============================] - 0s 33ms/step - loss: 0.0281 - mae: 0.0982 - val_loss: 0.4716 - val_mae: 0.5189\n",
            "Epoch 220/300\n",
            "1/1 [==============================] - 0s 38ms/step - loss: 0.0279 - mae: 0.0976 - val_loss: 0.4704 - val_mae: 0.5178\n",
            "Epoch 221/300\n",
            "1/1 [==============================] - 0s 37ms/step - loss: 0.0276 - mae: 0.0970 - val_loss: 0.4684 - val_mae: 0.5163\n",
            "Epoch 222/300\n",
            "1/1 [==============================] - 0s 39ms/step - loss: 0.0273 - mae: 0.0964 - val_loss: 0.4661 - val_mae: 0.5148\n",
            "Epoch 223/300\n",
            "1/1 [==============================] - 0s 36ms/step - loss: 0.0270 - mae: 0.0959 - val_loss: 0.4640 - val_mae: 0.5133\n",
            "Epoch 224/300\n",
            "1/1 [==============================] - 0s 42ms/step - loss: 0.0268 - mae: 0.0954 - val_loss: 0.4617 - val_mae: 0.5121\n",
            "Epoch 225/300\n",
            "1/1 [==============================] - 0s 39ms/step - loss: 0.0265 - mae: 0.0948 - val_loss: 0.4611 - val_mae: 0.5114\n",
            "Epoch 226/300\n",
            "1/1 [==============================] - 0s 48ms/step - loss: 0.0262 - mae: 0.0944 - val_loss: 0.4587 - val_mae: 0.5102\n",
            "Epoch 227/300\n",
            "1/1 [==============================] - 0s 47ms/step - loss: 0.0259 - mae: 0.0939 - val_loss: 0.4555 - val_mae: 0.5086\n",
            "Epoch 228/300\n",
            "1/1 [==============================] - 0s 39ms/step - loss: 0.0257 - mae: 0.0935 - val_loss: 0.4535 - val_mae: 0.5074\n",
            "Epoch 229/300\n",
            "1/1 [==============================] - 0s 40ms/step - loss: 0.0254 - mae: 0.0930 - val_loss: 0.4522 - val_mae: 0.5064\n",
            "Epoch 230/300\n",
            "1/1 [==============================] - 0s 41ms/step - loss: 0.0251 - mae: 0.0925 - val_loss: 0.4498 - val_mae: 0.5051\n",
            "Epoch 231/300\n",
            "1/1 [==============================] - 0s 41ms/step - loss: 0.0249 - mae: 0.0919 - val_loss: 0.4476 - val_mae: 0.5038\n",
            "Epoch 232/300\n",
            "1/1 [==============================] - 0s 40ms/step - loss: 0.0246 - mae: 0.0913 - val_loss: 0.4462 - val_mae: 0.5028\n",
            "Epoch 233/300\n",
            "1/1 [==============================] - 0s 37ms/step - loss: 0.0243 - mae: 0.0907 - val_loss: 0.4448 - val_mae: 0.5017\n",
            "Epoch 234/300\n",
            "1/1 [==============================] - 0s 54ms/step - loss: 0.0241 - mae: 0.0901 - val_loss: 0.4426 - val_mae: 0.5004\n",
            "Epoch 235/300\n",
            "1/1 [==============================] - 0s 40ms/step - loss: 0.0238 - mae: 0.0894 - val_loss: 0.4412 - val_mae: 0.4991\n",
            "Epoch 236/300\n",
            "1/1 [==============================] - 0s 38ms/step - loss: 0.0235 - mae: 0.0887 - val_loss: 0.4408 - val_mae: 0.4982\n",
            "Epoch 237/300\n",
            "1/1 [==============================] - 0s 61ms/step - loss: 0.0233 - mae: 0.0880 - val_loss: 0.4389 - val_mae: 0.4970\n",
            "Epoch 238/300\n",
            "1/1 [==============================] - 0s 34ms/step - loss: 0.0230 - mae: 0.0874 - val_loss: 0.4371 - val_mae: 0.4959\n",
            "Epoch 239/300\n",
            "1/1 [==============================] - 0s 42ms/step - loss: 0.0227 - mae: 0.0870 - val_loss: 0.4359 - val_mae: 0.4949\n",
            "Epoch 240/300\n",
            "1/1 [==============================] - 0s 43ms/step - loss: 0.0225 - mae: 0.0865 - val_loss: 0.4333 - val_mae: 0.4933\n",
            "Epoch 241/300\n",
            "1/1 [==============================] - 0s 42ms/step - loss: 0.0222 - mae: 0.0861 - val_loss: 0.4303 - val_mae: 0.4916\n",
            "Epoch 242/300\n",
            "1/1 [==============================] - 0s 37ms/step - loss: 0.0220 - mae: 0.0857 - val_loss: 0.4282 - val_mae: 0.4903\n",
            "Epoch 243/300\n",
            "1/1 [==============================] - 0s 32ms/step - loss: 0.0217 - mae: 0.0851 - val_loss: 0.4270 - val_mae: 0.4893\n",
            "Epoch 244/300\n",
            "1/1 [==============================] - 0s 41ms/step - loss: 0.0215 - mae: 0.0845 - val_loss: 0.4247 - val_mae: 0.4881\n",
            "Epoch 245/300\n",
            "1/1 [==============================] - 0s 45ms/step - loss: 0.0212 - mae: 0.0839 - val_loss: 0.4227 - val_mae: 0.4869\n",
            "Epoch 246/300\n",
            "1/1 [==============================] - 0s 42ms/step - loss: 0.0209 - mae: 0.0833 - val_loss: 0.4220 - val_mae: 0.4861\n",
            "Epoch 247/300\n",
            "1/1 [==============================] - 0s 37ms/step - loss: 0.0207 - mae: 0.0826 - val_loss: 0.4215 - val_mae: 0.4851\n",
            "Epoch 248/300\n",
            "1/1 [==============================] - 0s 35ms/step - loss: 0.0204 - mae: 0.0820 - val_loss: 0.4200 - val_mae: 0.4838\n",
            "Epoch 249/300\n",
            "1/1 [==============================] - 0s 38ms/step - loss: 0.0202 - mae: 0.0815 - val_loss: 0.4179 - val_mae: 0.4825\n",
            "Epoch 250/300\n",
            "1/1 [==============================] - 0s 47ms/step - loss: 0.0199 - mae: 0.0809 - val_loss: 0.4179 - val_mae: 0.4820\n",
            "Epoch 251/300\n",
            "1/1 [==============================] - 0s 35ms/step - loss: 0.0197 - mae: 0.0804 - val_loss: 0.4179 - val_mae: 0.4812\n",
            "Epoch 252/300\n",
            "1/1 [==============================] - 0s 37ms/step - loss: 0.0194 - mae: 0.0799 - val_loss: 0.4148 - val_mae: 0.4795\n",
            "Epoch 253/300\n",
            "1/1 [==============================] - 0s 45ms/step - loss: 0.0192 - mae: 0.0795 - val_loss: 0.4121 - val_mae: 0.4778\n",
            "Epoch 254/300\n",
            "1/1 [==============================] - 0s 33ms/step - loss: 0.0190 - mae: 0.0790 - val_loss: 0.4109 - val_mae: 0.4767\n",
            "Epoch 255/300\n",
            "1/1 [==============================] - 0s 46ms/step - loss: 0.0187 - mae: 0.0786 - val_loss: 0.4100 - val_mae: 0.4757\n",
            "Epoch 256/300\n",
            "1/1 [==============================] - 0s 34ms/step - loss: 0.0184 - mae: 0.0781 - val_loss: 0.4080 - val_mae: 0.4744\n",
            "Epoch 257/300\n",
            "1/1 [==============================] - 0s 41ms/step - loss: 0.0182 - mae: 0.0776 - val_loss: 0.4060 - val_mae: 0.4732\n",
            "Epoch 258/300\n",
            "1/1 [==============================] - 0s 38ms/step - loss: 0.0180 - mae: 0.0771 - val_loss: 0.4061 - val_mae: 0.4727\n",
            "Epoch 259/300\n",
            "1/1 [==============================] - 0s 36ms/step - loss: 0.0177 - mae: 0.0765 - val_loss: 0.4049 - val_mae: 0.4718\n",
            "Epoch 260/300\n",
            "1/1 [==============================] - 0s 42ms/step - loss: 0.0175 - mae: 0.0759 - val_loss: 0.4034 - val_mae: 0.4708\n",
            "Epoch 261/300\n",
            "1/1 [==============================] - 0s 37ms/step - loss: 0.0172 - mae: 0.0753 - val_loss: 0.4024 - val_mae: 0.4698\n",
            "Epoch 262/300\n",
            "1/1 [==============================] - 0s 41ms/step - loss: 0.0170 - mae: 0.0748 - val_loss: 0.4002 - val_mae: 0.4687\n",
            "Epoch 263/300\n",
            "1/1 [==============================] - 0s 37ms/step - loss: 0.0167 - mae: 0.0742 - val_loss: 0.3995 - val_mae: 0.4699\n",
            "Epoch 264/300\n",
            "1/1 [==============================] - 0s 37ms/step - loss: 0.0165 - mae: 0.0736 - val_loss: 0.3998 - val_mae: 0.4717\n",
            "Epoch 265/300\n",
            "1/1 [==============================] - 0s 45ms/step - loss: 0.0162 - mae: 0.0730 - val_loss: 0.3986 - val_mae: 0.4718\n",
            "Epoch 266/300\n",
            "1/1 [==============================] - 0s 34ms/step - loss: 0.0160 - mae: 0.0724 - val_loss: 0.3954 - val_mae: 0.4700\n",
            "Epoch 267/300\n",
            "1/1 [==============================] - 0s 39ms/step - loss: 0.0158 - mae: 0.0717 - val_loss: 0.3959 - val_mae: 0.4718\n",
            "Epoch 268/300\n",
            "1/1 [==============================] - 0s 36ms/step - loss: 0.0155 - mae: 0.0710 - val_loss: 0.3966 - val_mae: 0.4742\n",
            "Epoch 269/300\n",
            "1/1 [==============================] - 0s 41ms/step - loss: 0.0153 - mae: 0.0703 - val_loss: 0.3944 - val_mae: 0.4742\n",
            "Epoch 270/300\n",
            "1/1 [==============================] - 0s 44ms/step - loss: 0.0151 - mae: 0.0697 - val_loss: 0.3928 - val_mae: 0.4747\n",
            "Epoch 271/300\n",
            "1/1 [==============================] - 0s 46ms/step - loss: 0.0148 - mae: 0.0691 - val_loss: 0.3943 - val_mae: 0.4777\n",
            "Epoch 272/300\n",
            "1/1 [==============================] - 0s 39ms/step - loss: 0.0146 - mae: 0.0685 - val_loss: 0.3928 - val_mae: 0.4778\n",
            "Epoch 273/300\n",
            "1/1 [==============================] - 0s 43ms/step - loss: 0.0144 - mae: 0.0679 - val_loss: 0.3902 - val_mae: 0.4765\n",
            "Epoch 274/300\n",
            "1/1 [==============================] - 0s 37ms/step - loss: 0.0141 - mae: 0.0674 - val_loss: 0.3907 - val_mae: 0.4778\n",
            "Epoch 275/300\n",
            "1/1 [==============================] - 0s 38ms/step - loss: 0.0139 - mae: 0.0668 - val_loss: 0.3897 - val_mae: 0.4778\n",
            "Epoch 276/300\n",
            "1/1 [==============================] - 0s 37ms/step - loss: 0.0137 - mae: 0.0662 - val_loss: 0.3876 - val_mae: 0.4773\n",
            "Epoch 277/300\n",
            "1/1 [==============================] - 0s 34ms/step - loss: 0.0134 - mae: 0.0655 - val_loss: 0.3877 - val_mae: 0.4790\n",
            "Epoch 278/300\n",
            "1/1 [==============================] - 0s 53ms/step - loss: 0.0132 - mae: 0.0648 - val_loss: 0.3882 - val_mae: 0.4811\n",
            "Epoch 279/300\n",
            "1/1 [==============================] - 0s 51ms/step - loss: 0.0130 - mae: 0.0642 - val_loss: 0.3868 - val_mae: 0.4815\n",
            "Epoch 280/300\n",
            "1/1 [==============================] - 0s 48ms/step - loss: 0.0128 - mae: 0.0636 - val_loss: 0.3857 - val_mae: 0.4821\n",
            "Epoch 281/300\n",
            "1/1 [==============================] - 0s 40ms/step - loss: 0.0126 - mae: 0.0630 - val_loss: 0.3853 - val_mae: 0.4835\n",
            "Epoch 282/300\n",
            "1/1 [==============================] - 0s 39ms/step - loss: 0.0123 - mae: 0.0623 - val_loss: 0.3853 - val_mae: 0.4850\n",
            "Epoch 283/300\n",
            "1/1 [==============================] - 0s 40ms/step - loss: 0.0121 - mae: 0.0617 - val_loss: 0.3846 - val_mae: 0.4858\n",
            "Epoch 284/300\n",
            "1/1 [==============================] - 0s 43ms/step - loss: 0.0119 - mae: 0.0611 - val_loss: 0.3842 - val_mae: 0.4865\n",
            "Epoch 285/300\n",
            "1/1 [==============================] - 0s 40ms/step - loss: 0.0117 - mae: 0.0605 - val_loss: 0.3812 - val_mae: 0.4853\n",
            "Epoch 286/300\n",
            "1/1 [==============================] - 0s 38ms/step - loss: 0.0115 - mae: 0.0599 - val_loss: 0.3811 - val_mae: 0.4868\n",
            "Epoch 287/300\n",
            "1/1 [==============================] - 0s 36ms/step - loss: 0.0113 - mae: 0.0592 - val_loss: 0.3822 - val_mae: 0.4897\n",
            "Epoch 288/300\n",
            "1/1 [==============================] - 0s 40ms/step - loss: 0.0111 - mae: 0.0585 - val_loss: 0.3808 - val_mae: 0.4904\n",
            "Epoch 289/300\n",
            "1/1 [==============================] - 0s 35ms/step - loss: 0.0109 - mae: 0.0577 - val_loss: 0.3803 - val_mae: 0.4920\n",
            "Epoch 290/300\n",
            "1/1 [==============================] - 0s 41ms/step - loss: 0.0107 - mae: 0.0570 - val_loss: 0.3812 - val_mae: 0.4947\n",
            "Epoch 291/300\n",
            "1/1 [==============================] - 0s 40ms/step - loss: 0.0105 - mae: 0.0563 - val_loss: 0.3807 - val_mae: 0.4959\n",
            "Epoch 292/300\n",
            "1/1 [==============================] - 0s 39ms/step - loss: 0.0102 - mae: 0.0557 - val_loss: 0.3798 - val_mae: 0.4962\n",
            "Epoch 293/300\n",
            "1/1 [==============================] - 0s 39ms/step - loss: 0.0101 - mae: 0.0552 - val_loss: 0.3793 - val_mae: 0.4964\n",
            "Epoch 294/300\n",
            "1/1 [==============================] - 0s 44ms/step - loss: 0.0099 - mae: 0.0546 - val_loss: 0.3784 - val_mae: 0.4963\n",
            "Epoch 295/300\n",
            "1/1 [==============================] - 0s 37ms/step - loss: 0.0097 - mae: 0.0541 - val_loss: 0.3776 - val_mae: 0.4967\n",
            "Epoch 296/300\n",
            "1/1 [==============================] - 0s 40ms/step - loss: 0.0095 - mae: 0.0535 - val_loss: 0.3780 - val_mae: 0.4984\n",
            "Epoch 297/300\n",
            "1/1 [==============================] - 0s 41ms/step - loss: 0.0093 - mae: 0.0529 - val_loss: 0.3778 - val_mae: 0.5002\n",
            "Epoch 298/300\n",
            "1/1 [==============================] - 0s 38ms/step - loss: 0.0091 - mae: 0.0523 - val_loss: 0.3774 - val_mae: 0.5018\n",
            "Epoch 299/300\n",
            "1/1 [==============================] - 0s 38ms/step - loss: 0.0089 - mae: 0.0518 - val_loss: 0.3795 - val_mae: 0.5052\n",
            "Epoch 300/300\n",
            "1/1 [==============================] - 0s 50ms/step - loss: 0.0087 - mae: 0.0513 - val_loss: 0.3780 - val_mae: 0.5052\n"
          ],
          "name": "stdout"
        }
      ]
    },
    {
      "cell_type": "code",
      "metadata": {
        "colab": {
          "base_uri": "https://localhost:8080/",
          "height": 314
        },
        "id": "wDZfmEArdHDu",
        "outputId": "d2f1aeab-c8f3-471c-c9bf-732c97dbd1ce"
      },
      "source": [
        "# Grafik training dan validation loss\n",
        "training_loss=fitting_history.history['loss']\n",
        "validation_loss=fitting_history.history['val_loss']\n",
        "epochs=range(len(training_loss))\n",
        "\n",
        "plt.plot(epochs, training_loss, 'r', label=\"Training Loss\")\n",
        "plt.plot(epochs, validation_loss, 'b', label=\"Validation Loss\")\n",
        "plt.title('Training and validation loss')\n",
        "plt.legend(loc=0)\n",
        "plt.figure()"
      ],
      "execution_count": 566,
      "outputs": [
        {
          "output_type": "execute_result",
          "data": {
            "text/plain": [
              "<Figure size 432x288 with 0 Axes>"
            ]
          },
          "metadata": {
            "tags": []
          },
          "execution_count": 566
        },
        {
          "output_type": "display_data",
          "data": {
            "image/png": "[encoded data removed]",
            "text/plain": [
              "<Figure size 432x288 with 1 Axes>"
            ]
          },
          "metadata": {
            "tags": [],
            "needs_background": "light"
          }
        },
        {
          "output_type": "display_data",
          "data": {
            "text/plain": [
              "<Figure size 432x288 with 0 Axes>"
            ]
          },
          "metadata": {
            "tags": []
          }
        }
      ]
    },
    {
      "cell_type": "code",
      "metadata": {
        "colab": {
          "base_uri": "https://localhost:8080/",
          "height": 314
        },
        "id": "satqDLqc7Ks7",
        "outputId": "8de84efd-8c2b-4acb-a58c-a1c536c36105"
      },
      "source": [
        "#grafik training and validation MSE\n",
        "training_mae=fitting_history.history['mae']\n",
        "validation_mae=fitting_history.history['val_mae']\n",
        "epochs=range(len(training_mae))\n",
        "\n",
        "plt.plot(epochs, training_mae, 'r', label=\"Training MAE\")\n",
        "plt.plot(epochs, validation_mae, 'b', label=\"Validation MAE\")\n",
        "plt.title('Training and validation MAE')\n",
        "plt.legend(loc=0)\n",
        "plt.figure()"
      ],
      "execution_count": 567,
      "outputs": [
        {
          "output_type": "execute_result",
          "data": {
            "text/plain": [
              "<Figure size 432x288 with 0 Axes>"
            ]
          },
          "metadata": {
            "tags": []
          },
          "execution_count": 567
        },
        {
          "output_type": "display_data",
          "data": {
            "image/png": "[encoded data removed]",
            "text/plain": [
              "<Figure size 432x288 with 1 Axes>"
            ]
          },
          "metadata": {
            "tags": [],
            "needs_background": "light"
          }
        },
        {
          "output_type": "display_data",
          "data": {
            "text/plain": [
              "<Figure size 432x288 with 0 Axes>"
            ]
          },
          "metadata": {
            "tags": []
          }
        }
      ]
    },
    {
      "cell_type": "code",
      "metadata": {
        "id": "Kff_Y0Kz-Bfp"
      },
      "source": [
        "# # Simpan model\n",
        "# model.save('model-crop.h5')"
      ],
      "execution_count": 568,
      "outputs": []
    },
    {
      "cell_type": "markdown",
      "metadata": {
        "id": "8pVxdSKyoTq_"
      },
      "source": [
        "# **Testing Model**"
      ]
    },
    {
      "cell_type": "code",
      "metadata": {
        "id": "5lkgtUQ-oeL-"
      },
      "source": [
        "# # Load the model\n",
        "# model = tf.keras.models.load_model('model-crop.h5')"
      ],
      "execution_count": 569,
      "outputs": []
    },
    {
      "cell_type": "code",
      "metadata": {
        "colab": {
          "base_uri": "https://localhost:8080/"
        },
        "id": "wbUUoRNP_QlI",
        "outputId": "29979bed-f0a7-414b-d49e-39144b2ff79d"
      },
      "source": [
        "# Input dari data testing\n",
        "test_data=[]\n",
        "number_of_test=[]\n",
        "counter=0\n",
        "number=1\n",
        "\n",
        "for x in input_test_scaled:\n",
        "  test_data.append([])\n",
        "  for y in x:\n",
        "    test_data[counter].append(y)\n",
        "  counter+=1\n",
        "  number_of_test.append(number)\n",
        "  number+=1\n",
        "\n",
        "total_of_test=len(input_test_scaled)\n",
        "print(total_of_test)\n",
        "print(number_of_test)"
      ],
      "execution_count": 570,
      "outputs": [
        {
          "output_type": "stream",
          "text": [
            "6\n",
            "[1, 2, 3, 4, 5, 6]\n"
          ],
          "name": "stdout"
        }
      ]
    },
    {
      "cell_type": "code",
      "metadata": {
        "colab": {
          "base_uri": "https://localhost:8080/"
        },
        "id": "TYvxYnwx_9qw",
        "outputId": "458d9179-2836-4478-d858-effc93d2e081"
      },
      "source": [
        "# Prediksi data validasi\n",
        "output_prediksi=[]\n",
        "output_test_plot=[]\n",
        "\n",
        "for i in range(total_of_test):\n",
        "  input_prediksi=[]\n",
        "  input_prediksi.append([])\n",
        "  for y in test_data[i]:\n",
        "    input_prediksi[0].append(y)\n",
        "  prediksi = model.predict(input_prediksi)\n",
        "  output_prediksi.append(prediksi[0][0])\n",
        "  output_test_plot.append(output_test[i][0])\n",
        "\n",
        "print(output_prediksi)\n",
        "print(output_test_plot)"
      ],
      "execution_count": 571,
      "outputs": [
        {
          "output_type": "stream",
          "text": [
            "[6.111469, 4.8572264, 3.879576, 3.6466224, 12.036353, 21.932966]\n",
            "[6.7832407, 4.8972149, 3.4524114, 3.6003271, 10.7132017, 22.4396732]\n"
          ],
          "name": "stdout"
        }
      ]
    },
    {
      "cell_type": "code",
      "metadata": {
        "colab": {
          "base_uri": "https://localhost:8080/",
          "height": 295
        },
        "id": "PAFmjuEuB2zF",
        "outputId": "d63cbf49-ab2c-46fd-ab03-ccf31053e5e4"
      },
      "source": [
        "# Grafik garis dari total produksi panen\n",
        "\n",
        "plt.plot(number_of_test,output_prediksi,marker='o')\n",
        "plt.plot(number_of_test,output_test_plot,marker='o')\n",
        "plt.title('Data Asli vs Prediksi')\n",
        "plt.ylabel('Ton')\n",
        "plt.xlabel('Nomer Data')\n",
        "plt.show()"
      ],
      "execution_count": 572,
      "outputs": [
        {
          "output_type": "display_data",
          "data": {
            "image/png": "[encoded data removed]",
            "text/plain": [
              "<Figure size 432x288 with 1 Axes>"
            ]
          },
          "metadata": {
            "tags": [],
            "needs_background": "light"
          }
        }
      ]
    },
    {
      "cell_type": "code",
      "metadata": {
        "colab": {
          "base_uri": "https://localhost:8080/"
        },
        "id": "jzbU6dsyCfD0",
        "outputId": "d9009d6a-f0d8-46fa-d2b3-00774ee32541"
      },
      "source": [
        "# Menghitung nilai MSE dan MAE\n",
        "mse_score, mae_score = model.evaluate(input_test_scaled, output_test)\n",
        "print('Nilai Mean Squared Error (MSE) : ', mse_score)\n",
        "print('Nilai Mean Absolute Error (MAE) : ', mae_score)"
      ],
      "execution_count": 573,
      "outputs": [
        {
          "output_type": "stream",
          "text": [
            "1/1 [==============================] - 0s 18ms/step - loss: 0.4408 - mae: 0.5025\n",
            "Nilai Mean Squared Error (MSE) :  0.44082877039909363\n",
            "Nilai Mean Absolute Error (MAE) :  0.5025133490562439\n"
          ],
          "name": "stdout"
        }
      ]
    }
  ]
}