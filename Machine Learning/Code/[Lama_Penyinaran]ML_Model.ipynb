{
  "nbformat": 4,
  "nbformat_minor": 0,
  "metadata": {
    "colab": {
      "name": "[Lama Penyinaran]ML-Model.ipynb",
      "provenance": [],
      "toc_visible": true,
      "authorship_tag": "ABX9TyOfDy9HcaVciGZMimfMam6p",
      "include_colab_link": true
    },
    "kernelspec": {
      "name": "python3",
      "display_name": "Python 3"
    },
    "language_info": {
      "name": "python"
    }
  },
  "cells": [
    {
      "cell_type": "markdown",
      "metadata": {
        "id": "view-in-github",
        "colab_type": "text"
      },
      "source": [
        "<a href=\"https://colab.research.google.com/github/u1-byte/SmartRicePriceControl/blob/main/Machine%20Learning/Code/%5BLama_Penyinaran%5DML_Model.ipynb\" target=\"_parent\"><img src=\"https://colab.research.google.com/assets/colab-badge.svg\" alt=\"Open In Colab\"/></a>"
      ]
    },
    {
      "cell_type": "code",
      "metadata": {
        "id": "kTPzSD0srTVw"
      },
      "source": [
        "#import library\n",
        "import tensorflow as tf\n",
        "import numpy as np\n",
        "import matplotlib.pyplot as plt\n",
        "from tensorflow import keras\n",
        "from google.colab import files\n",
        "import csv\n",
        "from sklearn.preprocessing import MinMaxScaler\n",
        "from sklearn.metrics import mean_squared_error"
      ],
      "execution_count": 2,
      "outputs": []
    },
    {
      "cell_type": "code",
      "metadata": {
        "colab": {
          "resources": {
            "http://localhost:8080/nbextensions/google.colab/files.js": {
              "data": "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",
              "ok": true,
              "headers": [
                [
                  "content-type",
                  "application/javascript"
                ]
              ],
              "status": 200,
              "status_text": ""
            }
          },
          "base_uri": "https://localhost:8080/",
          "height": 73
        },
        "id": "9pW1P_9fTl4j",
        "outputId": "30174bc8-cf5e-4d7e-8b43-16121e927c9b"
      },
      "source": [
        "# Upload file dataset dari lokal\n",
        "uploaded = files.upload()"
      ],
      "execution_count": 3,
      "outputs": [
        {
          "output_type": "display_data",
          "data": {
            "text/html": [
              "\n",
              "     <input type=\"file\" id=\"files-3beb89fd-691f-4b34-96c5-5e7274f98335\" name=\"files[]\" multiple disabled\n",
              "        style=\"border:none\" />\n",
              "     <output id=\"result-3beb89fd-691f-4b34-96c5-5e7274f98335\">\n",
              "      Upload widget is only available when the cell has been executed in the\n",
              "      current browser session. Please rerun this cell to enable.\n",
              "      </output>\n",
              "      <script src=\"/nbextensions/google.colab/files.js\"></script> "
            ],
            "text/plain": [
              "<IPython.core.display.HTML object>"
            ]
          },
          "metadata": {
            "tags": []
          }
        },
        {
          "output_type": "stream",
          "text": [
            "Saving Cuaca.csv to Cuaca.csv\n"
          ],
          "name": "stdout"
        }
      ]
    },
    {
      "cell_type": "markdown",
      "metadata": {
        "id": "4j7-4-QStoQc"
      },
      "source": [
        "# **Provinsi Jatim**"
      ]
    },
    {
      "cell_type": "code",
      "metadata": {
        "id": "Ctdpy9NotCw0"
      },
      "source": [
        "# Input data Jatim\n",
        "input_lama_penyinaran_ratarata = []\n",
        "number_of_input = []\n",
        "number=1\n",
        "\n",
        "# Baca file.csv\n",
        "with open('/content/Cuaca.csv') as csv_file:\n",
        "  csv_reader = csv.reader(csv_file, delimiter=',')\n",
        "  next(csv_reader)\n",
        "  for row in csv_reader:\n",
        "    number_of_input.append(number)\n",
        "    input_lama_penyinaran_ratarata.append(float(row[4]))\n",
        "    number+=1"
      ],
      "execution_count": 9,
      "outputs": []
    },
    {
      "cell_type": "code",
      "metadata": {
        "colab": {
          "base_uri": "https://localhost:8080/",
          "height": 295
        },
        "id": "a5bHiYtKtQiA",
        "outputId": "059b920b-081e-4ac9-d1a8-c98e1315ecbe"
      },
      "source": [
        "# Grafik garis dari Suhu\n",
        "plt.plot(number_of_input,input_lama_penyinaran_ratarata,marker='o')\n",
        "plt.title('Lama Penyinaran (2018 - 2020)')\n",
        "plt.ylabel('Jam')\n",
        "plt.xlabel('Bulan')\n",
        "plt.show()"
      ],
      "execution_count": 10,
      "outputs": [
        {
          "output_type": "display_data",
          "data": {
            "image/png": "[encoded data removed]",
            "text/plain": [
              "<Figure size 432x288 with 1 Axes>"
            ]
          },
          "metadata": {
            "tags": [],
            "needs_background": "light"
          }
        }
      ]
    },
    {
      "cell_type": "code",
      "metadata": {
        "colab": {
          "base_uri": "https://localhost:8080/"
        },
        "id": "hl7HExITrv6v",
        "outputId": "3e6d81ec-05b6-45f7-9086-58df6812b433"
      },
      "source": [
        "# Input dari data pada database\n",
        "dataset = []\n",
        "counter=0\n",
        "\n",
        "# Baca file.csv\n",
        "with open('/content/Cuaca.csv') as csv_file:\n",
        "  csv_reader = csv.reader(csv_file, delimiter=',')\n",
        "  next(csv_reader)\n",
        "  for row in csv_reader:\n",
        "    dataset.append([])\n",
        "    dataset[counter].append(float(row[4]))\n",
        "    counter+=1\n",
        "\n",
        "dataset = np.array(dataset)\n",
        "\n",
        "print(dataset)"
      ],
      "execution_count": 11,
      "outputs": [
        {
          "output_type": "stream",
          "text": [
            "[[3.44]\n",
            " [5.41]\n",
            " [5.2 ]\n",
            " [8.14]\n",
            " [8.11]\n",
            " [8.19]\n",
            " [9.04]\n",
            " [8.95]\n",
            " [8.  ]\n",
            " [8.73]\n",
            " [6.35]\n",
            " [3.76]\n",
            " [4.52]\n",
            " [5.77]\n",
            " [4.87]\n",
            " [6.09]\n",
            " [8.59]\n",
            " [8.25]\n",
            " [8.6 ]\n",
            " [9.4 ]\n",
            " [9.27]\n",
            " [9.47]\n",
            " [8.88]\n",
            " [6.62]\n",
            " [5.04]\n",
            " [4.72]\n",
            " [5.54]\n",
            " [6.28]\n",
            " [7.04]\n",
            " [7.42]\n",
            " [8.25]\n",
            " [8.65]\n",
            " [9.01]\n",
            " [7.03]\n",
            " [6.29]\n",
            " [3.27]]\n"
          ],
          "name": "stdout"
        }
      ]
    },
    {
      "cell_type": "code",
      "metadata": {
        "id": "dcyiZXY0UANG"
      },
      "source": [
        "# Normalisasi dataset\n",
        "scaler = MinMaxScaler()\n",
        "dataset = scaler.fit_transform(dataset)"
      ],
      "execution_count": 12,
      "outputs": []
    },
    {
      "cell_type": "code",
      "metadata": {
        "colab": {
          "base_uri": "https://localhost:8080/"
        },
        "id": "RfJp46NhUFht",
        "outputId": "6c567034-d6da-4133-df37-539866fb168e"
      },
      "source": [
        "# Fungsi membuat sequence\n",
        "def buat_sequences(dataset, window_size):\n",
        "    input = []\n",
        "    output = []\n",
        "\n",
        "    for i in range(len(dataset)-window_size+1):\n",
        "        window = dataset[i:(i+window_size-4), 0]\n",
        "        input.append(window)\n",
        "        output.append(dataset[(i+window_size-4):i+window_size, 0])\n",
        "    return np.array(input),np.array(output)\n",
        "\n",
        "window_size = 16\n",
        "dataInput, dataOutput = buat_sequences(dataset, window_size)\n",
        "\n",
        "print(len(dataInput))\n",
        "print(len(dataOutput))"
      ],
      "execution_count": 13,
      "outputs": [
        {
          "output_type": "stream",
          "text": [
            "21\n",
            "21\n"
          ],
          "name": "stdout"
        }
      ]
    },
    {
      "cell_type": "code",
      "metadata": {
        "colab": {
          "base_uri": "https://localhost:8080/"
        },
        "id": "-UwcXJqMir2A",
        "outputId": "611d344b-e4b4-4e55-d203-d48eaf655e23"
      },
      "source": [
        "split_valid = 15\n",
        "input_train, input_test = dataInput[:split_valid,:], dataInput[split_valid:,:]\n",
        "output_train, output_test = dataOutput[:split_valid,:], dataOutput[split_valid:,:]\n",
        "\n",
        "print(len(input_train))\n",
        "print(len(output_train))"
      ],
      "execution_count": 14,
      "outputs": [
        {
          "output_type": "stream",
          "text": [
            "15\n",
            "15\n"
          ],
          "name": "stdout"
        }
      ]
    },
    {
      "cell_type": "code",
      "metadata": {
        "colab": {
          "base_uri": "https://localhost:8080/"
        },
        "id": "AS2MgD_XjbQl",
        "outputId": "f5b2eb72-2de9-4622-c0fb-6a7567003ee4"
      },
      "source": [
        "print(input_test)\n",
        "print(\"------\")\n",
        "print(output_test)"
      ],
      "execution_count": 15,
      "outputs": [
        {
          "output_type": "stream",
          "text": [
            "[[0.45483871 0.85806452 0.80322581 0.85967742 0.98870968 0.96774194\n",
            "  1.         0.90483871 0.54032258 0.28548387 0.23387097 0.36612903]\n",
            " [0.85806452 0.80322581 0.85967742 0.98870968 0.96774194 1.\n",
            "  0.90483871 0.54032258 0.28548387 0.23387097 0.36612903 0.48548387]\n",
            " [0.80322581 0.85967742 0.98870968 0.96774194 1.         0.90483871\n",
            "  0.54032258 0.28548387 0.23387097 0.36612903 0.48548387 0.60806452]\n",
            " [0.85967742 0.98870968 0.96774194 1.         0.90483871 0.54032258\n",
            "  0.28548387 0.23387097 0.36612903 0.48548387 0.60806452 0.66935484]\n",
            " [0.98870968 0.96774194 1.         0.90483871 0.54032258 0.28548387\n",
            "  0.23387097 0.36612903 0.48548387 0.60806452 0.66935484 0.80322581]\n",
            " [0.96774194 1.         0.90483871 0.54032258 0.28548387 0.23387097\n",
            "  0.36612903 0.48548387 0.60806452 0.66935484 0.80322581 0.86774194]]\n",
            "------\n",
            "[[0.48548387 0.60806452 0.66935484 0.80322581]\n",
            " [0.60806452 0.66935484 0.80322581 0.86774194]\n",
            " [0.66935484 0.80322581 0.86774194 0.92580645]\n",
            " [0.80322581 0.86774194 0.92580645 0.60645161]\n",
            " [0.86774194 0.92580645 0.60645161 0.48709677]\n",
            " [0.92580645 0.60645161 0.48709677 0.        ]]\n"
          ],
          "name": "stdout"
        }
      ]
    },
    {
      "cell_type": "code",
      "metadata": {
        "id": "eXAW51AAUNSL"
      },
      "source": [
        "# Ubah dimensinya untuk disesuaikan dengan model\n",
        "input_train = input_train.reshape((input_train.shape[0], 1, 1, 1, window_size-4))\n",
        "input_test = input_test.reshape((input_test.shape[0], 1, 1, 1, window_size-4))"
      ],
      "execution_count": 16,
      "outputs": []
    },
    {
      "cell_type": "code",
      "metadata": {
        "colab": {
          "base_uri": "https://localhost:8080/"
        },
        "id": "8tHcz4U4b07Z",
        "outputId": "758cee16-b29d-47e4-f7b1-a3d6fba645dd"
      },
      "source": [
        "print(input_test)"
      ],
      "execution_count": 17,
      "outputs": [
        {
          "output_type": "stream",
          "text": [
            "[[[[[0.45483871 0.85806452 0.80322581 0.85967742 0.98870968 0.96774194\n",
            "     1.         0.90483871 0.54032258 0.28548387 0.23387097 0.36612903]]]]\n",
            "\n",
            "\n",
            "\n",
            " [[[[0.85806452 0.80322581 0.85967742 0.98870968 0.96774194 1.\n",
            "     0.90483871 0.54032258 0.28548387 0.23387097 0.36612903 0.48548387]]]]\n",
            "\n",
            "\n",
            "\n",
            " [[[[0.80322581 0.85967742 0.98870968 0.96774194 1.         0.90483871\n",
            "     0.54032258 0.28548387 0.23387097 0.36612903 0.48548387 0.60806452]]]]\n",
            "\n",
            "\n",
            "\n",
            " [[[[0.85967742 0.98870968 0.96774194 1.         0.90483871 0.54032258\n",
            "     0.28548387 0.23387097 0.36612903 0.48548387 0.60806452 0.66935484]]]]\n",
            "\n",
            "\n",
            "\n",
            " [[[[0.98870968 0.96774194 1.         0.90483871 0.54032258 0.28548387\n",
            "     0.23387097 0.36612903 0.48548387 0.60806452 0.66935484 0.80322581]]]]\n",
            "\n",
            "\n",
            "\n",
            " [[[[0.96774194 1.         0.90483871 0.54032258 0.28548387 0.23387097\n",
            "     0.36612903 0.48548387 0.60806452 0.66935484 0.80322581 0.86774194]]]]]\n"
          ],
          "name": "stdout"
        }
      ]
    },
    {
      "cell_type": "code",
      "metadata": {
        "colab": {
          "base_uri": "https://localhost:8080/"
        },
        "id": "AVLM4b_omI8n",
        "outputId": "8ca86635-d7e3-4b08-d266-b28093172843"
      },
      "source": [
        "print(output_test)"
      ],
      "execution_count": 18,
      "outputs": [
        {
          "output_type": "stream",
          "text": [
            "[[0.48548387 0.60806452 0.66935484 0.80322581]\n",
            " [0.60806452 0.66935484 0.80322581 0.86774194]\n",
            " [0.66935484 0.80322581 0.86774194 0.92580645]\n",
            " [0.80322581 0.86774194 0.92580645 0.60645161]\n",
            " [0.86774194 0.92580645 0.60645161 0.48709677]\n",
            " [0.92580645 0.60645161 0.48709677 0.        ]]\n"
          ],
          "name": "stdout"
        }
      ]
    },
    {
      "cell_type": "code",
      "metadata": {
        "colab": {
          "base_uri": "https://localhost:8080/"
        },
        "id": "xnjsFuOoy491",
        "outputId": "f66c7dc0-ffce-4c67-926b-bc13328864cf"
      },
      "source": [
        "#model machine learning\n",
        "model = tf.keras.models.Sequential([\n",
        "  tf.keras.layers.ConvLSTM2D(filters=64, kernel_size=(1,1), activation='relu', input_shape=(1, 1, 1, window_size-4)),    \n",
        "  tf.keras.layers.Flatten(),\n",
        "  tf.keras.layers.Dense(32),\n",
        "  tf.keras.layers.Dense(4)\n",
        "])\n",
        "\n",
        "#compile the model\n",
        "model.compile(optimizer='adam', loss='mean_squared_error',metrics=[\"mae\"])\n",
        "\n",
        "model.summary()\n",
        "\n",
        "#fit the model\n",
        "fitting_history = model.fit(input_train, output_train, validation_data=(input_test, output_test), verbose=2, epochs=100)"
      ],
      "execution_count": 19,
      "outputs": [
        {
          "output_type": "stream",
          "text": [
            "Model: \"sequential\"\n",
            "_________________________________________________________________\n",
            "Layer (type)                 Output Shape              Param #   \n",
            "=================================================================\n",
            "conv_lst_m2d (ConvLSTM2D)    (None, 1, 1, 64)          19712     \n",
            "_________________________________________________________________\n",
            "flatten (Flatten)            (None, 64)                0         \n",
            "_________________________________________________________________\n",
            "dense (Dense)                (None, 32)                2080      \n",
            "_________________________________________________________________\n",
            "dense_1 (Dense)              (None, 4)                 132       \n",
            "=================================================================\n",
            "Total params: 21,924\n",
            "Trainable params: 21,924\n",
            "Non-trainable params: 0\n",
            "_________________________________________________________________\n",
            "Epoch 1/100\n",
            "1/1 - 4s - loss: 0.5026 - mae: 0.6499 - val_loss: 0.5359 - val_mae: 0.7023\n",
            "Epoch 2/100\n",
            "1/1 - 0s - loss: 0.4835 - mae: 0.6349 - val_loss: 0.5142 - val_mae: 0.6877\n",
            "Epoch 3/100\n",
            "1/1 - 0s - loss: 0.4651 - mae: 0.6200 - val_loss: 0.4932 - val_mae: 0.6732\n",
            "Epoch 4/100\n",
            "1/1 - 0s - loss: 0.4472 - mae: 0.6052 - val_loss: 0.4729 - val_mae: 0.6588\n",
            "Epoch 5/100\n",
            "1/1 - 0s - loss: 0.4299 - mae: 0.5904 - val_loss: 0.4532 - val_mae: 0.6444\n",
            "Epoch 6/100\n",
            "1/1 - 0s - loss: 0.4131 - mae: 0.5756 - val_loss: 0.4338 - val_mae: 0.6298\n",
            "Epoch 7/100\n",
            "1/1 - 0s - loss: 0.3966 - mae: 0.5607 - val_loss: 0.4148 - val_mae: 0.6150\n",
            "Epoch 8/100\n",
            "1/1 - 0s - loss: 0.3806 - mae: 0.5456 - val_loss: 0.3959 - val_mae: 0.5999\n",
            "Epoch 9/100\n",
            "1/1 - 0s - loss: 0.3649 - mae: 0.5316 - val_loss: 0.3772 - val_mae: 0.5845\n",
            "Epoch 10/100\n",
            "1/1 - 0s - loss: 0.3495 - mae: 0.5177 - val_loss: 0.3587 - val_mae: 0.5687\n",
            "Epoch 11/100\n",
            "1/1 - 0s - loss: 0.3343 - mae: 0.5035 - val_loss: 0.3403 - val_mae: 0.5526\n",
            "Epoch 12/100\n",
            "1/1 - 0s - loss: 0.3194 - mae: 0.4900 - val_loss: 0.3222 - val_mae: 0.5361\n",
            "Epoch 13/100\n",
            "1/1 - 0s - loss: 0.3048 - mae: 0.4768 - val_loss: 0.3041 - val_mae: 0.5190\n",
            "Epoch 14/100\n",
            "1/1 - 0s - loss: 0.2903 - mae: 0.4635 - val_loss: 0.2861 - val_mae: 0.5014\n",
            "Epoch 15/100\n",
            "1/1 - 0s - loss: 0.2761 - mae: 0.4504 - val_loss: 0.2681 - val_mae: 0.4831\n",
            "Epoch 16/100\n",
            "1/1 - 0s - loss: 0.2621 - mae: 0.4371 - val_loss: 0.2505 - val_mae: 0.4643\n",
            "Epoch 17/100\n",
            "1/1 - 0s - loss: 0.2484 - mae: 0.4241 - val_loss: 0.2331 - val_mae: 0.4450\n",
            "Epoch 18/100\n",
            "1/1 - 0s - loss: 0.2350 - mae: 0.4106 - val_loss: 0.2161 - val_mae: 0.4254\n",
            "Epoch 19/100\n",
            "1/1 - 0s - loss: 0.2218 - mae: 0.3965 - val_loss: 0.1994 - val_mae: 0.4074\n",
            "Epoch 20/100\n",
            "1/1 - 0s - loss: 0.2090 - mae: 0.3821 - val_loss: 0.1832 - val_mae: 0.3888\n",
            "Epoch 21/100\n",
            "1/1 - 0s - loss: 0.1965 - mae: 0.3689 - val_loss: 0.1675 - val_mae: 0.3696\n",
            "Epoch 22/100\n",
            "1/1 - 0s - loss: 0.1845 - mae: 0.3564 - val_loss: 0.1524 - val_mae: 0.3499\n",
            "Epoch 23/100\n",
            "1/1 - 0s - loss: 0.1730 - mae: 0.3450 - val_loss: 0.1381 - val_mae: 0.3321\n",
            "Epoch 24/100\n",
            "1/1 - 0s - loss: 0.1622 - mae: 0.3340 - val_loss: 0.1246 - val_mae: 0.3138\n",
            "Epoch 25/100\n",
            "1/1 - 0s - loss: 0.1520 - mae: 0.3231 - val_loss: 0.1119 - val_mae: 0.2962\n",
            "Epoch 26/100\n",
            "1/1 - 0s - loss: 0.1424 - mae: 0.3130 - val_loss: 0.1002 - val_mae: 0.2792\n",
            "Epoch 27/100\n",
            "1/1 - 0s - loss: 0.1336 - mae: 0.3039 - val_loss: 0.0895 - val_mae: 0.2618\n",
            "Epoch 28/100\n",
            "1/1 - 0s - loss: 0.1256 - mae: 0.2951 - val_loss: 0.0799 - val_mae: 0.2442\n",
            "Epoch 29/100\n",
            "1/1 - 0s - loss: 0.1183 - mae: 0.2865 - val_loss: 0.0714 - val_mae: 0.2268\n",
            "Epoch 30/100\n",
            "1/1 - 0s - loss: 0.1118 - mae: 0.2785 - val_loss: 0.0639 - val_mae: 0.2108\n",
            "Epoch 31/100\n",
            "1/1 - 0s - loss: 0.1060 - mae: 0.2734 - val_loss: 0.0575 - val_mae: 0.1963\n",
            "Epoch 32/100\n",
            "1/1 - 0s - loss: 0.1008 - mae: 0.2693 - val_loss: 0.0521 - val_mae: 0.1837\n",
            "Epoch 33/100\n",
            "1/1 - 0s - loss: 0.0962 - mae: 0.2656 - val_loss: 0.0476 - val_mae: 0.1721\n",
            "Epoch 34/100\n",
            "1/1 - 0s - loss: 0.0922 - mae: 0.2629 - val_loss: 0.0441 - val_mae: 0.1637\n",
            "Epoch 35/100\n",
            "1/1 - 0s - loss: 0.0887 - mae: 0.2607 - val_loss: 0.0414 - val_mae: 0.1571\n",
            "Epoch 36/100\n",
            "1/1 - 0s - loss: 0.0855 - mae: 0.2586 - val_loss: 0.0394 - val_mae: 0.1533\n",
            "Epoch 37/100\n",
            "1/1 - 0s - loss: 0.0827 - mae: 0.2569 - val_loss: 0.0380 - val_mae: 0.1507\n",
            "Epoch 38/100\n",
            "1/1 - 0s - loss: 0.0803 - mae: 0.2554 - val_loss: 0.0372 - val_mae: 0.1479\n",
            "Epoch 39/100\n",
            "1/1 - 0s - loss: 0.0780 - mae: 0.2544 - val_loss: 0.0369 - val_mae: 0.1456\n",
            "Epoch 40/100\n",
            "1/1 - 0s - loss: 0.0760 - mae: 0.2530 - val_loss: 0.0370 - val_mae: 0.1448\n",
            "Epoch 41/100\n",
            "1/1 - 0s - loss: 0.0742 - mae: 0.2514 - val_loss: 0.0374 - val_mae: 0.1440\n",
            "Epoch 42/100\n",
            "1/1 - 0s - loss: 0.0725 - mae: 0.2496 - val_loss: 0.0381 - val_mae: 0.1433\n",
            "Epoch 43/100\n",
            "1/1 - 0s - loss: 0.0709 - mae: 0.2475 - val_loss: 0.0390 - val_mae: 0.1427\n",
            "Epoch 44/100\n",
            "1/1 - 0s - loss: 0.0695 - mae: 0.2453 - val_loss: 0.0400 - val_mae: 0.1428\n",
            "Epoch 45/100\n",
            "1/1 - 0s - loss: 0.0681 - mae: 0.2429 - val_loss: 0.0411 - val_mae: 0.1431\n",
            "Epoch 46/100\n",
            "1/1 - 0s - loss: 0.0669 - mae: 0.2403 - val_loss: 0.0422 - val_mae: 0.1440\n",
            "Epoch 47/100\n",
            "1/1 - 0s - loss: 0.0657 - mae: 0.2376 - val_loss: 0.0432 - val_mae: 0.1450\n",
            "Epoch 48/100\n",
            "1/1 - 0s - loss: 0.0645 - mae: 0.2349 - val_loss: 0.0442 - val_mae: 0.1457\n",
            "Epoch 49/100\n",
            "1/1 - 0s - loss: 0.0634 - mae: 0.2321 - val_loss: 0.0450 - val_mae: 0.1465\n",
            "Epoch 50/100\n",
            "1/1 - 0s - loss: 0.0623 - mae: 0.2295 - val_loss: 0.0456 - val_mae: 0.1474\n",
            "Epoch 51/100\n",
            "1/1 - 0s - loss: 0.0611 - mae: 0.2271 - val_loss: 0.0460 - val_mae: 0.1478\n",
            "Epoch 52/100\n",
            "1/1 - 0s - loss: 0.0599 - mae: 0.2245 - val_loss: 0.0462 - val_mae: 0.1476\n",
            "Epoch 53/100\n",
            "1/1 - 0s - loss: 0.0586 - mae: 0.2218 - val_loss: 0.0462 - val_mae: 0.1467\n",
            "Epoch 54/100\n",
            "1/1 - 0s - loss: 0.0573 - mae: 0.2191 - val_loss: 0.0460 - val_mae: 0.1455\n",
            "Epoch 55/100\n",
            "1/1 - 0s - loss: 0.0559 - mae: 0.2162 - val_loss: 0.0457 - val_mae: 0.1441\n",
            "Epoch 56/100\n",
            "1/1 - 0s - loss: 0.0544 - mae: 0.2133 - val_loss: 0.0452 - val_mae: 0.1425\n",
            "Epoch 57/100\n",
            "1/1 - 0s - loss: 0.0529 - mae: 0.2103 - val_loss: 0.0446 - val_mae: 0.1404\n",
            "Epoch 58/100\n",
            "1/1 - 0s - loss: 0.0514 - mae: 0.2073 - val_loss: 0.0440 - val_mae: 0.1379\n",
            "Epoch 59/100\n",
            "1/1 - 0s - loss: 0.0498 - mae: 0.2042 - val_loss: 0.0434 - val_mae: 0.1350\n",
            "Epoch 60/100\n",
            "1/1 - 0s - loss: 0.0482 - mae: 0.2010 - val_loss: 0.0429 - val_mae: 0.1319\n",
            "Epoch 61/100\n",
            "1/1 - 0s - loss: 0.0467 - mae: 0.1978 - val_loss: 0.0424 - val_mae: 0.1291\n",
            "Epoch 62/100\n",
            "1/1 - 0s - loss: 0.0452 - mae: 0.1946 - val_loss: 0.0420 - val_mae: 0.1269\n",
            "Epoch 63/100\n",
            "1/1 - 0s - loss: 0.0438 - mae: 0.1913 - val_loss: 0.0418 - val_mae: 0.1258\n",
            "Epoch 64/100\n",
            "1/1 - 0s - loss: 0.0425 - mae: 0.1881 - val_loss: 0.0417 - val_mae: 0.1246\n",
            "Epoch 65/100\n",
            "1/1 - 0s - loss: 0.0412 - mae: 0.1849 - val_loss: 0.0418 - val_mae: 0.1234\n",
            "Epoch 66/100\n",
            "1/1 - 0s - loss: 0.0401 - mae: 0.1816 - val_loss: 0.0420 - val_mae: 0.1242\n",
            "Epoch 67/100\n",
            "1/1 - 0s - loss: 0.0390 - mae: 0.1784 - val_loss: 0.0423 - val_mae: 0.1256\n",
            "Epoch 68/100\n",
            "1/1 - 0s - loss: 0.0379 - mae: 0.1753 - val_loss: 0.0428 - val_mae: 0.1269\n",
            "Epoch 69/100\n",
            "1/1 - 0s - loss: 0.0369 - mae: 0.1723 - val_loss: 0.0434 - val_mae: 0.1281\n",
            "Epoch 70/100\n",
            "1/1 - 0s - loss: 0.0359 - mae: 0.1694 - val_loss: 0.0440 - val_mae: 0.1298\n",
            "Epoch 71/100\n",
            "1/1 - 0s - loss: 0.0350 - mae: 0.1669 - val_loss: 0.0447 - val_mae: 0.1315\n",
            "Epoch 72/100\n",
            "1/1 - 0s - loss: 0.0341 - mae: 0.1645 - val_loss: 0.0454 - val_mae: 0.1329\n",
            "Epoch 73/100\n",
            "1/1 - 0s - loss: 0.0332 - mae: 0.1620 - val_loss: 0.0461 - val_mae: 0.1340\n",
            "Epoch 74/100\n",
            "1/1 - 0s - loss: 0.0323 - mae: 0.1595 - val_loss: 0.0468 - val_mae: 0.1347\n",
            "Epoch 75/100\n",
            "1/1 - 0s - loss: 0.0314 - mae: 0.1568 - val_loss: 0.0475 - val_mae: 0.1353\n",
            "Epoch 76/100\n",
            "1/1 - 0s - loss: 0.0304 - mae: 0.1540 - val_loss: 0.0482 - val_mae: 0.1358\n",
            "Epoch 77/100\n",
            "1/1 - 0s - loss: 0.0295 - mae: 0.1512 - val_loss: 0.0489 - val_mae: 0.1361\n",
            "Epoch 78/100\n",
            "1/1 - 0s - loss: 0.0286 - mae: 0.1485 - val_loss: 0.0497 - val_mae: 0.1364\n",
            "Epoch 79/100\n",
            "1/1 - 0s - loss: 0.0278 - mae: 0.1458 - val_loss: 0.0505 - val_mae: 0.1369\n",
            "Epoch 80/100\n",
            "1/1 - 0s - loss: 0.0270 - mae: 0.1431 - val_loss: 0.0513 - val_mae: 0.1374\n",
            "Epoch 81/100\n",
            "1/1 - 0s - loss: 0.0262 - mae: 0.1404 - val_loss: 0.0523 - val_mae: 0.1379\n",
            "Epoch 82/100\n",
            "1/1 - 0s - loss: 0.0254 - mae: 0.1378 - val_loss: 0.0533 - val_mae: 0.1385\n",
            "Epoch 83/100\n",
            "1/1 - 0s - loss: 0.0246 - mae: 0.1353 - val_loss: 0.0544 - val_mae: 0.1391\n",
            "Epoch 84/100\n",
            "1/1 - 0s - loss: 0.0239 - mae: 0.1329 - val_loss: 0.0555 - val_mae: 0.1402\n",
            "Epoch 85/100\n",
            "1/1 - 0s - loss: 0.0233 - mae: 0.1307 - val_loss: 0.0568 - val_mae: 0.1416\n",
            "Epoch 86/100\n",
            "1/1 - 0s - loss: 0.0226 - mae: 0.1286 - val_loss: 0.0581 - val_mae: 0.1434\n",
            "Epoch 87/100\n",
            "1/1 - 0s - loss: 0.0220 - mae: 0.1265 - val_loss: 0.0595 - val_mae: 0.1458\n",
            "Epoch 88/100\n",
            "1/1 - 0s - loss: 0.0214 - mae: 0.1243 - val_loss: 0.0609 - val_mae: 0.1491\n",
            "Epoch 89/100\n",
            "1/1 - 0s - loss: 0.0208 - mae: 0.1222 - val_loss: 0.0624 - val_mae: 0.1525\n",
            "Epoch 90/100\n",
            "1/1 - 0s - loss: 0.0203 - mae: 0.1200 - val_loss: 0.0639 - val_mae: 0.1558\n",
            "Epoch 91/100\n",
            "1/1 - 0s - loss: 0.0198 - mae: 0.1179 - val_loss: 0.0653 - val_mae: 0.1592\n",
            "Epoch 92/100\n",
            "1/1 - 0s - loss: 0.0193 - mae: 0.1159 - val_loss: 0.0668 - val_mae: 0.1626\n",
            "Epoch 93/100\n",
            "1/1 - 0s - loss: 0.0188 - mae: 0.1141 - val_loss: 0.0682 - val_mae: 0.1660\n",
            "Epoch 94/100\n",
            "1/1 - 0s - loss: 0.0184 - mae: 0.1125 - val_loss: 0.0696 - val_mae: 0.1691\n",
            "Epoch 95/100\n",
            "1/1 - 0s - loss: 0.0180 - mae: 0.1110 - val_loss: 0.0708 - val_mae: 0.1720\n",
            "Epoch 96/100\n",
            "1/1 - 0s - loss: 0.0176 - mae: 0.1096 - val_loss: 0.0720 - val_mae: 0.1747\n",
            "Epoch 97/100\n",
            "1/1 - 0s - loss: 0.0172 - mae: 0.1083 - val_loss: 0.0732 - val_mae: 0.1771\n",
            "Epoch 98/100\n",
            "1/1 - 0s - loss: 0.0168 - mae: 0.1069 - val_loss: 0.0742 - val_mae: 0.1793\n",
            "Epoch 99/100\n",
            "1/1 - 0s - loss: 0.0165 - mae: 0.1058 - val_loss: 0.0751 - val_mae: 0.1812\n",
            "Epoch 100/100\n",
            "1/1 - 0s - loss: 0.0162 - mae: 0.1047 - val_loss: 0.0759 - val_mae: 0.1829\n"
          ],
          "name": "stdout"
        }
      ]
    },
    {
      "cell_type": "code",
      "metadata": {
        "colab": {
          "base_uri": "https://localhost:8080/",
          "height": 314
        },
        "id": "A1YC68UB2oBC",
        "outputId": "120b3879-6bcb-405b-dbb3-391f1b35e019"
      },
      "source": [
        "# Grafik training dan validation loss\n",
        "training_loss=fitting_history.history['loss']\n",
        "validation_loss=fitting_history.history['val_loss']\n",
        "epochs=range(len(training_loss))\n",
        "\n",
        "plt.plot(epochs, training_loss, 'r', label=\"Training Loss\")\n",
        "plt.plot(epochs, validation_loss, 'b', label=\"Validation Loss\")\n",
        "plt.title('Training and validation loss')\n",
        "plt.legend(loc=0)\n",
        "plt.figure()"
      ],
      "execution_count": 20,
      "outputs": [
        {
          "output_type": "execute_result",
          "data": {
            "text/plain": [
              "<Figure size 432x288 with 0 Axes>"
            ]
          },
          "metadata": {
            "tags": []
          },
          "execution_count": 20
        },
        {
          "output_type": "display_data",
          "data": {
            "image/png": "[encoded data removed]",
            "text/plain": [
              "<Figure size 432x288 with 1 Axes>"
            ]
          },
          "metadata": {
            "tags": [],
            "needs_background": "light"
          }
        },
        {
          "output_type": "display_data",
          "data": {
            "text/plain": [
              "<Figure size 432x288 with 0 Axes>"
            ]
          },
          "metadata": {
            "tags": []
          }
        }
      ]
    },
    {
      "cell_type": "code",
      "metadata": {
        "colab": {
          "base_uri": "https://localhost:8080/",
          "height": 314
        },
        "id": "qIVAhEqD2phA",
        "outputId": "4f277096-400f-4c25-a9f3-d1367037c14c"
      },
      "source": [
        "# Grafik training and validation MAE\n",
        "training_mae=fitting_history.history['mae']\n",
        "validation_mae=fitting_history.history['val_mae']\n",
        "epochs=range(len(training_mae))\n",
        "\n",
        "plt.plot(epochs, training_mae, 'r', label=\"Training MAE\")\n",
        "plt.plot(epochs, validation_mae, 'b', label=\"Validation MAE\")\n",
        "plt.title('Training and validation MAE')\n",
        "plt.legend(loc=0)\n",
        "plt.figure()"
      ],
      "execution_count": 21,
      "outputs": [
        {
          "output_type": "execute_result",
          "data": {
            "text/plain": [
              "<Figure size 432x288 with 0 Axes>"
            ]
          },
          "metadata": {
            "tags": []
          },
          "execution_count": 21
        },
        {
          "output_type": "display_data",
          "data": {
            "image/png": "[encoded data removed]",
            "text/plain": [
              "<Figure size 432x288 with 1 Axes>"
            ]
          },
          "metadata": {
            "tags": [],
            "needs_background": "light"
          }
        },
        {
          "output_type": "display_data",
          "data": {
            "text/plain": [
              "<Figure size 432x288 with 0 Axes>"
            ]
          },
          "metadata": {
            "tags": []
          }
        }
      ]
    },
    {
      "cell_type": "code",
      "metadata": {
        "id": "Wpn2w9R-5LSY"
      },
      "source": [
        "# Simpan model\n",
        "model.save('model-lamapenyinaran.h5')"
      ],
      "execution_count": 22,
      "outputs": []
    },
    {
      "cell_type": "markdown",
      "metadata": {
        "id": "j0gtqKfD5N6d"
      },
      "source": [
        "# **Testing Model**"
      ]
    },
    {
      "cell_type": "code",
      "metadata": {
        "id": "o_3DBMeZ5gdD"
      },
      "source": [
        "# Load the model\n",
        "model = tf.keras.models.load_model('model-lamapenyinaran.h5')"
      ],
      "execution_count": 23,
      "outputs": []
    },
    {
      "cell_type": "code",
      "metadata": {
        "id": "UJ6BsbEZUVFr"
      },
      "source": [
        "#Prediksi Data\n",
        "data_prediksi = model.predict(input_test)"
      ],
      "execution_count": 24,
      "outputs": []
    },
    {
      "cell_type": "code",
      "metadata": {
        "colab": {
          "base_uri": "https://localhost:8080/"
        },
        "id": "_gyJGODddK7S",
        "outputId": "7ec4999d-0f63-4f7e-97ed-3c10c5d00921"
      },
      "source": [
        "print(data_prediksi)\n",
        "print(\"-------\")\n",
        "print(output_test)"
      ],
      "execution_count": 25,
      "outputs": [
        {
          "output_type": "stream",
          "text": [
            "[[0.4522081  0.54382575 0.7224445  0.8295906 ]\n",
            " [0.6358329  0.6838362  0.85446    0.95765275]\n",
            " [0.7599052  0.7855443  0.92341185 0.99404395]\n",
            " [0.92638016 0.936783   0.9960341  0.9836952 ]\n",
            " [1.0633376  1.060973   1.0428683  0.9403936 ]\n",
            " [1.0719678  1.074345   0.9904501  0.82000667]]\n",
            "-------\n",
            "[[0.48548387 0.60806452 0.66935484 0.80322581]\n",
            " [0.60806452 0.66935484 0.80322581 0.86774194]\n",
            " [0.66935484 0.80322581 0.86774194 0.92580645]\n",
            " [0.80322581 0.86774194 0.92580645 0.60645161]\n",
            " [0.86774194 0.92580645 0.60645161 0.48709677]\n",
            " [0.92580645 0.60645161 0.48709677 0.        ]]\n"
          ],
          "name": "stdout"
        }
      ]
    },
    {
      "cell_type": "code",
      "metadata": {
        "id": "jiFXCtfyUYA0"
      },
      "source": [
        "# Inverse transform data min max\n",
        "data_prediksi = scaler.inverse_transform(data_prediksi)\n",
        "output_test = scaler.inverse_transform(output_test)"
      ],
      "execution_count": 26,
      "outputs": []
    },
    {
      "cell_type": "code",
      "metadata": {
        "colab": {
          "base_uri": "https://localhost:8080/"
        },
        "id": "UM0zjtzmbKPB",
        "outputId": "ec3c65cb-7896-40d7-e57b-6a1efc2d2f01"
      },
      "source": [
        "print(data_prediksi)\n",
        "print(\"-------\")\n",
        "print(output_test)"
      ],
      "execution_count": 27,
      "outputs": [
        {
          "output_type": "stream",
          "text": [
            "[[6.07369   6.6417193 7.749156  8.413462 ]\n",
            " [7.212164  7.509784  8.567652  9.207447 ]\n",
            " [7.9814124 8.140374  8.995153  9.433072 ]\n",
            " [9.0135565 9.078055  9.445412  9.368911 ]\n",
            " [9.862693  9.848033  9.735783  9.100441 ]\n",
            " [9.916201  9.930939  9.41079   8.354041 ]]\n",
            "-------\n",
            "[[6.28 7.04 7.42 8.25]\n",
            " [7.04 7.42 8.25 8.65]\n",
            " [7.42 8.25 8.65 9.01]\n",
            " [8.25 8.65 9.01 7.03]\n",
            " [8.65 9.01 7.03 6.29]\n",
            " [9.01 7.03 6.29 3.27]]\n"
          ],
          "name": "stdout"
        }
      ]
    },
    {
      "cell_type": "code",
      "metadata": {
        "colab": {
          "base_uri": "https://localhost:8080/",
          "height": 362
        },
        "id": "CX_AAp2qf3-h",
        "outputId": "221db42b-21ae-4328-b700-d9abec3f70c2"
      },
      "source": [
        "temp_test=[]\n",
        "number=[]\n",
        "count=1\n",
        "\n",
        "for j in output_test[0]:\n",
        "  temp_test.append(j)\n",
        "  number.append(count)\n",
        "  count+=1\n",
        "  \n",
        "print(temp_test)\n",
        "print(number)\n",
        "\n",
        "temp_predict=[]\n",
        "number=[]\n",
        "count=1\n",
        "\n",
        "for j in data_prediksi[0]:\n",
        "  temp_predict.append(j)\n",
        "  number.append(count)\n",
        "  count+=1\n",
        "  \n",
        "print(temp_predict)\n",
        "print(number)\n",
        "\n",
        "# Grafik garis dari Suhu\n",
        "plt.plot(number,temp_predict,marker='o',color=\"yellow\")\n",
        "plt.plot(number,temp_test,marker='o',color=\"black\")\n",
        "plt.title('Lama Penyinaran')\n",
        "plt.ylabel('Jam')\n",
        "plt.xlabel('Bulan')\n",
        "plt.show()"
      ],
      "execution_count": 28,
      "outputs": [
        {
          "output_type": "stream",
          "text": [
            "[6.28, 7.04, 7.42, 8.25]\n",
            "[1, 2, 3, 4]\n",
            "[6.07369, 6.6417193, 7.749156, 8.413462]\n",
            "[1, 2, 3, 4]\n"
          ],
          "name": "stdout"
        },
        {
          "output_type": "display_data",
          "data": {
            "image/png": "[encoded data removed]",
            "text/plain": [
              "<Figure size 432x288 with 1 Axes>"
            ]
          },
          "metadata": {
            "tags": [],
            "needs_background": "light"
          }
        }
      ]
    },
    {
      "cell_type": "code",
      "metadata": {
        "colab": {
          "base_uri": "https://localhost:8080/",
          "height": 362
        },
        "id": "CaWGJ_dmgicp",
        "outputId": "85908613-ff37-46d9-e05f-2bfa1bec7f81"
      },
      "source": [
        "temp_test=[]\n",
        "number=[]\n",
        "count=1\n",
        "\n",
        "for j in output_test[1]:\n",
        "  temp_test.append(j)\n",
        "  number.append(count)\n",
        "  count+=1\n",
        "  \n",
        "print(temp_test)\n",
        "print(number)\n",
        "\n",
        "temp_predict=[]\n",
        "number=[]\n",
        "count=1\n",
        "\n",
        "for j in data_prediksi[1]:\n",
        "  temp_predict.append(j)\n",
        "  number.append(count)\n",
        "  count+=1\n",
        "  \n",
        "print(temp_predict)\n",
        "print(number)\n",
        "\n",
        "# Grafik garis dari Suhu\n",
        "plt.plot(number,temp_predict,marker='o',color=\"yellow\")\n",
        "plt.plot(number,temp_test,marker='o',color=\"black\")\n",
        "plt.title('Lama Penyinaran')\n",
        "plt.ylabel('Jam')\n",
        "plt.xlabel('Bulan')\n",
        "plt.show()"
      ],
      "execution_count": 29,
      "outputs": [
        {
          "output_type": "stream",
          "text": [
            "[7.04, 7.42, 8.25, 8.65]\n",
            "[1, 2, 3, 4]\n",
            "[7.212164, 7.509784, 8.567652, 9.207447]\n",
            "[1, 2, 3, 4]\n"
          ],
          "name": "stdout"
        },
        {
          "output_type": "display_data",
          "data": {
            "image/png": "[encoded data removed]",
            "text/plain": [
              "<Figure size 432x288 with 1 Axes>"
            ]
          },
          "metadata": {
            "tags": [],
            "needs_background": "light"
          }
        }
      ]
    },
    {
      "cell_type": "code",
      "metadata": {
        "colab": {
          "base_uri": "https://localhost:8080/",
          "height": 362
        },
        "id": "pIx2JbDs2M4i",
        "outputId": "69c5c6d0-a165-4834-d174-dfcfb5480c0f"
      },
      "source": [
        "temp_test=[]\n",
        "number=[]\n",
        "count=1\n",
        "\n",
        "for j in output_test[2]:\n",
        "  temp_test.append(j)\n",
        "  number.append(count)\n",
        "  count+=1\n",
        "  \n",
        "print(temp_test)\n",
        "print(number)\n",
        "\n",
        "temp_predict=[]\n",
        "number=[]\n",
        "count=1\n",
        "\n",
        "for j in data_prediksi[2]:\n",
        "  temp_predict.append(j)\n",
        "  number.append(count)\n",
        "  count+=1\n",
        "  \n",
        "print(temp_predict)\n",
        "print(number)\n",
        "\n",
        "# Grafik garis dari Suhu\n",
        "plt.plot(number,temp_predict,marker='o',color=\"yellow\")\n",
        "plt.plot(number,temp_test,marker='o',color=\"black\")\n",
        "plt.title('Lama Penyinaran')\n",
        "plt.ylabel('Jam')\n",
        "plt.xlabel('Bulan')\n",
        "plt.show()"
      ],
      "execution_count": 30,
      "outputs": [
        {
          "output_type": "stream",
          "text": [
            "[7.42, 8.25, 8.65, 9.01]\n",
            "[1, 2, 3, 4]\n",
            "[7.9814124, 8.140374, 8.995153, 9.433072]\n",
            "[1, 2, 3, 4]\n"
          ],
          "name": "stdout"
        },
        {
          "output_type": "display_data",
          "data": {
            "image/png": "[encoded data removed]",
            "text/plain": [
              "<Figure size 432x288 with 1 Axes>"
            ]
          },
          "metadata": {
            "tags": [],
            "needs_background": "light"
          }
        }
      ]
    },
    {
      "cell_type": "code",
      "metadata": {
        "colab": {
          "base_uri": "https://localhost:8080/",
          "height": 362
        },
        "id": "FjKgCyhJ2Omf",
        "outputId": "852e59dc-9b9d-473b-cca9-8f6baa1b45c6"
      },
      "source": [
        "temp_test=[]\n",
        "number=[]\n",
        "count=1\n",
        "\n",
        "for j in output_test[3]:\n",
        "  temp_test.append(j)\n",
        "  number.append(count)\n",
        "  count+=1\n",
        "  \n",
        "print(temp_test)\n",
        "print(number)\n",
        "\n",
        "temp_predict=[]\n",
        "number=[]\n",
        "count=1\n",
        "\n",
        "for j in data_prediksi[3]:\n",
        "  temp_predict.append(j)\n",
        "  number.append(count)\n",
        "  count+=1\n",
        "  \n",
        "print(temp_predict)\n",
        "print(number)\n",
        "\n",
        "# Grafik garis dari Suhu\n",
        "plt.plot(number,temp_predict,marker='o',color=\"yellow\")\n",
        "plt.plot(number,temp_test,marker='o',color=\"black\")\n",
        "plt.title('Lama Penyinaran')\n",
        "plt.ylabel('Jam')\n",
        "plt.xlabel('Bulan')\n",
        "plt.show()"
      ],
      "execution_count": 31,
      "outputs": [
        {
          "output_type": "stream",
          "text": [
            "[8.25, 8.65, 9.01, 7.029999999999999]\n",
            "[1, 2, 3, 4]\n",
            "[9.0135565, 9.078055, 9.445412, 9.368911]\n",
            "[1, 2, 3, 4]\n"
          ],
          "name": "stdout"
        },
        {
          "output_type": "display_data",
          "data": {
            "image/png": "[encoded data removed]",
            "text/plain": [
              "<Figure size 432x288 with 1 Axes>"
            ]
          },
          "metadata": {
            "tags": [],
            "needs_background": "light"
          }
        }
      ]
    },
    {
      "cell_type": "code",
      "metadata": {
        "colab": {
          "base_uri": "https://localhost:8080/",
          "height": 362
        },
        "id": "wVEW7Grd2QMI",
        "outputId": "6089e60b-b1e9-47e3-bcc1-eb3368739c8c"
      },
      "source": [
        "temp_test=[]\n",
        "number=[]\n",
        "count=1\n",
        "\n",
        "for j in output_test[4]:\n",
        "  temp_test.append(j)\n",
        "  number.append(count)\n",
        "  count+=1\n",
        "  \n",
        "print(temp_test)\n",
        "print(number)\n",
        "\n",
        "temp_predict=[]\n",
        "number=[]\n",
        "count=1\n",
        "\n",
        "for j in data_prediksi[4]:\n",
        "  temp_predict.append(j)\n",
        "  number.append(count)\n",
        "  count+=1\n",
        "  \n",
        "print(temp_predict)\n",
        "print(number)\n",
        "\n",
        "# Grafik garis dari Suhu\n",
        "plt.plot(number,temp_predict,marker='o',color=\"yellow\")\n",
        "plt.plot(number,temp_test,marker='o',color=\"black\")\n",
        "plt.title('Lama Penyinaran')\n",
        "plt.ylabel('Jam')\n",
        "plt.xlabel('Bulan')\n",
        "plt.show()"
      ],
      "execution_count": 32,
      "outputs": [
        {
          "output_type": "stream",
          "text": [
            "[8.65, 9.01, 7.029999999999999, 6.290000000000001]\n",
            "[1, 2, 3, 4]\n",
            "[9.862693, 9.848033, 9.735783, 9.100441]\n",
            "[1, 2, 3, 4]\n"
          ],
          "name": "stdout"
        },
        {
          "output_type": "display_data",
          "data": {
            "image/png": "[encoded data removed]",
            "text/plain": [
              "<Figure size 432x288 with 1 Axes>"
            ]
          },
          "metadata": {
            "tags": [],
            "needs_background": "light"
          }
        }
      ]
    },
    {
      "cell_type": "code",
      "metadata": {
        "colab": {
          "base_uri": "https://localhost:8080/",
          "height": 362
        },
        "id": "EpA6ahG12Rv6",
        "outputId": "cabb08a1-77d4-4c20-cecb-56f157149d22"
      },
      "source": [
        "temp_test=[]\n",
        "number=[]\n",
        "count=1\n",
        "\n",
        "for j in output_test[5]:\n",
        "  temp_test.append(j)\n",
        "  number.append(count)\n",
        "  count+=1\n",
        "  \n",
        "print(temp_test)\n",
        "print(number)\n",
        "\n",
        "temp_predict=[]\n",
        "number=[]\n",
        "count=1\n",
        "\n",
        "for j in data_prediksi[5]:\n",
        "  temp_predict.append(j)\n",
        "  number.append(count)\n",
        "  count+=1\n",
        "  \n",
        "print(temp_predict)\n",
        "print(number)\n",
        "\n",
        "# Grafik garis dari Suhu\n",
        "plt.plot(number,temp_predict,marker='o',color=\"yellow\")\n",
        "plt.plot(number,temp_test,marker='o',color=\"black\")\n",
        "plt.title('Lama Penyinaran')\n",
        "plt.ylabel('Jam')\n",
        "plt.xlabel('Bulan')\n",
        "plt.show()"
      ],
      "execution_count": 33,
      "outputs": [
        {
          "output_type": "stream",
          "text": [
            "[9.01, 7.029999999999999, 6.290000000000001, 3.27]\n",
            "[1, 2, 3, 4]\n",
            "[9.916201, 9.930939, 9.41079, 8.354041]\n",
            "[1, 2, 3, 4]\n"
          ],
          "name": "stdout"
        },
        {
          "output_type": "display_data",
          "data": {
            "image/png": "[encoded data removed]",
            "text/plain": [
              "<Figure size 432x288 with 1 Axes>"
            ]
          },
          "metadata": {
            "tags": [],
            "needs_background": "light"
          }
        }
      ]
    }
  ]
}