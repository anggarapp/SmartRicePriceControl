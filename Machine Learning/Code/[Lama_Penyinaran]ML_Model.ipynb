{
  "nbformat": 4,
  "nbformat_minor": 0,
  "metadata": {
    "colab": {
      "name": "[Lama Penyinaran]ML-Model.ipynb",
      "provenance": [],
      "toc_visible": true,
      "authorship_tag": "ABX9TyOWuYZ9/mNIOIjfr7r64qNN",
      "include_colab_link": true
    },
    "kernelspec": {
      "name": "python3",
      "display_name": "Python 3"
    },
    "language_info": {
      "name": "python"
    }
  },
  "cells": [
    {
      "cell_type": "markdown",
      "metadata": {
        "id": "view-in-github",
        "colab_type": "text"
      },
      "source": [
        "<a href=\"https://colab.research.google.com/github/u1-byte/SmartRicePriceControl/blob/main/Machine%20Learning/Code/%5BLama_Penyinaran%5DML_Model.ipynb\" target=\"_parent\"><img src=\"https://colab.research.google.com/assets/colab-badge.svg\" alt=\"Open In Colab\"/></a>"
      ]
    },
    {
      "cell_type": "code",
      "metadata": {
        "id": "kTPzSD0srTVw"
      },
      "source": [
        "#import library\n",
        "import tensorflow as tf\n",
        "import numpy as np\n",
        "import matplotlib.pyplot as plt\n",
        "from tensorflow import keras\n",
        "from google.colab import files\n",
        "import csv\n",
        "from sklearn.preprocessing import MinMaxScaler\n",
        "from sklearn.metrics import mean_squared_error"
      ],
      "execution_count": 2,
      "outputs": []
    },
    {
      "cell_type": "code",
      "metadata": {
        "colab": {
          "resources": {
            "http://localhost:8080/nbextensions/google.colab/files.js": {
              "data": "Ly8gQ29weXJpZ2h0IDIwMTcgR29vZ2xlIExMQwovLwovLyBMaWNlbnNlZCB1bmRlciB0aGUgQXBhY2hlIExpY2Vuc2UsIFZlcnNpb24gMi4wICh0aGUgIkxpY2Vuc2UiKTsKLy8geW91IG1heSBub3QgdXNlIHRoaXMgZmlsZSBleGNlcHQgaW4gY29tcGxpYW5jZSB3aXRoIHRoZSBMaWNlbnNlLgovLyBZb3UgbWF5IG9idGFpbiBhIGNvcHkgb2YgdGhlIExpY2Vuc2UgYXQKLy8KLy8gICAgICBodHRwOi8vd3d3LmFwYWNoZS5vcmcvbGljZW5zZXMvTElDRU5TRS0yLjAKLy8KLy8gVW5sZXNzIHJlcXVpcmVkIGJ5IGFwcGxpY2FibGUgbGF3IG9yIGFncmVlZCB0byBpbiB3cml0aW5nLCBzb2Z0d2FyZQovLyBkaXN0cmlidXRlZCB1bmRlciB0aGUgTGljZW5zZSBpcyBkaXN0cmlidXRlZCBvbiBhbiAiQVMgSVMiIEJBU0lTLAovLyBXSVRIT1VUIFdBUlJBTlRJRVMgT1IgQ09ORElUSU9OUyBPRiBBTlkgS0lORCwgZWl0aGVyIGV4cHJlc3Mgb3IgaW1wbGllZC4KLy8gU2VlIHRoZSBMaWNlbnNlIGZvciB0aGUgc3BlY2lmaWMgbGFuZ3VhZ2UgZ292ZXJuaW5nIHBlcm1pc3Npb25zIGFuZAovLyBsaW1pdGF0aW9ucyB1bmRlciB0aGUgTGljZW5zZS4KCi8qKgogKiBAZmlsZW92ZXJ2aWV3IEhlbHBlcnMgZm9yIGdvb2dsZS5jb2xhYiBQeXRob24gbW9kdWxlLgogKi8KKGZ1bmN0aW9uKHNjb3BlKSB7CmZ1bmN0aW9uIHNwYW4odGV4dCwgc3R5bGVBdHRyaWJ1dGVzID0ge30pIHsKICBjb25zdCBlbGVtZW50ID0gZG9jdW1lbnQuY3JlYXRlRWxlbWVudCgnc3BhbicpOwogIGVsZW1lbnQudGV4dENvbnRlbnQgPSB0ZXh0OwogIGZvciAoY29uc3Qga2V5IG9mIE9iamVjdC5rZXlzKHN0eWxlQXR0cmlidXRlcykpIHsKICAgIGVsZW1lbnQuc3R5bGVba2V5XSA9IHN0eWxlQXR0cmlidXRlc1trZXldOwogIH0KICByZXR1cm4gZWxlbWVudDsKfQoKLy8gTWF4IG51bWJlciBvZiBieXRlcyB3aGljaCB3aWxsIGJlIHVwbG9hZGVkIGF0IGEgdGltZS4KY29uc3QgTUFYX1BBWUxPQURfU0laRSA9IDEwMCAqIDEwMjQ7CgpmdW5jdGlvbiBfdXBsb2FkRmlsZXMoaW5wdXRJZCwgb3V0cHV0SWQpIHsKICBjb25zdCBzdGVwcyA9IHVwbG9hZEZpbGVzU3RlcChpbnB1dElkLCBvdXRwdXRJZCk7CiAgY29uc3Qgb3V0cHV0RWxlbWVudCA9IGRvY3VtZW50LmdldEVsZW1lbnRCeUlkKG91dHB1dElkKTsKICAvLyBDYWNoZSBzdGVwcyBvbiB0aGUgb3V0cHV0RWxlbWVudCB0byBtYWtlIGl0IGF2YWlsYWJsZSBmb3IgdGhlIG5leHQgY2FsbAogIC8vIHRvIHVwbG9hZEZpbGVzQ29udGludWUgZnJvbSBQeXRob24uCiAgb3V0cHV0RWxlbWVudC5zdGVwcyA9IHN0ZXBzOwoKICByZXR1cm4gX3VwbG9hZEZpbGVzQ29udGludWUob3V0cHV0SWQpOwp9CgovLyBUaGlzIGlzIHJvdWdobHkgYW4gYXN5bmMgZ2VuZXJhdG9yIChub3Qgc3VwcG9ydGVkIGluIHRoZSBicm93c2VyIHlldCksCi8vIHdoZXJlIHRoZXJlIGFyZSBtdWx0aXBsZSBhc3luY2hyb25vdXMgc3RlcHMgYW5kIHRoZSBQeXRob24gc2lkZSBpcyBnb2luZwovLyB0byBwb2xsIGZvciBjb21wbGV0aW9uIG9mIGVhY2ggc3RlcC4KLy8gVGhpcyB1c2VzIGEgUHJvbWlzZSB0byBibG9jayB0aGUgcHl0aG9uIHNpZGUgb24gY29tcGxldGlvbiBvZiBlYWNoIHN0ZXAsCi8vIHRoZW4gcGFzc2VzIHRoZSByZXN1bHQgb2YgdGhlIHByZXZpb3VzIHN0ZXAgYXMgdGhlIGlucHV0IHRvIHRoZSBuZXh0IHN0ZXAuCmZ1bmN0aW9uIF91cGxvYWRGaWxlc0NvbnRpbnVlKG91dHB1dElkKSB7CiAgY29uc3Qgb3V0cHV0RWxlbWVudCA9IGRvY3VtZW50LmdldEVsZW1lbnRCeUlkKG91dHB1dElkKTsKICBjb25zdCBzdGVwcyA9IG91dHB1dEVsZW1lbnQuc3RlcHM7CgogIGNvbnN0IG5leHQgPSBzdGVwcy5uZXh0KG91dHB1dEVsZW1lbnQubGFzdFByb21pc2VWYWx1ZSk7CiAgcmV0dXJuIFByb21pc2UucmVzb2x2ZShuZXh0LnZhbHVlLnByb21pc2UpLnRoZW4oKHZhbHVlKSA9PiB7CiAgICAvLyBDYWNoZSB0aGUgbGFzdCBwcm9taXNlIHZhbHVlIHRvIG1ha2UgaXQgYXZhaWxhYmxlIHRvIHRoZSBuZXh0CiAgICAvLyBzdGVwIG9mIHRoZSBnZW5lcmF0b3IuCiAgICBvdXRwdXRFbGVtZW50Lmxhc3RQcm9taXNlVmFsdWUgPSB2YWx1ZTsKICAgIHJldHVybiBuZXh0LnZhbHVlLnJlc3BvbnNlOwogIH0pOwp9CgovKioKICogR2VuZXJhdG9yIGZ1bmN0aW9uIHdoaWNoIGlzIGNhbGxlZCBiZXR3ZWVuIGVhY2ggYXN5bmMgc3RlcCBvZiB0aGUgdXBsb2FkCiAqIHByb2Nlc3MuCiAqIEBwYXJhbSB7c3RyaW5nfSBpbnB1dElkIEVsZW1lbnQgSUQgb2YgdGhlIGlucHV0IGZpbGUgcGlja2VyIGVsZW1lbnQuCiAqIEBwYXJhbSB7c3RyaW5nfSBvdXRwdXRJZCBFbGVtZW50IElEIG9mIHRoZSBvdXRwdXQgZGlzcGxheS4KICogQHJldHVybiB7IUl0ZXJhYmxlPCFPYmplY3Q+fSBJdGVyYWJsZSBvZiBuZXh0IHN0ZXBzLgogKi8KZnVuY3Rpb24qIHVwbG9hZEZpbGVzU3RlcChpbnB1dElkLCBvdXRwdXRJZCkgewogIGNvbnN0IGlucHV0RWxlbWVudCA9IGRvY3VtZW50LmdldEVsZW1lbnRCeUlkKGlucHV0SWQpOwogIGlucHV0RWxlbWVudC5kaXNhYmxlZCA9IGZhbHNlOwoKICBjb25zdCBvdXRwdXRFbGVtZW50ID0gZG9jdW1lbnQuZ2V0RWxlbWVudEJ5SWQob3V0cHV0SWQpOwogIG91dHB1dEVsZW1lbnQuaW5uZXJIVE1MID0gJyc7CgogIGNvbnN0IHBpY2tlZFByb21pc2UgPSBuZXcgUHJvbWlzZSgocmVzb2x2ZSkgPT4gewogICAgaW5wdXRFbGVtZW50LmFkZEV2ZW50TGlzdGVuZXIoJ2NoYW5nZScsIChlKSA9PiB7CiAgICAgIHJlc29sdmUoZS50YXJnZXQuZmlsZXMpOwogICAgfSk7CiAgfSk7CgogIGNvbnN0IGNhbmNlbCA9IGRvY3VtZW50LmNyZWF0ZUVsZW1lbnQoJ2J1dHRvbicpOwogIGlucHV0RWxlbWVudC5wYXJlbnRFbGVtZW50LmFwcGVuZENoaWxkKGNhbmNlbCk7CiAgY2FuY2VsLnRleHRDb250ZW50ID0gJ0NhbmNlbCB1cGxvYWQnOwogIGNvbnN0IGNhbmNlbFByb21pc2UgPSBuZXcgUHJvbWlzZSgocmVzb2x2ZSkgPT4gewogICAgY2FuY2VsLm9uY2xpY2sgPSAoKSA9PiB7CiAgICAgIHJlc29sdmUobnVsbCk7CiAgICB9OwogIH0pOwoKICAvLyBXYWl0IGZvciB0aGUgdXNlciB0byBwaWNrIHRoZSBmaWxlcy4KICBjb25zdCBmaWxlcyA9IHlpZWxkIHsKICAgIHByb21pc2U6IFByb21pc2UucmFjZShbcGlja2VkUHJvbWlzZSwgY2FuY2VsUHJvbWlzZV0pLAogICAgcmVzcG9uc2U6IHsKICAgICAgYWN0aW9uOiAnc3RhcnRpbmcnLAogICAgfQogIH07CgogIGNhbmNlbC5yZW1vdmUoKTsKCiAgLy8gRGlzYWJsZSB0aGUgaW5wdXQgZWxlbWVudCBzaW5jZSBmdXJ0aGVyIHBpY2tzIGFyZSBub3QgYWxsb3dlZC4KICBpbnB1dEVsZW1lbnQuZGlzYWJsZWQgPSB0cnVlOwoKICBpZiAoIWZpbGVzKSB7CiAgICByZXR1cm4gewogICAgICByZXNwb25zZTogewogICAgICAgIGFjdGlvbjogJ2NvbXBsZXRlJywKICAgICAgfQogICAgfTsKICB9CgogIGZvciAoY29uc3QgZmlsZSBvZiBmaWxlcykgewogICAgY29uc3QgbGkgPSBkb2N1bWVudC5jcmVhdGVFbGVtZW50KCdsaScpOwogICAgbGkuYXBwZW5kKHNwYW4oZmlsZS5uYW1lLCB7Zm9udFdlaWdodDogJ2JvbGQnfSkpOwogICAgbGkuYXBwZW5kKHNwYW4oCiAgICAgICAgYCgke2ZpbGUudHlwZSB8fCAnbi9hJ30pIC0gJHtmaWxlLnNpemV9IGJ5dGVzLCBgICsKICAgICAgICBgbGFzdCBtb2RpZmllZDogJHsKICAgICAgICAgICAgZmlsZS5sYXN0TW9kaWZpZWREYXRlID8gZmlsZS5sYXN0TW9kaWZpZWREYXRlLnRvTG9jYWxlRGF0ZVN0cmluZygpIDoKICAgICAgICAgICAgICAgICAgICAgICAgICAgICAgICAgICAgJ24vYSd9IC0gYCkpOwogICAgY29uc3QgcGVyY2VudCA9IHNwYW4oJzAlIGRvbmUnKTsKICAgIGxpLmFwcGVuZENoaWxkKHBlcmNlbnQpOwoKICAgIG91dHB1dEVsZW1lbnQuYXBwZW5kQ2hpbGQobGkpOwoKICAgIGNvbnN0IGZpbGVEYXRhUHJvbWlzZSA9IG5ldyBQcm9taXNlKChyZXNvbHZlKSA9PiB7CiAgICAgIGNvbnN0IHJlYWRlciA9IG5ldyBGaWxlUmVhZGVyKCk7CiAgICAgIHJlYWRlci5vbmxvYWQgPSAoZSkgPT4gewogICAgICAgIHJlc29sdmUoZS50YXJnZXQucmVzdWx0KTsKICAgICAgfTsKICAgICAgcmVhZGVyLnJlYWRBc0FycmF5QnVmZmVyKGZpbGUpOwogICAgfSk7CiAgICAvLyBXYWl0IGZvciB0aGUgZGF0YSB0byBiZSByZWFkeS4KICAgIGxldCBmaWxlRGF0YSA9IHlpZWxkIHsKICAgICAgcHJvbWlzZTogZmlsZURhdGFQcm9taXNlLAogICAgICByZXNwb25zZTogewogICAgICAgIGFjdGlvbjogJ2NvbnRpbnVlJywKICAgICAgfQogICAgfTsKCiAgICAvLyBVc2UgYSBjaHVua2VkIHNlbmRpbmcgdG8gYXZvaWQgbWVzc2FnZSBzaXplIGxpbWl0cy4gU2VlIGIvNjIxMTU2NjAuCiAgICBsZXQgcG9zaXRpb24gPSAwOwogICAgd2hpbGUgKHBvc2l0aW9uIDwgZmlsZURhdGEuYnl0ZUxlbmd0aCkgewogICAgICBjb25zdCBsZW5ndGggPSBNYXRoLm1pbihmaWxlRGF0YS5ieXRlTGVuZ3RoIC0gcG9zaXRpb24sIE1BWF9QQVlMT0FEX1NJWkUpOwogICAgICBjb25zdCBjaHVuayA9IG5ldyBVaW50OEFycmF5KGZpbGVEYXRhLCBwb3NpdGlvbiwgbGVuZ3RoKTsKICAgICAgcG9zaXRpb24gKz0gbGVuZ3RoOwoKICAgICAgY29uc3QgYmFzZTY0ID0gYnRvYShTdHJpbmcuZnJvbUNoYXJDb2RlLmFwcGx5KG51bGwsIGNodW5rKSk7CiAgICAgIHlpZWxkIHsKICAgICAgICByZXNwb25zZTogewogICAgICAgICAgYWN0aW9uOiAnYXBwZW5kJywKICAgICAgICAgIGZpbGU6IGZpbGUubmFtZSwKICAgICAgICAgIGRhdGE6IGJhc2U2NCwKICAgICAgICB9LAogICAgICB9OwogICAgICBwZXJjZW50LnRleHRDb250ZW50ID0KICAgICAgICAgIGAke01hdGgucm91bmQoKHBvc2l0aW9uIC8gZmlsZURhdGEuYnl0ZUxlbmd0aCkgKiAxMDApfSUgZG9uZWA7CiAgICB9CiAgfQoKICAvLyBBbGwgZG9uZS4KICB5aWVsZCB7CiAgICByZXNwb25zZTogewogICAgICBhY3Rpb246ICdjb21wbGV0ZScsCiAgICB9CiAgfTsKfQoKc2NvcGUuZ29vZ2xlID0gc2NvcGUuZ29vZ2xlIHx8IHt9OwpzY29wZS5nb29nbGUuY29sYWIgPSBzY29wZS5nb29nbGUuY29sYWIgfHwge307CnNjb3BlLmdvb2dsZS5jb2xhYi5fZmlsZXMgPSB7CiAgX3VwbG9hZEZpbGVzLAogIF91cGxvYWRGaWxlc0NvbnRpbnVlLAp9Owp9KShzZWxmKTsK",
              "ok": true,
              "headers": [
                [
                  "content-type",
                  "application/javascript"
                ]
              ],
              "status": 200,
              "status_text": ""
            }
          },
          "base_uri": "https://localhost:8080/",
          "height": 73
        },
        "id": "9pW1P_9fTl4j",
        "outputId": "30174bc8-cf5e-4d7e-8b43-16121e927c9b"
      },
      "source": [
        "# Upload file dataset dari lokal\n",
        "uploaded = files.upload()"
      ],
      "execution_count": 3,
      "outputs": [
        {
          "output_type": "display_data",
          "data": {
            "text/html": [
              "\n",
              "     <input type=\"file\" id=\"files-3beb89fd-691f-4b34-96c5-5e7274f98335\" name=\"files[]\" multiple disabled\n",
              "        style=\"border:none\" />\n",
              "     <output id=\"result-3beb89fd-691f-4b34-96c5-5e7274f98335\">\n",
              "      Upload widget is only available when the cell has been executed in the\n",
              "      current browser session. Please rerun this cell to enable.\n",
              "      </output>\n",
              "      <script src=\"/nbextensions/google.colab/files.js\"></script> "
            ],
            "text/plain": [
              "<IPython.core.display.HTML object>"
            ]
          },
          "metadata": {
            "tags": []
          }
        },
        {
          "output_type": "stream",
          "text": [
            "Saving Cuaca.csv to Cuaca.csv\n"
          ],
          "name": "stdout"
        }
      ]
    },
    {
      "cell_type": "markdown",
      "metadata": {
        "id": "4j7-4-QStoQc"
      },
      "source": [
        "# **Provinsi Jatim**"
      ]
    },
    {
      "cell_type": "code",
      "metadata": {
        "id": "Ctdpy9NotCw0"
      },
      "source": [
        "# Input data Jatim\n",
        "input_lama_penyinaran_ratarata = []\n",
        "number_of_input = []\n",
        "number=1\n",
        "\n",
        "# Baca file.csv\n",
        "with open('/content/Cuaca.csv') as csv_file:\n",
        "  csv_reader = csv.reader(csv_file, delimiter=',')\n",
        "  next(csv_reader)\n",
        "  for row in csv_reader:\n",
        "    number_of_input.append(number)\n",
        "    input_lama_penyinaran_ratarata.append(float(row[4]))\n",
        "    number+=1"
      ],
      "execution_count": 680,
      "outputs": []
    },
    {
      "cell_type": "code",
      "metadata": {
        "colab": {
          "base_uri": "https://localhost:8080/",
          "height": 295
        },
        "id": "a5bHiYtKtQiA",
        "outputId": "3cb5c2e2-228a-47c8-f64a-3464c5c30bff"
      },
      "source": [
        "# Grafik garis dari Suhu\n",
        "plt.plot(number_of_input,input_lama_penyinaran_ratarata,marker='o')\n",
        "plt.title('Lama Penyinaran (2018 - 2020)')\n",
        "plt.ylabel('Jam')\n",
        "plt.xlabel('Bulan')\n",
        "plt.show()"
      ],
      "execution_count": 681,
      "outputs": [
        {
          "output_type": "display_data",
          "data": {
            "image/png": "[encoded data removed]",
            "text/plain": [
              "<Figure size 432x288 with 1 Axes>"
            ]
          },
          "metadata": {
            "tags": [],
            "needs_background": "light"
          }
        }
      ]
    },
    {
      "cell_type": "code",
      "metadata": {
        "colab": {
          "base_uri": "https://localhost:8080/"
        },
        "id": "hl7HExITrv6v",
        "outputId": "efb5dba5-d384-43f5-f8ea-b9ed4772751c"
      },
      "source": [
        "# Input dari data pada database\n",
        "dataset = []\n",
        "counter=0\n",
        "\n",
        "# Baca file.csv\n",
        "with open('/content/Cuaca.csv') as csv_file:\n",
        "  csv_reader = csv.reader(csv_file, delimiter=',')\n",
        "  next(csv_reader)\n",
        "  for row in csv_reader:\n",
        "    dataset.append([])\n",
        "    dataset[counter].append(float(row[4]))\n",
        "    counter+=1\n",
        "\n",
        "dataset = np.array(dataset)\n",
        "\n",
        "print(dataset)"
      ],
      "execution_count": 682,
      "outputs": [
        {
          "output_type": "stream",
          "text": [
            "[[3.44]\n",
            " [5.41]\n",
            " [5.2 ]\n",
            " [8.14]\n",
            " [8.11]\n",
            " [8.19]\n",
            " [9.04]\n",
            " [8.95]\n",
            " [8.  ]\n",
            " [8.73]\n",
            " [6.35]\n",
            " [3.76]\n",
            " [4.52]\n",
            " [5.77]\n",
            " [4.87]\n",
            " [6.09]\n",
            " [8.59]\n",
            " [8.25]\n",
            " [8.6 ]\n",
            " [9.4 ]\n",
            " [9.27]\n",
            " [9.47]\n",
            " [8.88]\n",
            " [6.62]\n",
            " [5.04]\n",
            " [4.72]\n",
            " [5.54]\n",
            " [6.28]\n",
            " [7.04]\n",
            " [7.42]\n",
            " [8.25]\n",
            " [8.65]\n",
            " [9.01]\n",
            " [7.03]\n",
            " [6.29]\n",
            " [3.27]]\n"
          ],
          "name": "stdout"
        }
      ]
    },
    {
      "cell_type": "code",
      "metadata": {
        "id": "dcyiZXY0UANG"
      },
      "source": [
        "# Normalisasi dataset\n",
        "scaler = MinMaxScaler()\n",
        "dataset = scaler.fit_transform(dataset)"
      ],
      "execution_count": 683,
      "outputs": []
    },
    {
      "cell_type": "code",
      "metadata": {
        "colab": {
          "base_uri": "https://localhost:8080/"
        },
        "id": "RfJp46NhUFht",
        "outputId": "99e4c2e0-7f15-441f-830b-317e7764c2ab"
      },
      "source": [
        "# Fungsi membuat sequence\n",
        "def buat_sequences(dataset, window_size):\n",
        "    input = []\n",
        "    output = []\n",
        "\n",
        "    for i in range(len(dataset)-window_size+1):\n",
        "        window = dataset[i:(i+window_size-4), 0]\n",
        "        input.append(window)\n",
        "        output.append(dataset[(i+window_size-1):i+window_size, 0])\n",
        "    return np.array(input),np.array(output)\n",
        "\n",
        "window_size = 8\n",
        "dataInput, dataOutput = buat_sequences(dataset, window_size)\n",
        "\n",
        "print(len(dataInput))\n",
        "print(len(dataOutput))"
      ],
      "execution_count": 684,
      "outputs": [
        {
          "output_type": "stream",
          "text": [
            "29\n",
            "29\n"
          ],
          "name": "stdout"
        }
      ]
    },
    {
      "cell_type": "code",
      "metadata": {
        "colab": {
          "base_uri": "https://localhost:8080/"
        },
        "id": "-UwcXJqMir2A",
        "outputId": "5f99f0df-3cef-4f46-d4d2-db8c0e2501d2"
      },
      "source": [
        "split_valid = 23\n",
        "input_train, input_test = dataInput[:split_valid,:], dataInput[split_valid:,:]\n",
        "output_train, output_test = dataOutput[:split_valid,:], dataOutput[split_valid:,:]\n",
        "\n",
        "print(len(input_train))\n",
        "print(len(output_train))"
      ],
      "execution_count": 685,
      "outputs": [
        {
          "output_type": "stream",
          "text": [
            "23\n",
            "23\n"
          ],
          "name": "stdout"
        }
      ]
    },
    {
      "cell_type": "code",
      "metadata": {
        "colab": {
          "base_uri": "https://localhost:8080/"
        },
        "id": "AS2MgD_XjbQl",
        "outputId": "3898e496-d851-47e6-d61c-2a6c08b8b3f5"
      },
      "source": [
        "print(input_test)\n",
        "print(\"------\")\n",
        "print(output_test)"
      ],
      "execution_count": 686,
      "outputs": [
        {
          "output_type": "stream",
          "text": [
            "[[0.54032258 0.28548387 0.23387097 0.36612903]\n",
            " [0.28548387 0.23387097 0.36612903 0.48548387]\n",
            " [0.23387097 0.36612903 0.48548387 0.60806452]\n",
            " [0.36612903 0.48548387 0.60806452 0.66935484]\n",
            " [0.48548387 0.60806452 0.66935484 0.80322581]\n",
            " [0.60806452 0.66935484 0.80322581 0.86774194]]\n",
            "------\n",
            "[[0.80322581]\n",
            " [0.86774194]\n",
            " [0.92580645]\n",
            " [0.60645161]\n",
            " [0.48709677]\n",
            " [0.        ]]\n"
          ],
          "name": "stdout"
        }
      ]
    },
    {
      "cell_type": "code",
      "metadata": {
        "id": "eXAW51AAUNSL"
      },
      "source": [
        "# Ubah dimensinya untuk disesuaikan dengan model\n",
        "input_train = input_train.reshape((input_train.shape[0], 1, 1, 1, window_size-4))\n",
        "input_test = input_test.reshape((input_test.shape[0], 1, 1, 1, window_size-4))"
      ],
      "execution_count": 687,
      "outputs": []
    },
    {
      "cell_type": "code",
      "metadata": {
        "colab": {
          "base_uri": "https://localhost:8080/"
        },
        "id": "8tHcz4U4b07Z",
        "outputId": "5aa28142-00bc-4bcc-e28b-f4771e2e84d3"
      },
      "source": [
        "print(input_test)"
      ],
      "execution_count": 688,
      "outputs": [
        {
          "output_type": "stream",
          "text": [
            "[[[[[0.54032258 0.28548387 0.23387097 0.36612903]]]]\n",
            "\n",
            "\n",
            "\n",
            " [[[[0.28548387 0.23387097 0.36612903 0.48548387]]]]\n",
            "\n",
            "\n",
            "\n",
            " [[[[0.23387097 0.36612903 0.48548387 0.60806452]]]]\n",
            "\n",
            "\n",
            "\n",
            " [[[[0.36612903 0.48548387 0.60806452 0.66935484]]]]\n",
            "\n",
            "\n",
            "\n",
            " [[[[0.48548387 0.60806452 0.66935484 0.80322581]]]]\n",
            "\n",
            "\n",
            "\n",
            " [[[[0.60806452 0.66935484 0.80322581 0.86774194]]]]]\n"
          ],
          "name": "stdout"
        }
      ]
    },
    {
      "cell_type": "code",
      "metadata": {
        "colab": {
          "base_uri": "https://localhost:8080/"
        },
        "id": "AVLM4b_omI8n",
        "outputId": "5c217a11-eb13-4037-d453-bcd9a43ad98d"
      },
      "source": [
        "print(output_test)"
      ],
      "execution_count": 689,
      "outputs": [
        {
          "output_type": "stream",
          "text": [
            "[[0.80322581]\n",
            " [0.86774194]\n",
            " [0.92580645]\n",
            " [0.60645161]\n",
            " [0.48709677]\n",
            " [0.        ]]\n"
          ],
          "name": "stdout"
        }
      ]
    },
    {
      "cell_type": "code",
      "metadata": {
        "colab": {
          "base_uri": "https://localhost:8080/"
        },
        "id": "xnjsFuOoy491",
        "outputId": "190141b2-684a-4dc5-e2f1-5ded540344fb"
      },
      "source": [
        "#model machine learning\n",
        "model = tf.keras.models.Sequential([\n",
        "  tf.keras.layers.ConvLSTM2D(filters=4096, kernel_size=(1,1), activation='relu', input_shape=(1, 1, 1, window_size-4)),    \n",
        "  tf.keras.layers.Flatten(),\n",
        "  tf.keras.layers.Dense(1024),\n",
        "  tf.keras.layers.Dense(1)\n",
        "])\n",
        "\n",
        "#compile the model\n",
        "model.compile(optimizer='adam', loss='mean_squared_error',metrics=[\"mae\"])\n",
        "\n",
        "model.summary()\n",
        "\n",
        "#fit the model\n",
        "fitting_history = model.fit(input_train, output_train, validation_data=(input_test, output_test), verbose=2, epochs=100)"
      ],
      "execution_count": 690,
      "outputs": [
        {
          "output_type": "stream",
          "text": [
            "Model: \"sequential_34\"\n",
            "_________________________________________________________________\n",
            "Layer (type)                 Output Shape              Param #   \n",
            "=================================================================\n",
            "conv_lst_m2d_35 (ConvLSTM2D) (None, 1, 1, 4096)        67190784  \n",
            "_________________________________________________________________\n",
            "flatten_34 (Flatten)         (None, 4096)              0         \n",
            "_________________________________________________________________\n",
            "dense_75 (Dense)             (None, 1024)              4195328   \n",
            "_________________________________________________________________\n",
            "dense_76 (Dense)             (None, 1)                 1025      \n",
            "=================================================================\n",
            "Total params: 71,387,137\n",
            "Trainable params: 71,387,137\n",
            "Non-trainable params: 0\n",
            "_________________________________________________________________\n",
            "Epoch 1/100\n",
            "1/1 - 11s - loss: 0.4565 - mae: 0.6138 - val_loss: 0.2618 - val_mae: 0.4727\n",
            "Epoch 2/100\n",
            "1/1 - 7s - loss: 0.2035 - mae: 0.3729 - val_loss: 0.1844 - val_mae: 0.3673\n",
            "Epoch 3/100\n",
            "1/1 - 7s - loss: 0.1881 - mae: 0.3921 - val_loss: 0.1920 - val_mae: 0.3680\n",
            "Epoch 4/100\n",
            "1/1 - 7s - loss: 0.2241 - mae: 0.4021 - val_loss: 0.1747 - val_mae: 0.3508\n",
            "Epoch 5/100\n",
            "1/1 - 8s - loss: 0.1723 - mae: 0.3663 - val_loss: 0.1649 - val_mae: 0.3537\n",
            "Epoch 6/100\n",
            "1/1 - 7s - loss: 0.1301 - mae: 0.3247 - val_loss: 0.1666 - val_mae: 0.3564\n",
            "Epoch 7/100\n",
            "1/1 - 7s - loss: 0.1174 - mae: 0.2991 - val_loss: 0.1643 - val_mae: 0.3591\n",
            "Epoch 8/100\n",
            "1/1 - 7s - loss: 0.1126 - mae: 0.2869 - val_loss: 0.1514 - val_mae: 0.3417\n",
            "Epoch 9/100\n",
            "1/1 - 8s - loss: 0.1016 - mae: 0.2737 - val_loss: 0.1328 - val_mae: 0.3173\n",
            "Epoch 10/100\n",
            "1/1 - 8s - loss: 0.0855 - mae: 0.2551 - val_loss: 0.1205 - val_mae: 0.2912\n",
            "Epoch 11/100\n",
            "1/1 - 8s - loss: 0.0741 - mae: 0.2387 - val_loss: 0.1183 - val_mae: 0.2824\n",
            "Epoch 12/100\n",
            "1/1 - 8s - loss: 0.0700 - mae: 0.2208 - val_loss: 0.1147 - val_mae: 0.2732\n",
            "Epoch 13/100\n",
            "1/1 - 8s - loss: 0.0616 - mae: 0.2012 - val_loss: 0.1039 - val_mae: 0.2593\n",
            "Epoch 14/100\n",
            "1/1 - 8s - loss: 0.0480 - mae: 0.1788 - val_loss: 0.0905 - val_mae: 0.2430\n",
            "Epoch 15/100\n",
            "1/1 - 8s - loss: 0.0373 - mae: 0.1566 - val_loss: 0.0789 - val_mae: 0.2257\n",
            "Epoch 16/100\n",
            "1/1 - 8s - loss: 0.0321 - mae: 0.1429 - val_loss: 0.0697 - val_mae: 0.2095\n",
            "Epoch 17/100\n",
            "1/1 - 8s - loss: 0.0290 - mae: 0.1364 - val_loss: 0.0630 - val_mae: 0.1960\n",
            "Epoch 18/100\n",
            "1/1 - 8s - loss: 0.0252 - mae: 0.1261 - val_loss: 0.0608 - val_mae: 0.1853\n",
            "Epoch 19/100\n",
            "1/1 - 8s - loss: 0.0219 - mae: 0.1166 - val_loss: 0.0638 - val_mae: 0.1761\n",
            "Epoch 20/100\n",
            "1/1 - 8s - loss: 0.0212 - mae: 0.1142 - val_loss: 0.0666 - val_mae: 0.1670\n",
            "Epoch 21/100\n",
            "1/1 - 8s - loss: 0.0216 - mae: 0.1155 - val_loss: 0.0636 - val_mae: 0.1632\n",
            "Epoch 22/100\n",
            "1/1 - 8s - loss: 0.0211 - mae: 0.1147 - val_loss: 0.0565 - val_mae: 0.1544\n",
            "Epoch 23/100\n",
            "1/1 - 8s - loss: 0.0206 - mae: 0.1151 - val_loss: 0.0499 - val_mae: 0.1472\n",
            "Epoch 24/100\n",
            "1/1 - 8s - loss: 0.0210 - mae: 0.1153 - val_loss: 0.0461 - val_mae: 0.1460\n",
            "Epoch 25/100\n",
            "1/1 - 8s - loss: 0.0215 - mae: 0.1139 - val_loss: 0.0452 - val_mae: 0.1469\n",
            "Epoch 26/100\n",
            "1/1 - 8s - loss: 0.0216 - mae: 0.1132 - val_loss: 0.0470 - val_mae: 0.1497\n",
            "Epoch 27/100\n",
            "1/1 - 8s - loss: 0.0211 - mae: 0.1119 - val_loss: 0.0507 - val_mae: 0.1540\n",
            "Epoch 28/100\n",
            "1/1 - 7s - loss: 0.0204 - mae: 0.1098 - val_loss: 0.0549 - val_mae: 0.1585\n",
            "Epoch 29/100\n",
            "1/1 - 7s - loss: 0.0198 - mae: 0.1077 - val_loss: 0.0575 - val_mae: 0.1624\n",
            "Epoch 30/100\n",
            "1/1 - 8s - loss: 0.0193 - mae: 0.1060 - val_loss: 0.0572 - val_mae: 0.1654\n",
            "Epoch 31/100\n",
            "1/1 - 8s - loss: 0.0185 - mae: 0.1045 - val_loss: 0.0550 - val_mae: 0.1676\n",
            "Epoch 32/100\n",
            "1/1 - 7s - loss: 0.0177 - mae: 0.1030 - val_loss: 0.0530 - val_mae: 0.1697\n",
            "Epoch 33/100\n",
            "1/1 - 7s - loss: 0.0172 - mae: 0.1020 - val_loss: 0.0527 - val_mae: 0.1724\n",
            "Epoch 34/100\n",
            "1/1 - 8s - loss: 0.0168 - mae: 0.1019 - val_loss: 0.0544 - val_mae: 0.1762\n",
            "Epoch 35/100\n",
            "1/1 - 7s - loss: 0.0164 - mae: 0.1014 - val_loss: 0.0576 - val_mae: 0.1806\n",
            "Epoch 36/100\n",
            "1/1 - 7s - loss: 0.0160 - mae: 0.1001 - val_loss: 0.0611 - val_mae: 0.1847\n",
            "Epoch 37/100\n",
            "1/1 - 7s - loss: 0.0158 - mae: 0.0988 - val_loss: 0.0632 - val_mae: 0.1873\n",
            "Epoch 38/100\n",
            "1/1 - 8s - loss: 0.0156 - mae: 0.0979 - val_loss: 0.0628 - val_mae: 0.1878\n",
            "Epoch 39/100\n",
            "1/1 - 8s - loss: 0.0154 - mae: 0.0978 - val_loss: 0.0612 - val_mae: 0.1870\n",
            "Epoch 40/100\n",
            "1/1 - 7s - loss: 0.0152 - mae: 0.0984 - val_loss: 0.0595 - val_mae: 0.1856\n",
            "Epoch 41/100\n",
            "1/1 - 8s - loss: 0.0151 - mae: 0.0987 - val_loss: 0.0588 - val_mae: 0.1843\n",
            "Epoch 42/100\n",
            "1/1 - 8s - loss: 0.0150 - mae: 0.0984 - val_loss: 0.0592 - val_mae: 0.1833\n",
            "Epoch 43/100\n",
            "1/1 - 8s - loss: 0.0148 - mae: 0.0972 - val_loss: 0.0598 - val_mae: 0.1822\n",
            "Epoch 44/100\n",
            "1/1 - 8s - loss: 0.0147 - mae: 0.0959 - val_loss: 0.0597 - val_mae: 0.1807\n",
            "Epoch 45/100\n",
            "1/1 - 8s - loss: 0.0145 - mae: 0.0953 - val_loss: 0.0586 - val_mae: 0.1787\n",
            "Epoch 46/100\n",
            "1/1 - 8s - loss: 0.0143 - mae: 0.0951 - val_loss: 0.0571 - val_mae: 0.1767\n",
            "Epoch 47/100\n",
            "1/1 - 8s - loss: 0.0141 - mae: 0.0949 - val_loss: 0.0563 - val_mae: 0.1752\n",
            "Epoch 48/100\n",
            "1/1 - 8s - loss: 0.0140 - mae: 0.0944 - val_loss: 0.0562 - val_mae: 0.1743\n",
            "Epoch 49/100\n",
            "1/1 - 8s - loss: 0.0138 - mae: 0.0937 - val_loss: 0.0567 - val_mae: 0.1738\n",
            "Epoch 50/100\n",
            "1/1 - 8s - loss: 0.0137 - mae: 0.0927 - val_loss: 0.0568 - val_mae: 0.1732\n",
            "Epoch 51/100\n",
            "1/1 - 8s - loss: 0.0136 - mae: 0.0916 - val_loss: 0.0562 - val_mae: 0.1724\n",
            "Epoch 52/100\n",
            "1/1 - 8s - loss: 0.0134 - mae: 0.0909 - val_loss: 0.0555 - val_mae: 0.1720\n",
            "Epoch 53/100\n",
            "1/1 - 8s - loss: 0.0133 - mae: 0.0903 - val_loss: 0.0552 - val_mae: 0.1719\n",
            "Epoch 54/100\n",
            "1/1 - 7s - loss: 0.0132 - mae: 0.0898 - val_loss: 0.0554 - val_mae: 0.1720\n",
            "Epoch 55/100\n",
            "1/1 - 7s - loss: 0.0130 - mae: 0.0891 - val_loss: 0.0560 - val_mae: 0.1722\n",
            "Epoch 56/100\n",
            "1/1 - 7s - loss: 0.0129 - mae: 0.0882 - val_loss: 0.0562 - val_mae: 0.1720\n",
            "Epoch 57/100\n",
            "1/1 - 7s - loss: 0.0128 - mae: 0.0875 - val_loss: 0.0558 - val_mae: 0.1714\n",
            "Epoch 58/100\n",
            "1/1 - 8s - loss: 0.0127 - mae: 0.0871 - val_loss: 0.0550 - val_mae: 0.1706\n",
            "Epoch 59/100\n",
            "1/1 - 7s - loss: 0.0126 - mae: 0.0869 - val_loss: 0.0543 - val_mae: 0.1700\n",
            "Epoch 60/100\n",
            "1/1 - 8s - loss: 0.0124 - mae: 0.0865 - val_loss: 0.0541 - val_mae: 0.1699\n",
            "Epoch 61/100\n",
            "1/1 - 8s - loss: 0.0123 - mae: 0.0861 - val_loss: 0.0543 - val_mae: 0.1701\n",
            "Epoch 62/100\n",
            "1/1 - 7s - loss: 0.0122 - mae: 0.0858 - val_loss: 0.0542 - val_mae: 0.1699\n",
            "Epoch 63/100\n",
            "1/1 - 7s - loss: 0.0121 - mae: 0.0854 - val_loss: 0.0539 - val_mae: 0.1695\n",
            "Epoch 64/100\n",
            "1/1 - 8s - loss: 0.0119 - mae: 0.0849 - val_loss: 0.0535 - val_mae: 0.1691\n",
            "Epoch 65/100\n",
            "1/1 - 8s - loss: 0.0118 - mae: 0.0845 - val_loss: 0.0533 - val_mae: 0.1688\n",
            "Epoch 66/100\n",
            "1/1 - 8s - loss: 0.0117 - mae: 0.0841 - val_loss: 0.0533 - val_mae: 0.1686\n",
            "Epoch 67/100\n",
            "1/1 - 8s - loss: 0.0116 - mae: 0.0837 - val_loss: 0.0534 - val_mae: 0.1686\n",
            "Epoch 68/100\n",
            "1/1 - 7s - loss: 0.0115 - mae: 0.0833 - val_loss: 0.0531 - val_mae: 0.1682\n",
            "Epoch 69/100\n",
            "1/1 - 8s - loss: 0.0113 - mae: 0.0828 - val_loss: 0.0529 - val_mae: 0.1679\n",
            "Epoch 70/100\n",
            "1/1 - 7s - loss: 0.0112 - mae: 0.0823 - val_loss: 0.0524 - val_mae: 0.1674\n",
            "Epoch 71/100\n",
            "1/1 - 8s - loss: 0.0111 - mae: 0.0818 - val_loss: 0.0521 - val_mae: 0.1671\n",
            "Epoch 72/100\n",
            "1/1 - 7s - loss: 0.0110 - mae: 0.0813 - val_loss: 0.0518 - val_mae: 0.1667\n",
            "Epoch 73/100\n",
            "1/1 - 7s - loss: 0.0109 - mae: 0.0807 - val_loss: 0.0518 - val_mae: 0.1665\n",
            "Epoch 74/100\n",
            "1/1 - 7s - loss: 0.0108 - mae: 0.0802 - val_loss: 0.0519 - val_mae: 0.1665\n",
            "Epoch 75/100\n",
            "1/1 - 7s - loss: 0.0107 - mae: 0.0797 - val_loss: 0.0516 - val_mae: 0.1662\n",
            "Epoch 76/100\n",
            "1/1 - 7s - loss: 0.0106 - mae: 0.0790 - val_loss: 0.0513 - val_mae: 0.1658\n",
            "Epoch 77/100\n",
            "1/1 - 7s - loss: 0.0105 - mae: 0.0785 - val_loss: 0.0513 - val_mae: 0.1656\n",
            "Epoch 78/100\n",
            "1/1 - 7s - loss: 0.0104 - mae: 0.0783 - val_loss: 0.0510 - val_mae: 0.1650\n",
            "Epoch 79/100\n",
            "1/1 - 8s - loss: 0.0103 - mae: 0.0781 - val_loss: 0.0504 - val_mae: 0.1641\n",
            "Epoch 80/100\n",
            "1/1 - 10s - loss: 0.0102 - mae: 0.0777 - val_loss: 0.0503 - val_mae: 0.1638\n",
            "Epoch 81/100\n",
            "1/1 - 9s - loss: 0.0101 - mae: 0.0775 - val_loss: 0.0504 - val_mae: 0.1638\n",
            "Epoch 82/100\n",
            "1/1 - 7s - loss: 0.0100 - mae: 0.0774 - val_loss: 0.0500 - val_mae: 0.1632\n",
            "Epoch 83/100\n",
            "1/1 - 7s - loss: 0.0099 - mae: 0.0770 - val_loss: 0.0497 - val_mae: 0.1626\n",
            "Epoch 84/100\n",
            "1/1 - 8s - loss: 0.0098 - mae: 0.0766 - val_loss: 0.0494 - val_mae: 0.1620\n",
            "Epoch 85/100\n",
            "1/1 - 8s - loss: 0.0097 - mae: 0.0763 - val_loss: 0.0494 - val_mae: 0.1620\n",
            "Epoch 86/100\n",
            "1/1 - 7s - loss: 0.0096 - mae: 0.0762 - val_loss: 0.0492 - val_mae: 0.1619\n",
            "Epoch 87/100\n",
            "1/1 - 8s - loss: 0.0096 - mae: 0.0760 - val_loss: 0.0488 - val_mae: 0.1615\n",
            "Epoch 88/100\n",
            "1/1 - 7s - loss: 0.0095 - mae: 0.0755 - val_loss: 0.0488 - val_mae: 0.1613\n",
            "Epoch 89/100\n",
            "1/1 - 8s - loss: 0.0094 - mae: 0.0752 - val_loss: 0.0487 - val_mae: 0.1609\n",
            "Epoch 90/100\n",
            "1/1 - 7s - loss: 0.0093 - mae: 0.0749 - val_loss: 0.0485 - val_mae: 0.1607\n",
            "Epoch 91/100\n",
            "1/1 - 7s - loss: 0.0092 - mae: 0.0745 - val_loss: 0.0482 - val_mae: 0.1605\n",
            "Epoch 92/100\n",
            "1/1 - 7s - loss: 0.0091 - mae: 0.0742 - val_loss: 0.0481 - val_mae: 0.1605\n",
            "Epoch 93/100\n",
            "1/1 - 7s - loss: 0.0090 - mae: 0.0741 - val_loss: 0.0482 - val_mae: 0.1607\n",
            "Epoch 94/100\n",
            "1/1 - 7s - loss: 0.0089 - mae: 0.0742 - val_loss: 0.0478 - val_mae: 0.1603\n",
            "Epoch 95/100\n",
            "1/1 - 7s - loss: 0.0089 - mae: 0.0737 - val_loss: 0.0474 - val_mae: 0.1596\n",
            "Epoch 96/100\n",
            "1/1 - 7s - loss: 0.0088 - mae: 0.0731 - val_loss: 0.0474 - val_mae: 0.1592\n",
            "Epoch 97/100\n",
            "1/1 - 7s - loss: 0.0087 - mae: 0.0728 - val_loss: 0.0475 - val_mae: 0.1592\n",
            "Epoch 98/100\n",
            "1/1 - 7s - loss: 0.0087 - mae: 0.0729 - val_loss: 0.0469 - val_mae: 0.1584\n",
            "Epoch 99/100\n",
            "1/1 - 7s - loss: 0.0086 - mae: 0.0721 - val_loss: 0.0467 - val_mae: 0.1580\n",
            "Epoch 100/100\n",
            "1/1 - 7s - loss: 0.0085 - mae: 0.0716 - val_loss: 0.0471 - val_mae: 0.1585\n"
          ],
          "name": "stdout"
        }
      ]
    },
    {
      "cell_type": "code",
      "metadata": {
        "colab": {
          "base_uri": "https://localhost:8080/",
          "height": 314
        },
        "id": "A1YC68UB2oBC",
        "outputId": "4ed96c19-3c2b-4413-e42d-a520dff730af"
      },
      "source": [
        "# Grafik training dan validation loss\n",
        "training_loss=fitting_history.history['loss']\n",
        "validation_loss=fitting_history.history['val_loss']\n",
        "epochs=range(len(training_loss))\n",
        "\n",
        "plt.plot(epochs, training_loss, 'r', label=\"Training Loss\")\n",
        "plt.plot(epochs, validation_loss, 'b', label=\"Validation Loss\")\n",
        "plt.title('Training and validation loss')\n",
        "plt.legend(loc=0)\n",
        "plt.figure()"
      ],
      "execution_count": 691,
      "outputs": [
        {
          "output_type": "execute_result",
          "data": {
            "text/plain": [
              "<Figure size 432x288 with 0 Axes>"
            ]
          },
          "metadata": {
            "tags": []
          },
          "execution_count": 691
        },
        {
          "output_type": "display_data",
          "data": {
            "image/png": "[encoded data removed]",
            "text/plain": [
              "<Figure size 432x288 with 1 Axes>"
            ]
          },
          "metadata": {
            "tags": [],
            "needs_background": "light"
          }
        },
        {
          "output_type": "display_data",
          "data": {
            "text/plain": [
              "<Figure size 432x288 with 0 Axes>"
            ]
          },
          "metadata": {
            "tags": []
          }
        }
      ]
    },
    {
      "cell_type": "code",
      "metadata": {
        "colab": {
          "base_uri": "https://localhost:8080/",
          "height": 314
        },
        "id": "qIVAhEqD2phA",
        "outputId": "c1c7f813-fa7d-414e-b81e-e69daf9fec16"
      },
      "source": [
        "# Grafik training and validation MAE\n",
        "training_mae=fitting_history.history['mae']\n",
        "validation_mae=fitting_history.history['val_mae']\n",
        "epochs=range(len(training_mae))\n",
        "\n",
        "plt.plot(epochs, training_mae, 'r', label=\"Training MAE\")\n",
        "plt.plot(epochs, validation_mae, 'b', label=\"Validation MAE\")\n",
        "plt.title('Training and validation MAE')\n",
        "plt.legend(loc=0)\n",
        "plt.figure()"
      ],
      "execution_count": 692,
      "outputs": [
        {
          "output_type": "execute_result",
          "data": {
            "text/plain": [
              "<Figure size 432x288 with 0 Axes>"
            ]
          },
          "metadata": {
            "tags": []
          },
          "execution_count": 692
        },
        {
          "output_type": "display_data",
          "data": {
            "image/png": "[encoded data removed]",
            "text/plain": [
              "<Figure size 432x288 with 1 Axes>"
            ]
          },
          "metadata": {
            "tags": [],
            "needs_background": "light"
          }
        },
        {
          "output_type": "display_data",
          "data": {
            "text/plain": [
              "<Figure size 432x288 with 0 Axes>"
            ]
          },
          "metadata": {
            "tags": []
          }
        }
      ]
    },
    {
      "cell_type": "code",
      "metadata": {
        "id": "Wpn2w9R-5LSY"
      },
      "source": [
        "# Simpan model\n",
        "model.save('model-lamapenyinaran.h5')"
      ],
      "execution_count": 693,
      "outputs": []
    },
    {
      "cell_type": "markdown",
      "metadata": {
        "id": "j0gtqKfD5N6d"
      },
      "source": [
        "# **Testing Model**"
      ]
    },
    {
      "cell_type": "code",
      "metadata": {
        "colab": {
          "base_uri": "https://localhost:8080/"
        },
        "id": "TmfycUxr1NJa",
        "outputId": "5b068fdd-cbed-4a95-dc54-f573577a52b9"
      },
      "source": [
        "print(input_test)"
      ],
      "execution_count": 694,
      "outputs": [
        {
          "output_type": "stream",
          "text": [
            "[[[[[0.54032258 0.28548387 0.23387097 0.36612903]]]]\n",
            "\n",
            "\n",
            "\n",
            " [[[[0.28548387 0.23387097 0.36612903 0.48548387]]]]\n",
            "\n",
            "\n",
            "\n",
            " [[[[0.23387097 0.36612903 0.48548387 0.60806452]]]]\n",
            "\n",
            "\n",
            "\n",
            " [[[[0.36612903 0.48548387 0.60806452 0.66935484]]]]\n",
            "\n",
            "\n",
            "\n",
            " [[[[0.48548387 0.60806452 0.66935484 0.80322581]]]]\n",
            "\n",
            "\n",
            "\n",
            " [[[[0.60806452 0.66935484 0.80322581 0.86774194]]]]]\n"
          ],
          "name": "stdout"
        }
      ]
    },
    {
      "cell_type": "code",
      "metadata": {
        "id": "o_3DBMeZ5gdD"
      },
      "source": [
        "# Load the model\n",
        "model = tf.keras.models.load_model('model-lamapenyinaran.h5')"
      ],
      "execution_count": 695,
      "outputs": []
    },
    {
      "cell_type": "code",
      "metadata": {
        "id": "UJ6BsbEZUVFr"
      },
      "source": [
        "#Prediksi Data\n",
        "data_prediksi = model.predict(input_test)"
      ],
      "execution_count": 696,
      "outputs": []
    },
    {
      "cell_type": "code",
      "metadata": {
        "colab": {
          "base_uri": "https://localhost:8080/"
        },
        "id": "_gyJGODddK7S",
        "outputId": "a5a0cc03-e85b-4b5b-cc41-529a283180b2"
      },
      "source": [
        "print(data_prediksi)\n",
        "print(\"-------\")\n",
        "print(output_test)"
      ],
      "execution_count": 697,
      "outputs": [
        {
          "output_type": "stream",
          "text": [
            "[[0.7268716 ]\n",
            " [0.80178666]\n",
            " [0.8106539 ]\n",
            " [0.6856734 ]\n",
            " [0.61502963]\n",
            " [0.48625073]]\n",
            "-------\n",
            "[[0.80322581]\n",
            " [0.86774194]\n",
            " [0.92580645]\n",
            " [0.60645161]\n",
            " [0.48709677]\n",
            " [0.        ]]\n"
          ],
          "name": "stdout"
        }
      ]
    },
    {
      "cell_type": "code",
      "metadata": {
        "id": "jiFXCtfyUYA0"
      },
      "source": [
        "# Inverse transform data min max\n",
        "data_prediksi = scaler.inverse_transform(data_prediksi)\n",
        "output_test = scaler.inverse_transform(output_test)"
      ],
      "execution_count": 698,
      "outputs": []
    },
    {
      "cell_type": "code",
      "metadata": {
        "colab": {
          "base_uri": "https://localhost:8080/"
        },
        "id": "UM0zjtzmbKPB",
        "outputId": "cf3ad5b8-cb9f-4a54-ef0d-e052c24b1dfb"
      },
      "source": [
        "print(data_prediksi)\n",
        "print(\"-------\")\n",
        "print(output_test)"
      ],
      "execution_count": 699,
      "outputs": [
        {
          "output_type": "stream",
          "text": [
            "[[7.7766037]\n",
            " [8.241077 ]\n",
            " [8.296054 ]\n",
            " [7.5211754]\n",
            " [7.083184 ]\n",
            " [6.2847548]]\n",
            "-------\n",
            "[[8.25]\n",
            " [8.65]\n",
            " [9.01]\n",
            " [7.03]\n",
            " [6.29]\n",
            " [3.27]]\n"
          ],
          "name": "stdout"
        }
      ]
    }
  ]
}