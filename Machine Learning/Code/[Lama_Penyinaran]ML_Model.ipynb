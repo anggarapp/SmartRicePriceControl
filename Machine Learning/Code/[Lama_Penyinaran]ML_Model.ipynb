{
  "nbformat": 4,
  "nbformat_minor": 0,
  "metadata": {
    "colab": {
      "name": "[Lama Penyinaran]ML-Model.ipynb",
      "provenance": [],
      "collapsed_sections": [],
      "toc_visible": true,
      "authorship_tag": "ABX9TyN2dXUknH7VItbojLQIxEAh",
      "include_colab_link": true
    },
    "kernelspec": {
      "name": "python3",
      "display_name": "Python 3"
    },
    "language_info": {
      "name": "python"
    }
  },
  "cells": [
    {
      "cell_type": "markdown",
      "metadata": {
        "id": "view-in-github",
        "colab_type": "text"
      },
      "source": [
        "<a href=\"https://colab.research.google.com/github/u1-byte/SmartCropYieldsPrediction/blob/main/Machine%20Learning/Code/%5BLama_Penyinaran%5DML_Model.ipynb\" target=\"_parent\"><img src=\"https://colab.research.google.com/assets/colab-badge.svg\" alt=\"Open In Colab\"/></a>"
      ]
    },
    {
      "cell_type": "code",
      "metadata": {
        "id": "kTPzSD0srTVw"
      },
      "source": [
        "#import library\n",
        "import tensorflow as tf\n",
        "import numpy as np\n",
        "import matplotlib.pyplot as plt\n",
        "from tensorflow import keras\n",
        "from google.colab import files\n",
        "import csv\n",
        "from sklearn.preprocessing import MinMaxScaler\n",
        "from sklearn.metrics import mean_squared_error\n",
        "from sklearn.model_selection import train_test_split"
      ],
      "execution_count": null,
      "outputs": []
    },
    {
      "cell_type": "code",
      "metadata": {
        "colab": {
          "resources": {
            "http://localhost:8080/nbextensions/google.colab/files.js": {
              "data": "Ly8gQ29weXJpZ2h0IDIwMTcgR29vZ2xlIExMQwovLwovLyBMaWNlbnNlZCB1bmRlciB0aGUgQXBhY2hlIExpY2Vuc2UsIFZlcnNpb24gMi4wICh0aGUgIkxpY2Vuc2UiKTsKLy8geW91IG1heSBub3QgdXNlIHRoaXMgZmlsZSBleGNlcHQgaW4gY29tcGxpYW5jZSB3aXRoIHRoZSBMaWNlbnNlLgovLyBZb3UgbWF5IG9idGFpbiBhIGNvcHkgb2YgdGhlIExpY2Vuc2UgYXQKLy8KLy8gICAgICBodHRwOi8vd3d3LmFwYWNoZS5vcmcvbGljZW5zZXMvTElDRU5TRS0yLjAKLy8KLy8gVW5sZXNzIHJlcXVpcmVkIGJ5IGFwcGxpY2FibGUgbGF3IG9yIGFncmVlZCB0byBpbiB3cml0aW5nLCBzb2Z0d2FyZQovLyBkaXN0cmlidXRlZCB1bmRlciB0aGUgTGljZW5zZSBpcyBkaXN0cmlidXRlZCBvbiBhbiAiQVMgSVMiIEJBU0lTLAovLyBXSVRIT1VUIFdBUlJBTlRJRVMgT1IgQ09ORElUSU9OUyBPRiBBTlkgS0lORCwgZWl0aGVyIGV4cHJlc3Mgb3IgaW1wbGllZC4KLy8gU2VlIHRoZSBMaWNlbnNlIGZvciB0aGUgc3BlY2lmaWMgbGFuZ3VhZ2UgZ292ZXJuaW5nIHBlcm1pc3Npb25zIGFuZAovLyBsaW1pdGF0aW9ucyB1bmRlciB0aGUgTGljZW5zZS4KCi8qKgogKiBAZmlsZW92ZXJ2aWV3IEhlbHBlcnMgZm9yIGdvb2dsZS5jb2xhYiBQeXRob24gbW9kdWxlLgogKi8KKGZ1bmN0aW9uKHNjb3BlKSB7CmZ1bmN0aW9uIHNwYW4odGV4dCwgc3R5bGVBdHRyaWJ1dGVzID0ge30pIHsKICBjb25zdCBlbGVtZW50ID0gZG9jdW1lbnQuY3JlYXRlRWxlbWVudCgnc3BhbicpOwogIGVsZW1lbnQudGV4dENvbnRlbnQgPSB0ZXh0OwogIGZvciAoY29uc3Qga2V5IG9mIE9iamVjdC5rZXlzKHN0eWxlQXR0cmlidXRlcykpIHsKICAgIGVsZW1lbnQuc3R5bGVba2V5XSA9IHN0eWxlQXR0cmlidXRlc1trZXldOwogIH0KICByZXR1cm4gZWxlbWVudDsKfQoKLy8gTWF4IG51bWJlciBvZiBieXRlcyB3aGljaCB3aWxsIGJlIHVwbG9hZGVkIGF0IGEgdGltZS4KY29uc3QgTUFYX1BBWUxPQURfU0laRSA9IDEwMCAqIDEwMjQ7CgpmdW5jdGlvbiBfdXBsb2FkRmlsZXMoaW5wdXRJZCwgb3V0cHV0SWQpIHsKICBjb25zdCBzdGVwcyA9IHVwbG9hZEZpbGVzU3RlcChpbnB1dElkLCBvdXRwdXRJZCk7CiAgY29uc3Qgb3V0cHV0RWxlbWVudCA9IGRvY3VtZW50LmdldEVsZW1lbnRCeUlkKG91dHB1dElkKTsKICAvLyBDYWNoZSBzdGVwcyBvbiB0aGUgb3V0cHV0RWxlbWVudCB0byBtYWtlIGl0IGF2YWlsYWJsZSBmb3IgdGhlIG5leHQgY2FsbAogIC8vIHRvIHVwbG9hZEZpbGVzQ29udGludWUgZnJvbSBQeXRob24uCiAgb3V0cHV0RWxlbWVudC5zdGVwcyA9IHN0ZXBzOwoKICByZXR1cm4gX3VwbG9hZEZpbGVzQ29udGludWUob3V0cHV0SWQpOwp9CgovLyBUaGlzIGlzIHJvdWdobHkgYW4gYXN5bmMgZ2VuZXJhdG9yIChub3Qgc3VwcG9ydGVkIGluIHRoZSBicm93c2VyIHlldCksCi8vIHdoZXJlIHRoZXJlIGFyZSBtdWx0aXBsZSBhc3luY2hyb25vdXMgc3RlcHMgYW5kIHRoZSBQeXRob24gc2lkZSBpcyBnb2luZwovLyB0byBwb2xsIGZvciBjb21wbGV0aW9uIG9mIGVhY2ggc3RlcC4KLy8gVGhpcyB1c2VzIGEgUHJvbWlzZSB0byBibG9jayB0aGUgcHl0aG9uIHNpZGUgb24gY29tcGxldGlvbiBvZiBlYWNoIHN0ZXAsCi8vIHRoZW4gcGFzc2VzIHRoZSByZXN1bHQgb2YgdGhlIHByZXZpb3VzIHN0ZXAgYXMgdGhlIGlucHV0IHRvIHRoZSBuZXh0IHN0ZXAuCmZ1bmN0aW9uIF91cGxvYWRGaWxlc0NvbnRpbnVlKG91dHB1dElkKSB7CiAgY29uc3Qgb3V0cHV0RWxlbWVudCA9IGRvY3VtZW50LmdldEVsZW1lbnRCeUlkKG91dHB1dElkKTsKICBjb25zdCBzdGVwcyA9IG91dHB1dEVsZW1lbnQuc3RlcHM7CgogIGNvbnN0IG5leHQgPSBzdGVwcy5uZXh0KG91dHB1dEVsZW1lbnQubGFzdFByb21pc2VWYWx1ZSk7CiAgcmV0dXJuIFByb21pc2UucmVzb2x2ZShuZXh0LnZhbHVlLnByb21pc2UpLnRoZW4oKHZhbHVlKSA9PiB7CiAgICAvLyBDYWNoZSB0aGUgbGFzdCBwcm9taXNlIHZhbHVlIHRvIG1ha2UgaXQgYXZhaWxhYmxlIHRvIHRoZSBuZXh0CiAgICAvLyBzdGVwIG9mIHRoZSBnZW5lcmF0b3IuCiAgICBvdXRwdXRFbGVtZW50Lmxhc3RQcm9taXNlVmFsdWUgPSB2YWx1ZTsKICAgIHJldHVybiBuZXh0LnZhbHVlLnJlc3BvbnNlOwogIH0pOwp9CgovKioKICogR2VuZXJhdG9yIGZ1bmN0aW9uIHdoaWNoIGlzIGNhbGxlZCBiZXR3ZWVuIGVhY2ggYXN5bmMgc3RlcCBvZiB0aGUgdXBsb2FkCiAqIHByb2Nlc3MuCiAqIEBwYXJhbSB7c3RyaW5nfSBpbnB1dElkIEVsZW1lbnQgSUQgb2YgdGhlIGlucHV0IGZpbGUgcGlja2VyIGVsZW1lbnQuCiAqIEBwYXJhbSB7c3RyaW5nfSBvdXRwdXRJZCBFbGVtZW50IElEIG9mIHRoZSBvdXRwdXQgZGlzcGxheS4KICogQHJldHVybiB7IUl0ZXJhYmxlPCFPYmplY3Q+fSBJdGVyYWJsZSBvZiBuZXh0IHN0ZXBzLgogKi8KZnVuY3Rpb24qIHVwbG9hZEZpbGVzU3RlcChpbnB1dElkLCBvdXRwdXRJZCkgewogIGNvbnN0IGlucHV0RWxlbWVudCA9IGRvY3VtZW50LmdldEVsZW1lbnRCeUlkKGlucHV0SWQpOwogIGlucHV0RWxlbWVudC5kaXNhYmxlZCA9IGZhbHNlOwoKICBjb25zdCBvdXRwdXRFbGVtZW50ID0gZG9jdW1lbnQuZ2V0RWxlbWVudEJ5SWQob3V0cHV0SWQpOwogIG91dHB1dEVsZW1lbnQuaW5uZXJIVE1MID0gJyc7CgogIGNvbnN0IHBpY2tlZFByb21pc2UgPSBuZXcgUHJvbWlzZSgocmVzb2x2ZSkgPT4gewogICAgaW5wdXRFbGVtZW50LmFkZEV2ZW50TGlzdGVuZXIoJ2NoYW5nZScsIChlKSA9PiB7CiAgICAgIHJlc29sdmUoZS50YXJnZXQuZmlsZXMpOwogICAgfSk7CiAgfSk7CgogIGNvbnN0IGNhbmNlbCA9IGRvY3VtZW50LmNyZWF0ZUVsZW1lbnQoJ2J1dHRvbicpOwogIGlucHV0RWxlbWVudC5wYXJlbnRFbGVtZW50LmFwcGVuZENoaWxkKGNhbmNlbCk7CiAgY2FuY2VsLnRleHRDb250ZW50ID0gJ0NhbmNlbCB1cGxvYWQnOwogIGNvbnN0IGNhbmNlbFByb21pc2UgPSBuZXcgUHJvbWlzZSgocmVzb2x2ZSkgPT4gewogICAgY2FuY2VsLm9uY2xpY2sgPSAoKSA9PiB7CiAgICAgIHJlc29sdmUobnVsbCk7CiAgICB9OwogIH0pOwoKICAvLyBXYWl0IGZvciB0aGUgdXNlciB0byBwaWNrIHRoZSBmaWxlcy4KICBjb25zdCBmaWxlcyA9IHlpZWxkIHsKICAgIHByb21pc2U6IFByb21pc2UucmFjZShbcGlja2VkUHJvbWlzZSwgY2FuY2VsUHJvbWlzZV0pLAogICAgcmVzcG9uc2U6IHsKICAgICAgYWN0aW9uOiAnc3RhcnRpbmcnLAogICAgfQogIH07CgogIGNhbmNlbC5yZW1vdmUoKTsKCiAgLy8gRGlzYWJsZSB0aGUgaW5wdXQgZWxlbWVudCBzaW5jZSBmdXJ0aGVyIHBpY2tzIGFyZSBub3QgYWxsb3dlZC4KICBpbnB1dEVsZW1lbnQuZGlzYWJsZWQgPSB0cnVlOwoKICBpZiAoIWZpbGVzKSB7CiAgICByZXR1cm4gewogICAgICByZXNwb25zZTogewogICAgICAgIGFjdGlvbjogJ2NvbXBsZXRlJywKICAgICAgfQogICAgfTsKICB9CgogIGZvciAoY29uc3QgZmlsZSBvZiBmaWxlcykgewogICAgY29uc3QgbGkgPSBkb2N1bWVudC5jcmVhdGVFbGVtZW50KCdsaScpOwogICAgbGkuYXBwZW5kKHNwYW4oZmlsZS5uYW1lLCB7Zm9udFdlaWdodDogJ2JvbGQnfSkpOwogICAgbGkuYXBwZW5kKHNwYW4oCiAgICAgICAgYCgke2ZpbGUudHlwZSB8fCAnbi9hJ30pIC0gJHtmaWxlLnNpemV9IGJ5dGVzLCBgICsKICAgICAgICBgbGFzdCBtb2RpZmllZDogJHsKICAgICAgICAgICAgZmlsZS5sYXN0TW9kaWZpZWREYXRlID8gZmlsZS5sYXN0TW9kaWZpZWREYXRlLnRvTG9jYWxlRGF0ZVN0cmluZygpIDoKICAgICAgICAgICAgICAgICAgICAgICAgICAgICAgICAgICAgJ24vYSd9IC0gYCkpOwogICAgY29uc3QgcGVyY2VudCA9IHNwYW4oJzAlIGRvbmUnKTsKICAgIGxpLmFwcGVuZENoaWxkKHBlcmNlbnQpOwoKICAgIG91dHB1dEVsZW1lbnQuYXBwZW5kQ2hpbGQobGkpOwoKICAgIGNvbnN0IGZpbGVEYXRhUHJvbWlzZSA9IG5ldyBQcm9taXNlKChyZXNvbHZlKSA9PiB7CiAgICAgIGNvbnN0IHJlYWRlciA9IG5ldyBGaWxlUmVhZGVyKCk7CiAgICAgIHJlYWRlci5vbmxvYWQgPSAoZSkgPT4gewogICAgICAgIHJlc29sdmUoZS50YXJnZXQucmVzdWx0KTsKICAgICAgfTsKICAgICAgcmVhZGVyLnJlYWRBc0FycmF5QnVmZmVyKGZpbGUpOwogICAgfSk7CiAgICAvLyBXYWl0IGZvciB0aGUgZGF0YSB0byBiZSByZWFkeS4KICAgIGxldCBmaWxlRGF0YSA9IHlpZWxkIHsKICAgICAgcHJvbWlzZTogZmlsZURhdGFQcm9taXNlLAogICAgICByZXNwb25zZTogewogICAgICAgIGFjdGlvbjogJ2NvbnRpbnVlJywKICAgICAgfQogICAgfTsKCiAgICAvLyBVc2UgYSBjaHVua2VkIHNlbmRpbmcgdG8gYXZvaWQgbWVzc2FnZSBzaXplIGxpbWl0cy4gU2VlIGIvNjIxMTU2NjAuCiAgICBsZXQgcG9zaXRpb24gPSAwOwogICAgZG8gewogICAgICBjb25zdCBsZW5ndGggPSBNYXRoLm1pbihmaWxlRGF0YS5ieXRlTGVuZ3RoIC0gcG9zaXRpb24sIE1BWF9QQVlMT0FEX1NJWkUpOwogICAgICBjb25zdCBjaHVuayA9IG5ldyBVaW50OEFycmF5KGZpbGVEYXRhLCBwb3NpdGlvbiwgbGVuZ3RoKTsKICAgICAgcG9zaXRpb24gKz0gbGVuZ3RoOwoKICAgICAgY29uc3QgYmFzZTY0ID0gYnRvYShTdHJpbmcuZnJvbUNoYXJDb2RlLmFwcGx5KG51bGwsIGNodW5rKSk7CiAgICAgIHlpZWxkIHsKICAgICAgICByZXNwb25zZTogewogICAgICAgICAgYWN0aW9uOiAnYXBwZW5kJywKICAgICAgICAgIGZpbGU6IGZpbGUubmFtZSwKICAgICAgICAgIGRhdGE6IGJhc2U2NCwKICAgICAgICB9LAogICAgICB9OwoKICAgICAgbGV0IHBlcmNlbnREb25lID0gZmlsZURhdGEuYnl0ZUxlbmd0aCA9PT0gMCA/CiAgICAgICAgICAxMDAgOgogICAgICAgICAgTWF0aC5yb3VuZCgocG9zaXRpb24gLyBmaWxlRGF0YS5ieXRlTGVuZ3RoKSAqIDEwMCk7CiAgICAgIHBlcmNlbnQudGV4dENvbnRlbnQgPSBgJHtwZXJjZW50RG9uZX0lIGRvbmVgOwoKICAgIH0gd2hpbGUgKHBvc2l0aW9uIDwgZmlsZURhdGEuYnl0ZUxlbmd0aCk7CiAgfQoKICAvLyBBbGwgZG9uZS4KICB5aWVsZCB7CiAgICByZXNwb25zZTogewogICAgICBhY3Rpb246ICdjb21wbGV0ZScsCiAgICB9CiAgfTsKfQoKc2NvcGUuZ29vZ2xlID0gc2NvcGUuZ29vZ2xlIHx8IHt9OwpzY29wZS5nb29nbGUuY29sYWIgPSBzY29wZS5nb29nbGUuY29sYWIgfHwge307CnNjb3BlLmdvb2dsZS5jb2xhYi5fZmlsZXMgPSB7CiAgX3VwbG9hZEZpbGVzLAogIF91cGxvYWRGaWxlc0NvbnRpbnVlLAp9Owp9KShzZWxmKTsK",
              "ok": true,
              "headers": [
                [
                  "content-type",
                  "application/javascript"
                ]
              ],
              "status": 200,
              "status_text": ""
            }
          },
          "base_uri": "https://localhost:8080/",
          "height": 73
        },
        "id": "9pW1P_9fTl4j",
        "outputId": "a1ddc2ec-a40f-43d1-bed8-27efd75f3de1"
      },
      "source": [
        "# Upload file dataset dari lokal\n",
        "uploaded = files.upload()"
      ],
      "execution_count": null,
      "outputs": [
        {
          "output_type": "display_data",
          "data": {
            "text/html": [
              "\n",
              "     <input type=\"file\" id=\"files-fcf5463c-3d48-4159-abed-14db01244de3\" name=\"files[]\" multiple disabled\n",
              "        style=\"border:none\" />\n",
              "     <output id=\"result-fcf5463c-3d48-4159-abed-14db01244de3\">\n",
              "      Upload widget is only available when the cell has been executed in the\n",
              "      current browser session. Please rerun this cell to enable.\n",
              "      </output>\n",
              "      <script src=\"/nbextensions/google.colab/files.js\"></script> "
            ],
            "text/plain": [
              "<IPython.core.display.HTML object>"
            ]
          },
          "metadata": {
            "tags": []
          }
        },
        {
          "output_type": "stream",
          "text": [
            "Saving Cuaca.csv to Cuaca.csv\n"
          ],
          "name": "stdout"
        }
      ]
    },
    {
      "cell_type": "markdown",
      "metadata": {
        "id": "4j7-4-QStoQc"
      },
      "source": [
        "# **Provinsi Jatim**"
      ]
    },
    {
      "cell_type": "code",
      "metadata": {
        "id": "Ctdpy9NotCw0"
      },
      "source": [
        "# Input data Jatim\n",
        "input_lama_penyinaran_ratarata = []\n",
        "number_of_input = []\n",
        "number=1\n",
        "\n",
        "# Baca file.csv\n",
        "with open('/content/Cuaca.csv') as csv_file:\n",
        "  csv_reader = csv.reader(csv_file, delimiter=',')\n",
        "  next(csv_reader)\n",
        "  for row in csv_reader:\n",
        "    number_of_input.append(number)\n",
        "    input_lama_penyinaran_ratarata.append(float(row[4]))\n",
        "    number+=1"
      ],
      "execution_count": null,
      "outputs": []
    },
    {
      "cell_type": "code",
      "metadata": {
        "colab": {
          "base_uri": "https://localhost:8080/",
          "height": 295
        },
        "id": "a5bHiYtKtQiA",
        "outputId": "7699bf14-80bd-4878-e353-b3db5c5dd58d"
      },
      "source": [
        "# Grafik garis dari Suhu\n",
        "plt.plot(number_of_input,input_lama_penyinaran_ratarata,marker='o')\n",
        "plt.title('Lama Penyinaran (2018 - 2020)')\n",
        "plt.ylabel('Jam')\n",
        "plt.xlabel('Bulan')\n",
        "plt.show()"
      ],
      "execution_count": null,
      "outputs": [
        {
          "output_type": "display_data",
          "data": {
            "image/png": "[encoded data removed]",
            "text/plain": [
              "<Figure size 432x288 with 1 Axes>"
            ]
          },
          "metadata": {
            "tags": [],
            "needs_background": "light"
          }
        }
      ]
    },
    {
      "cell_type": "code",
      "metadata": {
        "colab": {
          "base_uri": "https://localhost:8080/"
        },
        "id": "hl7HExITrv6v",
        "outputId": "01772fa1-2007-4bda-bb68-dbd7b4ceb3d3"
      },
      "source": [
        "# Input dari data pada database\n",
        "dataset = []\n",
        "counter=0\n",
        "\n",
        "# Baca file.csv\n",
        "with open('/content/Cuaca.csv') as csv_file:\n",
        "  csv_reader = csv.reader(csv_file, delimiter=',')\n",
        "  next(csv_reader)\n",
        "  for row in csv_reader:\n",
        "    dataset.append([])\n",
        "    dataset[counter].append(float(row[4]))\n",
        "    counter+=1\n",
        "\n",
        "dataset = np.array(dataset)\n",
        "\n",
        "print(dataset)"
      ],
      "execution_count": null,
      "outputs": [
        {
          "output_type": "stream",
          "text": [
            "[[3.44]\n",
            " [5.41]\n",
            " [5.2 ]\n",
            " [8.14]\n",
            " [8.11]\n",
            " [8.19]\n",
            " [9.04]\n",
            " [8.95]\n",
            " [8.  ]\n",
            " [8.73]\n",
            " [6.35]\n",
            " [3.76]\n",
            " [4.52]\n",
            " [5.77]\n",
            " [4.87]\n",
            " [6.09]\n",
            " [8.59]\n",
            " [8.25]\n",
            " [8.6 ]\n",
            " [9.4 ]\n",
            " [9.27]\n",
            " [9.47]\n",
            " [8.88]\n",
            " [6.62]\n",
            " [5.04]\n",
            " [4.72]\n",
            " [5.54]\n",
            " [6.28]\n",
            " [7.04]\n",
            " [7.42]\n",
            " [8.25]\n",
            " [8.65]\n",
            " [9.01]\n",
            " [7.03]\n",
            " [6.29]\n",
            " [3.27]]\n"
          ],
          "name": "stdout"
        }
      ]
    },
    {
      "cell_type": "code",
      "metadata": {
        "id": "dcyiZXY0UANG"
      },
      "source": [
        "# Normalisasi dataset\n",
        "scaler = MinMaxScaler()\n",
        "dataset = scaler.fit_transform(dataset)"
      ],
      "execution_count": null,
      "outputs": []
    },
    {
      "cell_type": "code",
      "metadata": {
        "colab": {
          "base_uri": "https://localhost:8080/"
        },
        "id": "RfJp46NhUFht",
        "outputId": "570386e6-5725-4f96-a5d6-fdac97c3902d"
      },
      "source": [
        "# Fungsi membuat sequence\n",
        "def buat_sequences(dataset, window_size):\n",
        "    input = []\n",
        "    output = []\n",
        "\n",
        "    for i in range(len(dataset)-window_size+1):\n",
        "        window = dataset[i:(i+window_size-4), 0]\n",
        "        input.append(window)\n",
        "        output.append(dataset[(i+window_size-4):i+window_size, 0])\n",
        "    return np.array(input),np.array(output)\n",
        "\n",
        "window_size = 16\n",
        "dataInput, dataOutput = buat_sequences(dataset, window_size)\n",
        "\n",
        "print(len(dataInput))\n",
        "print(len(dataOutput))"
      ],
      "execution_count": null,
      "outputs": [
        {
          "output_type": "stream",
          "text": [
            "21\n",
            "21\n"
          ],
          "name": "stdout"
        }
      ]
    },
    {
      "cell_type": "code",
      "metadata": {
        "colab": {
          "base_uri": "https://localhost:8080/"
        },
        "id": "-UwcXJqMir2A",
        "outputId": "2cec694c-0ae8-4f33-af6c-84264b63724f"
      },
      "source": [
        "# Bagi data untuk training dan testing\n",
        "input_train, input_test, output_train, output_test = train_test_split(dataInput, dataOutput, test_size=0.15, shuffle=True)\n",
        "\n",
        "print(len(input_train))\n",
        "print(len(input_test))"
      ],
      "execution_count": null,
      "outputs": [
        {
          "output_type": "stream",
          "text": [
            "17\n",
            "4\n"
          ],
          "name": "stdout"
        }
      ]
    },
    {
      "cell_type": "code",
      "metadata": {
        "colab": {
          "base_uri": "https://localhost:8080/"
        },
        "id": "AS2MgD_XjbQl",
        "outputId": "80e931d6-97fc-4619-cad9-72ad3349837f"
      },
      "source": [
        "# Ubah dimensinya untuk disesuaikan dengan model\n",
        "input_train = input_train.reshape((input_train.shape[0], 1, 1, 1, window_size-4))\n",
        "input_test = input_test.reshape((input_test.shape[0], 1, 1, 1, window_size-4))\n",
        "\n",
        "print(input_test)"
      ],
      "execution_count": null,
      "outputs": [
        {
          "output_type": "stream",
          "text": [
            "[[[[[0.96774194 1.         0.90483871 0.54032258 0.28548387 0.23387097\n",
            "     0.36612903 0.48548387 0.60806452 0.66935484 0.80322581 0.86774194]]]]\n",
            "\n",
            "\n",
            "\n",
            " [[[[0.02741935 0.34516129 0.31129032 0.78548387 0.78064516 0.79354839\n",
            "     0.93064516 0.91612903 0.76290323 0.88064516 0.49677419 0.07903226]]]]\n",
            "\n",
            "\n",
            "\n",
            " [[[[0.40322581 0.25806452 0.45483871 0.85806452 0.80322581 0.85967742\n",
            "     0.98870968 0.96774194 1.         0.90483871 0.54032258 0.28548387]]]]\n",
            "\n",
            "\n",
            "\n",
            " [[[[0.49677419 0.07903226 0.2016129  0.40322581 0.25806452 0.45483871\n",
            "     0.85806452 0.80322581 0.85967742 0.98870968 0.96774194 1.        ]]]]]\n"
          ],
          "name": "stdout"
        }
      ]
    },
    {
      "cell_type": "code",
      "metadata": {
        "colab": {
          "base_uri": "https://localhost:8080/"
        },
        "id": "xnjsFuOoy491",
        "outputId": "a9d8fc61-8c38-464a-d965-46b2a06832f9"
      },
      "source": [
        "#model machine learning\n",
        "model = tf.keras.models.Sequential([\n",
        "  tf.keras.layers.ConvLSTM2D(filters=512, kernel_size=(1,1), activation='relu', input_shape=(1, 1, 1, window_size-4)),   \n",
        "  tf.keras.layers.Flatten(),\n",
        "  tf.keras.layers.Dense(256, activation=\"relu\"),\n",
        "  tf.keras.layers.Dropout(0.1),\n",
        "  tf.keras.layers.Dense(128, activation=\"relu\"),\n",
        "  tf.keras.layers.Dense(16, activation=\"relu\"),\n",
        "  tf.keras.layers.Dense(4, activation=\"relu\"),\n",
        "])\n",
        "\n",
        "opt = keras.optimizers.Adam(learning_rate=0.01)\n",
        "model.compile(optimizer=opt, loss='mean_squared_error',metrics=[\"mae\"])\n",
        "\n",
        "model.summary()\n",
        "\n",
        "#fit the model\n",
        "fitting_history = model.fit(input_train, output_train, validation_split=0.15, verbose=2, epochs=300)"
      ],
      "execution_count": null,
      "outputs": [
        {
          "output_type": "stream",
          "text": [
            "Model: \"sequential\"\n",
            "_________________________________________________________________\n",
            "Layer (type)                 Output Shape              Param #   \n",
            "=================================================================\n",
            "conv_lst_m2d (ConvLSTM2D)    (None, 1, 1, 512)         1075200   \n",
            "_________________________________________________________________\n",
            "flatten (Flatten)            (None, 512)               0         \n",
            "_________________________________________________________________\n",
            "dense (Dense)                (None, 256)               131328    \n",
            "_________________________________________________________________\n",
            "dropout (Dropout)            (None, 256)               0         \n",
            "_________________________________________________________________\n",
            "dense_1 (Dense)              (None, 128)               32896     \n",
            "_________________________________________________________________\n",
            "dense_2 (Dense)              (None, 16)                2064      \n",
            "_________________________________________________________________\n",
            "dense_3 (Dense)              (None, 4)                 68        \n",
            "=================================================================\n",
            "Total params: 1,241,556\n",
            "Trainable params: 1,241,556\n",
            "Non-trainable params: 0\n",
            "_________________________________________________________________\n",
            "Epoch 1/300\n",
            "1/1 - 3s - loss: 0.5639 - mae: 0.7127 - val_loss: 0.1802 - val_mae: 0.3509\n",
            "Epoch 2/300\n",
            "1/1 - 0s - loss: 0.1734 - mae: 0.3497 - val_loss: 1.6066 - val_mae: 1.1683\n",
            "Epoch 3/300\n",
            "1/1 - 0s - loss: 1.5497 - mae: 1.1576 - val_loss: 0.0954 - val_mae: 0.2675\n",
            "Epoch 4/300\n",
            "1/1 - 0s - loss: 0.0670 - mae: 0.2220 - val_loss: 0.2418 - val_mae: 0.4165\n",
            "Epoch 5/300\n",
            "1/1 - 0s - loss: 0.2688 - mae: 0.4615 - val_loss: 0.3473 - val_mae: 0.5343\n",
            "Epoch 6/300\n",
            "1/1 - 0s - loss: 0.3967 - mae: 0.5827 - val_loss: 0.3802 - val_mae: 0.5664\n",
            "Epoch 7/300\n",
            "1/1 - 0s - loss: 0.4349 - mae: 0.6148 - val_loss: 0.3771 - val_mae: 0.5645\n",
            "Epoch 8/300\n",
            "1/1 - 0s - loss: 0.4342 - mae: 0.6137 - val_loss: 0.3553 - val_mae: 0.5456\n",
            "Epoch 9/300\n",
            "1/1 - 0s - loss: 0.4135 - mae: 0.5958 - val_loss: 0.3224 - val_mae: 0.5149\n",
            "Epoch 10/300\n",
            "1/1 - 0s - loss: 0.3785 - mae: 0.5654 - val_loss: 0.2802 - val_mae: 0.4725\n",
            "Epoch 11/300\n",
            "1/1 - 0s - loss: 0.3320 - mae: 0.5240 - val_loss: 0.2312 - val_mae: 0.4173\n",
            "Epoch 12/300\n",
            "1/1 - 0s - loss: 0.2749 - mae: 0.4732 - val_loss: 0.1773 - val_mae: 0.3453\n",
            "Epoch 13/300\n",
            "1/1 - 0s - loss: 0.2249 - mae: 0.4252 - val_loss: 0.1235 - val_mae: 0.2830\n",
            "Epoch 14/300\n",
            "1/1 - 0s - loss: 0.1543 - mae: 0.3456 - val_loss: 0.0809 - val_mae: 0.2237\n",
            "Epoch 15/300\n",
            "1/1 - 0s - loss: 0.0893 - mae: 0.2512 - val_loss: 0.0724 - val_mae: 0.2297\n",
            "Epoch 16/300\n",
            "1/1 - 0s - loss: 0.0678 - mae: 0.2074 - val_loss: 0.1123 - val_mae: 0.2855\n",
            "Epoch 17/300\n",
            "1/1 - 0s - loss: 0.0749 - mae: 0.2092 - val_loss: 0.1560 - val_mae: 0.3277\n",
            "Epoch 18/300\n",
            "1/1 - 0s - loss: 0.1051 - mae: 0.2697 - val_loss: 0.1532 - val_mae: 0.3186\n",
            "Epoch 19/300\n",
            "1/1 - 0s - loss: 0.0820 - mae: 0.2361 - val_loss: 0.1308 - val_mae: 0.2972\n",
            "Epoch 20/300\n",
            "1/1 - 0s - loss: 0.0613 - mae: 0.1995 - val_loss: 0.1099 - val_mae: 0.2746\n",
            "Epoch 21/300\n",
            "1/1 - 0s - loss: 0.0566 - mae: 0.1894 - val_loss: 0.0965 - val_mae: 0.2569\n",
            "Epoch 22/300\n",
            "1/1 - 0s - loss: 0.0467 - mae: 0.1774 - val_loss: 0.0886 - val_mae: 0.2510\n",
            "Epoch 23/300\n",
            "1/1 - 0s - loss: 0.0551 - mae: 0.2018 - val_loss: 0.0826 - val_mae: 0.2466\n",
            "Epoch 24/300\n",
            "1/1 - 0s - loss: 0.0520 - mae: 0.2005 - val_loss: 0.0763 - val_mae: 0.2424\n",
            "Epoch 25/300\n",
            "1/1 - 0s - loss: 0.0531 - mae: 0.2059 - val_loss: 0.0695 - val_mae: 0.2379\n",
            "Epoch 26/300\n",
            "1/1 - 0s - loss: 0.0539 - mae: 0.2079 - val_loss: 0.0633 - val_mae: 0.2334\n",
            "Epoch 27/300\n",
            "1/1 - 0s - loss: 0.0464 - mae: 0.1914 - val_loss: 0.0602 - val_mae: 0.2290\n",
            "Epoch 28/300\n",
            "1/1 - 0s - loss: 0.0407 - mae: 0.1710 - val_loss: 0.0625 - val_mae: 0.2256\n",
            "Epoch 29/300\n",
            "1/1 - 0s - loss: 0.0361 - mae: 0.1525 - val_loss: 0.0711 - val_mae: 0.2368\n",
            "Epoch 30/300\n",
            "1/1 - 0s - loss: 0.0361 - mae: 0.1449 - val_loss: 0.0808 - val_mae: 0.2485\n",
            "Epoch 31/300\n",
            "1/1 - 0s - loss: 0.0401 - mae: 0.1549 - val_loss: 0.0866 - val_mae: 0.2547\n",
            "Epoch 32/300\n",
            "1/1 - 0s - loss: 0.0370 - mae: 0.1449 - val_loss: 0.0858 - val_mae: 0.2534\n",
            "Epoch 33/300\n",
            "1/1 - 0s - loss: 0.0297 - mae: 0.1304 - val_loss: 0.0818 - val_mae: 0.2465\n",
            "Epoch 34/300\n",
            "1/1 - 0s - loss: 0.0264 - mae: 0.1223 - val_loss: 0.0779 - val_mae: 0.2440\n",
            "Epoch 35/300\n",
            "1/1 - 0s - loss: 0.0284 - mae: 0.1232 - val_loss: 0.0753 - val_mae: 0.2415\n",
            "Epoch 36/300\n",
            "1/1 - 0s - loss: 0.0249 - mae: 0.1293 - val_loss: 0.0744 - val_mae: 0.2366\n",
            "Epoch 37/300\n",
            "1/1 - 0s - loss: 0.0227 - mae: 0.1233 - val_loss: 0.0741 - val_mae: 0.2318\n",
            "Epoch 38/300\n",
            "1/1 - 0s - loss: 0.0237 - mae: 0.1314 - val_loss: 0.0749 - val_mae: 0.2344\n",
            "Epoch 39/300\n",
            "1/1 - 0s - loss: 0.0214 - mae: 0.1237 - val_loss: 0.0772 - val_mae: 0.2366\n",
            "Epoch 40/300\n",
            "1/1 - 0s - loss: 0.0218 - mae: 0.1187 - val_loss: 0.0809 - val_mae: 0.2436\n",
            "Epoch 41/300\n",
            "1/1 - 0s - loss: 0.0183 - mae: 0.1089 - val_loss: 0.0853 - val_mae: 0.2505\n",
            "Epoch 42/300\n",
            "1/1 - 0s - loss: 0.0207 - mae: 0.1118 - val_loss: 0.0898 - val_mae: 0.2560\n",
            "Epoch 43/300\n",
            "1/1 - 0s - loss: 0.0149 - mae: 0.0912 - val_loss: 0.0934 - val_mae: 0.2603\n",
            "Epoch 44/300\n",
            "1/1 - 0s - loss: 0.0178 - mae: 0.1033 - val_loss: 0.0933 - val_mae: 0.2601\n",
            "Epoch 45/300\n",
            "1/1 - 0s - loss: 0.0198 - mae: 0.1165 - val_loss: 0.0890 - val_mae: 0.2551\n",
            "Epoch 46/300\n",
            "1/1 - 0s - loss: 0.0163 - mae: 0.1006 - val_loss: 0.0838 - val_mae: 0.2486\n",
            "Epoch 47/300\n",
            "1/1 - 0s - loss: 0.0160 - mae: 0.1018 - val_loss: 0.0790 - val_mae: 0.2407\n",
            "Epoch 48/300\n",
            "1/1 - 0s - loss: 0.0214 - mae: 0.1204 - val_loss: 0.0758 - val_mae: 0.2366\n",
            "Epoch 49/300\n",
            "1/1 - 0s - loss: 0.0157 - mae: 0.0975 - val_loss: 0.0739 - val_mae: 0.2347\n",
            "Epoch 50/300\n",
            "1/1 - 0s - loss: 0.0157 - mae: 0.0980 - val_loss: 0.0737 - val_mae: 0.2358\n",
            "Epoch 51/300\n",
            "1/1 - 0s - loss: 0.0160 - mae: 0.1023 - val_loss: 0.0754 - val_mae: 0.2392\n",
            "Epoch 52/300\n",
            "1/1 - 0s - loss: 0.0148 - mae: 0.0986 - val_loss: 0.0786 - val_mae: 0.2434\n",
            "Epoch 53/300\n",
            "1/1 - 0s - loss: 0.0141 - mae: 0.0976 - val_loss: 0.0818 - val_mae: 0.2456\n",
            "Epoch 54/300\n",
            "1/1 - 0s - loss: 0.0134 - mae: 0.0910 - val_loss: 0.0828 - val_mae: 0.2441\n",
            "Epoch 55/300\n",
            "1/1 - 0s - loss: 0.0135 - mae: 0.0910 - val_loss: 0.0827 - val_mae: 0.2402\n",
            "Epoch 56/300\n",
            "1/1 - 0s - loss: 0.0142 - mae: 0.0930 - val_loss: 0.0813 - val_mae: 0.2369\n",
            "Epoch 57/300\n",
            "1/1 - 0s - loss: 0.0139 - mae: 0.0856 - val_loss: 0.0782 - val_mae: 0.2320\n",
            "Epoch 58/300\n",
            "1/1 - 0s - loss: 0.0126 - mae: 0.0825 - val_loss: 0.0751 - val_mae: 0.2293\n",
            "Epoch 59/300\n",
            "1/1 - 0s - loss: 0.0130 - mae: 0.0864 - val_loss: 0.0726 - val_mae: 0.2295\n",
            "Epoch 60/300\n",
            "1/1 - 0s - loss: 0.0128 - mae: 0.0886 - val_loss: 0.0713 - val_mae: 0.2325\n",
            "Epoch 61/300\n",
            "1/1 - 0s - loss: 0.0114 - mae: 0.0873 - val_loss: 0.0721 - val_mae: 0.2359\n",
            "Epoch 62/300\n",
            "1/1 - 0s - loss: 0.0135 - mae: 0.0932 - val_loss: 0.0741 - val_mae: 0.2381\n",
            "Epoch 63/300\n",
            "1/1 - 0s - loss: 0.0122 - mae: 0.0869 - val_loss: 0.0759 - val_mae: 0.2358\n",
            "Epoch 64/300\n",
            "1/1 - 0s - loss: 0.0123 - mae: 0.0884 - val_loss: 0.0773 - val_mae: 0.2329\n",
            "Epoch 65/300\n",
            "1/1 - 0s - loss: 0.0116 - mae: 0.0812 - val_loss: 0.0772 - val_mae: 0.2321\n",
            "Epoch 66/300\n",
            "1/1 - 0s - loss: 0.0124 - mae: 0.0833 - val_loss: 0.0751 - val_mae: 0.2290\n",
            "Epoch 67/300\n",
            "1/1 - 0s - loss: 0.0098 - mae: 0.0749 - val_loss: 0.0714 - val_mae: 0.2239\n",
            "Epoch 68/300\n",
            "1/1 - 0s - loss: 0.0122 - mae: 0.0859 - val_loss: 0.0674 - val_mae: 0.2201\n",
            "Epoch 69/300\n",
            "1/1 - 0s - loss: 0.0140 - mae: 0.0905 - val_loss: 0.0654 - val_mae: 0.2252\n",
            "Epoch 70/300\n",
            "1/1 - 0s - loss: 0.0109 - mae: 0.0810 - val_loss: 0.0648 - val_mae: 0.2277\n",
            "Epoch 71/300\n",
            "1/1 - 0s - loss: 0.0129 - mae: 0.0911 - val_loss: 0.0645 - val_mae: 0.2249\n",
            "Epoch 72/300\n",
            "1/1 - 0s - loss: 0.0111 - mae: 0.0807 - val_loss: 0.0659 - val_mae: 0.2200\n",
            "Epoch 73/300\n",
            "1/1 - 0s - loss: 0.0085 - mae: 0.0726 - val_loss: 0.0692 - val_mae: 0.2189\n",
            "Epoch 74/300\n",
            "1/1 - 0s - loss: 0.0120 - mae: 0.0818 - val_loss: 0.0719 - val_mae: 0.2187\n",
            "Epoch 75/300\n",
            "1/1 - 0s - loss: 0.0112 - mae: 0.0741 - val_loss: 0.0717 - val_mae: 0.2194\n",
            "Epoch 76/300\n",
            "1/1 - 0s - loss: 0.0093 - mae: 0.0682 - val_loss: 0.0687 - val_mae: 0.2169\n",
            "Epoch 77/300\n",
            "1/1 - 0s - loss: 0.0100 - mae: 0.0714 - val_loss: 0.0651 - val_mae: 0.2159\n",
            "Epoch 78/300\n",
            "1/1 - 0s - loss: 0.0101 - mae: 0.0749 - val_loss: 0.0618 - val_mae: 0.2121\n",
            "Epoch 79/300\n",
            "1/1 - 0s - loss: 0.0117 - mae: 0.0813 - val_loss: 0.0596 - val_mae: 0.2100\n",
            "Epoch 80/300\n",
            "1/1 - 0s - loss: 0.0102 - mae: 0.0791 - val_loss: 0.0593 - val_mae: 0.2101\n",
            "Epoch 81/300\n",
            "1/1 - 0s - loss: 0.0104 - mae: 0.0790 - val_loss: 0.0584 - val_mae: 0.2051\n",
            "Epoch 82/300\n",
            "1/1 - 0s - loss: 0.0099 - mae: 0.0763 - val_loss: 0.0590 - val_mae: 0.2036\n",
            "Epoch 83/300\n",
            "1/1 - 0s - loss: 0.0098 - mae: 0.0682 - val_loss: 0.0598 - val_mae: 0.2004\n",
            "Epoch 84/300\n",
            "1/1 - 0s - loss: 0.0086 - mae: 0.0677 - val_loss: 0.0600 - val_mae: 0.1994\n",
            "Epoch 85/300\n",
            "1/1 - 0s - loss: 0.0106 - mae: 0.0740 - val_loss: 0.0586 - val_mae: 0.2002\n",
            "Epoch 86/300\n",
            "1/1 - 0s - loss: 0.0080 - mae: 0.0671 - val_loss: 0.0573 - val_mae: 0.2015\n",
            "Epoch 87/300\n",
            "1/1 - 0s - loss: 0.0106 - mae: 0.0759 - val_loss: 0.0563 - val_mae: 0.2034\n",
            "Epoch 88/300\n",
            "1/1 - 0s - loss: 0.0086 - mae: 0.0655 - val_loss: 0.0547 - val_mae: 0.2003\n",
            "Epoch 89/300\n",
            "1/1 - 0s - loss: 0.0110 - mae: 0.0851 - val_loss: 0.0535 - val_mae: 0.1899\n",
            "Epoch 90/300\n",
            "1/1 - 0s - loss: 0.0082 - mae: 0.0652 - val_loss: 0.0545 - val_mae: 0.1879\n",
            "Epoch 91/300\n",
            "1/1 - 0s - loss: 0.0097 - mae: 0.0727 - val_loss: 0.0546 - val_mae: 0.1883\n",
            "Epoch 92/300\n",
            "1/1 - 0s - loss: 0.0084 - mae: 0.0685 - val_loss: 0.0532 - val_mae: 0.1860\n",
            "Epoch 93/300\n",
            "1/1 - 0s - loss: 0.0082 - mae: 0.0666 - val_loss: 0.0527 - val_mae: 0.1904\n",
            "Epoch 94/300\n",
            "1/1 - 0s - loss: 0.0071 - mae: 0.0641 - val_loss: 0.0541 - val_mae: 0.1960\n",
            "Epoch 95/300\n",
            "1/1 - 0s - loss: 0.0083 - mae: 0.0666 - val_loss: 0.0555 - val_mae: 0.1969\n",
            "Epoch 96/300\n",
            "1/1 - 0s - loss: 0.0093 - mae: 0.0717 - val_loss: 0.0571 - val_mae: 0.1959\n",
            "Epoch 97/300\n",
            "1/1 - 0s - loss: 0.0081 - mae: 0.0685 - val_loss: 0.0581 - val_mae: 0.1900\n",
            "Epoch 98/300\n",
            "1/1 - 0s - loss: 0.0089 - mae: 0.0667 - val_loss: 0.0586 - val_mae: 0.1904\n",
            "Epoch 99/300\n",
            "1/1 - 0s - loss: 0.0102 - mae: 0.0737 - val_loss: 0.0572 - val_mae: 0.1882\n",
            "Epoch 100/300\n",
            "1/1 - 0s - loss: 0.0085 - mae: 0.0678 - val_loss: 0.0535 - val_mae: 0.1850\n",
            "Epoch 101/300\n",
            "1/1 - 0s - loss: 0.0074 - mae: 0.0587 - val_loss: 0.0505 - val_mae: 0.1852\n",
            "Epoch 102/300\n",
            "1/1 - 0s - loss: 0.0075 - mae: 0.0671 - val_loss: 0.0488 - val_mae: 0.1832\n",
            "Epoch 103/300\n",
            "1/1 - 0s - loss: 0.0078 - mae: 0.0660 - val_loss: 0.0482 - val_mae: 0.1825\n",
            "Epoch 104/300\n",
            "1/1 - 0s - loss: 0.0082 - mae: 0.0683 - val_loss: 0.0492 - val_mae: 0.1832\n",
            "Epoch 105/300\n",
            "1/1 - 0s - loss: 0.0082 - mae: 0.0680 - val_loss: 0.0505 - val_mae: 0.1843\n",
            "Epoch 106/300\n",
            "1/1 - 0s - loss: 0.0096 - mae: 0.0711 - val_loss: 0.0532 - val_mae: 0.1878\n",
            "Epoch 107/300\n",
            "1/1 - 0s - loss: 0.0084 - mae: 0.0675 - val_loss: 0.0548 - val_mae: 0.1901\n",
            "Epoch 108/300\n",
            "1/1 - 0s - loss: 0.0079 - mae: 0.0633 - val_loss: 0.0541 - val_mae: 0.1877\n",
            "Epoch 109/300\n",
            "1/1 - 0s - loss: 0.0063 - mae: 0.0622 - val_loss: 0.0528 - val_mae: 0.1857\n",
            "Epoch 110/300\n",
            "1/1 - 0s - loss: 0.0082 - mae: 0.0657 - val_loss: 0.0499 - val_mae: 0.1813\n",
            "Epoch 111/300\n",
            "1/1 - 0s - loss: 0.0075 - mae: 0.0644 - val_loss: 0.0470 - val_mae: 0.1771\n",
            "Epoch 112/300\n",
            "1/1 - 0s - loss: 0.0079 - mae: 0.0691 - val_loss: 0.0451 - val_mae: 0.1742\n",
            "Epoch 113/300\n",
            "1/1 - 0s - loss: 0.0097 - mae: 0.0755 - val_loss: 0.0460 - val_mae: 0.1796\n",
            "Epoch 114/300\n",
            "1/1 - 0s - loss: 0.0077 - mae: 0.0682 - val_loss: 0.0480 - val_mae: 0.1837\n",
            "Epoch 115/300\n",
            "1/1 - 0s - loss: 0.0077 - mae: 0.0707 - val_loss: 0.0488 - val_mae: 0.1811\n",
            "Epoch 116/300\n",
            "1/1 - 0s - loss: 0.0070 - mae: 0.0648 - val_loss: 0.0487 - val_mae: 0.1782\n",
            "Epoch 117/300\n",
            "1/1 - 0s - loss: 0.0090 - mae: 0.0729 - val_loss: 0.0486 - val_mae: 0.1771\n",
            "Epoch 118/300\n",
            "1/1 - 0s - loss: 0.0072 - mae: 0.0619 - val_loss: 0.0464 - val_mae: 0.1730\n",
            "Epoch 119/300\n",
            "1/1 - 0s - loss: 0.0063 - mae: 0.0585 - val_loss: 0.0436 - val_mae: 0.1695\n",
            "Epoch 120/300\n",
            "1/1 - 0s - loss: 0.0074 - mae: 0.0631 - val_loss: 0.0432 - val_mae: 0.1707\n",
            "Epoch 121/300\n",
            "1/1 - 0s - loss: 0.0065 - mae: 0.0598 - val_loss: 0.0436 - val_mae: 0.1719\n",
            "Epoch 122/300\n",
            "1/1 - 0s - loss: 0.0060 - mae: 0.0566 - val_loss: 0.0451 - val_mae: 0.1733\n",
            "Epoch 123/300\n",
            "1/1 - 0s - loss: 0.0079 - mae: 0.0690 - val_loss: 0.0470 - val_mae: 0.1737\n",
            "Epoch 124/300\n",
            "1/1 - 0s - loss: 0.0065 - mae: 0.0583 - val_loss: 0.0479 - val_mae: 0.1747\n",
            "Epoch 125/300\n",
            "1/1 - 0s - loss: 0.0084 - mae: 0.0655 - val_loss: 0.0488 - val_mae: 0.1769\n",
            "Epoch 126/300\n",
            "1/1 - 0s - loss: 0.0083 - mae: 0.0638 - val_loss: 0.0507 - val_mae: 0.1803\n",
            "Epoch 127/300\n",
            "1/1 - 0s - loss: 0.0074 - mae: 0.0621 - val_loss: 0.0512 - val_mae: 0.1819\n",
            "Epoch 128/300\n",
            "1/1 - 0s - loss: 0.0093 - mae: 0.0716 - val_loss: 0.0525 - val_mae: 0.1843\n",
            "Epoch 129/300\n",
            "1/1 - 0s - loss: 0.0063 - mae: 0.0608 - val_loss: 0.0532 - val_mae: 0.1879\n",
            "Epoch 130/300\n",
            "1/1 - 0s - loss: 0.0071 - mae: 0.0622 - val_loss: 0.0533 - val_mae: 0.1901\n",
            "Epoch 131/300\n",
            "1/1 - 0s - loss: 0.0076 - mae: 0.0646 - val_loss: 0.0540 - val_mae: 0.1920\n",
            "Epoch 132/300\n",
            "1/1 - 0s - loss: 0.0075 - mae: 0.0607 - val_loss: 0.0530 - val_mae: 0.1881\n",
            "Epoch 133/300\n",
            "1/1 - 0s - loss: 0.0068 - mae: 0.0588 - val_loss: 0.0518 - val_mae: 0.1841\n",
            "Epoch 134/300\n",
            "1/1 - 0s - loss: 0.0075 - mae: 0.0627 - val_loss: 0.0502 - val_mae: 0.1816\n",
            "Epoch 135/300\n",
            "1/1 - 0s - loss: 0.0061 - mae: 0.0553 - val_loss: 0.0475 - val_mae: 0.1776\n",
            "Epoch 136/300\n",
            "1/1 - 0s - loss: 0.0086 - mae: 0.0690 - val_loss: 0.0453 - val_mae: 0.1754\n",
            "Epoch 137/300\n",
            "1/1 - 0s - loss: 0.0064 - mae: 0.0590 - val_loss: 0.0457 - val_mae: 0.1786\n",
            "Epoch 138/300\n",
            "1/1 - 0s - loss: 0.0065 - mae: 0.0594 - val_loss: 0.0477 - val_mae: 0.1806\n",
            "Epoch 139/300\n",
            "1/1 - 0s - loss: 0.0068 - mae: 0.0604 - val_loss: 0.0506 - val_mae: 0.1825\n",
            "Epoch 140/300\n",
            "1/1 - 0s - loss: 0.0065 - mae: 0.0606 - val_loss: 0.0518 - val_mae: 0.1818\n",
            "Epoch 141/300\n",
            "1/1 - 0s - loss: 0.0059 - mae: 0.0561 - val_loss: 0.0522 - val_mae: 0.1819\n",
            "Epoch 142/300\n",
            "1/1 - 0s - loss: 0.0063 - mae: 0.0552 - val_loss: 0.0488 - val_mae: 0.1762\n",
            "Epoch 143/300\n",
            "1/1 - 0s - loss: 0.0059 - mae: 0.0545 - val_loss: 0.0446 - val_mae: 0.1687\n",
            "Epoch 144/300\n",
            "1/1 - 0s - loss: 0.0061 - mae: 0.0556 - val_loss: 0.0412 - val_mae: 0.1634\n",
            "Epoch 145/300\n",
            "1/1 - 0s - loss: 0.0085 - mae: 0.0649 - val_loss: 0.0402 - val_mae: 0.1627\n",
            "Epoch 146/300\n",
            "1/1 - 0s - loss: 0.0069 - mae: 0.0627 - val_loss: 0.0421 - val_mae: 0.1668\n",
            "Epoch 147/300\n",
            "1/1 - 0s - loss: 0.0066 - mae: 0.0611 - val_loss: 0.0460 - val_mae: 0.1722\n",
            "Epoch 148/300\n",
            "1/1 - 0s - loss: 0.0054 - mae: 0.0559 - val_loss: 0.0502 - val_mae: 0.1774\n",
            "Epoch 149/300\n",
            "1/1 - 0s - loss: 0.0062 - mae: 0.0576 - val_loss: 0.0514 - val_mae: 0.1797\n",
            "Epoch 150/300\n",
            "1/1 - 0s - loss: 0.0054 - mae: 0.0549 - val_loss: 0.0504 - val_mae: 0.1777\n",
            "Epoch 151/300\n",
            "1/1 - 0s - loss: 0.0064 - mae: 0.0571 - val_loss: 0.0476 - val_mae: 0.1723\n",
            "Epoch 152/300\n",
            "1/1 - 0s - loss: 0.0065 - mae: 0.0601 - val_loss: 0.0434 - val_mae: 0.1658\n",
            "Epoch 153/300\n",
            "1/1 - 0s - loss: 0.0051 - mae: 0.0511 - val_loss: 0.0407 - val_mae: 0.1625\n",
            "Epoch 154/300\n",
            "1/1 - 0s - loss: 0.0063 - mae: 0.0581 - val_loss: 0.0401 - val_mae: 0.1645\n",
            "Epoch 155/300\n",
            "1/1 - 0s - loss: 0.0074 - mae: 0.0654 - val_loss: 0.0412 - val_mae: 0.1664\n",
            "Epoch 156/300\n",
            "1/1 - 0s - loss: 0.0068 - mae: 0.0633 - val_loss: 0.0448 - val_mae: 0.1720\n",
            "Epoch 157/300\n",
            "1/1 - 0s - loss: 0.0061 - mae: 0.0576 - val_loss: 0.0474 - val_mae: 0.1745\n",
            "Epoch 158/300\n",
            "1/1 - 0s - loss: 0.0060 - mae: 0.0567 - val_loss: 0.0478 - val_mae: 0.1740\n",
            "Epoch 159/300\n",
            "1/1 - 0s - loss: 0.0061 - mae: 0.0590 - val_loss: 0.0441 - val_mae: 0.1660\n",
            "Epoch 160/300\n",
            "1/1 - 0s - loss: 0.0053 - mae: 0.0519 - val_loss: 0.0409 - val_mae: 0.1568\n",
            "Epoch 161/300\n",
            "1/1 - 0s - loss: 0.0048 - mae: 0.0534 - val_loss: 0.0390 - val_mae: 0.1518\n",
            "Epoch 162/300\n",
            "1/1 - 0s - loss: 0.0055 - mae: 0.0570 - val_loss: 0.0387 - val_mae: 0.1546\n",
            "Epoch 163/300\n",
            "1/1 - 0s - loss: 0.0064 - mae: 0.0615 - val_loss: 0.0412 - val_mae: 0.1651\n",
            "Epoch 164/300\n",
            "1/1 - 0s - loss: 0.0063 - mae: 0.0609 - val_loss: 0.0443 - val_mae: 0.1713\n",
            "Epoch 165/300\n",
            "1/1 - 0s - loss: 0.0060 - mae: 0.0548 - val_loss: 0.0481 - val_mae: 0.1758\n",
            "Epoch 166/300\n",
            "1/1 - 0s - loss: 0.0051 - mae: 0.0530 - val_loss: 0.0502 - val_mae: 0.1780\n",
            "Epoch 167/300\n",
            "1/1 - 0s - loss: 0.0060 - mae: 0.0506 - val_loss: 0.0487 - val_mae: 0.1755\n",
            "Epoch 168/300\n",
            "1/1 - 0s - loss: 0.0062 - mae: 0.0581 - val_loss: 0.0450 - val_mae: 0.1707\n",
            "Epoch 169/300\n",
            "1/1 - 0s - loss: 0.0061 - mae: 0.0610 - val_loss: 0.0426 - val_mae: 0.1692\n",
            "Epoch 170/300\n",
            "1/1 - 0s - loss: 0.0057 - mae: 0.0547 - val_loss: 0.0412 - val_mae: 0.1692\n",
            "Epoch 171/300\n",
            "1/1 - 0s - loss: 0.0080 - mae: 0.0628 - val_loss: 0.0421 - val_mae: 0.1709\n",
            "Epoch 172/300\n",
            "1/1 - 0s - loss: 0.0067 - mae: 0.0627 - val_loss: 0.0444 - val_mae: 0.1720\n",
            "Epoch 173/300\n",
            "1/1 - 0s - loss: 0.0058 - mae: 0.0556 - val_loss: 0.0475 - val_mae: 0.1723\n",
            "Epoch 174/300\n",
            "1/1 - 0s - loss: 0.0054 - mae: 0.0527 - val_loss: 0.0471 - val_mae: 0.1688\n",
            "Epoch 175/300\n",
            "1/1 - 0s - loss: 0.0059 - mae: 0.0566 - val_loss: 0.0445 - val_mae: 0.1637\n",
            "Epoch 176/300\n",
            "1/1 - 0s - loss: 0.0063 - mae: 0.0591 - val_loss: 0.0428 - val_mae: 0.1600\n",
            "Epoch 177/300\n",
            "1/1 - 0s - loss: 0.0064 - mae: 0.0613 - val_loss: 0.0416 - val_mae: 0.1579\n",
            "Epoch 178/300\n",
            "1/1 - 0s - loss: 0.0057 - mae: 0.0578 - val_loss: 0.0417 - val_mae: 0.1616\n",
            "Epoch 179/300\n",
            "1/1 - 0s - loss: 0.0056 - mae: 0.0513 - val_loss: 0.0425 - val_mae: 0.1655\n",
            "Epoch 180/300\n",
            "1/1 - 0s - loss: 0.0054 - mae: 0.0540 - val_loss: 0.0430 - val_mae: 0.1661\n",
            "Epoch 181/300\n",
            "1/1 - 0s - loss: 0.0053 - mae: 0.0546 - val_loss: 0.0443 - val_mae: 0.1642\n",
            "Epoch 182/300\n",
            "1/1 - 0s - loss: 0.0058 - mae: 0.0562 - val_loss: 0.0464 - val_mae: 0.1644\n",
            "Epoch 183/300\n",
            "1/1 - 0s - loss: 0.0050 - mae: 0.0478 - val_loss: 0.0476 - val_mae: 0.1652\n",
            "Epoch 184/300\n",
            "1/1 - 0s - loss: 0.0069 - mae: 0.0599 - val_loss: 0.0467 - val_mae: 0.1645\n",
            "Epoch 185/300\n",
            "1/1 - 0s - loss: 0.0060 - mae: 0.0564 - val_loss: 0.0449 - val_mae: 0.1673\n",
            "Epoch 186/300\n",
            "1/1 - 0s - loss: 0.0052 - mae: 0.0496 - val_loss: 0.0438 - val_mae: 0.1682\n",
            "Epoch 187/300\n",
            "1/1 - 0s - loss: 0.0057 - mae: 0.0570 - val_loss: 0.0433 - val_mae: 0.1667\n",
            "Epoch 188/300\n",
            "1/1 - 0s - loss: 0.0053 - mae: 0.0580 - val_loss: 0.0436 - val_mae: 0.1631\n",
            "Epoch 189/300\n",
            "1/1 - 0s - loss: 0.0044 - mae: 0.0486 - val_loss: 0.0452 - val_mae: 0.1611\n",
            "Epoch 190/300\n",
            "1/1 - 0s - loss: 0.0066 - mae: 0.0595 - val_loss: 0.0462 - val_mae: 0.1642\n",
            "Epoch 191/300\n",
            "1/1 - 0s - loss: 0.0057 - mae: 0.0550 - val_loss: 0.0464 - val_mae: 0.1663\n",
            "Epoch 192/300\n",
            "1/1 - 0s - loss: 0.0052 - mae: 0.0506 - val_loss: 0.0462 - val_mae: 0.1694\n",
            "Epoch 193/300\n",
            "1/1 - 0s - loss: 0.0052 - mae: 0.0508 - val_loss: 0.0446 - val_mae: 0.1670\n",
            "Epoch 194/300\n",
            "1/1 - 0s - loss: 0.0057 - mae: 0.0528 - val_loss: 0.0420 - val_mae: 0.1602\n",
            "Epoch 195/300\n",
            "1/1 - 0s - loss: 0.0066 - mae: 0.0613 - val_loss: 0.0415 - val_mae: 0.1562\n",
            "Epoch 196/300\n",
            "1/1 - 0s - loss: 0.0051 - mae: 0.0507 - val_loss: 0.0420 - val_mae: 0.1566\n",
            "Epoch 197/300\n",
            "1/1 - 0s - loss: 0.0055 - mae: 0.0544 - val_loss: 0.0435 - val_mae: 0.1605\n",
            "Epoch 198/300\n",
            "1/1 - 0s - loss: 0.0061 - mae: 0.0565 - val_loss: 0.0454 - val_mae: 0.1698\n",
            "Epoch 199/300\n",
            "1/1 - 0s - loss: 0.0053 - mae: 0.0537 - val_loss: 0.0459 - val_mae: 0.1707\n",
            "Epoch 200/300\n",
            "1/1 - 0s - loss: 0.0052 - mae: 0.0539 - val_loss: 0.0457 - val_mae: 0.1686\n",
            "Epoch 201/300\n",
            "1/1 - 0s - loss: 0.0051 - mae: 0.0530 - val_loss: 0.0445 - val_mae: 0.1598\n",
            "Epoch 202/300\n",
            "1/1 - 0s - loss: 0.0066 - mae: 0.0616 - val_loss: 0.0438 - val_mae: 0.1584\n",
            "Epoch 203/300\n",
            "1/1 - 0s - loss: 0.0056 - mae: 0.0541 - val_loss: 0.0431 - val_mae: 0.1591\n",
            "Epoch 204/300\n",
            "1/1 - 0s - loss: 0.0058 - mae: 0.0567 - val_loss: 0.0444 - val_mae: 0.1640\n",
            "Epoch 205/300\n",
            "1/1 - 0s - loss: 0.0051 - mae: 0.0521 - val_loss: 0.0451 - val_mae: 0.1649\n",
            "Epoch 206/300\n",
            "1/1 - 0s - loss: 0.0054 - mae: 0.0557 - val_loss: 0.0455 - val_mae: 0.1626\n",
            "Epoch 207/300\n",
            "1/1 - 0s - loss: 0.0054 - mae: 0.0541 - val_loss: 0.0469 - val_mae: 0.1657\n",
            "Epoch 208/300\n",
            "1/1 - 0s - loss: 0.0048 - mae: 0.0481 - val_loss: 0.0481 - val_mae: 0.1698\n",
            "Epoch 209/300\n",
            "1/1 - 0s - loss: 0.0057 - mae: 0.0489 - val_loss: 0.0477 - val_mae: 0.1693\n",
            "Epoch 210/300\n",
            "1/1 - 0s - loss: 0.0052 - mae: 0.0483 - val_loss: 0.0476 - val_mae: 0.1716\n",
            "Epoch 211/300\n",
            "1/1 - 0s - loss: 0.0041 - mae: 0.0464 - val_loss: 0.0464 - val_mae: 0.1707\n",
            "Epoch 212/300\n",
            "1/1 - 0s - loss: 0.0046 - mae: 0.0467 - val_loss: 0.0453 - val_mae: 0.1682\n",
            "Epoch 213/300\n",
            "1/1 - 0s - loss: 0.0062 - mae: 0.0545 - val_loss: 0.0456 - val_mae: 0.1678\n",
            "Epoch 214/300\n",
            "1/1 - 0s - loss: 0.0050 - mae: 0.0530 - val_loss: 0.0467 - val_mae: 0.1697\n",
            "Epoch 215/300\n",
            "1/1 - 0s - loss: 0.0047 - mae: 0.0462 - val_loss: 0.0473 - val_mae: 0.1701\n",
            "Epoch 216/300\n",
            "1/1 - 0s - loss: 0.0050 - mae: 0.0485 - val_loss: 0.0471 - val_mae: 0.1678\n",
            "Epoch 217/300\n",
            "1/1 - 0s - loss: 0.0049 - mae: 0.0476 - val_loss: 0.0477 - val_mae: 0.1685\n",
            "Epoch 218/300\n",
            "1/1 - 0s - loss: 0.0049 - mae: 0.0500 - val_loss: 0.0472 - val_mae: 0.1673\n",
            "Epoch 219/300\n",
            "1/1 - 0s - loss: 0.0051 - mae: 0.0498 - val_loss: 0.0472 - val_mae: 0.1681\n",
            "Epoch 220/300\n",
            "1/1 - 0s - loss: 0.0044 - mae: 0.0466 - val_loss: 0.0466 - val_mae: 0.1674\n",
            "Epoch 221/300\n",
            "1/1 - 0s - loss: 0.0044 - mae: 0.0465 - val_loss: 0.0472 - val_mae: 0.1681\n",
            "Epoch 222/300\n",
            "1/1 - 0s - loss: 0.0039 - mae: 0.0443 - val_loss: 0.0487 - val_mae: 0.1738\n",
            "Epoch 223/300\n",
            "1/1 - 0s - loss: 0.0052 - mae: 0.0517 - val_loss: 0.0486 - val_mae: 0.1737\n",
            "Epoch 224/300\n",
            "1/1 - 0s - loss: 0.0052 - mae: 0.0490 - val_loss: 0.0474 - val_mae: 0.1713\n",
            "Epoch 225/300\n",
            "1/1 - 0s - loss: 0.0056 - mae: 0.0571 - val_loss: 0.0457 - val_mae: 0.1680\n",
            "Epoch 226/300\n",
            "1/1 - 0s - loss: 0.0049 - mae: 0.0507 - val_loss: 0.0449 - val_mae: 0.1662\n",
            "Epoch 227/300\n",
            "1/1 - 0s - loss: 0.0050 - mae: 0.0540 - val_loss: 0.0443 - val_mae: 0.1673\n",
            "Epoch 228/300\n",
            "1/1 - 0s - loss: 0.0046 - mae: 0.0520 - val_loss: 0.0458 - val_mae: 0.1698\n",
            "Epoch 229/300\n",
            "1/1 - 0s - loss: 0.0043 - mae: 0.0480 - val_loss: 0.0482 - val_mae: 0.1714\n",
            "Epoch 230/300\n",
            "1/1 - 0s - loss: 0.0053 - mae: 0.0523 - val_loss: 0.0496 - val_mae: 0.1710\n",
            "Epoch 231/300\n",
            "1/1 - 0s - loss: 0.0050 - mae: 0.0528 - val_loss: 0.0494 - val_mae: 0.1702\n",
            "Epoch 232/300\n",
            "1/1 - 0s - loss: 0.0047 - mae: 0.0487 - val_loss: 0.0505 - val_mae: 0.1794\n",
            "Epoch 233/300\n",
            "1/1 - 0s - loss: 0.0041 - mae: 0.0460 - val_loss: 0.0512 - val_mae: 0.1851\n",
            "Epoch 234/300\n",
            "1/1 - 0s - loss: 0.0058 - mae: 0.0569 - val_loss: 0.0485 - val_mae: 0.1790\n",
            "Epoch 235/300\n",
            "1/1 - 0s - loss: 0.0066 - mae: 0.0600 - val_loss: 0.0451 - val_mae: 0.1655\n",
            "Epoch 236/300\n",
            "1/1 - 0s - loss: 0.0058 - mae: 0.0563 - val_loss: 0.0439 - val_mae: 0.1629\n",
            "Epoch 237/300\n",
            "1/1 - 0s - loss: 0.0048 - mae: 0.0513 - val_loss: 0.0435 - val_mae: 0.1627\n",
            "Epoch 238/300\n",
            "1/1 - 0s - loss: 0.0049 - mae: 0.0502 - val_loss: 0.0425 - val_mae: 0.1595\n",
            "Epoch 239/300\n",
            "1/1 - 0s - loss: 0.0048 - mae: 0.0531 - val_loss: 0.0436 - val_mae: 0.1615\n",
            "Epoch 240/300\n",
            "1/1 - 0s - loss: 0.0047 - mae: 0.0461 - val_loss: 0.0457 - val_mae: 0.1679\n",
            "Epoch 241/300\n",
            "1/1 - 0s - loss: 0.0047 - mae: 0.0524 - val_loss: 0.0475 - val_mae: 0.1713\n",
            "Epoch 242/300\n",
            "1/1 - 0s - loss: 0.0048 - mae: 0.0512 - val_loss: 0.0488 - val_mae: 0.1707\n",
            "Epoch 243/300\n",
            "1/1 - 0s - loss: 0.0050 - mae: 0.0512 - val_loss: 0.0490 - val_mae: 0.1703\n",
            "Epoch 244/300\n",
            "1/1 - 0s - loss: 0.0045 - mae: 0.0463 - val_loss: 0.0480 - val_mae: 0.1697\n",
            "Epoch 245/300\n",
            "1/1 - 0s - loss: 0.0042 - mae: 0.0462 - val_loss: 0.0466 - val_mae: 0.1691\n",
            "Epoch 246/300\n",
            "1/1 - 0s - loss: 0.0046 - mae: 0.0525 - val_loss: 0.0459 - val_mae: 0.1721\n",
            "Epoch 247/300\n",
            "1/1 - 0s - loss: 0.0046 - mae: 0.0495 - val_loss: 0.0469 - val_mae: 0.1736\n",
            "Epoch 248/300\n",
            "1/1 - 0s - loss: 0.0047 - mae: 0.0515 - val_loss: 0.0495 - val_mae: 0.1745\n",
            "Epoch 249/300\n",
            "1/1 - 0s - loss: 0.0042 - mae: 0.0450 - val_loss: 0.0520 - val_mae: 0.1757\n",
            "Epoch 250/300\n",
            "1/1 - 0s - loss: 0.0047 - mae: 0.0477 - val_loss: 0.0525 - val_mae: 0.1773\n",
            "Epoch 251/300\n",
            "1/1 - 0s - loss: 0.0051 - mae: 0.0513 - val_loss: 0.0514 - val_mae: 0.1761\n",
            "Epoch 252/300\n",
            "1/1 - 0s - loss: 0.0047 - mae: 0.0493 - val_loss: 0.0491 - val_mae: 0.1729\n",
            "Epoch 253/300\n",
            "1/1 - 0s - loss: 0.0061 - mae: 0.0595 - val_loss: 0.0469 - val_mae: 0.1754\n",
            "Epoch 254/300\n",
            "1/1 - 0s - loss: 0.0057 - mae: 0.0531 - val_loss: 0.0464 - val_mae: 0.1780\n",
            "Epoch 255/300\n",
            "1/1 - 0s - loss: 0.0052 - mae: 0.0574 - val_loss: 0.0460 - val_mae: 0.1745\n",
            "Epoch 256/300\n",
            "1/1 - 0s - loss: 0.0070 - mae: 0.0598 - val_loss: 0.0466 - val_mae: 0.1683\n",
            "Epoch 257/300\n",
            "1/1 - 0s - loss: 0.0043 - mae: 0.0497 - val_loss: 0.0481 - val_mae: 0.1666\n",
            "Epoch 258/300\n",
            "1/1 - 0s - loss: 0.0040 - mae: 0.0480 - val_loss: 0.0492 - val_mae: 0.1705\n",
            "Epoch 259/300\n",
            "1/1 - 0s - loss: 0.0052 - mae: 0.0526 - val_loss: 0.0487 - val_mae: 0.1692\n",
            "Epoch 260/300\n",
            "1/1 - 0s - loss: 0.0039 - mae: 0.0420 - val_loss: 0.0463 - val_mae: 0.1662\n",
            "Epoch 261/300\n",
            "1/1 - 0s - loss: 0.0054 - mae: 0.0539 - val_loss: 0.0458 - val_mae: 0.1727\n",
            "Epoch 262/300\n",
            "1/1 - 0s - loss: 0.0043 - mae: 0.0492 - val_loss: 0.0457 - val_mae: 0.1760\n",
            "Epoch 263/300\n",
            "1/1 - 0s - loss: 0.0061 - mae: 0.0617 - val_loss: 0.0438 - val_mae: 0.1679\n",
            "Epoch 264/300\n",
            "1/1 - 0s - loss: 0.0049 - mae: 0.0518 - val_loss: 0.0433 - val_mae: 0.1594\n",
            "Epoch 265/300\n",
            "1/1 - 0s - loss: 0.0060 - mae: 0.0521 - val_loss: 0.0457 - val_mae: 0.1687\n",
            "Epoch 266/300\n",
            "1/1 - 0s - loss: 0.0058 - mae: 0.0617 - val_loss: 0.0468 - val_mae: 0.1691\n",
            "Epoch 267/300\n",
            "1/1 - 0s - loss: 0.0047 - mae: 0.0530 - val_loss: 0.0477 - val_mae: 0.1662\n",
            "Epoch 268/300\n",
            "1/1 - 0s - loss: 0.0044 - mae: 0.0455 - val_loss: 0.0492 - val_mae: 0.1768\n",
            "Epoch 269/300\n",
            "1/1 - 0s - loss: 0.0042 - mae: 0.0454 - val_loss: 0.0486 - val_mae: 0.1792\n",
            "Epoch 270/300\n",
            "1/1 - 0s - loss: 0.0055 - mae: 0.0570 - val_loss: 0.0428 - val_mae: 0.1661\n",
            "Epoch 271/300\n",
            "1/1 - 0s - loss: 0.0045 - mae: 0.0514 - val_loss: 0.0394 - val_mae: 0.1554\n",
            "Epoch 272/300\n",
            "1/1 - 0s - loss: 0.0044 - mae: 0.0492 - val_loss: 0.0390 - val_mae: 0.1590\n",
            "Epoch 273/300\n",
            "1/1 - 0s - loss: 0.0054 - mae: 0.0576 - val_loss: 0.0399 - val_mae: 0.1617\n",
            "Epoch 274/300\n",
            "1/1 - 0s - loss: 0.0046 - mae: 0.0522 - val_loss: 0.0434 - val_mae: 0.1684\n",
            "Epoch 275/300\n",
            "1/1 - 0s - loss: 0.0042 - mae: 0.0469 - val_loss: 0.0465 - val_mae: 0.1760\n",
            "Epoch 276/300\n",
            "1/1 - 0s - loss: 0.0045 - mae: 0.0496 - val_loss: 0.0461 - val_mae: 0.1730\n",
            "Epoch 277/300\n",
            "1/1 - 0s - loss: 0.0044 - mae: 0.0497 - val_loss: 0.0439 - val_mae: 0.1621\n",
            "Epoch 278/300\n",
            "1/1 - 0s - loss: 0.0034 - mae: 0.0415 - val_loss: 0.0438 - val_mae: 0.1631\n",
            "Epoch 279/300\n",
            "1/1 - 0s - loss: 0.0049 - mae: 0.0505 - val_loss: 0.0445 - val_mae: 0.1641\n",
            "Epoch 280/300\n",
            "1/1 - 0s - loss: 0.0035 - mae: 0.0404 - val_loss: 0.0448 - val_mae: 0.1624\n",
            "Epoch 281/300\n",
            "1/1 - 0s - loss: 0.0045 - mae: 0.0527 - val_loss: 0.0455 - val_mae: 0.1645\n",
            "Epoch 282/300\n",
            "1/1 - 0s - loss: 0.0034 - mae: 0.0442 - val_loss: 0.0460 - val_mae: 0.1687\n",
            "Epoch 283/300\n",
            "1/1 - 0s - loss: 0.0038 - mae: 0.0420 - val_loss: 0.0470 - val_mae: 0.1730\n",
            "Epoch 284/300\n",
            "1/1 - 0s - loss: 0.0043 - mae: 0.0488 - val_loss: 0.0469 - val_mae: 0.1704\n",
            "Epoch 285/300\n",
            "1/1 - 0s - loss: 0.0047 - mae: 0.0499 - val_loss: 0.0476 - val_mae: 0.1693\n",
            "Epoch 286/300\n",
            "1/1 - 0s - loss: 0.0035 - mae: 0.0436 - val_loss: 0.0472 - val_mae: 0.1688\n",
            "Epoch 287/300\n",
            "1/1 - 0s - loss: 0.0041 - mae: 0.0510 - val_loss: 0.0470 - val_mae: 0.1693\n",
            "Epoch 288/300\n",
            "1/1 - 0s - loss: 0.0048 - mae: 0.0493 - val_loss: 0.0466 - val_mae: 0.1701\n",
            "Epoch 289/300\n",
            "1/1 - 0s - loss: 0.0034 - mae: 0.0432 - val_loss: 0.0468 - val_mae: 0.1745\n",
            "Epoch 290/300\n",
            "1/1 - 0s - loss: 0.0039 - mae: 0.0472 - val_loss: 0.0451 - val_mae: 0.1730\n",
            "Epoch 291/300\n",
            "1/1 - 0s - loss: 0.0033 - mae: 0.0411 - val_loss: 0.0430 - val_mae: 0.1687\n",
            "Epoch 292/300\n",
            "1/1 - 0s - loss: 0.0036 - mae: 0.0433 - val_loss: 0.0403 - val_mae: 0.1612\n",
            "Epoch 293/300\n",
            "1/1 - 0s - loss: 0.0038 - mae: 0.0444 - val_loss: 0.0395 - val_mae: 0.1575\n",
            "Epoch 294/300\n",
            "1/1 - 0s - loss: 0.0055 - mae: 0.0564 - val_loss: 0.0410 - val_mae: 0.1593\n",
            "Epoch 295/300\n",
            "1/1 - 0s - loss: 0.0037 - mae: 0.0427 - val_loss: 0.0420 - val_mae: 0.1605\n",
            "Epoch 296/300\n",
            "1/1 - 0s - loss: 0.0042 - mae: 0.0475 - val_loss: 0.0428 - val_mae: 0.1620\n",
            "Epoch 297/300\n",
            "1/1 - 0s - loss: 0.0038 - mae: 0.0474 - val_loss: 0.0431 - val_mae: 0.1666\n",
            "Epoch 298/300\n",
            "1/1 - 0s - loss: 0.0038 - mae: 0.0432 - val_loss: 0.0432 - val_mae: 0.1686\n",
            "Epoch 299/300\n",
            "1/1 - 0s - loss: 0.0031 - mae: 0.0417 - val_loss: 0.0437 - val_mae: 0.1718\n",
            "Epoch 300/300\n",
            "1/1 - 0s - loss: 0.0042 - mae: 0.0512 - val_loss: 0.0427 - val_mae: 0.1687\n"
          ],
          "name": "stdout"
        }
      ]
    },
    {
      "cell_type": "code",
      "metadata": {
        "colab": {
          "base_uri": "https://localhost:8080/",
          "height": 314
        },
        "id": "A1YC68UB2oBC",
        "outputId": "94d83f93-bfc0-488b-9afe-ec8612f29783"
      },
      "source": [
        "# Grafik training dan validation loss\n",
        "training_loss=fitting_history.history['loss']\n",
        "validation_loss=fitting_history.history['val_loss']\n",
        "epochs=range(len(training_loss))\n",
        "\n",
        "plt.plot(epochs, training_loss, 'r', label=\"Training Loss\")\n",
        "plt.plot(epochs, validation_loss, 'b', label=\"Validation Loss\")\n",
        "plt.title('Training and validation loss')\n",
        "plt.legend(loc=0)\n",
        "plt.figure()"
      ],
      "execution_count": null,
      "outputs": [
        {
          "output_type": "execute_result",
          "data": {
            "text/plain": [
              "<Figure size 432x288 with 0 Axes>"
            ]
          },
          "metadata": {
            "tags": []
          },
          "execution_count": 16
        },
        {
          "output_type": "display_data",
          "data": {
            "image/png": "[encoded data removed]",
            "text/plain": [
              "<Figure size 432x288 with 1 Axes>"
            ]
          },
          "metadata": {
            "tags": [],
            "needs_background": "light"
          }
        },
        {
          "output_type": "display_data",
          "data": {
            "text/plain": [
              "<Figure size 432x288 with 0 Axes>"
            ]
          },
          "metadata": {
            "tags": []
          }
        }
      ]
    },
    {
      "cell_type": "code",
      "metadata": {
        "colab": {
          "base_uri": "https://localhost:8080/",
          "height": 314
        },
        "id": "qIVAhEqD2phA",
        "outputId": "2a2e18ce-4dd5-46af-a7a4-bee021892437"
      },
      "source": [
        "# Grafik training and validation MAE\n",
        "training_mae=fitting_history.history['mae']\n",
        "validation_mae=fitting_history.history['val_mae']\n",
        "epochs=range(len(training_mae))\n",
        "\n",
        "plt.plot(epochs, training_mae, 'r', label=\"Training MAE\")\n",
        "plt.plot(epochs, validation_mae, 'b', label=\"Validation MAE\")\n",
        "plt.title('Training and validation MAE')\n",
        "plt.legend(loc=0)\n",
        "plt.figure()"
      ],
      "execution_count": null,
      "outputs": [
        {
          "output_type": "execute_result",
          "data": {
            "text/plain": [
              "<Figure size 432x288 with 0 Axes>"
            ]
          },
          "metadata": {
            "tags": []
          },
          "execution_count": 17
        },
        {
          "output_type": "display_data",
          "data": {
            "image/png": "[encoded data removed]",
            "text/plain": [
              "<Figure size 432x288 with 1 Axes>"
            ]
          },
          "metadata": {
            "tags": [],
            "needs_background": "light"
          }
        },
        {
          "output_type": "display_data",
          "data": {
            "text/plain": [
              "<Figure size 432x288 with 0 Axes>"
            ]
          },
          "metadata": {
            "tags": []
          }
        }
      ]
    },
    {
      "cell_type": "code",
      "metadata": {
        "colab": {
          "base_uri": "https://localhost:8080/"
        },
        "id": "VFe_fWqDh2rO",
        "outputId": "083b1769-71fa-4eca-e7fa-e32a3fc0f991"
      },
      "source": [
        "# Menghitung nilai MSE dan MAE\n",
        "mse_score, mae_score = model.evaluate(input_test, output_test)\n",
        "print('Nilai Mean Squared Error (MSE) : ', mse_score)\n",
        "print('Nilai Mean Absolute Error (MAE) : ', mae_score)"
      ],
      "execution_count": null,
      "outputs": [
        {
          "output_type": "stream",
          "text": [
            "1/1 [==============================] - 0s 19ms/step - loss: 0.0905 - mae: 0.2034\n",
            "Nilai Mean Squared Error (MSE) :  0.09045171737670898\n",
            "Nilai Mean Absolute Error (MAE) :  0.20343461632728577\n"
          ],
          "name": "stdout"
        }
      ]
    },
    {
      "cell_type": "code",
      "metadata": {
        "id": "Wpn2w9R-5LSY"
      },
      "source": [
        "# Simpan model\n",
        "model.save('model-lamapenyinaran.h5')"
      ],
      "execution_count": null,
      "outputs": []
    },
    {
      "cell_type": "markdown",
      "metadata": {
        "id": "j0gtqKfD5N6d"
      },
      "source": [
        "# **Testing Model**"
      ]
    },
    {
      "cell_type": "code",
      "metadata": {
        "id": "o_3DBMeZ5gdD"
      },
      "source": [
        "# Load the model\n",
        "model = tf.keras.models.load_model('model-lamapenyinaran.h5')"
      ],
      "execution_count": null,
      "outputs": []
    },
    {
      "cell_type": "code",
      "metadata": {
        "id": "UJ6BsbEZUVFr"
      },
      "source": [
        "#Prediksi Data\n",
        "data_prediksi = model.predict(input_test)"
      ],
      "execution_count": null,
      "outputs": []
    },
    {
      "cell_type": "code",
      "metadata": {
        "colab": {
          "base_uri": "https://localhost:8080/"
        },
        "id": "_gyJGODddK7S",
        "outputId": "cba8fa10-bf1f-4363-8d73-fd3c3af0cc5b"
      },
      "source": [
        "print(data_prediksi)\n",
        "print(\"-------\")\n",
        "print(output_test)"
      ],
      "execution_count": null,
      "outputs": [
        {
          "output_type": "stream",
          "text": [
            "[[0.91219294 0.9745471  0.99530345 0.8792453 ]\n",
            " [0.29166532 0.26488674 0.37705153 0.5697508 ]\n",
            " [0.3127225  0.28858128 0.41229856 0.62148315]\n",
            " [0.54975915 0.29931533 0.2509601  0.38375953]]\n",
            "-------\n",
            "[[0.92580645 0.60645161 0.48709677 0.        ]\n",
            " [0.2016129  0.40322581 0.25806452 0.45483871]\n",
            " [0.23387097 0.36612903 0.48548387 0.60806452]\n",
            " [0.90483871 0.54032258 0.28548387 0.23387097]]\n"
          ],
          "name": "stdout"
        }
      ]
    },
    {
      "cell_type": "code",
      "metadata": {
        "id": "jiFXCtfyUYA0"
      },
      "source": [
        "# Inverse transform data min max\n",
        "data_prediksi = scaler.inverse_transform(data_prediksi)\n",
        "output_test = scaler.inverse_transform(output_test)"
      ],
      "execution_count": null,
      "outputs": []
    },
    {
      "cell_type": "code",
      "metadata": {
        "colab": {
          "base_uri": "https://localhost:8080/"
        },
        "id": "UM0zjtzmbKPB",
        "outputId": "90e142b5-292f-4026-9c68-180941dcb3f9"
      },
      "source": [
        "print(data_prediksi)\n",
        "print(\"-------\")\n",
        "print(output_test)"
      ],
      "execution_count": null,
      "outputs": [
        {
          "output_type": "stream",
          "text": [
            "[[8.925596  9.312192  9.440882  8.72132  ]\n",
            " [5.078325  4.9122977 5.6077194 6.802455 ]\n",
            " [5.2088795 5.059204  5.826251  7.1231956]\n",
            " [6.6785064 5.125755  4.8259525 5.649309 ]]\n",
            "-------\n",
            "[[9.01 7.03 6.29 3.27]\n",
            " [4.52 5.77 4.87 6.09]\n",
            " [4.72 5.54 6.28 7.04]\n",
            " [8.88 6.62 5.04 4.72]]\n"
          ],
          "name": "stdout"
        }
      ]
    },
    {
      "cell_type": "code",
      "metadata": {
        "colab": {
          "base_uri": "https://localhost:8080/",
          "height": 362
        },
        "id": "OWV914dliCnJ",
        "outputId": "98e64144-36c9-48ab-9fb9-252f247711b0"
      },
      "source": [
        "temp_test=[]\n",
        "number=[]\n",
        "count=1\n",
        "\n",
        "for j in output_test[0]:\n",
        "  temp_test.append(j)\n",
        "  number.append(count)\n",
        "  count+=1\n",
        "  \n",
        "print(temp_test)\n",
        "print(number)\n",
        "\n",
        "temp_predict=[]\n",
        "number=[]\n",
        "count=1\n",
        "\n",
        "for j in data_prediksi[0]:\n",
        "  temp_predict.append(j)\n",
        "  number.append(count)\n",
        "  count+=1\n",
        "  \n",
        "print(temp_predict)\n",
        "print(number)\n",
        "\n",
        "# Grafik garis dari Suhu\n",
        "plt.plot(number,temp_predict,marker='o',color=\"yellow\")\n",
        "plt.plot(number,temp_test,marker='o',color=\"black\")\n",
        "plt.title('Lama Penyinaran')\n",
        "plt.ylabel('Jam')\n",
        "plt.xlabel('Bulan')\n",
        "plt.show()"
      ],
      "execution_count": null,
      "outputs": [
        {
          "output_type": "stream",
          "text": [
            "[9.01, 7.029999999999999, 6.290000000000001, 3.27]\n",
            "[1, 2, 3, 4]\n",
            "[8.925596, 9.312192, 9.440882, 8.72132]\n",
            "[1, 2, 3, 4]\n"
          ],
          "name": "stdout"
        },
        {
          "output_type": "display_data",
          "data": {
            "image/png": "[encoded data removed]",
            "text/plain": [
              "<Figure size 432x288 with 1 Axes>"
            ]
          },
          "metadata": {
            "tags": [],
            "needs_background": "light"
          }
        }
      ]
    },
    {
      "cell_type": "code",
      "metadata": {
        "colab": {
          "base_uri": "https://localhost:8080/",
          "height": 362
        },
        "id": "PQVpbhMviFQ-",
        "outputId": "55615d98-ec0f-492c-f991-bf9eacea692b"
      },
      "source": [
        "temp_test=[]\n",
        "number=[]\n",
        "count=1\n",
        "\n",
        "for j in output_test[1]:\n",
        "  temp_test.append(j)\n",
        "  number.append(count)\n",
        "  count+=1\n",
        "  \n",
        "print(temp_test)\n",
        "print(number)\n",
        "\n",
        "temp_predict=[]\n",
        "number=[]\n",
        "count=1\n",
        "\n",
        "for j in data_prediksi[1]:\n",
        "  temp_predict.append(j)\n",
        "  number.append(count)\n",
        "  count+=1\n",
        "  \n",
        "print(temp_predict)\n",
        "print(number)\n",
        "\n",
        "# Grafik garis dari Suhu\n",
        "plt.plot(number,temp_predict,marker='o',color=\"yellow\")\n",
        "plt.plot(number,temp_test,marker='o',color=\"black\")\n",
        "plt.title('Lama Penyinaran')\n",
        "plt.ylabel('Jam')\n",
        "plt.xlabel('Bulan')\n",
        "plt.show()"
      ],
      "execution_count": null,
      "outputs": [
        {
          "output_type": "stream",
          "text": [
            "[4.52, 5.77, 4.87, 6.09]\n",
            "[1, 2, 3, 4]\n",
            "[5.078325, 4.9122977, 5.6077194, 6.802455]\n",
            "[1, 2, 3, 4]\n"
          ],
          "name": "stdout"
        },
        {
          "output_type": "display_data",
          "data": {
            "image/png": "[encoded data removed]",
            "text/plain": [
              "<Figure size 432x288 with 1 Axes>"
            ]
          },
          "metadata": {
            "tags": [],
            "needs_background": "light"
          }
        }
      ]
    },
    {
      "cell_type": "code",
      "metadata": {
        "colab": {
          "base_uri": "https://localhost:8080/",
          "height": 362
        },
        "id": "b_C8GEkOiJ2H",
        "outputId": "22a8e2d3-32ee-4be3-89d3-13d0b4ec402a"
      },
      "source": [
        "temp_test=[]\n",
        "number=[]\n",
        "count=1\n",
        "\n",
        "for j in output_test[2]:\n",
        "  temp_test.append(j)\n",
        "  number.append(count)\n",
        "  count+=1\n",
        "  \n",
        "print(temp_test)\n",
        "print(number)\n",
        "\n",
        "temp_predict=[]\n",
        "number=[]\n",
        "count=1\n",
        "\n",
        "for j in data_prediksi[2]:\n",
        "  temp_predict.append(j)\n",
        "  number.append(count)\n",
        "  count+=1\n",
        "  \n",
        "print(temp_predict)\n",
        "print(number)\n",
        "\n",
        "# Grafik garis dari Suhu\n",
        "plt.plot(number,temp_predict,marker='o',color=\"yellow\")\n",
        "plt.plot(number,temp_test,marker='o',color=\"black\")\n",
        "plt.title('Lama Penyinaran')\n",
        "plt.ylabel('Jam')\n",
        "plt.xlabel('Bulan')\n",
        "plt.show()"
      ],
      "execution_count": null,
      "outputs": [
        {
          "output_type": "stream",
          "text": [
            "[4.72, 5.54, 6.28, 7.04]\n",
            "[1, 2, 3, 4]\n",
            "[5.2088795, 5.059204, 5.826251, 7.1231956]\n",
            "[1, 2, 3, 4]\n"
          ],
          "name": "stdout"
        },
        {
          "output_type": "display_data",
          "data": {
            "image/png": "[encoded data removed]",
            "text/plain": [
              "<Figure size 432x288 with 1 Axes>"
            ]
          },
          "metadata": {
            "tags": [],
            "needs_background": "light"
          }
        }
      ]
    },
    {
      "cell_type": "code",
      "metadata": {
        "colab": {
          "base_uri": "https://localhost:8080/",
          "height": 362
        },
        "id": "0RvaZ4PViS67",
        "outputId": "31553ed9-7c8b-4a18-e361-27de1368f028"
      },
      "source": [
        "temp_test=[]\n",
        "number=[]\n",
        "count=1\n",
        "\n",
        "for j in output_test[3]:\n",
        "  temp_test.append(j)\n",
        "  number.append(count)\n",
        "  count+=1\n",
        "  \n",
        "print(temp_test)\n",
        "print(number)\n",
        "\n",
        "temp_predict=[]\n",
        "number=[]\n",
        "count=1\n",
        "\n",
        "for j in data_prediksi[3]:\n",
        "  temp_predict.append(j)\n",
        "  number.append(count)\n",
        "  count+=1\n",
        "  \n",
        "print(temp_predict)\n",
        "print(number)\n",
        "\n",
        "# Grafik garis dari Suhu\n",
        "plt.plot(number,temp_predict,marker='o',color=\"yellow\")\n",
        "plt.plot(number,temp_test,marker='o',color=\"black\")\n",
        "plt.title('Lama Penyinaran')\n",
        "plt.ylabel('Jam')\n",
        "plt.xlabel('Bulan')\n",
        "plt.show()"
      ],
      "execution_count": null,
      "outputs": [
        {
          "output_type": "stream",
          "text": [
            "[8.88, 6.620000000000001, 5.04, 4.72]\n",
            "[1, 2, 3, 4]\n",
            "[6.6785064, 5.125755, 4.8259525, 5.649309]\n",
            "[1, 2, 3, 4]\n"
          ],
          "name": "stdout"
        },
        {
          "output_type": "display_data",
          "data": {
            "image/png": "[encoded data removed]",
            "text/plain": [
              "<Figure size 432x288 with 1 Axes>"
            ]
          },
          "metadata": {
            "tags": [],
            "needs_background": "light"
          }
        }
      ]
    }
  ]
}