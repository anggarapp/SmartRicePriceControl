{
  "nbformat": 4,
  "nbformat_minor": 0,
  "metadata": {
    "colab": {
      "name": "[Lama Penyinaran]ML-Model.ipynb",
      "provenance": [],
      "toc_visible": true,
      "authorship_tag": "ABX9TyOKHggblfnPD87Nj2c6Qsd6",
      "include_colab_link": true
    },
    "kernelspec": {
      "name": "python3",
      "display_name": "Python 3"
    },
    "language_info": {
      "name": "python"
    }
  },
  "cells": [
    {
      "cell_type": "markdown",
      "metadata": {
        "id": "view-in-github",
        "colab_type": "text"
      },
      "source": [
        "<a href=\"https://colab.research.google.com/github/u1-byte/SmartRicePriceControl/blob/main/Machine%20Learning/Code/%5BLama_Penyinaran%5DML_Model.ipynb\" target=\"_parent\"><img src=\"https://colab.research.google.com/assets/colab-badge.svg\" alt=\"Open In Colab\"/></a>"
      ]
    },
    {
      "cell_type": "code",
      "metadata": {
        "id": "kTPzSD0srTVw"
      },
      "source": [
        "#import library\n",
        "import tensorflow as tf\n",
        "import numpy as np\n",
        "import matplotlib.pyplot as plt\n",
        "from tensorflow import keras\n",
        "from google.colab import files\n",
        "import csv\n",
        "from sklearn.preprocessing import MinMaxScaler\n",
        "from sklearn.metrics import mean_squared_error"
      ],
      "execution_count": 2,
      "outputs": []
    },
    {
      "cell_type": "code",
      "metadata": {
        "colab": {
          "resources": {
            "http://localhost:8080/nbextensions/google.colab/files.js": {
              "data": "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",
              "ok": true,
              "headers": [
                [
                  "content-type",
                  "application/javascript"
                ]
              ],
              "status": 200,
              "status_text": ""
            }
          },
          "base_uri": "https://localhost:8080/",
          "height": 73
        },
        "id": "9pW1P_9fTl4j",
        "outputId": "30174bc8-cf5e-4d7e-8b43-16121e927c9b"
      },
      "source": [
        "# Upload file dataset dari lokal\n",
        "uploaded = files.upload()"
      ],
      "execution_count": 3,
      "outputs": [
        {
          "output_type": "display_data",
          "data": {
            "text/html": [
              "\n",
              "     <input type=\"file\" id=\"files-3beb89fd-691f-4b34-96c5-5e7274f98335\" name=\"files[]\" multiple disabled\n",
              "        style=\"border:none\" />\n",
              "     <output id=\"result-3beb89fd-691f-4b34-96c5-5e7274f98335\">\n",
              "      Upload widget is only available when the cell has been executed in the\n",
              "      current browser session. Please rerun this cell to enable.\n",
              "      </output>\n",
              "      <script src=\"/nbextensions/google.colab/files.js\"></script> "
            ],
            "text/plain": [
              "<IPython.core.display.HTML object>"
            ]
          },
          "metadata": {
            "tags": []
          }
        },
        {
          "output_type": "stream",
          "text": [
            "Saving Cuaca.csv to Cuaca.csv\n"
          ],
          "name": "stdout"
        }
      ]
    },
    {
      "cell_type": "markdown",
      "metadata": {
        "id": "4j7-4-QStoQc"
      },
      "source": [
        "# **Provinsi Jatim**"
      ]
    },
    {
      "cell_type": "code",
      "metadata": {
        "id": "Ctdpy9NotCw0"
      },
      "source": [
        "# Input data Jatim\n",
        "input_lama_penyinaran_ratarata = []\n",
        "number_of_input = []\n",
        "number=1\n",
        "\n",
        "# Baca file.csv\n",
        "with open('/content/Cuaca.csv') as csv_file:\n",
        "  csv_reader = csv.reader(csv_file, delimiter=',')\n",
        "  next(csv_reader)\n",
        "  for row in csv_reader:\n",
        "    number_of_input.append(number)\n",
        "    input_lama_penyinaran_ratarata.append(float(row[4]))\n",
        "    number+=1"
      ],
      "execution_count": 860,
      "outputs": []
    },
    {
      "cell_type": "code",
      "metadata": {
        "colab": {
          "base_uri": "https://localhost:8080/",
          "height": 295
        },
        "id": "a5bHiYtKtQiA",
        "outputId": "3b0d93f8-efec-4361-9363-e5e62dc213ac"
      },
      "source": [
        "# Grafik garis dari Suhu\n",
        "plt.plot(number_of_input,input_lama_penyinaran_ratarata,marker='o')\n",
        "plt.title('Lama Penyinaran (2018 - 2020)')\n",
        "plt.ylabel('Jam')\n",
        "plt.xlabel('Bulan')\n",
        "plt.show()"
      ],
      "execution_count": 861,
      "outputs": [
        {
          "output_type": "display_data",
          "data": {
            "image/png": "[encoded data removed]",
            "text/plain": [
              "<Figure size 432x288 with 1 Axes>"
            ]
          },
          "metadata": {
            "tags": [],
            "needs_background": "light"
          }
        }
      ]
    },
    {
      "cell_type": "code",
      "metadata": {
        "colab": {
          "base_uri": "https://localhost:8080/"
        },
        "id": "hl7HExITrv6v",
        "outputId": "8011f862-b759-43ca-c4f4-9e31051e1008"
      },
      "source": [
        "# Input dari data pada database\n",
        "dataset = []\n",
        "counter=0\n",
        "\n",
        "# Baca file.csv\n",
        "with open('/content/Cuaca.csv') as csv_file:\n",
        "  csv_reader = csv.reader(csv_file, delimiter=',')\n",
        "  next(csv_reader)\n",
        "  for row in csv_reader:\n",
        "    dataset.append([])\n",
        "    dataset[counter].append(float(row[4]))\n",
        "    counter+=1\n",
        "\n",
        "dataset = np.array(dataset)\n",
        "\n",
        "print(dataset)"
      ],
      "execution_count": 862,
      "outputs": [
        {
          "output_type": "stream",
          "text": [
            "[[3.44]\n",
            " [5.41]\n",
            " [5.2 ]\n",
            " [8.14]\n",
            " [8.11]\n",
            " [8.19]\n",
            " [9.04]\n",
            " [8.95]\n",
            " [8.  ]\n",
            " [8.73]\n",
            " [6.35]\n",
            " [3.76]\n",
            " [4.52]\n",
            " [5.77]\n",
            " [4.87]\n",
            " [6.09]\n",
            " [8.59]\n",
            " [8.25]\n",
            " [8.6 ]\n",
            " [9.4 ]\n",
            " [9.27]\n",
            " [9.47]\n",
            " [8.88]\n",
            " [6.62]\n",
            " [5.04]\n",
            " [4.72]\n",
            " [5.54]\n",
            " [6.28]\n",
            " [7.04]\n",
            " [7.42]\n",
            " [8.25]\n",
            " [8.65]\n",
            " [9.01]\n",
            " [7.03]\n",
            " [6.29]\n",
            " [3.27]]\n"
          ],
          "name": "stdout"
        }
      ]
    },
    {
      "cell_type": "code",
      "metadata": {
        "id": "dcyiZXY0UANG"
      },
      "source": [
        "# Normalisasi dataset\n",
        "scaler = MinMaxScaler()\n",
        "dataset = scaler.fit_transform(dataset)"
      ],
      "execution_count": 863,
      "outputs": []
    },
    {
      "cell_type": "code",
      "metadata": {
        "colab": {
          "base_uri": "https://localhost:8080/"
        },
        "id": "RfJp46NhUFht",
        "outputId": "819e9b50-b426-4679-ee61-786a7511caaf"
      },
      "source": [
        "# Fungsi membuat sequence\n",
        "def buat_sequences(dataset, window_size):\n",
        "    input = []\n",
        "    output = []\n",
        "\n",
        "    for i in range(len(dataset)-window_size+1):\n",
        "        window = dataset[i:(i+window_size-4), 0]\n",
        "        input.append(window)\n",
        "        output.append(dataset[(i+window_size-1):i+window_size, 0])\n",
        "    return np.array(input),np.array(output)\n",
        "\n",
        "window_size = 8\n",
        "dataInput, dataOutput = buat_sequences(dataset, window_size)\n",
        "\n",
        "print(len(dataInput))\n",
        "print(len(dataOutput))"
      ],
      "execution_count": 864,
      "outputs": [
        {
          "output_type": "stream",
          "text": [
            "29\n",
            "29\n"
          ],
          "name": "stdout"
        }
      ]
    },
    {
      "cell_type": "code",
      "metadata": {
        "colab": {
          "base_uri": "https://localhost:8080/"
        },
        "id": "-UwcXJqMir2A",
        "outputId": "c5a5c311-5c65-4ba5-c549-fe22b3eeeef9"
      },
      "source": [
        "split_valid = 23\n",
        "input_train, input_test = dataInput[:split_valid,:], dataInput[split_valid:,:]\n",
        "output_train, output_test = dataOutput[:split_valid,:], dataOutput[split_valid:,:]\n",
        "\n",
        "print(len(input_train))\n",
        "print(len(output_train))"
      ],
      "execution_count": 865,
      "outputs": [
        {
          "output_type": "stream",
          "text": [
            "23\n",
            "23\n"
          ],
          "name": "stdout"
        }
      ]
    },
    {
      "cell_type": "code",
      "metadata": {
        "colab": {
          "base_uri": "https://localhost:8080/"
        },
        "id": "AS2MgD_XjbQl",
        "outputId": "34da7b3f-e693-4b62-a55d-730ec0eeaf77"
      },
      "source": [
        "print(input_test)\n",
        "print(\"------\")\n",
        "print(output_test)"
      ],
      "execution_count": 866,
      "outputs": [
        {
          "output_type": "stream",
          "text": [
            "[[0.54032258 0.28548387 0.23387097 0.36612903]\n",
            " [0.28548387 0.23387097 0.36612903 0.48548387]\n",
            " [0.23387097 0.36612903 0.48548387 0.60806452]\n",
            " [0.36612903 0.48548387 0.60806452 0.66935484]\n",
            " [0.48548387 0.60806452 0.66935484 0.80322581]\n",
            " [0.60806452 0.66935484 0.80322581 0.86774194]]\n",
            "------\n",
            "[[0.80322581]\n",
            " [0.86774194]\n",
            " [0.92580645]\n",
            " [0.60645161]\n",
            " [0.48709677]\n",
            " [0.        ]]\n"
          ],
          "name": "stdout"
        }
      ]
    },
    {
      "cell_type": "code",
      "metadata": {
        "id": "eXAW51AAUNSL"
      },
      "source": [
        "# Ubah dimensinya untuk disesuaikan dengan model\n",
        "input_train = input_train.reshape((input_train.shape[0], 1, 1, 1, window_size-4))\n",
        "input_test = input_test.reshape((input_test.shape[0], 1, 1, 1, window_size-4))"
      ],
      "execution_count": 867,
      "outputs": []
    },
    {
      "cell_type": "code",
      "metadata": {
        "colab": {
          "base_uri": "https://localhost:8080/"
        },
        "id": "8tHcz4U4b07Z",
        "outputId": "b55d62eb-9490-4d92-fee9-7b0dcc8ea7f8"
      },
      "source": [
        "print(input_test)"
      ],
      "execution_count": 868,
      "outputs": [
        {
          "output_type": "stream",
          "text": [
            "[[[[[0.54032258 0.28548387 0.23387097 0.36612903]]]]\n",
            "\n",
            "\n",
            "\n",
            " [[[[0.28548387 0.23387097 0.36612903 0.48548387]]]]\n",
            "\n",
            "\n",
            "\n",
            " [[[[0.23387097 0.36612903 0.48548387 0.60806452]]]]\n",
            "\n",
            "\n",
            "\n",
            " [[[[0.36612903 0.48548387 0.60806452 0.66935484]]]]\n",
            "\n",
            "\n",
            "\n",
            " [[[[0.48548387 0.60806452 0.66935484 0.80322581]]]]\n",
            "\n",
            "\n",
            "\n",
            " [[[[0.60806452 0.66935484 0.80322581 0.86774194]]]]]\n"
          ],
          "name": "stdout"
        }
      ]
    },
    {
      "cell_type": "code",
      "metadata": {
        "colab": {
          "base_uri": "https://localhost:8080/"
        },
        "id": "AVLM4b_omI8n",
        "outputId": "0537bf0e-a283-406a-83a9-f327dd31cdd9"
      },
      "source": [
        "print(output_test)"
      ],
      "execution_count": 869,
      "outputs": [
        {
          "output_type": "stream",
          "text": [
            "[[0.80322581]\n",
            " [0.86774194]\n",
            " [0.92580645]\n",
            " [0.60645161]\n",
            " [0.48709677]\n",
            " [0.        ]]\n"
          ],
          "name": "stdout"
        }
      ]
    },
    {
      "cell_type": "code",
      "metadata": {
        "colab": {
          "base_uri": "https://localhost:8080/"
        },
        "id": "xnjsFuOoy491",
        "outputId": "99548a1c-a9f6-46e4-f661-0006352e5940"
      },
      "source": [
        "#model machine learning\n",
        "model = tf.keras.models.Sequential([\n",
        "  tf.keras.layers.ConvLSTM2D(filters=64, kernel_size=(1,1), activation='relu', input_shape=(1, 1, 1, window_size-4)),    \n",
        "  tf.keras.layers.Flatten(),\n",
        "  tf.keras.layers.Dense(4096),\n",
        "  tf.keras.layers.Dense(16),\n",
        "  tf.keras.layers.Dense(1)\n",
        "])\n",
        "\n",
        "#compile the model\n",
        "model.compile(optimizer='adam', loss='mean_squared_error',metrics=[\"mae\"])\n",
        "\n",
        "model.summary()\n",
        "\n",
        "#fit the model\n",
        "fitting_history = model.fit(input_train, output_train, validation_data=(input_test, output_test), verbose=2, epochs=100)"
      ],
      "execution_count": 870,
      "outputs": [
        {
          "output_type": "stream",
          "text": [
            "Model: \"sequential_43\"\n",
            "_________________________________________________________________\n",
            "Layer (type)                 Output Shape              Param #   \n",
            "=================================================================\n",
            "conv_lst_m2d_44 (ConvLSTM2D) (None, 1, 1, 64)          17664     \n",
            "_________________________________________________________________\n",
            "flatten_43 (Flatten)         (None, 64)                0         \n",
            "_________________________________________________________________\n",
            "dense_95 (Dense)             (None, 4096)              266240    \n",
            "_________________________________________________________________\n",
            "dense_96 (Dense)             (None, 16)                65552     \n",
            "_________________________________________________________________\n",
            "dense_97 (Dense)             (None, 1)                 17        \n",
            "=================================================================\n",
            "Total params: 349,473\n",
            "Trainable params: 349,473\n",
            "Non-trainable params: 0\n",
            "_________________________________________________________________\n",
            "Epoch 1/100\n",
            "1/1 - 3s - loss: 0.4600 - mae: 0.6169 - val_loss: 0.2615 - val_mae: 0.4739\n",
            "Epoch 2/100\n",
            "1/1 - 0s - loss: 0.2138 - mae: 0.3807 - val_loss: 0.1609 - val_mae: 0.3503\n",
            "Epoch 3/100\n",
            "1/1 - 0s - loss: 0.1322 - mae: 0.3299 - val_loss: 0.1716 - val_mae: 0.3414\n",
            "Epoch 4/100\n",
            "1/1 - 0s - loss: 0.1875 - mae: 0.3623 - val_loss: 0.1819 - val_mae: 0.3431\n",
            "Epoch 5/100\n",
            "1/1 - 0s - loss: 0.2052 - mae: 0.3694 - val_loss: 0.1622 - val_mae: 0.3328\n",
            "Epoch 6/100\n",
            "1/1 - 0s - loss: 0.1653 - mae: 0.3440 - val_loss: 0.1466 - val_mae: 0.3194\n",
            "Epoch 7/100\n",
            "1/1 - 0s - loss: 0.1264 - mae: 0.3198 - val_loss: 0.1509 - val_mae: 0.3390\n",
            "Epoch 8/100\n",
            "1/1 - 0s - loss: 0.1153 - mae: 0.3044 - val_loss: 0.1665 - val_mae: 0.3616\n",
            "Epoch 9/100\n",
            "1/1 - 0s - loss: 0.1244 - mae: 0.3025 - val_loss: 0.1755 - val_mae: 0.3795\n",
            "Epoch 10/100\n",
            "1/1 - 0s - loss: 0.1327 - mae: 0.3112 - val_loss: 0.1697 - val_mae: 0.3733\n",
            "Epoch 11/100\n",
            "1/1 - 0s - loss: 0.1282 - mae: 0.3059 - val_loss: 0.1529 - val_mae: 0.3477\n",
            "Epoch 12/100\n",
            "1/1 - 0s - loss: 0.1130 - mae: 0.2893 - val_loss: 0.1334 - val_mae: 0.3175\n",
            "Epoch 13/100\n",
            "1/1 - 0s - loss: 0.0951 - mae: 0.2672 - val_loss: 0.1195 - val_mae: 0.2945\n",
            "Epoch 14/100\n",
            "1/1 - 0s - loss: 0.0826 - mae: 0.2564 - val_loss: 0.1153 - val_mae: 0.2790\n",
            "Epoch 15/100\n",
            "1/1 - 0s - loss: 0.0792 - mae: 0.2486 - val_loss: 0.1187 - val_mae: 0.2782\n",
            "Epoch 16/100\n",
            "1/1 - 0s - loss: 0.0820 - mae: 0.2410 - val_loss: 0.1229 - val_mae: 0.2753\n",
            "Epoch 17/100\n",
            "1/1 - 0s - loss: 0.0839 - mae: 0.2365 - val_loss: 0.1216 - val_mae: 0.2704\n",
            "Epoch 18/100\n",
            "1/1 - 0s - loss: 0.0796 - mae: 0.2279 - val_loss: 0.1139 - val_mae: 0.2640\n",
            "Epoch 19/100\n",
            "1/1 - 0s - loss: 0.0695 - mae: 0.2151 - val_loss: 0.1038 - val_mae: 0.2568\n",
            "Epoch 20/100\n",
            "1/1 - 0s - loss: 0.0587 - mae: 0.2026 - val_loss: 0.0950 - val_mae: 0.2491\n",
            "Epoch 21/100\n",
            "1/1 - 0s - loss: 0.0514 - mae: 0.1935 - val_loss: 0.0891 - val_mae: 0.2413\n",
            "Epoch 22/100\n",
            "1/1 - 0s - loss: 0.0483 - mae: 0.1879 - val_loss: 0.0854 - val_mae: 0.2398\n",
            "Epoch 23/100\n",
            "1/1 - 0s - loss: 0.0475 - mae: 0.1852 - val_loss: 0.0819 - val_mae: 0.2360\n",
            "Epoch 24/100\n",
            "1/1 - 0s - loss: 0.0460 - mae: 0.1813 - val_loss: 0.0780 - val_mae: 0.2270\n",
            "Epoch 25/100\n",
            "1/1 - 0s - loss: 0.0420 - mae: 0.1718 - val_loss: 0.0751 - val_mae: 0.2194\n",
            "Epoch 26/100\n",
            "1/1 - 0s - loss: 0.0362 - mae: 0.1560 - val_loss: 0.0752 - val_mae: 0.2157\n",
            "Epoch 27/100\n",
            "1/1 - 0s - loss: 0.0308 - mae: 0.1425 - val_loss: 0.0797 - val_mae: 0.2119\n",
            "Epoch 28/100\n",
            "1/1 - 0s - loss: 0.0279 - mae: 0.1345 - val_loss: 0.0865 - val_mae: 0.2072\n",
            "Epoch 29/100\n",
            "1/1 - 0s - loss: 0.0277 - mae: 0.1297 - val_loss: 0.0901 - val_mae: 0.2011\n",
            "Epoch 30/100\n",
            "1/1 - 0s - loss: 0.0274 - mae: 0.1289 - val_loss: 0.0864 - val_mae: 0.1936\n",
            "Epoch 31/100\n",
            "1/1 - 0s - loss: 0.0249 - mae: 0.1222 - val_loss: 0.0764 - val_mae: 0.1849\n",
            "Epoch 32/100\n",
            "1/1 - 0s - loss: 0.0214 - mae: 0.1157 - val_loss: 0.0647 - val_mae: 0.1757\n",
            "Epoch 33/100\n",
            "1/1 - 0s - loss: 0.0197 - mae: 0.1150 - val_loss: 0.0554 - val_mae: 0.1669\n",
            "Epoch 34/100\n",
            "1/1 - 0s - loss: 0.0205 - mae: 0.1196 - val_loss: 0.0500 - val_mae: 0.1594\n",
            "Epoch 35/100\n",
            "1/1 - 0s - loss: 0.0215 - mae: 0.1213 - val_loss: 0.0484 - val_mae: 0.1535\n",
            "Epoch 36/100\n",
            "1/1 - 0s - loss: 0.0211 - mae: 0.1190 - val_loss: 0.0509 - val_mae: 0.1493\n",
            "Epoch 37/100\n",
            "1/1 - 0s - loss: 0.0197 - mae: 0.1144 - val_loss: 0.0568 - val_mae: 0.1467\n",
            "Epoch 38/100\n",
            "1/1 - 0s - loss: 0.0192 - mae: 0.1154 - val_loss: 0.0634 - val_mae: 0.1627\n",
            "Epoch 39/100\n",
            "1/1 - 0s - loss: 0.0202 - mae: 0.1188 - val_loss: 0.0655 - val_mae: 0.1691\n",
            "Epoch 40/100\n",
            "1/1 - 0s - loss: 0.0210 - mae: 0.1199 - val_loss: 0.0611 - val_mae: 0.1599\n",
            "Epoch 41/100\n",
            "1/1 - 0s - loss: 0.0201 - mae: 0.1184 - val_loss: 0.0533 - val_mae: 0.1430\n",
            "Epoch 42/100\n",
            "1/1 - 0s - loss: 0.0188 - mae: 0.1147 - val_loss: 0.0465 - val_mae: 0.1384\n",
            "Epoch 43/100\n",
            "1/1 - 0s - loss: 0.0185 - mae: 0.1110 - val_loss: 0.0431 - val_mae: 0.1391\n",
            "Epoch 44/100\n",
            "1/1 - 0s - loss: 0.0188 - mae: 0.1114 - val_loss: 0.0431 - val_mae: 0.1411\n",
            "Epoch 45/100\n",
            "1/1 - 0s - loss: 0.0184 - mae: 0.1105 - val_loss: 0.0460 - val_mae: 0.1445\n",
            "Epoch 46/100\n",
            "1/1 - 0s - loss: 0.0174 - mae: 0.1086 - val_loss: 0.0509 - val_mae: 0.1487\n",
            "Epoch 47/100\n",
            "1/1 - 0s - loss: 0.0166 - mae: 0.1063 - val_loss: 0.0561 - val_mae: 0.1530\n",
            "Epoch 48/100\n",
            "1/1 - 0s - loss: 0.0166 - mae: 0.1057 - val_loss: 0.0590 - val_mae: 0.1569\n",
            "Epoch 49/100\n",
            "1/1 - 0s - loss: 0.0166 - mae: 0.1053 - val_loss: 0.0585 - val_mae: 0.1599\n",
            "Epoch 50/100\n",
            "1/1 - 0s - loss: 0.0161 - mae: 0.1035 - val_loss: 0.0558 - val_mae: 0.1623\n",
            "Epoch 51/100\n",
            "1/1 - 0s - loss: 0.0155 - mae: 0.1025 - val_loss: 0.0530 - val_mae: 0.1641\n",
            "Epoch 52/100\n",
            "1/1 - 0s - loss: 0.0153 - mae: 0.1017 - val_loss: 0.0516 - val_mae: 0.1657\n",
            "Epoch 53/100\n",
            "1/1 - 0s - loss: 0.0155 - mae: 0.1040 - val_loss: 0.0520 - val_mae: 0.1675\n",
            "Epoch 54/100\n",
            "1/1 - 0s - loss: 0.0154 - mae: 0.1041 - val_loss: 0.0542 - val_mae: 0.1695\n",
            "Epoch 55/100\n",
            "1/1 - 0s - loss: 0.0150 - mae: 0.1017 - val_loss: 0.0575 - val_mae: 0.1717\n",
            "Epoch 56/100\n",
            "1/1 - 0s - loss: 0.0147 - mae: 0.0993 - val_loss: 0.0607 - val_mae: 0.1734\n",
            "Epoch 57/100\n",
            "1/1 - 0s - loss: 0.0147 - mae: 0.0982 - val_loss: 0.0621 - val_mae: 0.1743\n",
            "Epoch 58/100\n",
            "1/1 - 0s - loss: 0.0146 - mae: 0.0975 - val_loss: 0.0612 - val_mae: 0.1744\n",
            "Epoch 59/100\n",
            "1/1 - 0s - loss: 0.0143 - mae: 0.0969 - val_loss: 0.0590 - val_mae: 0.1739\n",
            "Epoch 60/100\n",
            "1/1 - 0s - loss: 0.0141 - mae: 0.0969 - val_loss: 0.0571 - val_mae: 0.1731\n",
            "Epoch 61/100\n",
            "1/1 - 0s - loss: 0.0141 - mae: 0.0971 - val_loss: 0.0562 - val_mae: 0.1723\n",
            "Epoch 62/100\n",
            "1/1 - 0s - loss: 0.0140 - mae: 0.0968 - val_loss: 0.0566 - val_mae: 0.1716\n",
            "Epoch 63/100\n",
            "1/1 - 0s - loss: 0.0138 - mae: 0.0958 - val_loss: 0.0579 - val_mae: 0.1710\n",
            "Epoch 64/100\n",
            "1/1 - 0s - loss: 0.0136 - mae: 0.0948 - val_loss: 0.0590 - val_mae: 0.1701\n",
            "Epoch 65/100\n",
            "1/1 - 0s - loss: 0.0136 - mae: 0.0938 - val_loss: 0.0588 - val_mae: 0.1688\n",
            "Epoch 66/100\n",
            "1/1 - 0s - loss: 0.0135 - mae: 0.0933 - val_loss: 0.0572 - val_mae: 0.1670\n",
            "Epoch 67/100\n",
            "1/1 - 0s - loss: 0.0133 - mae: 0.0927 - val_loss: 0.0548 - val_mae: 0.1653\n",
            "Epoch 68/100\n",
            "1/1 - 0s - loss: 0.0131 - mae: 0.0923 - val_loss: 0.0529 - val_mae: 0.1639\n",
            "Epoch 69/100\n",
            "1/1 - 0s - loss: 0.0131 - mae: 0.0920 - val_loss: 0.0520 - val_mae: 0.1630\n",
            "Epoch 70/100\n",
            "1/1 - 0s - loss: 0.0130 - mae: 0.0914 - val_loss: 0.0524 - val_mae: 0.1626\n",
            "Epoch 71/100\n",
            "1/1 - 0s - loss: 0.0128 - mae: 0.0906 - val_loss: 0.0534 - val_mae: 0.1625\n",
            "Epoch 72/100\n",
            "1/1 - 0s - loss: 0.0126 - mae: 0.0903 - val_loss: 0.0543 - val_mae: 0.1625\n",
            "Epoch 73/100\n",
            "1/1 - 0s - loss: 0.0126 - mae: 0.0904 - val_loss: 0.0544 - val_mae: 0.1622\n",
            "Epoch 74/100\n",
            "1/1 - 0s - loss: 0.0125 - mae: 0.0901 - val_loss: 0.0535 - val_mae: 0.1619\n",
            "Epoch 75/100\n",
            "1/1 - 0s - loss: 0.0123 - mae: 0.0894 - val_loss: 0.0522 - val_mae: 0.1613\n",
            "Epoch 76/100\n",
            "1/1 - 0s - loss: 0.0122 - mae: 0.0887 - val_loss: 0.0515 - val_mae: 0.1609\n",
            "Epoch 77/100\n",
            "1/1 - 0s - loss: 0.0122 - mae: 0.0882 - val_loss: 0.0515 - val_mae: 0.1608\n",
            "Epoch 78/100\n",
            "1/1 - 0s - loss: 0.0121 - mae: 0.0879 - val_loss: 0.0520 - val_mae: 0.1610\n",
            "Epoch 79/100\n",
            "1/1 - 0s - loss: 0.0120 - mae: 0.0877 - val_loss: 0.0526 - val_mae: 0.1613\n",
            "Epoch 80/100\n",
            "1/1 - 0s - loss: 0.0119 - mae: 0.0875 - val_loss: 0.0528 - val_mae: 0.1616\n",
            "Epoch 81/100\n",
            "1/1 - 0s - loss: 0.0118 - mae: 0.0872 - val_loss: 0.0525 - val_mae: 0.1619\n",
            "Epoch 82/100\n",
            "1/1 - 0s - loss: 0.0117 - mae: 0.0866 - val_loss: 0.0520 - val_mae: 0.1622\n",
            "Epoch 83/100\n",
            "1/1 - 0s - loss: 0.0117 - mae: 0.0859 - val_loss: 0.0519 - val_mae: 0.1626\n",
            "Epoch 84/100\n",
            "1/1 - 0s - loss: 0.0116 - mae: 0.0853 - val_loss: 0.0523 - val_mae: 0.1631\n",
            "Epoch 85/100\n",
            "1/1 - 0s - loss: 0.0115 - mae: 0.0851 - val_loss: 0.0529 - val_mae: 0.1635\n",
            "Epoch 86/100\n",
            "1/1 - 0s - loss: 0.0114 - mae: 0.0850 - val_loss: 0.0534 - val_mae: 0.1637\n",
            "Epoch 87/100\n",
            "1/1 - 0s - loss: 0.0114 - mae: 0.0850 - val_loss: 0.0530 - val_mae: 0.1633\n",
            "Epoch 88/100\n",
            "1/1 - 0s - loss: 0.0113 - mae: 0.0845 - val_loss: 0.0520 - val_mae: 0.1627\n",
            "Epoch 89/100\n",
            "1/1 - 0s - loss: 0.0112 - mae: 0.0838 - val_loss: 0.0511 - val_mae: 0.1620\n",
            "Epoch 90/100\n",
            "1/1 - 0s - loss: 0.0111 - mae: 0.0831 - val_loss: 0.0505 - val_mae: 0.1615\n",
            "Epoch 91/100\n",
            "1/1 - 0s - loss: 0.0111 - mae: 0.0826 - val_loss: 0.0506 - val_mae: 0.1612\n",
            "Epoch 92/100\n",
            "1/1 - 0s - loss: 0.0110 - mae: 0.0825 - val_loss: 0.0512 - val_mae: 0.1612\n",
            "Epoch 93/100\n",
            "1/1 - 0s - loss: 0.0109 - mae: 0.0827 - val_loss: 0.0516 - val_mae: 0.1614\n",
            "Epoch 94/100\n",
            "1/1 - 0s - loss: 0.0109 - mae: 0.0829 - val_loss: 0.0513 - val_mae: 0.1611\n",
            "Epoch 95/100\n",
            "1/1 - 0s - loss: 0.0108 - mae: 0.0825 - val_loss: 0.0507 - val_mae: 0.1606\n",
            "Epoch 96/100\n",
            "1/1 - 0s - loss: 0.0107 - mae: 0.0819 - val_loss: 0.0503 - val_mae: 0.1603\n",
            "Epoch 97/100\n",
            "1/1 - 0s - loss: 0.0107 - mae: 0.0816 - val_loss: 0.0504 - val_mae: 0.1602\n",
            "Epoch 98/100\n",
            "1/1 - 0s - loss: 0.0106 - mae: 0.0816 - val_loss: 0.0505 - val_mae: 0.1602\n",
            "Epoch 99/100\n",
            "1/1 - 0s - loss: 0.0106 - mae: 0.0816 - val_loss: 0.0504 - val_mae: 0.1600\n",
            "Epoch 100/100\n",
            "1/1 - 0s - loss: 0.0105 - mae: 0.0814 - val_loss: 0.0501 - val_mae: 0.1598\n"
          ],
          "name": "stdout"
        }
      ]
    },
    {
      "cell_type": "code",
      "metadata": {
        "colab": {
          "base_uri": "https://localhost:8080/",
          "height": 314
        },
        "id": "A1YC68UB2oBC",
        "outputId": "392a7de3-4d37-41fe-da08-708d16bab55e"
      },
      "source": [
        "# Grafik training dan validation loss\n",
        "training_loss=fitting_history.history['loss']\n",
        "validation_loss=fitting_history.history['val_loss']\n",
        "epochs=range(len(training_loss))\n",
        "\n",
        "plt.plot(epochs, training_loss, 'r', label=\"Training Loss\")\n",
        "plt.plot(epochs, validation_loss, 'b', label=\"Validation Loss\")\n",
        "plt.title('Training and validation loss')\n",
        "plt.legend(loc=0)\n",
        "plt.figure()"
      ],
      "execution_count": 871,
      "outputs": [
        {
          "output_type": "execute_result",
          "data": {
            "text/plain": [
              "<Figure size 432x288 with 0 Axes>"
            ]
          },
          "metadata": {
            "tags": []
          },
          "execution_count": 871
        },
        {
          "output_type": "display_data",
          "data": {
            "image/png": "[encoded data removed]",
            "text/plain": [
              "<Figure size 432x288 with 1 Axes>"
            ]
          },
          "metadata": {
            "tags": [],
            "needs_background": "light"
          }
        },
        {
          "output_type": "display_data",
          "data": {
            "text/plain": [
              "<Figure size 432x288 with 0 Axes>"
            ]
          },
          "metadata": {
            "tags": []
          }
        }
      ]
    },
    {
      "cell_type": "code",
      "metadata": {
        "colab": {
          "base_uri": "https://localhost:8080/",
          "height": 314
        },
        "id": "qIVAhEqD2phA",
        "outputId": "98936948-5907-497f-bb35-d172c95368d9"
      },
      "source": [
        "# Grafik training and validation MAE\n",
        "training_mae=fitting_history.history['mae']\n",
        "validation_mae=fitting_history.history['val_mae']\n",
        "epochs=range(len(training_mae))\n",
        "\n",
        "plt.plot(epochs, training_mae, 'r', label=\"Training MAE\")\n",
        "plt.plot(epochs, validation_mae, 'b', label=\"Validation MAE\")\n",
        "plt.title('Training and validation MAE')\n",
        "plt.legend(loc=0)\n",
        "plt.figure()"
      ],
      "execution_count": 872,
      "outputs": [
        {
          "output_type": "execute_result",
          "data": {
            "text/plain": [
              "<Figure size 432x288 with 0 Axes>"
            ]
          },
          "metadata": {
            "tags": []
          },
          "execution_count": 872
        },
        {
          "output_type": "display_data",
          "data": {
            "image/png": "[encoded data removed]",
            "text/plain": [
              "<Figure size 432x288 with 1 Axes>"
            ]
          },
          "metadata": {
            "tags": [],
            "needs_background": "light"
          }
        },
        {
          "output_type": "display_data",
          "data": {
            "text/plain": [
              "<Figure size 432x288 with 0 Axes>"
            ]
          },
          "metadata": {
            "tags": []
          }
        }
      ]
    },
    {
      "cell_type": "code",
      "metadata": {
        "id": "Wpn2w9R-5LSY"
      },
      "source": [
        "# Simpan model\n",
        "model.save('model-lamapenyinaran.h5')"
      ],
      "execution_count": 880,
      "outputs": []
    },
    {
      "cell_type": "markdown",
      "metadata": {
        "id": "j0gtqKfD5N6d"
      },
      "source": [
        "# **Testing Model**"
      ]
    },
    {
      "cell_type": "code",
      "metadata": {
        "colab": {
          "base_uri": "https://localhost:8080/"
        },
        "id": "TmfycUxr1NJa",
        "outputId": "576038fa-5bd9-44b2-d46e-c85a4da87590"
      },
      "source": [
        "print(input_test)"
      ],
      "execution_count": 874,
      "outputs": [
        {
          "output_type": "stream",
          "text": [
            "[[[[[0.54032258 0.28548387 0.23387097 0.36612903]]]]\n",
            "\n",
            "\n",
            "\n",
            " [[[[0.28548387 0.23387097 0.36612903 0.48548387]]]]\n",
            "\n",
            "\n",
            "\n",
            " [[[[0.23387097 0.36612903 0.48548387 0.60806452]]]]\n",
            "\n",
            "\n",
            "\n",
            " [[[[0.36612903 0.48548387 0.60806452 0.66935484]]]]\n",
            "\n",
            "\n",
            "\n",
            " [[[[0.48548387 0.60806452 0.66935484 0.80322581]]]]\n",
            "\n",
            "\n",
            "\n",
            " [[[[0.60806452 0.66935484 0.80322581 0.86774194]]]]]\n"
          ],
          "name": "stdout"
        }
      ]
    },
    {
      "cell_type": "code",
      "metadata": {
        "id": "o_3DBMeZ5gdD"
      },
      "source": [
        "# Load the model\n",
        "model = tf.keras.models.load_model('model-lamapenyinaran.h5')"
      ],
      "execution_count": 875,
      "outputs": []
    },
    {
      "cell_type": "code",
      "metadata": {
        "id": "UJ6BsbEZUVFr"
      },
      "source": [
        "#Prediksi Data\n",
        "data_prediksi = model.predict(input_test)"
      ],
      "execution_count": 876,
      "outputs": []
    },
    {
      "cell_type": "code",
      "metadata": {
        "colab": {
          "base_uri": "https://localhost:8080/"
        },
        "id": "_gyJGODddK7S",
        "outputId": "3c3e4308-4d62-4560-8eba-1e549a42c02c"
      },
      "source": [
        "print(data_prediksi)\n",
        "print(\"-------\")\n",
        "print(output_test)"
      ],
      "execution_count": 877,
      "outputs": [
        {
          "output_type": "stream",
          "text": [
            "[[0.7642388 ]\n",
            " [0.78087664]\n",
            " [0.86335146]\n",
            " [0.7234256 ]\n",
            " [0.6399865 ]\n",
            " [0.5005775 ]]\n",
            "-------\n",
            "[[0.80322581]\n",
            " [0.86774194]\n",
            " [0.92580645]\n",
            " [0.60645161]\n",
            " [0.48709677]\n",
            " [0.        ]]\n"
          ],
          "name": "stdout"
        }
      ]
    },
    {
      "cell_type": "code",
      "metadata": {
        "id": "jiFXCtfyUYA0"
      },
      "source": [
        "# Inverse transform data min max\n",
        "data_prediksi = scaler.inverse_transform(data_prediksi)\n",
        "output_test = scaler.inverse_transform(output_test)"
      ],
      "execution_count": 878,
      "outputs": []
    },
    {
      "cell_type": "code",
      "metadata": {
        "colab": {
          "base_uri": "https://localhost:8080/"
        },
        "id": "UM0zjtzmbKPB",
        "outputId": "dab9a8f6-2816-4bf3-b51a-e65b6f3eb63a"
      },
      "source": [
        "print(data_prediksi)\n",
        "print(\"-------\")\n",
        "print(output_test)"
      ],
      "execution_count": 879,
      "outputs": [
        {
          "output_type": "stream",
          "text": [
            "[[8.008281 ]\n",
            " [8.111435 ]\n",
            " [8.622779 ]\n",
            " [7.7552385]\n",
            " [7.2379165]\n",
            " [6.373581 ]]\n",
            "-------\n",
            "[[8.25]\n",
            " [8.65]\n",
            " [9.01]\n",
            " [7.03]\n",
            " [6.29]\n",
            " [3.27]]\n"
          ],
          "name": "stdout"
        }
      ]
    }
  ]
}