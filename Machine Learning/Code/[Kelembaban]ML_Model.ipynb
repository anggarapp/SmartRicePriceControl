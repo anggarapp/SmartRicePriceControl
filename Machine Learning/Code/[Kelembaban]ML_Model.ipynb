{
  "nbformat": 4,
  "nbformat_minor": 0,
  "metadata": {
    "colab": {
      "name": "[Kelembaban]ML-Model.ipynb",
      "provenance": [],
      "toc_visible": true,
      "authorship_tag": "ABX9TyO018Z/NAxWK7wynCach2I1",
      "include_colab_link": true
    },
    "kernelspec": {
      "name": "python3",
      "display_name": "Python 3"
    },
    "language_info": {
      "name": "python"
    }
  },
  "cells": [
    {
      "cell_type": "markdown",
      "metadata": {
        "id": "view-in-github",
        "colab_type": "text"
      },
      "source": [
        "<a href=\"https://colab.research.google.com/github/u1-byte/SmartRicePriceControl/blob/main/Machine%20Learning/Code/%5BKelembaban%5DML_Model.ipynb\" target=\"_parent\"><img src=\"https://colab.research.google.com/assets/colab-badge.svg\" alt=\"Open In Colab\"/></a>"
      ]
    },
    {
      "cell_type": "code",
      "metadata": {
        "id": "kTPzSD0srTVw"
      },
      "source": [
        "#import library\n",
        "import tensorflow as tf\n",
        "import numpy as np\n",
        "import matplotlib.pyplot as plt\n",
        "from tensorflow import keras\n",
        "from google.colab import files\n",
        "import csv\n",
        "from sklearn.preprocessing import MinMaxScaler\n",
        "from sklearn.metrics import mean_squared_error"
      ],
      "execution_count": 3,
      "outputs": []
    },
    {
      "cell_type": "code",
      "metadata": {
        "colab": {
          "resources": {
            "http://localhost:8080/nbextensions/google.colab/files.js": {
              "data": "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",
              "ok": true,
              "headers": [
                [
                  "content-type",
                  "application/javascript"
                ]
              ],
              "status": 200,
              "status_text": ""
            }
          },
          "base_uri": "https://localhost:8080/",
          "height": 73
        },
        "id": "9pW1P_9fTl4j",
        "outputId": "7558b3db-b3cc-41d5-9645-fa0b6f03c620"
      },
      "source": [
        "# Upload file dataset dari lokal\n",
        "uploaded = files.upload()"
      ],
      "execution_count": 5,
      "outputs": [
        {
          "output_type": "display_data",
          "data": {
            "text/html": [
              "\n",
              "     <input type=\"file\" id=\"files-66827693-3228-4245-b484-12a75f1ee543\" name=\"files[]\" multiple disabled\n",
              "        style=\"border:none\" />\n",
              "     <output id=\"result-66827693-3228-4245-b484-12a75f1ee543\">\n",
              "      Upload widget is only available when the cell has been executed in the\n",
              "      current browser session. Please rerun this cell to enable.\n",
              "      </output>\n",
              "      <script src=\"/nbextensions/google.colab/files.js\"></script> "
            ],
            "text/plain": [
              "<IPython.core.display.HTML object>"
            ]
          },
          "metadata": {
            "tags": []
          }
        },
        {
          "output_type": "stream",
          "text": [
            "Saving Cuaca.csv to Cuaca.csv\n"
          ],
          "name": "stdout"
        }
      ]
    },
    {
      "cell_type": "markdown",
      "metadata": {
        "id": "4j7-4-QStoQc"
      },
      "source": [
        "# **Kabupaten Lamongan / Jatim**"
      ]
    },
    {
      "cell_type": "code",
      "metadata": {
        "id": "Ctdpy9NotCw0"
      },
      "source": [
        "# Input data Lamongan / Jatim\n",
        "input_kelembaban_ratarata = []\n",
        "number_of_input = []\n",
        "number=1\n",
        "\n",
        "# Baca file.csv\n",
        "with open('/content/Cuaca.csv') as csv_file:\n",
        "  csv_reader = csv.reader(csv_file, delimiter=',')\n",
        "  next(csv_reader)\n",
        "  for row in csv_reader:\n",
        "    number_of_input.append(number)\n",
        "    input_kelembaban_ratarata.append(float(row[2]))\n",
        "    number+=1"
      ],
      "execution_count": 8,
      "outputs": []
    },
    {
      "cell_type": "code",
      "metadata": {
        "colab": {
          "base_uri": "https://localhost:8080/",
          "height": 295
        },
        "id": "a5bHiYtKtQiA",
        "outputId": "f6ab5792-0293-4bfc-c53c-6f0d89aac258"
      },
      "source": [
        "# Grafik garis dari Suhu\n",
        "plt.plot(number_of_input,input_kelembaban_ratarata,marker='o')\n",
        "plt.title('Kelembaban (2018 - 2020)')\n",
        "plt.ylabel('RH')\n",
        "plt.xlabel('Bulan')\n",
        "plt.show()"
      ],
      "execution_count": 9,
      "outputs": [
        {
          "output_type": "display_data",
          "data": {
            "image/png": "[encoded data removed]",
            "text/plain": [
              "<Figure size 432x288 with 1 Axes>"
            ]
          },
          "metadata": {
            "tags": [],
            "needs_background": "light"
          }
        }
      ]
    },
    {
      "cell_type": "code",
      "metadata": {
        "colab": {
          "base_uri": "https://localhost:8080/"
        },
        "id": "hl7HExITrv6v",
        "outputId": "5dfcdc54-c22e-4b2e-bf1e-b802a845e2a5"
      },
      "source": [
        "# Input dari data pada database\n",
        "dataset = []\n",
        "counter=0\n",
        "\n",
        "# Baca file.csv\n",
        "with open('/content/Cuaca.csv') as csv_file:\n",
        "  csv_reader = csv.reader(csv_file, delimiter=',')\n",
        "  next(csv_reader)\n",
        "  for row in csv_reader:\n",
        "    dataset.append([])\n",
        "    dataset[counter].append(float(row[2]))\n",
        "    counter+=1\n",
        "\n",
        "dataset = np.array(dataset)\n",
        "\n",
        "print(dataset)"
      ],
      "execution_count": 10,
      "outputs": [
        {
          "output_type": "stream",
          "text": [
            "[[81.61]\n",
            " [83.07]\n",
            " [83.29]\n",
            " [77.  ]\n",
            " [74.48]\n",
            " [75.97]\n",
            " [74.26]\n",
            " [71.9 ]\n",
            " [68.3 ]\n",
            " [67.  ]\n",
            " [73.5 ]\n",
            " [77.29]\n",
            " [82.13]\n",
            " [81.93]\n",
            " [83.7 ]\n",
            " [83.6 ]\n",
            " [77.31]\n",
            " [76.33]\n",
            " [75.  ]\n",
            " [72.29]\n",
            " [70.9 ]\n",
            " [68.  ]\n",
            " [67.73]\n",
            " [74.89]\n",
            " [81.84]\n",
            " [85.45]\n",
            " [83.77]\n",
            " [82.6 ]\n",
            " [82.58]\n",
            " [79.66]\n",
            " [76.17]\n",
            " [75.77]\n",
            " [70.88]\n",
            " [72.97]\n",
            " [76.73]\n",
            " [85.06]]\n"
          ],
          "name": "stdout"
        }
      ]
    },
    {
      "cell_type": "code",
      "metadata": {
        "id": "dcyiZXY0UANG"
      },
      "source": [
        "# Normalisasi dataset\n",
        "scaler = MinMaxScaler()\n",
        "dataset = scaler.fit_transform(dataset)"
      ],
      "execution_count": 11,
      "outputs": []
    },
    {
      "cell_type": "code",
      "metadata": {
        "colab": {
          "base_uri": "https://localhost:8080/"
        },
        "id": "RfJp46NhUFht",
        "outputId": "d76fdfe6-d399-46bf-9045-22d7ff863a38"
      },
      "source": [
        "# Fungsi membuat sequence\n",
        "def buat_sequences(dataset, window_size):\n",
        "    input = []\n",
        "    output = []\n",
        "\n",
        "    for i in range(len(dataset)-window_size+1):\n",
        "        window = dataset[i:(i+window_size-4), 0]\n",
        "        input.append(window)\n",
        "        output.append(dataset[(i+window_size-4):i+window_size, 0])\n",
        "    return np.array(input),np.array(output)\n",
        "\n",
        "window_size = 16\n",
        "dataInput, dataOutput = buat_sequences(dataset, window_size)\n",
        "\n",
        "print(len(dataInput))\n",
        "print(len(dataOutput))"
      ],
      "execution_count": 12,
      "outputs": [
        {
          "output_type": "stream",
          "text": [
            "21\n",
            "21\n"
          ],
          "name": "stdout"
        }
      ]
    },
    {
      "cell_type": "code",
      "metadata": {
        "colab": {
          "base_uri": "https://localhost:8080/"
        },
        "id": "-UwcXJqMir2A",
        "outputId": "ff4336b2-e1e9-4f55-ca8a-65b815e534cb"
      },
      "source": [
        "split_valid = 15\n",
        "input_train, input_test = dataInput[:split_valid,:], dataInput[split_valid:,:]\n",
        "output_train, output_test = dataOutput[:split_valid,:], dataOutput[split_valid:,:]\n",
        "\n",
        "print(len(input_train))\n",
        "print(len(output_train))"
      ],
      "execution_count": 13,
      "outputs": [
        {
          "output_type": "stream",
          "text": [
            "15\n",
            "15\n"
          ],
          "name": "stdout"
        }
      ]
    },
    {
      "cell_type": "code",
      "metadata": {
        "colab": {
          "base_uri": "https://localhost:8080/"
        },
        "id": "AS2MgD_XjbQl",
        "outputId": "b213309f-198c-4c99-8b0d-5d4efb4223d3"
      },
      "source": [
        "print(input_test)\n",
        "print(\"------\")\n",
        "print(output_test)"
      ],
      "execution_count": 14,
      "outputs": [
        {
          "output_type": "stream",
          "text": [
            "[[0.899729   0.55880759 0.50569106 0.43360434 0.28672087 0.21138211\n",
            "  0.05420054 0.0395664  0.42764228 0.80433604 1.         0.90894309]\n",
            " [0.55880759 0.50569106 0.43360434 0.28672087 0.21138211 0.05420054\n",
            "  0.0395664  0.42764228 0.80433604 1.         0.90894309 0.84552846]\n",
            " [0.50569106 0.43360434 0.28672087 0.21138211 0.05420054 0.0395664\n",
            "  0.42764228 0.80433604 1.         0.90894309 0.84552846 0.84444444]\n",
            " [0.43360434 0.28672087 0.21138211 0.05420054 0.0395664  0.42764228\n",
            "  0.80433604 1.         0.90894309 0.84552846 0.84444444 0.68617886]\n",
            " [0.28672087 0.21138211 0.05420054 0.0395664  0.42764228 0.80433604\n",
            "  1.         0.90894309 0.84552846 0.84444444 0.68617886 0.49701897]\n",
            " [0.21138211 0.05420054 0.0395664  0.42764228 0.80433604 1.\n",
            "  0.90894309 0.84552846 0.84444444 0.68617886 0.49701897 0.47533875]]\n",
            "------\n",
            "[[0.84552846 0.84444444 0.68617886 0.49701897]\n",
            " [0.84444444 0.68617886 0.49701897 0.47533875]\n",
            " [0.68617886 0.49701897 0.47533875 0.2102981 ]\n",
            " [0.49701897 0.47533875 0.2102981  0.32357724]\n",
            " [0.47533875 0.2102981  0.32357724 0.52737127]\n",
            " [0.2102981  0.32357724 0.52737127 0.97886179]]\n"
          ],
          "name": "stdout"
        }
      ]
    },
    {
      "cell_type": "code",
      "metadata": {
        "id": "eXAW51AAUNSL"
      },
      "source": [
        "# Ubah dimensinya untuk disesuaikan dengan model\n",
        "input_train = input_train.reshape((input_train.shape[0], 1, 1, 1, window_size-4))\n",
        "input_test = input_test.reshape((input_test.shape[0], 1, 1, 1, window_size-4))"
      ],
      "execution_count": 16,
      "outputs": []
    },
    {
      "cell_type": "code",
      "metadata": {
        "colab": {
          "base_uri": "https://localhost:8080/"
        },
        "id": "8tHcz4U4b07Z",
        "outputId": "b74c5f74-785c-4b92-acc9-980c11f2c0bc"
      },
      "source": [
        "print(input_test)"
      ],
      "execution_count": 17,
      "outputs": [
        {
          "output_type": "stream",
          "text": [
            "[[[[[0.899729   0.55880759 0.50569106 0.43360434 0.28672087 0.21138211\n",
            "     0.05420054 0.0395664  0.42764228 0.80433604 1.         0.90894309]]]]\n",
            "\n",
            "\n",
            "\n",
            " [[[[0.55880759 0.50569106 0.43360434 0.28672087 0.21138211 0.05420054\n",
            "     0.0395664  0.42764228 0.80433604 1.         0.90894309 0.84552846]]]]\n",
            "\n",
            "\n",
            "\n",
            " [[[[0.50569106 0.43360434 0.28672087 0.21138211 0.05420054 0.0395664\n",
            "     0.42764228 0.80433604 1.         0.90894309 0.84552846 0.84444444]]]]\n",
            "\n",
            "\n",
            "\n",
            " [[[[0.43360434 0.28672087 0.21138211 0.05420054 0.0395664  0.42764228\n",
            "     0.80433604 1.         0.90894309 0.84552846 0.84444444 0.68617886]]]]\n",
            "\n",
            "\n",
            "\n",
            " [[[[0.28672087 0.21138211 0.05420054 0.0395664  0.42764228 0.80433604\n",
            "     1.         0.90894309 0.84552846 0.84444444 0.68617886 0.49701897]]]]\n",
            "\n",
            "\n",
            "\n",
            " [[[[0.21138211 0.05420054 0.0395664  0.42764228 0.80433604 1.\n",
            "     0.90894309 0.84552846 0.84444444 0.68617886 0.49701897 0.47533875]]]]]\n"
          ],
          "name": "stdout"
        }
      ]
    },
    {
      "cell_type": "code",
      "metadata": {
        "colab": {
          "base_uri": "https://localhost:8080/"
        },
        "id": "AVLM4b_omI8n",
        "outputId": "ec13eada-e95e-4c69-f73a-cedad76fa8a6"
      },
      "source": [
        "print(output_test)"
      ],
      "execution_count": 18,
      "outputs": [
        {
          "output_type": "stream",
          "text": [
            "[[0.84552846 0.84444444 0.68617886 0.49701897]\n",
            " [0.84444444 0.68617886 0.49701897 0.47533875]\n",
            " [0.68617886 0.49701897 0.47533875 0.2102981 ]\n",
            " [0.49701897 0.47533875 0.2102981  0.32357724]\n",
            " [0.47533875 0.2102981  0.32357724 0.52737127]\n",
            " [0.2102981  0.32357724 0.52737127 0.97886179]]\n"
          ],
          "name": "stdout"
        }
      ]
    },
    {
      "cell_type": "code",
      "metadata": {
        "colab": {
          "base_uri": "https://localhost:8080/"
        },
        "id": "xnjsFuOoy491",
        "outputId": "551856c2-8623-472e-ba75-82c7abd2dcc0"
      },
      "source": [
        "#model machine learning\n",
        "model = tf.keras.models.Sequential([\n",
        "  tf.keras.layers.ConvLSTM2D(filters=64, kernel_size=(1,1), activation='relu', input_shape=(1, 1, 1, window_size-4)),    \n",
        "  tf.keras.layers.Flatten(),\n",
        "  tf.keras.layers.Dense(32),\n",
        "  tf.keras.layers.Dense(4)\n",
        "])\n",
        "\n",
        "#compile the model\n",
        "model.compile(optimizer='adam', loss='mean_squared_error',metrics=[\"mae\"])\n",
        "\n",
        "model.summary()\n",
        "\n",
        "#fit the model\n",
        "fitting_history = model.fit(input_train, output_train, validation_data=(input_test, output_test), verbose=2, epochs=100)"
      ],
      "execution_count": 19,
      "outputs": [
        {
          "output_type": "stream",
          "text": [
            "Model: \"sequential\"\n",
            "_________________________________________________________________\n",
            "Layer (type)                 Output Shape              Param #   \n",
            "=================================================================\n",
            "conv_lst_m2d (ConvLSTM2D)    (None, 1, 1, 64)          19712     \n",
            "_________________________________________________________________\n",
            "flatten (Flatten)            (None, 64)                0         \n",
            "_________________________________________________________________\n",
            "dense (Dense)                (None, 32)                2080      \n",
            "_________________________________________________________________\n",
            "dense_1 (Dense)              (None, 4)                 132       \n",
            "=================================================================\n",
            "Total params: 21,924\n",
            "Trainable params: 21,924\n",
            "Non-trainable params: 0\n",
            "_________________________________________________________________\n",
            "Epoch 1/100\n",
            "1/1 - 3s - loss: 0.4134 - mae: 0.5638 - val_loss: 0.2949 - val_mae: 0.4971\n",
            "Epoch 2/100\n",
            "1/1 - 0s - loss: 0.4027 - mae: 0.5542 - val_loss: 0.2847 - val_mae: 0.4867\n",
            "Epoch 3/100\n",
            "1/1 - 0s - loss: 0.3921 - mae: 0.5448 - val_loss: 0.2746 - val_mae: 0.4763\n",
            "Epoch 4/100\n",
            "1/1 - 0s - loss: 0.3816 - mae: 0.5354 - val_loss: 0.2648 - val_mae: 0.4657\n",
            "Epoch 5/100\n",
            "1/1 - 0s - loss: 0.3712 - mae: 0.5260 - val_loss: 0.2551 - val_mae: 0.4551\n",
            "Epoch 6/100\n",
            "1/1 - 0s - loss: 0.3609 - mae: 0.5170 - val_loss: 0.2455 - val_mae: 0.4443\n",
            "Epoch 7/100\n",
            "1/1 - 0s - loss: 0.3506 - mae: 0.5087 - val_loss: 0.2359 - val_mae: 0.4331\n",
            "Epoch 8/100\n",
            "1/1 - 0s - loss: 0.3402 - mae: 0.5006 - val_loss: 0.2263 - val_mae: 0.4216\n",
            "Epoch 9/100\n",
            "1/1 - 0s - loss: 0.3298 - mae: 0.4923 - val_loss: 0.2166 - val_mae: 0.4097\n",
            "Epoch 10/100\n",
            "1/1 - 0s - loss: 0.3193 - mae: 0.4839 - val_loss: 0.2068 - val_mae: 0.3973\n",
            "Epoch 11/100\n",
            "1/1 - 0s - loss: 0.3086 - mae: 0.4754 - val_loss: 0.1970 - val_mae: 0.3845\n",
            "Epoch 12/100\n",
            "1/1 - 0s - loss: 0.2978 - mae: 0.4666 - val_loss: 0.1872 - val_mae: 0.3712\n",
            "Epoch 13/100\n",
            "1/1 - 0s - loss: 0.2868 - mae: 0.4573 - val_loss: 0.1774 - val_mae: 0.3574\n",
            "Epoch 14/100\n",
            "1/1 - 0s - loss: 0.2757 - mae: 0.4477 - val_loss: 0.1676 - val_mae: 0.3430\n",
            "Epoch 15/100\n",
            "1/1 - 0s - loss: 0.2644 - mae: 0.4376 - val_loss: 0.1578 - val_mae: 0.3286\n",
            "Epoch 16/100\n",
            "1/1 - 0s - loss: 0.2530 - mae: 0.4271 - val_loss: 0.1481 - val_mae: 0.3146\n",
            "Epoch 17/100\n",
            "1/1 - 0s - loss: 0.2416 - mae: 0.4166 - val_loss: 0.1385 - val_mae: 0.3004\n",
            "Epoch 18/100\n",
            "1/1 - 0s - loss: 0.2300 - mae: 0.4057 - val_loss: 0.1290 - val_mae: 0.2878\n",
            "Epoch 19/100\n",
            "1/1 - 0s - loss: 0.2184 - mae: 0.3949 - val_loss: 0.1197 - val_mae: 0.2750\n",
            "Epoch 20/100\n",
            "1/1 - 0s - loss: 0.2069 - mae: 0.3841 - val_loss: 0.1106 - val_mae: 0.2634\n",
            "Epoch 21/100\n",
            "1/1 - 0s - loss: 0.1955 - mae: 0.3734 - val_loss: 0.1019 - val_mae: 0.2524\n",
            "Epoch 22/100\n",
            "1/1 - 0s - loss: 0.1842 - mae: 0.3622 - val_loss: 0.0937 - val_mae: 0.2409\n",
            "Epoch 23/100\n",
            "1/1 - 0s - loss: 0.1732 - mae: 0.3510 - val_loss: 0.0860 - val_mae: 0.2306\n",
            "Epoch 24/100\n",
            "1/1 - 0s - loss: 0.1626 - mae: 0.3403 - val_loss: 0.0790 - val_mae: 0.2216\n",
            "Epoch 25/100\n",
            "1/1 - 0s - loss: 0.1524 - mae: 0.3301 - val_loss: 0.0726 - val_mae: 0.2125\n",
            "Epoch 26/100\n",
            "1/1 - 0s - loss: 0.1428 - mae: 0.3196 - val_loss: 0.0671 - val_mae: 0.2032\n",
            "Epoch 27/100\n",
            "1/1 - 0s - loss: 0.1339 - mae: 0.3100 - val_loss: 0.0623 - val_mae: 0.1941\n",
            "Epoch 28/100\n",
            "1/1 - 0s - loss: 0.1256 - mae: 0.3016 - val_loss: 0.0585 - val_mae: 0.1867\n",
            "Epoch 29/100\n",
            "1/1 - 0s - loss: 0.1180 - mae: 0.2933 - val_loss: 0.0556 - val_mae: 0.1806\n",
            "Epoch 30/100\n",
            "1/1 - 0s - loss: 0.1113 - mae: 0.2849 - val_loss: 0.0536 - val_mae: 0.1767\n",
            "Epoch 31/100\n",
            "1/1 - 0s - loss: 0.1054 - mae: 0.2777 - val_loss: 0.0523 - val_mae: 0.1766\n",
            "Epoch 32/100\n",
            "1/1 - 0s - loss: 0.1003 - mae: 0.2718 - val_loss: 0.0517 - val_mae: 0.1802\n",
            "Epoch 33/100\n",
            "1/1 - 0s - loss: 0.0961 - mae: 0.2664 - val_loss: 0.0515 - val_mae: 0.1839\n",
            "Epoch 34/100\n",
            "1/1 - 0s - loss: 0.0926 - mae: 0.2611 - val_loss: 0.0517 - val_mae: 0.1874\n",
            "Epoch 35/100\n",
            "1/1 - 0s - loss: 0.0896 - mae: 0.2570 - val_loss: 0.0520 - val_mae: 0.1901\n",
            "Epoch 36/100\n",
            "1/1 - 0s - loss: 0.0871 - mae: 0.2537 - val_loss: 0.0522 - val_mae: 0.1917\n",
            "Epoch 37/100\n",
            "1/1 - 0s - loss: 0.0848 - mae: 0.2506 - val_loss: 0.0523 - val_mae: 0.1919\n",
            "Epoch 38/100\n",
            "1/1 - 0s - loss: 0.0828 - mae: 0.2474 - val_loss: 0.0520 - val_mae: 0.1907\n",
            "Epoch 39/100\n",
            "1/1 - 0s - loss: 0.0808 - mae: 0.2441 - val_loss: 0.0514 - val_mae: 0.1884\n",
            "Epoch 40/100\n",
            "1/1 - 0s - loss: 0.0787 - mae: 0.2409 - val_loss: 0.0504 - val_mae: 0.1853\n",
            "Epoch 41/100\n",
            "1/1 - 0s - loss: 0.0766 - mae: 0.2372 - val_loss: 0.0490 - val_mae: 0.1816\n",
            "Epoch 42/100\n",
            "1/1 - 0s - loss: 0.0743 - mae: 0.2332 - val_loss: 0.0475 - val_mae: 0.1778\n",
            "Epoch 43/100\n",
            "1/1 - 0s - loss: 0.0720 - mae: 0.2290 - val_loss: 0.0457 - val_mae: 0.1730\n",
            "Epoch 44/100\n",
            "1/1 - 0s - loss: 0.0695 - mae: 0.2246 - val_loss: 0.0439 - val_mae: 0.1676\n",
            "Epoch 45/100\n",
            "1/1 - 0s - loss: 0.0671 - mae: 0.2200 - val_loss: 0.0422 - val_mae: 0.1615\n",
            "Epoch 46/100\n",
            "1/1 - 0s - loss: 0.0646 - mae: 0.2154 - val_loss: 0.0406 - val_mae: 0.1551\n",
            "Epoch 47/100\n",
            "1/1 - 0s - loss: 0.0622 - mae: 0.2106 - val_loss: 0.0391 - val_mae: 0.1492\n",
            "Epoch 48/100\n",
            "1/1 - 0s - loss: 0.0598 - mae: 0.2058 - val_loss: 0.0379 - val_mae: 0.1456\n",
            "Epoch 49/100\n",
            "1/1 - 0s - loss: 0.0575 - mae: 0.2009 - val_loss: 0.0369 - val_mae: 0.1426\n",
            "Epoch 50/100\n",
            "1/1 - 0s - loss: 0.0553 - mae: 0.1961 - val_loss: 0.0361 - val_mae: 0.1415\n",
            "Epoch 51/100\n",
            "1/1 - 0s - loss: 0.0533 - mae: 0.1916 - val_loss: 0.0356 - val_mae: 0.1405\n",
            "Epoch 52/100\n",
            "1/1 - 0s - loss: 0.0513 - mae: 0.1876 - val_loss: 0.0352 - val_mae: 0.1401\n",
            "Epoch 53/100\n",
            "1/1 - 0s - loss: 0.0494 - mae: 0.1837 - val_loss: 0.0350 - val_mae: 0.1402\n",
            "Epoch 54/100\n",
            "1/1 - 0s - loss: 0.0476 - mae: 0.1801 - val_loss: 0.0349 - val_mae: 0.1403\n",
            "Epoch 55/100\n",
            "1/1 - 0s - loss: 0.0459 - mae: 0.1766 - val_loss: 0.0349 - val_mae: 0.1405\n",
            "Epoch 56/100\n",
            "1/1 - 0s - loss: 0.0442 - mae: 0.1730 - val_loss: 0.0349 - val_mae: 0.1412\n",
            "Epoch 57/100\n",
            "1/1 - 0s - loss: 0.0425 - mae: 0.1693 - val_loss: 0.0349 - val_mae: 0.1420\n",
            "Epoch 58/100\n",
            "1/1 - 0s - loss: 0.0409 - mae: 0.1656 - val_loss: 0.0350 - val_mae: 0.1425\n",
            "Epoch 59/100\n",
            "1/1 - 0s - loss: 0.0394 - mae: 0.1618 - val_loss: 0.0350 - val_mae: 0.1428\n",
            "Epoch 60/100\n",
            "1/1 - 0s - loss: 0.0379 - mae: 0.1579 - val_loss: 0.0350 - val_mae: 0.1427\n",
            "Epoch 61/100\n",
            "1/1 - 0s - loss: 0.0364 - mae: 0.1539 - val_loss: 0.0351 - val_mae: 0.1425\n",
            "Epoch 62/100\n",
            "1/1 - 0s - loss: 0.0351 - mae: 0.1498 - val_loss: 0.0352 - val_mae: 0.1421\n",
            "Epoch 63/100\n",
            "1/1 - 0s - loss: 0.0338 - mae: 0.1460 - val_loss: 0.0353 - val_mae: 0.1416\n",
            "Epoch 64/100\n",
            "1/1 - 0s - loss: 0.0326 - mae: 0.1426 - val_loss: 0.0354 - val_mae: 0.1411\n",
            "Epoch 65/100\n",
            "1/1 - 0s - loss: 0.0315 - mae: 0.1391 - val_loss: 0.0356 - val_mae: 0.1406\n",
            "Epoch 66/100\n",
            "1/1 - 0s - loss: 0.0304 - mae: 0.1357 - val_loss: 0.0360 - val_mae: 0.1403\n",
            "Epoch 67/100\n",
            "1/1 - 0s - loss: 0.0294 - mae: 0.1325 - val_loss: 0.0364 - val_mae: 0.1405\n",
            "Epoch 68/100\n",
            "1/1 - 0s - loss: 0.0285 - mae: 0.1293 - val_loss: 0.0370 - val_mae: 0.1409\n",
            "Epoch 69/100\n",
            "1/1 - 0s - loss: 0.0277 - mae: 0.1266 - val_loss: 0.0377 - val_mae: 0.1415\n",
            "Epoch 70/100\n",
            "1/1 - 0s - loss: 0.0269 - mae: 0.1241 - val_loss: 0.0385 - val_mae: 0.1422\n",
            "Epoch 71/100\n",
            "1/1 - 0s - loss: 0.0261 - mae: 0.1222 - val_loss: 0.0394 - val_mae: 0.1431\n",
            "Epoch 72/100\n",
            "1/1 - 0s - loss: 0.0254 - mae: 0.1207 - val_loss: 0.0405 - val_mae: 0.1442\n",
            "Epoch 73/100\n",
            "1/1 - 0s - loss: 0.0247 - mae: 0.1193 - val_loss: 0.0417 - val_mae: 0.1456\n",
            "Epoch 74/100\n",
            "1/1 - 0s - loss: 0.0240 - mae: 0.1180 - val_loss: 0.0430 - val_mae: 0.1476\n",
            "Epoch 75/100\n",
            "1/1 - 0s - loss: 0.0234 - mae: 0.1168 - val_loss: 0.0444 - val_mae: 0.1497\n",
            "Epoch 76/100\n",
            "1/1 - 0s - loss: 0.0228 - mae: 0.1159 - val_loss: 0.0457 - val_mae: 0.1522\n",
            "Epoch 77/100\n",
            "1/1 - 0s - loss: 0.0222 - mae: 0.1150 - val_loss: 0.0471 - val_mae: 0.1550\n",
            "Epoch 78/100\n",
            "1/1 - 0s - loss: 0.0217 - mae: 0.1143 - val_loss: 0.0484 - val_mae: 0.1579\n",
            "Epoch 79/100\n",
            "1/1 - 0s - loss: 0.0212 - mae: 0.1135 - val_loss: 0.0496 - val_mae: 0.1606\n",
            "Epoch 80/100\n",
            "1/1 - 0s - loss: 0.0207 - mae: 0.1127 - val_loss: 0.0507 - val_mae: 0.1629\n",
            "Epoch 81/100\n",
            "1/1 - 0s - loss: 0.0203 - mae: 0.1119 - val_loss: 0.0516 - val_mae: 0.1648\n",
            "Epoch 82/100\n",
            "1/1 - 0s - loss: 0.0199 - mae: 0.1111 - val_loss: 0.0524 - val_mae: 0.1662\n",
            "Epoch 83/100\n",
            "1/1 - 0s - loss: 0.0194 - mae: 0.1102 - val_loss: 0.0529 - val_mae: 0.1671\n",
            "Epoch 84/100\n",
            "1/1 - 0s - loss: 0.0190 - mae: 0.1092 - val_loss: 0.0533 - val_mae: 0.1676\n",
            "Epoch 85/100\n",
            "1/1 - 0s - loss: 0.0186 - mae: 0.1082 - val_loss: 0.0535 - val_mae: 0.1676\n",
            "Epoch 86/100\n",
            "1/1 - 0s - loss: 0.0182 - mae: 0.1072 - val_loss: 0.0535 - val_mae: 0.1673\n",
            "Epoch 87/100\n",
            "1/1 - 0s - loss: 0.0179 - mae: 0.1061 - val_loss: 0.0534 - val_mae: 0.1666\n",
            "Epoch 88/100\n",
            "1/1 - 0s - loss: 0.0175 - mae: 0.1050 - val_loss: 0.0531 - val_mae: 0.1658\n",
            "Epoch 89/100\n",
            "1/1 - 0s - loss: 0.0171 - mae: 0.1039 - val_loss: 0.0528 - val_mae: 0.1647\n",
            "Epoch 90/100\n",
            "1/1 - 0s - loss: 0.0168 - mae: 0.1027 - val_loss: 0.0525 - val_mae: 0.1635\n",
            "Epoch 91/100\n",
            "1/1 - 0s - loss: 0.0164 - mae: 0.1015 - val_loss: 0.0521 - val_mae: 0.1622\n",
            "Epoch 92/100\n",
            "1/1 - 0s - loss: 0.0160 - mae: 0.1003 - val_loss: 0.0517 - val_mae: 0.1608\n",
            "Epoch 93/100\n",
            "1/1 - 0s - loss: 0.0157 - mae: 0.0993 - val_loss: 0.0512 - val_mae: 0.1595\n",
            "Epoch 94/100\n",
            "1/1 - 0s - loss: 0.0154 - mae: 0.0984 - val_loss: 0.0508 - val_mae: 0.1581\n",
            "Epoch 95/100\n",
            "1/1 - 0s - loss: 0.0150 - mae: 0.0975 - val_loss: 0.0504 - val_mae: 0.1568\n",
            "Epoch 96/100\n",
            "1/1 - 0s - loss: 0.0147 - mae: 0.0965 - val_loss: 0.0500 - val_mae: 0.1555\n",
            "Epoch 97/100\n",
            "1/1 - 0s - loss: 0.0144 - mae: 0.0956 - val_loss: 0.0496 - val_mae: 0.1543\n",
            "Epoch 98/100\n",
            "1/1 - 0s - loss: 0.0141 - mae: 0.0946 - val_loss: 0.0493 - val_mae: 0.1534\n",
            "Epoch 99/100\n",
            "1/1 - 0s - loss: 0.0138 - mae: 0.0936 - val_loss: 0.0489 - val_mae: 0.1526\n",
            "Epoch 100/100\n",
            "1/1 - 0s - loss: 0.0135 - mae: 0.0926 - val_loss: 0.0486 - val_mae: 0.1518\n"
          ],
          "name": "stdout"
        }
      ]
    },
    {
      "cell_type": "code",
      "metadata": {
        "colab": {
          "base_uri": "https://localhost:8080/",
          "height": 314
        },
        "id": "A1YC68UB2oBC",
        "outputId": "3f740803-2c0b-46e5-fe64-111f932d59b6"
      },
      "source": [
        "# Grafik training dan validation loss\n",
        "training_loss=fitting_history.history['loss']\n",
        "validation_loss=fitting_history.history['val_loss']\n",
        "epochs=range(len(training_loss))\n",
        "\n",
        "plt.plot(epochs, training_loss, 'r', label=\"Training Loss\")\n",
        "plt.plot(epochs, validation_loss, 'b', label=\"Validation Loss\")\n",
        "plt.title('Training and validation loss')\n",
        "plt.legend(loc=0)\n",
        "plt.figure()"
      ],
      "execution_count": 20,
      "outputs": [
        {
          "output_type": "execute_result",
          "data": {
            "text/plain": [
              "<Figure size 432x288 with 0 Axes>"
            ]
          },
          "metadata": {
            "tags": []
          },
          "execution_count": 20
        },
        {
          "output_type": "display_data",
          "data": {
            "image/png": "[encoded data removed]",
            "text/plain": [
              "<Figure size 432x288 with 1 Axes>"
            ]
          },
          "metadata": {
            "tags": [],
            "needs_background": "light"
          }
        },
        {
          "output_type": "display_data",
          "data": {
            "text/plain": [
              "<Figure size 432x288 with 0 Axes>"
            ]
          },
          "metadata": {
            "tags": []
          }
        }
      ]
    },
    {
      "cell_type": "code",
      "metadata": {
        "colab": {
          "base_uri": "https://localhost:8080/",
          "height": 314
        },
        "id": "qIVAhEqD2phA",
        "outputId": "c144005f-d724-4527-8ce8-896993f01a7e"
      },
      "source": [
        "# Grafik training and validation MAE\n",
        "training_mae=fitting_history.history['mae']\n",
        "validation_mae=fitting_history.history['val_mae']\n",
        "epochs=range(len(training_mae))\n",
        "\n",
        "plt.plot(epochs, training_mae, 'r', label=\"Training MAE\")\n",
        "plt.plot(epochs, validation_mae, 'b', label=\"Validation MAE\")\n",
        "plt.title('Training and validation MAE')\n",
        "plt.legend(loc=0)\n",
        "plt.figure()"
      ],
      "execution_count": 21,
      "outputs": [
        {
          "output_type": "execute_result",
          "data": {
            "text/plain": [
              "<Figure size 432x288 with 0 Axes>"
            ]
          },
          "metadata": {
            "tags": []
          },
          "execution_count": 21
        },
        {
          "output_type": "display_data",
          "data": {
            "image/png": "[encoded data removed]",
            "text/plain": [
              "<Figure size 432x288 with 1 Axes>"
            ]
          },
          "metadata": {
            "tags": [],
            "needs_background": "light"
          }
        },
        {
          "output_type": "display_data",
          "data": {
            "text/plain": [
              "<Figure size 432x288 with 0 Axes>"
            ]
          },
          "metadata": {
            "tags": []
          }
        }
      ]
    },
    {
      "cell_type": "code",
      "metadata": {
        "id": "Wpn2w9R-5LSY"
      },
      "source": [
        "# Simpan model\n",
        "model.save('model-kelembaban.h5')"
      ],
      "execution_count": 22,
      "outputs": []
    },
    {
      "cell_type": "markdown",
      "metadata": {
        "id": "j0gtqKfD5N6d"
      },
      "source": [
        "# **Testing Model**"
      ]
    },
    {
      "cell_type": "code",
      "metadata": {
        "id": "o_3DBMeZ5gdD"
      },
      "source": [
        "# Load the model\n",
        "model = tf.keras.models.load_model('model-kelembaban.h5')"
      ],
      "execution_count": 23,
      "outputs": []
    },
    {
      "cell_type": "code",
      "metadata": {
        "id": "UJ6BsbEZUVFr"
      },
      "source": [
        "#Prediksi Data\n",
        "data_prediksi = model.predict(input_test)"
      ],
      "execution_count": 24,
      "outputs": []
    },
    {
      "cell_type": "code",
      "metadata": {
        "colab": {
          "base_uri": "https://localhost:8080/"
        },
        "id": "_gyJGODddK7S",
        "outputId": "d9855595-080f-4558-d2db-d0925321cbd7"
      },
      "source": [
        "print(data_prediksi)\n",
        "print(\"-------\")\n",
        "print(output_test)"
      ],
      "execution_count": 25,
      "outputs": [
        {
          "output_type": "stream",
          "text": [
            "[[0.85572594 0.7758915  0.68142664 0.5034116 ]\n",
            " [0.7153676  0.5633874  0.42231885 0.29194003]\n",
            " [0.62821573 0.41530582 0.28609496 0.19607235]\n",
            " [0.49005678 0.24969302 0.15466088 0.13710654]\n",
            " [0.35937682 0.13319084 0.07493328 0.1573658 ]\n",
            " [0.2693798  0.10865502 0.09451224 0.27178174]]\n",
            "-------\n",
            "[[0.84552846 0.84444444 0.68617886 0.49701897]\n",
            " [0.84444444 0.68617886 0.49701897 0.47533875]\n",
            " [0.68617886 0.49701897 0.47533875 0.2102981 ]\n",
            " [0.49701897 0.47533875 0.2102981  0.32357724]\n",
            " [0.47533875 0.2102981  0.32357724 0.52737127]\n",
            " [0.2102981  0.32357724 0.52737127 0.97886179]]\n"
          ],
          "name": "stdout"
        }
      ]
    },
    {
      "cell_type": "code",
      "metadata": {
        "id": "jiFXCtfyUYA0"
      },
      "source": [
        "# Inverse transform data min max\n",
        "data_prediksi = scaler.inverse_transform(data_prediksi)\n",
        "output_test = scaler.inverse_transform(output_test)"
      ],
      "execution_count": 26,
      "outputs": []
    },
    {
      "cell_type": "code",
      "metadata": {
        "colab": {
          "base_uri": "https://localhost:8080/"
        },
        "id": "UM0zjtzmbKPB",
        "outputId": "8847d065-3f91-4a7d-c2e4-e837371c379c"
      },
      "source": [
        "print(data_prediksi)\n",
        "print(\"-------\")\n",
        "print(output_test)"
      ],
      "execution_count": 27,
      "outputs": [
        {
          "output_type": "stream",
          "text": [
            "[[82.78814  81.31519  79.57232  76.28795 ]\n",
            " [80.19854  77.3945   74.79179  72.38629 ]\n",
            " [78.59058  74.66239  72.27845  70.61754 ]\n",
            " [76.04154  71.606834 69.85349  69.52962 ]\n",
            " [73.6305   69.457375 68.38252  69.9034  ]\n",
            " [71.97006  69.004684 68.74375  72.01437 ]]\n",
            "-------\n",
            "[[82.6  82.58 79.66 76.17]\n",
            " [82.58 79.66 76.17 75.77]\n",
            " [79.66 76.17 75.77 70.88]\n",
            " [76.17 75.77 70.88 72.97]\n",
            " [75.77 70.88 72.97 76.73]\n",
            " [70.88 72.97 76.73 85.06]]\n"
          ],
          "name": "stdout"
        }
      ]
    },
    {
      "cell_type": "code",
      "metadata": {
        "colab": {
          "base_uri": "https://localhost:8080/",
          "height": 362
        },
        "id": "CX_AAp2qf3-h",
        "outputId": "5d4eae57-5898-40c0-eb64-af5ecd645b1d"
      },
      "source": [
        "temp_test=[]\n",
        "number=[]\n",
        "count=1\n",
        "\n",
        "for j in output_test[0]:\n",
        "  temp_test.append(j)\n",
        "  number.append(count)\n",
        "  count+=1\n",
        "  \n",
        "print(temp_test)\n",
        "print(number)\n",
        "\n",
        "temp_predict=[]\n",
        "number=[]\n",
        "count=1\n",
        "\n",
        "for j in data_prediksi[0]:\n",
        "  temp_predict.append(j)\n",
        "  number.append(count)\n",
        "  count+=1\n",
        "  \n",
        "print(temp_predict)\n",
        "print(number)\n",
        "\n",
        "# Grafik garis dari Suhu\n",
        "plt.plot(number,temp_predict,marker='o',color=\"yellow\")\n",
        "plt.plot(number,temp_test,marker='o',color=\"black\")\n",
        "plt.title('Kelembaban')\n",
        "plt.ylabel('RH')\n",
        "plt.xlabel('Bulan')\n",
        "plt.show()"
      ],
      "execution_count": 28,
      "outputs": [
        {
          "output_type": "stream",
          "text": [
            "[82.6, 82.58000000000001, 79.66, 76.17]\n",
            "[1, 2, 3, 4]\n",
            "[82.78814, 81.31519, 79.57232, 76.28795]\n",
            "[1, 2, 3, 4]\n"
          ],
          "name": "stdout"
        },
        {
          "output_type": "display_data",
          "data": {
            "image/png": "[encoded data removed]",
            "text/plain": [
              "<Figure size 432x288 with 1 Axes>"
            ]
          },
          "metadata": {
            "tags": [],
            "needs_background": "light"
          }
        }
      ]
    },
    {
      "cell_type": "code",
      "metadata": {
        "colab": {
          "base_uri": "https://localhost:8080/",
          "height": 362
        },
        "id": "CaWGJ_dmgicp",
        "outputId": "0ca17fca-36ab-4d49-e8fb-4058a69ac060"
      },
      "source": [
        "temp_test=[]\n",
        "number=[]\n",
        "count=1\n",
        "\n",
        "for j in output_test[1]:\n",
        "  temp_test.append(j)\n",
        "  number.append(count)\n",
        "  count+=1\n",
        "  \n",
        "print(temp_test)\n",
        "print(number)\n",
        "\n",
        "temp_predict=[]\n",
        "number=[]\n",
        "count=1\n",
        "\n",
        "for j in data_prediksi[1]:\n",
        "  temp_predict.append(j)\n",
        "  number.append(count)\n",
        "  count+=1\n",
        "  \n",
        "print(temp_predict)\n",
        "print(number)\n",
        "\n",
        "# Grafik garis dari Suhu\n",
        "plt.plot(number,temp_predict,marker='o',color=\"yellow\")\n",
        "plt.plot(number,temp_test,marker='o',color=\"black\")\n",
        "plt.title('Kelembaban')\n",
        "plt.ylabel('RH')\n",
        "plt.xlabel('Bulan')\n",
        "plt.show()"
      ],
      "execution_count": 29,
      "outputs": [
        {
          "output_type": "stream",
          "text": [
            "[82.58000000000001, 79.66, 76.17, 75.77000000000001]\n",
            "[1, 2, 3, 4]\n",
            "[80.19854, 77.3945, 74.79179, 72.38629]\n",
            "[1, 2, 3, 4]\n"
          ],
          "name": "stdout"
        },
        {
          "output_type": "display_data",
          "data": {
            "image/png": "[encoded data removed]",
            "text/plain": [
              "<Figure size 432x288 with 1 Axes>"
            ]
          },
          "metadata": {
            "tags": [],
            "needs_background": "light"
          }
        }
      ]
    },
    {
      "cell_type": "code",
      "metadata": {
        "colab": {
          "base_uri": "https://localhost:8080/",
          "height": 362
        },
        "id": "pIx2JbDs2M4i",
        "outputId": "47b2f094-2384-471e-b394-85ae2d1b3ca6"
      },
      "source": [
        "temp_test=[]\n",
        "number=[]\n",
        "count=1\n",
        "\n",
        "for j in output_test[2]:\n",
        "  temp_test.append(j)\n",
        "  number.append(count)\n",
        "  count+=1\n",
        "  \n",
        "print(temp_test)\n",
        "print(number)\n",
        "\n",
        "temp_predict=[]\n",
        "number=[]\n",
        "count=1\n",
        "\n",
        "for j in data_prediksi[2]:\n",
        "  temp_predict.append(j)\n",
        "  number.append(count)\n",
        "  count+=1\n",
        "  \n",
        "print(temp_predict)\n",
        "print(number)\n",
        "\n",
        "# Grafik garis dari Suhu\n",
        "plt.plot(number,temp_predict,marker='o',color=\"yellow\")\n",
        "plt.plot(number,temp_test,marker='o',color=\"black\")\n",
        "plt.title('Kelembaban')\n",
        "plt.ylabel('RH')\n",
        "plt.xlabel('Bulan')\n",
        "plt.show()"
      ],
      "execution_count": 30,
      "outputs": [
        {
          "output_type": "stream",
          "text": [
            "[79.66, 76.17, 75.77000000000001, 70.88]\n",
            "[1, 2, 3, 4]\n",
            "[78.59058, 74.66239, 72.27845, 70.61754]\n",
            "[1, 2, 3, 4]\n"
          ],
          "name": "stdout"
        },
        {
          "output_type": "display_data",
          "data": {
            "image/png": "[encoded data removed]",
            "text/plain": [
              "<Figure size 432x288 with 1 Axes>"
            ]
          },
          "metadata": {
            "tags": [],
            "needs_background": "light"
          }
        }
      ]
    },
    {
      "cell_type": "code",
      "metadata": {
        "colab": {
          "base_uri": "https://localhost:8080/",
          "height": 362
        },
        "id": "FjKgCyhJ2Omf",
        "outputId": "33c75060-d7c1-4169-d469-e5551fe43675"
      },
      "source": [
        "temp_test=[]\n",
        "number=[]\n",
        "count=1\n",
        "\n",
        "for j in output_test[3]:\n",
        "  temp_test.append(j)\n",
        "  number.append(count)\n",
        "  count+=1\n",
        "  \n",
        "print(temp_test)\n",
        "print(number)\n",
        "\n",
        "temp_predict=[]\n",
        "number=[]\n",
        "count=1\n",
        "\n",
        "for j in data_prediksi[3]:\n",
        "  temp_predict.append(j)\n",
        "  number.append(count)\n",
        "  count+=1\n",
        "  \n",
        "print(temp_predict)\n",
        "print(number)\n",
        "\n",
        "# Grafik garis dari Suhu\n",
        "plt.plot(number,temp_predict,marker='o',color=\"yellow\")\n",
        "plt.plot(number,temp_test,marker='o',color=\"black\")\n",
        "plt.title('Kelembaban')\n",
        "plt.ylabel('RH')\n",
        "plt.xlabel('Bulan')\n",
        "plt.show()"
      ],
      "execution_count": 31,
      "outputs": [
        {
          "output_type": "stream",
          "text": [
            "[76.17, 75.77000000000001, 70.88, 72.97]\n",
            "[1, 2, 3, 4]\n",
            "[76.04154, 71.606834, 69.85349, 69.52962]\n",
            "[1, 2, 3, 4]\n"
          ],
          "name": "stdout"
        },
        {
          "output_type": "display_data",
          "data": {
            "image/png": "[encoded data removed]",
            "text/plain": [
              "<Figure size 432x288 with 1 Axes>"
            ]
          },
          "metadata": {
            "tags": [],
            "needs_background": "light"
          }
        }
      ]
    },
    {
      "cell_type": "code",
      "metadata": {
        "colab": {
          "base_uri": "https://localhost:8080/",
          "height": 362
        },
        "id": "wVEW7Grd2QMI",
        "outputId": "1bd037ac-c148-4054-b9e6-ecb5bdb64e6c"
      },
      "source": [
        "temp_test=[]\n",
        "number=[]\n",
        "count=1\n",
        "\n",
        "for j in output_test[4]:\n",
        "  temp_test.append(j)\n",
        "  number.append(count)\n",
        "  count+=1\n",
        "  \n",
        "print(temp_test)\n",
        "print(number)\n",
        "\n",
        "temp_predict=[]\n",
        "number=[]\n",
        "count=1\n",
        "\n",
        "for j in data_prediksi[4]:\n",
        "  temp_predict.append(j)\n",
        "  number.append(count)\n",
        "  count+=1\n",
        "  \n",
        "print(temp_predict)\n",
        "print(number)\n",
        "\n",
        "# Grafik garis dari Suhu\n",
        "plt.plot(number,temp_predict,marker='o',color=\"yellow\")\n",
        "plt.plot(number,temp_test,marker='o',color=\"black\")\n",
        "plt.title('Kelembaban')\n",
        "plt.ylabel('RH')\n",
        "plt.xlabel('Bulan')\n",
        "plt.show()"
      ],
      "execution_count": 32,
      "outputs": [
        {
          "output_type": "stream",
          "text": [
            "[75.77000000000001, 70.88, 72.97, 76.73]\n",
            "[1, 2, 3, 4]\n",
            "[73.6305, 69.457375, 68.38252, 69.9034]\n",
            "[1, 2, 3, 4]\n"
          ],
          "name": "stdout"
        },
        {
          "output_type": "display_data",
          "data": {
            "image/png": "[encoded data removed]",
            "text/plain": [
              "<Figure size 432x288 with 1 Axes>"
            ]
          },
          "metadata": {
            "tags": [],
            "needs_background": "light"
          }
        }
      ]
    },
    {
      "cell_type": "code",
      "metadata": {
        "colab": {
          "base_uri": "https://localhost:8080/",
          "height": 362
        },
        "id": "EpA6ahG12Rv6",
        "outputId": "d320576a-0871-437b-f87c-050a92569f1b"
      },
      "source": [
        "temp_test=[]\n",
        "number=[]\n",
        "count=1\n",
        "\n",
        "for j in output_test[5]:\n",
        "  temp_test.append(j)\n",
        "  number.append(count)\n",
        "  count+=1\n",
        "  \n",
        "print(temp_test)\n",
        "print(number)\n",
        "\n",
        "temp_predict=[]\n",
        "number=[]\n",
        "count=1\n",
        "\n",
        "for j in data_prediksi[5]:\n",
        "  temp_predict.append(j)\n",
        "  number.append(count)\n",
        "  count+=1\n",
        "  \n",
        "print(temp_predict)\n",
        "print(number)\n",
        "\n",
        "# Grafik garis dari Suhu\n",
        "plt.plot(number,temp_predict,marker='o',color=\"yellow\")\n",
        "plt.plot(number,temp_test,marker='o',color=\"black\")\n",
        "plt.title('Kelembaban')\n",
        "plt.ylabel('RH')\n",
        "plt.xlabel('Bulan')\n",
        "plt.show()"
      ],
      "execution_count": 33,
      "outputs": [
        {
          "output_type": "stream",
          "text": [
            "[70.88, 72.97, 76.73, 85.06]\n",
            "[1, 2, 3, 4]\n",
            "[71.97006, 69.004684, 68.74375, 72.01437]\n",
            "[1, 2, 3, 4]\n"
          ],
          "name": "stdout"
        },
        {
          "output_type": "display_data",
          "data": {
            "image/png": "[encoded data removed]",
            "text/plain": [
              "<Figure size 432x288 with 1 Axes>"
            ]
          },
          "metadata": {
            "tags": [],
            "needs_background": "light"
          }
        }
      ]
    }
  ]
}