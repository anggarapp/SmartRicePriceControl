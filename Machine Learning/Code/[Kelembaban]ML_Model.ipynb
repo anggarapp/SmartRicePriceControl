{
  "nbformat": 4,
  "nbformat_minor": 0,
  "metadata": {
    "colab": {
      "name": "[Kelembaban]ML-Model.ipynb",
      "provenance": [],
      "collapsed_sections": [],
      "toc_visible": true,
      "authorship_tag": "ABX9TyMrD2HLeGE+EXyOUOlieHze",
      "include_colab_link": true
    },
    "kernelspec": {
      "name": "python3",
      "display_name": "Python 3"
    },
    "language_info": {
      "name": "python"
    }
  },
  "cells": [
    {
      "cell_type": "markdown",
      "metadata": {
        "id": "view-in-github",
        "colab_type": "text"
      },
      "source": [
        "<a href=\"https://colab.research.google.com/github/u1-byte/SmartCropYieldsPrediction/blob/main/Machine%20Learning/Code/%5BKelembaban%5DML_Model.ipynb\" target=\"_parent\"><img src=\"https://colab.research.google.com/assets/colab-badge.svg\" alt=\"Open In Colab\"/></a>"
      ]
    },
    {
      "cell_type": "code",
      "metadata": {
        "id": "kTPzSD0srTVw"
      },
      "source": [
        "#import library\n",
        "import tensorflow as tf\n",
        "import numpy as np\n",
        "import matplotlib.pyplot as plt\n",
        "from tensorflow import keras\n",
        "from google.colab import files\n",
        "import csv\n",
        "from sklearn.preprocessing import MinMaxScaler\n",
        "from sklearn.metrics import mean_squared_error\n",
        "from sklearn.model_selection import train_test_split"
      ],
      "execution_count": null,
      "outputs": []
    },
    {
      "cell_type": "code",
      "metadata": {
        "colab": {
          "resources": {
            "http://localhost:8080/nbextensions/google.colab/files.js": {
              "data": "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",
              "ok": true,
              "headers": [
                [
                  "content-type",
                  "application/javascript"
                ]
              ],
              "status": 200,
              "status_text": ""
            }
          },
          "base_uri": "https://localhost:8080/",
          "height": 73
        },
        "id": "9pW1P_9fTl4j",
        "outputId": "5b385959-b8c5-4d03-c889-4318b2418ea0"
      },
      "source": [
        "# Upload file dataset dari lokal\n",
        "uploaded = files.upload()"
      ],
      "execution_count": null,
      "outputs": [
        {
          "output_type": "display_data",
          "data": {
            "text/html": [
              "\n",
              "     <input type=\"file\" id=\"files-85e0f6dd-c3ae-495c-aa26-56d7aee4b692\" name=\"files[]\" multiple disabled\n",
              "        style=\"border:none\" />\n",
              "     <output id=\"result-85e0f6dd-c3ae-495c-aa26-56d7aee4b692\">\n",
              "      Upload widget is only available when the cell has been executed in the\n",
              "      current browser session. Please rerun this cell to enable.\n",
              "      </output>\n",
              "      <script src=\"/nbextensions/google.colab/files.js\"></script> "
            ],
            "text/plain": [
              "<IPython.core.display.HTML object>"
            ]
          },
          "metadata": {
            "tags": []
          }
        },
        {
          "output_type": "stream",
          "text": [
            "Saving Cuaca.csv to Cuaca.csv\n"
          ],
          "name": "stdout"
        }
      ]
    },
    {
      "cell_type": "markdown",
      "metadata": {
        "id": "4j7-4-QStoQc"
      },
      "source": [
        "# **Provinsi Jatim**"
      ]
    },
    {
      "cell_type": "code",
      "metadata": {
        "id": "Ctdpy9NotCw0"
      },
      "source": [
        "# Input data Jatim\n",
        "input_kelembaban_ratarata = []\n",
        "number_of_input = []\n",
        "number=1\n",
        "\n",
        "# Baca file.csv\n",
        "with open('/content/Cuaca.csv') as csv_file:\n",
        "  csv_reader = csv.reader(csv_file, delimiter=',')\n",
        "  next(csv_reader)\n",
        "  for row in csv_reader:\n",
        "    number_of_input.append(number)\n",
        "    input_kelembaban_ratarata.append(float(row[2]))\n",
        "    number+=1"
      ],
      "execution_count": null,
      "outputs": []
    },
    {
      "cell_type": "code",
      "metadata": {
        "colab": {
          "base_uri": "https://localhost:8080/",
          "height": 295
        },
        "id": "a5bHiYtKtQiA",
        "outputId": "cd5d4bd8-bde2-4ea9-dcb4-23fe722dc229"
      },
      "source": [
        "# Grafik garis dari Suhu\n",
        "plt.plot(number_of_input,input_kelembaban_ratarata,marker='o')\n",
        "plt.title('Kelembaban (2018 - 2020)')\n",
        "plt.ylabel('RH')\n",
        "plt.xlabel('Bulan')\n",
        "plt.show()"
      ],
      "execution_count": null,
      "outputs": [
        {
          "output_type": "display_data",
          "data": {
            "image/png": "[encoded data removed]",
            "text/plain": [
              "<Figure size 432x288 with 1 Axes>"
            ]
          },
          "metadata": {
            "tags": [],
            "needs_background": "light"
          }
        }
      ]
    },
    {
      "cell_type": "code",
      "metadata": {
        "colab": {
          "base_uri": "https://localhost:8080/"
        },
        "id": "hl7HExITrv6v",
        "outputId": "e6a939fa-2458-4eca-cfd2-0f041353f3cb"
      },
      "source": [
        "# Input dari data pada database\n",
        "dataset = []\n",
        "counter=0\n",
        "\n",
        "# Baca file.csv\n",
        "with open('/content/Cuaca.csv') as csv_file:\n",
        "  csv_reader = csv.reader(csv_file, delimiter=',')\n",
        "  next(csv_reader)\n",
        "  for row in csv_reader:\n",
        "    dataset.append([])\n",
        "    dataset[counter].append(float(row[2]))\n",
        "    counter+=1\n",
        "\n",
        "dataset = np.array(dataset)\n",
        "\n",
        "print(dataset)"
      ],
      "execution_count": null,
      "outputs": [
        {
          "output_type": "stream",
          "text": [
            "[[81.61]\n",
            " [83.07]\n",
            " [83.29]\n",
            " [77.  ]\n",
            " [74.48]\n",
            " [75.97]\n",
            " [74.26]\n",
            " [71.9 ]\n",
            " [68.3 ]\n",
            " [67.  ]\n",
            " [73.5 ]\n",
            " [77.29]\n",
            " [82.13]\n",
            " [81.93]\n",
            " [83.7 ]\n",
            " [83.6 ]\n",
            " [77.31]\n",
            " [76.33]\n",
            " [75.  ]\n",
            " [72.29]\n",
            " [70.9 ]\n",
            " [68.  ]\n",
            " [67.73]\n",
            " [74.89]\n",
            " [81.84]\n",
            " [85.45]\n",
            " [83.77]\n",
            " [82.6 ]\n",
            " [82.58]\n",
            " [79.66]\n",
            " [76.17]\n",
            " [75.77]\n",
            " [70.88]\n",
            " [72.97]\n",
            " [76.73]\n",
            " [85.06]]\n"
          ],
          "name": "stdout"
        }
      ]
    },
    {
      "cell_type": "code",
      "metadata": {
        "id": "dcyiZXY0UANG"
      },
      "source": [
        "# Normalisasi dataset\n",
        "scaler = MinMaxScaler()\n",
        "dataset = scaler.fit_transform(dataset)"
      ],
      "execution_count": null,
      "outputs": []
    },
    {
      "cell_type": "code",
      "metadata": {
        "colab": {
          "base_uri": "https://localhost:8080/"
        },
        "id": "RfJp46NhUFht",
        "outputId": "740b778b-32b5-49ba-c1fb-e7647e820e9d"
      },
      "source": [
        "# Fungsi membuat sequence\n",
        "def buat_sequences(dataset, window_size):\n",
        "    input = []\n",
        "    output = []\n",
        "\n",
        "    for i in range(len(dataset)-window_size+1):\n",
        "        window = dataset[i:(i+window_size-4), 0]\n",
        "        input.append(window)\n",
        "        output.append(dataset[(i+window_size-4):i+window_size, 0])\n",
        "    return np.array(input),np.array(output)\n",
        "\n",
        "window_size = 16\n",
        "dataInput, dataOutput = buat_sequences(dataset, window_size)\n",
        "\n",
        "print(len(dataInput))\n",
        "print(len(dataOutput))"
      ],
      "execution_count": null,
      "outputs": [
        {
          "output_type": "stream",
          "text": [
            "21\n",
            "21\n"
          ],
          "name": "stdout"
        }
      ]
    },
    {
      "cell_type": "code",
      "metadata": {
        "colab": {
          "base_uri": "https://localhost:8080/"
        },
        "id": "-UwcXJqMir2A",
        "outputId": "ac1d9ad7-89c3-4c96-ad26-987873e96716"
      },
      "source": [
        "# Bagi data untuk training dan testing\n",
        "input_train, input_test, output_train, output_test = train_test_split(dataInput, dataOutput, test_size=0.15, shuffle=True)\n",
        "\n",
        "print(len(input_train))\n",
        "print(len(input_test))"
      ],
      "execution_count": null,
      "outputs": [
        {
          "output_type": "stream",
          "text": [
            "17\n",
            "4\n"
          ],
          "name": "stdout"
        }
      ]
    },
    {
      "cell_type": "code",
      "metadata": {
        "id": "eXAW51AAUNSL",
        "colab": {
          "base_uri": "https://localhost:8080/"
        },
        "outputId": "46c887ed-3cdd-4fba-c955-fa520cfe25f3"
      },
      "source": [
        "# Ubah dimensinya untuk disesuaikan dengan model\n",
        "input_train = input_train.reshape((input_train.shape[0], 1, 1, 1, window_size-4))\n",
        "input_test = input_test.reshape((input_test.shape[0], 1, 1, 1, window_size-4))\n",
        "\n",
        "print(input_test)"
      ],
      "execution_count": null,
      "outputs": [
        {
          "output_type": "stream",
          "text": [
            "[[[[[0.55772358 0.8200542  0.80921409 0.90514905 0.899729   0.55880759\n",
            "     0.50569106 0.43360434 0.28672087 0.21138211 0.05420054 0.0395664 ]]]]\n",
            "\n",
            "\n",
            "\n",
            " [[[[0.87100271 0.88292683 0.54200542 0.40542005 0.48617886 0.39349593\n",
            "     0.26558266 0.0704607  0.         0.35230352 0.55772358 0.8200542 ]]]]\n",
            "\n",
            "\n",
            "\n",
            " [[[[0.         0.35230352 0.55772358 0.8200542  0.80921409 0.90514905\n",
            "     0.899729   0.55880759 0.50569106 0.43360434 0.28672087 0.21138211]]]]\n",
            "\n",
            "\n",
            "\n",
            " [[[[0.8200542  0.80921409 0.90514905 0.899729   0.55880759 0.50569106\n",
            "     0.43360434 0.28672087 0.21138211 0.05420054 0.0395664  0.42764228]]]]]\n"
          ],
          "name": "stdout"
        }
      ]
    },
    {
      "cell_type": "code",
      "metadata": {
        "colab": {
          "base_uri": "https://localhost:8080/"
        },
        "id": "xnjsFuOoy491",
        "outputId": "e8f1167a-04df-4d39-8499-17b60ea8eb5b"
      },
      "source": [
        "#model machine learning\n",
        "model = tf.keras.models.Sequential([\n",
        "  tf.keras.layers.ConvLSTM2D(filters=512, kernel_size=(1,1), activation='relu', input_shape=(1, 1, 1, window_size-4)),   \n",
        "  tf.keras.layers.Flatten(),\n",
        "  tf.keras.layers.Dense(256, activation=\"relu\"),\n",
        "  tf.keras.layers.Dropout(0.1),\n",
        "  tf.keras.layers.Dense(128, activation=\"relu\"),\n",
        "  tf.keras.layers.Dense(16, activation=\"relu\"),\n",
        "  tf.keras.layers.Dense(4, activation=\"relu\"),\n",
        "])\n",
        "\n",
        "opt = keras.optimizers.Adam(learning_rate=0.01)\n",
        "model.compile(optimizer=opt, loss='mean_squared_error',metrics=[\"mae\"])\n",
        "\n",
        "model.summary()\n",
        "\n",
        "#fit the model\n",
        "fitting_history = model.fit(input_train, output_train, validation_split=0.15, verbose=2, epochs=300)"
      ],
      "execution_count": null,
      "outputs": [
        {
          "output_type": "stream",
          "text": [
            "Model: \"sequential\"\n",
            "_________________________________________________________________\n",
            "Layer (type)                 Output Shape              Param #   \n",
            "=================================================================\n",
            "conv_lst_m2d (ConvLSTM2D)    (None, 1, 1, 512)         1075200   \n",
            "_________________________________________________________________\n",
            "flatten (Flatten)            (None, 512)               0         \n",
            "_________________________________________________________________\n",
            "dense (Dense)                (None, 256)               131328    \n",
            "_________________________________________________________________\n",
            "dropout (Dropout)            (None, 256)               0         \n",
            "_________________________________________________________________\n",
            "dense_1 (Dense)              (None, 128)               32896     \n",
            "_________________________________________________________________\n",
            "dense_2 (Dense)              (None, 16)                2064      \n",
            "_________________________________________________________________\n",
            "dense_3 (Dense)              (None, 4)                 68        \n",
            "=================================================================\n",
            "Total params: 1,241,556\n",
            "Trainable params: 1,241,556\n",
            "Non-trainable params: 0\n",
            "_________________________________________________________________\n",
            "Epoch 1/300\n",
            "1/1 - 3s - loss: 0.3084 - mae: 0.4812 - val_loss: 0.4282 - val_mae: 0.6003\n",
            "Epoch 2/300\n",
            "1/1 - 0s - loss: 0.2202 - mae: 0.3842 - val_loss: 0.4289 - val_mae: 0.6143\n",
            "Epoch 3/300\n",
            "1/1 - 0s - loss: 0.5087 - mae: 0.6332 - val_loss: 0.3170 - val_mae: 0.4856\n",
            "Epoch 4/300\n",
            "1/1 - 0s - loss: 0.1749 - mae: 0.3419 - val_loss: 0.4011 - val_mae: 0.6021\n",
            "Epoch 5/300\n",
            "1/1 - 0s - loss: 0.2062 - mae: 0.3709 - val_loss: 0.4354 - val_mae: 0.6338\n",
            "Epoch 6/300\n",
            "1/1 - 0s - loss: 0.2278 - mae: 0.3993 - val_loss: 0.4373 - val_mae: 0.6359\n",
            "Epoch 7/300\n",
            "1/1 - 0s - loss: 0.2306 - mae: 0.4027 - val_loss: 0.4210 - val_mae: 0.6226\n",
            "Epoch 8/300\n",
            "1/1 - 0s - loss: 0.2226 - mae: 0.3933 - val_loss: 0.3933 - val_mae: 0.5990\n",
            "Epoch 9/300\n",
            "1/1 - 0s - loss: 0.2075 - mae: 0.3763 - val_loss: 0.3559 - val_mae: 0.5642\n",
            "Epoch 10/300\n",
            "1/1 - 0s - loss: 0.1871 - mae: 0.3545 - val_loss: 0.3086 - val_mae: 0.5144\n",
            "Epoch 11/300\n",
            "1/1 - 0s - loss: 0.1642 - mae: 0.3297 - val_loss: 0.2544 - val_mae: 0.4445\n",
            "Epoch 12/300\n",
            "1/1 - 0s - loss: 0.1450 - mae: 0.3043 - val_loss: 0.2030 - val_mae: 0.3801\n",
            "Epoch 13/300\n",
            "1/1 - 0s - loss: 0.1352 - mae: 0.2971 - val_loss: 0.1706 - val_mae: 0.3311\n",
            "Epoch 14/300\n",
            "1/1 - 0s - loss: 0.1406 - mae: 0.3013 - val_loss: 0.1555 - val_mae: 0.3059\n",
            "Epoch 15/300\n",
            "1/1 - 0s - loss: 0.1425 - mae: 0.3051 - val_loss: 0.1451 - val_mae: 0.2888\n",
            "Epoch 16/300\n",
            "1/1 - 0s - loss: 0.1318 - mae: 0.2895 - val_loss: 0.1402 - val_mae: 0.2811\n",
            "Epoch 17/300\n",
            "1/1 - 0s - loss: 0.1199 - mae: 0.2715 - val_loss: 0.1436 - val_mae: 0.2928\n",
            "Epoch 18/300\n",
            "1/1 - 0s - loss: 0.1066 - mae: 0.2451 - val_loss: 0.1524 - val_mae: 0.3052\n",
            "Epoch 19/300\n",
            "1/1 - 0s - loss: 0.1061 - mae: 0.2439 - val_loss: 0.1603 - val_mae: 0.3113\n",
            "Epoch 20/300\n",
            "1/1 - 0s - loss: 0.1077 - mae: 0.2474 - val_loss: 0.1625 - val_mae: 0.3112\n",
            "Epoch 21/300\n",
            "1/1 - 0s - loss: 0.1073 - mae: 0.2464 - val_loss: 0.1590 - val_mae: 0.3030\n",
            "Epoch 22/300\n",
            "1/1 - 0s - loss: 0.1069 - mae: 0.2414 - val_loss: 0.1525 - val_mae: 0.2933\n",
            "Epoch 23/300\n",
            "1/1 - 0s - loss: 0.1047 - mae: 0.2378 - val_loss: 0.1462 - val_mae: 0.2916\n",
            "Epoch 24/300\n",
            "1/1 - 0s - loss: 0.1045 - mae: 0.2407 - val_loss: 0.1426 - val_mae: 0.2881\n",
            "Epoch 25/300\n",
            "1/1 - 0s - loss: 0.1047 - mae: 0.2437 - val_loss: 0.1410 - val_mae: 0.2881\n",
            "Epoch 26/300\n",
            "1/1 - 0s - loss: 0.1057 - mae: 0.2447 - val_loss: 0.1383 - val_mae: 0.2794\n",
            "Epoch 27/300\n",
            "1/1 - 0s - loss: 0.1028 - mae: 0.2378 - val_loss: 0.1346 - val_mae: 0.2686\n",
            "Epoch 28/300\n",
            "1/1 - 0s - loss: 0.1004 - mae: 0.2275 - val_loss: 0.1327 - val_mae: 0.2626\n",
            "Epoch 29/300\n",
            "1/1 - 0s - loss: 0.0998 - mae: 0.2244 - val_loss: 0.1342 - val_mae: 0.2582\n",
            "Epoch 30/300\n",
            "1/1 - 0s - loss: 0.0991 - mae: 0.2206 - val_loss: 0.1338 - val_mae: 0.2577\n",
            "Epoch 31/300\n",
            "1/1 - 0s - loss: 0.0985 - mae: 0.2189 - val_loss: 0.1312 - val_mae: 0.2561\n",
            "Epoch 32/300\n",
            "1/1 - 0s - loss: 0.0982 - mae: 0.2201 - val_loss: 0.1290 - val_mae: 0.2529\n",
            "Epoch 33/300\n",
            "1/1 - 0s - loss: 0.0990 - mae: 0.2220 - val_loss: 0.1294 - val_mae: 0.2518\n",
            "Epoch 34/300\n",
            "1/1 - 0s - loss: 0.1013 - mae: 0.2270 - val_loss: 0.1295 - val_mae: 0.2537\n",
            "Epoch 35/300\n",
            "1/1 - 0s - loss: 0.0993 - mae: 0.2215 - val_loss: 0.1296 - val_mae: 0.2554\n",
            "Epoch 36/300\n",
            "1/1 - 0s - loss: 0.0981 - mae: 0.2184 - val_loss: 0.1305 - val_mae: 0.2578\n",
            "Epoch 37/300\n",
            "1/1 - 0s - loss: 0.0982 - mae: 0.2182 - val_loss: 0.1320 - val_mae: 0.2594\n",
            "Epoch 38/300\n",
            "1/1 - 0s - loss: 0.0975 - mae: 0.2155 - val_loss: 0.1323 - val_mae: 0.2591\n",
            "Epoch 39/300\n",
            "1/1 - 0s - loss: 0.0986 - mae: 0.2168 - val_loss: 0.1312 - val_mae: 0.2570\n",
            "Epoch 40/300\n",
            "1/1 - 0s - loss: 0.0971 - mae: 0.2132 - val_loss: 0.1298 - val_mae: 0.2537\n",
            "Epoch 41/300\n",
            "1/1 - 0s - loss: 0.0971 - mae: 0.2111 - val_loss: 0.1299 - val_mae: 0.2528\n",
            "Epoch 42/300\n",
            "1/1 - 0s - loss: 0.0979 - mae: 0.2178 - val_loss: 0.1306 - val_mae: 0.2551\n",
            "Epoch 43/300\n",
            "1/1 - 0s - loss: 0.0965 - mae: 0.2108 - val_loss: 0.1315 - val_mae: 0.2582\n",
            "Epoch 44/300\n",
            "1/1 - 0s - loss: 0.0974 - mae: 0.2155 - val_loss: 0.1320 - val_mae: 0.2595\n",
            "Epoch 45/300\n",
            "1/1 - 0s - loss: 0.0963 - mae: 0.2101 - val_loss: 0.1320 - val_mae: 0.2592\n",
            "Epoch 46/300\n",
            "1/1 - 0s - loss: 0.0969 - mae: 0.2128 - val_loss: 0.1319 - val_mae: 0.2584\n",
            "Epoch 47/300\n",
            "1/1 - 0s - loss: 0.0972 - mae: 0.2161 - val_loss: 0.1309 - val_mae: 0.2562\n",
            "Epoch 48/300\n",
            "1/1 - 0s - loss: 0.0958 - mae: 0.2083 - val_loss: 0.1300 - val_mae: 0.2555\n",
            "Epoch 49/300\n",
            "1/1 - 0s - loss: 0.0963 - mae: 0.2090 - val_loss: 0.1295 - val_mae: 0.2557\n",
            "Epoch 50/300\n",
            "1/1 - 0s - loss: 0.0966 - mae: 0.2107 - val_loss: 0.1293 - val_mae: 0.2553\n",
            "Epoch 51/300\n",
            "1/1 - 0s - loss: 0.0961 - mae: 0.2097 - val_loss: 0.1294 - val_mae: 0.2547\n",
            "Epoch 52/300\n",
            "1/1 - 0s - loss: 0.0959 - mae: 0.2119 - val_loss: 0.1295 - val_mae: 0.2542\n",
            "Epoch 53/300\n",
            "1/1 - 0s - loss: 0.0955 - mae: 0.2084 - val_loss: 0.1290 - val_mae: 0.2545\n",
            "Epoch 54/300\n",
            "1/1 - 0s - loss: 0.0954 - mae: 0.2091 - val_loss: 0.1289 - val_mae: 0.2543\n",
            "Epoch 55/300\n",
            "1/1 - 0s - loss: 0.0955 - mae: 0.2098 - val_loss: 0.1295 - val_mae: 0.2533\n",
            "Epoch 56/300\n",
            "1/1 - 0s - loss: 0.0954 - mae: 0.2095 - val_loss: 0.1306 - val_mae: 0.2540\n",
            "Epoch 57/300\n",
            "1/1 - 0s - loss: 0.0953 - mae: 0.2092 - val_loss: 0.1313 - val_mae: 0.2548\n",
            "Epoch 58/300\n",
            "1/1 - 0s - loss: 0.0950 - mae: 0.2064 - val_loss: 0.1312 - val_mae: 0.2546\n",
            "Epoch 59/300\n",
            "1/1 - 0s - loss: 0.0956 - mae: 0.2074 - val_loss: 0.1302 - val_mae: 0.2529\n",
            "Epoch 60/300\n",
            "1/1 - 0s - loss: 0.0958 - mae: 0.2126 - val_loss: 0.1290 - val_mae: 0.2542\n",
            "Epoch 61/300\n",
            "1/1 - 0s - loss: 0.0949 - mae: 0.2086 - val_loss: 0.1285 - val_mae: 0.2552\n",
            "Epoch 62/300\n",
            "1/1 - 0s - loss: 0.0945 - mae: 0.2044 - val_loss: 0.1287 - val_mae: 0.2549\n",
            "Epoch 63/300\n",
            "1/1 - 0s - loss: 0.0951 - mae: 0.2051 - val_loss: 0.1289 - val_mae: 0.2547\n",
            "Epoch 64/300\n",
            "1/1 - 0s - loss: 0.0938 - mae: 0.2036 - val_loss: 0.1294 - val_mae: 0.2541\n",
            "Epoch 65/300\n",
            "1/1 - 0s - loss: 0.0934 - mae: 0.2026 - val_loss: 0.1302 - val_mae: 0.2532\n",
            "Epoch 66/300\n",
            "1/1 - 0s - loss: 0.0936 - mae: 0.2060 - val_loss: 0.1314 - val_mae: 0.2521\n",
            "Epoch 67/300\n",
            "1/1 - 0s - loss: 0.0941 - mae: 0.2070 - val_loss: 0.1321 - val_mae: 0.2514\n",
            "Epoch 68/300\n",
            "1/1 - 0s - loss: 0.0941 - mae: 0.2091 - val_loss: 0.1308 - val_mae: 0.2525\n",
            "Epoch 69/300\n",
            "1/1 - 0s - loss: 0.0936 - mae: 0.2084 - val_loss: 0.1291 - val_mae: 0.2545\n",
            "Epoch 70/300\n",
            "1/1 - 0s - loss: 0.0928 - mae: 0.2031 - val_loss: 0.1296 - val_mae: 0.2569\n",
            "Epoch 71/300\n",
            "1/1 - 0s - loss: 0.0920 - mae: 0.2052 - val_loss: 0.1301 - val_mae: 0.2565\n",
            "Epoch 72/300\n",
            "1/1 - 0s - loss: 0.0929 - mae: 0.2083 - val_loss: 0.1297 - val_mae: 0.2536\n",
            "Epoch 73/300\n",
            "1/1 - 0s - loss: 0.0919 - mae: 0.2023 - val_loss: 0.1309 - val_mae: 0.2513\n",
            "Epoch 74/300\n",
            "1/1 - 0s - loss: 0.0924 - mae: 0.2037 - val_loss: 0.1311 - val_mae: 0.2508\n",
            "Epoch 75/300\n",
            "1/1 - 0s - loss: 0.0913 - mae: 0.2023 - val_loss: 0.1310 - val_mae: 0.2505\n",
            "Epoch 76/300\n",
            "1/1 - 0s - loss: 0.0909 - mae: 0.2003 - val_loss: 0.1302 - val_mae: 0.2497\n",
            "Epoch 77/300\n",
            "1/1 - 0s - loss: 0.0907 - mae: 0.2018 - val_loss: 0.1280 - val_mae: 0.2504\n",
            "Epoch 78/300\n",
            "1/1 - 0s - loss: 0.0902 - mae: 0.2009 - val_loss: 0.1269 - val_mae: 0.2505\n",
            "Epoch 79/300\n",
            "1/1 - 0s - loss: 0.0904 - mae: 0.2009 - val_loss: 0.1265 - val_mae: 0.2486\n",
            "Epoch 80/300\n",
            "1/1 - 0s - loss: 0.0890 - mae: 0.1965 - val_loss: 0.1264 - val_mae: 0.2444\n",
            "Epoch 81/300\n",
            "1/1 - 0s - loss: 0.0883 - mae: 0.1939 - val_loss: 0.1270 - val_mae: 0.2390\n",
            "Epoch 82/300\n",
            "1/1 - 0s - loss: 0.0895 - mae: 0.2016 - val_loss: 0.1280 - val_mae: 0.2377\n",
            "Epoch 83/300\n",
            "1/1 - 0s - loss: 0.0876 - mae: 0.1932 - val_loss: 0.1276 - val_mae: 0.2356\n",
            "Epoch 84/300\n",
            "1/1 - 0s - loss: 0.0876 - mae: 0.1933 - val_loss: 0.1251 - val_mae: 0.2306\n",
            "Epoch 85/300\n",
            "1/1 - 0s - loss: 0.0871 - mae: 0.1885 - val_loss: 0.1226 - val_mae: 0.2222\n",
            "Epoch 86/300\n",
            "1/1 - 0s - loss: 0.0853 - mae: 0.1823 - val_loss: 0.1214 - val_mae: 0.2176\n",
            "Epoch 87/300\n",
            "1/1 - 0s - loss: 0.0865 - mae: 0.1913 - val_loss: 0.1208 - val_mae: 0.2153\n",
            "Epoch 88/300\n",
            "1/1 - 0s - loss: 0.0842 - mae: 0.1814 - val_loss: 0.1205 - val_mae: 0.2143\n",
            "Epoch 89/300\n",
            "1/1 - 0s - loss: 0.0844 - mae: 0.1825 - val_loss: 0.1207 - val_mae: 0.2133\n",
            "Epoch 90/300\n",
            "1/1 - 0s - loss: 0.0851 - mae: 0.1822 - val_loss: 0.1217 - val_mae: 0.2170\n",
            "Epoch 91/300\n",
            "1/1 - 0s - loss: 0.0872 - mae: 0.1928 - val_loss: 0.1236 - val_mae: 0.2311\n",
            "Epoch 92/300\n",
            "1/1 - 0s - loss: 0.0852 - mae: 0.1905 - val_loss: 0.1228 - val_mae: 0.2236\n",
            "Epoch 93/300\n",
            "1/1 - 0s - loss: 0.0836 - mae: 0.1807 - val_loss: 0.1214 - val_mae: 0.2166\n",
            "Epoch 94/300\n",
            "1/1 - 0s - loss: 0.0836 - mae: 0.1836 - val_loss: 0.1221 - val_mae: 0.2255\n",
            "Epoch 95/300\n",
            "1/1 - 0s - loss: 0.0840 - mae: 0.1840 - val_loss: 0.1217 - val_mae: 0.2196\n",
            "Epoch 96/300\n",
            "1/1 - 0s - loss: 0.0831 - mae: 0.1844 - val_loss: 0.1218 - val_mae: 0.2218\n",
            "Epoch 97/300\n",
            "1/1 - 0s - loss: 0.0842 - mae: 0.1841 - val_loss: 0.1267 - val_mae: 0.2484\n",
            "Epoch 98/300\n",
            "1/1 - 0s - loss: 0.0828 - mae: 0.1866 - val_loss: 0.1254 - val_mae: 0.2425\n",
            "Epoch 99/300\n",
            "1/1 - 0s - loss: 0.0808 - mae: 0.1818 - val_loss: 0.1235 - val_mae: 0.2284\n",
            "Epoch 100/300\n",
            "1/1 - 0s - loss: 0.0810 - mae: 0.1748 - val_loss: 0.1228 - val_mae: 0.2176\n",
            "Epoch 101/300\n",
            "1/1 - 0s - loss: 0.0816 - mae: 0.1804 - val_loss: 0.1226 - val_mae: 0.2214\n",
            "Epoch 102/300\n",
            "1/1 - 0s - loss: 0.0827 - mae: 0.1812 - val_loss: 0.1211 - val_mae: 0.2194\n",
            "Epoch 103/300\n",
            "1/1 - 0s - loss: 0.0803 - mae: 0.1746 - val_loss: 0.1213 - val_mae: 0.2206\n",
            "Epoch 104/300\n",
            "1/1 - 0s - loss: 0.0812 - mae: 0.1778 - val_loss: 0.1219 - val_mae: 0.2228\n",
            "Epoch 105/300\n",
            "1/1 - 0s - loss: 0.0790 - mae: 0.1703 - val_loss: 0.1227 - val_mae: 0.2239\n",
            "Epoch 106/300\n",
            "1/1 - 0s - loss: 0.0797 - mae: 0.1753 - val_loss: 0.1221 - val_mae: 0.2218\n",
            "Epoch 107/300\n",
            "1/1 - 0s - loss: 0.0784 - mae: 0.1694 - val_loss: 0.1211 - val_mae: 0.2149\n",
            "Epoch 108/300\n",
            "1/1 - 0s - loss: 0.0796 - mae: 0.1694 - val_loss: 0.1205 - val_mae: 0.2158\n",
            "Epoch 109/300\n",
            "1/1 - 0s - loss: 0.0774 - mae: 0.1640 - val_loss: 0.1209 - val_mae: 0.2191\n",
            "Epoch 110/300\n",
            "1/1 - 0s - loss: 0.0796 - mae: 0.1736 - val_loss: 0.1212 - val_mae: 0.2230\n",
            "Epoch 111/300\n",
            "1/1 - 0s - loss: 0.0808 - mae: 0.1732 - val_loss: 0.1217 - val_mae: 0.2231\n",
            "Epoch 112/300\n",
            "1/1 - 0s - loss: 0.0807 - mae: 0.1719 - val_loss: 0.1222 - val_mae: 0.2203\n",
            "Epoch 113/300\n",
            "1/1 - 0s - loss: 0.0771 - mae: 0.1654 - val_loss: 0.1226 - val_mae: 0.2207\n",
            "Epoch 114/300\n",
            "1/1 - 0s - loss: 0.0812 - mae: 0.1796 - val_loss: 0.1211 - val_mae: 0.2184\n",
            "Epoch 115/300\n",
            "1/1 - 0s - loss: 0.0784 - mae: 0.1701 - val_loss: 0.1214 - val_mae: 0.2227\n",
            "Epoch 116/300\n",
            "1/1 - 0s - loss: 0.0776 - mae: 0.1647 - val_loss: 0.1218 - val_mae: 0.2247\n",
            "Epoch 117/300\n",
            "1/1 - 0s - loss: 0.0801 - mae: 0.1764 - val_loss: 0.1218 - val_mae: 0.2256\n",
            "Epoch 118/300\n",
            "1/1 - 0s - loss: 0.0801 - mae: 0.1686 - val_loss: 0.1222 - val_mae: 0.2278\n",
            "Epoch 119/300\n",
            "1/1 - 0s - loss: 0.0785 - mae: 0.1697 - val_loss: 0.1222 - val_mae: 0.2278\n",
            "Epoch 120/300\n",
            "1/1 - 0s - loss: 0.0777 - mae: 0.1631 - val_loss: 0.1222 - val_mae: 0.2249\n",
            "Epoch 121/300\n",
            "1/1 - 0s - loss: 0.0770 - mae: 0.1610 - val_loss: 0.1227 - val_mae: 0.2250\n",
            "Epoch 122/300\n",
            "1/1 - 0s - loss: 0.0789 - mae: 0.1683 - val_loss: 0.1217 - val_mae: 0.2222\n",
            "Epoch 123/300\n",
            "1/1 - 0s - loss: 0.0776 - mae: 0.1655 - val_loss: 0.1214 - val_mae: 0.2208\n",
            "Epoch 124/300\n",
            "1/1 - 0s - loss: 0.0778 - mae: 0.1657 - val_loss: 0.1213 - val_mae: 0.2191\n",
            "Epoch 125/300\n",
            "1/1 - 0s - loss: 0.0778 - mae: 0.1688 - val_loss: 0.1217 - val_mae: 0.2227\n",
            "Epoch 126/300\n",
            "1/1 - 0s - loss: 0.0778 - mae: 0.1675 - val_loss: 0.1216 - val_mae: 0.2215\n",
            "Epoch 127/300\n",
            "1/1 - 0s - loss: 0.0795 - mae: 0.1644 - val_loss: 0.1225 - val_mae: 0.2207\n",
            "Epoch 128/300\n",
            "1/1 - 0s - loss: 0.0805 - mae: 0.1742 - val_loss: 0.1229 - val_mae: 0.2259\n",
            "Epoch 129/300\n",
            "1/1 - 0s - loss: 0.0791 - mae: 0.1653 - val_loss: 0.1239 - val_mae: 0.2335\n",
            "Epoch 130/300\n",
            "1/1 - 0s - loss: 0.0786 - mae: 0.1705 - val_loss: 0.1240 - val_mae: 0.2331\n",
            "Epoch 131/300\n",
            "1/1 - 0s - loss: 0.0776 - mae: 0.1670 - val_loss: 0.1236 - val_mae: 0.2301\n",
            "Epoch 132/300\n",
            "1/1 - 0s - loss: 0.0772 - mae: 0.1677 - val_loss: 0.1235 - val_mae: 0.2286\n",
            "Epoch 133/300\n",
            "1/1 - 0s - loss: 0.0764 - mae: 0.1631 - val_loss: 0.1237 - val_mae: 0.2256\n",
            "Epoch 134/300\n",
            "1/1 - 0s - loss: 0.0770 - mae: 0.1628 - val_loss: 0.1231 - val_mae: 0.2233\n",
            "Epoch 135/300\n",
            "1/1 - 0s - loss: 0.0793 - mae: 0.1660 - val_loss: 0.1220 - val_mae: 0.2277\n",
            "Epoch 136/300\n",
            "1/1 - 0s - loss: 0.0767 - mae: 0.1626 - val_loss: 0.1222 - val_mae: 0.2252\n",
            "Epoch 137/300\n",
            "1/1 - 0s - loss: 0.0757 - mae: 0.1614 - val_loss: 0.1222 - val_mae: 0.2248\n",
            "Epoch 138/300\n",
            "1/1 - 0s - loss: 0.0762 - mae: 0.1621 - val_loss: 0.1220 - val_mae: 0.2270\n",
            "Epoch 139/300\n",
            "1/1 - 0s - loss: 0.0762 - mae: 0.1631 - val_loss: 0.1228 - val_mae: 0.2248\n",
            "Epoch 140/300\n",
            "1/1 - 0s - loss: 0.0754 - mae: 0.1621 - val_loss: 0.1232 - val_mae: 0.2266\n",
            "Epoch 141/300\n",
            "1/1 - 0s - loss: 0.0761 - mae: 0.1617 - val_loss: 0.1223 - val_mae: 0.2247\n",
            "Epoch 142/300\n",
            "1/1 - 0s - loss: 0.0766 - mae: 0.1648 - val_loss: 0.1218 - val_mae: 0.2243\n",
            "Epoch 143/300\n",
            "1/1 - 0s - loss: 0.0752 - mae: 0.1626 - val_loss: 0.1219 - val_mae: 0.2223\n",
            "Epoch 144/300\n",
            "1/1 - 0s - loss: 0.0760 - mae: 0.1683 - val_loss: 0.1220 - val_mae: 0.2226\n",
            "Epoch 145/300\n",
            "1/1 - 0s - loss: 0.0737 - mae: 0.1570 - val_loss: 0.1223 - val_mae: 0.2258\n",
            "Epoch 146/300\n",
            "1/1 - 0s - loss: 0.0766 - mae: 0.1637 - val_loss: 0.1232 - val_mae: 0.2292\n",
            "Epoch 147/300\n",
            "1/1 - 0s - loss: 0.0770 - mae: 0.1657 - val_loss: 0.1234 - val_mae: 0.2238\n",
            "Epoch 148/300\n",
            "1/1 - 0s - loss: 0.0751 - mae: 0.1574 - val_loss: 0.1231 - val_mae: 0.2230\n",
            "Epoch 149/300\n",
            "1/1 - 0s - loss: 0.0747 - mae: 0.1635 - val_loss: 0.1236 - val_mae: 0.2247\n",
            "Epoch 150/300\n",
            "1/1 - 0s - loss: 0.0756 - mae: 0.1666 - val_loss: 0.1233 - val_mae: 0.2269\n",
            "Epoch 151/300\n",
            "1/1 - 0s - loss: 0.0741 - mae: 0.1605 - val_loss: 0.1238 - val_mae: 0.2321\n",
            "Epoch 152/300\n",
            "1/1 - 0s - loss: 0.0758 - mae: 0.1700 - val_loss: 0.1253 - val_mae: 0.2392\n",
            "Epoch 153/300\n",
            "1/1 - 0s - loss: 0.0743 - mae: 0.1602 - val_loss: 0.1252 - val_mae: 0.2336\n",
            "Epoch 154/300\n",
            "1/1 - 0s - loss: 0.0739 - mae: 0.1579 - val_loss: 0.1240 - val_mae: 0.2236\n",
            "Epoch 155/300\n",
            "1/1 - 0s - loss: 0.0733 - mae: 0.1580 - val_loss: 0.1241 - val_mae: 0.2221\n",
            "Epoch 156/300\n",
            "1/1 - 0s - loss: 0.0725 - mae: 0.1559 - val_loss: 0.1235 - val_mae: 0.2270\n",
            "Epoch 157/300\n",
            "1/1 - 0s - loss: 0.0738 - mae: 0.1619 - val_loss: 0.1241 - val_mae: 0.2342\n",
            "Epoch 158/300\n",
            "1/1 - 0s - loss: 0.0724 - mae: 0.1560 - val_loss: 0.1253 - val_mae: 0.2384\n",
            "Epoch 159/300\n",
            "1/1 - 0s - loss: 0.0730 - mae: 0.1580 - val_loss: 0.1266 - val_mae: 0.2336\n",
            "Epoch 160/300\n",
            "1/1 - 0s - loss: 0.0724 - mae: 0.1589 - val_loss: 0.1229 - val_mae: 0.2265\n",
            "Epoch 161/300\n",
            "1/1 - 0s - loss: 0.0722 - mae: 0.1588 - val_loss: 0.1228 - val_mae: 0.2307\n",
            "Epoch 162/300\n",
            "1/1 - 0s - loss: 0.0723 - mae: 0.1588 - val_loss: 0.1233 - val_mae: 0.2230\n",
            "Epoch 163/300\n",
            "1/1 - 0s - loss: 0.0719 - mae: 0.1590 - val_loss: 0.1280 - val_mae: 0.2417\n",
            "Epoch 164/300\n",
            "1/1 - 0s - loss: 0.0719 - mae: 0.1580 - val_loss: 0.1238 - val_mae: 0.2307\n",
            "Epoch 165/300\n",
            "1/1 - 0s - loss: 0.0709 - mae: 0.1498 - val_loss: 0.1236 - val_mae: 0.2306\n",
            "Epoch 166/300\n",
            "1/1 - 0s - loss: 0.0701 - mae: 0.1475 - val_loss: 0.1240 - val_mae: 0.2271\n",
            "Epoch 167/300\n",
            "1/1 - 0s - loss: 0.0704 - mae: 0.1515 - val_loss: 0.1236 - val_mae: 0.2300\n",
            "Epoch 168/300\n",
            "1/1 - 0s - loss: 0.0706 - mae: 0.1530 - val_loss: 0.1284 - val_mae: 0.2396\n",
            "Epoch 169/300\n",
            "1/1 - 0s - loss: 0.0707 - mae: 0.1525 - val_loss: 0.1305 - val_mae: 0.2482\n",
            "Epoch 170/300\n",
            "1/1 - 0s - loss: 0.0721 - mae: 0.1615 - val_loss: 0.1244 - val_mae: 0.2347\n",
            "Epoch 171/300\n",
            "1/1 - 0s - loss: 0.0732 - mae: 0.1581 - val_loss: 0.1282 - val_mae: 0.2384\n",
            "Epoch 172/300\n",
            "1/1 - 0s - loss: 0.0704 - mae: 0.1495 - val_loss: 0.1295 - val_mae: 0.2437\n",
            "Epoch 173/300\n",
            "1/1 - 0s - loss: 0.0740 - mae: 0.1594 - val_loss: 0.1240 - val_mae: 0.2329\n",
            "Epoch 174/300\n",
            "1/1 - 0s - loss: 0.0700 - mae: 0.1481 - val_loss: 0.1242 - val_mae: 0.2363\n",
            "Epoch 175/300\n",
            "1/1 - 0s - loss: 0.0730 - mae: 0.1625 - val_loss: 0.1390 - val_mae: 0.2766\n",
            "Epoch 176/300\n",
            "1/1 - 0s - loss: 0.0682 - mae: 0.1568 - val_loss: 0.1132 - val_mae: 0.2667\n",
            "Epoch 177/300\n",
            "1/1 - 0s - loss: 0.0576 - mae: 0.1472 - val_loss: 0.0862 - val_mae: 0.2246\n",
            "Epoch 178/300\n",
            "1/1 - 0s - loss: 0.0572 - mae: 0.1639 - val_loss: 0.0420 - val_mae: 0.1744\n",
            "Epoch 179/300\n",
            "1/1 - 0s - loss: 0.0404 - mae: 0.1445 - val_loss: 0.0272 - val_mae: 0.1272\n",
            "Epoch 180/300\n",
            "1/1 - 0s - loss: 0.0310 - mae: 0.1168 - val_loss: 0.0423 - val_mae: 0.1531\n",
            "Epoch 181/300\n",
            "1/1 - 0s - loss: 0.0366 - mae: 0.1305 - val_loss: 0.0351 - val_mae: 0.1541\n",
            "Epoch 182/300\n",
            "1/1 - 0s - loss: 0.0378 - mae: 0.1524 - val_loss: 0.0279 - val_mae: 0.1545\n",
            "Epoch 183/300\n",
            "1/1 - 0s - loss: 0.0332 - mae: 0.1285 - val_loss: 0.0299 - val_mae: 0.1451\n",
            "Epoch 184/300\n",
            "1/1 - 0s - loss: 0.0343 - mae: 0.1285 - val_loss: 0.0291 - val_mae: 0.1384\n",
            "Epoch 185/300\n",
            "1/1 - 0s - loss: 0.0318 - mae: 0.1180 - val_loss: 0.0230 - val_mae: 0.1289\n",
            "Epoch 186/300\n",
            "1/1 - 0s - loss: 0.0287 - mae: 0.1090 - val_loss: 0.0214 - val_mae: 0.1201\n",
            "Epoch 187/300\n",
            "1/1 - 0s - loss: 0.0269 - mae: 0.1022 - val_loss: 0.0198 - val_mae: 0.1090\n",
            "Epoch 188/300\n",
            "1/1 - 0s - loss: 0.0269 - mae: 0.1027 - val_loss: 0.0202 - val_mae: 0.1090\n",
            "Epoch 189/300\n",
            "1/1 - 0s - loss: 0.0273 - mae: 0.1040 - val_loss: 0.0232 - val_mae: 0.1185\n",
            "Epoch 190/300\n",
            "1/1 - 0s - loss: 0.0262 - mae: 0.0990 - val_loss: 0.0265 - val_mae: 0.1231\n",
            "Epoch 191/300\n",
            "1/1 - 0s - loss: 0.0289 - mae: 0.1069 - val_loss: 0.0267 - val_mae: 0.1177\n",
            "Epoch 192/300\n",
            "1/1 - 0s - loss: 0.0286 - mae: 0.1041 - val_loss: 0.0273 - val_mae: 0.1214\n",
            "Epoch 193/300\n",
            "1/1 - 0s - loss: 0.0266 - mae: 0.1018 - val_loss: 0.0259 - val_mae: 0.1209\n",
            "Epoch 194/300\n",
            "1/1 - 0s - loss: 0.0266 - mae: 0.1050 - val_loss: 0.0262 - val_mae: 0.1192\n",
            "Epoch 195/300\n",
            "1/1 - 0s - loss: 0.0251 - mae: 0.1048 - val_loss: 0.0234 - val_mae: 0.1159\n",
            "Epoch 196/300\n",
            "1/1 - 0s - loss: 0.0288 - mae: 0.1077 - val_loss: 0.0216 - val_mae: 0.1152\n",
            "Epoch 197/300\n",
            "1/1 - 0s - loss: 0.0249 - mae: 0.0904 - val_loss: 0.0203 - val_mae: 0.1205\n",
            "Epoch 198/300\n",
            "1/1 - 0s - loss: 0.0249 - mae: 0.0944 - val_loss: 0.0202 - val_mae: 0.1237\n",
            "Epoch 199/300\n",
            "1/1 - 0s - loss: 0.0252 - mae: 0.0964 - val_loss: 0.0205 - val_mae: 0.1262\n",
            "Epoch 200/300\n",
            "1/1 - 0s - loss: 0.0252 - mae: 0.1002 - val_loss: 0.0213 - val_mae: 0.1300\n",
            "Epoch 201/300\n",
            "1/1 - 0s - loss: 0.0215 - mae: 0.0893 - val_loss: 0.0190 - val_mae: 0.1258\n",
            "Epoch 202/300\n",
            "1/1 - 0s - loss: 0.0172 - mae: 0.0849 - val_loss: 0.0188 - val_mae: 0.1241\n",
            "Epoch 203/300\n",
            "1/1 - 0s - loss: 0.0128 - mae: 0.0801 - val_loss: 0.0196 - val_mae: 0.1221\n",
            "Epoch 204/300\n",
            "1/1 - 0s - loss: 0.0119 - mae: 0.0899 - val_loss: 0.0200 - val_mae: 0.1164\n",
            "Epoch 205/300\n",
            "1/1 - 0s - loss: 0.0150 - mae: 0.1010 - val_loss: 0.0200 - val_mae: 0.1139\n",
            "Epoch 206/300\n",
            "1/1 - 0s - loss: 0.0117 - mae: 0.0885 - val_loss: 0.0176 - val_mae: 0.1119\n",
            "Epoch 207/300\n",
            "1/1 - 0s - loss: 0.0127 - mae: 0.0885 - val_loss: 0.0151 - val_mae: 0.1117\n",
            "Epoch 208/300\n",
            "1/1 - 0s - loss: 0.0081 - mae: 0.0675 - val_loss: 0.0138 - val_mae: 0.1100\n",
            "Epoch 209/300\n",
            "1/1 - 0s - loss: 0.0086 - mae: 0.0710 - val_loss: 0.0139 - val_mae: 0.1064\n",
            "Epoch 210/300\n",
            "1/1 - 0s - loss: 0.0090 - mae: 0.0730 - val_loss: 0.0160 - val_mae: 0.1038\n",
            "Epoch 211/300\n",
            "1/1 - 0s - loss: 0.0069 - mae: 0.0690 - val_loss: 0.0177 - val_mae: 0.1007\n",
            "Epoch 212/300\n",
            "1/1 - 0s - loss: 0.0059 - mae: 0.0632 - val_loss: 0.0177 - val_mae: 0.0967\n",
            "Epoch 213/300\n",
            "1/1 - 0s - loss: 0.0070 - mae: 0.0621 - val_loss: 0.0179 - val_mae: 0.0936\n",
            "Epoch 214/300\n",
            "1/1 - 0s - loss: 0.0055 - mae: 0.0620 - val_loss: 0.0193 - val_mae: 0.0993\n",
            "Epoch 215/300\n",
            "1/1 - 0s - loss: 0.0041 - mae: 0.0504 - val_loss: 0.0165 - val_mae: 0.0981\n",
            "Epoch 216/300\n",
            "1/1 - 0s - loss: 0.0044 - mae: 0.0523 - val_loss: 0.0163 - val_mae: 0.1083\n",
            "Epoch 217/300\n",
            "1/1 - 0s - loss: 0.0066 - mae: 0.0631 - val_loss: 0.0186 - val_mae: 0.1235\n",
            "Epoch 218/300\n",
            "1/1 - 0s - loss: 0.0070 - mae: 0.0667 - val_loss: 0.0162 - val_mae: 0.1074\n",
            "Epoch 219/300\n",
            "1/1 - 0s - loss: 0.0060 - mae: 0.0620 - val_loss: 0.0180 - val_mae: 0.1059\n",
            "Epoch 220/300\n",
            "1/1 - 0s - loss: 0.0045 - mae: 0.0531 - val_loss: 0.0231 - val_mae: 0.1139\n",
            "Epoch 221/300\n",
            "1/1 - 0s - loss: 0.0080 - mae: 0.0715 - val_loss: 0.0191 - val_mae: 0.1013\n",
            "Epoch 222/300\n",
            "1/1 - 0s - loss: 0.0072 - mae: 0.0689 - val_loss: 0.0133 - val_mae: 0.0918\n",
            "Epoch 223/300\n",
            "1/1 - 0s - loss: 0.0059 - mae: 0.0606 - val_loss: 0.0131 - val_mae: 0.0997\n",
            "Epoch 224/300\n",
            "1/1 - 0s - loss: 0.0060 - mae: 0.0584 - val_loss: 0.0158 - val_mae: 0.1159\n",
            "Epoch 225/300\n",
            "1/1 - 0s - loss: 0.0052 - mae: 0.0566 - val_loss: 0.0160 - val_mae: 0.1128\n",
            "Epoch 226/300\n",
            "1/1 - 0s - loss: 0.0054 - mae: 0.0617 - val_loss: 0.0136 - val_mae: 0.0994\n",
            "Epoch 227/300\n",
            "1/1 - 0s - loss: 0.0048 - mae: 0.0577 - val_loss: 0.0152 - val_mae: 0.0956\n",
            "Epoch 228/300\n",
            "1/1 - 0s - loss: 0.0053 - mae: 0.0574 - val_loss: 0.0168 - val_mae: 0.0968\n",
            "Epoch 229/300\n",
            "1/1 - 0s - loss: 0.0051 - mae: 0.0584 - val_loss: 0.0165 - val_mae: 0.0984\n",
            "Epoch 230/300\n",
            "1/1 - 0s - loss: 0.0045 - mae: 0.0560 - val_loss: 0.0168 - val_mae: 0.1003\n",
            "Epoch 231/300\n",
            "1/1 - 0s - loss: 0.0035 - mae: 0.0466 - val_loss: 0.0190 - val_mae: 0.1080\n",
            "Epoch 232/300\n",
            "1/1 - 0s - loss: 0.0043 - mae: 0.0511 - val_loss: 0.0177 - val_mae: 0.1046\n",
            "Epoch 233/300\n",
            "1/1 - 0s - loss: 0.0065 - mae: 0.0648 - val_loss: 0.0181 - val_mae: 0.1057\n",
            "Epoch 234/300\n",
            "1/1 - 0s - loss: 0.0068 - mae: 0.0619 - val_loss: 0.0169 - val_mae: 0.1046\n",
            "Epoch 235/300\n",
            "1/1 - 0s - loss: 0.0043 - mae: 0.0522 - val_loss: 0.0146 - val_mae: 0.1109\n",
            "Epoch 236/300\n",
            "1/1 - 0s - loss: 0.0046 - mae: 0.0563 - val_loss: 0.0143 - val_mae: 0.1110\n",
            "Epoch 237/300\n",
            "1/1 - 0s - loss: 0.0043 - mae: 0.0540 - val_loss: 0.0146 - val_mae: 0.1069\n",
            "Epoch 238/300\n",
            "1/1 - 0s - loss: 0.0039 - mae: 0.0482 - val_loss: 0.0180 - val_mae: 0.1053\n",
            "Epoch 239/300\n",
            "1/1 - 0s - loss: 0.0056 - mae: 0.0578 - val_loss: 0.0184 - val_mae: 0.1049\n",
            "Epoch 240/300\n",
            "1/1 - 0s - loss: 0.0044 - mae: 0.0538 - val_loss: 0.0142 - val_mae: 0.1014\n",
            "Epoch 241/300\n",
            "1/1 - 0s - loss: 0.0037 - mae: 0.0481 - val_loss: 0.0131 - val_mae: 0.1050\n",
            "Epoch 242/300\n",
            "1/1 - 0s - loss: 0.0039 - mae: 0.0513 - val_loss: 0.0136 - val_mae: 0.1050\n",
            "Epoch 243/300\n",
            "1/1 - 0s - loss: 0.0067 - mae: 0.0610 - val_loss: 0.0120 - val_mae: 0.0996\n",
            "Epoch 244/300\n",
            "1/1 - 0s - loss: 0.0063 - mae: 0.0606 - val_loss: 0.0207 - val_mae: 0.1126\n",
            "Epoch 245/300\n",
            "1/1 - 0s - loss: 0.0043 - mae: 0.0517 - val_loss: 0.0305 - val_mae: 0.1407\n",
            "Epoch 246/300\n",
            "1/1 - 0s - loss: 0.0078 - mae: 0.0742 - val_loss: 0.0160 - val_mae: 0.0993\n",
            "Epoch 247/300\n",
            "1/1 - 0s - loss: 0.0047 - mae: 0.0539 - val_loss: 0.0115 - val_mae: 0.0985\n",
            "Epoch 248/300\n",
            "1/1 - 0s - loss: 0.0059 - mae: 0.0645 - val_loss: 0.0123 - val_mae: 0.0964\n",
            "Epoch 249/300\n",
            "1/1 - 0s - loss: 0.0059 - mae: 0.0609 - val_loss: 0.0180 - val_mae: 0.1069\n",
            "Epoch 250/300\n",
            "1/1 - 0s - loss: 0.0095 - mae: 0.0693 - val_loss: 0.0170 - val_mae: 0.1026\n",
            "Epoch 251/300\n",
            "1/1 - 0s - loss: 0.0047 - mae: 0.0518 - val_loss: 0.0136 - val_mae: 0.0986\n",
            "Epoch 252/300\n",
            "1/1 - 0s - loss: 0.0047 - mae: 0.0542 - val_loss: 0.0133 - val_mae: 0.1008\n",
            "Epoch 253/300\n",
            "1/1 - 0s - loss: 0.0055 - mae: 0.0577 - val_loss: 0.0170 - val_mae: 0.1019\n",
            "Epoch 254/300\n",
            "1/1 - 0s - loss: 0.0043 - mae: 0.0506 - val_loss: 0.0186 - val_mae: 0.1038\n",
            "Epoch 255/300\n",
            "1/1 - 0s - loss: 0.0044 - mae: 0.0531 - val_loss: 0.0134 - val_mae: 0.0994\n",
            "Epoch 256/300\n",
            "1/1 - 0s - loss: 0.0044 - mae: 0.0492 - val_loss: 0.0147 - val_mae: 0.1051\n",
            "Epoch 257/300\n",
            "1/1 - 0s - loss: 0.0057 - mae: 0.0614 - val_loss: 0.0151 - val_mae: 0.1054\n",
            "Epoch 258/300\n",
            "1/1 - 0s - loss: 0.0045 - mae: 0.0548 - val_loss: 0.0115 - val_mae: 0.0958\n",
            "Epoch 259/300\n",
            "1/1 - 0s - loss: 0.0034 - mae: 0.0453 - val_loss: 0.0174 - val_mae: 0.1045\n",
            "Epoch 260/300\n",
            "1/1 - 0s - loss: 0.0045 - mae: 0.0524 - val_loss: 0.0201 - val_mae: 0.1099\n",
            "Epoch 261/300\n",
            "1/1 - 0s - loss: 0.0059 - mae: 0.0622 - val_loss: 0.0140 - val_mae: 0.0961\n",
            "Epoch 262/300\n",
            "1/1 - 0s - loss: 0.0039 - mae: 0.0470 - val_loss: 0.0119 - val_mae: 0.0921\n",
            "Epoch 263/300\n",
            "1/1 - 0s - loss: 0.0033 - mae: 0.0451 - val_loss: 0.0126 - val_mae: 0.0933\n",
            "Epoch 264/300\n",
            "1/1 - 0s - loss: 0.0041 - mae: 0.0514 - val_loss: 0.0151 - val_mae: 0.0971\n",
            "Epoch 265/300\n",
            "1/1 - 0s - loss: 0.0039 - mae: 0.0510 - val_loss: 0.0160 - val_mae: 0.0985\n",
            "Epoch 266/300\n",
            "1/1 - 0s - loss: 0.0034 - mae: 0.0448 - val_loss: 0.0143 - val_mae: 0.0962\n",
            "Epoch 267/300\n",
            "1/1 - 0s - loss: 0.0044 - mae: 0.0537 - val_loss: 0.0117 - val_mae: 0.0975\n",
            "Epoch 268/300\n",
            "1/1 - 0s - loss: 0.0023 - mae: 0.0396 - val_loss: 0.0116 - val_mae: 0.1000\n",
            "Epoch 269/300\n",
            "1/1 - 0s - loss: 0.0040 - mae: 0.0534 - val_loss: 0.0121 - val_mae: 0.0967\n",
            "Epoch 270/300\n",
            "1/1 - 0s - loss: 0.0025 - mae: 0.0397 - val_loss: 0.0162 - val_mae: 0.0979\n",
            "Epoch 271/300\n",
            "1/1 - 0s - loss: 0.0033 - mae: 0.0483 - val_loss: 0.0171 - val_mae: 0.1019\n",
            "Epoch 272/300\n",
            "1/1 - 0s - loss: 0.0051 - mae: 0.0537 - val_loss: 0.0133 - val_mae: 0.0970\n",
            "Epoch 273/300\n",
            "1/1 - 0s - loss: 0.0032 - mae: 0.0435 - val_loss: 0.0139 - val_mae: 0.1006\n",
            "Epoch 274/300\n",
            "1/1 - 0s - loss: 0.0041 - mae: 0.0535 - val_loss: 0.0137 - val_mae: 0.0988\n",
            "Epoch 275/300\n",
            "1/1 - 0s - loss: 0.0040 - mae: 0.0525 - val_loss: 0.0148 - val_mae: 0.0991\n",
            "Epoch 276/300\n",
            "1/1 - 0s - loss: 0.0104 - mae: 0.0571 - val_loss: 0.0176 - val_mae: 0.1035\n",
            "Epoch 277/300\n",
            "1/1 - 0s - loss: 0.0041 - mae: 0.0500 - val_loss: 0.0142 - val_mae: 0.0927\n",
            "Epoch 278/300\n",
            "1/1 - 0s - loss: 0.0026 - mae: 0.0388 - val_loss: 0.0106 - val_mae: 0.0892\n",
            "Epoch 279/300\n",
            "1/1 - 0s - loss: 0.0036 - mae: 0.0445 - val_loss: 0.0100 - val_mae: 0.0927\n",
            "Epoch 280/300\n",
            "1/1 - 0s - loss: 0.0053 - mae: 0.0546 - val_loss: 0.0105 - val_mae: 0.0924\n",
            "Epoch 281/300\n",
            "1/1 - 0s - loss: 0.0027 - mae: 0.0444 - val_loss: 0.0126 - val_mae: 0.0941\n",
            "Epoch 282/300\n",
            "1/1 - 0s - loss: 0.0047 - mae: 0.0523 - val_loss: 0.0151 - val_mae: 0.0965\n",
            "Epoch 283/300\n",
            "1/1 - 0s - loss: 0.0035 - mae: 0.0449 - val_loss: 0.0167 - val_mae: 0.1026\n",
            "Epoch 284/300\n",
            "1/1 - 0s - loss: 0.0034 - mae: 0.0475 - val_loss: 0.0159 - val_mae: 0.1022\n",
            "Epoch 285/300\n",
            "1/1 - 0s - loss: 0.0030 - mae: 0.0454 - val_loss: 0.0147 - val_mae: 0.0967\n",
            "Epoch 286/300\n",
            "1/1 - 0s - loss: 0.0027 - mae: 0.0409 - val_loss: 0.0134 - val_mae: 0.0944\n",
            "Epoch 287/300\n",
            "1/1 - 0s - loss: 0.0046 - mae: 0.0498 - val_loss: 0.0116 - val_mae: 0.0924\n",
            "Epoch 288/300\n",
            "1/1 - 0s - loss: 0.0033 - mae: 0.0420 - val_loss: 0.0117 - val_mae: 0.0925\n",
            "Epoch 289/300\n",
            "1/1 - 0s - loss: 0.0021 - mae: 0.0367 - val_loss: 0.0127 - val_mae: 0.0912\n",
            "Epoch 290/300\n",
            "1/1 - 0s - loss: 0.0036 - mae: 0.0486 - val_loss: 0.0114 - val_mae: 0.0907\n",
            "Epoch 291/300\n",
            "1/1 - 0s - loss: 0.0039 - mae: 0.0519 - val_loss: 0.0098 - val_mae: 0.0932\n",
            "Epoch 292/300\n",
            "1/1 - 0s - loss: 0.0025 - mae: 0.0397 - val_loss: 0.0115 - val_mae: 0.0973\n",
            "Epoch 293/300\n",
            "1/1 - 0s - loss: 0.0036 - mae: 0.0491 - val_loss: 0.0110 - val_mae: 0.0937\n",
            "Epoch 294/300\n",
            "1/1 - 0s - loss: 0.0023 - mae: 0.0397 - val_loss: 0.0135 - val_mae: 0.0953\n",
            "Epoch 295/300\n",
            "1/1 - 0s - loss: 0.0028 - mae: 0.0427 - val_loss: 0.0177 - val_mae: 0.1073\n",
            "Epoch 296/300\n",
            "1/1 - 0s - loss: 0.0036 - mae: 0.0460 - val_loss: 0.0167 - val_mae: 0.1053\n",
            "Epoch 297/300\n",
            "1/1 - 0s - loss: 0.0035 - mae: 0.0489 - val_loss: 0.0127 - val_mae: 0.0919\n",
            "Epoch 298/300\n",
            "1/1 - 0s - loss: 0.0029 - mae: 0.0436 - val_loss: 0.0115 - val_mae: 0.0929\n",
            "Epoch 299/300\n",
            "1/1 - 0s - loss: 0.0040 - mae: 0.0488 - val_loss: 0.0107 - val_mae: 0.0936\n",
            "Epoch 300/300\n",
            "1/1 - 0s - loss: 0.0044 - mae: 0.0533 - val_loss: 0.0108 - val_mae: 0.0894\n"
          ],
          "name": "stdout"
        }
      ]
    },
    {
      "cell_type": "code",
      "metadata": {
        "colab": {
          "base_uri": "https://localhost:8080/",
          "height": 314
        },
        "id": "A1YC68UB2oBC",
        "outputId": "751eba80-749e-4cca-92b5-c0bc382b8a76"
      },
      "source": [
        "# Grafik training dan validation loss\n",
        "training_loss=fitting_history.history['loss']\n",
        "validation_loss=fitting_history.history['val_loss']\n",
        "epochs=range(len(training_loss))\n",
        "\n",
        "plt.plot(epochs, training_loss, 'r', label=\"Training Loss\")\n",
        "plt.plot(epochs, validation_loss, 'b', label=\"Validation Loss\")\n",
        "plt.title('Training and validation loss')\n",
        "plt.legend(loc=0)\n",
        "plt.figure()"
      ],
      "execution_count": null,
      "outputs": [
        {
          "output_type": "execute_result",
          "data": {
            "text/plain": [
              "<Figure size 432x288 with 0 Axes>"
            ]
          },
          "metadata": {
            "tags": []
          },
          "execution_count": 23
        },
        {
          "output_type": "display_data",
          "data": {
            "image/png": "[encoded data removed]",
            "text/plain": [
              "<Figure size 432x288 with 1 Axes>"
            ]
          },
          "metadata": {
            "tags": [],
            "needs_background": "light"
          }
        },
        {
          "output_type": "display_data",
          "data": {
            "text/plain": [
              "<Figure size 432x288 with 0 Axes>"
            ]
          },
          "metadata": {
            "tags": []
          }
        }
      ]
    },
    {
      "cell_type": "code",
      "metadata": {
        "colab": {
          "base_uri": "https://localhost:8080/",
          "height": 314
        },
        "id": "qIVAhEqD2phA",
        "outputId": "c49b3a0c-f657-4d98-9e59-4cffec27fc58"
      },
      "source": [
        "# Grafik training and validation MAE\n",
        "training_mae=fitting_history.history['mae']\n",
        "validation_mae=fitting_history.history['val_mae']\n",
        "epochs=range(len(training_mae))\n",
        "\n",
        "plt.plot(epochs, training_mae, 'r', label=\"Training MAE\")\n",
        "plt.plot(epochs, validation_mae, 'b', label=\"Validation MAE\")\n",
        "plt.title('Training and validation MAE')\n",
        "plt.legend(loc=0)\n",
        "plt.figure()"
      ],
      "execution_count": null,
      "outputs": [
        {
          "output_type": "execute_result",
          "data": {
            "text/plain": [
              "<Figure size 432x288 with 0 Axes>"
            ]
          },
          "metadata": {
            "tags": []
          },
          "execution_count": 24
        },
        {
          "output_type": "display_data",
          "data": {
            "image/png": "[encoded data removed]",
            "text/plain": [
              "<Figure size 432x288 with 1 Axes>"
            ]
          },
          "metadata": {
            "tags": [],
            "needs_background": "light"
          }
        },
        {
          "output_type": "display_data",
          "data": {
            "text/plain": [
              "<Figure size 432x288 with 0 Axes>"
            ]
          },
          "metadata": {
            "tags": []
          }
        }
      ]
    },
    {
      "cell_type": "code",
      "metadata": {
        "colab": {
          "base_uri": "https://localhost:8080/"
        },
        "id": "mYemiIBAeXOb",
        "outputId": "41b27bcb-3987-4b95-ff7e-302b74621fb9"
      },
      "source": [
        "# Menghitung nilai MSE dan MAE\n",
        "mse_score, mae_score = model.evaluate(input_test, output_test)\n",
        "print('Nilai Mean Squared Error (MSE) : ', mse_score)\n",
        "print('Nilai Mean Absolute Error (MAE) : ', mae_score)"
      ],
      "execution_count": null,
      "outputs": [
        {
          "output_type": "stream",
          "text": [
            "1/1 [==============================] - 0s 24ms/step - loss: 0.0319 - mae: 0.1458\n",
            "Nilai Mean Squared Error (MSE) :  0.031934723258018494\n",
            "Nilai Mean Absolute Error (MAE) :  0.14583678543567657\n"
          ],
          "name": "stdout"
        }
      ]
    },
    {
      "cell_type": "code",
      "metadata": {
        "id": "Wpn2w9R-5LSY"
      },
      "source": [
        "# Simpan model\n",
        "model.save('model-kelembaban.h5')"
      ],
      "execution_count": null,
      "outputs": []
    },
    {
      "cell_type": "markdown",
      "metadata": {
        "id": "j0gtqKfD5N6d"
      },
      "source": [
        "# **Testing Model**"
      ]
    },
    {
      "cell_type": "code",
      "metadata": {
        "id": "o_3DBMeZ5gdD"
      },
      "source": [
        "# Load the model\n",
        "model = tf.keras.models.load_model('model-kelembaban.h5')"
      ],
      "execution_count": null,
      "outputs": []
    },
    {
      "cell_type": "code",
      "metadata": {
        "id": "UJ6BsbEZUVFr"
      },
      "source": [
        "#Prediksi Data\n",
        "data_prediksi = model.predict(input_test)"
      ],
      "execution_count": null,
      "outputs": []
    },
    {
      "cell_type": "code",
      "metadata": {
        "colab": {
          "base_uri": "https://localhost:8080/"
        },
        "id": "_gyJGODddK7S",
        "outputId": "b3ff2fdb-d17f-4342-f0ed-7483ba7dee05"
      },
      "source": [
        "print(data_prediksi)\n",
        "print(\"-------\")\n",
        "print(output_test)"
      ],
      "execution_count": null,
      "outputs": [
        {
          "output_type": "stream",
          "text": [
            "[[0.03118978 0.52596617 0.9013916  1.173393  ]\n",
            " [0.89550537 0.8067166  0.7797092  0.7577305 ]\n",
            " [0.0684009  0.24729526 0.4460272  0.7711442 ]\n",
            " [0.8618379  0.79011226 0.75277203 0.7507536 ]]\n",
            "-------\n",
            "[[0.42764228 0.80433604 1.         0.90894309]\n",
            " [0.80921409 0.90514905 0.899729   0.55880759]\n",
            " [0.05420054 0.0395664  0.42764228 0.80433604]\n",
            " [0.80433604 1.         0.90894309 0.84552846]]\n"
          ],
          "name": "stdout"
        }
      ]
    },
    {
      "cell_type": "code",
      "metadata": {
        "id": "jiFXCtfyUYA0"
      },
      "source": [
        "# Inverse transform data min max\n",
        "data_prediksi = scaler.inverse_transform(data_prediksi)\n",
        "output_test = scaler.inverse_transform(output_test)"
      ],
      "execution_count": null,
      "outputs": []
    },
    {
      "cell_type": "code",
      "metadata": {
        "colab": {
          "base_uri": "https://localhost:8080/"
        },
        "id": "UM0zjtzmbKPB",
        "outputId": "5aa623c6-5377-4c33-b3a4-6c4e683cce62"
      },
      "source": [
        "print(data_prediksi)\n",
        "print(\"-------\")\n",
        "print(output_test)"
      ],
      "execution_count": null,
      "outputs": [
        {
          "output_type": "stream",
          "text": [
            "[[67.57545  76.70408  83.63068  88.64909 ]\n",
            " [83.52208  81.88392  81.385635 80.980125]\n",
            " [68.26199  71.5626   75.2292   81.227615]\n",
            " [82.90091  81.57757  80.88864  80.8514  ]]\n",
            "-------\n",
            "[[74.89 81.84 85.45 83.77]\n",
            " [81.93 83.7  83.6  77.31]\n",
            " [68.   67.73 74.89 81.84]\n",
            " [81.84 85.45 83.77 82.6 ]]\n"
          ],
          "name": "stdout"
        }
      ]
    },
    {
      "cell_type": "code",
      "metadata": {
        "colab": {
          "base_uri": "https://localhost:8080/",
          "height": 362
        },
        "id": "CX_AAp2qf3-h",
        "outputId": "9cb25185-c46b-4e19-edcf-5896ed3b918d"
      },
      "source": [
        "temp_test=[]\n",
        "number=[]\n",
        "count=1\n",
        "\n",
        "for j in output_test[0]:\n",
        "  temp_test.append(j)\n",
        "  number.append(count)\n",
        "  count+=1\n",
        "  \n",
        "print(temp_test)\n",
        "print(number)\n",
        "\n",
        "temp_predict=[]\n",
        "number=[]\n",
        "count=1\n",
        "\n",
        "for j in data_prediksi[0]:\n",
        "  temp_predict.append(j)\n",
        "  number.append(count)\n",
        "  count+=1\n",
        "  \n",
        "print(temp_predict)\n",
        "print(number)\n",
        "\n",
        "# Grafik garis dari Suhu\n",
        "plt.plot(number,temp_predict,marker='o',color=\"yellow\")\n",
        "plt.plot(number,temp_test,marker='o',color=\"black\")\n",
        "plt.title('Kelembaban')\n",
        "plt.ylabel('RH')\n",
        "plt.xlabel('Bulan')\n",
        "plt.show()"
      ],
      "execution_count": null,
      "outputs": [
        {
          "output_type": "stream",
          "text": [
            "[74.89, 81.83999999999999, 85.45, 83.77]\n",
            "[1, 2, 3, 4]\n",
            "[67.57545, 76.70408, 83.63068, 88.64909]\n",
            "[1, 2, 3, 4]\n"
          ],
          "name": "stdout"
        },
        {
          "output_type": "display_data",
          "data": {
            "image/png": "[encoded data removed]",
            "text/plain": [
              "<Figure size 432x288 with 1 Axes>"
            ]
          },
          "metadata": {
            "tags": [],
            "needs_background": "light"
          }
        }
      ]
    },
    {
      "cell_type": "code",
      "metadata": {
        "colab": {
          "base_uri": "https://localhost:8080/",
          "height": 362
        },
        "id": "CaWGJ_dmgicp",
        "outputId": "e742a11c-4c86-4036-ff5b-79f824222fde"
      },
      "source": [
        "temp_test=[]\n",
        "number=[]\n",
        "count=1\n",
        "\n",
        "for j in output_test[1]:\n",
        "  temp_test.append(j)\n",
        "  number.append(count)\n",
        "  count+=1\n",
        "  \n",
        "print(temp_test)\n",
        "print(number)\n",
        "\n",
        "temp_predict=[]\n",
        "number=[]\n",
        "count=1\n",
        "\n",
        "for j in data_prediksi[1]:\n",
        "  temp_predict.append(j)\n",
        "  number.append(count)\n",
        "  count+=1\n",
        "  \n",
        "print(temp_predict)\n",
        "print(number)\n",
        "\n",
        "# Grafik garis dari Suhu\n",
        "plt.plot(number,temp_predict,marker='o',color=\"yellow\")\n",
        "plt.plot(number,temp_test,marker='o',color=\"black\")\n",
        "plt.title('Kelembaban')\n",
        "plt.ylabel('RH')\n",
        "plt.xlabel('Bulan')\n",
        "plt.show()"
      ],
      "execution_count": null,
      "outputs": [
        {
          "output_type": "stream",
          "text": [
            "[81.93, 83.7, 83.6, 77.31]\n",
            "[1, 2, 3, 4]\n",
            "[83.52208, 81.88392, 81.385635, 80.980125]\n",
            "[1, 2, 3, 4]\n"
          ],
          "name": "stdout"
        },
        {
          "output_type": "display_data",
          "data": {
            "image/png": "[encoded data removed]",
            "text/plain": [
              "<Figure size 432x288 with 1 Axes>"
            ]
          },
          "metadata": {
            "tags": [],
            "needs_background": "light"
          }
        }
      ]
    },
    {
      "cell_type": "code",
      "metadata": {
        "colab": {
          "base_uri": "https://localhost:8080/",
          "height": 362
        },
        "id": "pIx2JbDs2M4i",
        "outputId": "4bc9fdaf-23e2-4c2e-8486-439954849bed"
      },
      "source": [
        "temp_test=[]\n",
        "number=[]\n",
        "count=1\n",
        "\n",
        "for j in output_test[2]:\n",
        "  temp_test.append(j)\n",
        "  number.append(count)\n",
        "  count+=1\n",
        "  \n",
        "print(temp_test)\n",
        "print(number)\n",
        "\n",
        "temp_predict=[]\n",
        "number=[]\n",
        "count=1\n",
        "\n",
        "for j in data_prediksi[2]:\n",
        "  temp_predict.append(j)\n",
        "  number.append(count)\n",
        "  count+=1\n",
        "  \n",
        "print(temp_predict)\n",
        "print(number)\n",
        "\n",
        "# Grafik garis dari Suhu\n",
        "plt.plot(number,temp_predict,marker='o',color=\"yellow\")\n",
        "plt.plot(number,temp_test,marker='o',color=\"black\")\n",
        "plt.title('Kelembaban')\n",
        "plt.ylabel('RH')\n",
        "plt.xlabel('Bulan')\n",
        "plt.show()"
      ],
      "execution_count": null,
      "outputs": [
        {
          "output_type": "stream",
          "text": [
            "[68.0, 67.73, 74.89, 81.83999999999999]\n",
            "[1, 2, 3, 4]\n",
            "[68.26199, 71.5626, 75.2292, 81.227615]\n",
            "[1, 2, 3, 4]\n"
          ],
          "name": "stdout"
        },
        {
          "output_type": "display_data",
          "data": {
            "image/png": "[encoded data removed]",
            "text/plain": [
              "<Figure size 432x288 with 1 Axes>"
            ]
          },
          "metadata": {
            "tags": [],
            "needs_background": "light"
          }
        }
      ]
    },
    {
      "cell_type": "code",
      "metadata": {
        "colab": {
          "base_uri": "https://localhost:8080/",
          "height": 362
        },
        "id": "FjKgCyhJ2Omf",
        "outputId": "685596ad-45a3-43b9-c072-a591d58a3e5a"
      },
      "source": [
        "temp_test=[]\n",
        "number=[]\n",
        "count=1\n",
        "\n",
        "for j in output_test[3]:\n",
        "  temp_test.append(j)\n",
        "  number.append(count)\n",
        "  count+=1\n",
        "  \n",
        "print(temp_test)\n",
        "print(number)\n",
        "\n",
        "temp_predict=[]\n",
        "number=[]\n",
        "count=1\n",
        "\n",
        "for j in data_prediksi[3]:\n",
        "  temp_predict.append(j)\n",
        "  number.append(count)\n",
        "  count+=1\n",
        "  \n",
        "print(temp_predict)\n",
        "print(number)\n",
        "\n",
        "# Grafik garis dari Suhu\n",
        "plt.plot(number,temp_predict,marker='o',color=\"yellow\")\n",
        "plt.plot(number,temp_test,marker='o',color=\"black\")\n",
        "plt.title('Kelembaban')\n",
        "plt.ylabel('RH')\n",
        "plt.xlabel('Bulan')\n",
        "plt.show()"
      ],
      "execution_count": null,
      "outputs": [
        {
          "output_type": "stream",
          "text": [
            "[81.83999999999999, 85.45, 83.77, 82.6]\n",
            "[1, 2, 3, 4]\n",
            "[82.90091, 81.57757, 80.88864, 80.8514]\n",
            "[1, 2, 3, 4]\n"
          ],
          "name": "stdout"
        },
        {
          "output_type": "display_data",
          "data": {
            "image/png": "[encoded data removed]",
            "text/plain": [
              "<Figure size 432x288 with 1 Axes>"
            ]
          },
          "metadata": {
            "tags": [],
            "needs_background": "light"
          }
        }
      ]
    }
  ]
}