{
  "nbformat": 4,
  "nbformat_minor": 0,
  "metadata": {
    "colab": {
      "name": "[Suhu]ML-Model.ipynb",
      "provenance": [],
      "collapsed_sections": [],
      "toc_visible": true,
      "authorship_tag": "ABX9TyNThoVkUmG2Y++GK8TbpNM9",
      "include_colab_link": true
    },
    "kernelspec": {
      "name": "python3",
      "display_name": "Python 3"
    },
    "language_info": {
      "name": "python"
    }
  },
  "cells": [
    {
      "cell_type": "markdown",
      "metadata": {
        "id": "view-in-github",
        "colab_type": "text"
      },
      "source": [
        "<a href=\"https://colab.research.google.com/github/u1-byte/SmartCropYieldsPrediction/blob/main/Machine%20Learning/Code/%5BSuhu%5DML_Model.ipynb\" target=\"_parent\"><img src=\"https://colab.research.google.com/assets/colab-badge.svg\" alt=\"Open In Colab\"/></a>"
      ]
    },
    {
      "cell_type": "code",
      "metadata": {
        "id": "kTPzSD0srTVw"
      },
      "source": [
        "#import library\n",
        "import tensorflow as tf\n",
        "import numpy as np\n",
        "import matplotlib.pyplot as plt\n",
        "from tensorflow import keras\n",
        "from google.colab import files\n",
        "import csv\n",
        "from sklearn.preprocessing import MinMaxScaler\n",
        "from sklearn.metrics import mean_squared_error\n",
        "from sklearn.model_selection import train_test_split"
      ],
      "execution_count": null,
      "outputs": []
    },
    {
      "cell_type": "code",
      "metadata": {
        "colab": {
          "resources": {
            "http://localhost:8080/nbextensions/google.colab/files.js": {
              "data": "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",
              "ok": true,
              "headers": [
                [
                  "content-type",
                  "application/javascript"
                ]
              ],
              "status": 200,
              "status_text": ""
            }
          },
          "base_uri": "https://localhost:8080/",
          "height": 73
        },
        "id": "9pW1P_9fTl4j",
        "outputId": "21b7461e-b340-4efb-cacb-414249a5f2d2"
      },
      "source": [
        "# Upload file dataset dari lokal\n",
        "uploaded = files.upload()"
      ],
      "execution_count": null,
      "outputs": [
        {
          "output_type": "display_data",
          "data": {
            "text/html": [
              "\n",
              "     <input type=\"file\" id=\"files-76bce620-9b77-4df5-beaa-fe71335ed1d5\" name=\"files[]\" multiple disabled\n",
              "        style=\"border:none\" />\n",
              "     <output id=\"result-76bce620-9b77-4df5-beaa-fe71335ed1d5\">\n",
              "      Upload widget is only available when the cell has been executed in the\n",
              "      current browser session. Please rerun this cell to enable.\n",
              "      </output>\n",
              "      <script src=\"/nbextensions/google.colab/files.js\"></script> "
            ],
            "text/plain": [
              "<IPython.core.display.HTML object>"
            ]
          },
          "metadata": {
            "tags": []
          }
        },
        {
          "output_type": "stream",
          "text": [
            "Saving Cuaca - Copy.csv to Cuaca - Copy.csv\n"
          ],
          "name": "stdout"
        }
      ]
    },
    {
      "cell_type": "markdown",
      "metadata": {
        "id": "4j7-4-QStoQc"
      },
      "source": [
        "# **Provinsi Jatim**"
      ]
    },
    {
      "cell_type": "code",
      "metadata": {
        "id": "Ctdpy9NotCw0"
      },
      "source": [
        "# Input data Jatim\n",
        "input_suhu_ratarata = []\n",
        "number_of_input = []\n",
        "number=1\n",
        "\n",
        "# Baca file.csv\n",
        "with open('/content/Cuaca.csv') as csv_file:\n",
        "  csv_reader = csv.reader(csv_file, delimiter=',')\n",
        "  next(csv_reader)\n",
        "  for row in csv_reader:\n",
        "    number_of_input.append(number)\n",
        "    input_suhu_ratarata.append(float(row[1]))\n",
        "    number+=1"
      ],
      "execution_count": null,
      "outputs": []
    },
    {
      "cell_type": "code",
      "metadata": {
        "colab": {
          "base_uri": "https://localhost:8080/",
          "height": 295
        },
        "id": "a5bHiYtKtQiA",
        "outputId": "ea56bef3-8665-44cc-845c-7487fce61023"
      },
      "source": [
        "# Grafik garis dari Suhu\n",
        "plt.plot(number_of_input,input_suhu_ratarata,marker='o')\n",
        "plt.title('Suhu (2018 - 2020)')\n",
        "plt.ylabel('C')\n",
        "plt.xlabel('Bulan')\n",
        "plt.show()"
      ],
      "execution_count": null,
      "outputs": [
        {
          "output_type": "display_data",
          "data": {
            "image/png": "[encoded data removed]",
            "text/plain": [
              "<Figure size 432x288 with 1 Axes>"
            ]
          },
          "metadata": {
            "tags": [],
            "needs_background": "light"
          }
        }
      ]
    },
    {
      "cell_type": "code",
      "metadata": {
        "colab": {
          "base_uri": "https://localhost:8080/"
        },
        "id": "hl7HExITrv6v",
        "outputId": "8bfedfcb-c98c-44d1-ae0b-02e540fca88c"
      },
      "source": [
        "# Input dari data pada database\n",
        "dataset = []\n",
        "counter=0\n",
        "\n",
        "# Baca file.csv\n",
        "with open('/content/Cuaca.csv') as csv_file:\n",
        "  csv_reader = csv.reader(csv_file, delimiter=',')\n",
        "  next(csv_reader)\n",
        "  for row in csv_reader:\n",
        "    dataset.append([])\n",
        "    dataset[counter].append(float(row[1]))\n",
        "    counter+=1\n",
        "\n",
        "dataset = np.array(dataset)\n",
        "\n",
        "print(dataset)"
      ],
      "execution_count": null,
      "outputs": [
        {
          "output_type": "stream",
          "text": [
            "[[27.69]\n",
            " [27.21]\n",
            " [27.64]\n",
            " [28.96]\n",
            " [28.75]\n",
            " [27.91]\n",
            " [26.66]\n",
            " [26.67]\n",
            " [28.05]\n",
            " [29.35]\n",
            " [29.51]\n",
            " [29.03]\n",
            " [27.84]\n",
            " [28.  ]\n",
            " [27.68]\n",
            " [28.37]\n",
            " [28.46]\n",
            " [27.13]\n",
            " [26.49]\n",
            " [26.66]\n",
            " [27.3 ]\n",
            " [28.89]\n",
            " [30.25]\n",
            " [29.86]\n",
            " [28.38]\n",
            " [27.68]\n",
            " [28.19]\n",
            " [28.54]\n",
            " [28.39]\n",
            " [27.68]\n",
            " [27.28]\n",
            " [27.54]\n",
            " [28.72]\n",
            " [29.18]\n",
            " [29.17]\n",
            " [27.26]]\n"
          ],
          "name": "stdout"
        }
      ]
    },
    {
      "cell_type": "code",
      "metadata": {
        "id": "dcyiZXY0UANG"
      },
      "source": [
        "# Normalisasi dataset\n",
        "scaler = MinMaxScaler()\n",
        "dataset = scaler.fit_transform(dataset)"
      ],
      "execution_count": null,
      "outputs": []
    },
    {
      "cell_type": "code",
      "metadata": {
        "colab": {
          "base_uri": "https://localhost:8080/"
        },
        "id": "RfJp46NhUFht",
        "outputId": "63154549-165d-49de-e11b-93db15056455"
      },
      "source": [
        "# Fungsi membuat sequence\n",
        "def buat_sequences(dataset, window_size):\n",
        "    input = []\n",
        "    output = []\n",
        "\n",
        "    for i in range(len(dataset)-window_size+1):\n",
        "        window = dataset[i:(i+window_size-4), 0]\n",
        "        input.append(window)\n",
        "        output.append(dataset[(i+window_size-4):i+window_size, 0])\n",
        "    return np.array(input),np.array(output)\n",
        "\n",
        "window_size = 16\n",
        "dataInput, dataOutput = buat_sequences(dataset, window_size)\n",
        "\n",
        "print(len(dataInput))\n",
        "print(len(dataOutput))"
      ],
      "execution_count": null,
      "outputs": [
        {
          "output_type": "stream",
          "text": [
            "21\n",
            "21\n"
          ],
          "name": "stdout"
        }
      ]
    },
    {
      "cell_type": "code",
      "metadata": {
        "colab": {
          "base_uri": "https://localhost:8080/"
        },
        "id": "CEtY7eM4AnPH",
        "outputId": "466e742a-238b-467f-8ba5-c4c3a0e053f1"
      },
      "source": [
        "# Bagi data untuk training dan testing\n",
        "input_train, input_test, output_train, output_test = train_test_split(dataInput, dataOutput, test_size=0.15, shuffle=True)\n",
        "\n",
        "print(len(input_train))\n",
        "print(len(input_test))"
      ],
      "execution_count": null,
      "outputs": [
        {
          "output_type": "stream",
          "text": [
            "17\n",
            "4\n"
          ],
          "name": "stdout"
        }
      ]
    },
    {
      "cell_type": "code",
      "metadata": {
        "id": "eXAW51AAUNSL",
        "colab": {
          "base_uri": "https://localhost:8080/"
        },
        "outputId": "12f4189b-bc92-4a6c-b551-10a3ed652cf3"
      },
      "source": [
        "# Ubah dimensinya untuk disesuaikan dengan model\n",
        "input_train = input_train.reshape((input_train.shape[0], 1, 1, 1, window_size-4))\n",
        "input_test = input_test.reshape((input_test.shape[0], 1, 1, 1, window_size-4))\n",
        "\n",
        "print(input_test)"
      ],
      "execution_count": null,
      "outputs": [
        {
          "output_type": "stream",
          "text": [
            "[[[[[0.35904255 0.40159574 0.31648936 0.5        0.52393617 0.17021277\n",
            "     0.         0.04521277 0.21542553 0.63829787 1.         0.8962766 ]]]]\n",
            "\n",
            "\n",
            "\n",
            " [[[[0.65691489 0.60106383 0.37765957 0.04521277 0.04787234 0.41489362\n",
            "     0.7606383  0.80319149 0.67553191 0.35904255 0.40159574 0.31648936]]]]\n",
            "\n",
            "\n",
            "\n",
            " [[[[0.04521277 0.04787234 0.41489362 0.7606383  0.80319149 0.67553191\n",
            "     0.35904255 0.40159574 0.31648936 0.5        0.52393617 0.17021277]]]]\n",
            "\n",
            "\n",
            "\n",
            " [[[[0.67553191 0.35904255 0.40159574 0.31648936 0.5        0.52393617\n",
            "     0.17021277 0.         0.04521277 0.21542553 0.63829787 1.        ]]]]]\n"
          ],
          "name": "stdout"
        }
      ]
    },
    {
      "cell_type": "code",
      "metadata": {
        "colab": {
          "base_uri": "https://localhost:8080/"
        },
        "id": "xnjsFuOoy491",
        "outputId": "31387caf-c8c0-4a9b-c057-1051244246eb"
      },
      "source": [
        "#model machine learning\n",
        "model = tf.keras.models.Sequential([\n",
        "  tf.keras.layers.ConvLSTM2D(filters=512, kernel_size=(1,1), activation='relu', input_shape=(1, 1, 1, window_size-4)),   \n",
        "  tf.keras.layers.Flatten(),\n",
        "  tf.keras.layers.Dense(256, activation=\"relu\"),\n",
        "  tf.keras.layers.Dropout(0.1),\n",
        "  tf.keras.layers.Dense(128, activation=\"relu\"),\n",
        "  tf.keras.layers.Dense(16, activation=\"relu\"),\n",
        "  tf.keras.layers.Dense(4, activation=\"relu\"),\n",
        "])\n",
        "\n",
        "opt = keras.optimizers.Adam(learning_rate=0.01)\n",
        "model.compile(optimizer=opt, loss='mean_squared_error',metrics=[\"mae\"])\n",
        "\n",
        "model.summary()\n",
        "\n",
        "#fit the model\n",
        "fitting_history = model.fit(input_train, output_train, validation_split=0.15, verbose=2, epochs=300)"
      ],
      "execution_count": null,
      "outputs": [
        {
          "output_type": "stream",
          "text": [
            "Model: \"sequential_38\"\n",
            "_________________________________________________________________\n",
            "Layer (type)                 Output Shape              Param #   \n",
            "=================================================================\n",
            "conv_lst_m2d_40 (ConvLSTM2D) (None, 1, 1, 512)         1075200   \n",
            "_________________________________________________________________\n",
            "flatten_38 (Flatten)         (None, 512)               0         \n",
            "_________________________________________________________________\n",
            "dense_111 (Dense)            (None, 256)               131328    \n",
            "_________________________________________________________________\n",
            "dropout_13 (Dropout)         (None, 256)               0         \n",
            "_________________________________________________________________\n",
            "dense_112 (Dense)            (None, 128)               32896     \n",
            "_________________________________________________________________\n",
            "dense_113 (Dense)            (None, 16)                2064      \n",
            "_________________________________________________________________\n",
            "dense_114 (Dense)            (None, 4)                 68        \n",
            "=================================================================\n",
            "Total params: 1,241,556\n",
            "Trainable params: 1,241,556\n",
            "Non-trainable params: 0\n",
            "_________________________________________________________________\n",
            "Epoch 1/300\n",
            "1/1 - 3s - loss: 0.2814 - mae: 0.4679 - val_loss: 0.1185 - val_mae: 0.2742\n",
            "Epoch 2/300\n",
            "1/1 - 0s - loss: 0.1740 - mae: 0.3480 - val_loss: 0.2011 - val_mae: 0.3763\n",
            "Epoch 3/300\n",
            "1/1 - 0s - loss: 0.1278 - mae: 0.2882 - val_loss: 0.0633 - val_mae: 0.2226\n",
            "Epoch 4/300\n",
            "1/1 - 0s - loss: 0.0719 - mae: 0.2069 - val_loss: 0.0568 - val_mae: 0.2076\n",
            "Epoch 5/300\n",
            "1/1 - 0s - loss: 0.0734 - mae: 0.2136 - val_loss: 0.0610 - val_mae: 0.1955\n",
            "Epoch 6/300\n",
            "1/1 - 0s - loss: 0.0625 - mae: 0.1956 - val_loss: 0.0665 - val_mae: 0.1958\n",
            "Epoch 7/300\n",
            "1/1 - 0s - loss: 0.0598 - mae: 0.1911 - val_loss: 0.0558 - val_mae: 0.1966\n",
            "Epoch 8/300\n",
            "1/1 - 0s - loss: 0.0495 - mae: 0.1743 - val_loss: 0.0507 - val_mae: 0.1957\n",
            "Epoch 9/300\n",
            "1/1 - 0s - loss: 0.0483 - mae: 0.1688 - val_loss: 0.0509 - val_mae: 0.1947\n",
            "Epoch 10/300\n",
            "1/1 - 0s - loss: 0.0454 - mae: 0.1618 - val_loss: 0.0515 - val_mae: 0.1925\n",
            "Epoch 11/300\n",
            "1/1 - 0s - loss: 0.0434 - mae: 0.1555 - val_loss: 0.0517 - val_mae: 0.1901\n",
            "Epoch 12/300\n",
            "1/1 - 0s - loss: 0.0454 - mae: 0.1649 - val_loss: 0.0498 - val_mae: 0.1904\n",
            "Epoch 13/300\n",
            "1/1 - 0s - loss: 0.0436 - mae: 0.1594 - val_loss: 0.0496 - val_mae: 0.1942\n",
            "Epoch 14/300\n",
            "1/1 - 0s - loss: 0.0423 - mae: 0.1573 - val_loss: 0.0496 - val_mae: 0.1950\n",
            "Epoch 15/300\n",
            "1/1 - 0s - loss: 0.0419 - mae: 0.1612 - val_loss: 0.0471 - val_mae: 0.1921\n",
            "Epoch 16/300\n",
            "1/1 - 0s - loss: 0.0402 - mae: 0.1538 - val_loss: 0.0463 - val_mae: 0.1905\n",
            "Epoch 17/300\n",
            "1/1 - 0s - loss: 0.0394 - mae: 0.1525 - val_loss: 0.0464 - val_mae: 0.1896\n",
            "Epoch 18/300\n",
            "1/1 - 0s - loss: 0.0397 - mae: 0.1509 - val_loss: 0.0472 - val_mae: 0.1915\n",
            "Epoch 19/300\n",
            "1/1 - 0s - loss: 0.0390 - mae: 0.1541 - val_loss: 0.0479 - val_mae: 0.1926\n",
            "Epoch 20/300\n",
            "1/1 - 0s - loss: 0.0393 - mae: 0.1569 - val_loss: 0.0479 - val_mae: 0.1922\n",
            "Epoch 21/300\n",
            "1/1 - 0s - loss: 0.0388 - mae: 0.1527 - val_loss: 0.0479 - val_mae: 0.1916\n",
            "Epoch 22/300\n",
            "1/1 - 0s - loss: 0.0375 - mae: 0.1482 - val_loss: 0.0482 - val_mae: 0.1924\n",
            "Epoch 23/300\n",
            "1/1 - 0s - loss: 0.0362 - mae: 0.1476 - val_loss: 0.0489 - val_mae: 0.1943\n",
            "Epoch 24/300\n",
            "1/1 - 0s - loss: 0.0360 - mae: 0.1448 - val_loss: 0.0490 - val_mae: 0.1943\n",
            "Epoch 25/300\n",
            "1/1 - 0s - loss: 0.0353 - mae: 0.1425 - val_loss: 0.0475 - val_mae: 0.1916\n",
            "Epoch 26/300\n",
            "1/1 - 0s - loss: 0.0343 - mae: 0.1419 - val_loss: 0.0450 - val_mae: 0.1861\n",
            "Epoch 27/300\n",
            "1/1 - 0s - loss: 0.0342 - mae: 0.1457 - val_loss: 0.0420 - val_mae: 0.1792\n",
            "Epoch 28/300\n",
            "1/1 - 0s - loss: 0.0322 - mae: 0.1372 - val_loss: 0.0394 - val_mae: 0.1721\n",
            "Epoch 29/300\n",
            "1/1 - 0s - loss: 0.0314 - mae: 0.1364 - val_loss: 0.0364 - val_mae: 0.1633\n",
            "Epoch 30/300\n",
            "1/1 - 0s - loss: 0.0298 - mae: 0.1339 - val_loss: 0.0354 - val_mae: 0.1555\n",
            "Epoch 31/300\n",
            "1/1 - 0s - loss: 0.0276 - mae: 0.1278 - val_loss: 0.0385 - val_mae: 0.1553\n",
            "Epoch 32/300\n",
            "1/1 - 0s - loss: 0.0276 - mae: 0.1274 - val_loss: 0.0411 - val_mae: 0.1606\n",
            "Epoch 33/300\n",
            "1/1 - 0s - loss: 0.0265 - mae: 0.1278 - val_loss: 0.0402 - val_mae: 0.1671\n",
            "Epoch 34/300\n",
            "1/1 - 0s - loss: 0.0252 - mae: 0.1295 - val_loss: 0.0380 - val_mae: 0.1692\n",
            "Epoch 35/300\n",
            "1/1 - 0s - loss: 0.0244 - mae: 0.1163 - val_loss: 0.0434 - val_mae: 0.1842\n",
            "Epoch 36/300\n",
            "1/1 - 0s - loss: 0.0239 - mae: 0.1158 - val_loss: 0.0495 - val_mae: 0.1939\n",
            "Epoch 37/300\n",
            "1/1 - 0s - loss: 0.0248 - mae: 0.1264 - val_loss: 0.0515 - val_mae: 0.1988\n",
            "Epoch 38/300\n",
            "1/1 - 0s - loss: 0.0223 - mae: 0.1130 - val_loss: 0.0507 - val_mae: 0.2072\n",
            "Epoch 39/300\n",
            "1/1 - 0s - loss: 0.0185 - mae: 0.1046 - val_loss: 0.0526 - val_mae: 0.2090\n",
            "Epoch 40/300\n",
            "1/1 - 0s - loss: 0.0186 - mae: 0.1042 - val_loss: 0.0528 - val_mae: 0.2077\n",
            "Epoch 41/300\n",
            "1/1 - 0s - loss: 0.0150 - mae: 0.0981 - val_loss: 0.0519 - val_mae: 0.2024\n",
            "Epoch 42/300\n",
            "1/1 - 0s - loss: 0.0159 - mae: 0.0963 - val_loss: 0.0512 - val_mae: 0.1962\n",
            "Epoch 43/300\n",
            "1/1 - 0s - loss: 0.0172 - mae: 0.1022 - val_loss: 0.0508 - val_mae: 0.1984\n",
            "Epoch 44/300\n",
            "1/1 - 0s - loss: 0.0152 - mae: 0.0987 - val_loss: 0.0516 - val_mae: 0.2014\n",
            "Epoch 45/300\n",
            "1/1 - 0s - loss: 0.0134 - mae: 0.0909 - val_loss: 0.0527 - val_mae: 0.2024\n",
            "Epoch 46/300\n",
            "1/1 - 0s - loss: 0.0147 - mae: 0.0959 - val_loss: 0.0531 - val_mae: 0.2002\n",
            "Epoch 47/300\n",
            "1/1 - 0s - loss: 0.0140 - mae: 0.0873 - val_loss: 0.0509 - val_mae: 0.1928\n",
            "Epoch 48/300\n",
            "1/1 - 0s - loss: 0.0125 - mae: 0.0865 - val_loss: 0.0499 - val_mae: 0.1867\n",
            "Epoch 49/300\n",
            "1/1 - 0s - loss: 0.0142 - mae: 0.0969 - val_loss: 0.0491 - val_mae: 0.1870\n",
            "Epoch 50/300\n",
            "1/1 - 0s - loss: 0.0115 - mae: 0.0827 - val_loss: 0.0499 - val_mae: 0.1964\n",
            "Epoch 51/300\n",
            "1/1 - 0s - loss: 0.0147 - mae: 0.0964 - val_loss: 0.0457 - val_mae: 0.1767\n",
            "Epoch 52/300\n",
            "1/1 - 0s - loss: 0.0143 - mae: 0.0991 - val_loss: 0.0460 - val_mae: 0.1792\n",
            "Epoch 53/300\n",
            "1/1 - 0s - loss: 0.0130 - mae: 0.0940 - val_loss: 0.0434 - val_mae: 0.1757\n",
            "Epoch 54/300\n",
            "1/1 - 0s - loss: 0.0103 - mae: 0.0824 - val_loss: 0.0407 - val_mae: 0.1747\n",
            "Epoch 55/300\n",
            "1/1 - 0s - loss: 0.0108 - mae: 0.0818 - val_loss: 0.0406 - val_mae: 0.1743\n",
            "Epoch 56/300\n",
            "1/1 - 0s - loss: 0.0084 - mae: 0.0714 - val_loss: 0.0419 - val_mae: 0.1753\n",
            "Epoch 57/300\n",
            "1/1 - 0s - loss: 0.0089 - mae: 0.0775 - val_loss: 0.0449 - val_mae: 0.1868\n",
            "Epoch 58/300\n",
            "1/1 - 0s - loss: 0.0095 - mae: 0.0772 - val_loss: 0.0445 - val_mae: 0.1845\n",
            "Epoch 59/300\n",
            "1/1 - 0s - loss: 0.0110 - mae: 0.0823 - val_loss: 0.0413 - val_mae: 0.1781\n",
            "Epoch 60/300\n",
            "1/1 - 0s - loss: 0.0074 - mae: 0.0664 - val_loss: 0.0408 - val_mae: 0.1793\n",
            "Epoch 61/300\n",
            "1/1 - 0s - loss: 0.0087 - mae: 0.0741 - val_loss: 0.0401 - val_mae: 0.1788\n",
            "Epoch 62/300\n",
            "1/1 - 0s - loss: 0.0066 - mae: 0.0614 - val_loss: 0.0416 - val_mae: 0.1784\n",
            "Epoch 63/300\n",
            "1/1 - 0s - loss: 0.0082 - mae: 0.0713 - val_loss: 0.0416 - val_mae: 0.1790\n",
            "Epoch 64/300\n",
            "1/1 - 0s - loss: 0.0090 - mae: 0.0741 - val_loss: 0.0392 - val_mae: 0.1794\n",
            "Epoch 65/300\n",
            "1/1 - 0s - loss: 0.0056 - mae: 0.0597 - val_loss: 0.0394 - val_mae: 0.1792\n",
            "Epoch 66/300\n",
            "1/1 - 0s - loss: 0.0082 - mae: 0.0724 - val_loss: 0.0393 - val_mae: 0.1782\n",
            "Epoch 67/300\n",
            "1/1 - 0s - loss: 0.0081 - mae: 0.0697 - val_loss: 0.0396 - val_mae: 0.1760\n",
            "Epoch 68/300\n",
            "1/1 - 0s - loss: 0.0066 - mae: 0.0566 - val_loss: 0.0402 - val_mae: 0.1745\n",
            "Epoch 69/300\n",
            "1/1 - 0s - loss: 0.0083 - mae: 0.0668 - val_loss: 0.0411 - val_mae: 0.1780\n",
            "Epoch 70/300\n",
            "1/1 - 0s - loss: 0.0057 - mae: 0.0611 - val_loss: 0.0417 - val_mae: 0.1813\n",
            "Epoch 71/300\n",
            "1/1 - 0s - loss: 0.0073 - mae: 0.0669 - val_loss: 0.0419 - val_mae: 0.1844\n",
            "Epoch 72/300\n",
            "1/1 - 0s - loss: 0.0064 - mae: 0.0664 - val_loss: 0.0414 - val_mae: 0.1843\n",
            "Epoch 73/300\n",
            "1/1 - 0s - loss: 0.0045 - mae: 0.0522 - val_loss: 0.0419 - val_mae: 0.1849\n",
            "Epoch 74/300\n",
            "1/1 - 0s - loss: 0.0043 - mae: 0.0523 - val_loss: 0.0439 - val_mae: 0.1873\n",
            "Epoch 75/300\n",
            "1/1 - 0s - loss: 0.0055 - mae: 0.0563 - val_loss: 0.0450 - val_mae: 0.1914\n",
            "Epoch 76/300\n",
            "1/1 - 0s - loss: 0.0042 - mae: 0.0506 - val_loss: 0.0453 - val_mae: 0.1931\n",
            "Epoch 77/300\n",
            "1/1 - 0s - loss: 0.0043 - mae: 0.0505 - val_loss: 0.0450 - val_mae: 0.1932\n",
            "Epoch 78/300\n",
            "1/1 - 0s - loss: 0.0038 - mae: 0.0472 - val_loss: 0.0439 - val_mae: 0.1915\n",
            "Epoch 79/300\n",
            "1/1 - 0s - loss: 0.0051 - mae: 0.0530 - val_loss: 0.0421 - val_mae: 0.1860\n",
            "Epoch 80/300\n",
            "1/1 - 0s - loss: 0.0045 - mae: 0.0545 - val_loss: 0.0416 - val_mae: 0.1813\n",
            "Epoch 81/300\n",
            "1/1 - 0s - loss: 0.0053 - mae: 0.0583 - val_loss: 0.0412 - val_mae: 0.1816\n",
            "Epoch 82/300\n",
            "1/1 - 0s - loss: 0.0050 - mae: 0.0524 - val_loss: 0.0409 - val_mae: 0.1835\n",
            "Epoch 83/300\n",
            "1/1 - 0s - loss: 0.0051 - mae: 0.0583 - val_loss: 0.0396 - val_mae: 0.1805\n",
            "Epoch 84/300\n",
            "1/1 - 0s - loss: 0.0052 - mae: 0.0598 - val_loss: 0.0370 - val_mae: 0.1742\n",
            "Epoch 85/300\n",
            "1/1 - 0s - loss: 0.0039 - mae: 0.0481 - val_loss: 0.0352 - val_mae: 0.1663\n",
            "Epoch 86/300\n",
            "1/1 - 0s - loss: 0.0049 - mae: 0.0552 - val_loss: 0.0366 - val_mae: 0.1671\n",
            "Epoch 87/300\n",
            "1/1 - 0s - loss: 0.0075 - mae: 0.0674 - val_loss: 0.0395 - val_mae: 0.1776\n",
            "Epoch 88/300\n",
            "1/1 - 0s - loss: 0.0028 - mae: 0.0418 - val_loss: 0.0430 - val_mae: 0.1840\n",
            "Epoch 89/300\n",
            "1/1 - 0s - loss: 0.0052 - mae: 0.0567 - val_loss: 0.0443 - val_mae: 0.1857\n",
            "Epoch 90/300\n",
            "1/1 - 0s - loss: 0.0053 - mae: 0.0585 - val_loss: 0.0441 - val_mae: 0.1838\n",
            "Epoch 91/300\n",
            "1/1 - 0s - loss: 0.0036 - mae: 0.0439 - val_loss: 0.0441 - val_mae: 0.1824\n",
            "Epoch 92/300\n",
            "1/1 - 0s - loss: 0.0072 - mae: 0.0625 - val_loss: 0.0443 - val_mae: 0.1855\n",
            "Epoch 93/300\n",
            "1/1 - 0s - loss: 0.0029 - mae: 0.0390 - val_loss: 0.0449 - val_mae: 0.1887\n",
            "Epoch 94/300\n",
            "1/1 - 0s - loss: 0.0035 - mae: 0.0455 - val_loss: 0.0453 - val_mae: 0.1900\n",
            "Epoch 95/300\n",
            "1/1 - 0s - loss: 0.0041 - mae: 0.0493 - val_loss: 0.0439 - val_mae: 0.1868\n",
            "Epoch 96/300\n",
            "1/1 - 0s - loss: 0.0039 - mae: 0.0518 - val_loss: 0.0428 - val_mae: 0.1824\n",
            "Epoch 97/300\n",
            "1/1 - 0s - loss: 0.0037 - mae: 0.0485 - val_loss: 0.0416 - val_mae: 0.1778\n",
            "Epoch 98/300\n",
            "1/1 - 0s - loss: 0.0047 - mae: 0.0516 - val_loss: 0.0402 - val_mae: 0.1753\n",
            "Epoch 99/300\n",
            "1/1 - 0s - loss: 0.0046 - mae: 0.0494 - val_loss: 0.0405 - val_mae: 0.1770\n",
            "Epoch 100/300\n",
            "1/1 - 0s - loss: 0.0028 - mae: 0.0405 - val_loss: 0.0432 - val_mae: 0.1811\n",
            "Epoch 101/300\n",
            "1/1 - 0s - loss: 0.0032 - mae: 0.0454 - val_loss: 0.0450 - val_mae: 0.1832\n",
            "Epoch 102/300\n",
            "1/1 - 0s - loss: 0.0059 - mae: 0.0582 - val_loss: 0.0442 - val_mae: 0.1826\n",
            "Epoch 103/300\n",
            "1/1 - 0s - loss: 0.0026 - mae: 0.0413 - val_loss: 0.0430 - val_mae: 0.1809\n",
            "Epoch 104/300\n",
            "1/1 - 0s - loss: 0.0033 - mae: 0.0441 - val_loss: 0.0435 - val_mae: 0.1824\n",
            "Epoch 105/300\n",
            "1/1 - 0s - loss: 0.0027 - mae: 0.0392 - val_loss: 0.0447 - val_mae: 0.1865\n",
            "Epoch 106/300\n",
            "1/1 - 0s - loss: 0.0031 - mae: 0.0413 - val_loss: 0.0462 - val_mae: 0.1919\n",
            "Epoch 107/300\n",
            "1/1 - 0s - loss: 0.0044 - mae: 0.0476 - val_loss: 0.0461 - val_mae: 0.1929\n",
            "Epoch 108/300\n",
            "1/1 - 0s - loss: 0.0041 - mae: 0.0512 - val_loss: 0.0445 - val_mae: 0.1890\n",
            "Epoch 109/300\n",
            "1/1 - 0s - loss: 0.0040 - mae: 0.0513 - val_loss: 0.0415 - val_mae: 0.1824\n",
            "Epoch 110/300\n",
            "1/1 - 0s - loss: 0.0041 - mae: 0.0491 - val_loss: 0.0383 - val_mae: 0.1753\n",
            "Epoch 111/300\n",
            "1/1 - 0s - loss: 0.0039 - mae: 0.0459 - val_loss: 0.0366 - val_mae: 0.1691\n",
            "Epoch 112/300\n",
            "1/1 - 0s - loss: 0.0052 - mae: 0.0522 - val_loss: 0.0371 - val_mae: 0.1705\n",
            "Epoch 113/300\n",
            "1/1 - 0s - loss: 0.0063 - mae: 0.0577 - val_loss: 0.0394 - val_mae: 0.1787\n",
            "Epoch 114/300\n",
            "1/1 - 0s - loss: 0.0027 - mae: 0.0379 - val_loss: 0.0422 - val_mae: 0.1862\n",
            "Epoch 115/300\n",
            "1/1 - 0s - loss: 0.0031 - mae: 0.0435 - val_loss: 0.0457 - val_mae: 0.1925\n",
            "Epoch 116/300\n",
            "1/1 - 0s - loss: 0.0098 - mae: 0.0775 - val_loss: 0.0444 - val_mae: 0.1911\n",
            "Epoch 117/300\n",
            "1/1 - 0s - loss: 0.0035 - mae: 0.0481 - val_loss: 0.0422 - val_mae: 0.1860\n",
            "Epoch 118/300\n",
            "1/1 - 0s - loss: 0.0033 - mae: 0.0443 - val_loss: 0.0413 - val_mae: 0.1802\n",
            "Epoch 119/300\n",
            "1/1 - 0s - loss: 0.0044 - mae: 0.0494 - val_loss: 0.0396 - val_mae: 0.1762\n",
            "Epoch 120/300\n",
            "1/1 - 0s - loss: 0.0065 - mae: 0.0620 - val_loss: 0.0396 - val_mae: 0.1774\n",
            "Epoch 121/300\n",
            "1/1 - 0s - loss: 0.0038 - mae: 0.0492 - val_loss: 0.0415 - val_mae: 0.1783\n",
            "Epoch 122/300\n",
            "1/1 - 0s - loss: 0.0032 - mae: 0.0466 - val_loss: 0.0430 - val_mae: 0.1846\n",
            "Epoch 123/300\n",
            "1/1 - 0s - loss: 0.0079 - mae: 0.0724 - val_loss: 0.0401 - val_mae: 0.1787\n",
            "Epoch 124/300\n",
            "1/1 - 0s - loss: 0.0053 - mae: 0.0597 - val_loss: 0.0382 - val_mae: 0.1764\n",
            "Epoch 125/300\n",
            "1/1 - 0s - loss: 0.0034 - mae: 0.0455 - val_loss: 0.0377 - val_mae: 0.1706\n",
            "Epoch 126/300\n",
            "1/1 - 0s - loss: 0.0059 - mae: 0.0587 - val_loss: 0.0388 - val_mae: 0.1687\n",
            "Epoch 127/300\n",
            "1/1 - 0s - loss: 0.0055 - mae: 0.0599 - val_loss: 0.0407 - val_mae: 0.1752\n",
            "Epoch 128/300\n",
            "1/1 - 0s - loss: 0.0039 - mae: 0.0501 - val_loss: 0.0433 - val_mae: 0.1844\n",
            "Epoch 129/300\n",
            "1/1 - 0s - loss: 0.0023 - mae: 0.0378 - val_loss: 0.0475 - val_mae: 0.1933\n",
            "Epoch 130/300\n",
            "1/1 - 0s - loss: 0.0035 - mae: 0.0468 - val_loss: 0.0499 - val_mae: 0.1977\n",
            "Epoch 131/300\n",
            "1/1 - 0s - loss: 0.0050 - mae: 0.0559 - val_loss: 0.0486 - val_mae: 0.1950\n",
            "Epoch 132/300\n",
            "1/1 - 0s - loss: 0.0031 - mae: 0.0447 - val_loss: 0.0463 - val_mae: 0.1875\n",
            "Epoch 133/300\n",
            "1/1 - 0s - loss: 0.0027 - mae: 0.0386 - val_loss: 0.0454 - val_mae: 0.1823\n",
            "Epoch 134/300\n",
            "1/1 - 0s - loss: 0.0042 - mae: 0.0517 - val_loss: 0.0444 - val_mae: 0.1818\n",
            "Epoch 135/300\n",
            "1/1 - 0s - loss: 0.0027 - mae: 0.0387 - val_loss: 0.0432 - val_mae: 0.1829\n",
            "Epoch 136/300\n",
            "1/1 - 0s - loss: 0.0025 - mae: 0.0377 - val_loss: 0.0424 - val_mae: 0.1848\n",
            "Epoch 137/300\n",
            "1/1 - 0s - loss: 0.0035 - mae: 0.0429 - val_loss: 0.0424 - val_mae: 0.1868\n",
            "Epoch 138/300\n",
            "1/1 - 0s - loss: 0.0036 - mae: 0.0455 - val_loss: 0.0441 - val_mae: 0.1911\n",
            "Epoch 139/300\n",
            "1/1 - 0s - loss: 0.0031 - mae: 0.0428 - val_loss: 0.0462 - val_mae: 0.1941\n",
            "Epoch 140/300\n",
            "1/1 - 0s - loss: 0.0027 - mae: 0.0432 - val_loss: 0.0473 - val_mae: 0.1952\n",
            "Epoch 141/300\n",
            "1/1 - 0s - loss: 0.0023 - mae: 0.0380 - val_loss: 0.0477 - val_mae: 0.1945\n",
            "Epoch 142/300\n",
            "1/1 - 0s - loss: 0.0026 - mae: 0.0385 - val_loss: 0.0471 - val_mae: 0.1933\n",
            "Epoch 143/300\n",
            "1/1 - 0s - loss: 0.0037 - mae: 0.0439 - val_loss: 0.0452 - val_mae: 0.1901\n",
            "Epoch 144/300\n",
            "1/1 - 0s - loss: 0.0020 - mae: 0.0338 - val_loss: 0.0431 - val_mae: 0.1854\n",
            "Epoch 145/300\n",
            "1/1 - 0s - loss: 0.0018 - mae: 0.0326 - val_loss: 0.0416 - val_mae: 0.1814\n",
            "Epoch 146/300\n",
            "1/1 - 0s - loss: 0.0019 - mae: 0.0320 - val_loss: 0.0408 - val_mae: 0.1788\n",
            "Epoch 147/300\n",
            "1/1 - 0s - loss: 0.0036 - mae: 0.0469 - val_loss: 0.0395 - val_mae: 0.1758\n",
            "Epoch 148/300\n",
            "1/1 - 0s - loss: 0.0030 - mae: 0.0423 - val_loss: 0.0389 - val_mae: 0.1760\n",
            "Epoch 149/300\n",
            "1/1 - 0s - loss: 0.0018 - mae: 0.0318 - val_loss: 0.0397 - val_mae: 0.1782\n",
            "Epoch 150/300\n",
            "1/1 - 0s - loss: 0.0025 - mae: 0.0373 - val_loss: 0.0415 - val_mae: 0.1814\n",
            "Epoch 151/300\n",
            "1/1 - 0s - loss: 0.0027 - mae: 0.0381 - val_loss: 0.0430 - val_mae: 0.1829\n",
            "Epoch 152/300\n",
            "1/1 - 0s - loss: 0.0030 - mae: 0.0432 - val_loss: 0.0432 - val_mae: 0.1843\n",
            "Epoch 153/300\n",
            "1/1 - 0s - loss: 0.0017 - mae: 0.0335 - val_loss: 0.0426 - val_mae: 0.1850\n",
            "Epoch 154/300\n",
            "1/1 - 0s - loss: 0.0020 - mae: 0.0352 - val_loss: 0.0415 - val_mae: 0.1850\n",
            "Epoch 155/300\n",
            "1/1 - 0s - loss: 0.0016 - mae: 0.0297 - val_loss: 0.0411 - val_mae: 0.1846\n",
            "Epoch 156/300\n",
            "1/1 - 0s - loss: 0.0028 - mae: 0.0413 - val_loss: 0.0411 - val_mae: 0.1836\n",
            "Epoch 157/300\n",
            "1/1 - 0s - loss: 0.0016 - mae: 0.0295 - val_loss: 0.0418 - val_mae: 0.1827\n",
            "Epoch 158/300\n",
            "1/1 - 0s - loss: 0.0019 - mae: 0.0353 - val_loss: 0.0422 - val_mae: 0.1831\n",
            "Epoch 159/300\n",
            "1/1 - 0s - loss: 0.0031 - mae: 0.0421 - val_loss: 0.0424 - val_mae: 0.1849\n",
            "Epoch 160/300\n",
            "1/1 - 0s - loss: 0.0014 - mae: 0.0281 - val_loss: 0.0430 - val_mae: 0.1869\n",
            "Epoch 161/300\n",
            "1/1 - 0s - loss: 0.0028 - mae: 0.0384 - val_loss: 0.0435 - val_mae: 0.1872\n",
            "Epoch 162/300\n",
            "1/1 - 0s - loss: 0.0016 - mae: 0.0293 - val_loss: 0.0443 - val_mae: 0.1876\n",
            "Epoch 163/300\n",
            "1/1 - 0s - loss: 0.0018 - mae: 0.0314 - val_loss: 0.0447 - val_mae: 0.1870\n",
            "Epoch 164/300\n",
            "1/1 - 0s - loss: 0.0018 - mae: 0.0301 - val_loss: 0.0432 - val_mae: 0.1835\n",
            "Epoch 165/300\n",
            "1/1 - 0s - loss: 0.0017 - mae: 0.0337 - val_loss: 0.0411 - val_mae: 0.1799\n",
            "Epoch 166/300\n",
            "1/1 - 0s - loss: 0.0015 - mae: 0.0286 - val_loss: 0.0387 - val_mae: 0.1757\n",
            "Epoch 167/300\n",
            "1/1 - 0s - loss: 0.0015 - mae: 0.0276 - val_loss: 0.0377 - val_mae: 0.1736\n",
            "Epoch 168/300\n",
            "1/1 - 0s - loss: 0.0019 - mae: 0.0334 - val_loss: 0.0379 - val_mae: 0.1738\n",
            "Epoch 169/300\n",
            "1/1 - 0s - loss: 0.0017 - mae: 0.0317 - val_loss: 0.0387 - val_mae: 0.1750\n",
            "Epoch 170/300\n",
            "1/1 - 0s - loss: 0.0023 - mae: 0.0383 - val_loss: 0.0396 - val_mae: 0.1783\n",
            "Epoch 171/300\n",
            "1/1 - 0s - loss: 0.0023 - mae: 0.0379 - val_loss: 0.0415 - val_mae: 0.1842\n",
            "Epoch 172/300\n",
            "1/1 - 0s - loss: 0.0016 - mae: 0.0320 - val_loss: 0.0434 - val_mae: 0.1894\n",
            "Epoch 173/300\n",
            "1/1 - 0s - loss: 0.0024 - mae: 0.0355 - val_loss: 0.0445 - val_mae: 0.1908\n",
            "Epoch 174/300\n",
            "1/1 - 0s - loss: 0.0019 - mae: 0.0333 - val_loss: 0.0445 - val_mae: 0.1895\n",
            "Epoch 175/300\n",
            "1/1 - 0s - loss: 0.0015 - mae: 0.0286 - val_loss: 0.0448 - val_mae: 0.1889\n",
            "Epoch 176/300\n",
            "1/1 - 0s - loss: 0.0022 - mae: 0.0365 - val_loss: 0.0445 - val_mae: 0.1880\n",
            "Epoch 177/300\n",
            "1/1 - 0s - loss: 0.0014 - mae: 0.0289 - val_loss: 0.0437 - val_mae: 0.1867\n",
            "Epoch 178/300\n",
            "1/1 - 0s - loss: 0.0023 - mae: 0.0346 - val_loss: 0.0435 - val_mae: 0.1862\n",
            "Epoch 179/300\n",
            "1/1 - 0s - loss: 0.0017 - mae: 0.0295 - val_loss: 0.0439 - val_mae: 0.1861\n",
            "Epoch 180/300\n",
            "1/1 - 0s - loss: 0.0019 - mae: 0.0318 - val_loss: 0.0448 - val_mae: 0.1860\n",
            "Epoch 181/300\n",
            "1/1 - 0s - loss: 0.0022 - mae: 0.0346 - val_loss: 0.0454 - val_mae: 0.1861\n",
            "Epoch 182/300\n",
            "1/1 - 0s - loss: 0.0024 - mae: 0.0362 - val_loss: 0.0447 - val_mae: 0.1868\n",
            "Epoch 183/300\n",
            "1/1 - 0s - loss: 0.0012 - mae: 0.0263 - val_loss: 0.0439 - val_mae: 0.1872\n",
            "Epoch 184/300\n",
            "1/1 - 0s - loss: 0.0018 - mae: 0.0319 - val_loss: 0.0434 - val_mae: 0.1861\n",
            "Epoch 185/300\n",
            "1/1 - 0s - loss: 0.0033 - mae: 0.0434 - val_loss: 0.0438 - val_mae: 0.1861\n",
            "Epoch 186/300\n",
            "1/1 - 0s - loss: 0.0015 - mae: 0.0309 - val_loss: 0.0441 - val_mae: 0.1865\n",
            "Epoch 187/300\n",
            "1/1 - 0s - loss: 0.0032 - mae: 0.0411 - val_loss: 0.0440 - val_mae: 0.1876\n",
            "Epoch 188/300\n",
            "1/1 - 0s - loss: 0.0020 - mae: 0.0327 - val_loss: 0.0429 - val_mae: 0.1864\n",
            "Epoch 189/300\n",
            "1/1 - 0s - loss: 0.0015 - mae: 0.0310 - val_loss: 0.0422 - val_mae: 0.1847\n",
            "Epoch 190/300\n",
            "1/1 - 0s - loss: 0.0042 - mae: 0.0475 - val_loss: 0.0414 - val_mae: 0.1819\n",
            "Epoch 191/300\n",
            "1/1 - 0s - loss: 0.0024 - mae: 0.0384 - val_loss: 0.0409 - val_mae: 0.1806\n",
            "Epoch 192/300\n",
            "1/1 - 0s - loss: 0.0017 - mae: 0.0310 - val_loss: 0.0403 - val_mae: 0.1788\n",
            "Epoch 193/300\n",
            "1/1 - 0s - loss: 0.0025 - mae: 0.0340 - val_loss: 0.0399 - val_mae: 0.1790\n",
            "Epoch 194/300\n",
            "1/1 - 0s - loss: 0.0018 - mae: 0.0336 - val_loss: 0.0403 - val_mae: 0.1802\n",
            "Epoch 195/300\n",
            "1/1 - 0s - loss: 0.0023 - mae: 0.0387 - val_loss: 0.0415 - val_mae: 0.1822\n",
            "Epoch 196/300\n",
            "1/1 - 0s - loss: 0.0021 - mae: 0.0338 - val_loss: 0.0431 - val_mae: 0.1843\n",
            "Epoch 197/300\n",
            "1/1 - 0s - loss: 0.0012 - mae: 0.0264 - val_loss: 0.0448 - val_mae: 0.1863\n",
            "Epoch 198/300\n",
            "1/1 - 0s - loss: 0.0022 - mae: 0.0353 - val_loss: 0.0449 - val_mae: 0.1866\n",
            "Epoch 199/300\n",
            "1/1 - 0s - loss: 0.0019 - mae: 0.0331 - val_loss: 0.0438 - val_mae: 0.1859\n",
            "Epoch 200/300\n",
            "1/1 - 0s - loss: 0.0023 - mae: 0.0344 - val_loss: 0.0429 - val_mae: 0.1854\n",
            "Epoch 201/300\n",
            "1/1 - 0s - loss: 0.0020 - mae: 0.0305 - val_loss: 0.0424 - val_mae: 0.1846\n",
            "Epoch 202/300\n",
            "1/1 - 0s - loss: 0.0016 - mae: 0.0322 - val_loss: 0.0428 - val_mae: 0.1839\n",
            "Epoch 203/300\n",
            "1/1 - 0s - loss: 0.0017 - mae: 0.0323 - val_loss: 0.0426 - val_mae: 0.1828\n",
            "Epoch 204/300\n",
            "1/1 - 0s - loss: 0.0022 - mae: 0.0350 - val_loss: 0.0421 - val_mae: 0.1834\n",
            "Epoch 205/300\n",
            "1/1 - 0s - loss: 0.0025 - mae: 0.0384 - val_loss: 0.0417 - val_mae: 0.1848\n",
            "Epoch 206/300\n",
            "1/1 - 0s - loss: 0.0017 - mae: 0.0321 - val_loss: 0.0425 - val_mae: 0.1870\n",
            "Epoch 207/300\n",
            "1/1 - 0s - loss: 0.0020 - mae: 0.0338 - val_loss: 0.0432 - val_mae: 0.1868\n",
            "Epoch 208/300\n",
            "1/1 - 0s - loss: 0.0019 - mae: 0.0351 - val_loss: 0.0442 - val_mae: 0.1865\n",
            "Epoch 209/300\n",
            "1/1 - 0s - loss: 0.0017 - mae: 0.0324 - val_loss: 0.0442 - val_mae: 0.1858\n",
            "Epoch 210/300\n",
            "1/1 - 0s - loss: 0.0013 - mae: 0.0274 - val_loss: 0.0433 - val_mae: 0.1844\n",
            "Epoch 211/300\n",
            "1/1 - 0s - loss: 0.0014 - mae: 0.0304 - val_loss: 0.0423 - val_mae: 0.1828\n",
            "Epoch 212/300\n",
            "1/1 - 0s - loss: 0.0013 - mae: 0.0280 - val_loss: 0.0415 - val_mae: 0.1811\n",
            "Epoch 213/300\n",
            "1/1 - 0s - loss: 0.0019 - mae: 0.0316 - val_loss: 0.0411 - val_mae: 0.1789\n",
            "Epoch 214/300\n",
            "1/1 - 0s - loss: 0.0020 - mae: 0.0340 - val_loss: 0.0407 - val_mae: 0.1767\n",
            "Epoch 215/300\n",
            "1/1 - 0s - loss: 0.0017 - mae: 0.0325 - val_loss: 0.0412 - val_mae: 0.1772\n",
            "Epoch 216/300\n",
            "1/1 - 0s - loss: 0.0025 - mae: 0.0387 - val_loss: 0.0409 - val_mae: 0.1783\n",
            "Epoch 217/300\n",
            "1/1 - 0s - loss: 0.0014 - mae: 0.0275 - val_loss: 0.0406 - val_mae: 0.1795\n",
            "Epoch 218/300\n",
            "1/1 - 0s - loss: 0.0016 - mae: 0.0296 - val_loss: 0.0407 - val_mae: 0.1815\n",
            "Epoch 219/300\n",
            "1/1 - 0s - loss: 0.0026 - mae: 0.0372 - val_loss: 0.0415 - val_mae: 0.1842\n",
            "Epoch 220/300\n",
            "1/1 - 0s - loss: 0.0022 - mae: 0.0354 - val_loss: 0.0429 - val_mae: 0.1866\n",
            "Epoch 221/300\n",
            "1/1 - 0s - loss: 0.0020 - mae: 0.0340 - val_loss: 0.0434 - val_mae: 0.1862\n",
            "Epoch 222/300\n",
            "1/1 - 0s - loss: 0.0031 - mae: 0.0407 - val_loss: 0.0424 - val_mae: 0.1836\n",
            "Epoch 223/300\n",
            "1/1 - 0s - loss: 0.0018 - mae: 0.0318 - val_loss: 0.0408 - val_mae: 0.1808\n",
            "Epoch 224/300\n",
            "1/1 - 0s - loss: 0.0015 - mae: 0.0272 - val_loss: 0.0399 - val_mae: 0.1784\n",
            "Epoch 225/300\n",
            "1/1 - 0s - loss: 0.0020 - mae: 0.0365 - val_loss: 0.0398 - val_mae: 0.1768\n",
            "Epoch 226/300\n",
            "1/1 - 0s - loss: 0.0020 - mae: 0.0333 - val_loss: 0.0409 - val_mae: 0.1788\n",
            "Epoch 227/300\n",
            "1/1 - 0s - loss: 0.0018 - mae: 0.0326 - val_loss: 0.0421 - val_mae: 0.1817\n",
            "Epoch 228/300\n",
            "1/1 - 0s - loss: 0.0015 - mae: 0.0306 - val_loss: 0.0432 - val_mae: 0.1851\n",
            "Epoch 229/300\n",
            "1/1 - 0s - loss: 0.0017 - mae: 0.0328 - val_loss: 0.0444 - val_mae: 0.1882\n",
            "Epoch 230/300\n",
            "1/1 - 0s - loss: 0.0011 - mae: 0.0249 - val_loss: 0.0451 - val_mae: 0.1894\n",
            "Epoch 231/300\n",
            "1/1 - 0s - loss: 0.0013 - mae: 0.0281 - val_loss: 0.0456 - val_mae: 0.1898\n",
            "Epoch 232/300\n",
            "1/1 - 0s - loss: 0.0019 - mae: 0.0300 - val_loss: 0.0456 - val_mae: 0.1894\n",
            "Epoch 233/300\n",
            "1/1 - 0s - loss: 0.0025 - mae: 0.0350 - val_loss: 0.0449 - val_mae: 0.1867\n",
            "Epoch 234/300\n",
            "1/1 - 0s - loss: 0.0024 - mae: 0.0354 - val_loss: 0.0451 - val_mae: 0.1864\n",
            "Epoch 235/300\n",
            "1/1 - 0s - loss: 0.0024 - mae: 0.0380 - val_loss: 0.0450 - val_mae: 0.1888\n",
            "Epoch 236/300\n",
            "1/1 - 0s - loss: 0.0025 - mae: 0.0388 - val_loss: 0.0439 - val_mae: 0.1874\n",
            "Epoch 237/300\n",
            "1/1 - 0s - loss: 0.0026 - mae: 0.0388 - val_loss: 0.0434 - val_mae: 0.1855\n",
            "Epoch 238/300\n",
            "1/1 - 0s - loss: 0.0017 - mae: 0.0307 - val_loss: 0.0436 - val_mae: 0.1849\n",
            "Epoch 239/300\n",
            "1/1 - 0s - loss: 0.0021 - mae: 0.0377 - val_loss: 0.0444 - val_mae: 0.1869\n",
            "Epoch 240/300\n",
            "1/1 - 0s - loss: 0.0022 - mae: 0.0373 - val_loss: 0.0451 - val_mae: 0.1897\n",
            "Epoch 241/300\n",
            "1/1 - 0s - loss: 0.0018 - mae: 0.0334 - val_loss: 0.0466 - val_mae: 0.1928\n",
            "Epoch 242/300\n",
            "1/1 - 0s - loss: 0.0022 - mae: 0.0359 - val_loss: 0.0475 - val_mae: 0.1939\n",
            "Epoch 243/300\n",
            "1/1 - 0s - loss: 0.0030 - mae: 0.0399 - val_loss: 0.0460 - val_mae: 0.1905\n",
            "Epoch 244/300\n",
            "1/1 - 0s - loss: 0.0012 - mae: 0.0262 - val_loss: 0.0437 - val_mae: 0.1857\n",
            "Epoch 245/300\n",
            "1/1 - 0s - loss: 0.0012 - mae: 0.0269 - val_loss: 0.0419 - val_mae: 0.1814\n",
            "Epoch 246/300\n",
            "1/1 - 0s - loss: 0.0029 - mae: 0.0377 - val_loss: 0.0408 - val_mae: 0.1764\n",
            "Epoch 247/300\n",
            "1/1 - 0s - loss: 0.0014 - mae: 0.0296 - val_loss: 0.0404 - val_mae: 0.1738\n",
            "Epoch 248/300\n",
            "1/1 - 0s - loss: 0.0018 - mae: 0.0338 - val_loss: 0.0394 - val_mae: 0.1720\n",
            "Epoch 249/300\n",
            "1/1 - 0s - loss: 0.0022 - mae: 0.0355 - val_loss: 0.0385 - val_mae: 0.1724\n",
            "Epoch 250/300\n",
            "1/1 - 0s - loss: 0.0015 - mae: 0.0303 - val_loss: 0.0386 - val_mae: 0.1743\n",
            "Epoch 251/300\n",
            "1/1 - 0s - loss: 0.0020 - mae: 0.0341 - val_loss: 0.0400 - val_mae: 0.1786\n",
            "Epoch 252/300\n",
            "1/1 - 0s - loss: 0.0019 - mae: 0.0348 - val_loss: 0.0417 - val_mae: 0.1824\n",
            "Epoch 253/300\n",
            "1/1 - 0s - loss: 0.0011 - mae: 0.0255 - val_loss: 0.0436 - val_mae: 0.1851\n",
            "Epoch 254/300\n",
            "1/1 - 0s - loss: 0.0013 - mae: 0.0271 - val_loss: 0.0449 - val_mae: 0.1872\n",
            "Epoch 255/300\n",
            "1/1 - 0s - loss: 0.0015 - mae: 0.0304 - val_loss: 0.0451 - val_mae: 0.1884\n",
            "Epoch 256/300\n",
            "1/1 - 0s - loss: 0.0019 - mae: 0.0343 - val_loss: 0.0443 - val_mae: 0.1894\n",
            "Epoch 257/300\n",
            "1/1 - 0s - loss: 0.0022 - mae: 0.0350 - val_loss: 0.0433 - val_mae: 0.1878\n",
            "Epoch 258/300\n",
            "1/1 - 0s - loss: 0.0012 - mae: 0.0271 - val_loss: 0.0422 - val_mae: 0.1852\n",
            "Epoch 259/300\n",
            "1/1 - 0s - loss: 0.0019 - mae: 0.0305 - val_loss: 0.0413 - val_mae: 0.1808\n",
            "Epoch 260/300\n",
            "1/1 - 0s - loss: 0.0014 - mae: 0.0279 - val_loss: 0.0409 - val_mae: 0.1784\n",
            "Epoch 261/300\n",
            "1/1 - 0s - loss: 0.0017 - mae: 0.0333 - val_loss: 0.0407 - val_mae: 0.1788\n",
            "Epoch 262/300\n",
            "1/1 - 0s - loss: 0.0019 - mae: 0.0334 - val_loss: 0.0411 - val_mae: 0.1810\n",
            "Epoch 263/300\n",
            "1/1 - 0s - loss: 0.0016 - mae: 0.0270 - val_loss: 0.0425 - val_mae: 0.1848\n",
            "Epoch 264/300\n",
            "1/1 - 0s - loss: 0.0014 - mae: 0.0280 - val_loss: 0.0440 - val_mae: 0.1884\n",
            "Epoch 265/300\n",
            "1/1 - 0s - loss: 0.0019 - mae: 0.0321 - val_loss: 0.0450 - val_mae: 0.1905\n",
            "Epoch 266/300\n",
            "1/1 - 0s - loss: 0.0016 - mae: 0.0293 - val_loss: 0.0456 - val_mae: 0.1912\n",
            "Epoch 267/300\n",
            "1/1 - 0s - loss: 0.0017 - mae: 0.0324 - val_loss: 0.0453 - val_mae: 0.1908\n",
            "Epoch 268/300\n",
            "1/1 - 0s - loss: 0.0016 - mae: 0.0298 - val_loss: 0.0435 - val_mae: 0.1872\n",
            "Epoch 269/300\n",
            "1/1 - 0s - loss: 9.3043e-04 - mae: 0.0228 - val_loss: 0.0419 - val_mae: 0.1835\n",
            "Epoch 270/300\n",
            "1/1 - 0s - loss: 0.0012 - mae: 0.0264 - val_loss: 0.0407 - val_mae: 0.1800\n",
            "Epoch 271/300\n",
            "1/1 - 0s - loss: 0.0014 - mae: 0.0285 - val_loss: 0.0405 - val_mae: 0.1793\n",
            "Epoch 272/300\n",
            "1/1 - 0s - loss: 0.0011 - mae: 0.0260 - val_loss: 0.0404 - val_mae: 0.1797\n",
            "Epoch 273/300\n",
            "1/1 - 0s - loss: 0.0013 - mae: 0.0282 - val_loss: 0.0407 - val_mae: 0.1820\n",
            "Epoch 274/300\n",
            "1/1 - 0s - loss: 0.0015 - mae: 0.0308 - val_loss: 0.0416 - val_mae: 0.1859\n",
            "Epoch 275/300\n",
            "1/1 - 0s - loss: 0.0014 - mae: 0.0297 - val_loss: 0.0431 - val_mae: 0.1898\n",
            "Epoch 276/300\n",
            "1/1 - 0s - loss: 0.0016 - mae: 0.0294 - val_loss: 0.0447 - val_mae: 0.1916\n",
            "Epoch 277/300\n",
            "1/1 - 0s - loss: 0.0010 - mae: 0.0248 - val_loss: 0.0465 - val_mae: 0.1937\n",
            "Epoch 278/300\n",
            "1/1 - 0s - loss: 0.0029 - mae: 0.0383 - val_loss: 0.0474 - val_mae: 0.1968\n",
            "Epoch 279/300\n",
            "1/1 - 0s - loss: 0.0016 - mae: 0.0302 - val_loss: 0.0470 - val_mae: 0.1976\n",
            "Epoch 280/300\n",
            "1/1 - 0s - loss: 0.0013 - mae: 0.0279 - val_loss: 0.0457 - val_mae: 0.1957\n",
            "Epoch 281/300\n",
            "1/1 - 0s - loss: 0.0020 - mae: 0.0347 - val_loss: 0.0441 - val_mae: 0.1909\n",
            "Epoch 282/300\n",
            "1/1 - 0s - loss: 0.0011 - mae: 0.0260 - val_loss: 0.0429 - val_mae: 0.1854\n",
            "Epoch 283/300\n",
            "1/1 - 0s - loss: 0.0014 - mae: 0.0273 - val_loss: 0.0421 - val_mae: 0.1813\n",
            "Epoch 284/300\n",
            "1/1 - 0s - loss: 0.0018 - mae: 0.0321 - val_loss: 0.0413 - val_mae: 0.1803\n",
            "Epoch 285/300\n",
            "1/1 - 0s - loss: 0.0010 - mae: 0.0246 - val_loss: 0.0411 - val_mae: 0.1818\n",
            "Epoch 286/300\n",
            "1/1 - 0s - loss: 9.9832e-04 - mae: 0.0239 - val_loss: 0.0417 - val_mae: 0.1848\n",
            "Epoch 287/300\n",
            "1/1 - 0s - loss: 0.0013 - mae: 0.0280 - val_loss: 0.0429 - val_mae: 0.1876\n",
            "Epoch 288/300\n",
            "1/1 - 0s - loss: 0.0012 - mae: 0.0258 - val_loss: 0.0441 - val_mae: 0.1897\n",
            "Epoch 289/300\n",
            "1/1 - 0s - loss: 0.0013 - mae: 0.0290 - val_loss: 0.0438 - val_mae: 0.1887\n",
            "Epoch 290/300\n",
            "1/1 - 0s - loss: 0.0029 - mae: 0.0379 - val_loss: 0.0433 - val_mae: 0.1879\n",
            "Epoch 291/300\n",
            "1/1 - 0s - loss: 0.0011 - mae: 0.0249 - val_loss: 0.0435 - val_mae: 0.1878\n",
            "Epoch 292/300\n",
            "1/1 - 0s - loss: 0.0020 - mae: 0.0341 - val_loss: 0.0430 - val_mae: 0.1873\n",
            "Epoch 293/300\n",
            "1/1 - 0s - loss: 0.0019 - mae: 0.0336 - val_loss: 0.0426 - val_mae: 0.1872\n",
            "Epoch 294/300\n",
            "1/1 - 0s - loss: 8.3831e-04 - mae: 0.0212 - val_loss: 0.0426 - val_mae: 0.1868\n",
            "Epoch 295/300\n",
            "1/1 - 0s - loss: 0.0011 - mae: 0.0256 - val_loss: 0.0424 - val_mae: 0.1859\n",
            "Epoch 296/300\n",
            "1/1 - 0s - loss: 0.0020 - mae: 0.0332 - val_loss: 0.0422 - val_mae: 0.1865\n",
            "Epoch 297/300\n",
            "1/1 - 0s - loss: 9.7583e-04 - mae: 0.0243 - val_loss: 0.0424 - val_mae: 0.1870\n",
            "Epoch 298/300\n",
            "1/1 - 0s - loss: 0.0013 - mae: 0.0288 - val_loss: 0.0427 - val_mae: 0.1869\n",
            "Epoch 299/300\n",
            "1/1 - 0s - loss: 0.0019 - mae: 0.0342 - val_loss: 0.0420 - val_mae: 0.1854\n",
            "Epoch 300/300\n",
            "1/1 - 0s - loss: 9.7294e-04 - mae: 0.0235 - val_loss: 0.0420 - val_mae: 0.1847\n"
          ],
          "name": "stdout"
        }
      ]
    },
    {
      "cell_type": "code",
      "metadata": {
        "colab": {
          "base_uri": "https://localhost:8080/",
          "height": 314
        },
        "id": "A1YC68UB2oBC",
        "outputId": "2ca65249-60e5-4e55-f006-475dbfd5a672"
      },
      "source": [
        "# Grafik training dan validation loss\n",
        "training_loss=fitting_history.history['loss']\n",
        "validation_loss=fitting_history.history['val_loss']\n",
        "epochs=range(len(training_loss))\n",
        "\n",
        "plt.plot(epochs, training_loss, 'r', label=\"Training Loss\")\n",
        "plt.plot(epochs, validation_loss, 'b', label=\"Validation Loss\")\n",
        "plt.title('Training and validation loss')\n",
        "plt.legend(loc=0)\n",
        "plt.figure()"
      ],
      "execution_count": null,
      "outputs": [
        {
          "output_type": "execute_result",
          "data": {
            "text/plain": [
              "<Figure size 432x288 with 0 Axes>"
            ]
          },
          "metadata": {
            "tags": []
          },
          "execution_count": 768
        },
        {
          "output_type": "display_data",
          "data": {
            "image/png": "[encoded data removed]",
            "text/plain": [
              "<Figure size 432x288 with 1 Axes>"
            ]
          },
          "metadata": {
            "tags": [],
            "needs_background": "light"
          }
        },
        {
          "output_type": "display_data",
          "data": {
            "text/plain": [
              "<Figure size 432x288 with 0 Axes>"
            ]
          },
          "metadata": {
            "tags": []
          }
        }
      ]
    },
    {
      "cell_type": "code",
      "metadata": {
        "colab": {
          "base_uri": "https://localhost:8080/",
          "height": 314
        },
        "id": "qIVAhEqD2phA",
        "outputId": "8195165d-9f25-4af0-b8ac-79ced9424227"
      },
      "source": [
        "# Grafik training and validation MAE\n",
        "training_mae=fitting_history.history['mae']\n",
        "validation_mae=fitting_history.history['val_mae']\n",
        "epochs=range(len(training_mae))\n",
        "\n",
        "plt.plot(epochs, training_mae, 'r', label=\"Training MAE\")\n",
        "plt.plot(epochs, validation_mae, 'b', label=\"Validation MAE\")\n",
        "plt.title('Training and validation MAE')\n",
        "plt.legend(loc=0)\n",
        "plt.figure()"
      ],
      "execution_count": null,
      "outputs": [
        {
          "output_type": "execute_result",
          "data": {
            "text/plain": [
              "<Figure size 432x288 with 0 Axes>"
            ]
          },
          "metadata": {
            "tags": []
          },
          "execution_count": 769
        },
        {
          "output_type": "display_data",
          "data": {
            "image/png": "[encoded data removed]",
            "text/plain": [
              "<Figure size 432x288 with 1 Axes>"
            ]
          },
          "metadata": {
            "tags": [],
            "needs_background": "light"
          }
        },
        {
          "output_type": "display_data",
          "data": {
            "text/plain": [
              "<Figure size 432x288 with 0 Axes>"
            ]
          },
          "metadata": {
            "tags": []
          }
        }
      ]
    },
    {
      "cell_type": "code",
      "metadata": {
        "colab": {
          "base_uri": "https://localhost:8080/"
        },
        "id": "pS2g655VK2hD",
        "outputId": "255ee70a-19c8-4c2c-f351-a50f1edc01d7"
      },
      "source": [
        "# Menghitung nilai MSE dan MAE\n",
        "mse_score, mae_score = model.evaluate(input_test, output_test)\n",
        "print('Nilai Mean Squared Error (MSE) : ', mse_score)\n",
        "print('Nilai Mean Absolute Error (MAE) : ', mae_score)"
      ],
      "execution_count": null,
      "outputs": [
        {
          "output_type": "stream",
          "text": [
            "1/1 [==============================] - 0s 20ms/step - loss: 0.0345 - mae: 0.1589\n",
            "Nilai Mean Squared Error (MSE) :  0.03451662138104439\n",
            "Nilai Mean Absolute Error (MAE) :  0.15891271829605103\n"
          ],
          "name": "stdout"
        }
      ]
    },
    {
      "cell_type": "code",
      "metadata": {
        "id": "Wpn2w9R-5LSY"
      },
      "source": [
        "# Simpan model\n",
        "model.save('model-suhu.h5')"
      ],
      "execution_count": null,
      "outputs": []
    },
    {
      "cell_type": "markdown",
      "metadata": {
        "id": "j0gtqKfD5N6d"
      },
      "source": [
        "# **Testing Model**"
      ]
    },
    {
      "cell_type": "code",
      "metadata": {
        "id": "o_3DBMeZ5gdD"
      },
      "source": [
        "# Load the model\n",
        "model = tf.keras.models.load_model('model-suhu.h5')"
      ],
      "execution_count": null,
      "outputs": []
    },
    {
      "cell_type": "code",
      "metadata": {
        "id": "UJ6BsbEZUVFr"
      },
      "source": [
        "#Prediksi Data\n",
        "data_prediksi = model.predict(input_test)"
      ],
      "execution_count": null,
      "outputs": []
    },
    {
      "cell_type": "code",
      "metadata": {
        "colab": {
          "base_uri": "https://localhost:8080/"
        },
        "id": "_gyJGODddK7S",
        "outputId": "4db0b61e-6785-42c7-d417-8308e3ef5587"
      },
      "source": [
        "print(data_prediksi)\n",
        "print(\"-------\")\n",
        "print(output_test)"
      ],
      "execution_count": null,
      "outputs": [
        {
          "output_type": "stream",
          "text": [
            "[[0.53066325 0.4582197  0.33955094 0.23979512]\n",
            " [0.5414319  0.46381935 0.33751643 0.24244757]\n",
            " [0.20715547 0.26073703 0.5564387  0.7344756 ]\n",
            " [0.9371764  0.7939668  0.43048197 0.3146228 ]]\n",
            "-------\n",
            "[[0.50265957 0.31648936 0.45212766 0.54521277]\n",
            " [0.5        0.52393617 0.17021277 0.        ]\n",
            " [0.         0.04521277 0.21542553 0.63829787]\n",
            " [0.8962766  0.50265957 0.31648936 0.45212766]]\n"
          ],
          "name": "stdout"
        }
      ]
    },
    {
      "cell_type": "code",
      "metadata": {
        "id": "jiFXCtfyUYA0"
      },
      "source": [
        "# Inverse transform data min max\n",
        "data_prediksi = scaler.inverse_transform(data_prediksi)\n",
        "output_test = scaler.inverse_transform(output_test)"
      ],
      "execution_count": null,
      "outputs": []
    },
    {
      "cell_type": "code",
      "metadata": {
        "colab": {
          "base_uri": "https://localhost:8080/"
        },
        "id": "UM0zjtzmbKPB",
        "outputId": "737a2514-d6fa-46a3-b09a-9e449b4542c9"
      },
      "source": [
        "print(data_prediksi)\n",
        "print(\"-------\")\n",
        "print(output_test)"
      ],
      "execution_count": null,
      "outputs": [
        {
          "output_type": "stream",
          "text": [
            "[[28.485294 28.212906 27.766712 27.39163 ]\n",
            " [28.525784 28.233961 27.759062 27.401602]\n",
            " [27.268906 27.470371 28.58221  29.251629]\n",
            " [30.013783 29.475315 28.108612 27.672981]]\n",
            "-------\n",
            "[[28.38 27.68 28.19 28.54]\n",
            " [28.37 28.46 27.13 26.49]\n",
            " [26.49 26.66 27.3  28.89]\n",
            " [29.86 28.38 27.68 28.19]]\n"
          ],
          "name": "stdout"
        }
      ]
    },
    {
      "cell_type": "code",
      "metadata": {
        "colab": {
          "base_uri": "https://localhost:8080/",
          "height": 362
        },
        "id": "CX_AAp2qf3-h",
        "outputId": "02324684-1a20-494b-f35a-5155f78b195c"
      },
      "source": [
        "temp_test=[]\n",
        "number=[]\n",
        "count=1\n",
        "\n",
        "for j in output_test[0]:\n",
        "  temp_test.append(j)\n",
        "  number.append(count)\n",
        "  count+=1\n",
        "  \n",
        "print(temp_test)\n",
        "print(number)\n",
        "\n",
        "temp_predict=[]\n",
        "number=[]\n",
        "count=1\n",
        "\n",
        "for j in data_prediksi[0]:\n",
        "  temp_predict.append(j)\n",
        "  number.append(count)\n",
        "  count+=1\n",
        "  \n",
        "print(temp_predict)\n",
        "print(number)\n",
        "\n",
        "# Grafik garis dari Suhu\n",
        "plt.plot(number,temp_predict,marker='o',color=\"yellow\")\n",
        "plt.plot(number,temp_test,marker='o',color=\"black\")\n",
        "plt.title('Suhu')\n",
        "plt.ylabel('C')\n",
        "plt.xlabel('Bulan')\n",
        "plt.show()"
      ],
      "execution_count": null,
      "outputs": [
        {
          "output_type": "stream",
          "text": [
            "[28.38, 27.68, 28.19, 28.54]\n",
            "[1, 2, 3, 4]\n",
            "[28.485294, 28.212906, 27.766712, 27.39163]\n",
            "[1, 2, 3, 4]\n"
          ],
          "name": "stdout"
        },
        {
          "output_type": "display_data",
          "data": {
            "image/png": "[encoded data removed]",
            "text/plain": [
              "<Figure size 432x288 with 1 Axes>"
            ]
          },
          "metadata": {
            "tags": [],
            "needs_background": "light"
          }
        }
      ]
    },
    {
      "cell_type": "code",
      "metadata": {
        "colab": {
          "base_uri": "https://localhost:8080/",
          "height": 362
        },
        "id": "CaWGJ_dmgicp",
        "outputId": "74b985eb-f8d6-433b-cac1-040d9d7cfe00"
      },
      "source": [
        "temp_test=[]\n",
        "number=[]\n",
        "count=1\n",
        "\n",
        "for j in output_test[1]:\n",
        "  temp_test.append(j)\n",
        "  number.append(count)\n",
        "  count+=1\n",
        "  \n",
        "print(temp_test)\n",
        "print(number)\n",
        "\n",
        "temp_predict=[]\n",
        "number=[]\n",
        "count=1\n",
        "\n",
        "for j in data_prediksi[1]:\n",
        "  temp_predict.append(j)\n",
        "  number.append(count)\n",
        "  count+=1\n",
        "  \n",
        "print(temp_predict)\n",
        "print(number)\n",
        "\n",
        "# Grafik garis dari Suhu\n",
        "plt.plot(number,temp_predict,marker='o',color=\"yellow\")\n",
        "plt.plot(number,temp_test,marker='o',color=\"black\")\n",
        "plt.title('Suhu')\n",
        "plt.ylabel('C')\n",
        "plt.xlabel('Bulan')\n",
        "plt.show()"
      ],
      "execution_count": null,
      "outputs": [
        {
          "output_type": "stream",
          "text": [
            "[28.37, 28.46, 27.13, 26.49]\n",
            "[1, 2, 3, 4]\n",
            "[28.525784, 28.233961, 27.759062, 27.401602]\n",
            "[1, 2, 3, 4]\n"
          ],
          "name": "stdout"
        },
        {
          "output_type": "display_data",
          "data": {
            "image/png": "[encoded data removed]",
            "text/plain": [
              "<Figure size 432x288 with 1 Axes>"
            ]
          },
          "metadata": {
            "tags": [],
            "needs_background": "light"
          }
        }
      ]
    },
    {
      "cell_type": "code",
      "metadata": {
        "colab": {
          "base_uri": "https://localhost:8080/",
          "height": 362
        },
        "id": "pIx2JbDs2M4i",
        "outputId": "29816c15-01fa-4a86-fed2-1d38f8881f0c"
      },
      "source": [
        "temp_test=[]\n",
        "number=[]\n",
        "count=1\n",
        "\n",
        "for j in output_test[2]:\n",
        "  temp_test.append(j)\n",
        "  number.append(count)\n",
        "  count+=1\n",
        "  \n",
        "print(temp_test)\n",
        "print(number)\n",
        "\n",
        "temp_predict=[]\n",
        "number=[]\n",
        "count=1\n",
        "\n",
        "for j in data_prediksi[2]:\n",
        "  temp_predict.append(j)\n",
        "  number.append(count)\n",
        "  count+=1\n",
        "  \n",
        "print(temp_predict)\n",
        "print(number)\n",
        "\n",
        "# Grafik garis dari Suhu\n",
        "plt.plot(number,temp_predict,marker='o',color=\"yellow\")\n",
        "plt.plot(number,temp_test,marker='o',color=\"black\")\n",
        "plt.title('Suhu')\n",
        "plt.ylabel('C')\n",
        "plt.xlabel('Bulan')\n",
        "plt.show()"
      ],
      "execution_count": null,
      "outputs": [
        {
          "output_type": "stream",
          "text": [
            "[26.49, 26.66, 27.3, 28.89]\n",
            "[1, 2, 3, 4]\n",
            "[27.268906, 27.470371, 28.58221, 29.251629]\n",
            "[1, 2, 3, 4]\n"
          ],
          "name": "stdout"
        },
        {
          "output_type": "display_data",
          "data": {
            "image/png": "[encoded data removed]",
            "text/plain": [
              "<Figure size 432x288 with 1 Axes>"
            ]
          },
          "metadata": {
            "tags": [],
            "needs_background": "light"
          }
        }
      ]
    },
    {
      "cell_type": "code",
      "metadata": {
        "colab": {
          "base_uri": "https://localhost:8080/",
          "height": 362
        },
        "id": "UfPsebq6BhcQ",
        "outputId": "947591d5-575e-4f23-9346-caad9599606f"
      },
      "source": [
        "temp_test=[]\n",
        "number=[]\n",
        "count=1\n",
        "\n",
        "for j in output_test[3]:\n",
        "  temp_test.append(j)\n",
        "  number.append(count)\n",
        "  count+=1\n",
        "  \n",
        "print(temp_test)\n",
        "print(number)\n",
        "\n",
        "temp_predict=[]\n",
        "number=[]\n",
        "count=1\n",
        "\n",
        "for j in data_prediksi[3]:\n",
        "  temp_predict.append(j)\n",
        "  number.append(count)\n",
        "  count+=1\n",
        "  \n",
        "print(temp_predict)\n",
        "print(number)\n",
        "\n",
        "# Grafik garis dari Suhu\n",
        "plt.plot(number,temp_predict,marker='o',color=\"yellow\")\n",
        "plt.plot(number,temp_test,marker='o',color=\"black\")\n",
        "plt.title('Suhu')\n",
        "plt.ylabel('C')\n",
        "plt.xlabel('Bulan')\n",
        "plt.show()"
      ],
      "execution_count": null,
      "outputs": [
        {
          "output_type": "stream",
          "text": [
            "[29.86, 28.38, 27.68, 28.19]\n",
            "[1, 2, 3, 4]\n",
            "[30.013783, 29.475315, 28.108612, 27.672981]\n",
            "[1, 2, 3, 4]\n"
          ],
          "name": "stdout"
        },
        {
          "output_type": "display_data",
          "data": {
            "image/png": "[encoded data removed]",
            "text/plain": [
              "<Figure size 432x288 with 1 Axes>"
            ]
          },
          "metadata": {
            "tags": [],
            "needs_background": "light"
          }
        }
      ]
    }
  ]
}