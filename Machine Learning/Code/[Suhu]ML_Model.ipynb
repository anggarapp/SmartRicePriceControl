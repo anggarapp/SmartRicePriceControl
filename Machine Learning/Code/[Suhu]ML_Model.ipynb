{
  "nbformat": 4,
  "nbformat_minor": 0,
  "metadata": {
    "colab": {
      "name": "[Suhu]ML-Model.ipynb",
      "provenance": [],
      "authorship_tag": "ABX9TyNky+QYTxH62l0IuqCb9+Dm",
      "include_colab_link": true
    },
    "kernelspec": {
      "name": "python3",
      "display_name": "Python 3"
    },
    "language_info": {
      "name": "python"
    }
  },
  "cells": [
    {
      "cell_type": "markdown",
      "metadata": {
        "id": "view-in-github",
        "colab_type": "text"
      },
      "source": [
        "<a href=\"https://colab.research.google.com/github/u1-byte/SmartRicePriceControl/blob/main/Machine%20Learning/Code/%5BSuhu%5DML_Model.ipynb\" target=\"_parent\"><img src=\"https://colab.research.google.com/assets/colab-badge.svg\" alt=\"Open In Colab\"/></a>"
      ]
    },
    {
      "cell_type": "code",
      "metadata": {
        "id": "kTPzSD0srTVw"
      },
      "source": [
        "#import library\n",
        "import tensorflow as tf\n",
        "import numpy as np\n",
        "import matplotlib.pyplot as plt\n",
        "from tensorflow import keras\n",
        "from google.colab import files\n",
        "import csv\n",
        "from sklearn.preprocessing import MinMaxScaler\n",
        "from sklearn.metrics import mean_squared_error"
      ],
      "execution_count": 314,
      "outputs": []
    },
    {
      "cell_type": "code",
      "metadata": {
        "colab": {
          "resources": {
            "http://localhost:8080/nbextensions/google.colab/files.js": {
              "data": "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",
              "ok": true,
              "headers": [
                [
                  "content-type",
                  "application/javascript"
                ]
              ],
              "status": 200,
              "status_text": ""
            }
          },
          "base_uri": "https://localhost:8080/",
          "height": 73
        },
        "id": "9pW1P_9fTl4j",
        "outputId": "96a36102-a7ce-4dd9-c022-0406f71e39f2"
      },
      "source": [
        "# Upload file dataset dari lokal\n",
        "uploaded = files.upload()"
      ],
      "execution_count": 281,
      "outputs": [
        {
          "output_type": "display_data",
          "data": {
            "text/html": [
              "\n",
              "     <input type=\"file\" id=\"files-f7a17acf-f152-452f-a5ff-de8cd138d4da\" name=\"files[]\" multiple disabled\n",
              "        style=\"border:none\" />\n",
              "     <output id=\"result-f7a17acf-f152-452f-a5ff-de8cd138d4da\">\n",
              "      Upload widget is only available when the cell has been executed in the\n",
              "      current browser session. Please rerun this cell to enable.\n",
              "      </output>\n",
              "      <script src=\"/nbextensions/google.colab/files.js\"></script> "
            ],
            "text/plain": [
              "<IPython.core.display.HTML object>"
            ]
          },
          "metadata": {
            "tags": []
          }
        },
        {
          "output_type": "stream",
          "text": [
            "Saving Cuaca.csv to Cuaca.csv\n"
          ],
          "name": "stdout"
        }
      ]
    },
    {
      "cell_type": "markdown",
      "metadata": {
        "id": "4j7-4-QStoQc"
      },
      "source": [
        "# **Kabupaten Lamongan / Jatim**"
      ]
    },
    {
      "cell_type": "code",
      "metadata": {
        "id": "Ctdpy9NotCw0"
      },
      "source": [
        "# Input data Lamongan / Jatim\n",
        "input_suhu_ratarata = []\n",
        "number_of_input = []\n",
        "number=1\n",
        "\n",
        "# Baca file.csv\n",
        "with open('/content/Cuaca.csv') as csv_file:\n",
        "  csv_reader = csv.reader(csv_file, delimiter=',')\n",
        "  next(csv_reader)\n",
        "  for row in csv_reader:\n",
        "    number_of_input.append(number)\n",
        "    input_suhu_ratarata.append(float(row[1]))\n",
        "    number+=1"
      ],
      "execution_count": 382,
      "outputs": []
    },
    {
      "cell_type": "code",
      "metadata": {
        "colab": {
          "base_uri": "https://localhost:8080/",
          "height": 295
        },
        "id": "a5bHiYtKtQiA",
        "outputId": "a9ad6721-0a1f-4c85-e555-95b7f8adcc28"
      },
      "source": [
        "# Grafik garis dari Suhu\n",
        "plt.plot(number_of_input,input_suhu_ratarata,marker='o')\n",
        "plt.title('Suhu (2018 - 2020)')\n",
        "plt.ylabel('C')\n",
        "plt.xlabel('Bulan')\n",
        "plt.show()"
      ],
      "execution_count": 383,
      "outputs": [
        {
          "output_type": "display_data",
          "data": {
            "image/png": "[encoded data removed]",
            "text/plain": [
              "<Figure size 432x288 with 1 Axes>"
            ]
          },
          "metadata": {
            "tags": [],
            "needs_background": "light"
          }
        }
      ]
    },
    {
      "cell_type": "code",
      "metadata": {
        "colab": {
          "base_uri": "https://localhost:8080/"
        },
        "id": "hl7HExITrv6v",
        "outputId": "b14433f3-fe8b-4c16-e1e1-890219cf559a"
      },
      "source": [
        "# Input dari data pada database\n",
        "dataset = []\n",
        "counter=0\n",
        "\n",
        "# Baca file.csv\n",
        "with open('/content/Cuaca.csv') as csv_file:\n",
        "  csv_reader = csv.reader(csv_file, delimiter=',')\n",
        "  next(csv_reader)\n",
        "  for row in csv_reader:\n",
        "    dataset.append([])\n",
        "    dataset[counter].append(float(row[1]))\n",
        "    counter+=1\n",
        "\n",
        "dataset = np.array(dataset)\n",
        "\n",
        "print(dataset)"
      ],
      "execution_count": 384,
      "outputs": [
        {
          "output_type": "stream",
          "text": [
            "[[27.69]\n",
            " [27.21]\n",
            " [27.64]\n",
            " [28.96]\n",
            " [28.75]\n",
            " [27.91]\n",
            " [26.66]\n",
            " [26.67]\n",
            " [28.05]\n",
            " [29.35]\n",
            " [29.51]\n",
            " [29.03]\n",
            " [27.84]\n",
            " [28.  ]\n",
            " [27.68]\n",
            " [28.37]\n",
            " [28.46]\n",
            " [27.13]\n",
            " [26.49]\n",
            " [26.66]\n",
            " [27.3 ]\n",
            " [28.89]\n",
            " [30.25]\n",
            " [29.86]\n",
            " [28.38]\n",
            " [27.68]\n",
            " [28.19]\n",
            " [28.54]\n",
            " [28.39]\n",
            " [27.68]\n",
            " [27.28]\n",
            " [27.54]\n",
            " [28.72]\n",
            " [29.18]\n",
            " [29.17]\n",
            " [27.26]]\n"
          ],
          "name": "stdout"
        }
      ]
    },
    {
      "cell_type": "code",
      "metadata": {
        "id": "dcyiZXY0UANG"
      },
      "source": [
        "# Normalisasi dataset\n",
        "scaler = MinMaxScaler()\n",
        "dataset = scaler.fit_transform(dataset)"
      ],
      "execution_count": 385,
      "outputs": []
    },
    {
      "cell_type": "code",
      "metadata": {
        "colab": {
          "base_uri": "https://localhost:8080/"
        },
        "id": "RfJp46NhUFht",
        "outputId": "4ede77aa-4f5d-49bc-a8d0-8a6b0cfb2c5f"
      },
      "source": [
        "# Fungsi membuat sequence\n",
        "def buat_sequences(dataset, window_size):\n",
        "    input = []\n",
        "    output = []\n",
        "\n",
        "    for i in range(len(dataset)-window_size+1):\n",
        "        window = dataset[i:(i+window_size-4), 0]\n",
        "        input.append(window)\n",
        "        output.append(dataset[(i+window_size-4):i+window_size, 0])\n",
        "    return np.array(input),np.array(output)\n",
        "\n",
        "window_size = 16\n",
        "dataInput, dataOutput = buat_sequences(dataset, window_size)\n",
        "\n",
        "print(len(dataInput))\n",
        "print(len(dataOutput))"
      ],
      "execution_count": 386,
      "outputs": [
        {
          "output_type": "stream",
          "text": [
            "21\n",
            "21\n"
          ],
          "name": "stdout"
        }
      ]
    },
    {
      "cell_type": "code",
      "metadata": {
        "colab": {
          "base_uri": "https://localhost:8080/"
        },
        "id": "-UwcXJqMir2A",
        "outputId": "fab48831-c0e0-47b7-c11a-c8bc4db067e1"
      },
      "source": [
        "split_valid = 15\n",
        "input_train, input_test = dataInput[:split_valid,:], dataInput[split_valid:,:]\n",
        "output_train, output_test = dataOutput[:split_valid,:], dataOutput[split_valid:,:]\n",
        "\n",
        "print(len(input_train))\n",
        "print(len(output_train))"
      ],
      "execution_count": 387,
      "outputs": [
        {
          "output_type": "stream",
          "text": [
            "15\n",
            "15\n"
          ],
          "name": "stdout"
        }
      ]
    },
    {
      "cell_type": "code",
      "metadata": {
        "colab": {
          "base_uri": "https://localhost:8080/"
        },
        "id": "AS2MgD_XjbQl",
        "outputId": "8bd595bc-eea3-482c-e7f8-e810d7216595"
      },
      "source": [
        "print(input_test)\n",
        "print(\"------\")\n",
        "print(output_test)"
      ],
      "execution_count": 388,
      "outputs": [
        {
          "output_type": "stream",
          "text": [
            "[[0.5        0.52393617 0.17021277 0.         0.04521277 0.21542553\n",
            "  0.63829787 1.         0.8962766  0.50265957 0.31648936 0.45212766]\n",
            " [0.52393617 0.17021277 0.         0.04521277 0.21542553 0.63829787\n",
            "  1.         0.8962766  0.50265957 0.31648936 0.45212766 0.54521277]\n",
            " [0.17021277 0.         0.04521277 0.21542553 0.63829787 1.\n",
            "  0.8962766  0.50265957 0.31648936 0.45212766 0.54521277 0.50531915]\n",
            " [0.         0.04521277 0.21542553 0.63829787 1.         0.8962766\n",
            "  0.50265957 0.31648936 0.45212766 0.54521277 0.50531915 0.31648936]\n",
            " [0.04521277 0.21542553 0.63829787 1.         0.8962766  0.50265957\n",
            "  0.31648936 0.45212766 0.54521277 0.50531915 0.31648936 0.21010638]\n",
            " [0.21542553 0.63829787 1.         0.8962766  0.50265957 0.31648936\n",
            "  0.45212766 0.54521277 0.50531915 0.31648936 0.21010638 0.27925532]]\n",
            "------\n",
            "[[0.54521277 0.50531915 0.31648936 0.21010638]\n",
            " [0.50531915 0.31648936 0.21010638 0.27925532]\n",
            " [0.31648936 0.21010638 0.27925532 0.59308511]\n",
            " [0.21010638 0.27925532 0.59308511 0.71542553]\n",
            " [0.27925532 0.59308511 0.71542553 0.71276596]\n",
            " [0.59308511 0.71542553 0.71276596 0.20478723]]\n"
          ],
          "name": "stdout"
        }
      ]
    },
    {
      "cell_type": "code",
      "metadata": {
        "id": "eXAW51AAUNSL"
      },
      "source": [
        "# Ubah dimensinya untuk disesuaikan dengan model\n",
        "input_train = input_train.reshape((input_train.shape[0], 1, 1, 1, seq_size-4))\n",
        "input_test = input_test.reshape((input_test.shape[0], 1, 1, 1, seq_size-4))"
      ],
      "execution_count": 389,
      "outputs": []
    },
    {
      "cell_type": "code",
      "metadata": {
        "colab": {
          "base_uri": "https://localhost:8080/"
        },
        "id": "8tHcz4U4b07Z",
        "outputId": "3c344684-68c1-4afc-b761-a7c5a6085a18"
      },
      "source": [
        "print(input_test)"
      ],
      "execution_count": 390,
      "outputs": [
        {
          "output_type": "stream",
          "text": [
            "[[[[[0.5        0.52393617 0.17021277 0.         0.04521277 0.21542553\n",
            "     0.63829787 1.         0.8962766  0.50265957 0.31648936 0.45212766]]]]\n",
            "\n",
            "\n",
            "\n",
            " [[[[0.52393617 0.17021277 0.         0.04521277 0.21542553 0.63829787\n",
            "     1.         0.8962766  0.50265957 0.31648936 0.45212766 0.54521277]]]]\n",
            "\n",
            "\n",
            "\n",
            " [[[[0.17021277 0.         0.04521277 0.21542553 0.63829787 1.\n",
            "     0.8962766  0.50265957 0.31648936 0.45212766 0.54521277 0.50531915]]]]\n",
            "\n",
            "\n",
            "\n",
            " [[[[0.         0.04521277 0.21542553 0.63829787 1.         0.8962766\n",
            "     0.50265957 0.31648936 0.45212766 0.54521277 0.50531915 0.31648936]]]]\n",
            "\n",
            "\n",
            "\n",
            " [[[[0.04521277 0.21542553 0.63829787 1.         0.8962766  0.50265957\n",
            "     0.31648936 0.45212766 0.54521277 0.50531915 0.31648936 0.21010638]]]]\n",
            "\n",
            "\n",
            "\n",
            " [[[[0.21542553 0.63829787 1.         0.8962766  0.50265957 0.31648936\n",
            "     0.45212766 0.54521277 0.50531915 0.31648936 0.21010638 0.27925532]]]]]\n"
          ],
          "name": "stdout"
        }
      ]
    },
    {
      "cell_type": "code",
      "metadata": {
        "colab": {
          "base_uri": "https://localhost:8080/"
        },
        "id": "AVLM4b_omI8n",
        "outputId": "bf5264cd-9b4e-4b4a-b981-5d948f1cdc54"
      },
      "source": [
        "print(output_test)"
      ],
      "execution_count": 391,
      "outputs": [
        {
          "output_type": "stream",
          "text": [
            "[[0.54521277 0.50531915 0.31648936 0.21010638]\n",
            " [0.50531915 0.31648936 0.21010638 0.27925532]\n",
            " [0.31648936 0.21010638 0.27925532 0.59308511]\n",
            " [0.21010638 0.27925532 0.59308511 0.71542553]\n",
            " [0.27925532 0.59308511 0.71542553 0.71276596]\n",
            " [0.59308511 0.71542553 0.71276596 0.20478723]]\n"
          ],
          "name": "stdout"
        }
      ]
    },
    {
      "cell_type": "code",
      "metadata": {
        "colab": {
          "base_uri": "https://localhost:8080/"
        },
        "id": "xnjsFuOoy491",
        "outputId": "e5666cc4-c549-4648-ff3e-1180f9d86775"
      },
      "source": [
        "#model machine learning\n",
        "model = tf.keras.models.Sequential([\n",
        "  tf.keras.layers.ConvLSTM2D(filters=64, kernel_size=(1,1), activation='relu', input_shape=(1, 1, 1, window_size-4)),    \n",
        "  tf.keras.layers.Flatten(),\n",
        "  tf.keras.layers.Dense(32),\n",
        "  tf.keras.layers.Dense(4)\n",
        "])\n",
        "\n",
        "#compile the model\n",
        "model.compile(optimizer='adam', loss='mean_squared_error',metrics=[\"mae\"])\n",
        "\n",
        "model.summary()\n",
        "\n",
        "#fit the model\n",
        "fitting_history = model.fit(input_train, output_train, validation_data=(input_test, output_test), verbose=2, epochs=100)"
      ],
      "execution_count": 392,
      "outputs": [
        {
          "output_type": "stream",
          "text": [
            "Model: \"sequential_3\"\n",
            "_________________________________________________________________\n",
            "Layer (type)                 Output Shape              Param #   \n",
            "=================================================================\n",
            "conv_lst_m2d_3 (ConvLSTM2D)  (None, 1, 1, 64)          19712     \n",
            "_________________________________________________________________\n",
            "flatten_3 (Flatten)          (None, 64)                0         \n",
            "_________________________________________________________________\n",
            "dense_6 (Dense)              (None, 32)                2080      \n",
            "_________________________________________________________________\n",
            "dense_7 (Dense)              (None, 4)                 132       \n",
            "=================================================================\n",
            "Total params: 21,924\n",
            "Trainable params: 21,924\n",
            "Non-trainable params: 0\n",
            "_________________________________________________________________\n",
            "Epoch 1/100\n",
            "1/1 - 2s - loss: 0.2568 - mae: 0.4311 - val_loss: 0.2256 - val_mae: 0.4308\n",
            "Epoch 2/100\n",
            "1/1 - 0s - loss: 0.2480 - mae: 0.4217 - val_loss: 0.2165 - val_mae: 0.4203\n",
            "Epoch 3/100\n",
            "1/1 - 0s - loss: 0.2394 - mae: 0.4127 - val_loss: 0.2075 - val_mae: 0.4097\n",
            "Epoch 4/100\n",
            "1/1 - 0s - loss: 0.2310 - mae: 0.4039 - val_loss: 0.1988 - val_mae: 0.3990\n",
            "Epoch 5/100\n",
            "1/1 - 0s - loss: 0.2227 - mae: 0.3952 - val_loss: 0.1902 - val_mae: 0.3882\n",
            "Epoch 6/100\n",
            "1/1 - 0s - loss: 0.2146 - mae: 0.3866 - val_loss: 0.1817 - val_mae: 0.3772\n",
            "Epoch 7/100\n",
            "1/1 - 0s - loss: 0.2066 - mae: 0.3781 - val_loss: 0.1732 - val_mae: 0.3658\n",
            "Epoch 8/100\n",
            "1/1 - 0s - loss: 0.1986 - mae: 0.3698 - val_loss: 0.1647 - val_mae: 0.3540\n",
            "Epoch 9/100\n",
            "1/1 - 0s - loss: 0.1907 - mae: 0.3612 - val_loss: 0.1563 - val_mae: 0.3420\n",
            "Epoch 10/100\n",
            "1/1 - 0s - loss: 0.1829 - mae: 0.3524 - val_loss: 0.1479 - val_mae: 0.3295\n",
            "Epoch 11/100\n",
            "1/1 - 0s - loss: 0.1752 - mae: 0.3434 - val_loss: 0.1396 - val_mae: 0.3167\n",
            "Epoch 12/100\n",
            "1/1 - 0s - loss: 0.1675 - mae: 0.3342 - val_loss: 0.1312 - val_mae: 0.3033\n",
            "Epoch 13/100\n",
            "1/1 - 0s - loss: 0.1600 - mae: 0.3252 - val_loss: 0.1230 - val_mae: 0.2894\n",
            "Epoch 14/100\n",
            "1/1 - 0s - loss: 0.1525 - mae: 0.3167 - val_loss: 0.1150 - val_mae: 0.2754\n",
            "Epoch 15/100\n",
            "1/1 - 0s - loss: 0.1452 - mae: 0.3083 - val_loss: 0.1071 - val_mae: 0.2625\n",
            "Epoch 16/100\n",
            "1/1 - 0s - loss: 0.1380 - mae: 0.2998 - val_loss: 0.0994 - val_mae: 0.2517\n",
            "Epoch 17/100\n",
            "1/1 - 0s - loss: 0.1310 - mae: 0.2915 - val_loss: 0.0919 - val_mae: 0.2417\n",
            "Epoch 18/100\n",
            "1/1 - 0s - loss: 0.1241 - mae: 0.2831 - val_loss: 0.0847 - val_mae: 0.2313\n",
            "Epoch 19/100\n",
            "1/1 - 0s - loss: 0.1176 - mae: 0.2745 - val_loss: 0.0779 - val_mae: 0.2217\n",
            "Epoch 20/100\n",
            "1/1 - 0s - loss: 0.1112 - mae: 0.2660 - val_loss: 0.0714 - val_mae: 0.2124\n",
            "Epoch 21/100\n",
            "1/1 - 0s - loss: 0.1053 - mae: 0.2583 - val_loss: 0.0653 - val_mae: 0.2041\n",
            "Epoch 22/100\n",
            "1/1 - 0s - loss: 0.0997 - mae: 0.2506 - val_loss: 0.0596 - val_mae: 0.1966\n",
            "Epoch 23/100\n",
            "1/1 - 0s - loss: 0.0945 - mae: 0.2428 - val_loss: 0.0545 - val_mae: 0.1922\n",
            "Epoch 24/100\n",
            "1/1 - 0s - loss: 0.0898 - mae: 0.2358 - val_loss: 0.0499 - val_mae: 0.1881\n",
            "Epoch 25/100\n",
            "1/1 - 0s - loss: 0.0857 - mae: 0.2291 - val_loss: 0.0460 - val_mae: 0.1838\n",
            "Epoch 26/100\n",
            "1/1 - 0s - loss: 0.0820 - mae: 0.2228 - val_loss: 0.0427 - val_mae: 0.1796\n",
            "Epoch 27/100\n",
            "1/1 - 0s - loss: 0.0789 - mae: 0.2167 - val_loss: 0.0400 - val_mae: 0.1776\n",
            "Epoch 28/100\n",
            "1/1 - 0s - loss: 0.0764 - mae: 0.2113 - val_loss: 0.0379 - val_mae: 0.1767\n",
            "Epoch 29/100\n",
            "1/1 - 0s - loss: 0.0744 - mae: 0.2076 - val_loss: 0.0364 - val_mae: 0.1757\n",
            "Epoch 30/100\n",
            "1/1 - 0s - loss: 0.0728 - mae: 0.2061 - val_loss: 0.0354 - val_mae: 0.1747\n",
            "Epoch 31/100\n",
            "1/1 - 0s - loss: 0.0718 - mae: 0.2050 - val_loss: 0.0349 - val_mae: 0.1736\n",
            "Epoch 32/100\n",
            "1/1 - 0s - loss: 0.0710 - mae: 0.2040 - val_loss: 0.0346 - val_mae: 0.1725\n",
            "Epoch 33/100\n",
            "1/1 - 0s - loss: 0.0706 - mae: 0.2030 - val_loss: 0.0345 - val_mae: 0.1713\n",
            "Epoch 34/100\n",
            "1/1 - 0s - loss: 0.0703 - mae: 0.2023 - val_loss: 0.0345 - val_mae: 0.1701\n",
            "Epoch 35/100\n",
            "1/1 - 0s - loss: 0.0700 - mae: 0.2015 - val_loss: 0.0345 - val_mae: 0.1698\n",
            "Epoch 36/100\n",
            "1/1 - 0s - loss: 0.0698 - mae: 0.2011 - val_loss: 0.0345 - val_mae: 0.1696\n",
            "Epoch 37/100\n",
            "1/1 - 0s - loss: 0.0694 - mae: 0.2006 - val_loss: 0.0343 - val_mae: 0.1692\n",
            "Epoch 38/100\n",
            "1/1 - 0s - loss: 0.0689 - mae: 0.1999 - val_loss: 0.0339 - val_mae: 0.1685\n",
            "Epoch 39/100\n",
            "1/1 - 0s - loss: 0.0683 - mae: 0.1994 - val_loss: 0.0335 - val_mae: 0.1677\n",
            "Epoch 40/100\n",
            "1/1 - 0s - loss: 0.0675 - mae: 0.1985 - val_loss: 0.0329 - val_mae: 0.1666\n",
            "Epoch 41/100\n",
            "1/1 - 0s - loss: 0.0665 - mae: 0.1970 - val_loss: 0.0323 - val_mae: 0.1653\n",
            "Epoch 42/100\n",
            "1/1 - 0s - loss: 0.0655 - mae: 0.1949 - val_loss: 0.0316 - val_mae: 0.1639\n",
            "Epoch 43/100\n",
            "1/1 - 0s - loss: 0.0644 - mae: 0.1927 - val_loss: 0.0310 - val_mae: 0.1623\n",
            "Epoch 44/100\n",
            "1/1 - 0s - loss: 0.0633 - mae: 0.1905 - val_loss: 0.0303 - val_mae: 0.1605\n",
            "Epoch 45/100\n",
            "1/1 - 0s - loss: 0.0622 - mae: 0.1889 - val_loss: 0.0298 - val_mae: 0.1587\n",
            "Epoch 46/100\n",
            "1/1 - 0s - loss: 0.0611 - mae: 0.1872 - val_loss: 0.0293 - val_mae: 0.1568\n",
            "Epoch 47/100\n",
            "1/1 - 0s - loss: 0.0600 - mae: 0.1854 - val_loss: 0.0289 - val_mae: 0.1549\n",
            "Epoch 48/100\n",
            "1/1 - 0s - loss: 0.0590 - mae: 0.1834 - val_loss: 0.0285 - val_mae: 0.1528\n",
            "Epoch 49/100\n",
            "1/1 - 0s - loss: 0.0580 - mae: 0.1816 - val_loss: 0.0282 - val_mae: 0.1507\n",
            "Epoch 50/100\n",
            "1/1 - 0s - loss: 0.0571 - mae: 0.1801 - val_loss: 0.0280 - val_mae: 0.1486\n",
            "Epoch 51/100\n",
            "1/1 - 0s - loss: 0.0562 - mae: 0.1786 - val_loss: 0.0278 - val_mae: 0.1465\n",
            "Epoch 52/100\n",
            "1/1 - 0s - loss: 0.0553 - mae: 0.1775 - val_loss: 0.0276 - val_mae: 0.1448\n",
            "Epoch 53/100\n",
            "1/1 - 0s - loss: 0.0544 - mae: 0.1764 - val_loss: 0.0275 - val_mae: 0.1432\n",
            "Epoch 54/100\n",
            "1/1 - 0s - loss: 0.0536 - mae: 0.1753 - val_loss: 0.0274 - val_mae: 0.1419\n",
            "Epoch 55/100\n",
            "1/1 - 0s - loss: 0.0527 - mae: 0.1740 - val_loss: 0.0274 - val_mae: 0.1406\n",
            "Epoch 56/100\n",
            "1/1 - 0s - loss: 0.0518 - mae: 0.1725 - val_loss: 0.0273 - val_mae: 0.1392\n",
            "Epoch 57/100\n",
            "1/1 - 0s - loss: 0.0509 - mae: 0.1710 - val_loss: 0.0273 - val_mae: 0.1378\n",
            "Epoch 58/100\n",
            "1/1 - 0s - loss: 0.0500 - mae: 0.1694 - val_loss: 0.0272 - val_mae: 0.1362\n",
            "Epoch 59/100\n",
            "1/1 - 0s - loss: 0.0491 - mae: 0.1677 - val_loss: 0.0272 - val_mae: 0.1346\n",
            "Epoch 60/100\n",
            "1/1 - 0s - loss: 0.0482 - mae: 0.1659 - val_loss: 0.0271 - val_mae: 0.1329\n",
            "Epoch 61/100\n",
            "1/1 - 0s - loss: 0.0473 - mae: 0.1641 - val_loss: 0.0270 - val_mae: 0.1314\n",
            "Epoch 62/100\n",
            "1/1 - 0s - loss: 0.0464 - mae: 0.1623 - val_loss: 0.0270 - val_mae: 0.1305\n",
            "Epoch 63/100\n",
            "1/1 - 0s - loss: 0.0455 - mae: 0.1605 - val_loss: 0.0270 - val_mae: 0.1294\n",
            "Epoch 64/100\n",
            "1/1 - 0s - loss: 0.0446 - mae: 0.1586 - val_loss: 0.0269 - val_mae: 0.1283\n",
            "Epoch 65/100\n",
            "1/1 - 0s - loss: 0.0437 - mae: 0.1569 - val_loss: 0.0269 - val_mae: 0.1275\n",
            "Epoch 66/100\n",
            "1/1 - 0s - loss: 0.0428 - mae: 0.1551 - val_loss: 0.0270 - val_mae: 0.1269\n",
            "Epoch 67/100\n",
            "1/1 - 0s - loss: 0.0418 - mae: 0.1533 - val_loss: 0.0270 - val_mae: 0.1265\n",
            "Epoch 68/100\n",
            "1/1 - 0s - loss: 0.0409 - mae: 0.1516 - val_loss: 0.0271 - val_mae: 0.1262\n",
            "Epoch 69/100\n",
            "1/1 - 0s - loss: 0.0400 - mae: 0.1499 - val_loss: 0.0273 - val_mae: 0.1259\n",
            "Epoch 70/100\n",
            "1/1 - 0s - loss: 0.0390 - mae: 0.1485 - val_loss: 0.0275 - val_mae: 0.1256\n",
            "Epoch 71/100\n",
            "1/1 - 0s - loss: 0.0381 - mae: 0.1474 - val_loss: 0.0277 - val_mae: 0.1254\n",
            "Epoch 72/100\n",
            "1/1 - 0s - loss: 0.0372 - mae: 0.1461 - val_loss: 0.0280 - val_mae: 0.1252\n",
            "Epoch 73/100\n",
            "1/1 - 0s - loss: 0.0362 - mae: 0.1448 - val_loss: 0.0283 - val_mae: 0.1251\n",
            "Epoch 74/100\n",
            "1/1 - 0s - loss: 0.0353 - mae: 0.1434 - val_loss: 0.0287 - val_mae: 0.1251\n",
            "Epoch 75/100\n",
            "1/1 - 0s - loss: 0.0343 - mae: 0.1419 - val_loss: 0.0291 - val_mae: 0.1255\n",
            "Epoch 76/100\n",
            "1/1 - 0s - loss: 0.0334 - mae: 0.1403 - val_loss: 0.0296 - val_mae: 0.1262\n",
            "Epoch 77/100\n",
            "1/1 - 0s - loss: 0.0324 - mae: 0.1386 - val_loss: 0.0302 - val_mae: 0.1274\n",
            "Epoch 78/100\n",
            "1/1 - 0s - loss: 0.0315 - mae: 0.1369 - val_loss: 0.0308 - val_mae: 0.1297\n",
            "Epoch 79/100\n",
            "1/1 - 0s - loss: 0.0306 - mae: 0.1352 - val_loss: 0.0315 - val_mae: 0.1323\n",
            "Epoch 80/100\n",
            "1/1 - 0s - loss: 0.0296 - mae: 0.1335 - val_loss: 0.0323 - val_mae: 0.1349\n",
            "Epoch 81/100\n",
            "1/1 - 0s - loss: 0.0287 - mae: 0.1316 - val_loss: 0.0331 - val_mae: 0.1375\n",
            "Epoch 82/100\n",
            "1/1 - 0s - loss: 0.0278 - mae: 0.1297 - val_loss: 0.0340 - val_mae: 0.1401\n",
            "Epoch 83/100\n",
            "1/1 - 0s - loss: 0.0269 - mae: 0.1277 - val_loss: 0.0349 - val_mae: 0.1426\n",
            "Epoch 84/100\n",
            "1/1 - 0s - loss: 0.0260 - mae: 0.1257 - val_loss: 0.0359 - val_mae: 0.1452\n",
            "Epoch 85/100\n",
            "1/1 - 0s - loss: 0.0251 - mae: 0.1236 - val_loss: 0.0371 - val_mae: 0.1477\n",
            "Epoch 86/100\n",
            "1/1 - 0s - loss: 0.0243 - mae: 0.1216 - val_loss: 0.0382 - val_mae: 0.1502\n",
            "Epoch 87/100\n",
            "1/1 - 0s - loss: 0.0234 - mae: 0.1197 - val_loss: 0.0395 - val_mae: 0.1528\n",
            "Epoch 88/100\n",
            "1/1 - 0s - loss: 0.0226 - mae: 0.1177 - val_loss: 0.0409 - val_mae: 0.1560\n",
            "Epoch 89/100\n",
            "1/1 - 0s - loss: 0.0218 - mae: 0.1159 - val_loss: 0.0423 - val_mae: 0.1597\n",
            "Epoch 90/100\n",
            "1/1 - 0s - loss: 0.0210 - mae: 0.1140 - val_loss: 0.0439 - val_mae: 0.1636\n",
            "Epoch 91/100\n",
            "1/1 - 0s - loss: 0.0202 - mae: 0.1121 - val_loss: 0.0455 - val_mae: 0.1675\n",
            "Epoch 92/100\n",
            "1/1 - 0s - loss: 0.0194 - mae: 0.1102 - val_loss: 0.0472 - val_mae: 0.1714\n",
            "Epoch 93/100\n",
            "1/1 - 0s - loss: 0.0187 - mae: 0.1083 - val_loss: 0.0490 - val_mae: 0.1754\n",
            "Epoch 94/100\n",
            "1/1 - 0s - loss: 0.0180 - mae: 0.1063 - val_loss: 0.0508 - val_mae: 0.1795\n",
            "Epoch 95/100\n",
            "1/1 - 0s - loss: 0.0172 - mae: 0.1043 - val_loss: 0.0527 - val_mae: 0.1840\n",
            "Epoch 96/100\n",
            "1/1 - 0s - loss: 0.0166 - mae: 0.1024 - val_loss: 0.0547 - val_mae: 0.1883\n",
            "Epoch 97/100\n",
            "1/1 - 0s - loss: 0.0159 - mae: 0.1004 - val_loss: 0.0566 - val_mae: 0.1926\n",
            "Epoch 98/100\n",
            "1/1 - 0s - loss: 0.0153 - mae: 0.0985 - val_loss: 0.0587 - val_mae: 0.1969\n",
            "Epoch 99/100\n",
            "1/1 - 0s - loss: 0.0146 - mae: 0.0966 - val_loss: 0.0607 - val_mae: 0.2010\n",
            "Epoch 100/100\n",
            "1/1 - 0s - loss: 0.0141 - mae: 0.0948 - val_loss: 0.0628 - val_mae: 0.2051\n"
          ],
          "name": "stdout"
        }
      ]
    },
    {
      "cell_type": "code",
      "metadata": {
        "colab": {
          "base_uri": "https://localhost:8080/",
          "height": 314
        },
        "id": "A1YC68UB2oBC",
        "outputId": "fd2ed764-7233-409b-b7b0-f949f4fca50b"
      },
      "source": [
        "# Grafik training dan validation loss\n",
        "training_loss=fitting_history.history['loss']\n",
        "validation_loss=fitting_history.history['val_loss']\n",
        "epochs=range(len(training_loss))\n",
        "\n",
        "plt.plot(epochs, training_loss, 'r', label=\"Training Loss\")\n",
        "plt.plot(epochs, validation_loss, 'b', label=\"Validation Loss\")\n",
        "plt.title('Training and validation loss')\n",
        "plt.legend(loc=0)\n",
        "plt.figure()"
      ],
      "execution_count": 405,
      "outputs": [
        {
          "output_type": "execute_result",
          "data": {
            "text/plain": [
              "<Figure size 432x288 with 0 Axes>"
            ]
          },
          "metadata": {
            "tags": []
          },
          "execution_count": 405
        },
        {
          "output_type": "display_data",
          "data": {
            "image/png": "[encoded data removed]",
            "text/plain": [
              "<Figure size 432x288 with 1 Axes>"
            ]
          },
          "metadata": {
            "tags": [],
            "needs_background": "light"
          }
        },
        {
          "output_type": "display_data",
          "data": {
            "text/plain": [
              "<Figure size 432x288 with 0 Axes>"
            ]
          },
          "metadata": {
            "tags": []
          }
        }
      ]
    },
    {
      "cell_type": "code",
      "metadata": {
        "colab": {
          "base_uri": "https://localhost:8080/",
          "height": 314
        },
        "id": "qIVAhEqD2phA",
        "outputId": "318652c2-12c3-414a-9083-305889aabc9f"
      },
      "source": [
        "# Grafik training and validation MAE\n",
        "training_mae=fitting_history.history['mae']\n",
        "validation_mae=fitting_history.history['val_mae']\n",
        "epochs=range(len(training_mae))\n",
        "\n",
        "plt.plot(epochs, training_mae, 'r', label=\"Training MAE\")\n",
        "plt.plot(epochs, validation_mae, 'b', label=\"Validation MAE\")\n",
        "plt.title('Training and validation MAE')\n",
        "plt.legend(loc=0)\n",
        "plt.figure()"
      ],
      "execution_count": 394,
      "outputs": [
        {
          "output_type": "execute_result",
          "data": {
            "text/plain": [
              "<Figure size 432x288 with 0 Axes>"
            ]
          },
          "metadata": {
            "tags": []
          },
          "execution_count": 394
        },
        {
          "output_type": "display_data",
          "data": {
            "image/png": "[encoded data removed]",
            "text/plain": [
              "<Figure size 432x288 with 1 Axes>"
            ]
          },
          "metadata": {
            "tags": [],
            "needs_background": "light"
          }
        },
        {
          "output_type": "display_data",
          "data": {
            "text/plain": [
              "<Figure size 432x288 with 0 Axes>"
            ]
          },
          "metadata": {
            "tags": []
          }
        }
      ]
    },
    {
      "cell_type": "code",
      "metadata": {
        "id": "UJ6BsbEZUVFr"
      },
      "source": [
        "#Prediksi Data\n",
        "data_prediksi = model.predict(input_test)"
      ],
      "execution_count": 395,
      "outputs": []
    },
    {
      "cell_type": "code",
      "metadata": {
        "colab": {
          "base_uri": "https://localhost:8080/"
        },
        "id": "_gyJGODddK7S",
        "outputId": "6a036be6-8c22-41c9-e67b-31988898a006"
      },
      "source": [
        "print(data_prediksi)\n",
        "print(\"-------\")\n",
        "print(output_test)"
      ],
      "execution_count": 396,
      "outputs": [
        {
          "output_type": "stream",
          "text": [
            "[[ 0.53208566  0.44716248  0.23981088  0.00855631]\n",
            " [ 0.61022335  0.23619728 -0.00134172 -0.05492663]\n",
            " [ 0.4248959   0.02294871 -0.00529378  0.16321759]\n",
            " [ 0.16524753  0.02920042  0.2546147   0.5158992 ]\n",
            " [ 0.06097248  0.2622159   0.61834115  0.81219095]\n",
            " [ 0.24252653  0.6209504   0.8736784   0.8511748 ]]\n",
            "-------\n",
            "[[0.54521277 0.50531915 0.31648936 0.21010638]\n",
            " [0.50531915 0.31648936 0.21010638 0.27925532]\n",
            " [0.31648936 0.21010638 0.27925532 0.59308511]\n",
            " [0.21010638 0.27925532 0.59308511 0.71542553]\n",
            " [0.27925532 0.59308511 0.71542553 0.71276596]\n",
            " [0.59308511 0.71542553 0.71276596 0.20478723]]\n"
          ],
          "name": "stdout"
        }
      ]
    },
    {
      "cell_type": "code",
      "metadata": {
        "id": "jiFXCtfyUYA0"
      },
      "source": [
        "# Inverse transform data min max\n",
        "data_prediksi = scaler.inverse_transform(data_prediksi)\n",
        "output_test = scaler.inverse_transform(output_test)"
      ],
      "execution_count": 397,
      "outputs": []
    },
    {
      "cell_type": "code",
      "metadata": {
        "colab": {
          "base_uri": "https://localhost:8080/"
        },
        "id": "UM0zjtzmbKPB",
        "outputId": "8791fb20-a8ba-40e6-8f1d-4f4c84f09328"
      },
      "source": [
        "print(data_prediksi)\n",
        "print(\"-------\")\n",
        "print(output_test)"
      ],
      "execution_count": 398,
      "outputs": [
        {
          "output_type": "stream",
          "text": [
            "[[28.490643 28.171331 27.39169  26.522171]\n",
            " [28.78444  27.378103 26.484955 26.283476]\n",
            " [28.087608 26.576286 26.470095 27.103699]\n",
            " [27.11133  26.599794 27.447351 28.429781]\n",
            " [26.719257 27.475933 28.814962 29.543839]\n",
            " [27.4019   28.824772 29.77503  29.690418]]\n",
            "-------\n",
            "[[28.54 28.39 27.68 27.28]\n",
            " [28.39 27.68 27.28 27.54]\n",
            " [27.68 27.28 27.54 28.72]\n",
            " [27.28 27.54 28.72 29.18]\n",
            " [27.54 28.72 29.18 29.17]\n",
            " [28.72 29.18 29.17 27.26]]\n"
          ],
          "name": "stdout"
        }
      ]
    },
    {
      "cell_type": "code",
      "metadata": {
        "colab": {
          "base_uri": "https://localhost:8080/",
          "height": 362
        },
        "id": "CX_AAp2qf3-h",
        "outputId": "c829e255-4660-460f-f9a3-e5ed0d45e59d"
      },
      "source": [
        "temp_test=[]\n",
        "number=[]\n",
        "count=1\n",
        "\n",
        "for j in output_test[0]:\n",
        "  temp_test.append(j)\n",
        "  number.append(count)\n",
        "  count+=1\n",
        "  \n",
        "print(temp_test)\n",
        "print(number)\n",
        "\n",
        "temp_predict=[]\n",
        "number=[]\n",
        "count=1\n",
        "\n",
        "for j in data_prediksi[0]:\n",
        "  temp_predict.append(j)\n",
        "  number.append(count)\n",
        "  count+=1\n",
        "  \n",
        "print(temp_predict)\n",
        "print(number)\n",
        "\n",
        "# Grafik garis dari Suhu\n",
        "plt.plot(number,temp_predict,marker='o',color=\"yellow\")\n",
        "plt.plot(number,temp_test,marker='o',color=\"black\")\n",
        "plt.title('Suhu')\n",
        "plt.ylabel('C')\n",
        "plt.xlabel('Bulan')\n",
        "plt.show()"
      ],
      "execution_count": 399,
      "outputs": [
        {
          "output_type": "stream",
          "text": [
            "[28.54, 28.39, 27.68, 27.28]\n",
            "[1, 2, 3, 4]\n",
            "[28.490643, 28.171331, 27.39169, 26.522171]\n",
            "[1, 2, 3, 4]\n"
          ],
          "name": "stdout"
        },
        {
          "output_type": "display_data",
          "data": {
            "image/png": "[encoded data removed]",
            "text/plain": [
              "<Figure size 432x288 with 1 Axes>"
            ]
          },
          "metadata": {
            "tags": [],
            "needs_background": "light"
          }
        }
      ]
    },
    {
      "cell_type": "code",
      "metadata": {
        "colab": {
          "base_uri": "https://localhost:8080/",
          "height": 362
        },
        "id": "CaWGJ_dmgicp",
        "outputId": "1612b550-7a07-4f01-bd29-e418525b429c"
      },
      "source": [
        "temp_test=[]\n",
        "number=[]\n",
        "count=1\n",
        "\n",
        "for j in output_test[1]:\n",
        "  temp_test.append(j)\n",
        "  number.append(count)\n",
        "  count+=1\n",
        "  \n",
        "print(temp_test)\n",
        "print(number)\n",
        "\n",
        "temp_predict=[]\n",
        "number=[]\n",
        "count=1\n",
        "\n",
        "for j in data_prediksi[1]:\n",
        "  temp_predict.append(j)\n",
        "  number.append(count)\n",
        "  count+=1\n",
        "  \n",
        "print(temp_predict)\n",
        "print(number)\n",
        "\n",
        "# Grafik garis dari Suhu\n",
        "plt.plot(number,temp_predict,marker='o',color=\"yellow\")\n",
        "plt.plot(number,temp_test,marker='o',color=\"black\")\n",
        "plt.title('Suhu')\n",
        "plt.ylabel('C')\n",
        "plt.xlabel('Bulan')\n",
        "plt.show()"
      ],
      "execution_count": 400,
      "outputs": [
        {
          "output_type": "stream",
          "text": [
            "[28.39, 27.68, 27.28, 27.54]\n",
            "[1, 2, 3, 4]\n",
            "[28.78444, 27.378103, 26.484955, 26.283476]\n",
            "[1, 2, 3, 4]\n"
          ],
          "name": "stdout"
        },
        {
          "output_type": "display_data",
          "data": {
            "image/png": "[encoded data removed]",
            "text/plain": [
              "<Figure size 432x288 with 1 Axes>"
            ]
          },
          "metadata": {
            "tags": [],
            "needs_background": "light"
          }
        }
      ]
    },
    {
      "cell_type": "code",
      "metadata": {
        "colab": {
          "base_uri": "https://localhost:8080/",
          "height": 362
        },
        "id": "pIx2JbDs2M4i",
        "outputId": "b15c01b0-a190-4bfd-8cdf-cc62518b7075"
      },
      "source": [
        "temp_test=[]\n",
        "number=[]\n",
        "count=1\n",
        "\n",
        "for j in output_test[2]:\n",
        "  temp_test.append(j)\n",
        "  number.append(count)\n",
        "  count+=1\n",
        "  \n",
        "print(temp_test)\n",
        "print(number)\n",
        "\n",
        "temp_predict=[]\n",
        "number=[]\n",
        "count=1\n",
        "\n",
        "for j in data_prediksi[2]:\n",
        "  temp_predict.append(j)\n",
        "  number.append(count)\n",
        "  count+=1\n",
        "  \n",
        "print(temp_predict)\n",
        "print(number)\n",
        "\n",
        "# Grafik garis dari Suhu\n",
        "plt.plot(number,temp_predict,marker='o',color=\"yellow\")\n",
        "plt.plot(number,temp_test,marker='o',color=\"black\")\n",
        "plt.title('Suhu')\n",
        "plt.ylabel('C')\n",
        "plt.xlabel('Bulan')\n",
        "plt.show()"
      ],
      "execution_count": 401,
      "outputs": [
        {
          "output_type": "stream",
          "text": [
            "[27.68, 27.28, 27.54, 28.72]\n",
            "[1, 2, 3, 4]\n",
            "[28.087608, 26.576286, 26.470095, 27.103699]\n",
            "[1, 2, 3, 4]\n"
          ],
          "name": "stdout"
        },
        {
          "output_type": "display_data",
          "data": {
            "image/png": "[encoded data removed]",
            "text/plain": [
              "<Figure size 432x288 with 1 Axes>"
            ]
          },
          "metadata": {
            "tags": [],
            "needs_background": "light"
          }
        }
      ]
    },
    {
      "cell_type": "code",
      "metadata": {
        "colab": {
          "base_uri": "https://localhost:8080/",
          "height": 362
        },
        "id": "FjKgCyhJ2Omf",
        "outputId": "3b65ce80-7e33-4974-ec59-7b3083800477"
      },
      "source": [
        "temp_test=[]\n",
        "number=[]\n",
        "count=1\n",
        "\n",
        "for j in output_test[3]:\n",
        "  temp_test.append(j)\n",
        "  number.append(count)\n",
        "  count+=1\n",
        "  \n",
        "print(temp_test)\n",
        "print(number)\n",
        "\n",
        "temp_predict=[]\n",
        "number=[]\n",
        "count=1\n",
        "\n",
        "for j in data_prediksi[3]:\n",
        "  temp_predict.append(j)\n",
        "  number.append(count)\n",
        "  count+=1\n",
        "  \n",
        "print(temp_predict)\n",
        "print(number)\n",
        "\n",
        "# Grafik garis dari Suhu\n",
        "plt.plot(number,temp_predict,marker='o',color=\"yellow\")\n",
        "plt.plot(number,temp_test,marker='o',color=\"black\")\n",
        "plt.title('Suhu')\n",
        "plt.ylabel('C')\n",
        "plt.xlabel('Bulan')\n",
        "plt.show()"
      ],
      "execution_count": 402,
      "outputs": [
        {
          "output_type": "stream",
          "text": [
            "[27.28, 27.54, 28.72, 29.18]\n",
            "[1, 2, 3, 4]\n",
            "[27.11133, 26.599794, 27.447351, 28.429781]\n",
            "[1, 2, 3, 4]\n"
          ],
          "name": "stdout"
        },
        {
          "output_type": "display_data",
          "data": {
            "image/png": "[encoded data removed]",
            "text/plain": [
              "<Figure size 432x288 with 1 Axes>"
            ]
          },
          "metadata": {
            "tags": [],
            "needs_background": "light"
          }
        }
      ]
    },
    {
      "cell_type": "code",
      "metadata": {
        "colab": {
          "base_uri": "https://localhost:8080/",
          "height": 362
        },
        "id": "wVEW7Grd2QMI",
        "outputId": "458d7775-ab3a-4688-8437-cc96fb5e6d37"
      },
      "source": [
        "temp_test=[]\n",
        "number=[]\n",
        "count=1\n",
        "\n",
        "for j in output_test[4]:\n",
        "  temp_test.append(j)\n",
        "  number.append(count)\n",
        "  count+=1\n",
        "  \n",
        "print(temp_test)\n",
        "print(number)\n",
        "\n",
        "temp_predict=[]\n",
        "number=[]\n",
        "count=1\n",
        "\n",
        "for j in data_prediksi[4]:\n",
        "  temp_predict.append(j)\n",
        "  number.append(count)\n",
        "  count+=1\n",
        "  \n",
        "print(temp_predict)\n",
        "print(number)\n",
        "\n",
        "# Grafik garis dari Suhu\n",
        "plt.plot(number,temp_predict,marker='o',color=\"yellow\")\n",
        "plt.plot(number,temp_test,marker='o',color=\"black\")\n",
        "plt.title('Suhu')\n",
        "plt.ylabel('C')\n",
        "plt.xlabel('Bulan')\n",
        "plt.show()"
      ],
      "execution_count": 403,
      "outputs": [
        {
          "output_type": "stream",
          "text": [
            "[27.54, 28.72, 29.18, 29.17]\n",
            "[1, 2, 3, 4]\n",
            "[26.719257, 27.475933, 28.814962, 29.543839]\n",
            "[1, 2, 3, 4]\n"
          ],
          "name": "stdout"
        },
        {
          "output_type": "display_data",
          "data": {
            "image/png": "[encoded data removed]",
            "text/plain": [
              "<Figure size 432x288 with 1 Axes>"
            ]
          },
          "metadata": {
            "tags": [],
            "needs_background": "light"
          }
        }
      ]
    },
    {
      "cell_type": "code",
      "metadata": {
        "colab": {
          "base_uri": "https://localhost:8080/",
          "height": 362
        },
        "id": "EpA6ahG12Rv6",
        "outputId": "81e0c2d8-3e7e-49d9-b667-cf3057a0fe10"
      },
      "source": [
        "temp_test=[]\n",
        "number=[]\n",
        "count=1\n",
        "\n",
        "for j in output_test[5]:\n",
        "  temp_test.append(j)\n",
        "  number.append(count)\n",
        "  count+=1\n",
        "  \n",
        "print(temp_test)\n",
        "print(number)\n",
        "\n",
        "temp_predict=[]\n",
        "number=[]\n",
        "count=1\n",
        "\n",
        "for j in data_prediksi[5]:\n",
        "  temp_predict.append(j)\n",
        "  number.append(count)\n",
        "  count+=1\n",
        "  \n",
        "print(temp_predict)\n",
        "print(number)\n",
        "\n",
        "# Grafik garis dari Suhu\n",
        "plt.plot(number,temp_predict,marker='o',color=\"yellow\")\n",
        "plt.plot(number,temp_test,marker='o',color=\"black\")\n",
        "plt.title('Suhu')\n",
        "plt.ylabel('C')\n",
        "plt.xlabel('Bulan')\n",
        "plt.show()"
      ],
      "execution_count": 404,
      "outputs": [
        {
          "output_type": "stream",
          "text": [
            "[28.72, 29.18, 29.17, 27.26]\n",
            "[1, 2, 3, 4]\n",
            "[27.4019, 28.824772, 29.77503, 29.690418]\n",
            "[1, 2, 3, 4]\n"
          ],
          "name": "stdout"
        },
        {
          "output_type": "display_data",
          "data": {
            "image/png": "[encoded data removed]",
            "text/plain": [
              "<Figure size 432x288 with 1 Axes>"
            ]
          },
          "metadata": {
            "tags": [],
            "needs_background": "light"
          }
        }
      ]
    }
  ]
}