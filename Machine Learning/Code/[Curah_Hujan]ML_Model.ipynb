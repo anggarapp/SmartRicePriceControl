{
  "nbformat": 4,
  "nbformat_minor": 0,
  "metadata": {
    "colab": {
      "name": "[Curah Hujan]ML-Model.ipynb",
      "provenance": [],
      "collapsed_sections": [],
      "toc_visible": true,
      "authorship_tag": "ABX9TyMyL7iENAfVZG4liIG/+QA0",
      "include_colab_link": true
    },
    "kernelspec": {
      "name": "python3",
      "display_name": "Python 3"
    },
    "language_info": {
      "name": "python"
    }
  },
  "cells": [
    {
      "cell_type": "markdown",
      "metadata": {
        "id": "view-in-github",
        "colab_type": "text"
      },
      "source": [
        "<a href=\"https://colab.research.google.com/github/u1-byte/SmartCropYieldsPrediction/blob/main/Machine%20Learning/Code/%5BCurah_Hujan%5DML_Model.ipynb\" target=\"_parent\"><img src=\"https://colab.research.google.com/assets/colab-badge.svg\" alt=\"Open In Colab\"/></a>"
      ]
    },
    {
      "cell_type": "code",
      "metadata": {
        "id": "kTPzSD0srTVw"
      },
      "source": [
        "#import library\n",
        "import tensorflow as tf\n",
        "import numpy as np\n",
        "import matplotlib.pyplot as plt\n",
        "from tensorflow import keras\n",
        "from google.colab import files\n",
        "import csv\n",
        "from sklearn.preprocessing import MinMaxScaler\n",
        "from sklearn.metrics import mean_squared_error\n",
        "from sklearn.model_selection import train_test_split"
      ],
      "execution_count": null,
      "outputs": []
    },
    {
      "cell_type": "code",
      "metadata": {
        "colab": {
          "resources": {
            "http://localhost:8080/nbextensions/google.colab/files.js": {
              "data": "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",
              "ok": true,
              "headers": [
                [
                  "content-type",
                  "application/javascript"
                ]
              ],
              "status": 200,
              "status_text": ""
            }
          },
          "base_uri": "https://localhost:8080/",
          "height": 73
        },
        "id": "9pW1P_9fTl4j",
        "outputId": "e3fd5a1c-d7da-482e-8769-c8a7d6120e5b"
      },
      "source": [
        "# Upload file dataset dari lokal\n",
        "uploaded = files.upload()"
      ],
      "execution_count": null,
      "outputs": [
        {
          "output_type": "display_data",
          "data": {
            "text/html": [
              "\n",
              "     <input type=\"file\" id=\"files-8efeea9c-fa39-4145-abeb-33d8c8584e19\" name=\"files[]\" multiple disabled\n",
              "        style=\"border:none\" />\n",
              "     <output id=\"result-8efeea9c-fa39-4145-abeb-33d8c8584e19\">\n",
              "      Upload widget is only available when the cell has been executed in the\n",
              "      current browser session. Please rerun this cell to enable.\n",
              "      </output>\n",
              "      <script src=\"/nbextensions/google.colab/files.js\"></script> "
            ],
            "text/plain": [
              "<IPython.core.display.HTML object>"
            ]
          },
          "metadata": {
            "tags": []
          }
        },
        {
          "output_type": "stream",
          "text": [
            "Saving Cuaca.csv to Cuaca.csv\n"
          ],
          "name": "stdout"
        }
      ]
    },
    {
      "cell_type": "markdown",
      "metadata": {
        "id": "4j7-4-QStoQc"
      },
      "source": [
        "# **Provinsi Jatim**"
      ]
    },
    {
      "cell_type": "code",
      "metadata": {
        "id": "Ctdpy9NotCw0"
      },
      "source": [
        "# Input data Jatim\n",
        "input_curah_hujan_ratarata = []\n",
        "number_of_input = []\n",
        "number=1\n",
        "\n",
        "# Baca file.csv\n",
        "with open('/content/Cuaca.csv') as csv_file:\n",
        "  csv_reader = csv.reader(csv_file, delimiter=',')\n",
        "  next(csv_reader)\n",
        "  for row in csv_reader:\n",
        "    number_of_input.append(number)\n",
        "    input_curah_hujan_ratarata.append(float(row[3]))\n",
        "    number+=1"
      ],
      "execution_count": null,
      "outputs": []
    },
    {
      "cell_type": "code",
      "metadata": {
        "colab": {
          "base_uri": "https://localhost:8080/",
          "height": 295
        },
        "id": "a5bHiYtKtQiA",
        "outputId": "0bad2515-8f7f-4e0b-a741-868ff89ba795"
      },
      "source": [
        "# Grafik garis dari Suhu\n",
        "plt.plot(number_of_input,input_curah_hujan_ratarata,marker='o')\n",
        "plt.title('Curah Hujan (2018 - 2020)')\n",
        "plt.ylabel('mm')\n",
        "plt.xlabel('Bulan')\n",
        "plt.show()"
      ],
      "execution_count": null,
      "outputs": [
        {
          "output_type": "display_data",
          "data": {
            "image/png": "[encoded data removed]",
            "text/plain": [
              "<Figure size 432x288 with 1 Axes>"
            ]
          },
          "metadata": {
            "tags": [],
            "needs_background": "light"
          }
        }
      ]
    },
    {
      "cell_type": "code",
      "metadata": {
        "colab": {
          "base_uri": "https://localhost:8080/"
        },
        "id": "hl7HExITrv6v",
        "outputId": "25c3ecc8-6a18-4ec2-f409-e3bccfea6805"
      },
      "source": [
        "# Input dari data pada database\n",
        "dataset = []\n",
        "counter=0\n",
        "\n",
        "# Baca file.csv\n",
        "with open('/content/Cuaca.csv') as csv_file:\n",
        "  csv_reader = csv.reader(csv_file, delimiter=',')\n",
        "  next(csv_reader)\n",
        "  for row in csv_reader:\n",
        "    dataset.append([])\n",
        "    dataset[counter].append(float(row[3]))\n",
        "    counter+=1\n",
        "\n",
        "dataset = np.array(dataset)\n",
        "\n",
        "print(dataset)"
      ],
      "execution_count": null,
      "outputs": [
        {
          "output_type": "stream",
          "text": [
            "[[10.88]\n",
            " [17.45]\n",
            " [16.03]\n",
            " [10.37]\n",
            " [ 0.  ]\n",
            " [ 4.61]\n",
            " [ 0.  ]\n",
            " [ 0.  ]\n",
            " [ 0.72]\n",
            " [ 0.  ]\n",
            " [ 6.97]\n",
            " [16.1 ]\n",
            " [16.26]\n",
            " [17.35]\n",
            " [11.45]\n",
            " [12.79]\n",
            " [ 1.8 ]\n",
            " [ 0.  ]\n",
            " [ 0.03]\n",
            " [ 0.  ]\n",
            " [ 0.  ]\n",
            " [ 0.  ]\n",
            " [ 0.88]\n",
            " [ 7.08]\n",
            " [11.45]\n",
            " [18.84]\n",
            " [10.53]\n",
            " [13.42]\n",
            " [18.13]\n",
            " [ 1.81]\n",
            " [ 0.1 ]\n",
            " [ 0.88]\n",
            " [ 0.  ]\n",
            " [ 1.99]\n",
            " [ 6.7 ]\n",
            " [21.84]]\n"
          ],
          "name": "stdout"
        }
      ]
    },
    {
      "cell_type": "code",
      "metadata": {
        "id": "dcyiZXY0UANG"
      },
      "source": [
        "# Normalisasi dataset\n",
        "scaler = MinMaxScaler()\n",
        "dataset = scaler.fit_transform(dataset)"
      ],
      "execution_count": null,
      "outputs": []
    },
    {
      "cell_type": "code",
      "metadata": {
        "colab": {
          "base_uri": "https://localhost:8080/"
        },
        "id": "RfJp46NhUFht",
        "outputId": "c20fbf26-2e93-458d-e7b1-15bf3cd5b6b4"
      },
      "source": [
        "# Fungsi membuat sequence\n",
        "def buat_sequences(dataset, window_size):\n",
        "    input = []\n",
        "    output = []\n",
        "\n",
        "    for i in range(len(dataset)-window_size+1):\n",
        "        window = dataset[i:(i+window_size-4), 0]\n",
        "        input.append(window)\n",
        "        output.append(dataset[(i+window_size-4):i+window_size, 0])\n",
        "    return np.array(input),np.array(output)\n",
        "\n",
        "window_size = 16\n",
        "dataInput, dataOutput = buat_sequences(dataset, window_size)\n",
        "\n",
        "print(len(dataInput))\n",
        "print(len(dataOutput))"
      ],
      "execution_count": null,
      "outputs": [
        {
          "output_type": "stream",
          "text": [
            "21\n",
            "21\n"
          ],
          "name": "stdout"
        }
      ]
    },
    {
      "cell_type": "code",
      "metadata": {
        "colab": {
          "base_uri": "https://localhost:8080/"
        },
        "id": "-UwcXJqMir2A",
        "outputId": "87bb8bf7-a5d3-4626-f03e-2257168f4837"
      },
      "source": [
        "# Bagi data untuk training dan testing\n",
        "input_train, input_test, output_train, output_test = train_test_split(dataInput, dataOutput, test_size=0.15, shuffle=True)\n",
        "\n",
        "print(len(input_train))\n",
        "print(len(input_test))"
      ],
      "execution_count": null,
      "outputs": [
        {
          "output_type": "stream",
          "text": [
            "17\n",
            "4\n"
          ],
          "name": "stdout"
        }
      ]
    },
    {
      "cell_type": "code",
      "metadata": {
        "colab": {
          "base_uri": "https://localhost:8080/"
        },
        "id": "AS2MgD_XjbQl",
        "outputId": "2710c27f-0fcd-4e1b-b1a8-d322a4db8724"
      },
      "source": [
        "# Ubah dimensinya untuk disesuaikan dengan model\n",
        "input_train = input_train.reshape((input_train.shape[0], 1, 1, 1, window_size-4))\n",
        "input_test = input_test.reshape((input_test.shape[0], 1, 1, 1, window_size-4))\n",
        "\n",
        "print(input_test)"
      ],
      "execution_count": null,
      "outputs": [
        {
          "output_type": "stream",
          "text": [
            "[[[[[0.         0.31913919 0.73717949 0.74450549 0.79441392 0.5242674\n",
            "     0.58562271 0.08241758 0.         0.00137363 0.         0.        ]]]]\n",
            "\n",
            "\n",
            "\n",
            " [[[[0.31913919 0.73717949 0.74450549 0.79441392 0.5242674  0.58562271\n",
            "     0.08241758 0.         0.00137363 0.         0.         0.        ]]]]\n",
            "\n",
            "\n",
            "\n",
            " [[[[0.         0.00137363 0.         0.         0.         0.04029304\n",
            "     0.32417582 0.5242674  0.86263736 0.48214286 0.61446886 0.83012821]]]]\n",
            "\n",
            "\n",
            "\n",
            " [[[[0.4981685  0.79899267 0.73397436 0.47481685 0.         0.21108059\n",
            "     0.         0.         0.03296703 0.         0.31913919 0.73717949]]]]]\n"
          ],
          "name": "stdout"
        }
      ]
    },
    {
      "cell_type": "code",
      "metadata": {
        "colab": {
          "base_uri": "https://localhost:8080/"
        },
        "id": "xnjsFuOoy491",
        "outputId": "fc2f00e0-01a4-408b-874f-07e836e38b02"
      },
      "source": [
        "#model machine learning\n",
        "model = tf.keras.models.Sequential([\n",
        "  tf.keras.layers.ConvLSTM2D(filters=512, kernel_size=(1,1), activation='relu', input_shape=(1, 1, 1, window_size-4)),   \n",
        "  tf.keras.layers.Flatten(),\n",
        "  tf.keras.layers.Dense(256, activation=\"relu\"),\n",
        "  tf.keras.layers.Dropout(0.1),\n",
        "  tf.keras.layers.Dense(128, activation=\"relu\"),\n",
        "  tf.keras.layers.Dense(16, activation=\"relu\"),\n",
        "  tf.keras.layers.Dense(4, activation=\"relu\"),\n",
        "])\n",
        "\n",
        "opt = keras.optimizers.Adam(learning_rate=0.01)\n",
        "model.compile(optimizer=opt, loss='mean_squared_error',metrics=[\"mae\"])\n",
        "\n",
        "model.summary()\n",
        "\n",
        "#fit the model\n",
        "fitting_history = model.fit(input_train, output_train, validation_split=0.15, verbose=2, epochs=300)"
      ],
      "execution_count": null,
      "outputs": [
        {
          "output_type": "stream",
          "text": [
            "Model: \"sequential\"\n",
            "_________________________________________________________________\n",
            "Layer (type)                 Output Shape              Param #   \n",
            "=================================================================\n",
            "conv_lst_m2d (ConvLSTM2D)    (None, 1, 1, 512)         1075200   \n",
            "_________________________________________________________________\n",
            "flatten (Flatten)            (None, 512)               0         \n",
            "_________________________________________________________________\n",
            "dense (Dense)                (None, 256)               131328    \n",
            "_________________________________________________________________\n",
            "dropout (Dropout)            (None, 256)               0         \n",
            "_________________________________________________________________\n",
            "dense_1 (Dense)              (None, 128)               32896     \n",
            "_________________________________________________________________\n",
            "dense_2 (Dense)              (None, 16)                2064      \n",
            "_________________________________________________________________\n",
            "dense_3 (Dense)              (None, 4)                 68        \n",
            "=================================================================\n",
            "Total params: 1,241,556\n",
            "Trainable params: 1,241,556\n",
            "Non-trainable params: 0\n",
            "_________________________________________________________________\n",
            "Epoch 1/300\n",
            "1/1 - 3s - loss: 0.1410 - mae: 0.2277 - val_loss: 0.1760 - val_mae: 0.3318\n",
            "Epoch 2/300\n",
            "1/1 - 0s - loss: 0.0969 - mae: 0.2428 - val_loss: 0.1416 - val_mae: 0.2818\n",
            "Epoch 3/300\n",
            "1/1 - 0s - loss: 0.0714 - mae: 0.2013 - val_loss: 0.1718 - val_mae: 0.2996\n",
            "Epoch 4/300\n",
            "1/1 - 0s - loss: 0.0687 - mae: 0.1527 - val_loss: 0.2230 - val_mae: 0.3669\n",
            "Epoch 5/300\n",
            "1/1 - 0s - loss: 0.0863 - mae: 0.1885 - val_loss: 0.1381 - val_mae: 0.2770\n",
            "Epoch 6/300\n",
            "1/1 - 0s - loss: 0.0604 - mae: 0.1581 - val_loss: 0.1471 - val_mae: 0.3052\n",
            "Epoch 7/300\n",
            "1/1 - 0s - loss: 0.0642 - mae: 0.1736 - val_loss: 0.1122 - val_mae: 0.2558\n",
            "Epoch 8/300\n",
            "1/1 - 0s - loss: 0.0560 - mae: 0.1677 - val_loss: 0.0882 - val_mae: 0.2321\n",
            "Epoch 9/300\n",
            "1/1 - 0s - loss: 0.0425 - mae: 0.1494 - val_loss: 0.0839 - val_mae: 0.2209\n",
            "Epoch 10/300\n",
            "1/1 - 0s - loss: 0.0434 - mae: 0.1621 - val_loss: 0.0885 - val_mae: 0.2282\n",
            "Epoch 11/300\n",
            "1/1 - 0s - loss: 0.0412 - mae: 0.1556 - val_loss: 0.0827 - val_mae: 0.2165\n",
            "Epoch 12/300\n",
            "1/1 - 0s - loss: 0.0310 - mae: 0.1293 - val_loss: 0.0843 - val_mae: 0.2208\n",
            "Epoch 13/300\n",
            "1/1 - 0s - loss: 0.0314 - mae: 0.1228 - val_loss: 0.0837 - val_mae: 0.2187\n",
            "Epoch 14/300\n",
            "1/1 - 0s - loss: 0.0298 - mae: 0.1166 - val_loss: 0.0782 - val_mae: 0.2109\n",
            "Epoch 15/300\n",
            "1/1 - 0s - loss: 0.0295 - mae: 0.1182 - val_loss: 0.0800 - val_mae: 0.2152\n",
            "Epoch 16/300\n",
            "1/1 - 0s - loss: 0.0258 - mae: 0.1098 - val_loss: 0.0830 - val_mae: 0.2162\n",
            "Epoch 17/300\n",
            "1/1 - 0s - loss: 0.0265 - mae: 0.1111 - val_loss: 0.0979 - val_mae: 0.2237\n",
            "Epoch 18/300\n",
            "1/1 - 0s - loss: 0.0263 - mae: 0.1067 - val_loss: 0.1050 - val_mae: 0.2200\n",
            "Epoch 19/300\n",
            "1/1 - 0s - loss: 0.0264 - mae: 0.1048 - val_loss: 0.0890 - val_mae: 0.2027\n",
            "Epoch 20/300\n",
            "1/1 - 0s - loss: 0.0214 - mae: 0.0939 - val_loss: 0.0658 - val_mae: 0.1815\n",
            "Epoch 21/300\n",
            "1/1 - 0s - loss: 0.0224 - mae: 0.0989 - val_loss: 0.0551 - val_mae: 0.1752\n",
            "Epoch 22/300\n",
            "1/1 - 0s - loss: 0.0247 - mae: 0.1014 - val_loss: 0.0616 - val_mae: 0.1783\n",
            "Epoch 23/300\n",
            "1/1 - 0s - loss: 0.0193 - mae: 0.0934 - val_loss: 0.0792 - val_mae: 0.1928\n",
            "Epoch 24/300\n",
            "1/1 - 0s - loss: 0.0195 - mae: 0.0916 - val_loss: 0.0970 - val_mae: 0.2169\n",
            "Epoch 25/300\n",
            "1/1 - 0s - loss: 0.0173 - mae: 0.0879 - val_loss: 0.0971 - val_mae: 0.2196\n",
            "Epoch 26/300\n",
            "1/1 - 0s - loss: 0.0188 - mae: 0.0915 - val_loss: 0.0820 - val_mae: 0.2032\n",
            "Epoch 27/300\n",
            "1/1 - 0s - loss: 0.0152 - mae: 0.0846 - val_loss: 0.0686 - val_mae: 0.1848\n",
            "Epoch 28/300\n",
            "1/1 - 0s - loss: 0.0193 - mae: 0.0951 - val_loss: 0.0713 - val_mae: 0.1857\n",
            "Epoch 29/300\n",
            "1/1 - 0s - loss: 0.0140 - mae: 0.0789 - val_loss: 0.0830 - val_mae: 0.1977\n",
            "Epoch 30/300\n",
            "1/1 - 0s - loss: 0.0150 - mae: 0.0765 - val_loss: 0.0839 - val_mae: 0.1964\n",
            "Epoch 31/300\n",
            "1/1 - 0s - loss: 0.0180 - mae: 0.0858 - val_loss: 0.0753 - val_mae: 0.1924\n",
            "Epoch 32/300\n",
            "1/1 - 0s - loss: 0.0132 - mae: 0.0747 - val_loss: 0.0714 - val_mae: 0.1904\n",
            "Epoch 33/300\n",
            "1/1 - 0s - loss: 0.0103 - mae: 0.0699 - val_loss: 0.0724 - val_mae: 0.1932\n",
            "Epoch 34/300\n",
            "1/1 - 0s - loss: 0.0153 - mae: 0.0829 - val_loss: 0.0745 - val_mae: 0.1999\n",
            "Epoch 35/300\n",
            "1/1 - 0s - loss: 0.0116 - mae: 0.0744 - val_loss: 0.0880 - val_mae: 0.2160\n",
            "Epoch 36/300\n",
            "1/1 - 0s - loss: 0.0112 - mae: 0.0697 - val_loss: 0.0981 - val_mae: 0.2202\n",
            "Epoch 37/300\n",
            "1/1 - 0s - loss: 0.0126 - mae: 0.0756 - val_loss: 0.0892 - val_mae: 0.2091\n",
            "Epoch 38/300\n",
            "1/1 - 0s - loss: 0.0120 - mae: 0.0741 - val_loss: 0.0748 - val_mae: 0.1932\n",
            "Epoch 39/300\n",
            "1/1 - 0s - loss: 0.0070 - mae: 0.0606 - val_loss: 0.0711 - val_mae: 0.1848\n",
            "Epoch 40/300\n",
            "1/1 - 0s - loss: 0.0083 - mae: 0.0611 - val_loss: 0.0707 - val_mae: 0.1796\n",
            "Epoch 41/300\n",
            "1/1 - 0s - loss: 0.0077 - mae: 0.0599 - val_loss: 0.0726 - val_mae: 0.1840\n",
            "Epoch 42/300\n",
            "1/1 - 0s - loss: 0.0063 - mae: 0.0531 - val_loss: 0.0808 - val_mae: 0.1932\n",
            "Epoch 43/300\n",
            "1/1 - 0s - loss: 0.0083 - mae: 0.0609 - val_loss: 0.0897 - val_mae: 0.2061\n",
            "Epoch 44/300\n",
            "1/1 - 0s - loss: 0.0085 - mae: 0.0622 - val_loss: 0.0996 - val_mae: 0.2195\n",
            "Epoch 45/300\n",
            "1/1 - 0s - loss: 0.0070 - mae: 0.0549 - val_loss: 0.0991 - val_mae: 0.2168\n",
            "Epoch 46/300\n",
            "1/1 - 0s - loss: 0.0081 - mae: 0.0561 - val_loss: 0.0855 - val_mae: 0.2011\n",
            "Epoch 47/300\n",
            "1/1 - 0s - loss: 0.0069 - mae: 0.0540 - val_loss: 0.0650 - val_mae: 0.1814\n",
            "Epoch 48/300\n",
            "1/1 - 0s - loss: 0.0055 - mae: 0.0472 - val_loss: 0.0587 - val_mae: 0.1700\n",
            "Epoch 49/300\n",
            "1/1 - 0s - loss: 0.0048 - mae: 0.0444 - val_loss: 0.0611 - val_mae: 0.1711\n",
            "Epoch 50/300\n",
            "1/1 - 0s - loss: 0.0049 - mae: 0.0477 - val_loss: 0.0764 - val_mae: 0.1943\n",
            "Epoch 51/300\n",
            "1/1 - 0s - loss: 0.0029 - mae: 0.0356 - val_loss: 0.0966 - val_mae: 0.2192\n",
            "Epoch 52/300\n",
            "1/1 - 0s - loss: 0.0050 - mae: 0.0491 - val_loss: 0.0993 - val_mae: 0.2175\n",
            "Epoch 53/300\n",
            "1/1 - 0s - loss: 0.0047 - mae: 0.0418 - val_loss: 0.0928 - val_mae: 0.2020\n",
            "Epoch 54/300\n",
            "1/1 - 0s - loss: 0.0033 - mae: 0.0350 - val_loss: 0.0864 - val_mae: 0.1859\n",
            "Epoch 55/300\n",
            "1/1 - 0s - loss: 0.0040 - mae: 0.0411 - val_loss: 0.0803 - val_mae: 0.1834\n",
            "Epoch 56/300\n",
            "1/1 - 0s - loss: 0.0032 - mae: 0.0368 - val_loss: 0.0758 - val_mae: 0.1900\n",
            "Epoch 57/300\n",
            "1/1 - 0s - loss: 0.0059 - mae: 0.0512 - val_loss: 0.0799 - val_mae: 0.2042\n",
            "Epoch 58/300\n",
            "1/1 - 0s - loss: 0.0038 - mae: 0.0411 - val_loss: 0.0900 - val_mae: 0.2114\n",
            "Epoch 59/300\n",
            "1/1 - 0s - loss: 0.0049 - mae: 0.0436 - val_loss: 0.0964 - val_mae: 0.2143\n",
            "Epoch 60/300\n",
            "1/1 - 0s - loss: 0.0049 - mae: 0.0440 - val_loss: 0.1029 - val_mae: 0.2268\n",
            "Epoch 61/300\n",
            "1/1 - 0s - loss: 0.0042 - mae: 0.0403 - val_loss: 0.1103 - val_mae: 0.2373\n",
            "Epoch 62/300\n",
            "1/1 - 0s - loss: 0.0053 - mae: 0.0462 - val_loss: 0.1060 - val_mae: 0.2346\n",
            "Epoch 63/300\n",
            "1/1 - 0s - loss: 0.0042 - mae: 0.0438 - val_loss: 0.0968 - val_mae: 0.2328\n",
            "Epoch 64/300\n",
            "1/1 - 0s - loss: 0.0040 - mae: 0.0367 - val_loss: 0.0929 - val_mae: 0.2359\n",
            "Epoch 65/300\n",
            "1/1 - 0s - loss: 0.0043 - mae: 0.0429 - val_loss: 0.0882 - val_mae: 0.2323\n",
            "Epoch 66/300\n",
            "1/1 - 0s - loss: 0.0035 - mae: 0.0400 - val_loss: 0.0822 - val_mae: 0.2230\n",
            "Epoch 67/300\n",
            "1/1 - 0s - loss: 0.0027 - mae: 0.0341 - val_loss: 0.0837 - val_mae: 0.2142\n",
            "Epoch 68/300\n",
            "1/1 - 0s - loss: 0.0022 - mae: 0.0295 - val_loss: 0.0900 - val_mae: 0.2112\n",
            "Epoch 69/300\n",
            "1/1 - 0s - loss: 0.0043 - mae: 0.0421 - val_loss: 0.0982 - val_mae: 0.2161\n",
            "Epoch 70/300\n",
            "1/1 - 0s - loss: 0.0031 - mae: 0.0360 - val_loss: 0.1058 - val_mae: 0.2239\n",
            "Epoch 71/300\n",
            "1/1 - 0s - loss: 0.0029 - mae: 0.0347 - val_loss: 0.1086 - val_mae: 0.2264\n",
            "Epoch 72/300\n",
            "1/1 - 0s - loss: 0.0034 - mae: 0.0357 - val_loss: 0.1028 - val_mae: 0.2231\n",
            "Epoch 73/300\n",
            "1/1 - 0s - loss: 0.0038 - mae: 0.0387 - val_loss: 0.0947 - val_mae: 0.2154\n",
            "Epoch 74/300\n",
            "1/1 - 0s - loss: 0.0025 - mae: 0.0318 - val_loss: 0.0900 - val_mae: 0.2088\n",
            "Epoch 75/300\n",
            "1/1 - 0s - loss: 0.0023 - mae: 0.0290 - val_loss: 0.0897 - val_mae: 0.2078\n",
            "Epoch 76/300\n",
            "1/1 - 0s - loss: 0.0026 - mae: 0.0298 - val_loss: 0.0879 - val_mae: 0.2117\n",
            "Epoch 77/300\n",
            "1/1 - 0s - loss: 0.0022 - mae: 0.0277 - val_loss: 0.0887 - val_mae: 0.2164\n",
            "Epoch 78/300\n",
            "1/1 - 0s - loss: 0.0042 - mae: 0.0400 - val_loss: 0.0878 - val_mae: 0.2168\n",
            "Epoch 79/300\n",
            "1/1 - 0s - loss: 0.0022 - mae: 0.0280 - val_loss: 0.0842 - val_mae: 0.2160\n",
            "Epoch 80/300\n",
            "1/1 - 0s - loss: 0.0025 - mae: 0.0306 - val_loss: 0.0791 - val_mae: 0.2130\n",
            "Epoch 81/300\n",
            "1/1 - 0s - loss: 0.0030 - mae: 0.0339 - val_loss: 0.0804 - val_mae: 0.2125\n",
            "Epoch 82/300\n",
            "1/1 - 0s - loss: 0.0024 - mae: 0.0313 - val_loss: 0.0860 - val_mae: 0.2138\n",
            "Epoch 83/300\n",
            "1/1 - 0s - loss: 0.0019 - mae: 0.0267 - val_loss: 0.0937 - val_mae: 0.2174\n",
            "Epoch 84/300\n",
            "1/1 - 0s - loss: 0.0045 - mae: 0.0430 - val_loss: 0.0933 - val_mae: 0.2168\n",
            "Epoch 85/300\n",
            "1/1 - 0s - loss: 0.0023 - mae: 0.0302 - val_loss: 0.0934 - val_mae: 0.2172\n",
            "Epoch 86/300\n",
            "1/1 - 0s - loss: 0.0031 - mae: 0.0338 - val_loss: 0.0884 - val_mae: 0.2120\n",
            "Epoch 87/300\n",
            "1/1 - 0s - loss: 0.0021 - mae: 0.0280 - val_loss: 0.0804 - val_mae: 0.2057\n",
            "Epoch 88/300\n",
            "1/1 - 0s - loss: 0.0025 - mae: 0.0318 - val_loss: 0.0757 - val_mae: 0.2050\n",
            "Epoch 89/300\n",
            "1/1 - 0s - loss: 0.0031 - mae: 0.0345 - val_loss: 0.0754 - val_mae: 0.2008\n",
            "Epoch 90/300\n",
            "1/1 - 0s - loss: 0.0040 - mae: 0.0388 - val_loss: 0.0775 - val_mae: 0.1976\n",
            "Epoch 91/300\n",
            "1/1 - 0s - loss: 0.0041 - mae: 0.0415 - val_loss: 0.0743 - val_mae: 0.1908\n",
            "Epoch 92/300\n",
            "1/1 - 0s - loss: 0.0034 - mae: 0.0393 - val_loss: 0.0752 - val_mae: 0.1985\n",
            "Epoch 93/300\n",
            "1/1 - 0s - loss: 0.0036 - mae: 0.0397 - val_loss: 0.0836 - val_mae: 0.2062\n",
            "Epoch 94/300\n",
            "1/1 - 0s - loss: 0.0045 - mae: 0.0441 - val_loss: 0.0895 - val_mae: 0.2064\n",
            "Epoch 95/300\n",
            "1/1 - 0s - loss: 0.0023 - mae: 0.0308 - val_loss: 0.0943 - val_mae: 0.2070\n",
            "Epoch 96/300\n",
            "1/1 - 0s - loss: 0.0023 - mae: 0.0295 - val_loss: 0.0962 - val_mae: 0.2103\n",
            "Epoch 97/300\n",
            "1/1 - 0s - loss: 0.0037 - mae: 0.0404 - val_loss: 0.0900 - val_mae: 0.2079\n",
            "Epoch 98/300\n",
            "1/1 - 0s - loss: 0.0031 - mae: 0.0373 - val_loss: 0.0807 - val_mae: 0.2043\n",
            "Epoch 99/300\n",
            "1/1 - 0s - loss: 0.0032 - mae: 0.0361 - val_loss: 0.0776 - val_mae: 0.2016\n",
            "Epoch 100/300\n",
            "1/1 - 0s - loss: 0.0029 - mae: 0.0354 - val_loss: 0.0788 - val_mae: 0.1988\n",
            "Epoch 101/300\n",
            "1/1 - 0s - loss: 0.0036 - mae: 0.0404 - val_loss: 0.0836 - val_mae: 0.2048\n",
            "Epoch 102/300\n",
            "1/1 - 0s - loss: 0.0025 - mae: 0.0300 - val_loss: 0.0888 - val_mae: 0.2080\n",
            "Epoch 103/300\n",
            "1/1 - 0s - loss: 0.0017 - mae: 0.0252 - val_loss: 0.0920 - val_mae: 0.2082\n",
            "Epoch 104/300\n",
            "1/1 - 0s - loss: 0.0028 - mae: 0.0367 - val_loss: 0.0884 - val_mae: 0.2019\n",
            "Epoch 105/300\n",
            "1/1 - 0s - loss: 0.0017 - mae: 0.0267 - val_loss: 0.0835 - val_mae: 0.1955\n",
            "Epoch 106/300\n",
            "1/1 - 0s - loss: 0.0038 - mae: 0.0388 - val_loss: 0.0778 - val_mae: 0.1936\n",
            "Epoch 107/300\n",
            "1/1 - 0s - loss: 0.0035 - mae: 0.0402 - val_loss: 0.0700 - val_mae: 0.1917\n",
            "Epoch 108/300\n",
            "1/1 - 0s - loss: 0.0041 - mae: 0.0420 - val_loss: 0.0673 - val_mae: 0.1935\n",
            "Epoch 109/300\n",
            "1/1 - 0s - loss: 0.0019 - mae: 0.0289 - val_loss: 0.0743 - val_mae: 0.2015\n",
            "Epoch 110/300\n",
            "1/1 - 0s - loss: 0.0036 - mae: 0.0398 - val_loss: 0.0835 - val_mae: 0.2070\n",
            "Epoch 111/300\n",
            "1/1 - 0s - loss: 0.0042 - mae: 0.0438 - val_loss: 0.0844 - val_mae: 0.2042\n",
            "Epoch 112/300\n",
            "1/1 - 0s - loss: 0.0025 - mae: 0.0318 - val_loss: 0.0814 - val_mae: 0.2070\n",
            "Epoch 113/300\n",
            "1/1 - 0s - loss: 0.0025 - mae: 0.0299 - val_loss: 0.0798 - val_mae: 0.2046\n",
            "Epoch 114/300\n",
            "1/1 - 0s - loss: 0.0013 - mae: 0.0242 - val_loss: 0.0807 - val_mae: 0.2067\n",
            "Epoch 115/300\n",
            "1/1 - 0s - loss: 0.0017 - mae: 0.0293 - val_loss: 0.0768 - val_mae: 0.2028\n",
            "Epoch 116/300\n",
            "1/1 - 0s - loss: 0.0018 - mae: 0.0295 - val_loss: 0.0721 - val_mae: 0.1980\n",
            "Epoch 117/300\n",
            "1/1 - 0s - loss: 0.0016 - mae: 0.0292 - val_loss: 0.0636 - val_mae: 0.1906\n",
            "Epoch 118/300\n",
            "1/1 - 0s - loss: 0.0011 - mae: 0.0227 - val_loss: 0.0599 - val_mae: 0.1900\n",
            "Epoch 119/300\n",
            "1/1 - 0s - loss: 0.0021 - mae: 0.0305 - val_loss: 0.0607 - val_mae: 0.1901\n",
            "Epoch 120/300\n",
            "1/1 - 0s - loss: 0.0020 - mae: 0.0287 - val_loss: 0.0642 - val_mae: 0.1893\n",
            "Epoch 121/300\n",
            "1/1 - 0s - loss: 0.0014 - mae: 0.0260 - val_loss: 0.0729 - val_mae: 0.1967\n",
            "Epoch 122/300\n",
            "1/1 - 0s - loss: 0.0017 - mae: 0.0292 - val_loss: 0.0781 - val_mae: 0.1996\n",
            "Epoch 123/300\n",
            "1/1 - 0s - loss: 0.0012 - mae: 0.0233 - val_loss: 0.0807 - val_mae: 0.1991\n",
            "Epoch 124/300\n",
            "1/1 - 0s - loss: 0.0021 - mae: 0.0291 - val_loss: 0.0795 - val_mae: 0.1971\n",
            "Epoch 125/300\n",
            "1/1 - 0s - loss: 0.0034 - mae: 0.0343 - val_loss: 0.0735 - val_mae: 0.1897\n",
            "Epoch 126/300\n",
            "1/1 - 0s - loss: 0.0010 - mae: 0.0228 - val_loss: 0.0686 - val_mae: 0.1894\n",
            "Epoch 127/300\n",
            "1/1 - 0s - loss: 0.0010 - mae: 0.0222 - val_loss: 0.0649 - val_mae: 0.1872\n",
            "Epoch 128/300\n",
            "1/1 - 0s - loss: 0.0017 - mae: 0.0274 - val_loss: 0.0651 - val_mae: 0.1864\n",
            "Epoch 129/300\n",
            "1/1 - 0s - loss: 0.0015 - mae: 0.0247 - val_loss: 0.0677 - val_mae: 0.1864\n",
            "Epoch 130/300\n",
            "1/1 - 0s - loss: 0.0023 - mae: 0.0318 - val_loss: 0.0724 - val_mae: 0.1939\n",
            "Epoch 131/300\n",
            "1/1 - 0s - loss: 0.0013 - mae: 0.0238 - val_loss: 0.0783 - val_mae: 0.2014\n",
            "Epoch 132/300\n",
            "1/1 - 0s - loss: 0.0015 - mae: 0.0221 - val_loss: 0.0802 - val_mae: 0.2031\n",
            "Epoch 133/300\n",
            "1/1 - 0s - loss: 0.0016 - mae: 0.0246 - val_loss: 0.0780 - val_mae: 0.1981\n",
            "Epoch 134/300\n",
            "1/1 - 0s - loss: 0.0015 - mae: 0.0245 - val_loss: 0.0742 - val_mae: 0.1934\n",
            "Epoch 135/300\n",
            "1/1 - 0s - loss: 0.0011 - mae: 0.0216 - val_loss: 0.0711 - val_mae: 0.1895\n",
            "Epoch 136/300\n",
            "1/1 - 0s - loss: 8.8390e-04 - mae: 0.0205 - val_loss: 0.0694 - val_mae: 0.1862\n",
            "Epoch 137/300\n",
            "1/1 - 0s - loss: 0.0017 - mae: 0.0232 - val_loss: 0.0685 - val_mae: 0.1856\n",
            "Epoch 138/300\n",
            "1/1 - 0s - loss: 0.0018 - mae: 0.0259 - val_loss: 0.0693 - val_mae: 0.1891\n",
            "Epoch 139/300\n",
            "1/1 - 0s - loss: 0.0012 - mae: 0.0221 - val_loss: 0.0706 - val_mae: 0.1909\n",
            "Epoch 140/300\n",
            "1/1 - 0s - loss: 0.0011 - mae: 0.0207 - val_loss: 0.0704 - val_mae: 0.1893\n",
            "Epoch 141/300\n",
            "1/1 - 0s - loss: 0.0011 - mae: 0.0226 - val_loss: 0.0666 - val_mae: 0.1856\n",
            "Epoch 142/300\n",
            "1/1 - 0s - loss: 0.0014 - mae: 0.0231 - val_loss: 0.0665 - val_mae: 0.1865\n",
            "Epoch 143/300\n",
            "1/1 - 0s - loss: 8.7106e-04 - mae: 0.0203 - val_loss: 0.0687 - val_mae: 0.1873\n",
            "Epoch 144/300\n",
            "1/1 - 0s - loss: 0.0014 - mae: 0.0228 - val_loss: 0.0713 - val_mae: 0.1885\n",
            "Epoch 145/300\n",
            "1/1 - 0s - loss: 6.2104e-04 - mae: 0.0168 - val_loss: 0.0734 - val_mae: 0.1897\n",
            "Epoch 146/300\n",
            "1/1 - 0s - loss: 0.0014 - mae: 0.0211 - val_loss: 0.0753 - val_mae: 0.1922\n",
            "Epoch 147/300\n",
            "1/1 - 0s - loss: 0.0011 - mae: 0.0212 - val_loss: 0.0765 - val_mae: 0.1913\n",
            "Epoch 148/300\n",
            "1/1 - 0s - loss: 0.0012 - mae: 0.0214 - val_loss: 0.0756 - val_mae: 0.1871\n",
            "Epoch 149/300\n",
            "1/1 - 0s - loss: 0.0017 - mae: 0.0255 - val_loss: 0.0723 - val_mae: 0.1841\n",
            "Epoch 150/300\n",
            "1/1 - 0s - loss: 0.0013 - mae: 0.0230 - val_loss: 0.0723 - val_mae: 0.1874\n",
            "Epoch 151/300\n",
            "1/1 - 0s - loss: 8.8885e-04 - mae: 0.0183 - val_loss: 0.0738 - val_mae: 0.1918\n",
            "Epoch 152/300\n",
            "1/1 - 0s - loss: 0.0017 - mae: 0.0241 - val_loss: 0.0768 - val_mae: 0.1957\n",
            "Epoch 153/300\n",
            "1/1 - 0s - loss: 0.0012 - mae: 0.0217 - val_loss: 0.0765 - val_mae: 0.1948\n",
            "Epoch 154/300\n",
            "1/1 - 0s - loss: 0.0018 - mae: 0.0247 - val_loss: 0.0748 - val_mae: 0.1904\n",
            "Epoch 155/300\n",
            "1/1 - 0s - loss: 0.0016 - mae: 0.0229 - val_loss: 0.0744 - val_mae: 0.1873\n",
            "Epoch 156/300\n",
            "1/1 - 0s - loss: 0.0011 - mae: 0.0222 - val_loss: 0.0742 - val_mae: 0.1868\n",
            "Epoch 157/300\n",
            "1/1 - 0s - loss: 0.0015 - mae: 0.0236 - val_loss: 0.0732 - val_mae: 0.1873\n",
            "Epoch 158/300\n",
            "1/1 - 0s - loss: 0.0015 - mae: 0.0244 - val_loss: 0.0702 - val_mae: 0.1809\n",
            "Epoch 159/300\n",
            "1/1 - 0s - loss: 0.0017 - mae: 0.0249 - val_loss: 0.0736 - val_mae: 0.1863\n",
            "Epoch 160/300\n",
            "1/1 - 0s - loss: 0.0011 - mae: 0.0210 - val_loss: 0.0807 - val_mae: 0.1924\n",
            "Epoch 161/300\n",
            "1/1 - 0s - loss: 5.9248e-04 - mae: 0.0172 - val_loss: 0.0879 - val_mae: 0.1989\n",
            "Epoch 162/300\n",
            "1/1 - 0s - loss: 0.0017 - mae: 0.0273 - val_loss: 0.0889 - val_mae: 0.1989\n",
            "Epoch 163/300\n",
            "1/1 - 0s - loss: 0.0016 - mae: 0.0251 - val_loss: 0.0807 - val_mae: 0.1912\n",
            "Epoch 164/300\n",
            "1/1 - 0s - loss: 0.0013 - mae: 0.0224 - val_loss: 0.0693 - val_mae: 0.1782\n",
            "Epoch 165/300\n",
            "1/1 - 0s - loss: 8.6854e-04 - mae: 0.0197 - val_loss: 0.0636 - val_mae: 0.1725\n",
            "Epoch 166/300\n",
            "1/1 - 0s - loss: 0.0013 - mae: 0.0230 - val_loss: 0.0644 - val_mae: 0.1749\n",
            "Epoch 167/300\n",
            "1/1 - 0s - loss: 0.0024 - mae: 0.0307 - val_loss: 0.0702 - val_mae: 0.1862\n",
            "Epoch 168/300\n",
            "1/1 - 0s - loss: 6.9239e-04 - mae: 0.0177 - val_loss: 0.0767 - val_mae: 0.1982\n",
            "Epoch 169/300\n",
            "1/1 - 0s - loss: 0.0025 - mae: 0.0276 - val_loss: 0.0777 - val_mae: 0.2005\n",
            "Epoch 170/300\n",
            "1/1 - 0s - loss: 0.0019 - mae: 0.0273 - val_loss: 0.0736 - val_mae: 0.1956\n",
            "Epoch 171/300\n",
            "1/1 - 0s - loss: 0.0011 - mae: 0.0208 - val_loss: 0.0687 - val_mae: 0.1853\n",
            "Epoch 172/300\n",
            "1/1 - 0s - loss: 0.0010 - mae: 0.0208 - val_loss: 0.0673 - val_mae: 0.1797\n",
            "Epoch 173/300\n",
            "1/1 - 0s - loss: 0.0018 - mae: 0.0249 - val_loss: 0.0710 - val_mae: 0.1834\n",
            "Epoch 174/300\n",
            "1/1 - 0s - loss: 0.0023 - mae: 0.0268 - val_loss: 0.0768 - val_mae: 0.1870\n",
            "Epoch 175/300\n",
            "1/1 - 0s - loss: 9.3739e-04 - mae: 0.0191 - val_loss: 0.0807 - val_mae: 0.1886\n",
            "Epoch 176/300\n",
            "1/1 - 0s - loss: 9.6566e-04 - mae: 0.0218 - val_loss: 0.0832 - val_mae: 0.1907\n",
            "Epoch 177/300\n",
            "1/1 - 0s - loss: 0.0019 - mae: 0.0303 - val_loss: 0.0793 - val_mae: 0.1875\n",
            "Epoch 178/300\n",
            "1/1 - 0s - loss: 0.0018 - mae: 0.0274 - val_loss: 0.0709 - val_mae: 0.1805\n",
            "Epoch 179/300\n",
            "1/1 - 0s - loss: 0.0015 - mae: 0.0243 - val_loss: 0.0628 - val_mae: 0.1702\n",
            "Epoch 180/300\n",
            "1/1 - 0s - loss: 0.0017 - mae: 0.0271 - val_loss: 0.0609 - val_mae: 0.1688\n",
            "Epoch 181/300\n",
            "1/1 - 0s - loss: 9.9362e-04 - mae: 0.0212 - val_loss: 0.0644 - val_mae: 0.1770\n",
            "Epoch 182/300\n",
            "1/1 - 0s - loss: 0.0013 - mae: 0.0238 - val_loss: 0.0709 - val_mae: 0.1851\n",
            "Epoch 183/300\n",
            "1/1 - 0s - loss: 0.0016 - mae: 0.0247 - val_loss: 0.0773 - val_mae: 0.1928\n",
            "Epoch 184/300\n",
            "1/1 - 0s - loss: 9.5519e-04 - mae: 0.0210 - val_loss: 0.0797 - val_mae: 0.1939\n",
            "Epoch 185/300\n",
            "1/1 - 0s - loss: 0.0015 - mae: 0.0265 - val_loss: 0.0761 - val_mae: 0.1893\n",
            "Epoch 186/300\n",
            "1/1 - 0s - loss: 8.5874e-04 - mae: 0.0192 - val_loss: 0.0709 - val_mae: 0.1829\n",
            "Epoch 187/300\n",
            "1/1 - 0s - loss: 0.0011 - mae: 0.0234 - val_loss: 0.0709 - val_mae: 0.1819\n",
            "Epoch 188/300\n",
            "1/1 - 0s - loss: 6.8353e-04 - mae: 0.0180 - val_loss: 0.0726 - val_mae: 0.1828\n",
            "Epoch 189/300\n",
            "1/1 - 0s - loss: 6.4622e-04 - mae: 0.0162 - val_loss: 0.0747 - val_mae: 0.1843\n",
            "Epoch 190/300\n",
            "1/1 - 0s - loss: 6.1592e-04 - mae: 0.0177 - val_loss: 0.0786 - val_mae: 0.1895\n",
            "Epoch 191/300\n",
            "1/1 - 0s - loss: 0.0011 - mae: 0.0204 - val_loss: 0.0802 - val_mae: 0.1924\n",
            "Epoch 192/300\n",
            "1/1 - 0s - loss: 7.5845e-04 - mae: 0.0190 - val_loss: 0.0778 - val_mae: 0.1908\n",
            "Epoch 193/300\n",
            "1/1 - 0s - loss: 0.0013 - mae: 0.0237 - val_loss: 0.0708 - val_mae: 0.1820\n",
            "Epoch 194/300\n",
            "1/1 - 0s - loss: 6.1156e-04 - mae: 0.0159 - val_loss: 0.0649 - val_mae: 0.1729\n",
            "Epoch 195/300\n",
            "1/1 - 0s - loss: 9.7107e-04 - mae: 0.0196 - val_loss: 0.0642 - val_mae: 0.1750\n",
            "Epoch 196/300\n",
            "1/1 - 0s - loss: 0.0010 - mae: 0.0211 - val_loss: 0.0677 - val_mae: 0.1819\n",
            "Epoch 197/300\n",
            "1/1 - 0s - loss: 0.0013 - mae: 0.0214 - val_loss: 0.0738 - val_mae: 0.1880\n",
            "Epoch 198/300\n",
            "1/1 - 0s - loss: 7.0029e-04 - mae: 0.0179 - val_loss: 0.0803 - val_mae: 0.1966\n",
            "Epoch 199/300\n",
            "1/1 - 0s - loss: 0.0012 - mae: 0.0211 - val_loss: 0.0827 - val_mae: 0.1997\n",
            "Epoch 200/300\n",
            "1/1 - 0s - loss: 8.7691e-04 - mae: 0.0189 - val_loss: 0.0819 - val_mae: 0.1979\n",
            "Epoch 201/300\n",
            "1/1 - 0s - loss: 8.3589e-04 - mae: 0.0166 - val_loss: 0.0806 - val_mae: 0.1940\n",
            "Epoch 202/300\n",
            "1/1 - 0s - loss: 6.0375e-04 - mae: 0.0157 - val_loss: 0.0773 - val_mae: 0.1891\n",
            "Epoch 203/300\n",
            "1/1 - 0s - loss: 0.0011 - mae: 0.0216 - val_loss: 0.0744 - val_mae: 0.1837\n",
            "Epoch 204/300\n",
            "1/1 - 0s - loss: 0.0014 - mae: 0.0236 - val_loss: 0.0690 - val_mae: 0.1718\n",
            "Epoch 205/300\n",
            "1/1 - 0s - loss: 7.3999e-04 - mae: 0.0183 - val_loss: 0.0679 - val_mae: 0.1770\n",
            "Epoch 206/300\n",
            "1/1 - 0s - loss: 8.0072e-04 - mae: 0.0184 - val_loss: 0.0701 - val_mae: 0.1830\n",
            "Epoch 207/300\n",
            "1/1 - 0s - loss: 8.9800e-04 - mae: 0.0205 - val_loss: 0.0756 - val_mae: 0.1895\n",
            "Epoch 208/300\n",
            "1/1 - 0s - loss: 0.0013 - mae: 0.0211 - val_loss: 0.0786 - val_mae: 0.1901\n",
            "Epoch 209/300\n",
            "1/1 - 0s - loss: 0.0012 - mae: 0.0225 - val_loss: 0.0800 - val_mae: 0.1908\n",
            "Epoch 210/300\n",
            "1/1 - 0s - loss: 8.7293e-04 - mae: 0.0179 - val_loss: 0.0793 - val_mae: 0.1953\n",
            "Epoch 211/300\n",
            "1/1 - 0s - loss: 9.6155e-04 - mae: 0.0197 - val_loss: 0.0754 - val_mae: 0.1944\n",
            "Epoch 212/300\n",
            "1/1 - 0s - loss: 9.8445e-04 - mae: 0.0196 - val_loss: 0.0706 - val_mae: 0.1895\n",
            "Epoch 213/300\n",
            "1/1 - 0s - loss: 0.0015 - mae: 0.0232 - val_loss: 0.0664 - val_mae: 0.1857\n",
            "Epoch 214/300\n",
            "1/1 - 0s - loss: 8.3918e-04 - mae: 0.0172 - val_loss: 0.0631 - val_mae: 0.1807\n",
            "Epoch 215/300\n",
            "1/1 - 0s - loss: 8.7481e-04 - mae: 0.0192 - val_loss: 0.0630 - val_mae: 0.1772\n",
            "Epoch 216/300\n",
            "1/1 - 0s - loss: 0.0017 - mae: 0.0264 - val_loss: 0.0656 - val_mae: 0.1787\n",
            "Epoch 217/300\n",
            "1/1 - 0s - loss: 0.0011 - mae: 0.0206 - val_loss: 0.0732 - val_mae: 0.1872\n",
            "Epoch 218/300\n",
            "1/1 - 0s - loss: 0.0011 - mae: 0.0216 - val_loss: 0.0786 - val_mae: 0.1931\n",
            "Epoch 219/300\n",
            "1/1 - 0s - loss: 0.0010 - mae: 0.0185 - val_loss: 0.0804 - val_mae: 0.1944\n",
            "Epoch 220/300\n",
            "1/1 - 0s - loss: 6.8992e-04 - mae: 0.0177 - val_loss: 0.0805 - val_mae: 0.1951\n",
            "Epoch 221/300\n",
            "1/1 - 0s - loss: 6.0984e-04 - mae: 0.0154 - val_loss: 0.0793 - val_mae: 0.1943\n",
            "Epoch 222/300\n",
            "1/1 - 0s - loss: 8.5409e-04 - mae: 0.0185 - val_loss: 0.0761 - val_mae: 0.1905\n",
            "Epoch 223/300\n",
            "1/1 - 0s - loss: 0.0010 - mae: 0.0193 - val_loss: 0.0714 - val_mae: 0.1825\n",
            "Epoch 224/300\n",
            "1/1 - 0s - loss: 6.3673e-04 - mae: 0.0160 - val_loss: 0.0714 - val_mae: 0.1810\n",
            "Epoch 225/300\n",
            "1/1 - 0s - loss: 9.1675e-04 - mae: 0.0195 - val_loss: 0.0766 - val_mae: 0.1881\n",
            "Epoch 226/300\n",
            "1/1 - 0s - loss: 7.5561e-04 - mae: 0.0170 - val_loss: 0.0791 - val_mae: 0.1941\n",
            "Epoch 227/300\n",
            "1/1 - 0s - loss: 5.4329e-04 - mae: 0.0141 - val_loss: 0.0826 - val_mae: 0.1995\n",
            "Epoch 228/300\n",
            "1/1 - 0s - loss: 8.0446e-04 - mae: 0.0150 - val_loss: 0.0815 - val_mae: 0.1982\n",
            "Epoch 229/300\n",
            "1/1 - 0s - loss: 0.0012 - mae: 0.0209 - val_loss: 0.0734 - val_mae: 0.1895\n",
            "Epoch 230/300\n",
            "1/1 - 0s - loss: 5.4654e-04 - mae: 0.0136 - val_loss: 0.0663 - val_mae: 0.1802\n",
            "Epoch 231/300\n",
            "1/1 - 0s - loss: 7.4142e-04 - mae: 0.0176 - val_loss: 0.0597 - val_mae: 0.1706\n",
            "Epoch 232/300\n",
            "1/1 - 0s - loss: 0.0014 - mae: 0.0229 - val_loss: 0.0560 - val_mae: 0.1666\n",
            "Epoch 233/300\n",
            "1/1 - 0s - loss: 0.0013 - mae: 0.0250 - val_loss: 0.0608 - val_mae: 0.1737\n",
            "Epoch 234/300\n",
            "1/1 - 0s - loss: 9.4753e-04 - mae: 0.0197 - val_loss: 0.0712 - val_mae: 0.1878\n",
            "Epoch 235/300\n",
            "1/1 - 0s - loss: 5.9866e-04 - mae: 0.0149 - val_loss: 0.0820 - val_mae: 0.1986\n",
            "Epoch 236/300\n",
            "1/1 - 0s - loss: 6.1221e-04 - mae: 0.0164 - val_loss: 0.0921 - val_mae: 0.2072\n",
            "Epoch 237/300\n",
            "1/1 - 0s - loss: 0.0011 - mae: 0.0202 - val_loss: 0.0942 - val_mae: 0.2074\n",
            "Epoch 238/300\n",
            "1/1 - 0s - loss: 0.0016 - mae: 0.0254 - val_loss: 0.0860 - val_mae: 0.1971\n",
            "Epoch 239/300\n",
            "1/1 - 0s - loss: 4.3221e-04 - mae: 0.0130 - val_loss: 0.0790 - val_mae: 0.1874\n",
            "Epoch 240/300\n",
            "1/1 - 0s - loss: 8.8240e-04 - mae: 0.0170 - val_loss: 0.0723 - val_mae: 0.1777\n",
            "Epoch 241/300\n",
            "1/1 - 0s - loss: 0.0012 - mae: 0.0200 - val_loss: 0.0676 - val_mae: 0.1734\n",
            "Epoch 242/300\n",
            "1/1 - 0s - loss: 8.7793e-04 - mae: 0.0176 - val_loss: 0.0677 - val_mae: 0.1756\n",
            "Epoch 243/300\n",
            "1/1 - 0s - loss: 0.0011 - mae: 0.0181 - val_loss: 0.0708 - val_mae: 0.1827\n",
            "Epoch 244/300\n",
            "1/1 - 0s - loss: 0.0012 - mae: 0.0231 - val_loss: 0.0767 - val_mae: 0.1933\n",
            "Epoch 245/300\n",
            "1/1 - 0s - loss: 5.9777e-04 - mae: 0.0141 - val_loss: 0.0828 - val_mae: 0.1998\n",
            "Epoch 246/300\n",
            "1/1 - 0s - loss: 8.8741e-04 - mae: 0.0175 - val_loss: 0.0884 - val_mae: 0.2057\n",
            "Epoch 247/300\n",
            "1/1 - 0s - loss: 0.0023 - mae: 0.0260 - val_loss: 0.0904 - val_mae: 0.2083\n",
            "Epoch 248/300\n",
            "1/1 - 0s - loss: 9.8448e-04 - mae: 0.0186 - val_loss: 0.0885 - val_mae: 0.2051\n",
            "Epoch 249/300\n",
            "1/1 - 0s - loss: 0.0011 - mae: 0.0216 - val_loss: 0.0796 - val_mae: 0.1932\n",
            "Epoch 250/300\n",
            "1/1 - 0s - loss: 0.0012 - mae: 0.0198 - val_loss: 0.0710 - val_mae: 0.1824\n",
            "Epoch 251/300\n",
            "1/1 - 0s - loss: 3.9821e-04 - mae: 0.0125 - val_loss: 0.0669 - val_mae: 0.1748\n",
            "Epoch 252/300\n",
            "1/1 - 0s - loss: 8.5563e-04 - mae: 0.0183 - val_loss: 0.0676 - val_mae: 0.1750\n",
            "Epoch 253/300\n",
            "1/1 - 0s - loss: 7.8048e-04 - mae: 0.0177 - val_loss: 0.0713 - val_mae: 0.1818\n",
            "Epoch 254/300\n",
            "1/1 - 0s - loss: 9.0109e-04 - mae: 0.0173 - val_loss: 0.0758 - val_mae: 0.1894\n",
            "Epoch 255/300\n",
            "1/1 - 0s - loss: 8.7854e-04 - mae: 0.0179 - val_loss: 0.0789 - val_mae: 0.1934\n",
            "Epoch 256/300\n",
            "1/1 - 0s - loss: 0.0011 - mae: 0.0198 - val_loss: 0.0792 - val_mae: 0.1943\n",
            "Epoch 257/300\n",
            "1/1 - 0s - loss: 8.4825e-04 - mae: 0.0188 - val_loss: 0.0757 - val_mae: 0.1895\n",
            "Epoch 258/300\n",
            "1/1 - 0s - loss: 4.4269e-04 - mae: 0.0137 - val_loss: 0.0732 - val_mae: 0.1839\n",
            "Epoch 259/300\n",
            "1/1 - 0s - loss: 0.0013 - mae: 0.0209 - val_loss: 0.0718 - val_mae: 0.1815\n",
            "Epoch 260/300\n",
            "1/1 - 0s - loss: 0.0013 - mae: 0.0220 - val_loss: 0.0719 - val_mae: 0.1834\n",
            "Epoch 261/300\n",
            "1/1 - 0s - loss: 4.4551e-04 - mae: 0.0138 - val_loss: 0.0776 - val_mae: 0.1910\n",
            "Epoch 262/300\n",
            "1/1 - 0s - loss: 9.9919e-04 - mae: 0.0198 - val_loss: 0.0817 - val_mae: 0.1953\n",
            "Epoch 263/300\n",
            "1/1 - 0s - loss: 5.7968e-04 - mae: 0.0153 - val_loss: 0.0833 - val_mae: 0.1979\n",
            "Epoch 264/300\n",
            "1/1 - 0s - loss: 3.2341e-04 - mae: 0.0113 - val_loss: 0.0815 - val_mae: 0.1969\n",
            "Epoch 265/300\n",
            "1/1 - 0s - loss: 5.4797e-04 - mae: 0.0159 - val_loss: 0.0814 - val_mae: 0.1967\n",
            "Epoch 266/300\n",
            "1/1 - 0s - loss: 9.9263e-04 - mae: 0.0166 - val_loss: 0.0788 - val_mae: 0.1933\n",
            "Epoch 267/300\n",
            "1/1 - 0s - loss: 6.8186e-04 - mae: 0.0151 - val_loss: 0.0759 - val_mae: 0.1891\n",
            "Epoch 268/300\n",
            "1/1 - 0s - loss: 3.7585e-04 - mae: 0.0119 - val_loss: 0.0741 - val_mae: 0.1862\n",
            "Epoch 269/300\n",
            "1/1 - 0s - loss: 3.4114e-04 - mae: 0.0115 - val_loss: 0.0716 - val_mae: 0.1816\n",
            "Epoch 270/300\n",
            "1/1 - 0s - loss: 9.4794e-04 - mae: 0.0189 - val_loss: 0.0720 - val_mae: 0.1830\n",
            "Epoch 271/300\n",
            "1/1 - 0s - loss: 7.4476e-04 - mae: 0.0165 - val_loss: 0.0737 - val_mae: 0.1870\n",
            "Epoch 272/300\n",
            "1/1 - 0s - loss: 0.0010 - mae: 0.0156 - val_loss: 0.0749 - val_mae: 0.1889\n",
            "Epoch 273/300\n",
            "1/1 - 0s - loss: 8.9476e-04 - mae: 0.0181 - val_loss: 0.0731 - val_mae: 0.1870\n",
            "Epoch 274/300\n",
            "1/1 - 0s - loss: 9.1704e-04 - mae: 0.0161 - val_loss: 0.0739 - val_mae: 0.1879\n",
            "Epoch 275/300\n",
            "1/1 - 0s - loss: 5.8028e-04 - mae: 0.0157 - val_loss: 0.0723 - val_mae: 0.1873\n",
            "Epoch 276/300\n",
            "1/1 - 0s - loss: 8.7802e-04 - mae: 0.0177 - val_loss: 0.0692 - val_mae: 0.1841\n",
            "Epoch 277/300\n",
            "1/1 - 0s - loss: 4.4498e-04 - mae: 0.0139 - val_loss: 0.0695 - val_mae: 0.1833\n",
            "Epoch 278/300\n",
            "1/1 - 0s - loss: 9.8253e-04 - mae: 0.0178 - val_loss: 0.0712 - val_mae: 0.1860\n",
            "Epoch 279/300\n",
            "1/1 - 0s - loss: 0.0012 - mae: 0.0204 - val_loss: 0.0725 - val_mae: 0.1899\n",
            "Epoch 280/300\n",
            "1/1 - 0s - loss: 3.7970e-04 - mae: 0.0122 - val_loss: 0.0757 - val_mae: 0.1941\n",
            "Epoch 281/300\n",
            "1/1 - 0s - loss: 5.7828e-04 - mae: 0.0151 - val_loss: 0.0767 - val_mae: 0.1957\n",
            "Epoch 282/300\n",
            "1/1 - 0s - loss: 9.0306e-04 - mae: 0.0194 - val_loss: 0.0747 - val_mae: 0.1930\n",
            "Epoch 283/300\n",
            "1/1 - 0s - loss: 0.0012 - mae: 0.0170 - val_loss: 0.0749 - val_mae: 0.1920\n",
            "Epoch 284/300\n",
            "1/1 - 0s - loss: 5.3173e-04 - mae: 0.0144 - val_loss: 0.0744 - val_mae: 0.1904\n",
            "Epoch 285/300\n",
            "1/1 - 0s - loss: 4.3287e-04 - mae: 0.0136 - val_loss: 0.0745 - val_mae: 0.1883\n",
            "Epoch 286/300\n",
            "1/1 - 0s - loss: 2.9415e-04 - mae: 0.0104 - val_loss: 0.0738 - val_mae: 0.1851\n",
            "Epoch 287/300\n",
            "1/1 - 0s - loss: 3.9946e-04 - mae: 0.0123 - val_loss: 0.0742 - val_mae: 0.1845\n",
            "Epoch 288/300\n",
            "1/1 - 0s - loss: 0.0014 - mae: 0.0168 - val_loss: 0.0740 - val_mae: 0.1845\n",
            "Epoch 289/300\n",
            "1/1 - 0s - loss: 4.2182e-04 - mae: 0.0132 - val_loss: 0.0738 - val_mae: 0.1862\n",
            "Epoch 290/300\n",
            "1/1 - 0s - loss: 8.3143e-04 - mae: 0.0189 - val_loss: 0.0750 - val_mae: 0.1904\n",
            "Epoch 291/300\n",
            "1/1 - 0s - loss: 5.9950e-04 - mae: 0.0147 - val_loss: 0.0751 - val_mae: 0.1928\n",
            "Epoch 292/300\n",
            "1/1 - 0s - loss: 3.0599e-04 - mae: 0.0118 - val_loss: 0.0760 - val_mae: 0.1948\n",
            "Epoch 293/300\n",
            "1/1 - 0s - loss: 4.0098e-04 - mae: 0.0139 - val_loss: 0.0783 - val_mae: 0.1978\n",
            "Epoch 294/300\n",
            "1/1 - 0s - loss: 0.0011 - mae: 0.0216 - val_loss: 0.0778 - val_mae: 0.1957\n",
            "Epoch 295/300\n",
            "1/1 - 0s - loss: 7.1234e-04 - mae: 0.0166 - val_loss: 0.0777 - val_mae: 0.1934\n",
            "Epoch 296/300\n",
            "1/1 - 0s - loss: 2.6221e-04 - mae: 0.0101 - val_loss: 0.0778 - val_mae: 0.1904\n",
            "Epoch 297/300\n",
            "1/1 - 0s - loss: 5.6906e-04 - mae: 0.0152 - val_loss: 0.0782 - val_mae: 0.1888\n",
            "Epoch 298/300\n",
            "1/1 - 0s - loss: 0.0019 - mae: 0.0231 - val_loss: 0.0761 - val_mae: 0.1867\n",
            "Epoch 299/300\n",
            "1/1 - 0s - loss: 5.8703e-04 - mae: 0.0149 - val_loss: 0.0773 - val_mae: 0.1895\n",
            "Epoch 300/300\n",
            "1/1 - 0s - loss: 3.9158e-04 - mae: 0.0128 - val_loss: 0.0785 - val_mae: 0.1909\n"
          ],
          "name": "stdout"
        }
      ]
    },
    {
      "cell_type": "code",
      "metadata": {
        "colab": {
          "base_uri": "https://localhost:8080/",
          "height": 314
        },
        "id": "A1YC68UB2oBC",
        "outputId": "f091eeec-ce90-4e5f-eb0b-2d552a3e2fd3"
      },
      "source": [
        "# Grafik training dan validation loss\n",
        "training_loss=fitting_history.history['loss']\n",
        "validation_loss=fitting_history.history['val_loss']\n",
        "epochs=range(len(training_loss))\n",
        "\n",
        "plt.plot(epochs, training_loss, 'r', label=\"Training Loss\")\n",
        "plt.plot(epochs, validation_loss, 'b', label=\"Validation Loss\")\n",
        "plt.title('Training and validation loss')\n",
        "plt.legend(loc=0)\n",
        "plt.figure()"
      ],
      "execution_count": null,
      "outputs": [
        {
          "output_type": "execute_result",
          "data": {
            "text/plain": [
              "<Figure size 432x288 with 0 Axes>"
            ]
          },
          "metadata": {
            "tags": []
          },
          "execution_count": 18
        },
        {
          "output_type": "display_data",
          "data": {
            "image/png": "[encoded data removed]",
            "text/plain": [
              "<Figure size 432x288 with 1 Axes>"
            ]
          },
          "metadata": {
            "tags": [],
            "needs_background": "light"
          }
        },
        {
          "output_type": "display_data",
          "data": {
            "text/plain": [
              "<Figure size 432x288 with 0 Axes>"
            ]
          },
          "metadata": {
            "tags": []
          }
        }
      ]
    },
    {
      "cell_type": "code",
      "metadata": {
        "colab": {
          "base_uri": "https://localhost:8080/",
          "height": 314
        },
        "id": "qIVAhEqD2phA",
        "outputId": "b04dce94-eca8-482e-c270-d1b17f139006"
      },
      "source": [
        "# Grafik training and validation MAE\n",
        "training_mae=fitting_history.history['mae']\n",
        "validation_mae=fitting_history.history['val_mae']\n",
        "epochs=range(len(training_mae))\n",
        "\n",
        "plt.plot(epochs, training_mae, 'r', label=\"Training MAE\")\n",
        "plt.plot(epochs, validation_mae, 'b', label=\"Validation MAE\")\n",
        "plt.title('Training and validation MAE')\n",
        "plt.legend(loc=0)\n",
        "plt.figure()"
      ],
      "execution_count": null,
      "outputs": [
        {
          "output_type": "execute_result",
          "data": {
            "text/plain": [
              "<Figure size 432x288 with 0 Axes>"
            ]
          },
          "metadata": {
            "tags": []
          },
          "execution_count": 19
        },
        {
          "output_type": "display_data",
          "data": {
            "image/png": "[encoded data removed]",
            "text/plain": [
              "<Figure size 432x288 with 1 Axes>"
            ]
          },
          "metadata": {
            "tags": [],
            "needs_background": "light"
          }
        },
        {
          "output_type": "display_data",
          "data": {
            "text/plain": [
              "<Figure size 432x288 with 0 Axes>"
            ]
          },
          "metadata": {
            "tags": []
          }
        }
      ]
    },
    {
      "cell_type": "code",
      "metadata": {
        "colab": {
          "base_uri": "https://localhost:8080/"
        },
        "id": "LLhBr0HYfYgL",
        "outputId": "d4c1e1c0-acd6-4347-9703-6067ea93f53a"
      },
      "source": [
        "# Menghitung nilai MSE dan MAE\n",
        "mse_score, mae_score = model.evaluate(input_test, output_test)\n",
        "print('Nilai Mean Squared Error (MSE) : ', mse_score)\n",
        "print('Nilai Mean Absolute Error (MAE) : ', mae_score)"
      ],
      "execution_count": null,
      "outputs": [
        {
          "output_type": "stream",
          "text": [
            "1/1 [==============================] - 0s 20ms/step - loss: 0.0133 - mae: 0.0829\n",
            "Nilai Mean Squared Error (MSE) :  0.013334644958376884\n",
            "Nilai Mean Absolute Error (MAE) :  0.08285998553037643\n"
          ],
          "name": "stdout"
        }
      ]
    },
    {
      "cell_type": "code",
      "metadata": {
        "id": "Wpn2w9R-5LSY"
      },
      "source": [
        "# Simpan model\n",
        "model.save('model-curahhujan.h5')"
      ],
      "execution_count": null,
      "outputs": []
    },
    {
      "cell_type": "markdown",
      "metadata": {
        "id": "j0gtqKfD5N6d"
      },
      "source": [
        "# **Testing Model**"
      ]
    },
    {
      "cell_type": "code",
      "metadata": {
        "id": "o_3DBMeZ5gdD"
      },
      "source": [
        "# Load the model\n",
        "model = tf.keras.models.load_model('model-curahhujan.h5')"
      ],
      "execution_count": null,
      "outputs": []
    },
    {
      "cell_type": "code",
      "metadata": {
        "id": "UJ6BsbEZUVFr"
      },
      "source": [
        "#Prediksi Data\n",
        "data_prediksi = model.predict(input_test)"
      ],
      "execution_count": null,
      "outputs": []
    },
    {
      "cell_type": "code",
      "metadata": {
        "colab": {
          "base_uri": "https://localhost:8080/"
        },
        "id": "_gyJGODddK7S",
        "outputId": "4e9ef1b1-5c7a-4e39-df52-1178d5379eff"
      },
      "source": [
        "print(data_prediksi)\n",
        "print(\"-------\")\n",
        "print(output_test)"
      ],
      "execution_count": null,
      "outputs": [
        {
          "output_type": "stream",
          "text": [
            "[[0.         0.08456635 0.19933873 0.36398816]\n",
            " [0.13133046 0.40056172 0.7026505  0.56684643]\n",
            " [0.01984984 0.         0.         0.        ]\n",
            " [0.5760291  0.7836138  0.5023548  0.53993636]]\n",
            "-------\n",
            "[[0.         0.04029304 0.32417582 0.5242674 ]\n",
            " [0.04029304 0.32417582 0.5242674  0.86263736]\n",
            " [0.08287546 0.00457875 0.04029304 0.        ]\n",
            " [0.74450549 0.79441392 0.5242674  0.58562271]]\n"
          ],
          "name": "stdout"
        }
      ]
    },
    {
      "cell_type": "code",
      "metadata": {
        "id": "jiFXCtfyUYA0"
      },
      "source": [
        "# Inverse transform data min max\n",
        "data_prediksi = scaler.inverse_transform(data_prediksi)\n",
        "output_test = scaler.inverse_transform(output_test)"
      ],
      "execution_count": null,
      "outputs": []
    },
    {
      "cell_type": "code",
      "metadata": {
        "colab": {
          "base_uri": "https://localhost:8080/"
        },
        "id": "UM0zjtzmbKPB",
        "outputId": "2de26437-0ba0-4ca5-b7e0-e8b1f49ddf5b"
      },
      "source": [
        "print(data_prediksi)\n",
        "print(\"-------\")\n",
        "print(output_test)"
      ],
      "execution_count": null,
      "outputs": [
        {
          "output_type": "stream",
          "text": [
            "[[ 0.         1.8469292  4.353558   7.9495015]\n",
            " [ 2.8682573  8.748268  15.345886  12.379926 ]\n",
            " [ 0.4335206  0.         0.         0.       ]\n",
            " [12.580476  17.114126  10.971429  11.792211 ]]\n",
            "-------\n",
            "[[ 0.    0.88  7.08 11.45]\n",
            " [ 0.88  7.08 11.45 18.84]\n",
            " [ 1.81  0.1   0.88  0.  ]\n",
            " [16.26 17.35 11.45 12.79]]\n"
          ],
          "name": "stdout"
        }
      ]
    },
    {
      "cell_type": "code",
      "metadata": {
        "colab": {
          "base_uri": "https://localhost:8080/",
          "height": 362
        },
        "id": "CX_AAp2qf3-h",
        "outputId": "659a9de2-9743-4e62-cf95-ff26e30e92c7"
      },
      "source": [
        "temp_test=[]\n",
        "number=[]\n",
        "count=1\n",
        "\n",
        "for j in output_test[0]:\n",
        "  temp_test.append(j)\n",
        "  number.append(count)\n",
        "  count+=1\n",
        "  \n",
        "print(temp_test)\n",
        "print(number)\n",
        "\n",
        "temp_predict=[]\n",
        "number=[]\n",
        "count=1\n",
        "\n",
        "for j in data_prediksi[0]:\n",
        "  temp_predict.append(j)\n",
        "  number.append(count)\n",
        "  count+=1\n",
        "  \n",
        "print(temp_predict)\n",
        "print(number)\n",
        "\n",
        "# Grafik garis dari Suhu\n",
        "plt.plot(number,temp_predict,marker='o',color=\"yellow\")\n",
        "plt.plot(number,temp_test,marker='o',color=\"black\")\n",
        "plt.title('Curah Hujan')\n",
        "plt.ylabel('mm')\n",
        "plt.xlabel('Bulan')\n",
        "plt.show()"
      ],
      "execution_count": null,
      "outputs": [
        {
          "output_type": "stream",
          "text": [
            "[0.0, 0.88, 7.079999999999999, 11.45]\n",
            "[1, 2, 3, 4]\n",
            "[0.0, 1.8469292, 4.353558, 7.9495015]\n",
            "[1, 2, 3, 4]\n"
          ],
          "name": "stdout"
        },
        {
          "output_type": "display_data",
          "data": {
            "image/png": "[encoded data removed]",
            "text/plain": [
              "<Figure size 432x288 with 1 Axes>"
            ]
          },
          "metadata": {
            "tags": [],
            "needs_background": "light"
          }
        }
      ]
    },
    {
      "cell_type": "code",
      "metadata": {
        "colab": {
          "base_uri": "https://localhost:8080/",
          "height": 362
        },
        "id": "CaWGJ_dmgicp",
        "outputId": "a91c1919-4e95-493d-9a8b-b655b99e7246"
      },
      "source": [
        "temp_test=[]\n",
        "number=[]\n",
        "count=1\n",
        "\n",
        "for j in output_test[1]:\n",
        "  temp_test.append(j)\n",
        "  number.append(count)\n",
        "  count+=1\n",
        "  \n",
        "print(temp_test)\n",
        "print(number)\n",
        "\n",
        "temp_predict=[]\n",
        "number=[]\n",
        "count=1\n",
        "\n",
        "for j in data_prediksi[1]:\n",
        "  temp_predict.append(j)\n",
        "  number.append(count)\n",
        "  count+=1\n",
        "  \n",
        "print(temp_predict)\n",
        "print(number)\n",
        "\n",
        "# Grafik garis dari Suhu\n",
        "plt.plot(number,temp_predict,marker='o',color=\"yellow\")\n",
        "plt.plot(number,temp_test,marker='o',color=\"black\")\n",
        "plt.title('Curah Hujan')\n",
        "plt.ylabel('mm')\n",
        "plt.xlabel('Bulan')\n",
        "plt.show()"
      ],
      "execution_count": null,
      "outputs": [
        {
          "output_type": "stream",
          "text": [
            "[0.88, 7.079999999999999, 11.45, 18.84]\n",
            "[1, 2, 3, 4]\n",
            "[2.8682573, 8.748268, 15.345886, 12.379926]\n",
            "[1, 2, 3, 4]\n"
          ],
          "name": "stdout"
        },
        {
          "output_type": "display_data",
          "data": {
            "image/png": "[encoded data removed]",
            "text/plain": [
              "<Figure size 432x288 with 1 Axes>"
            ]
          },
          "metadata": {
            "tags": [],
            "needs_background": "light"
          }
        }
      ]
    },
    {
      "cell_type": "code",
      "metadata": {
        "colab": {
          "base_uri": "https://localhost:8080/",
          "height": 362
        },
        "id": "pIx2JbDs2M4i",
        "outputId": "05037dc7-520c-4f45-c189-2a6f9712117d"
      },
      "source": [
        "temp_test=[]\n",
        "number=[]\n",
        "count=1\n",
        "\n",
        "for j in output_test[2]:\n",
        "  temp_test.append(j)\n",
        "  number.append(count)\n",
        "  count+=1\n",
        "  \n",
        "print(temp_test)\n",
        "print(number)\n",
        "\n",
        "temp_predict=[]\n",
        "number=[]\n",
        "count=1\n",
        "\n",
        "for j in data_prediksi[2]:\n",
        "  temp_predict.append(j)\n",
        "  number.append(count)\n",
        "  count+=1\n",
        "  \n",
        "print(temp_predict)\n",
        "print(number)\n",
        "\n",
        "# Grafik garis dari Suhu\n",
        "plt.plot(number,temp_predict,marker='o',color=\"yellow\")\n",
        "plt.plot(number,temp_test,marker='o',color=\"black\")\n",
        "plt.title('Curah Hujan')\n",
        "plt.ylabel('mm')\n",
        "plt.xlabel('Bulan')\n",
        "plt.show()"
      ],
      "execution_count": null,
      "outputs": [
        {
          "output_type": "stream",
          "text": [
            "[1.81, 0.1, 0.88, 0.0]\n",
            "[1, 2, 3, 4]\n",
            "[0.4335206, 0.0, 0.0, 0.0]\n",
            "[1, 2, 3, 4]\n"
          ],
          "name": "stdout"
        },
        {
          "output_type": "display_data",
          "data": {
            "image/png": "[encoded data removed]",
            "text/plain": [
              "<Figure size 432x288 with 1 Axes>"
            ]
          },
          "metadata": {
            "tags": [],
            "needs_background": "light"
          }
        }
      ]
    },
    {
      "cell_type": "code",
      "metadata": {
        "colab": {
          "base_uri": "https://localhost:8080/",
          "height": 362
        },
        "id": "FjKgCyhJ2Omf",
        "outputId": "3d2fdfd6-acf8-47d0-f251-c23123cd060a"
      },
      "source": [
        "temp_test=[]\n",
        "number=[]\n",
        "count=1\n",
        "\n",
        "for j in output_test[3]:\n",
        "  temp_test.append(j)\n",
        "  number.append(count)\n",
        "  count+=1\n",
        "  \n",
        "print(temp_test)\n",
        "print(number)\n",
        "\n",
        "temp_predict=[]\n",
        "number=[]\n",
        "count=1\n",
        "\n",
        "for j in data_prediksi[3]:\n",
        "  temp_predict.append(j)\n",
        "  number.append(count)\n",
        "  count+=1\n",
        "  \n",
        "print(temp_predict)\n",
        "print(number)\n",
        "\n",
        "# Grafik garis dari Suhu\n",
        "plt.plot(number,temp_predict,marker='o',color=\"yellow\")\n",
        "plt.plot(number,temp_test,marker='o',color=\"black\")\n",
        "plt.title('Curah Hujan')\n",
        "plt.ylabel('mm')\n",
        "plt.xlabel('Bulan')\n",
        "plt.show()"
      ],
      "execution_count": null,
      "outputs": [
        {
          "output_type": "stream",
          "text": [
            "[16.26, 17.35, 11.45, 12.79]\n",
            "[1, 2, 3, 4]\n",
            "[12.580476, 17.114126, 10.971429, 11.792211]\n",
            "[1, 2, 3, 4]\n"
          ],
          "name": "stdout"
        },
        {
          "output_type": "display_data",
          "data": {
            "image/png": "[encoded data removed]",
            "text/plain": [
              "<Figure size 432x288 with 1 Axes>"
            ]
          },
          "metadata": {
            "tags": [],
            "needs_background": "light"
          }
        }
      ]
    }
  ]
}