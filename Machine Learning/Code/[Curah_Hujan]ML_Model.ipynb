{
  "nbformat": 4,
  "nbformat_minor": 0,
  "metadata": {
    "colab": {
      "name": "[Curah Hujan]ML-Model.ipynb",
      "provenance": [],
      "toc_visible": true,
      "authorship_tag": "ABX9TyPXPE/wJ0+yjntRL/B6w1DL",
      "include_colab_link": true
    },
    "kernelspec": {
      "name": "python3",
      "display_name": "Python 3"
    },
    "language_info": {
      "name": "python"
    }
  },
  "cells": [
    {
      "cell_type": "markdown",
      "metadata": {
        "id": "view-in-github",
        "colab_type": "text"
      },
      "source": [
        "<a href=\"https://colab.research.google.com/github/u1-byte/SmartRicePriceControl/blob/main/Machine%20Learning/Code/%5BCurah_Hujan%5DML_Model.ipynb\" target=\"_parent\"><img src=\"https://colab.research.google.com/assets/colab-badge.svg\" alt=\"Open In Colab\"/></a>"
      ]
    },
    {
      "cell_type": "code",
      "metadata": {
        "id": "kTPzSD0srTVw"
      },
      "source": [
        "#import library\n",
        "import tensorflow as tf\n",
        "import numpy as np\n",
        "import matplotlib.pyplot as plt\n",
        "from tensorflow import keras\n",
        "from google.colab import files\n",
        "import csv\n",
        "from sklearn.preprocessing import MinMaxScaler\n",
        "from sklearn.metrics import mean_squared_error"
      ],
      "execution_count": 1,
      "outputs": []
    },
    {
      "cell_type": "code",
      "metadata": {
        "colab": {
          "resources": {
            "http://localhost:8080/nbextensions/google.colab/files.js": {
              "data": "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",
              "ok": true,
              "headers": [
                [
                  "content-type",
                  "application/javascript"
                ]
              ],
              "status": 200,
              "status_text": ""
            }
          },
          "base_uri": "https://localhost:8080/",
          "height": 73
        },
        "id": "9pW1P_9fTl4j",
        "outputId": "38302c5b-de1f-4997-c9e8-f021d38d5948"
      },
      "source": [
        "# Upload file dataset dari lokal\n",
        "uploaded = files.upload()"
      ],
      "execution_count": 2,
      "outputs": [
        {
          "output_type": "display_data",
          "data": {
            "text/html": [
              "\n",
              "     <input type=\"file\" id=\"files-48bb2988-5efc-4198-b48e-bcb9a0bbfd99\" name=\"files[]\" multiple disabled\n",
              "        style=\"border:none\" />\n",
              "     <output id=\"result-48bb2988-5efc-4198-b48e-bcb9a0bbfd99\">\n",
              "      Upload widget is only available when the cell has been executed in the\n",
              "      current browser session. Please rerun this cell to enable.\n",
              "      </output>\n",
              "      <script src=\"/nbextensions/google.colab/files.js\"></script> "
            ],
            "text/plain": [
              "<IPython.core.display.HTML object>"
            ]
          },
          "metadata": {
            "tags": []
          }
        },
        {
          "output_type": "stream",
          "text": [
            "Saving Cuaca.csv to Cuaca.csv\n"
          ],
          "name": "stdout"
        }
      ]
    },
    {
      "cell_type": "markdown",
      "metadata": {
        "id": "4j7-4-QStoQc"
      },
      "source": [
        "# **Provinsi Jatim**"
      ]
    },
    {
      "cell_type": "code",
      "metadata": {
        "id": "Ctdpy9NotCw0"
      },
      "source": [
        "# Input data Jatim\n",
        "input_curah_hujan_ratarata = []\n",
        "number_of_input = []\n",
        "number=1\n",
        "\n",
        "# Baca file.csv\n",
        "with open('/content/Cuaca.csv') as csv_file:\n",
        "  csv_reader = csv.reader(csv_file, delimiter=',')\n",
        "  next(csv_reader)\n",
        "  for row in csv_reader:\n",
        "    number_of_input.append(number)\n",
        "    input_curah_hujan_ratarata.append(float(row[3]))\n",
        "    number+=1"
      ],
      "execution_count": 497,
      "outputs": []
    },
    {
      "cell_type": "code",
      "metadata": {
        "colab": {
          "base_uri": "https://localhost:8080/",
          "height": 295
        },
        "id": "a5bHiYtKtQiA",
        "outputId": "041d90cb-752d-41a3-d76e-30308dca63f9"
      },
      "source": [
        "# Grafik garis dari Suhu\n",
        "plt.plot(number_of_input,input_curah_hujan_ratarata,marker='o')\n",
        "plt.title('Curah Hujan (2018 - 2020)')\n",
        "plt.ylabel('RH')\n",
        "plt.xlabel('Bulan')\n",
        "plt.show()"
      ],
      "execution_count": 498,
      "outputs": [
        {
          "output_type": "display_data",
          "data": {
            "image/png": "[encoded data removed]",
            "text/plain": [
              "<Figure size 432x288 with 1 Axes>"
            ]
          },
          "metadata": {
            "tags": [],
            "needs_background": "light"
          }
        }
      ]
    },
    {
      "cell_type": "code",
      "metadata": {
        "colab": {
          "base_uri": "https://localhost:8080/"
        },
        "id": "hl7HExITrv6v",
        "outputId": "87f82305-34ba-457b-9b8f-4b805d3a4d57"
      },
      "source": [
        "# Input dari data pada database\n",
        "dataset = []\n",
        "counter=0\n",
        "\n",
        "# Baca file.csv\n",
        "with open('/content/Cuaca.csv') as csv_file:\n",
        "  csv_reader = csv.reader(csv_file, delimiter=',')\n",
        "  next(csv_reader)\n",
        "  for row in csv_reader:\n",
        "    dataset.append([])\n",
        "    dataset[counter].append(float(row[3]))\n",
        "    counter+=1\n",
        "\n",
        "dataset = np.array(dataset)\n",
        "\n",
        "print(dataset)"
      ],
      "execution_count": 499,
      "outputs": [
        {
          "output_type": "stream",
          "text": [
            "[[10.88]\n",
            " [17.45]\n",
            " [16.03]\n",
            " [10.37]\n",
            " [ 0.  ]\n",
            " [ 4.61]\n",
            " [ 0.  ]\n",
            " [ 0.  ]\n",
            " [ 0.72]\n",
            " [ 0.  ]\n",
            " [ 6.97]\n",
            " [16.1 ]\n",
            " [16.26]\n",
            " [17.35]\n",
            " [11.45]\n",
            " [12.79]\n",
            " [ 1.8 ]\n",
            " [ 0.  ]\n",
            " [ 0.03]\n",
            " [ 0.  ]\n",
            " [ 0.  ]\n",
            " [ 0.  ]\n",
            " [ 0.88]\n",
            " [ 7.08]\n",
            " [11.45]\n",
            " [18.84]\n",
            " [10.53]\n",
            " [13.42]\n",
            " [18.13]\n",
            " [ 1.81]\n",
            " [ 0.1 ]\n",
            " [ 0.88]\n",
            " [ 0.  ]\n",
            " [ 1.99]\n",
            " [ 6.7 ]\n",
            " [21.84]]\n"
          ],
          "name": "stdout"
        }
      ]
    },
    {
      "cell_type": "code",
      "metadata": {
        "id": "dcyiZXY0UANG"
      },
      "source": [
        "# Normalisasi dataset\n",
        "scaler = MinMaxScaler()\n",
        "dataset = scaler.fit_transform(dataset)"
      ],
      "execution_count": 500,
      "outputs": []
    },
    {
      "cell_type": "code",
      "metadata": {
        "colab": {
          "base_uri": "https://localhost:8080/"
        },
        "id": "RfJp46NhUFht",
        "outputId": "7a359fec-4516-43f7-ac41-aee752693483"
      },
      "source": [
        "# Fungsi membuat sequence\n",
        "def buat_sequences(dataset, window_size):\n",
        "    input = []\n",
        "    output = []\n",
        "\n",
        "    for i in range(len(dataset)-window_size+1):\n",
        "        window = dataset[i:(i+window_size-4), 0]\n",
        "        input.append(window)\n",
        "        output.append(dataset[(i+window_size-4):i+window_size, 0])\n",
        "    return np.array(input),np.array(output)\n",
        "\n",
        "window_size = 16\n",
        "dataInput, dataOutput = buat_sequences(dataset, window_size)\n",
        "\n",
        "print(len(dataInput))\n",
        "print(len(dataOutput))"
      ],
      "execution_count": 501,
      "outputs": [
        {
          "output_type": "stream",
          "text": [
            "21\n",
            "21\n"
          ],
          "name": "stdout"
        }
      ]
    },
    {
      "cell_type": "code",
      "metadata": {
        "colab": {
          "base_uri": "https://localhost:8080/"
        },
        "id": "-UwcXJqMir2A",
        "outputId": "f721c801-45ea-4518-f76a-c06e32151b14"
      },
      "source": [
        "split_valid = 15\n",
        "input_train, input_test = dataInput[:split_valid,:], dataInput[split_valid:,:]\n",
        "output_train, output_test = dataOutput[:split_valid,:], dataOutput[split_valid:,:]\n",
        "\n",
        "print(len(input_train))\n",
        "print(len(output_train))"
      ],
      "execution_count": 502,
      "outputs": [
        {
          "output_type": "stream",
          "text": [
            "15\n",
            "15\n"
          ],
          "name": "stdout"
        }
      ]
    },
    {
      "cell_type": "code",
      "metadata": {
        "colab": {
          "base_uri": "https://localhost:8080/"
        },
        "id": "AS2MgD_XjbQl",
        "outputId": "7fe62ba6-c288-4357-a4e5-5343c470b011"
      },
      "source": [
        "print(input_test)\n",
        "print(\"------\")\n",
        "print(output_test)"
      ],
      "execution_count": 503,
      "outputs": [
        {
          "output_type": "stream",
          "text": [
            "[[0.58562271 0.08241758 0.         0.00137363 0.         0.\n",
            "  0.         0.04029304 0.32417582 0.5242674  0.86263736 0.48214286]\n",
            " [0.08241758 0.         0.00137363 0.         0.         0.\n",
            "  0.04029304 0.32417582 0.5242674  0.86263736 0.48214286 0.61446886]\n",
            " [0.         0.00137363 0.         0.         0.         0.04029304\n",
            "  0.32417582 0.5242674  0.86263736 0.48214286 0.61446886 0.83012821]\n",
            " [0.00137363 0.         0.         0.         0.04029304 0.32417582\n",
            "  0.5242674  0.86263736 0.48214286 0.61446886 0.83012821 0.08287546]\n",
            " [0.         0.         0.         0.04029304 0.32417582 0.5242674\n",
            "  0.86263736 0.48214286 0.61446886 0.83012821 0.08287546 0.00457875]\n",
            " [0.         0.         0.04029304 0.32417582 0.5242674  0.86263736\n",
            "  0.48214286 0.61446886 0.83012821 0.08287546 0.00457875 0.04029304]]\n",
            "------\n",
            "[[0.61446886 0.83012821 0.08287546 0.00457875]\n",
            " [0.83012821 0.08287546 0.00457875 0.04029304]\n",
            " [0.08287546 0.00457875 0.04029304 0.        ]\n",
            " [0.00457875 0.04029304 0.         0.09111722]\n",
            " [0.04029304 0.         0.09111722 0.30677656]\n",
            " [0.         0.09111722 0.30677656 1.        ]]\n"
          ],
          "name": "stdout"
        }
      ]
    },
    {
      "cell_type": "code",
      "metadata": {
        "id": "eXAW51AAUNSL"
      },
      "source": [
        "# Ubah dimensinya untuk disesuaikan dengan model\n",
        "input_train = input_train.reshape((input_train.shape[0], 1, 1, 1, window_size-4))\n",
        "input_test = input_test.reshape((input_test.shape[0], 1, 1, 1, window_size-4))"
      ],
      "execution_count": 504,
      "outputs": []
    },
    {
      "cell_type": "code",
      "metadata": {
        "colab": {
          "base_uri": "https://localhost:8080/"
        },
        "id": "8tHcz4U4b07Z",
        "outputId": "ff707038-4ef8-499a-caff-6333526902d5"
      },
      "source": [
        "print(input_test)"
      ],
      "execution_count": 505,
      "outputs": [
        {
          "output_type": "stream",
          "text": [
            "[[[[[0.58562271 0.08241758 0.         0.00137363 0.         0.\n",
            "     0.         0.04029304 0.32417582 0.5242674  0.86263736 0.48214286]]]]\n",
            "\n",
            "\n",
            "\n",
            " [[[[0.08241758 0.         0.00137363 0.         0.         0.\n",
            "     0.04029304 0.32417582 0.5242674  0.86263736 0.48214286 0.61446886]]]]\n",
            "\n",
            "\n",
            "\n",
            " [[[[0.         0.00137363 0.         0.         0.         0.04029304\n",
            "     0.32417582 0.5242674  0.86263736 0.48214286 0.61446886 0.83012821]]]]\n",
            "\n",
            "\n",
            "\n",
            " [[[[0.00137363 0.         0.         0.         0.04029304 0.32417582\n",
            "     0.5242674  0.86263736 0.48214286 0.61446886 0.83012821 0.08287546]]]]\n",
            "\n",
            "\n",
            "\n",
            " [[[[0.         0.         0.         0.04029304 0.32417582 0.5242674\n",
            "     0.86263736 0.48214286 0.61446886 0.83012821 0.08287546 0.00457875]]]]\n",
            "\n",
            "\n",
            "\n",
            " [[[[0.         0.         0.04029304 0.32417582 0.5242674  0.86263736\n",
            "     0.48214286 0.61446886 0.83012821 0.08287546 0.00457875 0.04029304]]]]]\n"
          ],
          "name": "stdout"
        }
      ]
    },
    {
      "cell_type": "code",
      "metadata": {
        "colab": {
          "base_uri": "https://localhost:8080/"
        },
        "id": "AVLM4b_omI8n",
        "outputId": "7f8693c5-46a3-4abd-a2fe-78bcd72aa097"
      },
      "source": [
        "print(output_test)"
      ],
      "execution_count": 506,
      "outputs": [
        {
          "output_type": "stream",
          "text": [
            "[[0.61446886 0.83012821 0.08287546 0.00457875]\n",
            " [0.83012821 0.08287546 0.00457875 0.04029304]\n",
            " [0.08287546 0.00457875 0.04029304 0.        ]\n",
            " [0.00457875 0.04029304 0.         0.09111722]\n",
            " [0.04029304 0.         0.09111722 0.30677656]\n",
            " [0.         0.09111722 0.30677656 1.        ]]\n"
          ],
          "name": "stdout"
        }
      ]
    },
    {
      "cell_type": "code",
      "metadata": {
        "colab": {
          "base_uri": "https://localhost:8080/"
        },
        "id": "xnjsFuOoy491",
        "outputId": "b4c89a96-5e82-4473-a8a1-442a46934d01"
      },
      "source": [
        "#model machine learning\n",
        "model = tf.keras.models.Sequential([\n",
        "  tf.keras.layers.ConvLSTM2D(filters=36, kernel_size=(1,1), activation='relu', input_shape=(1, 1, 1, window_size-4)),  \n",
        "  tf.keras.layers.Flatten(),\n",
        "  tf.keras.layers.Dense(24),\n",
        "  tf.keras.layers.Dense(4, activation=\"relu\")\n",
        "])\n",
        "\n",
        "#compile the model\n",
        "model.compile(optimizer='adam', loss='mean_squared_error',metrics=[\"mae\"])\n",
        "\n",
        "model.summary()\n",
        "\n",
        "#fit the model\n",
        "fitting_history = model.fit(input_train, output_train, validation_data=(input_test, output_test), verbose=2, epochs=100)"
      ],
      "execution_count": 507,
      "outputs": [
        {
          "output_type": "stream",
          "text": [
            "Model: \"sequential_25\"\n",
            "_________________________________________________________________\n",
            "Layer (type)                 Output Shape              Param #   \n",
            "=================================================================\n",
            "conv_lst_m2d_25 (ConvLSTM2D) (None, 1, 1, 36)          7056      \n",
            "_________________________________________________________________\n",
            "flatten_23 (Flatten)         (None, 36)                0         \n",
            "_________________________________________________________________\n",
            "dense_52 (Dense)             (None, 24)                888       \n",
            "_________________________________________________________________\n",
            "dense_53 (Dense)             (None, 4)                 100       \n",
            "=================================================================\n",
            "Total params: 8,044\n",
            "Trainable params: 8,044\n",
            "Non-trainable params: 0\n",
            "_________________________________________________________________\n",
            "Epoch 1/100\n",
            "1/1 - 3s - loss: 0.1877 - mae: 0.3142 - val_loss: 0.1150 - val_mae: 0.1825\n",
            "Epoch 2/100\n",
            "1/1 - 0s - loss: 0.1841 - mae: 0.3122 - val_loss: 0.1127 - val_mae: 0.1812\n",
            "Epoch 3/100\n",
            "1/1 - 0s - loss: 0.1806 - mae: 0.3102 - val_loss: 0.1106 - val_mae: 0.1807\n",
            "Epoch 4/100\n",
            "1/1 - 0s - loss: 0.1771 - mae: 0.3086 - val_loss: 0.1085 - val_mae: 0.1808\n",
            "Epoch 5/100\n",
            "1/1 - 0s - loss: 0.1738 - mae: 0.3070 - val_loss: 0.1066 - val_mae: 0.1812\n",
            "Epoch 6/100\n",
            "1/1 - 0s - loss: 0.1705 - mae: 0.3058 - val_loss: 0.1048 - val_mae: 0.1823\n",
            "Epoch 7/100\n",
            "1/1 - 0s - loss: 0.1674 - mae: 0.3046 - val_loss: 0.1031 - val_mae: 0.1833\n",
            "Epoch 8/100\n",
            "1/1 - 0s - loss: 0.1641 - mae: 0.3031 - val_loss: 0.1014 - val_mae: 0.1842\n",
            "Epoch 9/100\n",
            "1/1 - 0s - loss: 0.1605 - mae: 0.3013 - val_loss: 0.0996 - val_mae: 0.1853\n",
            "Epoch 10/100\n",
            "1/1 - 0s - loss: 0.1569 - mae: 0.2994 - val_loss: 0.0978 - val_mae: 0.1862\n",
            "Epoch 11/100\n",
            "1/1 - 0s - loss: 0.1532 - mae: 0.2972 - val_loss: 0.0961 - val_mae: 0.1867\n",
            "Epoch 12/100\n",
            "1/1 - 0s - loss: 0.1493 - mae: 0.2947 - val_loss: 0.0944 - val_mae: 0.1870\n",
            "Epoch 13/100\n",
            "1/1 - 0s - loss: 0.1452 - mae: 0.2919 - val_loss: 0.0927 - val_mae: 0.1871\n",
            "Epoch 14/100\n",
            "1/1 - 0s - loss: 0.1410 - mae: 0.2889 - val_loss: 0.0911 - val_mae: 0.1876\n",
            "Epoch 15/100\n",
            "1/1 - 0s - loss: 0.1369 - mae: 0.2857 - val_loss: 0.0895 - val_mae: 0.1879\n",
            "Epoch 16/100\n",
            "1/1 - 0s - loss: 0.1327 - mae: 0.2823 - val_loss: 0.0879 - val_mae: 0.1882\n",
            "Epoch 17/100\n",
            "1/1 - 0s - loss: 0.1285 - mae: 0.2791 - val_loss: 0.0865 - val_mae: 0.1890\n",
            "Epoch 18/100\n",
            "1/1 - 0s - loss: 0.1244 - mae: 0.2760 - val_loss: 0.0850 - val_mae: 0.1897\n",
            "Epoch 19/100\n",
            "1/1 - 0s - loss: 0.1203 - mae: 0.2728 - val_loss: 0.0836 - val_mae: 0.1905\n",
            "Epoch 20/100\n",
            "1/1 - 0s - loss: 0.1162 - mae: 0.2695 - val_loss: 0.0822 - val_mae: 0.1913\n",
            "Epoch 21/100\n",
            "1/1 - 0s - loss: 0.1123 - mae: 0.2661 - val_loss: 0.0809 - val_mae: 0.1921\n",
            "Epoch 22/100\n",
            "1/1 - 0s - loss: 0.1083 - mae: 0.2626 - val_loss: 0.0796 - val_mae: 0.1927\n",
            "Epoch 23/100\n",
            "1/1 - 0s - loss: 0.1045 - mae: 0.2589 - val_loss: 0.0784 - val_mae: 0.1932\n",
            "Epoch 24/100\n",
            "1/1 - 0s - loss: 0.1007 - mae: 0.2551 - val_loss: 0.0772 - val_mae: 0.1936\n",
            "Epoch 25/100\n",
            "1/1 - 0s - loss: 0.0971 - mae: 0.2511 - val_loss: 0.0761 - val_mae: 0.1938\n",
            "Epoch 26/100\n",
            "1/1 - 0s - loss: 0.0935 - mae: 0.2470 - val_loss: 0.0750 - val_mae: 0.1941\n",
            "Epoch 27/100\n",
            "1/1 - 0s - loss: 0.0900 - mae: 0.2434 - val_loss: 0.0740 - val_mae: 0.1945\n",
            "Epoch 28/100\n",
            "1/1 - 0s - loss: 0.0866 - mae: 0.2398 - val_loss: 0.0730 - val_mae: 0.1948\n",
            "Epoch 29/100\n",
            "1/1 - 0s - loss: 0.0833 - mae: 0.2361 - val_loss: 0.0720 - val_mae: 0.1950\n",
            "Epoch 30/100\n",
            "1/1 - 0s - loss: 0.0801 - mae: 0.2322 - val_loss: 0.0711 - val_mae: 0.1950\n",
            "Epoch 31/100\n",
            "1/1 - 0s - loss: 0.0770 - mae: 0.2285 - val_loss: 0.0703 - val_mae: 0.1948\n",
            "Epoch 32/100\n",
            "1/1 - 0s - loss: 0.0741 - mae: 0.2248 - val_loss: 0.0695 - val_mae: 0.1944\n",
            "Epoch 33/100\n",
            "1/1 - 0s - loss: 0.0712 - mae: 0.2211 - val_loss: 0.0687 - val_mae: 0.1939\n",
            "Epoch 34/100\n",
            "1/1 - 0s - loss: 0.0684 - mae: 0.2173 - val_loss: 0.0679 - val_mae: 0.1932\n",
            "Epoch 35/100\n",
            "1/1 - 0s - loss: 0.0657 - mae: 0.2136 - val_loss: 0.0672 - val_mae: 0.1922\n",
            "Epoch 36/100\n",
            "1/1 - 0s - loss: 0.0632 - mae: 0.2098 - val_loss: 0.0665 - val_mae: 0.1911\n",
            "Epoch 37/100\n",
            "1/1 - 0s - loss: 0.0607 - mae: 0.2060 - val_loss: 0.0658 - val_mae: 0.1897\n",
            "Epoch 38/100\n",
            "1/1 - 0s - loss: 0.0583 - mae: 0.2019 - val_loss: 0.0652 - val_mae: 0.1881\n",
            "Epoch 39/100\n",
            "1/1 - 0s - loss: 0.0561 - mae: 0.1978 - val_loss: 0.0646 - val_mae: 0.1863\n",
            "Epoch 40/100\n",
            "1/1 - 0s - loss: 0.0539 - mae: 0.1934 - val_loss: 0.0641 - val_mae: 0.1843\n",
            "Epoch 41/100\n",
            "1/1 - 0s - loss: 0.0518 - mae: 0.1892 - val_loss: 0.0635 - val_mae: 0.1820\n",
            "Epoch 42/100\n",
            "1/1 - 0s - loss: 0.0498 - mae: 0.1850 - val_loss: 0.0630 - val_mae: 0.1802\n",
            "Epoch 43/100\n",
            "1/1 - 0s - loss: 0.0479 - mae: 0.1808 - val_loss: 0.0626 - val_mae: 0.1785\n",
            "Epoch 44/100\n",
            "1/1 - 0s - loss: 0.0461 - mae: 0.1765 - val_loss: 0.0622 - val_mae: 0.1772\n",
            "Epoch 45/100\n",
            "1/1 - 0s - loss: 0.0443 - mae: 0.1721 - val_loss: 0.0619 - val_mae: 0.1758\n",
            "Epoch 46/100\n",
            "1/1 - 0s - loss: 0.0426 - mae: 0.1676 - val_loss: 0.0616 - val_mae: 0.1739\n",
            "Epoch 47/100\n",
            "1/1 - 0s - loss: 0.0410 - mae: 0.1631 - val_loss: 0.0613 - val_mae: 0.1725\n",
            "Epoch 48/100\n",
            "1/1 - 0s - loss: 0.0395 - mae: 0.1590 - val_loss: 0.0612 - val_mae: 0.1710\n",
            "Epoch 49/100\n",
            "1/1 - 0s - loss: 0.0380 - mae: 0.1549 - val_loss: 0.0611 - val_mae: 0.1695\n",
            "Epoch 50/100\n",
            "1/1 - 0s - loss: 0.0367 - mae: 0.1507 - val_loss: 0.0611 - val_mae: 0.1678\n",
            "Epoch 51/100\n",
            "1/1 - 0s - loss: 0.0354 - mae: 0.1467 - val_loss: 0.0612 - val_mae: 0.1660\n",
            "Epoch 52/100\n",
            "1/1 - 0s - loss: 0.0342 - mae: 0.1428 - val_loss: 0.0614 - val_mae: 0.1647\n",
            "Epoch 53/100\n",
            "1/1 - 0s - loss: 0.0330 - mae: 0.1394 - val_loss: 0.0617 - val_mae: 0.1637\n",
            "Epoch 54/100\n",
            "1/1 - 0s - loss: 0.0319 - mae: 0.1361 - val_loss: 0.0621 - val_mae: 0.1631\n",
            "Epoch 55/100\n",
            "1/1 - 0s - loss: 0.0308 - mae: 0.1331 - val_loss: 0.0625 - val_mae: 0.1619\n",
            "Epoch 56/100\n",
            "1/1 - 0s - loss: 0.0298 - mae: 0.1301 - val_loss: 0.0627 - val_mae: 0.1610\n",
            "Epoch 57/100\n",
            "1/1 - 0s - loss: 0.0288 - mae: 0.1270 - val_loss: 0.0629 - val_mae: 0.1601\n",
            "Epoch 58/100\n",
            "1/1 - 0s - loss: 0.0278 - mae: 0.1240 - val_loss: 0.0632 - val_mae: 0.1589\n",
            "Epoch 59/100\n",
            "1/1 - 0s - loss: 0.0269 - mae: 0.1210 - val_loss: 0.0636 - val_mae: 0.1579\n",
            "Epoch 60/100\n",
            "1/1 - 0s - loss: 0.0260 - mae: 0.1182 - val_loss: 0.0641 - val_mae: 0.1575\n",
            "Epoch 61/100\n",
            "1/1 - 0s - loss: 0.0251 - mae: 0.1155 - val_loss: 0.0646 - val_mae: 0.1571\n",
            "Epoch 62/100\n",
            "1/1 - 0s - loss: 0.0243 - mae: 0.1130 - val_loss: 0.0653 - val_mae: 0.1567\n",
            "Epoch 63/100\n",
            "1/1 - 0s - loss: 0.0236 - mae: 0.1105 - val_loss: 0.0659 - val_mae: 0.1561\n",
            "Epoch 64/100\n",
            "1/1 - 0s - loss: 0.0229 - mae: 0.1081 - val_loss: 0.0666 - val_mae: 0.1552\n",
            "Epoch 65/100\n",
            "1/1 - 0s - loss: 0.0223 - mae: 0.1057 - val_loss: 0.0673 - val_mae: 0.1541\n",
            "Epoch 66/100\n",
            "1/1 - 0s - loss: 0.0217 - mae: 0.1034 - val_loss: 0.0680 - val_mae: 0.1529\n",
            "Epoch 67/100\n",
            "1/1 - 0s - loss: 0.0211 - mae: 0.1012 - val_loss: 0.0687 - val_mae: 0.1519\n",
            "Epoch 68/100\n",
            "1/1 - 0s - loss: 0.0206 - mae: 0.0991 - val_loss: 0.0694 - val_mae: 0.1514\n",
            "Epoch 69/100\n",
            "1/1 - 0s - loss: 0.0201 - mae: 0.0973 - val_loss: 0.0701 - val_mae: 0.1513\n",
            "Epoch 70/100\n",
            "1/1 - 0s - loss: 0.0197 - mae: 0.0955 - val_loss: 0.0706 - val_mae: 0.1509\n",
            "Epoch 71/100\n",
            "1/1 - 0s - loss: 0.0193 - mae: 0.0938 - val_loss: 0.0710 - val_mae: 0.1504\n",
            "Epoch 72/100\n",
            "1/1 - 0s - loss: 0.0189 - mae: 0.0922 - val_loss: 0.0714 - val_mae: 0.1498\n",
            "Epoch 73/100\n",
            "1/1 - 0s - loss: 0.0185 - mae: 0.0910 - val_loss: 0.0718 - val_mae: 0.1491\n",
            "Epoch 74/100\n",
            "1/1 - 0s - loss: 0.0182 - mae: 0.0898 - val_loss: 0.0721 - val_mae: 0.1484\n",
            "Epoch 75/100\n",
            "1/1 - 0s - loss: 0.0179 - mae: 0.0888 - val_loss: 0.0725 - val_mae: 0.1478\n",
            "Epoch 76/100\n",
            "1/1 - 0s - loss: 0.0176 - mae: 0.0879 - val_loss: 0.0728 - val_mae: 0.1471\n",
            "Epoch 77/100\n",
            "1/1 - 0s - loss: 0.0173 - mae: 0.0869 - val_loss: 0.0731 - val_mae: 0.1465\n",
            "Epoch 78/100\n",
            "1/1 - 0s - loss: 0.0170 - mae: 0.0860 - val_loss: 0.0733 - val_mae: 0.1460\n",
            "Epoch 79/100\n",
            "1/1 - 0s - loss: 0.0168 - mae: 0.0851 - val_loss: 0.0736 - val_mae: 0.1458\n",
            "Epoch 80/100\n",
            "1/1 - 0s - loss: 0.0165 - mae: 0.0842 - val_loss: 0.0738 - val_mae: 0.1454\n",
            "Epoch 81/100\n",
            "1/1 - 0s - loss: 0.0163 - mae: 0.0833 - val_loss: 0.0740 - val_mae: 0.1453\n",
            "Epoch 82/100\n",
            "1/1 - 0s - loss: 0.0161 - mae: 0.0824 - val_loss: 0.0742 - val_mae: 0.1452\n",
            "Epoch 83/100\n",
            "1/1 - 0s - loss: 0.0158 - mae: 0.0815 - val_loss: 0.0743 - val_mae: 0.1451\n",
            "Epoch 84/100\n",
            "1/1 - 0s - loss: 0.0157 - mae: 0.0806 - val_loss: 0.0745 - val_mae: 0.1449\n",
            "Epoch 85/100\n",
            "1/1 - 0s - loss: 0.0155 - mae: 0.0798 - val_loss: 0.0746 - val_mae: 0.1448\n",
            "Epoch 86/100\n",
            "1/1 - 0s - loss: 0.0153 - mae: 0.0790 - val_loss: 0.0747 - val_mae: 0.1447\n",
            "Epoch 87/100\n",
            "1/1 - 0s - loss: 0.0151 - mae: 0.0783 - val_loss: 0.0748 - val_mae: 0.1446\n",
            "Epoch 88/100\n",
            "1/1 - 0s - loss: 0.0150 - mae: 0.0777 - val_loss: 0.0750 - val_mae: 0.1445\n",
            "Epoch 89/100\n",
            "1/1 - 0s - loss: 0.0149 - mae: 0.0771 - val_loss: 0.0751 - val_mae: 0.1444\n",
            "Epoch 90/100\n",
            "1/1 - 0s - loss: 0.0147 - mae: 0.0765 - val_loss: 0.0752 - val_mae: 0.1444\n",
            "Epoch 91/100\n",
            "1/1 - 0s - loss: 0.0146 - mae: 0.0760 - val_loss: 0.0753 - val_mae: 0.1443\n",
            "Epoch 92/100\n",
            "1/1 - 0s - loss: 0.0145 - mae: 0.0755 - val_loss: 0.0754 - val_mae: 0.1443\n",
            "Epoch 93/100\n",
            "1/1 - 0s - loss: 0.0144 - mae: 0.0750 - val_loss: 0.0756 - val_mae: 0.1442\n",
            "Epoch 94/100\n",
            "1/1 - 0s - loss: 0.0143 - mae: 0.0745 - val_loss: 0.0757 - val_mae: 0.1442\n",
            "Epoch 95/100\n",
            "1/1 - 0s - loss: 0.0142 - mae: 0.0741 - val_loss: 0.0758 - val_mae: 0.1441\n",
            "Epoch 96/100\n",
            "1/1 - 0s - loss: 0.0141 - mae: 0.0737 - val_loss: 0.0760 - val_mae: 0.1441\n",
            "Epoch 97/100\n",
            "1/1 - 0s - loss: 0.0140 - mae: 0.0732 - val_loss: 0.0761 - val_mae: 0.1441\n",
            "Epoch 98/100\n",
            "1/1 - 0s - loss: 0.0139 - mae: 0.0729 - val_loss: 0.0762 - val_mae: 0.1440\n",
            "Epoch 99/100\n",
            "1/1 - 0s - loss: 0.0138 - mae: 0.0725 - val_loss: 0.0764 - val_mae: 0.1440\n",
            "Epoch 100/100\n",
            "1/1 - 0s - loss: 0.0137 - mae: 0.0721 - val_loss: 0.0766 - val_mae: 0.1441\n"
          ],
          "name": "stdout"
        }
      ]
    },
    {
      "cell_type": "code",
      "metadata": {
        "colab": {
          "base_uri": "https://localhost:8080/",
          "height": 314
        },
        "id": "A1YC68UB2oBC",
        "outputId": "e33e2e57-4204-4d63-fd69-457ce387fa69"
      },
      "source": [
        "# Grafik training dan validation loss\n",
        "training_loss=fitting_history.history['loss']\n",
        "validation_loss=fitting_history.history['val_loss']\n",
        "epochs=range(len(training_loss))\n",
        "\n",
        "plt.plot(epochs, training_loss, 'r', label=\"Training Loss\")\n",
        "plt.plot(epochs, validation_loss, 'b', label=\"Validation Loss\")\n",
        "plt.title('Training and validation loss')\n",
        "plt.legend(loc=0)\n",
        "plt.figure()"
      ],
      "execution_count": 508,
      "outputs": [
        {
          "output_type": "execute_result",
          "data": {
            "text/plain": [
              "<Figure size 432x288 with 0 Axes>"
            ]
          },
          "metadata": {
            "tags": []
          },
          "execution_count": 508
        },
        {
          "output_type": "display_data",
          "data": {
            "image/png": "[encoded data removed]",
            "text/plain": [
              "<Figure size 432x288 with 1 Axes>"
            ]
          },
          "metadata": {
            "tags": [],
            "needs_background": "light"
          }
        },
        {
          "output_type": "display_data",
          "data": {
            "text/plain": [
              "<Figure size 432x288 with 0 Axes>"
            ]
          },
          "metadata": {
            "tags": []
          }
        }
      ]
    },
    {
      "cell_type": "code",
      "metadata": {
        "colab": {
          "base_uri": "https://localhost:8080/",
          "height": 314
        },
        "id": "qIVAhEqD2phA",
        "outputId": "9801bdbe-8aae-46b7-cc39-df95cbd8fee5"
      },
      "source": [
        "# Grafik training and validation MAE\n",
        "training_mae=fitting_history.history['mae']\n",
        "validation_mae=fitting_history.history['val_mae']\n",
        "epochs=range(len(training_mae))\n",
        "\n",
        "plt.plot(epochs, training_mae, 'r', label=\"Training MAE\")\n",
        "plt.plot(epochs, validation_mae, 'b', label=\"Validation MAE\")\n",
        "plt.title('Training and validation MAE')\n",
        "plt.legend(loc=0)\n",
        "plt.figure()"
      ],
      "execution_count": 509,
      "outputs": [
        {
          "output_type": "execute_result",
          "data": {
            "text/plain": [
              "<Figure size 432x288 with 0 Axes>"
            ]
          },
          "metadata": {
            "tags": []
          },
          "execution_count": 509
        },
        {
          "output_type": "display_data",
          "data": {
            "image/png": "[encoded data removed]",
            "text/plain": [
              "<Figure size 432x288 with 1 Axes>"
            ]
          },
          "metadata": {
            "tags": [],
            "needs_background": "light"
          }
        },
        {
          "output_type": "display_data",
          "data": {
            "text/plain": [
              "<Figure size 432x288 with 0 Axes>"
            ]
          },
          "metadata": {
            "tags": []
          }
        }
      ]
    },
    {
      "cell_type": "code",
      "metadata": {
        "id": "Wpn2w9R-5LSY"
      },
      "source": [
        "# Simpan model\n",
        "model.save('model-curahhujan.h5')"
      ],
      "execution_count": 510,
      "outputs": []
    },
    {
      "cell_type": "markdown",
      "metadata": {
        "id": "j0gtqKfD5N6d"
      },
      "source": [
        "# **Testing Model**"
      ]
    },
    {
      "cell_type": "code",
      "metadata": {
        "id": "o_3DBMeZ5gdD"
      },
      "source": [
        "# Load the model\n",
        "model = tf.keras.models.load_model('model-curahhujan.h5')"
      ],
      "execution_count": 511,
      "outputs": []
    },
    {
      "cell_type": "code",
      "metadata": {
        "id": "UJ6BsbEZUVFr"
      },
      "source": [
        "#Prediksi Data\n",
        "data_prediksi = model.predict(input_test)"
      ],
      "execution_count": 512,
      "outputs": []
    },
    {
      "cell_type": "code",
      "metadata": {
        "colab": {
          "base_uri": "https://localhost:8080/"
        },
        "id": "_gyJGODddK7S",
        "outputId": "2954f1c4-7b17-46db-d6bd-8223553345e5"
      },
      "source": [
        "print(data_prediksi)\n",
        "print(\"-------\")\n",
        "print(output_test)"
      ],
      "execution_count": 513,
      "outputs": [
        {
          "output_type": "stream",
          "text": [
            "[[0.4818091  0.29050517 0.14480771 0.        ]\n",
            " [0.2795274  0.10989448 0.         0.        ]\n",
            " [0.17031981 0.00323423 0.         0.        ]\n",
            " [0.         0.         0.         0.        ]\n",
            " [0.         0.         0.         0.        ]\n",
            " [0.         0.         0.         0.00324383]]\n",
            "-------\n",
            "[[0.61446886 0.83012821 0.08287546 0.00457875]\n",
            " [0.83012821 0.08287546 0.00457875 0.04029304]\n",
            " [0.08287546 0.00457875 0.04029304 0.        ]\n",
            " [0.00457875 0.04029304 0.         0.09111722]\n",
            " [0.04029304 0.         0.09111722 0.30677656]\n",
            " [0.         0.09111722 0.30677656 1.        ]]\n"
          ],
          "name": "stdout"
        }
      ]
    },
    {
      "cell_type": "code",
      "metadata": {
        "id": "jiFXCtfyUYA0"
      },
      "source": [
        "# Inverse transform data min max\n",
        "data_prediksi = scaler.inverse_transform(data_prediksi)\n",
        "output_test = scaler.inverse_transform(output_test)"
      ],
      "execution_count": 514,
      "outputs": []
    },
    {
      "cell_type": "code",
      "metadata": {
        "colab": {
          "base_uri": "https://localhost:8080/"
        },
        "id": "UM0zjtzmbKPB",
        "outputId": "650090cf-532e-41b0-a205-03cc830f341b"
      },
      "source": [
        "print(data_prediksi)\n",
        "print(\"-------\")\n",
        "print(output_test)"
      ],
      "execution_count": 515,
      "outputs": [
        {
          "output_type": "stream",
          "text": [
            "[[10.522711    6.344633    3.1626005   0.        ]\n",
            " [ 6.1048784   2.4000955   0.          0.        ]\n",
            " [ 3.7197847   0.07063566  0.          0.        ]\n",
            " [ 0.          0.          0.          0.        ]\n",
            " [ 0.          0.          0.          0.        ]\n",
            " [ 0.          0.          0.          0.07084525]]\n",
            "-------\n",
            "[[13.42 18.13  1.81  0.1 ]\n",
            " [18.13  1.81  0.1   0.88]\n",
            " [ 1.81  0.1   0.88  0.  ]\n",
            " [ 0.1   0.88  0.    1.99]\n",
            " [ 0.88  0.    1.99  6.7 ]\n",
            " [ 0.    1.99  6.7  21.84]]\n"
          ],
          "name": "stdout"
        }
      ]
    },
    {
      "cell_type": "code",
      "metadata": {
        "colab": {
          "base_uri": "https://localhost:8080/",
          "height": 362
        },
        "id": "CX_AAp2qf3-h",
        "outputId": "5de2f5e8-1f83-429b-917b-216625469b72"
      },
      "source": [
        "temp_test=[]\n",
        "number=[]\n",
        "count=1\n",
        "\n",
        "for j in output_test[0]:\n",
        "  temp_test.append(j)\n",
        "  number.append(count)\n",
        "  count+=1\n",
        "  \n",
        "print(temp_test)\n",
        "print(number)\n",
        "\n",
        "temp_predict=[]\n",
        "number=[]\n",
        "count=1\n",
        "\n",
        "for j in data_prediksi[0]:\n",
        "  temp_predict.append(j)\n",
        "  number.append(count)\n",
        "  count+=1\n",
        "  \n",
        "print(temp_predict)\n",
        "print(number)\n",
        "\n",
        "# Grafik garis dari Suhu\n",
        "plt.plot(number,temp_predict,marker='o',color=\"yellow\")\n",
        "plt.plot(number,temp_test,marker='o',color=\"black\")\n",
        "plt.title('Kelembaban')\n",
        "plt.ylabel('RH')\n",
        "plt.xlabel('Bulan')\n",
        "plt.show()"
      ],
      "execution_count": 516,
      "outputs": [
        {
          "output_type": "stream",
          "text": [
            "[13.42, 18.13, 1.81, 0.1]\n",
            "[1, 2, 3, 4]\n",
            "[10.522711, 6.344633, 3.1626005, 0.0]\n",
            "[1, 2, 3, 4]\n"
          ],
          "name": "stdout"
        },
        {
          "output_type": "display_data",
          "data": {
            "image/png": "[encoded data removed]",
            "text/plain": [
              "<Figure size 432x288 with 1 Axes>"
            ]
          },
          "metadata": {
            "tags": [],
            "needs_background": "light"
          }
        }
      ]
    },
    {
      "cell_type": "code",
      "metadata": {
        "colab": {
          "base_uri": "https://localhost:8080/",
          "height": 362
        },
        "id": "CaWGJ_dmgicp",
        "outputId": "44e4f65f-1557-4bce-a44c-3607eefa539a"
      },
      "source": [
        "temp_test=[]\n",
        "number=[]\n",
        "count=1\n",
        "\n",
        "for j in output_test[1]:\n",
        "  temp_test.append(j)\n",
        "  number.append(count)\n",
        "  count+=1\n",
        "  \n",
        "print(temp_test)\n",
        "print(number)\n",
        "\n",
        "temp_predict=[]\n",
        "number=[]\n",
        "count=1\n",
        "\n",
        "for j in data_prediksi[1]:\n",
        "  temp_predict.append(j)\n",
        "  number.append(count)\n",
        "  count+=1\n",
        "  \n",
        "print(temp_predict)\n",
        "print(number)\n",
        "\n",
        "# Grafik garis dari Suhu\n",
        "plt.plot(number,temp_predict,marker='o',color=\"yellow\")\n",
        "plt.plot(number,temp_test,marker='o',color=\"black\")\n",
        "plt.title('Kelembaban')\n",
        "plt.ylabel('RH')\n",
        "plt.xlabel('Bulan')\n",
        "plt.show()"
      ],
      "execution_count": 517,
      "outputs": [
        {
          "output_type": "stream",
          "text": [
            "[18.13, 1.81, 0.1, 0.88]\n",
            "[1, 2, 3, 4]\n",
            "[6.1048784, 2.4000955, 0.0, 0.0]\n",
            "[1, 2, 3, 4]\n"
          ],
          "name": "stdout"
        },
        {
          "output_type": "display_data",
          "data": {
            "image/png": "[encoded data removed]",
            "text/plain": [
              "<Figure size 432x288 with 1 Axes>"
            ]
          },
          "metadata": {
            "tags": [],
            "needs_background": "light"
          }
        }
      ]
    },
    {
      "cell_type": "code",
      "metadata": {
        "colab": {
          "base_uri": "https://localhost:8080/",
          "height": 362
        },
        "id": "pIx2JbDs2M4i",
        "outputId": "686f0032-cb82-4f45-c069-37a919cefce1"
      },
      "source": [
        "temp_test=[]\n",
        "number=[]\n",
        "count=1\n",
        "\n",
        "for j in output_test[2]:\n",
        "  temp_test.append(j)\n",
        "  number.append(count)\n",
        "  count+=1\n",
        "  \n",
        "print(temp_test)\n",
        "print(number)\n",
        "\n",
        "temp_predict=[]\n",
        "number=[]\n",
        "count=1\n",
        "\n",
        "for j in data_prediksi[2]:\n",
        "  temp_predict.append(j)\n",
        "  number.append(count)\n",
        "  count+=1\n",
        "  \n",
        "print(temp_predict)\n",
        "print(number)\n",
        "\n",
        "# Grafik garis dari Suhu\n",
        "plt.plot(number,temp_predict,marker='o',color=\"yellow\")\n",
        "plt.plot(number,temp_test,marker='o',color=\"black\")\n",
        "plt.title('Kelembaban')\n",
        "plt.ylabel('RH')\n",
        "plt.xlabel('Bulan')\n",
        "plt.show()"
      ],
      "execution_count": 518,
      "outputs": [
        {
          "output_type": "stream",
          "text": [
            "[1.81, 0.1, 0.88, 0.0]\n",
            "[1, 2, 3, 4]\n",
            "[3.7197847, 0.07063566, 0.0, 0.0]\n",
            "[1, 2, 3, 4]\n"
          ],
          "name": "stdout"
        },
        {
          "output_type": "display_data",
          "data": {
            "image/png": "[encoded data removed]",
            "text/plain": [
              "<Figure size 432x288 with 1 Axes>"
            ]
          },
          "metadata": {
            "tags": [],
            "needs_background": "light"
          }
        }
      ]
    },
    {
      "cell_type": "code",
      "metadata": {
        "colab": {
          "base_uri": "https://localhost:8080/",
          "height": 362
        },
        "id": "FjKgCyhJ2Omf",
        "outputId": "653ad819-4f27-4af0-9584-588cc5a698c3"
      },
      "source": [
        "temp_test=[]\n",
        "number=[]\n",
        "count=1\n",
        "\n",
        "for j in output_test[3]:\n",
        "  temp_test.append(j)\n",
        "  number.append(count)\n",
        "  count+=1\n",
        "  \n",
        "print(temp_test)\n",
        "print(number)\n",
        "\n",
        "temp_predict=[]\n",
        "number=[]\n",
        "count=1\n",
        "\n",
        "for j in data_prediksi[3]:\n",
        "  temp_predict.append(j)\n",
        "  number.append(count)\n",
        "  count+=1\n",
        "  \n",
        "print(temp_predict)\n",
        "print(number)\n",
        "\n",
        "# Grafik garis dari Suhu\n",
        "plt.plot(number,temp_predict,marker='o',color=\"yellow\")\n",
        "plt.plot(number,temp_test,marker='o',color=\"black\")\n",
        "plt.title('Kelembaban')\n",
        "plt.ylabel('RH')\n",
        "plt.xlabel('Bulan')\n",
        "plt.show()"
      ],
      "execution_count": 519,
      "outputs": [
        {
          "output_type": "stream",
          "text": [
            "[0.1, 0.88, 0.0, 1.99]\n",
            "[1, 2, 3, 4]\n",
            "[0.0, 0.0, 0.0, 0.0]\n",
            "[1, 2, 3, 4]\n"
          ],
          "name": "stdout"
        },
        {
          "output_type": "display_data",
          "data": {
            "image/png": "[encoded data removed]",
            "text/plain": [
              "<Figure size 432x288 with 1 Axes>"
            ]
          },
          "metadata": {
            "tags": [],
            "needs_background": "light"
          }
        }
      ]
    },
    {
      "cell_type": "code",
      "metadata": {
        "colab": {
          "base_uri": "https://localhost:8080/",
          "height": 362
        },
        "id": "wVEW7Grd2QMI",
        "outputId": "bd7e5551-0e9a-4fa8-be86-8ff6ca303691"
      },
      "source": [
        "temp_test=[]\n",
        "number=[]\n",
        "count=1\n",
        "\n",
        "for j in output_test[4]:\n",
        "  temp_test.append(j)\n",
        "  number.append(count)\n",
        "  count+=1\n",
        "  \n",
        "print(temp_test)\n",
        "print(number)\n",
        "\n",
        "temp_predict=[]\n",
        "number=[]\n",
        "count=1\n",
        "\n",
        "for j in data_prediksi[4]:\n",
        "  temp_predict.append(j)\n",
        "  number.append(count)\n",
        "  count+=1\n",
        "  \n",
        "print(temp_predict)\n",
        "print(number)\n",
        "\n",
        "# Grafik garis dari Suhu\n",
        "plt.plot(number,temp_predict,marker='o',color=\"yellow\")\n",
        "plt.plot(number,temp_test,marker='o',color=\"black\")\n",
        "plt.title('Kelembaban')\n",
        "plt.ylabel('RH')\n",
        "plt.xlabel('Bulan')\n",
        "plt.show()"
      ],
      "execution_count": 520,
      "outputs": [
        {
          "output_type": "stream",
          "text": [
            "[0.88, 0.0, 1.99, 6.699999999999999]\n",
            "[1, 2, 3, 4]\n",
            "[0.0, 0.0, 0.0, 0.0]\n",
            "[1, 2, 3, 4]\n"
          ],
          "name": "stdout"
        },
        {
          "output_type": "display_data",
          "data": {
            "image/png": "[encoded data removed]",
            "text/plain": [
              "<Figure size 432x288 with 1 Axes>"
            ]
          },
          "metadata": {
            "tags": [],
            "needs_background": "light"
          }
        }
      ]
    },
    {
      "cell_type": "code",
      "metadata": {
        "colab": {
          "base_uri": "https://localhost:8080/",
          "height": 362
        },
        "id": "EpA6ahG12Rv6",
        "outputId": "0c83d891-e70b-4cf8-b819-ff8ea2ed9be6"
      },
      "source": [
        "temp_test=[]\n",
        "number=[]\n",
        "count=1\n",
        "\n",
        "for j in output_test[5]:\n",
        "  temp_test.append(j)\n",
        "  number.append(count)\n",
        "  count+=1\n",
        "  \n",
        "print(temp_test)\n",
        "print(number)\n",
        "\n",
        "temp_predict=[]\n",
        "number=[]\n",
        "count=1\n",
        "\n",
        "for j in data_prediksi[5]:\n",
        "  temp_predict.append(j)\n",
        "  number.append(count)\n",
        "  count+=1\n",
        "  \n",
        "print(temp_predict)\n",
        "print(number)\n",
        "\n",
        "# Grafik garis dari Suhu\n",
        "plt.plot(number,temp_predict,marker='o',color=\"yellow\")\n",
        "plt.plot(number,temp_test,marker='o',color=\"black\")\n",
        "plt.title('Kelembaban')\n",
        "plt.ylabel('RH')\n",
        "plt.xlabel('Bulan')\n",
        "plt.show()"
      ],
      "execution_count": 521,
      "outputs": [
        {
          "output_type": "stream",
          "text": [
            "[0.0, 1.99, 6.699999999999999, 21.84]\n",
            "[1, 2, 3, 4]\n",
            "[0.0, 0.0, 0.0, 0.07084525]\n",
            "[1, 2, 3, 4]\n"
          ],
          "name": "stdout"
        },
        {
          "output_type": "display_data",
          "data": {
            "image/png": "[encoded data removed]",
            "text/plain": [
              "<Figure size 432x288 with 1 Axes>"
            ]
          },
          "metadata": {
            "tags": [],
            "needs_background": "light"
          }
        }
      ]
    }
  ]
}