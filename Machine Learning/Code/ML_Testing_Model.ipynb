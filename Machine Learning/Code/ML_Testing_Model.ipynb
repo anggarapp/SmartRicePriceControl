{
  "nbformat": 4,
  "nbformat_minor": 0,
  "metadata": {
    "colab": {
      "name": "ML-Testing_Model.ipynb",
      "provenance": [],
      "collapsed_sections": [],
      "authorship_tag": "ABX9TyNGZGeh7hbotQHMeTB4Tb2x",
      "include_colab_link": true
    },
    "kernelspec": {
      "name": "python3",
      "display_name": "Python 3"
    },
    "language_info": {
      "name": "python"
    }
  },
  "cells": [
    {
      "cell_type": "markdown",
      "metadata": {
        "id": "view-in-github",
        "colab_type": "text"
      },
      "source": [
        "<a href=\"https://colab.research.google.com/github/u1-byte/SmartRicePriceControl/blob/main/Machine%20Learning/Code/ML_Testing_Model.ipynb\" target=\"_parent\"><img src=\"https://colab.research.google.com/assets/colab-badge.svg\" alt=\"Open In Colab\"/></a>"
      ]
    },
    {
      "cell_type": "markdown",
      "metadata": {
        "id": "UuYeoqZRwR24"
      },
      "source": [
        "MODEL UNTUK MEMPREDIKSI TOTAL PRODUKSI BERAS PADA WILAYAH TERTENTU\n",
        "\n",
        "1.   Input : Suhu, kelembaban, curah hujan, lama penyinaran, luas lahan\n",
        "2.   Output : Total produksi beras\n",
        "3.   Scope Input dan Output :  Data diambail rata rata dalam tiap bulan pada 3 kabupaten (Lamongan, Banyuwangi, Tuban) di Jawa Timur \n",
        "4.   Sumber : https://dataonline.bmkg.go.id/data_iklim,  https://jatim.bps.go.id/publication/2020/12/28/53ad74b4263660ce4adf0ed3/analisis-data-beras-provinsi-jawa-timur-2018-2020.html"
      ]
    },
    {
      "cell_type": "code",
      "metadata": {
        "id": "Lgr_c2TTfHW3"
      },
      "source": [
        "#import library yang dibutuhkan\n",
        "import tensorflow as tf\n",
        "from tensorflow import keras\n",
        "import numpy as np\n",
        "from google.colab import files\n",
        "import csv\n",
        "from sklearn.preprocessing import MinMaxScaler"
      ],
      "execution_count": null,
      "outputs": []
    },
    {
      "cell_type": "code",
      "metadata": {
        "colab": {
          "resources": {
            "http://localhost:8080/nbextensions/google.colab/files.js": {
              "data": "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",
              "ok": true,
              "headers": [
                [
                  "content-type",
                  "application/javascript"
                ]
              ],
              "status": 200,
              "status_text": ""
            }
          },
          "base_uri": "https://localhost:8080/",
          "height": 39
        },
        "id": "Kuj4p4Ggcoyb",
        "outputId": "a827a1a3-0fc7-49e5-cb6b-a44045a10c63"
      },
      "source": [
        "# upload model from local\n",
        "from google.colab import files\n",
        "uploaded = files.upload()"
      ],
      "execution_count": null,
      "outputs": [
        {
          "output_type": "display_data",
          "data": {
            "text/html": [
              "\n",
              "     <input type=\"file\" id=\"files-e52dbaf3-1e90-4d7d-b110-931d68c54cab\" name=\"files[]\" multiple disabled\n",
              "        style=\"border:none\" />\n",
              "     <output id=\"result-e52dbaf3-1e90-4d7d-b110-931d68c54cab\">\n",
              "      Upload widget is only available when the cell has been executed in the\n",
              "      current browser session. Please rerun this cell to enable.\n",
              "      </output>\n",
              "      <script src=\"/nbextensions/google.colab/files.js\"></script> "
            ],
            "text/plain": [
              "<IPython.core.display.HTML object>"
            ]
          },
          "metadata": {
            "tags": []
          }
        }
      ]
    },
    {
      "cell_type": "code",
      "metadata": {
        "colab": {
          "base_uri": "https://localhost:8080/"
        },
        "id": "wGbtzth-dTS8",
        "outputId": "68a5b76f-10f5-4cda-aedb-39729a6ea99b"
      },
      "source": [
        "model = tf.keras.models.load_model('model.h5')"
      ],
      "execution_count": null,
      "outputs": [
        {
          "output_type": "stream",
          "text": [
            "Model loaded!\n"
          ],
          "name": "stdout"
        }
      ]
    },
    {
      "cell_type": "code",
      "metadata": {
        "colab": {
          "base_uri": "https://localhost:8080/"
        },
        "id": "NNLrp7ife2Ri",
        "outputId": "dff2e81a-51a3-4b42-c6e6-caf55678fde3"
      },
      "source": [
        "input = []\n",
        "counter=0\n",
        "\n",
        "#baca file.csv\n",
        "with open('/content/Database 1 Kota.csv') as csv_file:\n",
        "  csv_reader = csv.reader(csv_file, delimiter=',')\n",
        "  next(csv_reader)\n",
        "  for row in csv_reader:\n",
        "    input.append([])\n",
        "    input[counter].append(float(row[2]))\n",
        "    input[counter].append(float(row[3]))\n",
        "    input[counter].append(float(row[4]))\n",
        "    input[counter].append(float(row[5]))\n",
        "    input[counter].append(float(row[6]))\n",
        "    input[counter].append(float(row[7]))\n",
        "    input[counter].append(float(row[8]))\n",
        "    input[counter].append(float(row[9]))\n",
        "    input[counter].append(float(row[10]))\n",
        "    counter+=1\n",
        "\n",
        "input = np.array(input)\n",
        "\n",
        "print(input)"
      ],
      "execution_count": null,
      "outputs": [
        {
          "output_type": "stream",
          "text": [
            "[[3.0000e+01 2.5400e+01 2.7610e+01 9.1000e+01 7.0000e+01 8.1120e+01\n",
            "  2.2050e+01 3.1900e+00 4.4110e+03]\n",
            " [2.9300e+01 2.5500e+01 2.7630e+01 9.4000e+01 6.9000e+01 7.9700e+01\n",
            "  1.5340e+01 5.6000e+00 2.7020e+03]\n",
            " [3.0500e+01 2.6400e+01 2.8310e+01 8.8000e+01 6.3000e+01 7.4280e+01\n",
            "  1.3840e+01 6.4500e+00 1.2480e+04]\n",
            " [3.1100e+01 2.8400e+01 2.9600e+01 7.7000e+01 6.7000e+01 7.1200e+01\n",
            "  6.2500e+00 8.7000e+00 1.2586e+04]\n",
            " [2.9200e+01 2.6000e+01 2.8100e+01 8.8000e+01 6.4000e+01 7.6220e+01\n",
            "  9.8000e-01 7.5800e+00 7.3710e+03]\n",
            " [2.8000e+01 2.6400e+01 2.7110e+01 8.8000e+01 6.9000e+01 7.8320e+01\n",
            "  3.0100e+00 6.7700e+00 3.0820e+03]\n",
            " [2.7200e+01 2.4800e+01 2.6320e+01 8.7000e+01 7.2000e+01 7.7350e+01\n",
            "  4.5100e+00 6.9900e+00 6.2150e+03]\n",
            " [2.7100e+01 2.2700e+01 2.5670e+01 9.1000e+01 6.7000e+01 7.9350e+01\n",
            "  4.3100e+00 6.1200e+00 8.9510e+03]\n",
            " [2.8500e+01 2.4800e+01 2.7140e+01 8.1000e+01 5.9000e+01 7.2460e+01\n",
            "  1.6300e+00 8.4900e+00 8.5260e+03]\n",
            " [2.9700e+01 2.7500e+01 2.8780e+01 8.1000e+01 6.4000e+01 7.0030e+01\n",
            "  1.4000e-01 9.7300e+00 6.5300e+03]\n",
            " [3.0900e+01 2.6600e+01 2.9210e+01 9.0000e+01 6.1000e+01 7.5370e+01\n",
            "  1.8400e+01 7.7800e+00 5.2360e+03]\n",
            " [3.0500e+01 2.5200e+01 2.9150e+01 9.2000e+01 6.3000e+01 7.5230e+01\n",
            "  4.6500e+00 4.4900e+00 6.2710e+03]\n",
            " [2.9800e+01 2.6000e+01 2.8080e+01 9.4000e+01 7.0000e+01 8.0210e+01\n",
            "  1.0710e+01 4.9500e+00 7.5590e+03]\n",
            " [3.0200e+01 2.6800e+01 2.8350e+01 8.7000e+01 6.7000e+01 7.6960e+01\n",
            "  4.8800e+00 6.2700e+00 3.1290e+03]\n",
            " [3.0800e+01 2.4300e+01 2.7920e+01 9.0000e+01 6.4000e+01 8.0130e+01\n",
            "  8.7800e+00 4.9800e+00 7.5870e+03]\n",
            " [2.9900e+01 2.6400e+01 2.8610e+01 9.0000e+01 7.2000e+01 7.9430e+01\n",
            "  1.0800e+01 6.9000e+00 1.5779e+04]\n",
            " [2.9000e+01 2.7100e+01 2.8150e+01 8.4000e+01 7.0000e+01 7.8190e+01\n",
            "  1.1300e+00 8.2100e+00 9.7290e+03]\n",
            " [2.8200e+01 2.4800e+01 2.6560e+01 9.5000e+01 7.0000e+01 7.8800e+01\n",
            "  7.4000e-01 7.4600e+00 3.3760e+03]\n",
            " [2.6900e+01 2.5000e+01 2.5870e+01 8.7000e+01 7.2000e+01 7.8610e+01\n",
            "  0.0000e+00 7.6000e+00 3.1740e+03]\n",
            " [2.6900e+01 2.4900e+01 2.5960e+01 8.3000e+01 6.6000e+01 7.7230e+01\n",
            "  3.9000e-01 7.9600e+00 6.7740e+03]\n",
            " [2.7300e+01 2.5100e+01 2.6240e+01 8.4000e+01 7.2000e+01 7.7700e+01\n",
            "  1.1900e+00 8.6600e+00 8.8550e+03]\n",
            " [2.9200e+01 2.7000e+01 2.8120e+01 7.8000e+01 6.4000e+01 7.1710e+01\n",
            "  0.0000e+00 9.5500e+00 8.8880e+03]\n",
            " [3.0700e+01 2.7600e+01 2.9280e+01 7.9000e+01 6.2000e+01 7.0670e+01\n",
            "  1.3000e-01 9.6300e+00 4.0630e+03]\n",
            " [3.1700e+01 2.8200e+01 3.0160e+01 7.7000e+01 6.2000e+01 6.9970e+01\n",
            "  5.6000e-01 8.0000e+00 2.6400e+03]\n",
            " [3.0100e+01 2.6300e+01 2.8770e+01 8.9000e+01 6.6000e+01 7.4520e+01\n",
            "  5.4500e+00 6.5600e+00 5.1790e+03]\n",
            " [2.9300e+01 2.6300e+01 2.8110e+01 8.9000e+01 7.2000e+01 7.9890e+01\n",
            "  1.1020e+01 5.6700e+00 2.2640e+03]\n",
            " [3.0200e+01 2.5900e+01 2.8100e+01 9.1000e+01 7.0000e+01 8.0520e+01\n",
            "  8.8300e+00 5.5700e+00 2.0930e+03]\n",
            " [2.9800e+01 2.7300e+01 2.8910e+01 8.6000e+01 7.2000e+01 7.7100e+01\n",
            "  1.7700e+00 6.9700e+00 1.1703e+04]\n",
            " [2.9500e+01 2.6300e+01 2.8140e+01 9.3000e+01 7.2000e+01 8.1450e+01\n",
            "  7.7600e+00 6.1700e+00 1.6607e+04]\n",
            " [2.8400e+01 2.6000e+01 2.6970e+01 8.6000e+01 7.2000e+01 7.9930e+01\n",
            "  3.3700e+00 7.4500e+00 7.4280e+03]\n",
            " [2.7300e+01 2.5000e+01 2.6320e+01 9.0000e+01 6.7000e+01 8.0270e+01\n",
            "  3.1500e+00 7.2900e+00 2.7880e+03]\n",
            " [2.7300e+01 2.4700e+01 2.6360e+01 8.7000e+01 7.2000e+01 8.1030e+01\n",
            "  2.5400e+00 7.4100e+00 4.4660e+03]\n",
            " [2.7700e+01 2.6600e+01 2.7120e+01 8.7000e+01 7.2000e+01 7.8820e+01\n",
            "  2.5500e+00 8.3100e+00 9.5920e+03]\n",
            " [2.8900e+01 2.5300e+01 2.7540e+01 9.4000e+01 7.3000e+01 8.0610e+01\n",
            "  1.0290e+01 6.8500e+00 1.4468e+04]\n",
            " [3.0400e+01 2.5900e+01 2.8640e+01 8.8000e+01 6.8000e+01 7.7170e+01\n",
            "  1.8900e+00 7.2200e+00 4.8960e+03]\n",
            " [2.9000e+01 2.5800e+01 2.7340e+01 9.1000e+01 6.8000e+01 8.1420e+01\n",
            "  5.7400e+00 3.9500e+00 3.5820e+03]]\n"
          ],
          "name": "stdout"
        }
      ]
    },
    {
      "cell_type": "code",
      "metadata": {
        "colab": {
          "base_uri": "https://localhost:8080/"
        },
        "id": "FD0_Qrx-e60B",
        "outputId": "99573988-5bf8-4b8c-8246-833bf5135a85"
      },
      "source": [
        "output = []\n",
        "counter=0\n",
        "\n",
        "#baca file.csv\n",
        "with open('/content/Database 1 Kota.csv') as csv_file:\n",
        "  csv_reader = csv.reader(csv_file, delimiter=',')\n",
        "  next(csv_reader)\n",
        "  for row in csv_reader:\n",
        "    output.append([])\n",
        "    output[counter].append(float(row[11]))\n",
        "    counter+=1\n",
        "\n",
        "output = np.array(output)\n",
        "\n",
        "print(output)"
      ],
      "execution_count": null,
      "outputs": [
        {
          "output_type": "stream",
          "text": [
            "[[15928.9 ]\n",
            " [ 9757.82]\n",
            " [45069.81]\n",
            " [45451.84]\n",
            " [26473.66]\n",
            " [11069.01]\n",
            " [22321.44]\n",
            " [32151.33]\n",
            " [28035.94]\n",
            " [21473.32]\n",
            " [17215.7 ]\n",
            " [20620.07]\n",
            " [24683.18]\n",
            " [10217.73]\n",
            " [24777.63]\n",
            " [51528.42]\n",
            " [29243.91]\n",
            " [10147.88]\n",
            " [ 9540.8 ]\n",
            " [20361.59]\n",
            " [27265.68]\n",
            " [27366.8 ]\n",
            " [12511.74]\n",
            " [ 8128.77]\n",
            " [16351.04]\n",
            " [ 7148.78]\n",
            " [ 6606.55]\n",
            " [36945.58]\n",
            " [52136.87]\n",
            " [23321.01]\n",
            " [ 8751.61]\n",
            " [14020.12]\n",
            " [29533.87]\n",
            " [44547.69]\n",
            " [15074.2 ]\n",
            " [11029.17]]\n"
          ],
          "name": "stdout"
        }
      ]
    },
    {
      "cell_type": "code",
      "metadata": {
        "colab": {
          "base_uri": "https://localhost:8080/"
        },
        "id": "5Lf8014mfY0m",
        "outputId": "018f509c-c224-4838-a737-1959e900859e"
      },
      "source": [
        "split_scaled = 24\n",
        "\n",
        "#split data input dan output\n",
        "input_scaled = input[:split_scaled]\n",
        "input_test = input[split_scaled:]\n",
        "output_scaled = output[:split_scaled]\n",
        "output_test = output[split_scaled:]\n",
        "\n",
        "print(len(input_scaled))\n",
        "print(len(input_test))"
      ],
      "execution_count": null,
      "outputs": [
        {
          "output_type": "stream",
          "text": [
            "24\n",
            "12\n"
          ],
          "name": "stdout"
        }
      ]
    },
    {
      "cell_type": "code",
      "metadata": {
        "colab": {
          "base_uri": "https://localhost:8080/"
        },
        "id": "SXxd1abdfbgx",
        "outputId": "c437704b-e9e0-4a00-9820-ae850d1f3ab6"
      },
      "source": [
        "split_valid = 12\n",
        "\n",
        "scaler_input = MinMaxScaler()\n",
        "scaler_input.fit(input_scaled)\n",
        "input_train_scaled = scaler_input.transform(input_scaled[:split_valid])\n",
        "input_valid_scaled = scaler_input.transform(input_scaled[split_valid:])\n",
        "input_test_scaled = scaler_input.transform(input_test)\n",
        "\n",
        "print(input_train_scaled)\n",
        "print(input_valid_scaled)\n",
        "print(input_test_scaled)\n",
        "\n",
        "scaler_output = MinMaxScaler()\n",
        "scaler_output.fit(output_scaled)\n",
        "output_train_scaled = scaler_output.transform(output_scaled[:split_valid])\n",
        "output_valid_scaled = scaler_output.transform(output_scaled[split_valid:])\n",
        "\n",
        "print(output_train_scaled)\n",
        "print(output_valid_scaled)"
      ],
      "execution_count": null,
      "outputs": [
        {
          "output_type": "stream",
          "text": [
            "[[0.64583333 0.47368421 0.43207127 0.77777778 0.84615385 1.\n",
            "  1.         0.         0.13478956]\n",
            " [0.5        0.49122807 0.43652561 0.94444444 0.76923077 0.87264574\n",
            "  0.69569161 0.36850153 0.00471878]\n",
            " [0.75       0.64912281 0.58797327 0.61111111 0.30769231 0.38654709\n",
            "  0.6276644  0.49847095 0.74891544]\n",
            " [0.875      1.         0.8752784  0.         0.61538462 0.1103139\n",
            "  0.28344671 0.84250765 0.75698303]\n",
            " [0.47916667 0.57894737 0.54120267 0.61111111 0.38461538 0.56053812\n",
            "  0.04444444 0.67125382 0.36007306]\n",
            " [0.22916667 0.64912281 0.32071269 0.61111111 0.76923077 0.74887892\n",
            "  0.13650794 0.54740061 0.03364031]\n",
            " [0.0625     0.36842105 0.14476615 0.55555556 1.         0.66188341\n",
            "  0.20453515 0.58103976 0.27209072]\n",
            " [0.04166667 0.         0.         0.77777778 0.61538462 0.84125561\n",
            "  0.19546485 0.44801223 0.48032575]\n",
            " [0.33333333 0.36842105 0.32739421 0.22222222 0.         0.22331839\n",
            "  0.0739229  0.81039755 0.4479793 ]\n",
            " [0.58333333 0.84210526 0.69265033 0.22222222 0.38461538 0.00538117\n",
            "  0.00634921 1.         0.29606515]\n",
            " [0.83333333 0.68421053 0.78841871 0.72222222 0.15384615 0.48430493\n",
            "  0.83446712 0.70183486 0.19757972]\n",
            " [0.75       0.43859649 0.77505568 0.83333333 0.30769231 0.47174888\n",
            "  0.21088435 0.19877676 0.27635284]]\n",
            "[[0.60416667 0.57894737 0.53674833 0.94444444 0.84615385 0.91838565\n",
            "  0.48571429 0.26911315 0.37438161]\n",
            " [0.6875     0.71929825 0.59688196 0.55555556 0.61538462 0.62690583\n",
            "  0.22131519 0.47094801 0.03721744]\n",
            " [0.8125     0.28070175 0.50111359 0.72222222 0.38461538 0.91121076\n",
            "  0.39818594 0.27370031 0.37651267]\n",
            " [0.625      0.64912281 0.65478842 0.72222222 1.         0.84843049\n",
            "  0.48979592 0.56727829 1.        ]\n",
            " [0.4375     0.77192982 0.55233853 0.38888889 0.84615385 0.73721973\n",
            "  0.05124717 0.7675841  0.53953878]\n",
            " [0.27083333 0.36842105 0.19821826 1.         0.84615385 0.79192825\n",
            "  0.03356009 0.6529052  0.05601644]\n",
            " [0.         0.40350877 0.04454343 0.55555556 1.         0.77488789\n",
            "  0.         0.67431193 0.04064236]\n",
            " [0.         0.38596491 0.06458797 0.33333333 0.53846154 0.65112108\n",
            "  0.01768707 0.7293578  0.31463582]\n",
            " [0.08333333 0.42105263 0.12694878 0.38888889 1.         0.69327354\n",
            "  0.05396825 0.83639144 0.47301926]\n",
            " [0.47916667 0.75438596 0.54565702 0.05555556 0.38461538 0.15605381\n",
            "  0.         0.97247706 0.47553086]\n",
            " [0.79166667 0.85964912 0.80400891 0.11111111 0.23076923 0.06278027\n",
            "  0.00589569 0.98470948 0.10830352]\n",
            " [1.         0.96491228 1.         0.         0.23076923 0.\n",
            "  0.02539683 0.73547401 0.        ]]\n",
            "[[0.17972795]\n",
            " [0.03753602]\n",
            " [0.8511829 ]\n",
            " [0.85998551]\n",
            " [0.42269673]\n",
            " [0.06774801]\n",
            " [0.32702268]\n",
            " [0.55351967]\n",
            " [0.45869425]\n",
            " [0.30748059]\n",
            " [0.20937796]\n",
            " [0.28782029]]\n",
            "[[0.38144109]\n",
            " [0.04813311]\n",
            " [0.38361738]\n",
            " [1.        ]\n",
            " [0.48652789]\n",
            " [0.04652365]\n",
            " [0.03253552]\n",
            " [0.28186449]\n",
            " [0.44094618]\n",
            " [0.44327616]\n",
            " [0.10099091]\n",
            " [0.        ]]\n"
          ],
          "name": "stdout"
        }
      ]
    },
    {
      "cell_type": "code",
      "metadata": {
        "colab": {
          "base_uri": "https://localhost:8080/"
        },
        "id": "Rn43A1kTfxLy",
        "outputId": "549b4a9a-09d9-4d84-8855-0d0e2ecfedfd"
      },
      "source": [
        "testing_data=[]\n",
        "counter=0\n",
        "for x in input_test_scaled:\n",
        "  testing_data.append([])\n",
        "  for y in x:\n",
        "    testing_data[counter].append(y)\n",
        "  counter+=1\n",
        "\n",
        "testing_data[0]"
      ],
      "execution_count": null,
      "outputs": [
        {
          "output_type": "execute_result",
          "data": {
            "text/plain": [
              "[0.666666666666667,\n",
              " 0.6315789473684212,\n",
              " 0.6904231625835182,\n",
              " 0.6666666666666661,\n",
              " 0.5384615384615392,\n",
              " 0.40807174887892383,\n",
              " 0.2471655328798186,\n",
              " 0.5152905198776758,\n",
              " 0.19324149478651342]"
            ]
          },
          "metadata": {
            "tags": []
          },
          "execution_count": 17
        }
      ]
    },
    {
      "cell_type": "code",
      "metadata": {
        "colab": {
          "base_uri": "https://localhost:8080/"
        },
        "id": "ICBQpiycf4ru",
        "outputId": "4083d224-5cf6-4b28-cdeb-b4af26ed6d1b"
      },
      "source": [
        "for i in range(12):\n",
        "  input_prediksi=[]\n",
        "  input_prediksi.append([])\n",
        "  for y in testing_data[i]:\n",
        "    input_prediksi[0].append(y)\n",
        "  harga_prediksi = model.predict(input_prediksi)\n",
        "  harga_prediksi = scaler_output.inverse_transform(harga_prediksi)\n",
        "  print(harga_prediksi)"
      ],
      "execution_count": null,
      "outputs": [
        {
          "output_type": "stream",
          "text": [
            "[[16825.002]]\n",
            "[[8190.575]]\n",
            "[[8431.529]]\n",
            "[[38967.97]]\n",
            "[[52031.63]]\n",
            "[[24804.625]]\n",
            "[[15659.393]]\n",
            "[[18475.885]]\n",
            "[[29821.385]]\n",
            "[[43871.133]]\n",
            "[[18271.23]]\n",
            "[[12535.701]]\n"
          ],
          "name": "stdout"
        }
      ]
    }
  ]
}