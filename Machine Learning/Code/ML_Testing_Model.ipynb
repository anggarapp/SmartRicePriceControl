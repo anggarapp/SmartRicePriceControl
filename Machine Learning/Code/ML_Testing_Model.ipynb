{
  "nbformat": 4,
  "nbformat_minor": 0,
  "metadata": {
    "colab": {
      "name": "ML-Testing_Model.ipynb",
      "provenance": [],
      "collapsed_sections": [],
      "authorship_tag": "ABX9TyMsmzTRFY/nJPVxccFDtVtT",
      "include_colab_link": true
    },
    "kernelspec": {
      "name": "python3",
      "display_name": "Python 3"
    },
    "language_info": {
      "name": "python"
    }
  },
  "cells": [
    {
      "cell_type": "markdown",
      "metadata": {
        "id": "view-in-github",
        "colab_type": "text"
      },
      "source": [
        "<a href=\"https://colab.research.google.com/github/u1-byte/SmartRicePriceControl/blob/main/Machine%20Learning/Code/ML_Testing_Model.ipynb\" target=\"_parent\"><img src=\"https://colab.research.google.com/assets/colab-badge.svg\" alt=\"Open In Colab\"/></a>"
      ]
    },
    {
      "cell_type": "markdown",
      "metadata": {
        "id": "UuYeoqZRwR24"
      },
      "source": [
        "MODEL UNTUK MEMPREDIKSI TOTAL PRODUKSI BERAS PADA WILAYAH TERTENTU\n",
        "\n",
        "1.   Input : Suhu, kelembaban, curah hujan, lama penyinaran, luas lahan\n",
        "2.   Output : Total produksi beras\n",
        "3.   Scope Input dan Output :  Data diambail rata rata dalam tiap bulan pada 3 kabupaten (Lamongan, Banyuwangi, Tuban) di Jawa Timur \n",
        "4.   Sumber : https://dataonline.bmkg.go.id/data_iklim,  https://jatim.bps.go.id/publication/2020/12/28/53ad74b4263660ce4adf0ed3/analisis-data-beras-provinsi-jawa-timur-2018-2020.html"
      ]
    },
    {
      "cell_type": "code",
      "metadata": {
        "id": "Lgr_c2TTfHW3"
      },
      "source": [
        "# Import library yang dibutuhkan\n",
        "import tensorflow as tf\n",
        "from tensorflow import keras\n",
        "import numpy as np\n",
        "import matplotlib.pyplot as plt\n",
        "from google.colab import files\n",
        "import csv\n",
        "from sklearn.preprocessing import MinMaxScaler"
      ],
      "execution_count": 1,
      "outputs": []
    },
    {
      "cell_type": "code",
      "metadata": {
        "colab": {
          "resources": {
            "http://localhost:8080/nbextensions/google.colab/files.js": {
              "data": "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",
              "ok": true,
              "headers": [
                [
                  "content-type",
                  "application/javascript"
                ]
              ],
              "status": 200,
              "status_text": ""
            }
          },
          "base_uri": "https://localhost:8080/",
          "height": 73
        },
        "id": "Kuj4p4Ggcoyb",
        "outputId": "e7548bed-a000-4067-cb6a-76b01cae11eb"
      },
      "source": [
        "# Upload file dataset dari lokal\n",
        "from google.colab import files\n",
        "uploaded = files.upload()"
      ],
      "execution_count": 3,
      "outputs": [
        {
          "output_type": "display_data",
          "data": {
            "text/html": [
              "\n",
              "     <input type=\"file\" id=\"files-3f2fe93f-cffa-4d65-af15-27a58e1591b0\" name=\"files[]\" multiple disabled\n",
              "        style=\"border:none\" />\n",
              "     <output id=\"result-3f2fe93f-cffa-4d65-af15-27a58e1591b0\">\n",
              "      Upload widget is only available when the cell has been executed in the\n",
              "      current browser session. Please rerun this cell to enable.\n",
              "      </output>\n",
              "      <script src=\"/nbextensions/google.colab/files.js\"></script> "
            ],
            "text/plain": [
              "<IPython.core.display.HTML object>"
            ]
          },
          "metadata": {
            "tags": []
          }
        },
        {
          "output_type": "stream",
          "text": [
            "Saving model.h5 to model.h5\n"
          ],
          "name": "stdout"
        }
      ]
    },
    {
      "cell_type": "code",
      "metadata": {
        "id": "wGbtzth-dTS8"
      },
      "source": [
        "# Load the model\n",
        "model = tf.keras.models.load_model('model.h5')"
      ],
      "execution_count": 4,
      "outputs": []
    },
    {
      "cell_type": "code",
      "metadata": {
        "colab": {
          "base_uri": "https://localhost:8080/"
        },
        "id": "J3Aa-RU9_Hft",
        "outputId": "830c879e-9056-421c-8421-6a75339d1389"
      },
      "source": [
        "# Input dari data pada database\n",
        "input = []\n",
        "counter=0\n",
        "\n",
        "# Baca file.csv\n",
        "with open('/content/Database.csv') as csv_file:\n",
        "  csv_reader = csv.reader(csv_file, delimiter=',')\n",
        "  next(csv_reader)\n",
        "  for row in csv_reader:\n",
        "    input.append([])\n",
        "    input[counter].append(float(row[0]))\n",
        "    input[counter].append(float(row[1]))\n",
        "    input[counter].append(float(row[2]))\n",
        "    input[counter].append(float(row[5]))\n",
        "    input[counter].append(float(row[6]))\n",
        "    input[counter].append(float(row[7]))\n",
        "    input[counter].append(float(row[8]))\n",
        "    input[counter].append(float(row[9]))\n",
        "    input[counter].append(float(row[10]))\n",
        "    input[counter].append(float(row[11]))\n",
        "    input[counter].append(float(row[12]))\n",
        "    input[counter].append(float(row[13]))\n",
        "    counter+=1\n",
        "\n",
        "input = np.array(input)\n",
        "\n",
        "print(input)"
      ],
      "execution_count": 5,
      "outputs": [
        {
          "output_type": "stream",
          "text": [
            "[[1.0000e+00 0.0000e+00 0.0000e+00 ... 1.0880e+01 3.4400e+00 1.3850e+03]\n",
            " [1.0000e+00 0.0000e+00 0.0000e+00 ... 1.7450e+01 5.4100e+00 2.3129e+04]\n",
            " [1.0000e+00 0.0000e+00 0.0000e+00 ... 1.6030e+01 5.2000e+00 3.0824e+04]\n",
            " ...\n",
            " [0.0000e+00 0.0000e+00 1.0000e+00 ... 1.9500e+00 6.2500e+00 9.3130e+03]\n",
            " [0.0000e+00 0.0000e+00 1.0000e+00 ... 8.9200e+00 6.6100e+00 1.7520e+03]\n",
            " [0.0000e+00 0.0000e+00 1.0000e+00 ... 1.3010e+01 3.0700e+00 1.4660e+03]]\n"
          ],
          "name": "stdout"
        }
      ]
    },
    {
      "cell_type": "code",
      "metadata": {
        "colab": {
          "base_uri": "https://localhost:8080/"
        },
        "id": "kQZcS4Cv_NnX",
        "outputId": "796ce6f1-221e-4e7f-a925-d8a26ec35c2d"
      },
      "source": [
        "# Output dari data pada database\n",
        "output = []\n",
        "counter=0\n",
        "\n",
        "# Baca file.csv\n",
        "with open('/content/Database.csv') as csv_file:\n",
        "  csv_reader = csv.reader(csv_file, delimiter=',')\n",
        "  next(csv_reader)\n",
        "  for row in csv_reader:\n",
        "    output.append([])\n",
        "    output[counter].append(float(row[14]))\n",
        "    counter+=1\n",
        "\n",
        "output = np.array(output)\n",
        "\n",
        "print(output)"
      ],
      "execution_count": 6,
      "outputs": [
        {
          "output_type": "stream",
          "text": [
            "[[  5209.48]\n",
            " [ 86975.4 ]\n",
            " [115862.16]\n",
            " [ 30774.59]\n",
            " [ 43242.82]\n",
            " [ 61068.1 ]\n",
            " [ 28292.76]\n",
            " [ 52681.05]\n",
            " [ 76667.7 ]\n",
            " [  8336.23]\n",
            " [  2551.31]\n",
            " [  3091.78]\n",
            " [ 15928.9 ]\n",
            " [  9757.82]\n",
            " [ 45069.81]\n",
            " [ 45451.84]\n",
            " [ 26473.66]\n",
            " [ 11069.01]\n",
            " [ 22321.44]\n",
            " [ 32151.33]\n",
            " [ 28035.94]\n",
            " [ 21473.32]\n",
            " [ 17215.7 ]\n",
            " [ 20620.07]\n",
            " [  8919.26]\n",
            " [ 17647.85]\n",
            " [ 88166.98]\n",
            " [ 53368.58]\n",
            " [  5963.89]\n",
            " [ 22567.4 ]\n",
            " [ 26090.58]\n",
            " [ 13280.79]\n",
            " [ 30596.29]\n",
            " [ 38858.77]\n",
            " [ 10700.88]\n",
            " [  7964.59]\n",
            " [ 10558.09]\n",
            " [ 31180.56]\n",
            " [101956.71]\n",
            " [ 74319.36]\n",
            " [ 17322.18]\n",
            " [ 69561.05]\n",
            " [ 41828.82]\n",
            " [ 53880.42]\n",
            " [ 58044.09]\n",
            " [ 16713.73]\n",
            " [  5373.29]\n",
            " [  1637.76]\n",
            " [ 24683.18]\n",
            " [ 10217.73]\n",
            " [ 24777.63]\n",
            " [ 51528.42]\n",
            " [ 29243.91]\n",
            " [ 10147.88]\n",
            " [  9540.8 ]\n",
            " [ 20361.59]\n",
            " [ 27265.68]\n",
            " [ 27366.8 ]\n",
            " [ 12511.74]\n",
            " [  8128.77]\n",
            " [ 11590.42]\n",
            " [ 18216.62]\n",
            " [ 41044.27]\n",
            " [ 85570.82]\n",
            " [ 19437.87]\n",
            " [ 10804.02]\n",
            " [ 21359.23]\n",
            " [ 15103.27]\n",
            " [ 13768.52]\n",
            " [ 43813.82]\n",
            " [ 12969.53]\n",
            " [  4995.64]\n",
            " [  1194.46]\n",
            " [  9610.85]\n",
            " [ 96343.8 ]\n",
            " [103583.39]\n",
            " [ 25728.34]\n",
            " [ 37383.78]\n",
            " [ 49665.76]\n",
            " [ 89056.54]\n",
            " [ 56447.88]\n",
            " [ 28600.74]\n",
            " [  2874.25]\n",
            " [  1422.82]\n",
            " [ 16351.04]\n",
            " [  7148.78]\n",
            " [  6606.55]\n",
            " [ 36945.58]\n",
            " [ 52136.87]\n",
            " [ 23321.01]\n",
            " [  8751.61]\n",
            " [ 14020.12]\n",
            " [ 29533.87]\n",
            " [ 44547.69]\n",
            " [ 15074.2 ]\n",
            " [ 11029.17]\n",
            " [  9994.04]\n",
            " [ 19622.06]\n",
            " [ 33274.79]\n",
            " [ 66879.08]\n",
            " [ 42986.48]\n",
            " [ 12687.32]\n",
            " [ 15827.14]\n",
            " [ 20072.58]\n",
            " [ 23487.19]\n",
            " [ 40388.22]\n",
            " [  7599.35]\n",
            " [  6359.52]]\n"
          ],
          "name": "stdout"
        }
      ]
    },
    {
      "cell_type": "code",
      "metadata": {
        "colab": {
          "base_uri": "https://localhost:8080/"
        },
        "id": "5Lf8014mfY0m",
        "outputId": "8a0ab796-13d7-40a5-8e45-d0d6d5d82b00"
      },
      "source": [
        "# Bagi data untuk training, validasi dan testing\n",
        "split_scaled = 72\n",
        "\n",
        "input_scaled = input[:split_scaled]\n",
        "input_test = input[split_scaled:]\n",
        "output_scaled = output[:split_scaled]\n",
        "output_test = output[split_scaled:]\n",
        "\n",
        "print(len(input_scaled))\n",
        "print(len(input_test))"
      ],
      "execution_count": 7,
      "outputs": [
        {
          "output_type": "stream",
          "text": [
            "72\n",
            "36\n"
          ],
          "name": "stdout"
        }
      ]
    },
    {
      "cell_type": "code",
      "metadata": {
        "colab": {
          "base_uri": "https://localhost:8080/"
        },
        "id": "SXxd1abdfbgx",
        "outputId": "56cfa2df-fc38-4f5e-aea8-d216ee7b3583"
      },
      "source": [
        "# Normalisasi data\n",
        "split_valid = 36\n",
        "\n",
        "scaler_input = MinMaxScaler()\n",
        "scaler_input.fit(input_scaled)\n",
        "input_train_scaled = scaler_input.transform(input_scaled[:split_valid])\n",
        "input_valid_scaled = scaler_input.transform(input_scaled[split_valid:])\n",
        "input_test_scaled = scaler_input.transform(input_test)\n",
        "\n",
        "print(input_train_scaled)\n",
        "print(input_valid_scaled)\n",
        "print(input_test_scaled)\n",
        "\n",
        "scaler_output = MinMaxScaler()\n",
        "scaler_output.fit(output_scaled)\n",
        "output_train_scaled = scaler_output.transform(output_scaled[:split_valid])\n",
        "output_valid_scaled = scaler_output.transform(output_scaled[split_valid:])\n",
        "output_test_scaled = scaler_output.transform(output_test)\n",
        "\n",
        "print(output_train_scaled)\n",
        "print(output_valid_scaled)"
      ],
      "execution_count": 8,
      "outputs": [
        {
          "output_type": "stream",
          "text": [
            "[[1.         0.         0.         0.31746032 0.64912281 0.44104803\n",
            "  0.70833333 0.75862069 0.72981651 0.49342404 0.07771261 0.03202578]\n",
            " [1.         0.         0.         0.26984127 0.56140351 0.33624454\n",
            "  0.66666667 0.82758621 0.79678899 0.79138322 0.36656891 0.7469832 ]\n",
            " [1.         0.         0.         0.46031746 0.61403509 0.430131\n",
            "  0.79166667 0.79310345 0.80688073 0.72698413 0.33577713 1.        ]\n",
            " [1.         0.         0.         0.49206349 0.70175439 0.71834061\n",
            "  0.54166667 0.62068966 0.51834862 0.47029478 0.76686217 0.25558149]\n",
            " [1.         0.         0.         0.6031746  0.8245614  0.67248908\n",
            "  0.25       0.51724138 0.40275229 0.         0.76246334 0.42093841]\n",
            " [1.         0.         0.         0.33333333 0.71929825 0.48908297\n",
            "  0.45833333 0.5862069  0.47110092 0.20907029 0.77419355 0.60086147]\n",
            " [1.         0.         0.         0.34920635 0.40350877 0.21615721\n",
            "  0.33333333 0.48275862 0.39266055 0.         0.89882698 0.27096965]\n",
            " [1.         0.         0.         0.15873016 0.42105263 0.21834061\n",
            "  0.20833333 0.44827586 0.28440367 0.         0.8856305  0.51524019]\n",
            " [1.         0.         0.         0.36507937 0.71929825 0.51965066\n",
            "  0.45833333 0.17241379 0.11926606 0.03265306 0.74633431 0.66797093]\n",
            " [1.         0.         0.         0.68253968 0.71929825 0.80349345\n",
            "  0.125      0.31034483 0.05963303 0.         0.85337243 0.06059909]\n",
            " [1.         0.         0.         1.         0.80701754 0.83842795\n",
            "  0.66666667 0.13793103 0.35779817 0.31609977 0.50439883 0.00917371]\n",
            " [1.         0.         0.         0.95238095 0.77192982 0.73362445\n",
            "  0.625      0.10344828 0.53165138 0.73015873 0.12463343 0.01397429]\n",
            " [0.         1.         0.         0.49206349 0.47368421 0.42358079\n",
            "  0.79166667 0.5862069  0.70733945 1.         0.04105572 0.1315227 ]\n",
            " [0.         1.         0.         0.38095238 0.49122807 0.4279476\n",
            "  0.91666667 0.55172414 0.64220183 0.69569161 0.39442815 0.07532963]\n",
            " [0.         1.         0.         0.57142857 0.64912281 0.57641921\n",
            "  0.66666667 0.34482759 0.39357798 0.6276644  0.51906158 0.39683688]\n",
            " [0.         1.         0.         0.66666667 1.         0.8580786\n",
            "  0.20833333 0.48275862 0.25229358 0.28344671 0.84897361 0.40032223]\n",
            " [0.         1.         0.         0.36507937 0.57894737 0.53056769\n",
            "  0.66666667 0.37931034 0.48256881 0.04444444 0.68475073 0.22884951]\n",
            " [0.         1.         0.         0.17460317 0.64912281 0.31441048\n",
            "  0.66666667 0.55172414 0.57889908 0.13650794 0.5659824  0.08782429]\n",
            " [0.         1.         0.         0.04761905 0.36842105 0.1419214\n",
            "  0.625      0.65517241 0.53440367 0.20453515 0.59824047 0.19083944]\n",
            " [0.         1.         0.         0.03174603 0.         0.\n",
            "  0.79166667 0.48275862 0.62614679 0.19546485 0.47067449 0.28080097]\n",
            " [0.         1.         0.         0.25396825 0.36842105 0.3209607\n",
            "  0.375      0.20689655 0.31009174 0.0739229  0.81818182 0.26682669]\n",
            " [0.         1.         0.         0.44444444 0.84210526 0.6790393\n",
            "  0.375      0.37931034 0.19862385 0.00634921 1.         0.20119686]\n",
            " [0.         1.         0.         0.63492063 0.68421053 0.77292576\n",
            "  0.75       0.27586207 0.44357798 0.83446712 0.71407625 0.15864926]\n",
            " [0.         1.         0.         0.57142857 0.43859649 0.75982533\n",
            "  0.83333333 0.34482759 0.43715596 0.21088435 0.23167155 0.19268076]\n",
            " [0.         0.         1.         0.20634921 0.45614035 0.31222707\n",
            "  0.875      0.86206897 0.8853211  0.27256236 0.         0.08049189]\n",
            " [0.         0.         1.         0.12698413 0.40350877 0.18122271\n",
            "  0.875      1.         1.         0.55782313 0.13929619 0.17252491]\n",
            " [0.         0.         1.         0.17460317 0.54385965 0.33406114\n",
            "  0.95833333 0.93103448 0.90963303 0.36054422 0.41642229 0.91589123]\n",
            " [0.         0.         1.         0.36507937 0.73684211 0.5720524\n",
            "  0.66666667 0.5862069  0.68348624 0.14557823 0.74193548 0.54914017]\n",
            " [0.         0.         1.         0.34920635 0.84210526 0.57641921\n",
            "  0.33333333 0.55172414 0.43256881 0.030839   0.71847507 0.04448755]\n",
            " [0.         0.         1.         0.3015873  0.71929825 0.45851528\n",
            "  0.41666667 0.34482759 0.35183486 0.01587302 0.69354839 0.20553711]\n",
            " [0.         0.         1.         0.22222222 0.59649123 0.31222707\n",
            "  0.16666667 0.27586207 0.16743119 0.02312925 0.85777126 0.23976589]\n",
            " [0.         0.         1.         0.19047619 0.66666667 0.32969432\n",
            "  0.25       0.         0.01513761 0.         0.88269795 0.11541117]\n",
            " [0.         0.         1.         0.33333333 0.80701754 0.55895197\n",
            "  0.125      0.10344828 0.         0.00272109 0.74486804 0.23677375]\n",
            " [0.         0.         1.         0.52380952 0.89473684 0.75764192\n",
            "  0.125      0.24137931 0.04495413 0.02494331 0.73900293 0.30408049]\n",
            " [0.         0.         1.         0.58730159 0.68421053 0.76419214\n",
            "  0.625      0.34482759 0.31651376 0.21632653 0.59824047 0.07394864]\n",
            " [0.         0.         1.         0.36507937 0.63157895 0.51965066\n",
            "  0.75       0.65517241 0.65458716 0.36553288 0.21260997 0.05158978]]\n",
            "[[1.         0.         0.         0.41269841 0.50877193 0.47379913\n",
            "  0.75       0.72413793 0.75366972 0.73741497 0.23607038 0.08752836]\n",
            " [1.         0.         0.         0.44444444 0.64912281 0.50873362\n",
            "  0.70833333 0.79310345 0.74449541 0.78684807 0.41935484 0.28487818]\n",
            " [1.         0.         0.         0.33333333 0.50877193 0.43886463\n",
            "  0.75       0.86206897 0.82568807 0.51927438 0.28739003 0.96284484]\n",
            " [1.         0.         0.         0.46031746 0.66666667 0.58951965\n",
            "  0.83333333 0.79310345 0.82110092 0.58004535 0.46627566 0.69845132]\n",
            " [1.         0.         0.         0.36507937 0.85964912 0.60917031\n",
            "  0.5        0.5862069  0.53256881 0.08163265 0.83284457 0.16272647]\n",
            " [1.         0.         0.         0.3015873  0.42105263 0.31877729\n",
            "  0.33333333 0.65517241 0.48761468 0.         0.7829912  0.69312465]\n",
            " [1.         0.         0.         0.19047619 0.40350877 0.1790393\n",
            "  0.54166667 0.5862069  0.4266055  0.00136054 0.83431085 0.41196199]\n",
            " [1.         0.         0.         0.28571429 0.45614035 0.21615721\n",
            "  0.25       0.34482759 0.30229358 0.         0.9516129  0.53342321]\n",
            " [1.         0.         0.         0.36507937 0.56140351 0.3558952\n",
            "  0.16666667 0.17241379 0.23853211 0.         0.93255132 0.46598494]\n",
            " [1.         0.         0.         0.46031746 0.84210526 0.70305677\n",
            "  0.         0.37931034 0.10550459 0.         0.96187683 0.124552  ]\n",
            " [1.         0.         0.         0.76190476 0.85964912 1.\n",
            "  0.33333333 0.20689655 0.09311927 0.0399093  0.87536657 0.03087495]\n",
            " [1.         0.         0.         0.73015873 0.9122807  0.91484716\n",
            "  0.58333333 0.37931034 0.42155963 0.32108844 0.54398827 0.        ]\n",
            " [0.         1.         0.         0.46031746 0.57894737 0.52620087\n",
            "  0.91666667 0.5862069  0.66559633 0.48571429 0.29912023 0.23503107]\n",
            " [0.         1.         0.         0.52380952 0.71929825 0.58515284\n",
            "  0.625      0.48275862 0.51651376 0.22131519 0.49266862 0.08936968]\n",
            " [0.         1.         0.         0.61904762 0.28070175 0.49126638\n",
            "  0.75       0.37931034 0.66192661 0.39818594 0.30351906 0.23595173]\n",
            " [0.         1.         0.         0.47619048 0.64912281 0.6419214\n",
            "  0.75       0.65517241 0.62981651 0.48979592 0.58504399 0.50531023]\n",
            " [0.         1.         0.         0.33333333 0.77192982 0.54148472\n",
            "  0.5        0.5862069  0.57293578 0.05124717 0.7771261  0.30638214]\n",
            " [0.         1.         0.         0.20634921 0.36842105 0.19432314\n",
            "  0.95833333 0.5862069  0.60091743 0.03356009 0.66715543 0.0974912 ]\n",
            " [0.         1.         0.         0.         0.40350877 0.04366812\n",
            "  0.625      0.65517241 0.59220183 0.         0.68768328 0.09084931]\n",
            " [0.         1.         0.         0.         0.38596491 0.06331878\n",
            "  0.45833333 0.44827586 0.52889908 0.01768707 0.74046921 0.20921974]\n",
            " [0.         1.         0.         0.06349206 0.42105263 0.12445415\n",
            "  0.5        0.65517241 0.55045872 0.05396825 0.8431085  0.27764443]\n",
            " [0.         1.         0.         0.36507937 0.75438596 0.5349345\n",
            "  0.25       0.37931034 0.27568807 0.         0.97360704 0.27872949]\n",
            " [0.         1.         0.         0.6031746  0.85964912 0.78820961\n",
            "  0.29166667 0.31034483 0.22798165 0.00589569 0.98533724 0.12008023]\n",
            " [0.         1.         0.         0.76190476 0.96491228 0.98034934\n",
            "  0.20833333 0.31034483 0.19587156 0.02539683 0.74633431 0.07329103]\n",
            " [0.         0.         1.         0.28571429 0.40350877 0.34279476\n",
            "  1.         0.89655172 0.89862385 0.70340136 0.18621701 0.11051195]\n",
            " [0.         0.         1.         0.36507937 0.56140351 0.42576419\n",
            "  0.83333333 0.89655172 0.86743119 0.37188209 0.49706745 0.18140269]\n",
            " [0.         0.         1.         0.25396825 0.40350877 0.30786026\n",
            "  0.91666667 0.93103448 0.8912844  0.45442177 0.36656891 0.42567323]\n",
            " [0.         0.         1.         0.42857143 0.59649123 0.52838428\n",
            "  0.75       0.79310345 0.81055046 0.73650794 0.60703812 0.90234439]\n",
            " [0.         0.         1.         0.33333333 0.78947368 0.5349345\n",
            "  0.66666667 0.65517241 0.57752294 0.30294785 0.85923754 0.20563575]\n",
            " [0.         0.         1.         0.36507937 0.49122807 0.33842795\n",
            "  0.375      0.48275862 0.38669725 0.00907029 0.77272727 0.10827607]\n",
            " [0.         0.         1.         0.17460317 0.47368421 0.17030568\n",
            "  0.5        0.13793103 0.33211009 0.01088435 0.79765396 0.22723835]\n",
            " [0.         0.         1.         0.0952381  0.49122807 0.22489083\n",
            "  0.41666667 0.31034483 0.23853211 0.         0.85777126 0.15677506]\n",
            " [0.         0.         1.         0.23809524 0.64912281 0.35152838\n",
            "  0.16666667 0.17241379 0.20321101 0.         0.88416422 0.09088219]\n",
            " [0.         0.         1.         0.46031746 0.89473684 0.69432314\n",
            "  0.08333333 0.17241379 0.05504587 0.00952381 0.80938416 0.31867951]\n",
            " [0.         0.         1.         0.57142857 0.85964912 0.90174672\n",
            "  0.29166667 0.34482759 0.09495413 0.15147392 0.93255132 0.08483214]\n",
            " [0.         0.         1.         0.57142857 0.77192982 0.74235808\n",
            "  0.70833333 0.48275862 0.51559633 0.18231293 0.5483871  0.02436458]]\n",
            "[[ 1.          0.          0.          0.46031746  0.77192982  0.59170306\n",
            "   0.70833333  0.75862069  0.74036697  0.51927438  0.31231672 -0.00256469]\n",
            " [ 1.          0.          0.          0.3015873   0.56140351  0.43886463\n",
            "   0.83333333  0.82758621  0.9059633   0.85442177  0.26539589  0.07447473]\n",
            " [ 1.          0.          0.          0.47619048  0.64912281  0.55021834\n",
            "   0.875       0.82758621  0.82889908  0.47755102  0.3856305   0.87008845]\n",
            " [ 1.          0.          0.          0.6031746   0.71929825  0.62663755\n",
            "   0.75        0.72413793  0.77522936  0.60861678  0.4941349   0.93614573]\n",
            " [ 1.          0.          0.          0.41269841  0.42105263  0.59388646\n",
            "   0.91666667  0.62068966  0.77431193  0.82222222  0.60557185  0.2598231 ]\n",
            " [ 1.          0.          0.          0.31746032  0.68421053  0.43886463\n",
            "   0.58333333  0.65517241  0.64036697  0.08208617  0.66129032  0.38407918]\n",
            " [ 1.          0.          0.          0.42857143  0.49122807  0.35152838\n",
            "   0.41666667  0.48275862  0.48027523  0.00453515  0.7829912   0.51445106]\n",
            " [ 1.          0.          0.          0.34920635  0.57894737  0.40829694\n",
            "   0.5         0.44827586  0.46192661  0.0399093   0.84164223  0.93183836]\n",
            " [ 1.          0.          0.          0.46031746  0.92982456  0.66593886\n",
            "   0.16666667  0.37931034  0.23761468  0.          0.89442815  0.45299707]\n",
            " [ 1.          0.          0.          0.58730159  0.68421053  0.76637555\n",
            "   0.75        0.27586207  0.33348624  0.09024943  0.60410557  0.2227337 ]\n",
            " [ 1.          0.          0.          0.65079365  0.71929825  0.76419214\n",
            "   0.75        0.44827586  0.5059633   0.30385488  0.49560117  0.01022589]\n",
            " [ 1.          0.          0.          0.44444444  0.40350877  0.34716157\n",
            "   1.          0.65517241  0.88807339  0.99047619  0.05278592 -0.00177556]\n",
            " [ 0.          1.          0.          0.50793651  0.63157895  0.6768559\n",
            "   0.70833333  0.44827586  0.40458716  0.24716553  0.53519062  0.15677506]\n",
            " [ 0.          1.          0.          0.38095238  0.63157895  0.53275109\n",
            "   0.70833333  0.65517241  0.65091743  0.49977324  0.40469208  0.06092789]\n",
            " [ 0.          1.          0.          0.52380952  0.56140351  0.53056769\n",
            "   0.79166667  0.5862069   0.67981651  0.40045351  0.39002933  0.0553053 ]\n",
            " [ 0.          1.          0.          0.46031746  0.80701754  0.70742358\n",
            "   0.58333333  0.65517241  0.52293578  0.08027211  0.59530792  0.37128859]\n",
            " [ 0.          1.          0.          0.41269841  0.63157895  0.53930131\n",
            "   0.875       0.65517241  0.72247706  0.35192744  0.47800587  0.53253543]\n",
            " [ 0.          1.          0.          0.23809524  0.57894737  0.28384279\n",
            "   0.58333333  0.65517241  0.65275229  0.15283447  0.66568915  0.2307237 ]\n",
            " [ 0.          1.          0.          0.06349206  0.40350877  0.1419214\n",
            "   0.75        0.48275862  0.66834862  0.14285714  0.64222874  0.07815737]\n",
            " [ 0.          1.          0.          0.06349206  0.35087719  0.15065502\n",
            "   0.625       0.65517241  0.70321101  0.11519274  0.65982405  0.13333114]\n",
            " [ 0.          1.          0.          0.12698413  0.68421053  0.31659389\n",
            "   0.625       0.65517241  0.60183486  0.11564626  0.79178886  0.30187749]\n",
            " [ 0.          1.          0.          0.31746032  0.45614035  0.40829694\n",
            "   0.91666667  0.68965517  0.68394495  0.46666667  0.57771261  0.46220366]\n",
            " [ 0.          1.          0.          0.55555556  0.56140351  0.64847162\n",
            "   0.66666667  0.51724138  0.52614679  0.08571429  0.63196481  0.14746983]\n",
            " [ 0.          1.          0.          0.33333333  0.54385965  0.36462882\n",
            "   0.79166667  0.51724138  0.72110092  0.26031746  0.15249267  0.10426462]\n",
            " [ 0.          0.          1.          0.46031746  0.68421053  0.51746725\n",
            "   0.75        0.79310345  0.74633028  0.18095238  0.28005865  0.09114523]\n",
            " [ 0.          0.          1.          0.31746032  0.57894737  0.4650655\n",
            "   0.79166667  0.82758621  0.83807339  0.36961451  0.28592375  0.19199027]\n",
            " [ 0.          0.          1.          0.33333333  0.77192982  0.55895197\n",
            "   0.625       0.79310345  0.78761468  0.34421769  0.52639296  0.33498833]\n",
            " [ 0.          0.          1.          0.41269841  0.57894737  0.55458515\n",
            "   0.83333333  0.89655172  0.85        0.46077098  0.52052786  0.68697596]\n",
            " [ 0.          0.          1.          0.3968254   0.49122807  0.55676856\n",
            "   0.91666667  0.82758621  0.79633028  0.18956916  0.58504399  0.49797784]\n",
            " [ 0.          0.          1.          0.3015873   0.68421053  0.42139738\n",
            "   0.75        0.51724138  0.65458716  0.05578231  0.63929619  0.13744123]\n",
            " [ 0.          0.          1.          0.23809524  0.42105263  0.33624454\n",
            "   0.83333333  0.34482759  0.44266055  0.08253968  0.78005865  0.17479367]\n",
            " [ 0.          0.          1.          0.20634921  0.63157895  0.36681223\n",
            "   0.45833333  0.34482759  0.47844037  0.13151927  0.86363636  0.22533127]\n",
            " [ 0.          0.          1.          0.41269841  0.87719298  0.59606987\n",
            "   0.375       0.44827586  0.26330275  0.01814059  0.82404692  0.16456778]\n",
            " [ 0.          0.          1.          0.49206349  0.56140351  0.66812227\n",
            "   0.625       0.31034483  0.33348624  0.08843537  0.48973607  0.29270378]\n",
            " [ 0.          0.          1.          0.57142857  0.61403509  0.68777293\n",
            "   0.70833333  0.4137931   0.51834862  0.40453515  0.54252199  0.04409299]\n",
            " [ 0.          0.          1.          0.31746032  0.43859649  0.33406114\n",
            "   0.875       0.82758621  0.85275229  0.59002268  0.02346041  0.03468911]]\n",
            "[[0.03126933]\n",
            " [0.74710517]\n",
            " [1.        ]\n",
            " [0.25508412]\n",
            " [0.36423969]\n",
            " [0.52029461]\n",
            " [0.23335645]\n",
            " [0.44686853]\n",
            " [0.65686438]\n",
            " [0.05864307]\n",
            " [0.00799785]\n",
            " [0.0127295 ]\n",
            " [0.1251146 ]\n",
            " [0.07108866]\n",
            " [0.38023443]\n",
            " [0.38357899]\n",
            " [0.21743078]\n",
            " [0.08256774]\n",
            " [0.18107935]\n",
            " [0.26713706]\n",
            " [0.23110806]\n",
            " [0.17365432]\n",
            " [0.13638014]\n",
            " [0.16618437]\n",
            " [0.06374733]\n",
            " [0.14016349]\n",
            " [0.75753709]\n",
            " [0.45288765]\n",
            " [0.03787396]\n",
            " [0.18323265]\n",
            " [0.21407703]\n",
            " [0.1019312 ]\n",
            " [0.25352315]\n",
            " [0.32585866]\n",
            " [0.07934487]\n",
            " [0.05538948]]\n",
            "[[0.07809479]\n",
            " [0.25863826]\n",
            " [0.878262  ]\n",
            " [0.63630538]\n",
            " [0.13731234]\n",
            " [0.59464782]\n",
            " [0.35186055]\n",
            " [0.45736865]\n",
            " [0.49382032]\n",
            " [0.13198555]\n",
            " [0.03270343]\n",
            " [0.        ]\n",
            " [0.20175567]\n",
            " [0.07511504]\n",
            " [0.20258255]\n",
            " [0.43677761]\n",
            " [0.24168348]\n",
            " [0.07450352]\n",
            " [0.06918872]\n",
            " [0.16392146]\n",
            " [0.22436467]\n",
            " [0.22524995]\n",
            " [0.0951984 ]\n",
            " [0.05682683]\n",
            " [0.08713252]\n",
            " [0.14514289]\n",
            " [0.34499205]\n",
            " [0.7348085 ]\n",
            " [0.15583457]\n",
            " [0.08024783]\n",
            " [0.17265549]\n",
            " [0.11788646]\n",
            " [0.10620113]\n",
            " [0.36923862]\n",
            " [0.09920621]\n",
            " [0.02939722]]\n"
          ],
          "name": "stdout"
        }
      ]
    },
    {
      "cell_type": "code",
      "metadata": {
        "colab": {
          "base_uri": "https://localhost:8080/"
        },
        "id": "Rn43A1kTfxLy",
        "outputId": "3370fb69-2b5a-4e2b-9ad9-ce271e187ee8"
      },
      "source": [
        "# Input dari data testing\n",
        "testing_data=[]\n",
        "counter=0\n",
        "number_of_testing=[]\n",
        "number=1\n",
        "\n",
        "for x in input_test_scaled:\n",
        "  testing_data.append([])\n",
        "  for y in x:\n",
        "    testing_data[counter].append(y)\n",
        "  counter+=1\n",
        "  number_of_testing.append(number)\n",
        "  number+=1\n",
        "\n",
        "total_of_testing=len(input_test_scaled)\n",
        "print(total_of_testing)\n",
        "print(number_of_testing)"
      ],
      "execution_count": 9,
      "outputs": [
        {
          "output_type": "stream",
          "text": [
            "36\n",
            "[1, 2, 3, 4, 5, 6, 7, 8, 9, 10, 11, 12, 13, 14, 15, 16, 17, 18, 19, 20, 21, 22, 23, 24, 25, 26, 27, 28, 29, 30, 31, 32, 33, 34, 35, 36]\n"
          ],
          "name": "stdout"
        }
      ]
    },
    {
      "cell_type": "code",
      "metadata": {
        "colab": {
          "base_uri": "https://localhost:8080/"
        },
        "id": "SqR-2CeXDCpj",
        "outputId": "252a435b-5b43-4ca1-f2bc-cccb8e8528cd"
      },
      "source": [
        "# Output dari data validasi\n",
        "output_test_transform=[]\n",
        "counter=0\n",
        "\n",
        "for i in output_test_scaled:\n",
        "  output_test_transform.append([])\n",
        "  for x in i:\n",
        "    output_test_transform[counter].append([])\n",
        "    output_test_transform[counter][0].append(i[0])\n",
        "  counter+=1\n",
        "\n",
        "print(output_test_transform)"
      ],
      "execution_count": 10,
      "outputs": [
        {
          "output_type": "stream",
          "text": [
            "[[[-0.0038809571335021234]], [[0.06980198626563151]], [[0.8291226743147699]], [[0.8925030904080039]], [[0.21090572592195714]], [[0.3129455702984651]], [[0.4204705824674938]], [[0.7653249218205567]], [[0.47984598737222517]], [[0.23605271728282226]], [[0.010825095163555247]], [[-0.0018817345505863902]], [[0.12881030672956043]], [[0.048247309681644195]], [[0.04350025038433119]], [[0.3091092621191269]], [[0.4421044015114109]], [[0.18983028144599576]], [[0.062279600505671294]], [[0.10840380864333717]], [[0.24422198759634542]], [[0.3756634309306943]], [[0.1176319595462966]], [[0.08221894796558354]], [[0.07315669856878217]], [[0.15744709536666424]], [[0.27697260830435527]], [[0.5711679816221403]], [[0.3619955105914323]], [[0.09673554862183562]], [[0.12422372102633061]], [[0.16139126141174742]], [[0.19128513697598762]], [[0.3392485318373307]], [[0.05219191346157213]], [[0.04133757761038798]]]\n"
          ],
          "name": "stdout"
        }
      ]
    },
    {
      "cell_type": "code",
      "metadata": {
        "colab": {
          "base_uri": "https://localhost:8080/"
        },
        "id": "ICBQpiycf4ru",
        "outputId": "e69c0cbf-e111-49d3-eec7-b7728a3701d4"
      },
      "source": [
        "# Prediksi data testing\n",
        "output_prediksi=[]\n",
        "output_testing=[]\n",
        "\n",
        "for i in range(total_of_testing):\n",
        "  input_prediksi=[]\n",
        "  input_prediksi.append([])\n",
        "  for y in testing_data[i]:\n",
        "    input_prediksi[0].append(y)\n",
        "  prediksi = model.predict(input_prediksi)\n",
        "  prediksi = scaler_output.inverse_transform(prediksi)\n",
        "  output_prediksi.append(prediksi[0][0])\n",
        "  testing = scaler_output.inverse_transform(output_test_transform[i])\n",
        "  output_testing.append(testing[0][0])\n",
        "\n",
        "print(output_prediksi)\n",
        "print(output_testing)"
      ],
      "execution_count": 11,
      "outputs": [
        {
          "output_type": "stream",
          "text": [
            "[384.95203, 13314.076, 97325.086, 102474.336, 36667.688, 42228.562, 52597.203, 93829.13, 48714.438, 26352.182, 5221.799, 7327.4033, 20518.3, 11588.692, 9801.121, 34762.63, 45036.66, 22263.832, 14042.673, 18068.916, 24656.762, 41298.465, 18144.188, 12189.812, 8065.1206, 19267.791, 34164.305, 63580.895, 44495.39, 14743.821, 18235.928, 25173.875, 15989.182, 28478.242, 8323.694, 5845.171]\n",
            "[1194.46, 9610.85, 96343.8, 103583.39, 25728.34, 37383.78, 49665.76, 89056.54, 56447.88, 28600.74, 2874.25, 1422.82, 16351.04, 7148.78, 6606.55, 36945.58, 52136.87, 23321.01, 8751.61, 14020.12, 29533.87, 44547.69, 15074.2, 11029.17, 9994.04, 19622.06, 33274.79, 66879.08, 42986.48, 12687.32, 15827.139999999998, 20072.58, 23487.19, 40388.22, 7599.349999999999, 6359.52]\n"
          ],
          "name": "stdout"
        }
      ]
    },
    {
      "cell_type": "code",
      "metadata": {
        "id": "EX53wZ35jSiW"
      },
      "source": [
        "# Split output prediksi dan validasi berdasarkan Kabupaten\n",
        "output_prediksi_lamongan = output_prediksi[:12]\n",
        "output_prediksi_banyuwangi = output_prediksi[12:24]\n",
        "output_prediksi_tuban = output_prediksi[24:36]\n",
        "output_testing_lamongan = output_testing[:12]\n",
        "output_testing_banyuwangi = output_testing[12:24]\n",
        "output_testing_tuban = output_testing[24:36]\n",
        "number_of_testing = number_of_testing[:12]"
      ],
      "execution_count": 12,
      "outputs": []
    },
    {
      "cell_type": "code",
      "metadata": {
        "id": "7yMucMFnjVkc",
        "colab": {
          "base_uri": "https://localhost:8080/",
          "height": 851
        },
        "outputId": "59188b70-8f69-495e-ee1b-829025b0585d"
      },
      "source": [
        "# Grafik garis dari total produksi beras tiap Kabupaten\n",
        "\n",
        "# Kabupaten Lamongan\n",
        "plt.plot(number_of_testing,output_prediksi_lamongan,marker='o')\n",
        "plt.plot(number_of_testing,output_testing_lamongan,marker='o')\n",
        "plt.title('Data Asli vs Prediksi Kabupaten Lamongan (2020)')\n",
        "plt.ylabel('Ton')\n",
        "plt.xlabel('Bulan')\n",
        "plt.show()\n",
        "\n",
        "# Kabupaten Banyuwangi\n",
        "plt.plot(number_of_testing,output_prediksi_banyuwangi,marker='o')\n",
        "plt.plot(number_of_testing,output_testing_banyuwangi,marker='o')\n",
        "plt.title('Data Asli vs Prediksi Kabupaten Banyuwangi (2020)')\n",
        "plt.ylabel('Ton')\n",
        "plt.xlabel('Bulan')\n",
        "plt.show()\n",
        "\n",
        "# Kabupaten Tuban\n",
        "plt.plot(number_of_testing,output_prediksi_tuban,marker='o')\n",
        "plt.plot(number_of_testing,output_testing_tuban,marker='o')\n",
        "plt.title('Data Asli vs Prediksi Kabupaten Tuban (2020)')\n",
        "plt.ylabel('Ton')\n",
        "plt.xlabel('Bulan')\n",
        "plt.show()"
      ],
      "execution_count": 13,
      "outputs": [
        {
          "output_type": "display_data",
          "data": {
            "image/png": "[encoded data removed]",
            "text/plain": [
              "<Figure size 432x288 with 1 Axes>"
            ]
          },
          "metadata": {
            "tags": [],
            "needs_background": "light"
          }
        },
        {
          "output_type": "display_data",
          "data": {
            "image/png": "[encoded data removed]",
            "text/plain": [
              "<Figure size 432x288 with 1 Axes>"
            ]
          },
          "metadata": {
            "tags": [],
            "needs_background": "light"
          }
        },
        {
          "output_type": "display_data",
          "data": {
            "image/png": "[encoded data removed]",
            "text/plain": [
              "<Figure size 432x288 with 1 Axes>"
            ]
          },
          "metadata": {
            "tags": [],
            "needs_background": "light"
          }
        }
      ]
    },
    {
      "cell_type": "code",
      "metadata": {
        "id": "DrPXoloikACs"
      },
      "source": [
        "# Input data Konsumsi\n",
        "input_konsumsi = []\n",
        "number=1\n",
        "\n",
        "# Baca file.csv\n",
        "with open('/content/Database.csv') as csv_file:\n",
        "  csv_reader = csv.reader(csv_file, delimiter=',')\n",
        "  next(csv_reader)\n",
        "  for row in csv_reader:\n",
        "    input_konsumsi.append(float(row[15]))\n",
        "    number+=1\n",
        "\n",
        "input_konsumsi_testing_lamongan = input_konsumsi[72:84]\n",
        "input_konsumsi_testing_banyuwangi = input_konsumsi[84:96]\n",
        "input_konsumsi_testing_tuban = input_konsumsi[96:108]"
      ],
      "execution_count": 14,
      "outputs": []
    },
    {
      "cell_type": "code",
      "metadata": {
        "id": "3WJevhigkINR",
        "colab": {
          "base_uri": "https://localhost:8080/"
        },
        "outputId": "7474514c-1516-4a8f-8839-11f78a4d3095"
      },
      "source": [
        "# Output Saran Kabupaten Lamongan\n",
        "counter=0\n",
        "\n",
        "for i in output_prediksi_lamongan:\n",
        "  total_beras_distribusi_lamongan = i - input_konsumsi_testing_lamongan[counter]\n",
        "  if (total_beras_distribusi_lamongan>0):\n",
        "    print(\"Pada bulan \"+str(counter+1)+\", Kabupaten Lamongan harus mendistribusikan beras sebesar \" +str(total_beras_distribusi_lamongan)+\" ke wilayah lain.\" )\n",
        "  elif (total_beras_distribusi_lamongan<0):\n",
        "    print(\"Pada bulan \"+str(counter+1)+\", Kabupaten Lamongan harus didistribusikan beras sebesar \" +str(abs(total_beras_distribusi_lamongan))+\" dari wilayah lain.\" )\n",
        "  else:\n",
        "    print(\"Pada bulan \"+str(counter+1)+\", Kabupaten Lamongan tidak perlu mendistribusikan atau didistribusikan beras.\")\n",
        "  counter+=1"
      ],
      "execution_count": 15,
      "outputs": [
        {
          "output_type": "stream",
          "text": [
            "Pada bulan 1, Kabupaten Lamongan harus didistribusikan beras sebesar 11514.497573632812 dari wilayah lain.\n",
            "Pada bulan 2, Kabupaten Lamongan harus mendistribusikan beras sebesar 2075.7071018749994 ke wilayah lain.\n",
            "Pada bulan 3, Kabupaten Lamongan harus mendistribusikan beras sebesar 85425.63633750001 ke wilayah lain.\n",
            "Pada bulan 4, Kabupaten Lamongan harus mendistribusikan beras sebesar 90905.4266075 ke wilayah lain.\n",
            "Pada bulan 5, Kabupaten Lamongan harus mendistribusikan beras sebesar 24768.2379 ke wilayah lain.\n",
            "Pada bulan 6, Kabupaten Lamongan harus mendistribusikan beras sebesar 30659.653169999998 ke wilayah lain.\n",
            "Pada bulan 7, Kabupaten Lamongan harus mendistribusikan beras sebesar 40697.753525 ke wilayah lain.\n",
            "Pada bulan 8, Kabupaten Lamongan harus mendistribusikan beras sebesar 81929.68321250001 ke wilayah lain.\n",
            "Pada bulan 9, Kabupaten Lamongan harus mendistribusikan beras sebesar 37145.52817 ke wilayah lain.\n",
            "Pada bulan 10, Kabupaten Lamongan harus mendistribusikan beras sebesar 14452.732040625 ke wilayah lain.\n",
            "Pada bulan 11, Kabupaten Lamongan harus didistribusikan beras sebesar 6347.110501875 dari wilayah lain.\n",
            "Pada bulan 12, Kabupaten Lamongan harus didistribusikan beras sebesar 4572.0462796875 dari wilayah lain.\n"
          ],
          "name": "stdout"
        }
      ]
    },
    {
      "cell_type": "code",
      "metadata": {
        "colab": {
          "base_uri": "https://localhost:8080/"
        },
        "id": "SvqPjANdmzcj",
        "outputId": "6f2cfd9b-89e2-4e01-e537-a94544589919"
      },
      "source": [
        "# Output Saran Kabupaten Banyuwangi\n",
        "counter=0\n",
        "\n",
        "for i in output_prediksi_banyuwangi:\n",
        "  total_beras_distribusi_banyuwangi = i - input_konsumsi_testing_banyuwangi[counter]\n",
        "  if (total_beras_distribusi_banyuwangi>0):\n",
        "    print(\"Pada bulan \"+str(counter+1)+\", Kabupaten Banyuwangi harus mendistribusikan beras sebesar \" +str(total_beras_distribusi_banyuwangi)+\" ke wilayah lain.\" )\n",
        "  elif (total_beras_distribusi_banyuwangi<0):\n",
        "    print(\"Pada bulan \"+str(counter+1)+\", Kabupaten Banyuwangi harus didistribusikan beras sebesar \" +str(abs(total_beras_distribusi_banyuwangi))+\" dari wilayah lain.\" )\n",
        "  else:\n",
        "    print(\"Pada bulan \"+str(counter+1)+\", Kabupaten Banyuwangi tidak perlu mendistribusikan atau didistribusikan beras.\")\n",
        "  counter+=1"
      ],
      "execution_count": 16,
      "outputs": [
        {
          "output_type": "stream",
          "text": [
            "Pada bulan 1, Kabupaten Banyuwangi harus mendistribusikan beras sebesar 5396.93067125 ke wilayah lain.\n",
            "Pada bulan 2, Kabupaten Banyuwangi harus didistribusikan beras sebesar 2692.6016071875 dari wilayah lain.\n",
            "Pada bulan 3, Kabupaten Banyuwangi harus didistribusikan beras sebesar 5320.24901625 dari wilayah lain.\n",
            "Pada bulan 4, Kabupaten Banyuwangi harus mendistribusikan beras sebesar 20061.29685625 ke wilayah lain.\n",
            "Pada bulan 5, Kabupaten Banyuwangi harus mendistribusikan beras sebesar 29915.29004625 ke wilayah lain.\n",
            "Pada bulan 6, Kabupaten Banyuwangi harus mendistribusikan beras sebesar 7562.499981249999 ke wilayah lain.\n",
            "Pada bulan 7, Kabupaten Banyuwangi harus didistribusikan beras sebesar 1078.6972584374998 dari wilayah lain.\n",
            "Pada bulan 8, Kabupaten Banyuwangi harus mendistribusikan beras sebesar 2947.545905625 ke wilayah lain.\n",
            "Pada bulan 9, Kabupaten Banyuwangi harus mendistribusikan beras sebesar 9955.42966875 ke wilayah lain.\n",
            "Pada bulan 10, Kabupaten Banyuwangi harus mendistribusikan beras sebesar 26177.09473375 ke wilayah lain.\n",
            "Pada bulan 11, Kabupaten Banyuwangi harus mendistribusikan beras sebesar 3442.855449999999 ke wilayah lain.\n",
            "Pada bulan 12, Kabupaten Banyuwangi harus didistribusikan beras sebesar 2931.5585865625 dari wilayah lain.\n"
          ],
          "name": "stdout"
        }
      ]
    },
    {
      "cell_type": "code",
      "metadata": {
        "colab": {
          "base_uri": "https://localhost:8080/"
        },
        "id": "LiVhus2Sm2oY",
        "outputId": "395b903f-10d6-4d6b-9049-dbaeb17a3999"
      },
      "source": [
        "# Output Saran Kabupaten Tuban\n",
        "counter=0\n",
        "\n",
        "for i in output_prediksi_tuban:\n",
        "  total_beras_distribusi_tuban = i - input_konsumsi_testing_tuban[counter]\n",
        "  if (total_beras_distribusi_tuban>0):\n",
        "    print(\"Pada bulan \"+str(counter+1)+\", Kabupaten Tuban harus mendistribusikan beras sebesar \" +str(total_beras_distribusi_tuban)+\" ke wilayah lain.\" )\n",
        "  elif (total_beras_distribusi_tuban<0):\n",
        "    print(\"Pada bulan \"+str(counter+1)+\", Kabupaten Tuban harus didistribusikan beras sebesar \" +str(abs(total_beras_distribusi_tuban))+\" dari wilayah lain.\" )\n",
        "  else:\n",
        "    print(\"Pada bulan \"+str(counter+1)+\", Kabupaten Tuban tidak perlu mendistribusikan atau didistribusikan beras.\")\n",
        "  counter+=1"
      ],
      "execution_count": 17,
      "outputs": [
        {
          "output_type": "stream",
          "text": [
            "Pada bulan 1, Kabupaten Tuban harus didistribusikan beras sebesar 2540.48466453125 dari wilayah lain.\n",
            "Pada bulan 2, Kabupaten Tuban harus mendistribusikan beras sebesar 9251.386035625 ke wilayah lain.\n",
            "Pada bulan 3, Kabupaten Tuban harus mendistribusikan beras sebesar 23558.6994175 ke wilayah lain.\n",
            "Pada bulan 4, Kabupaten Tuban harus mendistribusikan beras sebesar 53269.88940125 ke wilayah lain.\n",
            "Pada bulan 5, Kabupaten Tuban harus mendistribusikan beras sebesar 33889.785355 ke wilayah lain.\n",
            "Pada bulan 6, Kabupaten Tuban harus mendistribusikan beras sebesar 4432.8161590625 ke wilayah lain.\n",
            "Pada bulan 7, Kabupaten Tuban harus mendistribusikan beras sebesar 7630.322464375 ke wilayah lain.\n",
            "Pada bulan 8, Kabupaten Tuban harus mendistribusikan beras sebesar 14568.26973 ke wilayah lain.\n",
            "Pada bulan 9, Kabupaten Tuban harus mendistribusikan beras sebesar 5678.176510625 ke wilayah lain.\n",
            "Pada bulan 10, Kabupaten Tuban harus mendistribusikan beras sebesar 17872.6369175 ke wilayah lain.\n",
            "Pada bulan 11, Kabupaten Tuban harus didistribusikan beras sebesar 1987.3107940624996 dari wilayah lain.\n",
            "Pada bulan 12, Kabupaten Tuban harus didistribusikan beras sebesar 4760.4343715625 dari wilayah lain.\n"
          ],
          "name": "stdout"
        }
      ]
    }
  ]
}