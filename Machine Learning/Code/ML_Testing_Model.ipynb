{
  "nbformat": 4,
  "nbformat_minor": 0,
  "metadata": {
    "colab": {
      "name": "ML-Testing_Model.ipynb",
      "provenance": [],
      "collapsed_sections": [],
      "authorship_tag": "ABX9TyNt9fC9Hl0ZoN7DKO5+pfB7",
      "include_colab_link": true
    },
    "kernelspec": {
      "name": "python3",
      "display_name": "Python 3"
    },
    "language_info": {
      "name": "python"
    }
  },
  "cells": [
    {
      "cell_type": "markdown",
      "metadata": {
        "id": "view-in-github",
        "colab_type": "text"
      },
      "source": [
        "<a href=\"https://colab.research.google.com/github/u1-byte/SmartRicePriceControl/blob/main/Machine%20Learning/Code/ML_Testing_Model.ipynb\" target=\"_parent\"><img src=\"https://colab.research.google.com/assets/colab-badge.svg\" alt=\"Open In Colab\"/></a>"
      ]
    },
    {
      "cell_type": "markdown",
      "metadata": {
        "id": "UuYeoqZRwR24"
      },
      "source": [
        "MODEL UNTUK MEMPREDIKSI TOTAL PRODUKSI BERAS PADA WILAYAH TERTENTU\n",
        "\n",
        "1.   Input : Suhu, kelembaban, curah hujan, lama penyinaran, luas lahan\n",
        "2.   Output : Total produksi beras\n",
        "3.   Scope Input dan Output :  Data diambail rata rata dalam tiap bulan pada 3 kabupaten (Lamongan, Banyuwangi, Tuban) di Jawa Timur \n",
        "4.   Sumber : https://dataonline.bmkg.go.id/data_iklim,  https://jatim.bps.go.id/publication/2020/12/28/53ad74b4263660ce4adf0ed3/analisis-data-beras-provinsi-jawa-timur-2018-2020.html"
      ]
    },
    {
      "cell_type": "code",
      "metadata": {
        "id": "Lgr_c2TTfHW3"
      },
      "source": [
        "# Import library yang dibutuhkan\n",
        "import tensorflow as tf\n",
        "from tensorflow import keras\n",
        "import numpy as np\n",
        "import matplotlib.pyplot as plt\n",
        "from google.colab import files\n",
        "import csv\n",
        "from sklearn.preprocessing import MinMaxScaler"
      ],
      "execution_count": 6,
      "outputs": []
    },
    {
      "cell_type": "code",
      "metadata": {
        "colab": {
          "resources": {
            "http://localhost:8080/nbextensions/google.colab/files.js": {
              "data": "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",
              "ok": true,
              "headers": [
                [
                  "content-type",
                  "application/javascript"
                ]
              ],
              "status": 200,
              "status_text": ""
            }
          },
          "base_uri": "https://localhost:8080/",
          "height": 73
        },
        "id": "Kuj4p4Ggcoyb",
        "outputId": "70e69934-19c6-4187-db05-f8fc192d43db"
      },
      "source": [
        "# Upload file dataset dari lokal\n",
        "from google.colab import files\n",
        "uploaded = files.upload()"
      ],
      "execution_count": 4,
      "outputs": [
        {
          "output_type": "display_data",
          "data": {
            "text/html": [
              "\n",
              "     <input type=\"file\" id=\"files-32816607-9da2-4fed-b569-41aa5275c64e\" name=\"files[]\" multiple disabled\n",
              "        style=\"border:none\" />\n",
              "     <output id=\"result-32816607-9da2-4fed-b569-41aa5275c64e\">\n",
              "      Upload widget is only available when the cell has been executed in the\n",
              "      current browser session. Please rerun this cell to enable.\n",
              "      </output>\n",
              "      <script src=\"/nbextensions/google.colab/files.js\"></script> "
            ],
            "text/plain": [
              "<IPython.core.display.HTML object>"
            ]
          },
          "metadata": {
            "tags": []
          }
        },
        {
          "output_type": "stream",
          "text": [
            "Saving model.h5 to model.h5\n"
          ],
          "name": "stdout"
        }
      ]
    },
    {
      "cell_type": "code",
      "metadata": {
        "id": "wGbtzth-dTS8"
      },
      "source": [
        "# Load the model\n",
        "model = tf.keras.models.load_model('model.h5')"
      ],
      "execution_count": 7,
      "outputs": []
    },
    {
      "cell_type": "code",
      "metadata": {
        "colab": {
          "base_uri": "https://localhost:8080/"
        },
        "id": "J3Aa-RU9_Hft",
        "outputId": "8b1300fa-c367-4a17-e012-af5f496572a0"
      },
      "source": [
        "# Input dari data pada database\n",
        "input = []\n",
        "counter=0\n",
        "\n",
        "# Baca file.csv\n",
        "with open('/content/Database.csv') as csv_file:\n",
        "  csv_reader = csv.reader(csv_file, delimiter=',')\n",
        "  next(csv_reader)\n",
        "  for row in csv_reader:\n",
        "    input.append([])\n",
        "    input[counter].append(float(row[0]))\n",
        "    input[counter].append(float(row[1]))\n",
        "    input[counter].append(float(row[2]))\n",
        "    input[counter].append(float(row[7]))\n",
        "    input[counter].append(float(row[10]))\n",
        "    input[counter].append(float(row[11]))\n",
        "    input[counter].append(float(row[12]))\n",
        "    input[counter].append(float(row[13]))\n",
        "    counter+=1\n",
        "\n",
        "input = np.array(input)\n",
        "\n",
        "print(input)"
      ],
      "execution_count": 8,
      "outputs": [
        {
          "output_type": "stream",
          "text": [
            "[[1.0000e+00 0.0000e+00 0.0000e+00 2.7690e+01 8.1610e+01 1.0880e+01\n",
            "  3.4400e+00 1.3850e+03]\n",
            " [1.0000e+00 0.0000e+00 0.0000e+00 2.7210e+01 8.3070e+01 1.7450e+01\n",
            "  5.4100e+00 2.3129e+04]\n",
            " [1.0000e+00 0.0000e+00 0.0000e+00 2.7640e+01 8.3290e+01 1.6030e+01\n",
            "  5.2000e+00 3.0824e+04]\n",
            " [1.0000e+00 0.0000e+00 0.0000e+00 2.8960e+01 7.7000e+01 1.0370e+01\n",
            "  8.1400e+00 8.1840e+03]\n",
            " [1.0000e+00 0.0000e+00 0.0000e+00 2.8750e+01 7.4480e+01 0.0000e+00\n",
            "  8.1100e+00 1.3213e+04]\n",
            " [1.0000e+00 0.0000e+00 0.0000e+00 2.7910e+01 7.5970e+01 4.6100e+00\n",
            "  8.1900e+00 1.8685e+04]\n",
            " [1.0000e+00 0.0000e+00 0.0000e+00 2.6660e+01 7.4260e+01 0.0000e+00\n",
            "  9.0400e+00 8.6520e+03]\n",
            " [1.0000e+00 0.0000e+00 0.0000e+00 2.6670e+01 7.1900e+01 0.0000e+00\n",
            "  8.9500e+00 1.6081e+04]\n",
            " [1.0000e+00 0.0000e+00 0.0000e+00 2.8050e+01 6.8300e+01 7.2000e-01\n",
            "  8.0000e+00 2.0726e+04]\n",
            " [1.0000e+00 0.0000e+00 0.0000e+00 2.9350e+01 6.7000e+01 0.0000e+00\n",
            "  8.7300e+00 2.2540e+03]\n",
            " [1.0000e+00 0.0000e+00 0.0000e+00 2.9510e+01 7.3500e+01 6.9700e+00\n",
            "  6.3500e+00 6.9000e+02]\n",
            " [1.0000e+00 0.0000e+00 0.0000e+00 2.9030e+01 7.7290e+01 1.6100e+01\n",
            "  3.7600e+00 8.3600e+02]\n",
            " [0.0000e+00 1.0000e+00 0.0000e+00 2.7610e+01 8.1120e+01 2.2050e+01\n",
            "  3.1900e+00 4.4110e+03]\n",
            " [0.0000e+00 1.0000e+00 0.0000e+00 2.7630e+01 7.9700e+01 1.5340e+01\n",
            "  5.6000e+00 2.7020e+03]\n",
            " [0.0000e+00 1.0000e+00 0.0000e+00 2.8310e+01 7.4280e+01 1.3840e+01\n",
            "  6.4500e+00 1.2480e+04]\n",
            " [0.0000e+00 1.0000e+00 0.0000e+00 2.9600e+01 7.1200e+01 6.2500e+00\n",
            "  8.7000e+00 1.2586e+04]\n",
            " [0.0000e+00 1.0000e+00 0.0000e+00 2.8100e+01 7.6220e+01 9.8000e-01\n",
            "  7.5800e+00 7.3710e+03]\n",
            " [0.0000e+00 1.0000e+00 0.0000e+00 2.7110e+01 7.8320e+01 3.0100e+00\n",
            "  6.7700e+00 3.0820e+03]\n",
            " [0.0000e+00 1.0000e+00 0.0000e+00 2.6320e+01 7.7350e+01 4.5100e+00\n",
            "  6.9900e+00 6.2150e+03]\n",
            " [0.0000e+00 1.0000e+00 0.0000e+00 2.5670e+01 7.9350e+01 4.3100e+00\n",
            "  6.1200e+00 8.9510e+03]\n",
            " [0.0000e+00 1.0000e+00 0.0000e+00 2.7140e+01 7.2460e+01 1.6300e+00\n",
            "  8.4900e+00 8.5260e+03]\n",
            " [0.0000e+00 1.0000e+00 0.0000e+00 2.8780e+01 7.0030e+01 1.4000e-01\n",
            "  9.7300e+00 6.5300e+03]\n",
            " [0.0000e+00 1.0000e+00 0.0000e+00 2.9210e+01 7.5370e+01 1.8400e+01\n",
            "  7.7800e+00 5.2360e+03]\n",
            " [0.0000e+00 1.0000e+00 0.0000e+00 2.9150e+01 7.5230e+01 4.6500e+00\n",
            "  4.4900e+00 6.2710e+03]\n",
            " [0.0000e+00 0.0000e+00 1.0000e+00 2.7100e+01 8.5000e+01 6.0100e+00\n",
            "  2.9100e+00 2.8590e+03]\n",
            " [0.0000e+00 0.0000e+00 1.0000e+00 2.6500e+01 8.7500e+01 1.2300e+01\n",
            "  3.8600e+00 5.6580e+03]\n",
            " [0.0000e+00 0.0000e+00 1.0000e+00 2.7200e+01 8.5530e+01 7.9500e+00\n",
            "  5.7500e+00 2.8266e+04]\n",
            " [0.0000e+00 0.0000e+00 1.0000e+00 2.8290e+01 8.0600e+01 3.2100e+00\n",
            "  7.9700e+00 1.7112e+04]\n",
            " [0.0000e+00 0.0000e+00 1.0000e+00 2.8310e+01 7.5130e+01 6.8000e-01\n",
            "  7.8100e+00 1.7640e+03]\n",
            " [0.0000e+00 0.0000e+00 1.0000e+00 2.7770e+01 7.3370e+01 3.5000e-01\n",
            "  7.6400e+00 6.6620e+03]\n",
            " [0.0000e+00 0.0000e+00 1.0000e+00 2.7100e+01 6.9350e+01 5.1000e-01\n",
            "  8.7600e+00 7.7030e+03]\n",
            " [0.0000e+00 0.0000e+00 1.0000e+00 2.7180e+01 6.6030e+01 0.0000e+00\n",
            "  8.9300e+00 3.9210e+03]\n",
            " [0.0000e+00 0.0000e+00 1.0000e+00 2.8230e+01 6.5700e+01 6.0000e-02\n",
            "  7.9900e+00 7.6120e+03]\n",
            " [0.0000e+00 0.0000e+00 1.0000e+00 2.9140e+01 6.6680e+01 5.5000e-01\n",
            "  7.9500e+00 9.6590e+03]\n",
            " [0.0000e+00 0.0000e+00 1.0000e+00 2.9170e+01 7.2600e+01 4.7700e+00\n",
            "  6.9900e+00 2.6600e+03]\n",
            " [0.0000e+00 0.0000e+00 1.0000e+00 2.8050e+01 7.9970e+01 8.0600e+00\n",
            "  4.3600e+00 1.9800e+03]\n",
            " [1.0000e+00 0.0000e+00 0.0000e+00 2.7840e+01 8.2130e+01 1.6260e+01\n",
            "  4.5200e+00 3.0730e+03]\n",
            " [1.0000e+00 0.0000e+00 0.0000e+00 2.8000e+01 8.1930e+01 1.7350e+01\n",
            "  5.7700e+00 9.0750e+03]\n",
            " [1.0000e+00 0.0000e+00 0.0000e+00 2.7680e+01 8.3700e+01 1.1450e+01\n",
            "  4.8700e+00 2.9694e+04]\n",
            " [1.0000e+00 0.0000e+00 0.0000e+00 2.8370e+01 8.3600e+01 1.2790e+01\n",
            "  6.0900e+00 2.1653e+04]\n",
            " [1.0000e+00 0.0000e+00 0.0000e+00 2.8460e+01 7.7310e+01 1.8000e+00\n",
            "  8.5900e+00 5.3600e+03]\n",
            " [1.0000e+00 0.0000e+00 0.0000e+00 2.7130e+01 7.6330e+01 0.0000e+00\n",
            "  8.2500e+00 2.1491e+04]\n",
            " [1.0000e+00 0.0000e+00 0.0000e+00 2.6490e+01 7.5000e+01 3.0000e-02\n",
            "  8.6000e+00 1.2940e+04]\n",
            " [1.0000e+00 0.0000e+00 0.0000e+00 2.6660e+01 7.2290e+01 0.0000e+00\n",
            "  9.4000e+00 1.6634e+04]\n",
            " [1.0000e+00 0.0000e+00 0.0000e+00 2.7300e+01 7.0900e+01 0.0000e+00\n",
            "  9.2700e+00 1.4583e+04]\n",
            " [1.0000e+00 0.0000e+00 0.0000e+00 2.8890e+01 6.8000e+01 0.0000e+00\n",
            "  9.4700e+00 4.1990e+03]\n",
            " [1.0000e+00 0.0000e+00 0.0000e+00 3.0250e+01 6.7730e+01 8.8000e-01\n",
            "  8.8800e+00 1.3500e+03]\n",
            " [1.0000e+00 0.0000e+00 0.0000e+00 2.9860e+01 7.4890e+01 7.0800e+00\n",
            "  6.6200e+00 4.1100e+02]\n",
            " [0.0000e+00 1.0000e+00 0.0000e+00 2.8080e+01 8.0210e+01 1.0710e+01\n",
            "  4.9500e+00 7.5590e+03]\n",
            " [0.0000e+00 1.0000e+00 0.0000e+00 2.8350e+01 7.6960e+01 4.8800e+00\n",
            "  6.2700e+00 3.1290e+03]\n",
            " [0.0000e+00 1.0000e+00 0.0000e+00 2.7920e+01 8.0130e+01 8.7800e+00\n",
            "  4.9800e+00 7.5870e+03]\n",
            " [0.0000e+00 1.0000e+00 0.0000e+00 2.8610e+01 7.9430e+01 1.0800e+01\n",
            "  6.9000e+00 1.5779e+04]\n",
            " [0.0000e+00 1.0000e+00 0.0000e+00 2.8150e+01 7.8190e+01 1.1300e+00\n",
            "  8.2100e+00 9.7290e+03]\n",
            " [0.0000e+00 1.0000e+00 0.0000e+00 2.6560e+01 7.8800e+01 7.4000e-01\n",
            "  7.4600e+00 3.3760e+03]\n",
            " [0.0000e+00 1.0000e+00 0.0000e+00 2.5870e+01 7.8610e+01 0.0000e+00\n",
            "  7.6000e+00 3.1740e+03]\n",
            " [0.0000e+00 1.0000e+00 0.0000e+00 2.5960e+01 7.7230e+01 3.9000e-01\n",
            "  7.9600e+00 6.7740e+03]\n",
            " [0.0000e+00 1.0000e+00 0.0000e+00 2.6240e+01 7.7700e+01 1.1900e+00\n",
            "  8.6600e+00 8.8550e+03]\n",
            " [0.0000e+00 1.0000e+00 0.0000e+00 2.8120e+01 7.1710e+01 0.0000e+00\n",
            "  9.5500e+00 8.8880e+03]\n",
            " [0.0000e+00 1.0000e+00 0.0000e+00 2.9280e+01 7.0670e+01 1.3000e-01\n",
            "  9.6300e+00 4.0630e+03]\n",
            " [0.0000e+00 1.0000e+00 0.0000e+00 3.0160e+01 6.9970e+01 5.6000e-01\n",
            "  8.0000e+00 2.6400e+03]\n",
            " [0.0000e+00 0.0000e+00 1.0000e+00 2.7240e+01 8.5290e+01 1.5510e+01\n",
            "  4.1800e+00 3.7720e+03]\n",
            " [0.0000e+00 0.0000e+00 1.0000e+00 2.7620e+01 8.4610e+01 8.2000e+00\n",
            "  6.3000e+00 5.9280e+03]\n",
            " [0.0000e+00 0.0000e+00 1.0000e+00 2.7080e+01 8.5130e+01 1.0020e+01\n",
            "  5.4100e+00 1.3357e+04]\n",
            " [0.0000e+00 0.0000e+00 1.0000e+00 2.8090e+01 8.3370e+01 1.6240e+01\n",
            "  7.0500e+00 2.7854e+04]\n",
            " [0.0000e+00 0.0000e+00 1.0000e+00 2.8120e+01 7.8290e+01 6.6800e+00\n",
            "  8.7700e+00 6.6650e+03]\n",
            " [0.0000e+00 0.0000e+00 1.0000e+00 2.7220e+01 7.4130e+01 2.0000e-01\n",
            "  8.1800e+00 3.7040e+03]\n",
            " [0.0000e+00 0.0000e+00 1.0000e+00 2.6450e+01 7.2940e+01 2.4000e-01\n",
            "  8.3500e+00 7.3220e+03]\n",
            " [0.0000e+00 0.0000e+00 1.0000e+00 2.6700e+01 7.0900e+01 0.0000e+00\n",
            "  8.7600e+00 5.1790e+03]\n",
            " [0.0000e+00 0.0000e+00 1.0000e+00 2.7280e+01 7.0130e+01 0.0000e+00\n",
            "  8.9400e+00 3.1750e+03]\n",
            " [0.0000e+00 0.0000e+00 1.0000e+00 2.8850e+01 6.6900e+01 2.1000e-01\n",
            "  8.4300e+00 1.0103e+04]\n",
            " [0.0000e+00 0.0000e+00 1.0000e+00 2.9800e+01 6.7770e+01 3.3400e+00\n",
            "  9.2700e+00 2.9910e+03]\n",
            " [0.0000e+00 0.0000e+00 1.0000e+00 2.9070e+01 7.6940e+01 4.0200e+00\n",
            "  6.6500e+00 1.1520e+03]\n",
            " [1.0000e+00 0.0000e+00 0.0000e+00 2.8380e+01 8.1840e+01 1.1450e+01\n",
            "  5.0400e+00 3.3300e+02]\n",
            " [1.0000e+00 0.0000e+00 0.0000e+00 2.7680e+01 8.5450e+01 1.8840e+01\n",
            "  4.7200e+00 2.6760e+03]\n",
            " [1.0000e+00 0.0000e+00 0.0000e+00 2.8190e+01 8.3770e+01 1.0530e+01\n",
            "  5.5400e+00 2.6873e+04]\n",
            " [1.0000e+00 0.0000e+00 0.0000e+00 2.8540e+01 8.2600e+01 1.3420e+01\n",
            "  6.2800e+00 2.8882e+04]\n",
            " [1.0000e+00 0.0000e+00 0.0000e+00 2.8390e+01 8.2580e+01 1.8130e+01\n",
            "  7.0400e+00 8.3130e+03]\n",
            " [1.0000e+00 0.0000e+00 0.0000e+00 2.7680e+01 7.9660e+01 1.8100e+00\n",
            "  7.4200e+00 1.2092e+04]\n",
            " [1.0000e+00 0.0000e+00 0.0000e+00 2.7280e+01 7.6170e+01 1.0000e-01\n",
            "  8.2500e+00 1.6057e+04]\n",
            " [1.0000e+00 0.0000e+00 0.0000e+00 2.7540e+01 7.5770e+01 8.8000e-01\n",
            "  8.6500e+00 2.8751e+04]\n",
            " [1.0000e+00 0.0000e+00 0.0000e+00 2.8720e+01 7.0880e+01 0.0000e+00\n",
            "  9.0100e+00 1.4188e+04]\n",
            " [1.0000e+00 0.0000e+00 0.0000e+00 2.9180e+01 7.2970e+01 1.9900e+00\n",
            "  7.0300e+00 7.1850e+03]\n",
            " [1.0000e+00 0.0000e+00 0.0000e+00 2.9170e+01 7.6730e+01 6.7000e+00\n",
            "  6.2900e+00 7.2200e+02]\n",
            " [1.0000e+00 0.0000e+00 0.0000e+00 2.7260e+01 8.5060e+01 2.1840e+01\n",
            "  3.2700e+00 3.5700e+02]\n",
            " [0.0000e+00 1.0000e+00 0.0000e+00 2.8770e+01 7.4520e+01 5.4500e+00\n",
            "  6.5600e+00 5.1790e+03]\n",
            " [0.0000e+00 1.0000e+00 0.0000e+00 2.8110e+01 7.9890e+01 1.1020e+01\n",
            "  5.6700e+00 2.2640e+03]\n",
            " [0.0000e+00 1.0000e+00 0.0000e+00 2.8100e+01 8.0520e+01 8.8300e+00\n",
            "  5.5700e+00 2.0930e+03]\n",
            " [0.0000e+00 1.0000e+00 0.0000e+00 2.8910e+01 7.7100e+01 1.7700e+00\n",
            "  6.9700e+00 1.1703e+04]\n",
            " [0.0000e+00 1.0000e+00 0.0000e+00 2.8140e+01 8.1450e+01 7.7600e+00\n",
            "  6.1700e+00 1.6607e+04]\n",
            " [0.0000e+00 1.0000e+00 0.0000e+00 2.6970e+01 7.9930e+01 3.3700e+00\n",
            "  7.4500e+00 7.4280e+03]\n",
            " [0.0000e+00 1.0000e+00 0.0000e+00 2.6320e+01 8.0270e+01 3.1500e+00\n",
            "  7.2900e+00 2.7880e+03]\n",
            " [0.0000e+00 1.0000e+00 0.0000e+00 2.6360e+01 8.1030e+01 2.5400e+00\n",
            "  7.4100e+00 4.4660e+03]\n",
            " [0.0000e+00 1.0000e+00 0.0000e+00 2.7120e+01 7.8820e+01 2.5500e+00\n",
            "  8.3100e+00 9.5920e+03]\n",
            " [0.0000e+00 1.0000e+00 0.0000e+00 2.7540e+01 8.0610e+01 1.0290e+01\n",
            "  6.8500e+00 1.4468e+04]\n",
            " [0.0000e+00 1.0000e+00 0.0000e+00 2.8640e+01 7.7170e+01 1.8900e+00\n",
            "  7.2200e+00 4.8960e+03]\n",
            " [0.0000e+00 1.0000e+00 0.0000e+00 2.7340e+01 8.1420e+01 5.7400e+00\n",
            "  3.9500e+00 3.5820e+03]\n",
            " [0.0000e+00 0.0000e+00 1.0000e+00 2.8040e+01 8.1970e+01 3.9900e+00\n",
            "  4.8200e+00 3.1830e+03]\n",
            " [0.0000e+00 0.0000e+00 1.0000e+00 2.7800e+01 8.3970e+01 8.1500e+00\n",
            "  4.8600e+00 6.2500e+03]\n",
            " [0.0000e+00 0.0000e+00 1.0000e+00 2.8230e+01 8.2870e+01 7.5900e+00\n",
            "  6.5000e+00 1.0599e+04]\n",
            " [0.0000e+00 0.0000e+00 1.0000e+00 2.8210e+01 8.4230e+01 1.0160e+01\n",
            "  6.4600e+00 2.1304e+04]\n",
            " [0.0000e+00 0.0000e+00 1.0000e+00 2.8220e+01 8.3060e+01 4.1800e+00\n",
            "  6.9000e+00 1.5556e+04]\n",
            " [0.0000e+00 0.0000e+00 1.0000e+00 2.7600e+01 7.9970e+01 1.2300e+00\n",
            "  7.2700e+00 4.5910e+03]\n",
            " [0.0000e+00 0.0000e+00 1.0000e+00 2.7210e+01 7.5350e+01 1.8200e+00\n",
            "  8.2300e+00 5.7270e+03]\n",
            " [0.0000e+00 0.0000e+00 1.0000e+00 2.7350e+01 7.6130e+01 2.9000e+00\n",
            "  8.8000e+00 7.2640e+03]\n",
            " [0.0000e+00 0.0000e+00 1.0000e+00 2.8400e+01 7.1440e+01 4.0000e-01\n",
            "  8.5300e+00 5.4160e+03]\n",
            " [0.0000e+00 0.0000e+00 1.0000e+00 2.8730e+01 7.2970e+01 1.9500e+00\n",
            "  6.2500e+00 9.3130e+03]\n",
            " [0.0000e+00 0.0000e+00 1.0000e+00 2.8820e+01 7.7000e+01 8.9200e+00\n",
            "  6.6100e+00 1.7520e+03]\n",
            " [0.0000e+00 0.0000e+00 1.0000e+00 2.7200e+01 8.4290e+01 1.3010e+01\n",
            "  3.0700e+00 1.4660e+03]]\n"
          ],
          "name": "stdout"
        }
      ]
    },
    {
      "cell_type": "code",
      "metadata": {
        "colab": {
          "base_uri": "https://localhost:8080/"
        },
        "id": "kQZcS4Cv_NnX",
        "outputId": "0d6b9c29-1c2c-49ea-bb59-2c80f0c60e78"
      },
      "source": [
        "# Output dari data pada database\n",
        "output = []\n",
        "counter=0\n",
        "\n",
        "# Baca file.csv\n",
        "with open('/content/Database.csv') as csv_file:\n",
        "  csv_reader = csv.reader(csv_file, delimiter=',')\n",
        "  next(csv_reader)\n",
        "  for row in csv_reader:\n",
        "    output.append([])\n",
        "    output[counter].append(float(row[14]))\n",
        "    counter+=1\n",
        "\n",
        "output = np.array(output)\n",
        "\n",
        "print(output)"
      ],
      "execution_count": 9,
      "outputs": [
        {
          "output_type": "stream",
          "text": [
            "[[  5209.48]\n",
            " [ 86975.4 ]\n",
            " [115862.16]\n",
            " [ 30774.59]\n",
            " [ 43242.82]\n",
            " [ 61068.1 ]\n",
            " [ 28292.76]\n",
            " [ 52681.05]\n",
            " [ 76667.7 ]\n",
            " [  8336.23]\n",
            " [  2551.31]\n",
            " [  3091.78]\n",
            " [ 15928.9 ]\n",
            " [  9757.82]\n",
            " [ 45069.81]\n",
            " [ 45451.84]\n",
            " [ 26473.66]\n",
            " [ 11069.01]\n",
            " [ 22321.44]\n",
            " [ 32151.33]\n",
            " [ 28035.94]\n",
            " [ 21473.32]\n",
            " [ 17215.7 ]\n",
            " [ 20620.07]\n",
            " [  8919.26]\n",
            " [ 17647.85]\n",
            " [ 88166.98]\n",
            " [ 53368.58]\n",
            " [  5963.89]\n",
            " [ 22567.4 ]\n",
            " [ 26090.58]\n",
            " [ 13280.79]\n",
            " [ 30596.29]\n",
            " [ 38858.77]\n",
            " [ 10700.88]\n",
            " [  7964.59]\n",
            " [ 10558.09]\n",
            " [ 31180.56]\n",
            " [101956.71]\n",
            " [ 74319.36]\n",
            " [ 17322.18]\n",
            " [ 69561.05]\n",
            " [ 41828.82]\n",
            " [ 53880.42]\n",
            " [ 58044.09]\n",
            " [ 16713.73]\n",
            " [  5373.29]\n",
            " [  1637.76]\n",
            " [ 24683.18]\n",
            " [ 10217.73]\n",
            " [ 24777.63]\n",
            " [ 51528.42]\n",
            " [ 29243.91]\n",
            " [ 10147.88]\n",
            " [  9540.8 ]\n",
            " [ 20361.59]\n",
            " [ 27265.68]\n",
            " [ 27366.8 ]\n",
            " [ 12511.74]\n",
            " [  8128.77]\n",
            " [ 11590.42]\n",
            " [ 18216.62]\n",
            " [ 41044.27]\n",
            " [ 85570.82]\n",
            " [ 19437.87]\n",
            " [ 10804.02]\n",
            " [ 21359.23]\n",
            " [ 15103.27]\n",
            " [ 13768.52]\n",
            " [ 43813.82]\n",
            " [ 12969.53]\n",
            " [  4995.64]\n",
            " [  1194.46]\n",
            " [  9610.85]\n",
            " [ 96343.8 ]\n",
            " [103583.39]\n",
            " [ 25728.34]\n",
            " [ 37383.78]\n",
            " [ 49665.76]\n",
            " [ 89056.54]\n",
            " [ 56447.88]\n",
            " [ 28600.74]\n",
            " [  2874.25]\n",
            " [  1422.82]\n",
            " [ 16351.04]\n",
            " [  7148.78]\n",
            " [  6606.55]\n",
            " [ 36945.58]\n",
            " [ 52136.87]\n",
            " [ 23321.01]\n",
            " [  8751.61]\n",
            " [ 14020.12]\n",
            " [ 29533.87]\n",
            " [ 44547.69]\n",
            " [ 15074.2 ]\n",
            " [ 11029.17]\n",
            " [  9994.04]\n",
            " [ 19622.06]\n",
            " [ 33274.79]\n",
            " [ 66879.08]\n",
            " [ 42986.48]\n",
            " [ 12687.32]\n",
            " [ 15827.14]\n",
            " [ 20072.58]\n",
            " [ 23487.19]\n",
            " [ 40388.22]\n",
            " [  7599.35]\n",
            " [  6359.52]]\n"
          ],
          "name": "stdout"
        }
      ]
    },
    {
      "cell_type": "code",
      "metadata": {
        "colab": {
          "base_uri": "https://localhost:8080/"
        },
        "id": "5Lf8014mfY0m",
        "outputId": "66fe2233-8bfa-42b5-cbcb-28145ca6123e"
      },
      "source": [
        "# Bagi data untuk training, validasi dan testing\n",
        "split_scaled = 72\n",
        "\n",
        "input_scaled = input[:split_scaled]\n",
        "input_test = input[split_scaled:]\n",
        "output_scaled = output[:split_scaled]\n",
        "output_test = output[split_scaled:]\n",
        "\n",
        "print(len(input_scaled))\n",
        "print(len(input_test))"
      ],
      "execution_count": 10,
      "outputs": [
        {
          "output_type": "stream",
          "text": [
            "72\n",
            "36\n"
          ],
          "name": "stdout"
        }
      ]
    },
    {
      "cell_type": "code",
      "metadata": {
        "colab": {
          "base_uri": "https://localhost:8080/"
        },
        "id": "SXxd1abdfbgx",
        "outputId": "085ab87c-d9e3-44cf-f9ad-8976241c9cc6"
      },
      "source": [
        "# Normalisasi data\n",
        "split_valid = 36\n",
        "\n",
        "scaler_input = MinMaxScaler()\n",
        "scaler_input.fit(input_scaled)\n",
        "input_train_scaled = scaler_input.transform(input_scaled[:split_valid])\n",
        "input_valid_scaled = scaler_input.transform(input_scaled[split_valid:])\n",
        "input_test_scaled = scaler_input.transform(input_test)\n",
        "\n",
        "print(input_train_scaled)\n",
        "print(input_valid_scaled)\n",
        "print(input_test_scaled)\n",
        "\n",
        "scaler_output = MinMaxScaler()\n",
        "scaler_output.fit(output_scaled)\n",
        "output_train_scaled = scaler_output.transform(output_scaled[:split_valid])\n",
        "output_valid_scaled = scaler_output.transform(output_scaled[split_valid:])\n",
        "output_test_scaled = scaler_output.transform(output_test)\n",
        "\n",
        "print(output_train_scaled)\n",
        "print(output_valid_scaled)"
      ],
      "execution_count": 11,
      "outputs": [
        {
          "output_type": "stream",
          "text": [
            "[[1.         0.         0.         0.44104803 0.72981651 0.49342404\n",
            "  0.07771261 0.03202578]\n",
            " [1.         0.         0.         0.33624454 0.79678899 0.79138322\n",
            "  0.36656891 0.7469832 ]\n",
            " [1.         0.         0.         0.430131   0.80688073 0.72698413\n",
            "  0.33577713 1.        ]\n",
            " [1.         0.         0.         0.71834061 0.51834862 0.47029478\n",
            "  0.76686217 0.25558149]\n",
            " [1.         0.         0.         0.67248908 0.40275229 0.\n",
            "  0.76246334 0.42093841]\n",
            " [1.         0.         0.         0.48908297 0.47110092 0.20907029\n",
            "  0.77419355 0.60086147]\n",
            " [1.         0.         0.         0.21615721 0.39266055 0.\n",
            "  0.89882698 0.27096965]\n",
            " [1.         0.         0.         0.21834061 0.28440367 0.\n",
            "  0.8856305  0.51524019]\n",
            " [1.         0.         0.         0.51965066 0.11926606 0.03265306\n",
            "  0.74633431 0.66797093]\n",
            " [1.         0.         0.         0.80349345 0.05963303 0.\n",
            "  0.85337243 0.06059909]\n",
            " [1.         0.         0.         0.83842795 0.35779817 0.31609977\n",
            "  0.50439883 0.00917371]\n",
            " [1.         0.         0.         0.73362445 0.53165138 0.73015873\n",
            "  0.12463343 0.01397429]\n",
            " [0.         1.         0.         0.42358079 0.70733945 1.\n",
            "  0.04105572 0.1315227 ]\n",
            " [0.         1.         0.         0.4279476  0.64220183 0.69569161\n",
            "  0.39442815 0.07532963]\n",
            " [0.         1.         0.         0.57641921 0.39357798 0.6276644\n",
            "  0.51906158 0.39683688]\n",
            " [0.         1.         0.         0.8580786  0.25229358 0.28344671\n",
            "  0.84897361 0.40032223]\n",
            " [0.         1.         0.         0.53056769 0.48256881 0.04444444\n",
            "  0.68475073 0.22884951]\n",
            " [0.         1.         0.         0.31441048 0.57889908 0.13650794\n",
            "  0.5659824  0.08782429]\n",
            " [0.         1.         0.         0.1419214  0.53440367 0.20453515\n",
            "  0.59824047 0.19083944]\n",
            " [0.         1.         0.         0.         0.62614679 0.19546485\n",
            "  0.47067449 0.28080097]\n",
            " [0.         1.         0.         0.3209607  0.31009174 0.0739229\n",
            "  0.81818182 0.26682669]\n",
            " [0.         1.         0.         0.6790393  0.19862385 0.00634921\n",
            "  1.         0.20119686]\n",
            " [0.         1.         0.         0.77292576 0.44357798 0.83446712\n",
            "  0.71407625 0.15864926]\n",
            " [0.         1.         0.         0.75982533 0.43715596 0.21088435\n",
            "  0.23167155 0.19268076]\n",
            " [0.         0.         1.         0.31222707 0.8853211  0.27256236\n",
            "  0.         0.08049189]\n",
            " [0.         0.         1.         0.18122271 1.         0.55782313\n",
            "  0.13929619 0.17252491]\n",
            " [0.         0.         1.         0.33406114 0.90963303 0.36054422\n",
            "  0.41642229 0.91589123]\n",
            " [0.         0.         1.         0.5720524  0.68348624 0.14557823\n",
            "  0.74193548 0.54914017]\n",
            " [0.         0.         1.         0.57641921 0.43256881 0.030839\n",
            "  0.71847507 0.04448755]\n",
            " [0.         0.         1.         0.45851528 0.35183486 0.01587302\n",
            "  0.69354839 0.20553711]\n",
            " [0.         0.         1.         0.31222707 0.16743119 0.02312925\n",
            "  0.85777126 0.23976589]\n",
            " [0.         0.         1.         0.32969432 0.01513761 0.\n",
            "  0.88269795 0.11541117]\n",
            " [0.         0.         1.         0.55895197 0.         0.00272109\n",
            "  0.74486804 0.23677375]\n",
            " [0.         0.         1.         0.75764192 0.04495413 0.02494331\n",
            "  0.73900293 0.30408049]\n",
            " [0.         0.         1.         0.76419214 0.31651376 0.21632653\n",
            "  0.59824047 0.07394864]\n",
            " [0.         0.         1.         0.51965066 0.65458716 0.36553288\n",
            "  0.21260997 0.05158978]]\n",
            "[[1.         0.         0.         0.47379913 0.75366972 0.73741497\n",
            "  0.23607038 0.08752836]\n",
            " [1.         0.         0.         0.50873362 0.74449541 0.78684807\n",
            "  0.41935484 0.28487818]\n",
            " [1.         0.         0.         0.43886463 0.82568807 0.51927438\n",
            "  0.28739003 0.96284484]\n",
            " [1.         0.         0.         0.58951965 0.82110092 0.58004535\n",
            "  0.46627566 0.69845132]\n",
            " [1.         0.         0.         0.60917031 0.53256881 0.08163265\n",
            "  0.83284457 0.16272647]\n",
            " [1.         0.         0.         0.31877729 0.48761468 0.\n",
            "  0.7829912  0.69312465]\n",
            " [1.         0.         0.         0.1790393  0.4266055  0.00136054\n",
            "  0.83431085 0.41196199]\n",
            " [1.         0.         0.         0.21615721 0.30229358 0.\n",
            "  0.9516129  0.53342321]\n",
            " [1.         0.         0.         0.3558952  0.23853211 0.\n",
            "  0.93255132 0.46598494]\n",
            " [1.         0.         0.         0.70305677 0.10550459 0.\n",
            "  0.96187683 0.124552  ]\n",
            " [1.         0.         0.         1.         0.09311927 0.0399093\n",
            "  0.87536657 0.03087495]\n",
            " [1.         0.         0.         0.91484716 0.42155963 0.32108844\n",
            "  0.54398827 0.        ]\n",
            " [0.         1.         0.         0.52620087 0.66559633 0.48571429\n",
            "  0.29912023 0.23503107]\n",
            " [0.         1.         0.         0.58515284 0.51651376 0.22131519\n",
            "  0.49266862 0.08936968]\n",
            " [0.         1.         0.         0.49126638 0.66192661 0.39818594\n",
            "  0.30351906 0.23595173]\n",
            " [0.         1.         0.         0.6419214  0.62981651 0.48979592\n",
            "  0.58504399 0.50531023]\n",
            " [0.         1.         0.         0.54148472 0.57293578 0.05124717\n",
            "  0.7771261  0.30638214]\n",
            " [0.         1.         0.         0.19432314 0.60091743 0.03356009\n",
            "  0.66715543 0.0974912 ]\n",
            " [0.         1.         0.         0.04366812 0.59220183 0.\n",
            "  0.68768328 0.09084931]\n",
            " [0.         1.         0.         0.06331878 0.52889908 0.01768707\n",
            "  0.74046921 0.20921974]\n",
            " [0.         1.         0.         0.12445415 0.55045872 0.05396825\n",
            "  0.8431085  0.27764443]\n",
            " [0.         1.         0.         0.5349345  0.27568807 0.\n",
            "  0.97360704 0.27872949]\n",
            " [0.         1.         0.         0.78820961 0.22798165 0.00589569\n",
            "  0.98533724 0.12008023]\n",
            " [0.         1.         0.         0.98034934 0.19587156 0.02539683\n",
            "  0.74633431 0.07329103]\n",
            " [0.         0.         1.         0.34279476 0.89862385 0.70340136\n",
            "  0.18621701 0.11051195]\n",
            " [0.         0.         1.         0.42576419 0.86743119 0.37188209\n",
            "  0.49706745 0.18140269]\n",
            " [0.         0.         1.         0.30786026 0.8912844  0.45442177\n",
            "  0.36656891 0.42567323]\n",
            " [0.         0.         1.         0.52838428 0.81055046 0.73650794\n",
            "  0.60703812 0.90234439]\n",
            " [0.         0.         1.         0.5349345  0.57752294 0.30294785\n",
            "  0.85923754 0.20563575]\n",
            " [0.         0.         1.         0.33842795 0.38669725 0.00907029\n",
            "  0.77272727 0.10827607]\n",
            " [0.         0.         1.         0.17030568 0.33211009 0.01088435\n",
            "  0.79765396 0.22723835]\n",
            " [0.         0.         1.         0.22489083 0.23853211 0.\n",
            "  0.85777126 0.15677506]\n",
            " [0.         0.         1.         0.35152838 0.20321101 0.\n",
            "  0.88416422 0.09088219]\n",
            " [0.         0.         1.         0.69432314 0.05504587 0.00952381\n",
            "  0.80938416 0.31867951]\n",
            " [0.         0.         1.         0.90174672 0.09495413 0.15147392\n",
            "  0.93255132 0.08483214]\n",
            " [0.         0.         1.         0.74235808 0.51559633 0.18231293\n",
            "  0.5483871  0.02436458]]\n",
            "[[ 1.          0.          0.          0.59170306  0.74036697  0.51927438\n",
            "   0.31231672 -0.00256469]\n",
            " [ 1.          0.          0.          0.43886463  0.9059633   0.85442177\n",
            "   0.26539589  0.07447473]\n",
            " [ 1.          0.          0.          0.55021834  0.82889908  0.47755102\n",
            "   0.3856305   0.87008845]\n",
            " [ 1.          0.          0.          0.62663755  0.77522936  0.60861678\n",
            "   0.4941349   0.93614573]\n",
            " [ 1.          0.          0.          0.59388646  0.77431193  0.82222222\n",
            "   0.60557185  0.2598231 ]\n",
            " [ 1.          0.          0.          0.43886463  0.64036697  0.08208617\n",
            "   0.66129032  0.38407918]\n",
            " [ 1.          0.          0.          0.35152838  0.48027523  0.00453515\n",
            "   0.7829912   0.51445106]\n",
            " [ 1.          0.          0.          0.40829694  0.46192661  0.0399093\n",
            "   0.84164223  0.93183836]\n",
            " [ 1.          0.          0.          0.66593886  0.23761468  0.\n",
            "   0.89442815  0.45299707]\n",
            " [ 1.          0.          0.          0.76637555  0.33348624  0.09024943\n",
            "   0.60410557  0.2227337 ]\n",
            " [ 1.          0.          0.          0.76419214  0.5059633   0.30385488\n",
            "   0.49560117  0.01022589]\n",
            " [ 1.          0.          0.          0.34716157  0.88807339  0.99047619\n",
            "   0.05278592 -0.00177556]\n",
            " [ 0.          1.          0.          0.6768559   0.40458716  0.24716553\n",
            "   0.53519062  0.15677506]\n",
            " [ 0.          1.          0.          0.53275109  0.65091743  0.49977324\n",
            "   0.40469208  0.06092789]\n",
            " [ 0.          1.          0.          0.53056769  0.67981651  0.40045351\n",
            "   0.39002933  0.0553053 ]\n",
            " [ 0.          1.          0.          0.70742358  0.52293578  0.08027211\n",
            "   0.59530792  0.37128859]\n",
            " [ 0.          1.          0.          0.53930131  0.72247706  0.35192744\n",
            "   0.47800587  0.53253543]\n",
            " [ 0.          1.          0.          0.28384279  0.65275229  0.15283447\n",
            "   0.66568915  0.2307237 ]\n",
            " [ 0.          1.          0.          0.1419214   0.66834862  0.14285714\n",
            "   0.64222874  0.07815737]\n",
            " [ 0.          1.          0.          0.15065502  0.70321101  0.11519274\n",
            "   0.65982405  0.13333114]\n",
            " [ 0.          1.          0.          0.31659389  0.60183486  0.11564626\n",
            "   0.79178886  0.30187749]\n",
            " [ 0.          1.          0.          0.40829694  0.68394495  0.46666667\n",
            "   0.57771261  0.46220366]\n",
            " [ 0.          1.          0.          0.64847162  0.52614679  0.08571429\n",
            "   0.63196481  0.14746983]\n",
            " [ 0.          1.          0.          0.36462882  0.72110092  0.26031746\n",
            "   0.15249267  0.10426462]\n",
            " [ 0.          0.          1.          0.51746725  0.74633028  0.18095238\n",
            "   0.28005865  0.09114523]\n",
            " [ 0.          0.          1.          0.4650655   0.83807339  0.36961451\n",
            "   0.28592375  0.19199027]\n",
            " [ 0.          0.          1.          0.55895197  0.78761468  0.34421769\n",
            "   0.52639296  0.33498833]\n",
            " [ 0.          0.          1.          0.55458515  0.85        0.46077098\n",
            "   0.52052786  0.68697596]\n",
            " [ 0.          0.          1.          0.55676856  0.79633028  0.18956916\n",
            "   0.58504399  0.49797784]\n",
            " [ 0.          0.          1.          0.42139738  0.65458716  0.05578231\n",
            "   0.63929619  0.13744123]\n",
            " [ 0.          0.          1.          0.33624454  0.44266055  0.08253968\n",
            "   0.78005865  0.17479367]\n",
            " [ 0.          0.          1.          0.36681223  0.47844037  0.13151927\n",
            "   0.86363636  0.22533127]\n",
            " [ 0.          0.          1.          0.59606987  0.26330275  0.01814059\n",
            "   0.82404692  0.16456778]\n",
            " [ 0.          0.          1.          0.66812227  0.33348624  0.08843537\n",
            "   0.48973607  0.29270378]\n",
            " [ 0.          0.          1.          0.68777293  0.51834862  0.40453515\n",
            "   0.54252199  0.04409299]\n",
            " [ 0.          0.          1.          0.33406114  0.85275229  0.59002268\n",
            "   0.02346041  0.03468911]]\n",
            "[[0.03126933]\n",
            " [0.74710517]\n",
            " [1.        ]\n",
            " [0.25508412]\n",
            " [0.36423969]\n",
            " [0.52029461]\n",
            " [0.23335645]\n",
            " [0.44686853]\n",
            " [0.65686438]\n",
            " [0.05864307]\n",
            " [0.00799785]\n",
            " [0.0127295 ]\n",
            " [0.1251146 ]\n",
            " [0.07108866]\n",
            " [0.38023443]\n",
            " [0.38357899]\n",
            " [0.21743078]\n",
            " [0.08256774]\n",
            " [0.18107935]\n",
            " [0.26713706]\n",
            " [0.23110806]\n",
            " [0.17365432]\n",
            " [0.13638014]\n",
            " [0.16618437]\n",
            " [0.06374733]\n",
            " [0.14016349]\n",
            " [0.75753709]\n",
            " [0.45288765]\n",
            " [0.03787396]\n",
            " [0.18323265]\n",
            " [0.21407703]\n",
            " [0.1019312 ]\n",
            " [0.25352315]\n",
            " [0.32585866]\n",
            " [0.07934487]\n",
            " [0.05538948]]\n",
            "[[0.07809479]\n",
            " [0.25863826]\n",
            " [0.878262  ]\n",
            " [0.63630538]\n",
            " [0.13731234]\n",
            " [0.59464782]\n",
            " [0.35186055]\n",
            " [0.45736865]\n",
            " [0.49382032]\n",
            " [0.13198555]\n",
            " [0.03270343]\n",
            " [0.        ]\n",
            " [0.20175567]\n",
            " [0.07511504]\n",
            " [0.20258255]\n",
            " [0.43677761]\n",
            " [0.24168348]\n",
            " [0.07450352]\n",
            " [0.06918872]\n",
            " [0.16392146]\n",
            " [0.22436467]\n",
            " [0.22524995]\n",
            " [0.0951984 ]\n",
            " [0.05682683]\n",
            " [0.08713252]\n",
            " [0.14514289]\n",
            " [0.34499205]\n",
            " [0.7348085 ]\n",
            " [0.15583457]\n",
            " [0.08024783]\n",
            " [0.17265549]\n",
            " [0.11788646]\n",
            " [0.10620113]\n",
            " [0.36923862]\n",
            " [0.09920621]\n",
            " [0.02939722]]\n"
          ],
          "name": "stdout"
        }
      ]
    },
    {
      "cell_type": "code",
      "metadata": {
        "colab": {
          "base_uri": "https://localhost:8080/"
        },
        "id": "Rn43A1kTfxLy",
        "outputId": "df71f4be-6421-40dd-c16e-7c08440b51ec"
      },
      "source": [
        "# Input dari data testing\n",
        "testing_data=[]\n",
        "counter=0\n",
        "number_of_testing=[]\n",
        "number=1\n",
        "\n",
        "for x in input_test_scaled:\n",
        "  testing_data.append([])\n",
        "  for y in x:\n",
        "    testing_data[counter].append(y)\n",
        "  counter+=1\n",
        "  number_of_testing.append(number)\n",
        "  number+=1\n",
        "\n",
        "total_of_testing=len(input_test_scaled)\n",
        "print(total_of_testing)\n",
        "print(number_of_testing)"
      ],
      "execution_count": 12,
      "outputs": [
        {
          "output_type": "stream",
          "text": [
            "36\n",
            "[1, 2, 3, 4, 5, 6, 7, 8, 9, 10, 11, 12, 13, 14, 15, 16, 17, 18, 19, 20, 21, 22, 23, 24, 25, 26, 27, 28, 29, 30, 31, 32, 33, 34, 35, 36]\n"
          ],
          "name": "stdout"
        }
      ]
    },
    {
      "cell_type": "code",
      "metadata": {
        "colab": {
          "base_uri": "https://localhost:8080/"
        },
        "id": "SqR-2CeXDCpj",
        "outputId": "b96ec22f-682e-4c9c-e118-701a19c7b599"
      },
      "source": [
        "# Output dari data validasi\n",
        "output_test_transform=[]\n",
        "counter=0\n",
        "\n",
        "for i in output_test_scaled:\n",
        "  output_test_transform.append([])\n",
        "  for x in i:\n",
        "    output_test_transform[counter].append([])\n",
        "    output_test_transform[counter][0].append(i[0])\n",
        "  counter+=1\n",
        "\n",
        "print(output_test_transform)"
      ],
      "execution_count": 13,
      "outputs": [
        {
          "output_type": "stream",
          "text": [
            "[[[-0.0038809571335021234]], [[0.06980198626563151]], [[0.8291226743147699]], [[0.8925030904080039]], [[0.21090572592195714]], [[0.3129455702984651]], [[0.4204705824674938]], [[0.7653249218205567]], [[0.47984598737222517]], [[0.23605271728282226]], [[0.010825095163555247]], [[-0.0018817345505863902]], [[0.12881030672956043]], [[0.048247309681644195]], [[0.04350025038433119]], [[0.3091092621191269]], [[0.4421044015114109]], [[0.18983028144599576]], [[0.062279600505671294]], [[0.10840380864333717]], [[0.24422198759634542]], [[0.3756634309306943]], [[0.1176319595462966]], [[0.08221894796558354]], [[0.07315669856878217]], [[0.15744709536666424]], [[0.27697260830435527]], [[0.5711679816221403]], [[0.3619955105914323]], [[0.09673554862183562]], [[0.12422372102633061]], [[0.16139126141174742]], [[0.19128513697598762]], [[0.3392485318373307]], [[0.05219191346157213]], [[0.04133757761038798]]]\n"
          ],
          "name": "stdout"
        }
      ]
    },
    {
      "cell_type": "code",
      "metadata": {
        "colab": {
          "base_uri": "https://localhost:8080/"
        },
        "id": "ICBQpiycf4ru",
        "outputId": "6d5cc794-21dc-4f84-b9f7-1bac2eeaa8e6"
      },
      "source": [
        "# Prediksi data testing\n",
        "output_prediksi=[]\n",
        "output_testing=[]\n",
        "\n",
        "for i in range(total_of_testing):\n",
        "  input_prediksi=[]\n",
        "  input_prediksi.append([])\n",
        "  for y in testing_data[i]:\n",
        "    input_prediksi[0].append(y)\n",
        "  prediksi = model.predict(input_prediksi)\n",
        "  prediksi = scaler_output.inverse_transform(prediksi)\n",
        "  output_prediksi.append(prediksi[0][0])\n",
        "  testing = scaler_output.inverse_transform(output_test_transform[i])\n",
        "  output_testing.append(testing[0][0])\n",
        "\n",
        "print(output_prediksi)\n",
        "print(output_testing)"
      ],
      "execution_count": 14,
      "outputs": [
        {
          "output_type": "stream",
          "text": [
            "[2517.6472, 10189.154, 95160.05, 104076.016, 29561.496, 36981.023, 50940.094, 96996.72, 48888.14, 24792.883, 2061.7888, 6766.211, 17623.87, 8805.479, 8318.456, 38952.5, 54911.598, 25786.986, 11446.963, 16524.033, 32848.664, 48619.492, 17353.303, 11922.857, 9315.738, 17797.85, 32587.889, 69221.9, 48158.613, 12166.544, 17370.115, 22133.229, 18861.371, 33360.46, 7825.9917, 6921.986]\n",
            "[1194.46, 9610.85, 96343.8, 103583.39, 25728.34, 37383.78, 49665.76, 89056.54, 56447.88, 28600.74, 2874.25, 1422.82, 16351.04, 7148.78, 6606.55, 36945.58, 52136.87, 23321.01, 8751.61, 14020.12, 29533.87, 44547.69, 15074.2, 11029.17, 9994.04, 19622.06, 33274.79, 66879.08, 42986.48, 12687.32, 15827.139999999998, 20072.58, 23487.19, 40388.22, 7599.349999999999, 6359.52]\n"
          ],
          "name": "stdout"
        }
      ]
    },
    {
      "cell_type": "code",
      "metadata": {
        "id": "EX53wZ35jSiW"
      },
      "source": [
        "# Split output prediksi dan validasi berdasarkan Kabupaten\n",
        "output_prediksi_lamongan = output_prediksi[:12]\n",
        "output_prediksi_banyuwangi = output_prediksi[12:24]\n",
        "output_prediksi_tuban = output_prediksi[24:36]\n",
        "output_testing_lamongan = output_testing[:12]\n",
        "output_testing_banyuwangi = output_testing[12:24]\n",
        "output_testing_tuban = output_testing[24:36]\n",
        "number_of_testing = number_of_testing[:12]"
      ],
      "execution_count": 15,
      "outputs": []
    },
    {
      "cell_type": "code",
      "metadata": {
        "id": "7yMucMFnjVkc",
        "colab": {
          "base_uri": "https://localhost:8080/",
          "height": 851
        },
        "outputId": "9378ee29-118a-491a-f7e2-69531831679d"
      },
      "source": [
        "# Grafik garis dari total produksi beras tiap Kabupaten\n",
        "\n",
        "# Kabupaten Lamongan\n",
        "plt.plot(number_of_testing,output_prediksi_lamongan,marker='o')\n",
        "plt.plot(number_of_testing,output_testing_lamongan,marker='o')\n",
        "plt.title('Data Asli vs Prediksi Kabupaten Lamongan (2020)')\n",
        "plt.ylabel('Ton')\n",
        "plt.xlabel('Bulan')\n",
        "plt.show()\n",
        "\n",
        "# Kabupaten Banyuwangi\n",
        "plt.plot(number_of_testing,output_prediksi_banyuwangi,marker='o')\n",
        "plt.plot(number_of_testing,output_testing_banyuwangi,marker='o')\n",
        "plt.title('Data Asli vs Prediksi Kabupaten Banyuwangi (2020)')\n",
        "plt.ylabel('Ton')\n",
        "plt.xlabel('Bulan')\n",
        "plt.show()\n",
        "\n",
        "# Kabupaten Tuban\n",
        "plt.plot(number_of_testing,output_prediksi_tuban,marker='o')\n",
        "plt.plot(number_of_testing,output_testing_tuban,marker='o')\n",
        "plt.title('Data Asli vs Prediksi Kabupaten Tuban (2020)')\n",
        "plt.ylabel('Ton')\n",
        "plt.xlabel('Bulan')\n",
        "plt.show()"
      ],
      "execution_count": 16,
      "outputs": [
        {
          "output_type": "display_data",
          "data": {
            "image/png": "[encoded data removed]",
            "text/plain": [
              "<Figure size 432x288 with 1 Axes>"
            ]
          },
          "metadata": {
            "tags": [],
            "needs_background": "light"
          }
        },
        {
          "output_type": "display_data",
          "data": {
            "image/png": "[encoded data removed]",
            "text/plain": [
              "<Figure size 432x288 with 1 Axes>"
            ]
          },
          "metadata": {
            "tags": [],
            "needs_background": "light"
          }
        },
        {
          "output_type": "display_data",
          "data": {
            "image/png": "[encoded data removed]",
            "text/plain": [
              "<Figure size 432x288 with 1 Axes>"
            ]
          },
          "metadata": {
            "tags": [],
            "needs_background": "light"
          }
        }
      ]
    },
    {
      "cell_type": "code",
      "metadata": {
        "id": "DrPXoloikACs"
      },
      "source": [
        "# Input data Konsumsi\n",
        "input_konsumsi = []\n",
        "number=1\n",
        "\n",
        "# Baca file.csv\n",
        "with open('/content/Database.csv') as csv_file:\n",
        "  csv_reader = csv.reader(csv_file, delimiter=',')\n",
        "  next(csv_reader)\n",
        "  for row in csv_reader:\n",
        "    input_konsumsi.append(float(row[15]))\n",
        "    number+=1\n",
        "\n",
        "input_konsumsi_testing_lamongan = input_konsumsi[72:84]\n",
        "input_konsumsi_testing_banyuwangi = input_konsumsi[84:96]\n",
        "input_konsumsi_testing_tuban = input_konsumsi[96:108]"
      ],
      "execution_count": 17,
      "outputs": []
    },
    {
      "cell_type": "code",
      "metadata": {
        "id": "3WJevhigkINR",
        "colab": {
          "base_uri": "https://localhost:8080/"
        },
        "outputId": "9e4ed741-dd56-4c3d-999a-8cbca338309d"
      },
      "source": [
        "# Output Saran Kabupaten Lamongan\n",
        "counter=0\n",
        "\n",
        "for i in output_prediksi_lamongan:\n",
        "  total_beras_distribusi_lamongan = i - input_konsumsi_testing_lamongan[counter]\n",
        "  if (total_beras_distribusi_lamongan>0):\n",
        "    print(\"Pada bulan \"+str(counter+1)+\", Kabupaten Lamongan harus mendistribusikan beras sebesar \" +str(total_beras_distribusi_lamongan)+\" ke wilayah lain.\" )\n",
        "  elif (total_beras_distribusi_lamongan<0):\n",
        "    print(\"Pada bulan \"+str(counter+1)+\", Kabupaten Lamongan harus didistribusikan beras sebesar \" +str(abs(total_beras_distribusi_lamongan))+\" dari wilayah lain.\" )\n",
        "  else:\n",
        "    print(\"Pada bulan \"+str(counter+1)+\", Kabupaten Lamongan tidak perlu mendistribusikan atau didistribusikan beras.\")\n",
        "  counter+=1"
      ],
      "execution_count": 18,
      "outputs": [
        {
          "output_type": "stream",
          "text": [
            "Pada bulan 1, Kabupaten Lamongan harus didistribusikan beras sebesar 9381.802383203125 dari wilayah lain.\n",
            "Pada bulan 2, Kabupaten Lamongan harus didistribusikan beras sebesar 1049.2147731250006 dari wilayah lain.\n",
            "Pada bulan 3, Kabupaten Lamongan harus mendistribusikan beras sebesar 83260.59727500001 ke wilayah lain.\n",
            "Pada bulan 4, Kabupaten Lamongan harus mendistribusikan beras sebesar 92507.106295 ke wilayah lain.\n",
            "Pada bulan 5, Kabupaten Lamongan harus mendistribusikan beras sebesar 17662.04649375 ke wilayah lain.\n",
            "Pada bulan 6, Kabupaten Lamongan harus mendistribusikan beras sebesar 25412.114107499998 ke wilayah lain.\n",
            "Pada bulan 7, Kabupaten Lamongan harus mendistribusikan beras sebesar 39040.64415 ke wilayah lain.\n",
            "Pada bulan 8, Kabupaten Lamongan harus mendistribusikan beras sebesar 85097.26915000001 ke wilayah lain.\n",
            "Pada bulan 9, Kabupaten Lamongan harus mendistribusikan beras sebesar 37319.231295 ke wilayah lain.\n",
            "Pada bulan 10, Kabupaten Lamongan harus mendistribusikan beras sebesar 12893.4332125 ke wilayah lain.\n",
            "Pada bulan 11, Kabupaten Lamongan harus didistribusikan beras sebesar 9507.120511640625 dari wilayah lain.\n",
            "Pada bulan 12, Kabupaten Lamongan harus didistribusikan beras sebesar 5133.2386625 dari wilayah lain.\n"
          ],
          "name": "stdout"
        }
      ]
    },
    {
      "cell_type": "code",
      "metadata": {
        "colab": {
          "base_uri": "https://localhost:8080/"
        },
        "id": "SvqPjANdmzcj",
        "outputId": "19cea058-1ccc-4401-ca81-e7c97f0e28a5"
      },
      "source": [
        "# Output Saran Kabupaten Banyuwangi\n",
        "counter=0\n",
        "\n",
        "for i in output_prediksi_banyuwangi:\n",
        "  total_beras_distribusi_banyuwangi = i - input_konsumsi_testing_banyuwangi[counter]\n",
        "  if (total_beras_distribusi_banyuwangi>0):\n",
        "    print(\"Pada bulan \"+str(counter+1)+\", Kabupaten Banyuwangi harus mendistribusikan beras sebesar \" +str(total_beras_distribusi_banyuwangi)+\" ke wilayah lain.\" )\n",
        "  elif (total_beras_distribusi_banyuwangi<0):\n",
        "    print(\"Pada bulan \"+str(counter+1)+\", Kabupaten Banyuwangi harus didistribusikan beras sebesar \" +str(abs(total_beras_distribusi_banyuwangi))+\" dari wilayah lain.\" )\n",
        "  else:\n",
        "    print(\"Pada bulan \"+str(counter+1)+\", Kabupaten Banyuwangi tidak perlu mendistribusikan atau didistribusikan beras.\")\n",
        "  counter+=1"
      ],
      "execution_count": 19,
      "outputs": [
        {
          "output_type": "stream",
          "text": [
            "Pada bulan 1, Kabupaten Banyuwangi harus mendistribusikan beras sebesar 2502.499030625 ke wilayah lain.\n",
            "Pada bulan 2, Kabupaten Banyuwangi harus didistribusikan beras sebesar 5475.815474375 dari wilayah lain.\n",
            "Pada bulan 3, Kabupaten Banyuwangi harus didistribusikan beras sebesar 6802.9140553125 dari wilayah lain.\n",
            "Pada bulan 4, Kabupaten Banyuwangi harus mendistribusikan beras sebesar 24251.16795 ke wilayah lain.\n",
            "Pada bulan 5, Kabupaten Banyuwangi harus mendistribusikan beras sebesar 39790.22754625 ke wilayah lain.\n",
            "Pada bulan 6, Kabupaten Banyuwangi harus mendistribusikan beras sebesar 11085.654278125 ke wilayah lain.\n",
            "Pada bulan 7, Kabupaten Banyuwangi harus didistribusikan beras sebesar 3674.407219375 dari wilayah lain.\n",
            "Pada bulan 8, Kabupaten Banyuwangi harus mendistribusikan beras sebesar 1402.6630931250002 ke wilayah lain.\n",
            "Pada bulan 9, Kabupaten Banyuwangi harus mendistribusikan beras sebesar 18147.3320125 ke wilayah lain.\n",
            "Pada bulan 10, Kabupaten Banyuwangi harus mendistribusikan beras sebesar 33498.1220775 ke wilayah lain.\n",
            "Pada bulan 11, Kabupaten Banyuwangi harus mendistribusikan beras sebesar 2651.970684374999 ke wilayah lain.\n",
            "Pada bulan 12, Kabupaten Banyuwangi harus didistribusikan beras sebesar 3198.512688125 dari wilayah lain.\n"
          ],
          "name": "stdout"
        }
      ]
    },
    {
      "cell_type": "code",
      "metadata": {
        "colab": {
          "base_uri": "https://localhost:8080/"
        },
        "id": "LiVhus2Sm2oY",
        "outputId": "d63cc6a8-5b99-40f3-f3d4-f7c0511e59a4"
      },
      "source": [
        "# Output Saran Kabupaten Tuban\n",
        "counter=0\n",
        "\n",
        "for i in output_prediksi_tuban:\n",
        "  total_beras_distribusi_tuban = i - input_konsumsi_testing_tuban[counter]\n",
        "  if (total_beras_distribusi_tuban>0):\n",
        "    print(\"Pada bulan \"+str(counter+1)+\", Kabupaten Tuban harus mendistribusikan beras sebesar \" +str(total_beras_distribusi_tuban)+\" ke wilayah lain.\" )\n",
        "  elif (total_beras_distribusi_tuban<0):\n",
        "    print(\"Pada bulan \"+str(counter+1)+\", Kabupaten Tuban harus didistribusikan beras sebesar \" +str(abs(total_beras_distribusi_tuban))+\" dari wilayah lain.\" )\n",
        "  else:\n",
        "    print(\"Pada bulan \"+str(counter+1)+\", Kabupaten Tuban tidak perlu mendistribusikan atau didistribusikan beras.\")\n",
        "  counter+=1"
      ],
      "execution_count": 20,
      "outputs": [
        {
          "output_type": "stream",
          "text": [
            "Pada bulan 1, Kabupaten Tuban harus didistribusikan beras sebesar 1289.86698875 dari wilayah lain.\n",
            "Pada bulan 2, Kabupaten Tuban harus mendistribusikan beras sebesar 7781.444629375001 ke wilayah lain.\n",
            "Pada bulan 3, Kabupaten Tuban harus mendistribusikan beras sebesar 21982.283401875 ke wilayah lain.\n",
            "Pada bulan 4, Kabupaten Tuban harus mendistribusikan beras sebesar 58910.8933075 ke wilayah lain.\n",
            "Pada bulan 5, Kabupaten Tuban harus mendistribusikan beras sebesar 37553.00801125 ke wilayah lain.\n",
            "Pada bulan 6, Kabupaten Tuban harus mendistribusikan beras sebesar 1855.5388153125004 ke wilayah lain.\n",
            "Pada bulan 7, Kabupaten Tuban harus mendistribusikan beras sebesar 6764.509964375 ke wilayah lain.\n",
            "Pada bulan 8, Kabupaten Tuban harus mendistribusikan beras sebesar 11527.623245625 ke wilayah lain.\n",
            "Pada bulan 9, Kabupaten Tuban harus mendistribusikan beras sebesar 8550.36596375 ke wilayah lain.\n",
            "Pada bulan 10, Kabupaten Tuban harus mendistribusikan beras sebesar 22754.8556675 ke wilayah lain.\n",
            "Pada bulan 11, Kabupaten Tuban harus didistribusikan beras sebesar 2485.0134307812496 dari wilayah lain.\n",
            "Pada bulan 12, Kabupaten Tuban harus didistribusikan beras sebesar 3683.61943015625 dari wilayah lain.\n"
          ],
          "name": "stdout"
        }
      ]
    }
  ]
}