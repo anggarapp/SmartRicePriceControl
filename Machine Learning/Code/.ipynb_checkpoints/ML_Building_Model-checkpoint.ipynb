{
 "cells": [
  {
   "cell_type": "markdown",
   "metadata": {
    "colab_type": "text",
    "id": "view-in-github"
   },
   "source": [
    "<a href=\"https://colab.research.google.com/github/u1-byte/SmartRicePriceControl/blob/main/Machine%20Learning/Code/ML_Building_Model.ipynb\" target=\"_parent\"><img src=\"https://colab.research.google.com/assets/colab-badge.svg\" alt=\"Open In Colab\"/></a>"
   ]
  },
  {
   "cell_type": "markdown",
   "metadata": {
    "id": "E08FCNdBI07P"
   },
   "source": [
    "MODEL UNTUK MEMPREDIKSI TOTAL PRODUKSI BERAS PADA WILAYAH TERTENTU\n",
    "\n",
    "1.   Input : Suhu, kelembaban, curah hujan, lama penyinaran, luas lahan\n",
    "2.   Output : Total produksi beras\n",
    "3.   Scope Input dan Output :  Data diambail rata rata dalam tiap bulan pada 3 kabupaten (Lamongan, Banyuwangi, Tuban) di Jawa Timur \n",
    "4.   Sumber : https://dataonline.bmkg.go.id/data_iklim,  https://jatim.bps.go.id/publication/2020/12/28/53ad74b4263660ce4adf0ed3/analisis-data-beras-provinsi-jawa-timur-2018-2020.html"
   ]
  },
  {
   "cell_type": "code",
   "execution_count": 1,
   "metadata": {
    "id": "HN9u944mIpAP"
   },
   "outputs": [
    {
     "ename": "ModuleNotFoundError",
     "evalue": "No module named 'google.colab'",
     "output_type": "error",
     "traceback": [
      "\u001b[0;31m---------------------------------------------------------------------------\u001b[0m",
      "\u001b[0;31mModuleNotFoundError\u001b[0m                       Traceback (most recent call last)",
      "\u001b[0;32m<ipython-input-1-b19bc4509536>\u001b[0m in \u001b[0;36m<module>\u001b[0;34m\u001b[0m\n\u001b[1;32m      4\u001b[0m \u001b[0;32mimport\u001b[0m \u001b[0mnumpy\u001b[0m \u001b[0;32mas\u001b[0m \u001b[0mnp\u001b[0m\u001b[0;34m\u001b[0m\u001b[0;34m\u001b[0m\u001b[0m\n\u001b[1;32m      5\u001b[0m \u001b[0;32mimport\u001b[0m \u001b[0mmatplotlib\u001b[0m\u001b[0;34m.\u001b[0m\u001b[0mpyplot\u001b[0m \u001b[0;32mas\u001b[0m \u001b[0mplt\u001b[0m\u001b[0;34m\u001b[0m\u001b[0;34m\u001b[0m\u001b[0m\n\u001b[0;32m----> 6\u001b[0;31m \u001b[0;32mfrom\u001b[0m \u001b[0mgoogle\u001b[0m\u001b[0;34m.\u001b[0m\u001b[0mcolab\u001b[0m \u001b[0;32mimport\u001b[0m \u001b[0mfiles\u001b[0m\u001b[0;34m\u001b[0m\u001b[0;34m\u001b[0m\u001b[0m\n\u001b[0m\u001b[1;32m      7\u001b[0m \u001b[0;32mimport\u001b[0m \u001b[0mcsv\u001b[0m\u001b[0;34m\u001b[0m\u001b[0;34m\u001b[0m\u001b[0m\n\u001b[1;32m      8\u001b[0m \u001b[0;32mfrom\u001b[0m \u001b[0msklearn\u001b[0m\u001b[0;34m.\u001b[0m\u001b[0mpreprocessing\u001b[0m \u001b[0;32mimport\u001b[0m \u001b[0mMinMaxScaler\u001b[0m\u001b[0;34m\u001b[0m\u001b[0;34m\u001b[0m\u001b[0m\n",
      "\u001b[0;31mModuleNotFoundError\u001b[0m: No module named 'google.colab'"
     ]
    }
   ],
   "source": [
    "#import library yang dibutuhkan\n",
    "import tensorflow as tf\n",
    "from tensorflow import keras\n",
    "import numpy as np\n",
    "import matplotlib.pyplot as plt\n",
    "from google.colab import files\n",
    "import csv\n",
    "from sklearn.preprocessing import MinMaxScaler"
   ]
  },
  {
   "cell_type": "code",
   "execution_count": null,
   "metadata": {
    "colab": {
     "base_uri": "https://localhost:8080/",
     "height": 73,
     "resources": {
      "http://localhost:8080/nbextensions/google.colab/files.js": {
       "data": "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",
       "headers": [
        [
         "content-type",
         "application/javascript"
        ]
       ],
       "ok": true,
       "status": 200,
       "status_text": ""
      }
     }
    },
    "id": "dVUkROMVMIsP",
    "outputId": "b7ace2e0-9e0d-48c6-fc82-1d4c125221ae"
   },
   "outputs": [],
   "source": [
    "# upload file dataset dari lokal\n",
    "uploaded = files.upload()"
   ]
  },
  {
   "cell_type": "markdown",
   "metadata": {
    "id": "rjFhtFNZMvMA"
   },
   "source": [
    "# **Exploratory Data Analysis**"
   ]
  },
  {
   "cell_type": "code",
   "execution_count": null,
   "metadata": {
    "id": "D7sgkXazZudR"
   },
   "outputs": [],
   "source": [
    "input_suhu_max = []\n",
    "input_suhu_min = []\n",
    "input_suhu_ratarata = []\n",
    "input_kelembaban_max = []\n",
    "input_kelembaban_min = []\n",
    "input_kelembaban_ratarata = []\n",
    "input_curah_hujan = []\n",
    "input_lama_penyinaran = []\n",
    "input_luas_lahan = []\n",
    "number_of_input = []\n",
    "number=1\n",
    "\n",
    "#baca file.csv\n",
    "with open('/content/Database.csv') as csv_file:\n",
    "  csv_reader = csv.reader(csv_file, delimiter=',')\n",
    "  next(csv_reader)\n",
    "  for row in csv_reader:\n",
    "    number_of_input.append(number)\n",
    "    input_suhu_max.append(float(row[5]))\n",
    "    input_suhu_min.append(float(row[6]))\n",
    "    input_suhu_ratarata.append(float(row[7]))\n",
    "    input_kelembaban_max.append(float(row[8]))\n",
    "    input_kelembaban_min.append(float(row[9]))\n",
    "    input_kelembaban_ratarata.append(float(row[10]))\n",
    "    input_curah_hujan.append(float(row[11]))\n",
    "    input_lama_penyinaran.append(float(row[12]))\n",
    "    input_luas_lahan.append(float(row[13]))\n",
    "    number+=1"
   ]
  },
  {
   "cell_type": "code",
   "execution_count": null,
   "metadata": {
    "colab": {
     "base_uri": "https://localhost:8080/",
     "height": 1000
    },
    "id": "3mn3HgIAZ2hM",
    "outputId": "222bf27b-c3dd-4f0c-c933-5c15f0255dfb"
   },
   "outputs": [],
   "source": [
    "#Grafik garis dari Suhu\n",
    "plt.plot(number_of_input,input_suhu_max,marker='o')\n",
    "plt.plot(number_of_input,input_suhu_min,marker='o')\n",
    "plt.plot(number_of_input,input_suhu_ratarata,marker='o')\n",
    "plt.title('Suhu (2018 - 2020)')\n",
    "plt.ylabel('C')\n",
    "plt.xlabel('Bulan')\n",
    "plt.show()\n",
    "\n",
    "#Grafik garis dari Kelembaban\n",
    "plt.plot(number_of_input,input_kelembaban_max,marker='o')\n",
    "plt.plot(number_of_input,input_kelembaban_min,marker='o')\n",
    "plt.plot(number_of_input,input_kelembaban_ratarata,marker='o')\n",
    "plt.title('Kelembaban (2018 - 2020)')\n",
    "plt.ylabel('RH')\n",
    "plt.xlabel('Bulan')\n",
    "plt.show()\n",
    "\n",
    "#Grafik garis dari Curah Hujan\n",
    "plt.plot(number_of_input,input_curah_hujan,marker='o')\n",
    "plt.title('Curah Hujan (2018 - 2020)')\n",
    "plt.ylabel('mm')\n",
    "plt.xlabel('Bulan')\n",
    "plt.show()\n",
    "\n",
    "#Grafik garis dari Lama Penyinaran\n",
    "plt.plot(number_of_input,input_lama_penyinaran,marker='o')\n",
    "plt.title('Lama Penyinaran (Cerah) (2018 - 2020)')\n",
    "plt.ylabel('Jam')\n",
    "plt.xlabel('Bulan')\n",
    "plt.show()\n",
    "\n",
    "#Grafik garis dari Luas Lahan\n",
    "plt.plot(number_of_input,input_luas_lahan,marker='o')\n",
    "plt.title('Luas Lahan (2018 - 2020)')\n",
    "plt.ylabel('Ha')\n",
    "plt.xlabel('Bulan')\n",
    "plt.show()"
   ]
  },
  {
   "cell_type": "code",
   "execution_count": null,
   "metadata": {
    "id": "_14aqGKDbAzD"
   },
   "outputs": [],
   "source": [
    "output_total_produksi_beras = []\n",
    "number_of_output = []\n",
    "number=1\n",
    "\n",
    "#read file.csv\n",
    "with open('/content/Database.csv') as csv_file:\n",
    "  csv_reader = csv.reader(csv_file, delimiter=',')\n",
    "  next(csv_reader)\n",
    "  for row in csv_reader:\n",
    "    number_of_output.append(number)\n",
    "    output_total_produksi_beras.append(float(row[14]))\n",
    "    number+=1"
   ]
  },
  {
   "cell_type": "code",
   "execution_count": null,
   "metadata": {
    "colab": {
     "base_uri": "https://localhost:8080/",
     "height": 295
    },
    "id": "SbIcE0Jqbdk5",
    "outputId": "c15872ab-8f3b-45fb-c74c-d80ddd970458"
   },
   "outputs": [],
   "source": [
    "#grafik garis dari harga produsen\n",
    "plt.plot(number_of_output,output_total_produksi_beras,marker='o')\n",
    "plt.title('Total Produksi Beras (2018 - 2020)')\n",
    "plt.ylabel('Ton')\n",
    "plt.xlabel('Bulan')\n",
    "plt.show()"
   ]
  },
  {
   "cell_type": "markdown",
   "metadata": {
    "id": "0LC3V9IDcKhl"
   },
   "source": [
    "# **Data Prepocessing**"
   ]
  },
  {
   "cell_type": "code",
   "execution_count": null,
   "metadata": {
    "colab": {
     "base_uri": "https://localhost:8080/"
    },
    "id": "FbVDuu-EcHvs",
    "outputId": "a04fc581-8f5b-4d63-9f95-1a86d5fca8fa"
   },
   "outputs": [],
   "source": [
    "input = []\n",
    "counter=0\n",
    "\n",
    "#baca file.csv\n",
    "with open('/content/Database 1 Kota.csv') as csv_file:\n",
    "  csv_reader = csv.reader(csv_file, delimiter=',')\n",
    "  next(csv_reader)\n",
    "  for row in csv_reader:\n",
    "    input.append([])\n",
    "    input[counter].append(float(row[2]))\n",
    "    input[counter].append(float(row[3]))\n",
    "    input[counter].append(float(row[4]))\n",
    "    input[counter].append(float(row[5]))\n",
    "    input[counter].append(float(row[6]))\n",
    "    input[counter].append(float(row[7]))\n",
    "    input[counter].append(float(row[8]))\n",
    "    input[counter].append(float(row[9]))\n",
    "    input[counter].append(float(row[10]))\n",
    "    counter+=1\n",
    "\n",
    "input = np.array(input)\n",
    "\n",
    "print(input)"
   ]
  },
  {
   "cell_type": "code",
   "execution_count": null,
   "metadata": {
    "colab": {
     "base_uri": "https://localhost:8080/"
    },
    "id": "5iPDOsJkcoW4",
    "outputId": "6b953f06-553c-4649-878a-8ad92388c80e"
   },
   "outputs": [],
   "source": [
    "output = []\n",
    "counter=0\n",
    "\n",
    "#baca file.csv\n",
    "with open('/content/Database 1 Kota.csv') as csv_file:\n",
    "  csv_reader = csv.reader(csv_file, delimiter=',')\n",
    "  next(csv_reader)\n",
    "  for row in csv_reader:\n",
    "    output.append([])\n",
    "    output[counter].append(float(row[11]))\n",
    "    counter+=1\n",
    "\n",
    "output = np.array(output)\n",
    "\n",
    "print(output)"
   ]
  },
  {
   "cell_type": "code",
   "execution_count": null,
   "metadata": {
    "colab": {
     "base_uri": "https://localhost:8080/"
    },
    "id": "SEdjARcOzVTr",
    "outputId": "a1db4590-0a0b-45fd-d2bf-32dd34702ea8"
   },
   "outputs": [],
   "source": [
    "split_scaled = 24\n",
    "\n",
    "#split data input dan output\n",
    "input_scaled = input[:split_scaled]\n",
    "output_scaled = output[:split_scaled]\n",
    "\n",
    "print(len(input_scaled))"
   ]
  },
  {
   "cell_type": "code",
   "execution_count": null,
   "metadata": {
    "colab": {
     "base_uri": "https://localhost:8080/"
    },
    "id": "IRn_74c-wPF1",
    "outputId": "0b2b3c6f-bc4f-4a51-e92f-274fb8b110bd"
   },
   "outputs": [],
   "source": [
    "split_valid = 12\n",
    "\n",
    "scaler_input = MinMaxScaler()\n",
    "scaler_input.fit(input_scaled)\n",
    "input_train_scaled = scaler_input.transform(input_scaled[:split_valid])\n",
    "input_valid_scaled = scaler_input.transform(input_scaled[split_valid:])\n",
    "\n",
    "print(input_train_scaled)\n",
    "print(input_valid_scaled)\n",
    "\n",
    "scaler_output = MinMaxScaler()\n",
    "scaler_output.fit(output_scaled)\n",
    "output_train_scaled = scaler_output.transform(output_scaled[:split_valid])\n",
    "output_valid_scaled = scaler_output.transform(output_scaled[split_valid:])\n",
    "\n",
    "print(output_train_scaled)\n",
    "print(output_valid_scaled)"
   ]
  },
  {
   "cell_type": "code",
   "execution_count": null,
   "metadata": {
    "id": "-NfcCESwc8U0"
   },
   "outputs": [],
   "source": [
    "#Callbacks\n",
    "class myCallback(tf.keras.callbacks.Callback):\n",
    "  def on_epoch_end(self, epoch, logs={}):\n",
    "    if(logs.get('mae')<0.001):\n",
    "      print(\"The MAE score has reached 100\")\n",
    "      self.model.stop_training = True\n",
    "\n",
    "callbacks = myCallback()"
   ]
  },
  {
   "cell_type": "code",
   "execution_count": null,
   "metadata": {
    "colab": {
     "base_uri": "https://localhost:8080/"
    },
    "id": "gblBrC68c-cE",
    "outputId": "f20349dc-16cf-4fd7-ce97-eb044f6f754d"
   },
   "outputs": [],
   "source": [
    "#model machine learning\n",
    "model = tf.keras.Sequential([\n",
    "          tf.keras.layers.Dense(units = 128, activation=\"relu\", input_dim=9),\n",
    "          tf.keras.layers.Dense(units = 64, activation=\"relu\"),\n",
    "          tf.keras.layers.Dense(units = 1, activation=\"linear\")\n",
    "        ])\n",
    "\n",
    "model.compile(optimizer=\"adam\",\n",
    "              loss=\"mean_squared_error\",\n",
    "              metrics=['mae'])\n",
    "\n",
    "model.summary()\n",
    "\n",
    "fitting_history = model.fit(input_train_scaled, output_train_scaled, epochs = 100, validation_data=(input_valid_scaled,output_valid_scaled), callbacks=[callbacks])"
   ]
  },
  {
   "cell_type": "code",
   "execution_count": null,
   "metadata": {
    "colab": {
     "base_uri": "https://localhost:8080/",
     "height": 314
    },
    "id": "wDZfmEArdHDu",
    "outputId": "285a3f22-7d66-46d5-94e1-efdb9492c4cd"
   },
   "outputs": [],
   "source": [
    "#grafik training dan validation loss\n",
    "training_loss=fitting_history.history['loss']\n",
    "validation_loss=fitting_history.history['val_loss']\n",
    "epochs=range(len(training_loss))\n",
    "\n",
    "plt.plot(epochs, training_loss, 'r', label=\"Training Loss\")\n",
    "plt.plot(epochs, validation_loss, 'b', label=\"Validation Loss\")\n",
    "plt.title('Training and validation loss')\n",
    "plt.legend(loc=0)\n",
    "plt.figure()"
   ]
  },
  {
   "cell_type": "code",
   "execution_count": null,
   "metadata": {
    "colab": {
     "base_uri": "https://localhost:8080/",
     "height": 314
    },
    "id": "X0xB-CjidLaw",
    "outputId": "a3910ab3-82ff-4ba7-fe5f-d9dbe0c96ea0"
   },
   "outputs": [],
   "source": [
    "#grafik training and validation MAE\n",
    "training_mae=fitting_history.history['mae']\n",
    "validation_mae=fitting_history.history['val_mae']\n",
    "epochs=range(len(training_mae))\n",
    "\n",
    "plt.plot(epochs, training_mae, 'r', label=\"Training MAE\")\n",
    "plt.plot(epochs, validation_mae, 'b', label=\"Validation MAE\")\n",
    "plt.title('Training and validation MAE')\n",
    "plt.legend(loc=0)\n",
    "plt.figure()"
   ]
  },
  {
   "cell_type": "code",
   "execution_count": null,
   "metadata": {
    "id": "1FD9fsDjiNSN"
   },
   "outputs": [],
   "source": [
    "model.save('model.h5')"
   ]
  },
  {
   "cell_type": "code",
   "execution_count": null,
   "metadata": {
    "colab": {
     "base_uri": "https://localhost:8080/"
    },
    "id": "UlzWdk67sMDW",
    "outputId": "cf9bcbd9-863c-42b2-a3fa-bb040d4bbce2"
   },
   "outputs": [],
   "source": [
    "validation_data=[]\n",
    "counter=0\n",
    "for x in input_valid_scaled:\n",
    "  validation_data.append([])\n",
    "  for y in x:\n",
    "    validation_data[counter].append(y)\n",
    "  counter+=1\n",
    "\n",
    "validation_data[0]"
   ]
  },
  {
   "cell_type": "code",
   "execution_count": null,
   "metadata": {
    "colab": {
     "base_uri": "https://localhost:8080/"
    },
    "id": "3z9_30oa28zT",
    "outputId": "cb6f1cf6-f014-47ce-97d1-68c8a1f77de1"
   },
   "outputs": [],
   "source": [
    "for i in range(12):\n",
    "  input_prediksi=[]\n",
    "  input_prediksi.append([])\n",
    "  for y in validation_data[i]:\n",
    "    input_prediksi[0].append(y)\n",
    "  harga_prediksi = model.predict(input_prediksi)\n",
    "  harga_prediksi = scaler_output.inverse_transform(harga_prediksi)\n",
    "  print(harga_prediksi)"
   ]
  }
 ],
 "metadata": {
  "colab": {
   "authorship_tag": "ABX9TyMmLmcuH5a41cGkOBWbNu0N",
   "collapsed_sections": [],
   "include_colab_link": true,
   "name": "ML-Building_Model.ipynb",
   "provenance": [],
   "toc_visible": true
  },
  "kernelspec": {
   "display_name": "Python 3",
   "language": "python",
   "name": "python3"
  },
  "language_info": {
   "codemirror_mode": {
    "name": "ipython",
    "version": 3
   },
   "file_extension": ".py",
   "mimetype": "text/x-python",
   "name": "python",
   "nbconvert_exporter": "python",
   "pygments_lexer": "ipython3",
   "version": "3.8.5"
  }
 },
 "nbformat": 4,
 "nbformat_minor": 1
}
